{
  "nbformat": 4,
  "nbformat_minor": 0,
  "metadata": {
    "colab": {
      "provenance": [],
      "authorship_tag": "ABX9TyPEW4Nl8CCu8q0e55DqDFeW",
      "include_colab_link": true
    },
    "kernelspec": {
      "name": "python3",
      "display_name": "Python 3"
    },
    "language_info": {
      "name": "python"
    }
  },
  "cells": [
    {
      "cell_type": "markdown",
      "metadata": {
        "id": "view-in-github",
        "colab_type": "text"
      },
      "source": [
        "<a href=\"https://colab.research.google.com/github/sanjaynagi/rna-seq-meta/blob/main/workflow/notebooks/plot-families-expression.ipynb\" target=\"_parent\"><img src=\"https://colab.research.google.com/assets/colab-badge.svg\" alt=\"Open In Colab\"/></a>"
      ]
    },
    {
      "cell_type": "code",
      "execution_count": 1,
      "metadata": {
        "colab": {
          "base_uri": "https://localhost:8080/"
        },
        "id": "G5zJwWENjU37",
        "outputId": "a6c6a32d-7f6a-4cd6-a7c1-4f34bcaeb58a"
      },
      "outputs": [
        {
          "output_type": "stream",
          "name": "stdout",
          "text": [
            "Cloning into 'rna-seq-meta'...\n",
            "remote: Enumerating objects: 181, done.\u001b[K\n",
            "remote: Counting objects: 100% (122/122), done.\u001b[K\n",
            "remote: Compressing objects: 100% (105/105), done.\u001b[K\n",
            "remote: Total 181 (delta 58), reused 37 (delta 15), pack-reused 59\u001b[K\n",
            "Receiving objects: 100% (181/181), 27.49 MiB | 21.44 MiB/s, done.\n",
            "Resolving deltas: 100% (72/72), done.\n"
          ]
        }
      ],
      "source": [
        "! git clone https://github.com/sanjaynagi/rna-seq-meta.git\n",
        "\n",
        "import pandas as pd\n",
        "import numpy as np\n",
        "import plotly.express as px\n",
        "\n",
        "def plotly_strip_genes(gene_ids, title, plot_type='strip', fc_path=\"rna-seq-meta/results/fc_data.tsv\", meta_path=\"rna-seq-meta/config/comparison_metadata.tsv\", width=1000, height=None):\n",
        "\n",
        "  \"\"\"\n",
        "  plots fold changes of provided AGAP gene IDs\n",
        "  \"\"\"\n",
        "  # load metadata\n",
        "  metadata = pd.read_csv(meta_path, sep=\"\\t\")  \n",
        "  # load fold change data and remove gene description column\n",
        "  fc_data = pd.read_csv(fc_path, sep=\"\\t\")\n",
        "  #pval_data = pd.read_csv(\"rna-seq-meta/results/pval_data.tsv\", sep=\"\\t\")\n",
        "  fc_data = fc_data.iloc[:, :-1]\n",
        "\n",
        "  fam_fc_data = fc_data.query(\"GeneID in @gene_ids\").copy()\n",
        "  fam_fc_data.loc[:, 'Label'] = [id_ + \" | \" + name if name != \"\" else id_ for id_, name in zip(fam_fc_data['GeneID'].fillna(\"\"), fam_fc_data['GeneName'].fillna(\"\"))]\n",
        "  fam_fc_data =fam_fc_data.drop(columns=['GeneName', 'GeneID']).melt(id_vars='Label', var_name='comparison', value_name='log2FC')\n",
        "  fam_fc_data.loc[:, 'comparison'] = fam_fc_data['comparison'].str.replace(\"_log2FoldChange\", \"\")\n",
        "  fam_fc_data = fam_fc_data.merge(metadata, how='left')\n",
        "  fam_fc_data.loc[:, 'log2FC'] *= -1 # invert the FCs (currently > 0 log2FC = overexpression in susceptible)\n",
        "\n",
        "  if not height:\n",
        "    height = np.min([fam_fc_data.shape[0]*12, 2500])\n",
        "  \n",
        "  my_plot = px.strip if plot_type == 'strip' else px.box\n",
        "  fig = my_plot(\n",
        "      fam_fc_data, \n",
        "      y='Label', \n",
        "      x='log2FC', \n",
        "      color='species',\n",
        "      title=title, \n",
        "      hover_data=['resistant', 'susceptible', 'species', 'country'],\n",
        "      width=width, \n",
        "      height=height,\n",
        "      template='ggplot2'\n",
        "  )\n",
        "  fig.update_layout(titlefont=dict(size =20, color='black', family='Arial, sans-serif'), xaxis_range=[-4,6],     xaxis_title=\"log2 Fold Change\", yaxis_title=\"Gene\")\n",
        "  fig.add_vline(0,  line_width=1, line_dash=\"dash\", line_color=\"grey\")\n",
        "  fig.show()\n",
        "\n",
        "def gene_ids_from_domain(gene_annot_df, domain):\n",
        "    gene_list = []\n",
        "    if isinstance(domain, list):\n",
        "        for dom in domain:\n",
        "            ids = gene_annot_df.query(\"domain == @domain\")['gene_id']\n",
        "            gene_list.append(ids)\n",
        "            return(np.unique(gene_list))\n",
        "    else:\n",
        "        return(gene_annot_df.query(\"domain == @domain\")['gene_id'].to_numpy())\n"
      ]
    },
    {
      "cell_type": "markdown",
      "source": [
        "**Across gene families linked to resistance**\n",
        "\n",
        "Lets plot gene expression in gene families that are *somewhat* associated with insecticide resistance. `\"rna-seq-meta/resources/Anogam_long.pep_Pfamscan.seqs\"` maps genes to pfam domains in *An. gambiae*, and we can use this to produce separate plots for different gene families. We also have GO term data `Anogam_long.pep_eggnog_diamond.emapper.annotations.GO`, which we could use.\n",
        "\n",
        "If you have ideas for genesets to use or for improvements to the plot, please let me know :)"
      ],
      "metadata": {
        "id": "R5TvUOyzjc6S"
      }
    },
    {
      "cell_type": "code",
      "source": [
        "# Read in .csv file containing pfam and go terms\n",
        "pfam_df = pd.read_csv(\"rna-seq-meta/resources/Anogam_long.pep_Pfamscan.seqs\", sep=\"\\s+\", header=None)\n",
        "go_df = pd.read_csv(\"rna-seq-meta/resources/Anogam_long.pep_eggnog_diamond.emapper.annotations.GO\", sep=\"\\t\", header=None)\n",
        "\n",
        "pfam_df.columns = [\"transcript\", \"pstart\", \"pend\", \"pfamid\", \"domain\", \"domseq\"]\n",
        "go_df.columns = ['transcript', 'GO_terms']\n",
        "\n",
        "gene_annot_df = pfam_df.merge(go_df)\n",
        "gene_annot_df.loc[:, 'gene_id'] = gene_annot_df.loc[:, 'transcript'].str.replace(\"Anogam_\", \"\").str.replace(\"-R[A-Z]\", \"\")\n",
        "# a dict with gene families and their respective Pfam domain for extracting\n",
        "gene_fams = {'CSP': 'OS-D',\n",
        "            'Cytochrome P450s':'p450', \n",
        "             'GSTs':['GST_N', 'GST_N_3', 'GST_C'], \n",
        "             'ABC-transporters':['ABC_membrane', 'ABC_tran'],\n",
        "            'Carboxylesterases': 'COesterase', \n",
        "             'Odorant binding proteins':'PBP_GOBP', \n",
        "             'Olfactory receptors':'7tm_6', \n",
        "             'Ionotropic receptors':['Lig_chan','7tm_1'],\n",
        "             'Gustatory receptors': '7tm_7',\n",
        "            'Fatty acid synthases':'ketoacyl-synt',\n",
        "            'FA Elongase':'ELO',\n",
        "            'FA desaturase':'FA_desaturase',\n",
        "            'FA reductase':'NAD_binding_4',\n",
        "            }\n",
        "\n",
        "\n",
        "for name, domain in gene_fams.items():\n",
        "    \n",
        "    gene_ids = gene_ids_from_domain(gene_annot_df, domain)\n",
        "    plotly_strip_genes(gene_ids, title=name, plot_type='boxplot')"
      ],
      "metadata": {
        "id": "Ad4p3GGrjanO"
      },
      "execution_count": null,
      "outputs": []
    }
  ]
}