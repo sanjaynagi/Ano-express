{
  "cells": [
    {
      "cell_type": "markdown",
      "metadata": {
        "colab_type": "text",
        "id": "view-in-github"
      },
      "source": [
        "<a href=\"https://colab.research.google.com/github/sanjaynagi/rna-seq-meta/blob/main/workflow/notebooks/plot-families-expression.ipynb\" target=\"_parent\"><img src=\"https://colab.research.google.com/assets/colab-badge.svg\" alt=\"Open In Colab\"/></a>"
      ]
    },
    {
      "cell_type": "code",
      "execution_count": null,
      "metadata": {
        "id": "G5zJwWENjU37"
      },
      "outputs": [],
      "source": [
        "import pandas as pd\n",
        "import numpy as np\n",
        "import plotly.express as px\n",
        "\n",
        "def plot_gene_family_fcs(gene_identifier, title, plot_type='strip', sort_by='median', width=1000, height=None):\n",
        "  \"\"\"\n",
        "  plots fold changes of genes belonging to GO term or pfam protein domain\n",
        "  \"\"\"\n",
        "  # Read in .csv file containing pfam and go terms\n",
        "  pfam_df = pd.read_csv(\"https://github.com/sanjaynagi/rna-seq-meta/blob/main/resources/Anogam_long.pep_Pfamscan.seqs.gz?raw=true\", sep=\"\\s+\", header=None, compression='gzip')\n",
        "  go_df = pd.read_csv(\"https://github.com/sanjaynagi/rna-seq-meta/blob/main/resources/Anogam_long.pep_eggnog_diamond.emapper.annotations.GO.gz?raw=true\", sep=\"\\t\", header=None, compression='gzip')\n",
        "  pfam_df.columns = [\"transcript\", \"pstart\", \"pend\", \"pfamid\", \"domain\", \"domseq\"]\n",
        "  go_df.columns = ['transcript', 'GO_terms']\n",
        "\n",
        "  gene_annot_df = pfam_df.merge(go_df)\n",
        "  gene_annot_df.loc[:, 'gene_id'] = gene_annot_df.loc[:, 'transcript'].str.replace(\"Anogam_\", \"\").str.replace(\"-R[A-Z]\", \"\", regex=True)\n",
        "  gene_ids = gene_ids_from_annotation(gene_annot_df, gene_identifier)\n",
        "\n",
        "  # load metadata\n",
        "  metadata = pd.read_csv(\"https://raw.githubusercontent.com/sanjaynagi/rna-seq-meta/main/config/comparison_metadata.tsv\", sep=\"\\t\")  \n",
        "  # load fold change data and remove gene description column\n",
        "  fc_data = pd.read_csv(\"https://raw.githubusercontent.com/sanjaynagi/rna-seq-meta/main/results/fcs.gamb_colu_arab_fun.tsv\", sep=\"\\t\")\n",
        "  fc_data = fc_data.iloc[:, :-1]\n",
        "\n",
        "  fam_fc_data = fc_data.query(\"GeneID in @gene_ids\").copy()\n",
        "\n",
        "  assert not fam_fc_data.empty, \"No genes were found for the selection. It is possible these genes were removed by the ortholog finding process\"\n",
        "\n",
        "  if sort_by == 'median':\n",
        "    sort_idxs = np.argsort(fam_fc_data.set_index(['GeneID', 'GeneName']).apply(np.nanmedian, axis=1)).values[::-1]\n",
        "  elif sort_by == 'mean':\n",
        "    sort_idxs = np.argsort(fam_fc_data.set_index(['GeneID', 'GeneName']).apply(np.nanmean, axis=1)).values[::-1]\n",
        "  elif sort_by == 'agap':\n",
        "    sort_idxs = np.argsort(fam_fc_data['GeneID'].values)[::-1] \n",
        "  fam_fc_data = fam_fc_data.iloc[sort_idxs, :]\n",
        "    \n",
        "  fam_fc_data.loc[:, 'Label'] = [id_ + \" | \" + name if name != \"\" else id_ for id_, name in zip(fam_fc_data['GeneID'].fillna(\"\"), fam_fc_data['GeneName'].fillna(\"\"))]\n",
        "  fam_fc_data =fam_fc_data.drop(columns=['GeneName', 'GeneID']).melt(id_vars='Label', var_name='comparison', value_name='log2fold_change')\n",
        "  fam_fc_data.loc[:, 'comparison'] = fam_fc_data['comparison'].str.replace(\"_log2FoldChange\", \"\")\n",
        "  fam_fc_data = fam_fc_data.merge(metadata, how='left')\n",
        "  fam_fc_data.loc[:, 'log2fold_change'] *= -1 # invert the FCs (currently > 0 log2FC = overexpression in susceptible)\n",
        "  fam_fc_data.loc[:, 'fold_change'] =  np.round(2**fam_fc_data.loc[:, 'log2fold_change'].values, 2)\n",
        "\n",
        "  if not height:\n",
        "    height = np.min([fam_fc_data.shape[0]*5, 2500])\n",
        "  \n",
        "  my_plot = px.strip if plot_type == 'strip' else px.box\n",
        "  fig = my_plot(\n",
        "      fam_fc_data, \n",
        "      y='Label', \n",
        "      x='log2fold_change', \n",
        "      color='species',\n",
        "      title=title, \n",
        "      hover_data=['fold_change', 'resistant', 'susceptible', 'species', 'country'],\n",
        "      width=width, \n",
        "      height=height,\n",
        "      template='ggplot2'\n",
        "  )\n",
        "  fig.update_layout(titlefont=dict(size=20), xaxis_range=[-4,6],     xaxis_title=\"log2 Fold Change\", yaxis_title=\"Gene\")\n",
        "  fig.add_vline(0,  line_width=1, line_dash=\"dash\", line_color=\"grey\")\n",
        "  fig.show()\n",
        "\n",
        "def gene_ids_from_annotation(gene_annot_df, annotation):\n",
        "    if isinstance(annotation, list):\n",
        "        gene_list = np.array([])\n",
        "        if annotation[0].startswith(\"GO\"):\n",
        "            for go in annotation:\n",
        "              ids = gene_annot_df.query(f\"GO_terms.str.contains('{go}', na=False)\", engine='python')['gene_id'].to_numpy()\n",
        "              gene_list = np.hstack([gene_list, ids])\n",
        "            return(np.unique(gene_list))\n",
        "        else:\n",
        "          for dom in annotation:\n",
        "              ids = gene_annot_df.query(\"domain == @annotation\")['gene_id'].to_numpy()\n",
        "              gene_list = np.hstack([gene_list, ids])\n",
        "          return(np.unique(gene_list))\n",
        "    else:\n",
        "        if annotation.startswith(\"GO\"): \n",
        "          return(gene_annot_df.query(f\"GO_terms.str.contains('{annotation}', na=False)\", engine='python')['gene_id'].to_numpy())\n",
        "        else:\n",
        "          return(gene_annot_df.query(\"domain == @annotation\")['gene_id'].to_numpy())\n"
      ]
    },
    {
      "cell_type": "markdown",
      "metadata": {
        "id": "R5TvUOyzjc6S"
      },
      "source": [
        "**Across gene families, pfam domains and GO terms**\n",
        "\n",
        "In this notebook, we can plot gene expression for all genes assigned a given pfam domain, or GO term. If searching a PFAM domain, the gene identifier should be the 'short_name' PFAM code, not the PFAMID.\n",
        "\n",
        "If you have ideas for genesets to use or for improvements to the plots, please let me know :)"
      ]
    },
    {
      "cell_type": "code",
      "execution_count": null,
      "metadata": {
        "id": "jKH6g6TUlhgH"
      },
      "outputs": [],
      "source": [
        "plot_gene_family_fcs(gene_identifier=\"Chitin_bind_4\", title=\"chitin binding\", plot_type='strip', sort_by='median', height=400)"
      ]
    },
    {
      "cell_type": "markdown",
      "metadata": {
        "id": "Z42xVvAsmBIq"
      },
      "source": [
        "**All gene families linked to insecticide resistance**"
      ]
    },
    {
      "cell_type": "code",
      "execution_count": null,
      "metadata": {
        "id": "Ad4p3GGrjanO"
      },
      "outputs": [],
      "source": [
        "# a dict with gene families and their respective Pfam domain for extracting\n",
        "gene_fams = {'Cytochrome P450s':'p450', \n",
        "             'GSTs':['GST_N', 'GST_N_3', 'GST_C'], \n",
        "             'Carboxylesterases': 'COesterase', \n",
        "             'ABC-transporters':['ABC_membrane', 'ABC_tran'],\n",
        "             'CSP': 'OS-D',\n",
        "             'UGTs': 'UDPGT',\n",
        "             'Odorant binding proteins':'PBP_GOBP', \n",
        "             'Olfactory receptors':'7tm_6', \n",
        "             'Ionotropic receptors':['Lig_chan','7tm_1'],\n",
        "             'Gustatory receptors': '7tm_7',\n",
        "             'Fatty acid synthases':'ketoacyl-synt',\n",
        "             'FA Elongase':'ELO',\n",
        "             'FA desaturase':'FA_desaturase',\n",
        "             'FA reductase':'NAD_binding_4',\n",
        "             }\n",
        "\n",
        "for name, domain in gene_fams.items():\n",
        "    \n",
        "    plot_gene_family_fcs(gene_identifier=domain, title=name, sort_by='median', plot_type='strip')"
      ]
    },
    {
      "cell_type": "code",
      "execution_count": null,
      "metadata": {
        "id": "Y2xp9bWq960w"
      },
      "outputs": [],
      "source": []
    }
  ],
  "metadata": {
    "colab": {
      "include_colab_link": true,
      "provenance": []
    },
    "kernelspec": {
      "display_name": "Python 3",
      "name": "python3"
    },
    "language_info": {
      "name": "python"
    }
  },
  "nbformat": 4,
  "nbformat_minor": 0
}
