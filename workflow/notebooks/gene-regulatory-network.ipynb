{
 "cells": [
  {
   "cell_type": "markdown",
   "id": "7f058ca0",
   "metadata": {
    "colab_type": "text",
    "id": "view-in-github"
   },
   "source": [
    "<a href=\"https://colab.research.google.com/github/sanjaynagi/AnoExpress/blob/main/workflow/notebooks/gene-regulatory-network.ipynb\" target=\"_parent\"><img src=\"https://colab.research.google.com/assets/colab-badge.svg\" alt=\"Open In Colab\"/></a>"
   ]
  },
  {
   "cell_type": "code",
   "execution_count": null,
   "id": "b47c4a37",
   "metadata": {
    "id": "b47c4a37"
   },
   "outputs": [],
   "source": [
    "%pip install -q anoexpress grenadine tqdm"
   ]
  },
  {
   "cell_type": "code",
   "execution_count": null,
   "id": "5cc3cb95",
   "metadata": {
    "id": "5cc3cb95"
   },
   "outputs": [],
   "source": [
    "import anoexpress as xpress\n",
    "import pandas as pd\n",
    "import numpy as np\n",
    "\n",
    "from grenadine.Inference.inference import score_links\n",
    "from grenadine.Inference.regression_predictors import GENIE3\n",
    "from grenadine.Inference.regression_predictors import *\n",
    "from grenadine.Preprocessing.standard_preprocessing import z_score\n",
    "from tqdm.autonotebook import tqdm\n",
    "\n",
    "def gene_regulatory_network(algorithm, analysis, microarray, **extra_args):\n",
    "  fc_data = xpress.data(data_type='fcs', analysis=analysis, microarray=microarray)\n",
    "  df_annot = pd.read_csv(\"https://raw.githubusercontent.com/sanjaynagi/AnoExpress/main/resources/AgamP4.annots.tsv\", sep=\"\\t\")\n",
    "\n",
    "  # Load tfs\n",
    "  tf_list = pd.read_csv(\"https://raw.githubusercontent.com/sanjaynagi/AnoExpress/main/resources/AgamP4.tfs\", sep=\"\\t\")\n",
    "  tf_list.columns = ['GeneID', 'TFID', 'DrosophilaID']\n",
    "\n",
    "  # apply z score\n",
    "  fc_zdata = z_score(fc_data,axis=1).dropna()\n",
    "\n",
    "  score_matrix = score_links(gene_expression_matrix=fc_zdata,\n",
    "                            score_predictor=algorithm,\n",
    "                            tf_list=tf_list.GeneID.to_list(),\n",
    "                            progress_bar=True,\n",
    "                            **extra_args,\n",
    "  )\n",
    "\n",
    "  tf_df = get_targets_from_tf_list(tf_list=tf_list, score_matrix=score_matrix, df_annot=df_annot)\n",
    "\n",
    "  return(tf_df)\n",
    "\n",
    "def tf_regulatees(score_matrix, tf, df_annot):\n",
    "    tf_score = score_matrix.set_index(['GeneID', 'TFID']).query(f\"GeneID == '{tf}'\")\n",
    "    if tf_score.empty:\n",
    "        return\n",
    "\n",
    "    mask = (tf_score.values > 0)[0]\n",
    "    tf_score = tf_score.loc[:, mask]\n",
    "    tf_score = tf_score.melt(var_name='GeneID', value_name='score').merge(df_annot)\n",
    "    return(tf_score.sort_values(by='score', ascending=False))\n",
    "\n",
    "def get_targets_from_tf_list(tf_list, score_matrix, df_annot):\n",
    "  score_matrix = score_matrix.T.reset_index().rename(columns={'index':'GeneID'})\n",
    "  score_matrix = score_matrix.merge(tf_list.iloc[:, :2], how='left').set_index(['GeneID', 'TFID']).reset_index()\n",
    "\n",
    "  tf = []\n",
    "  for idx, row in tqdm(tf_list.iterrows()):\n",
    "      df = tf_regulatees(score_matrix, row['GeneID'], df_annot=df_annot)\n",
    "      if df is None:\n",
    "          continue\n",
    "      tf.append(df.assign(tf=row['TFID'],  tf_gene_id=row['GeneID']))\n",
    "\n",
    "  return pd.concat(tf).drop_duplicates()\n",
    "\n",
    "def list_tf_links(df, filter_name=None, filter_desc=None, filter_tf=None, filter_score=None):\n",
    "    \"\"\"\n",
    "    List genes associated with transcription factors, filtering my Gene Name, Description, TF, and associated score\n",
    "    \"\"\"\n",
    "    if filter_name:\n",
    "        df = df.query(f\"GeneName.str.contains('{filter_name}').fillna(False)\", engine='python')\n",
    "    if filter_desc:\n",
    "        df = df.query(f\"GeneDescription.str.contains('{filter_desc}').fillna(False)\", engine='python')\n",
    "    if filter_tf:\n",
    "        df = df.query(f\"tf == '{filter_tf}'\")\n",
    "    if filter_score:\n",
    "        df = df.query(f\"score > {filter_score}\")\n",
    "    return df"
   ]
  },
  {
   "cell_type": "markdown",
   "id": "imj2WVDTjljb",
   "metadata": {
    "id": "imj2WVDTjljb"
   },
   "source": [
    "![image](https://raw.githubusercontent.com/sanjaynagi/AnoExpress/main/docs/logo.png)"
   ]
  },
  {
   "cell_type": "markdown",
   "id": "0899dff5",
   "metadata": {
    "id": "0899dff5"
   },
   "source": [
    "# Gene regulatory networks\n",
    "\n",
    "In this notebook, we build gene regulatory networks using the recent [grenadine](https://www.mdpi.com/2073-4425/14/2/269) package, which although useful does seem to be mostly a load of scikit-learn functions under a new name.\n",
    "\n",
    "Run the algorithm. We can choose from a few, see [here](https://grenadine.readthedocs.io/en/latest/grenadine.Inference.html#module-grenadine.Inference.regression_predictors). Any of the regression predictors should work. I like the LASSO as its fast, but the GENIE3 algorithm is pretty well established for GRN building, so perhaps thats a good option?"
   ]
  },
  {
   "cell_type": "code",
   "execution_count": null,
   "id": "1_cuth2DYmni",
   "metadata": {
    "colab": {
     "base_uri": "https://localhost:8080/",
     "height": 81,
     "referenced_widgets": [
      "c1f88f9ee6a74d5a993676925f948c8f",
      "b63065d85b9241cf9b4602796107d728",
      "8877119f0ad24ea8a2e768eec05655e1",
      "0f8d831943c246c39b3717c366425799",
      "a9f4d4cfa747431c9c097f375b6d0e18",
      "c7c053978cfa4026b9c142e6b6309998",
      "40972dcf4ea04593a7f9890ef0d12ce4",
      "ef6be03604d84a0f81bec9321e3b2efe",
      "257db1c0f7fa4430b2d34f43126f0e3c",
      "7836e06d78c943f6a2d72088ba421c08",
      "3c91b06d137c434d8bc22ad7434b08ed",
      "d2f25855d4e041e4bd30d93f41238339",
      "ae4e107f25c54db5a602a522e4aea3d2",
      "395103d474154599b7abb2e4162c3816",
      "58a1f76cd1414104874fdc7dc2cb95c7",
      "90f49e2928ed4cfdbed2180af6361d19",
      "ba93bc4651be4eba8a76c97c870f55cc",
      "ac47278eadbe4acc908c757baf8de38f",
      "8b26bc9abb154eacaf72dc2ce6031154",
      "8d15d117c5364549b6c997470922e6e0",
      "ef0fe52e7ced491b9c27510430369ee1",
      "cccfba664e204a519136ad12dea74ee5"
     ]
    },
    "id": "1_cuth2DYmni",
    "outputId": "bb0290a8-667b-4313-8b5e-69ec3915a689"
   },
   "outputs": [],
   "source": [
    "tf_df = gene_regulatory_network(\n",
    "            algorithm=GENIE3,                   # Lasso_score,\n",
    "            analysis='gamb_colu_arab_fun',\n",
    "            microarray=True,\n",
    "           # **{'alpha':0.5} #extra_args, these get passed to the scikit-learn algorithm, remove if not lasso.\n",
    "            )"
   ]
  },
  {
   "cell_type": "code",
   "execution_count": 13,
   "id": "ce953f71-574d-43a2-9745-e4b6351342c5",
   "metadata": {},
   "outputs": [],
   "source": [
    "# tf_df[:int((tf_df.shape[0] / 100)*5)].to_excel(\"Supplementary Table 8.xlsx\")"
   ]
  },
  {
   "cell_type": "code",
   "execution_count": 3,
   "id": "fQ3Lsk1VuPwJ",
   "metadata": {
    "colab": {
     "base_uri": "https://localhost:8080/",
     "height": 423
    },
    "id": "fQ3Lsk1VuPwJ",
    "outputId": "05c9ee56-e049-48d2-e41b-8cfd334446a2"
   },
   "outputs": [],
   "source": [
    "# tf_df.to_csv(\"tfs_data.csv\")"
   ]
  },
  {
   "cell_type": "markdown",
   "id": "7d5e0c35",
   "metadata": {
    "id": "7d5e0c35"
   },
   "source": [
    "### P450s"
   ]
  },
  {
   "cell_type": "code",
   "execution_count": null,
   "id": "c56a6d83",
   "metadata": {
    "id": "c56a6d83"
   },
   "outputs": [],
   "source": [
    "pd.set_option('display.max_rows', 20000)\n",
    "list_tf_links(tf_df, filter_desc='P450')"
   ]
  },
  {
   "cell_type": "markdown",
   "id": "b4ffaa5c",
   "metadata": {
    "id": "b4ffaa5c"
   },
   "source": [
    "### Gsts"
   ]
  },
  {
   "cell_type": "code",
   "execution_count": null,
   "id": "eddf23f8",
   "metadata": {
    "id": "eddf23f8"
   },
   "outputs": [],
   "source": [
    "list_tf_links(df=tf_df, filter_name='GST')"
   ]
  },
  {
   "cell_type": "markdown",
   "id": "b965ddb0",
   "metadata": {
    "id": "b965ddb0"
   },
   "source": [
    "## coes"
   ]
  },
  {
   "cell_type": "code",
   "execution_count": null,
   "id": "c4442810",
   "metadata": {
    "id": "c4442810"
   },
   "outputs": [],
   "source": [
    "list_tf_links(tf_df, filter_desc='esterase')"
   ]
  },
  {
   "cell_type": "markdown",
   "id": "afee0127",
   "metadata": {
    "id": "afee0127"
   },
   "source": [
    "### UGTs"
   ]
  },
  {
   "cell_type": "code",
   "execution_count": null,
   "id": "e4988668",
   "metadata": {
    "id": "e4988668"
   },
   "outputs": [],
   "source": [
    "list_tf_links(tf_df, filter_desc='glucosyltransferase')"
   ]
  },
  {
   "cell_type": "markdown",
   "id": "aee3e14c",
   "metadata": {
    "id": "aee3e14c"
   },
   "source": [
    "### chemosensory"
   ]
  },
  {
   "cell_type": "code",
   "execution_count": null,
   "id": "ef04969a",
   "metadata": {
    "id": "ef04969a",
    "scrolled": true
   },
   "outputs": [],
   "source": [
    "list_tf_links(tf_df, filter_desc='chemo')"
   ]
  },
  {
   "cell_type": "code",
   "execution_count": null,
   "id": "91c74737",
   "metadata": {
    "id": "91c74737"
   },
   "outputs": [],
   "source": [
    "list_tf_links(tf_df, filter_desc='sensory')"
   ]
  }
 ],
 "metadata": {
  "colab": {
   "include_colab_link": true,
   "provenance": []
  },
  "kernelspec": {
   "display_name": "Python 3 (ipykernel)",
   "language": "python",
   "name": "python3"
  },
  "language_info": {
   "codemirror_mode": {
    "name": "ipython",
    "version": 3
   },
   "file_extension": ".py",
   "mimetype": "text/x-python",
   "name": "python",
   "nbconvert_exporter": "python",
   "pygments_lexer": "ipython3",
   "version": "3.11.0"
  },
  "widgets": {
   "application/vnd.jupyter.widget-state+json": {
    "0f8d831943c246c39b3717c366425799": {
     "model_module": "@jupyter-widgets/controls",
     "model_module_version": "1.5.0",
     "model_name": "HTMLModel",
     "state": {
      "_dom_classes": [],
      "_model_module": "@jupyter-widgets/controls",
      "_model_module_version": "1.5.0",
      "_model_name": "HTMLModel",
      "_view_count": null,
      "_view_module": "@jupyter-widgets/controls",
      "_view_module_version": "1.5.0",
      "_view_name": "HTMLView",
      "description": "",
      "description_tooltip": null,
      "layout": "IPY_MODEL_7836e06d78c943f6a2d72088ba421c08",
      "placeholder": "​",
      "style": "IPY_MODEL_3c91b06d137c434d8bc22ad7434b08ed",
      "value": " 7842/7842 [44:36&lt;00:00,  2.74it/s]"
     }
    },
    "257db1c0f7fa4430b2d34f43126f0e3c": {
     "model_module": "@jupyter-widgets/controls",
     "model_module_version": "1.5.0",
     "model_name": "ProgressStyleModel",
     "state": {
      "_model_module": "@jupyter-widgets/controls",
      "_model_module_version": "1.5.0",
      "_model_name": "ProgressStyleModel",
      "_view_count": null,
      "_view_module": "@jupyter-widgets/base",
      "_view_module_version": "1.2.0",
      "_view_name": "StyleView",
      "bar_color": null,
      "description_width": ""
     }
    },
    "395103d474154599b7abb2e4162c3816": {
     "model_module": "@jupyter-widgets/controls",
     "model_module_version": "1.5.0",
     "model_name": "FloatProgressModel",
     "state": {
      "_dom_classes": [],
      "_model_module": "@jupyter-widgets/controls",
      "_model_module_version": "1.5.0",
      "_model_name": "FloatProgressModel",
      "_view_count": null,
      "_view_module": "@jupyter-widgets/controls",
      "_view_module_version": "1.5.0",
      "_view_name": "ProgressView",
      "bar_style": "success",
      "description": "",
      "description_tooltip": null,
      "layout": "IPY_MODEL_8b26bc9abb154eacaf72dc2ce6031154",
      "max": 1,
      "min": 0,
      "orientation": "horizontal",
      "style": "IPY_MODEL_8d15d117c5364549b6c997470922e6e0",
      "value": 1
     }
    },
    "3c91b06d137c434d8bc22ad7434b08ed": {
     "model_module": "@jupyter-widgets/controls",
     "model_module_version": "1.5.0",
     "model_name": "DescriptionStyleModel",
     "state": {
      "_model_module": "@jupyter-widgets/controls",
      "_model_module_version": "1.5.0",
      "_model_name": "DescriptionStyleModel",
      "_view_count": null,
      "_view_module": "@jupyter-widgets/base",
      "_view_module_version": "1.2.0",
      "_view_name": "StyleView",
      "description_width": ""
     }
    },
    "40972dcf4ea04593a7f9890ef0d12ce4": {
     "model_module": "@jupyter-widgets/controls",
     "model_module_version": "1.5.0",
     "model_name": "DescriptionStyleModel",
     "state": {
      "_model_module": "@jupyter-widgets/controls",
      "_model_module_version": "1.5.0",
      "_model_name": "DescriptionStyleModel",
      "_view_count": null,
      "_view_module": "@jupyter-widgets/base",
      "_view_module_version": "1.2.0",
      "_view_name": "StyleView",
      "description_width": ""
     }
    },
    "58a1f76cd1414104874fdc7dc2cb95c7": {
     "model_module": "@jupyter-widgets/controls",
     "model_module_version": "1.5.0",
     "model_name": "HTMLModel",
     "state": {
      "_dom_classes": [],
      "_model_module": "@jupyter-widgets/controls",
      "_model_module_version": "1.5.0",
      "_model_name": "HTMLModel",
      "_view_count": null,
      "_view_module": "@jupyter-widgets/controls",
      "_view_module_version": "1.5.0",
      "_view_name": "HTMLView",
      "description": "",
      "description_tooltip": null,
      "layout": "IPY_MODEL_ef0fe52e7ced491b9c27510430369ee1",
      "placeholder": "​",
      "style": "IPY_MODEL_cccfba664e204a519136ad12dea74ee5",
      "value": " 176/? [01:31&lt;00:00,  1.76it/s]"
     }
    },
    "7836e06d78c943f6a2d72088ba421c08": {
     "model_module": "@jupyter-widgets/base",
     "model_module_version": "1.2.0",
     "model_name": "LayoutModel",
     "state": {
      "_model_module": "@jupyter-widgets/base",
      "_model_module_version": "1.2.0",
      "_model_name": "LayoutModel",
      "_view_count": null,
      "_view_module": "@jupyter-widgets/base",
      "_view_module_version": "1.2.0",
      "_view_name": "LayoutView",
      "align_content": null,
      "align_items": null,
      "align_self": null,
      "border": null,
      "bottom": null,
      "display": null,
      "flex": null,
      "flex_flow": null,
      "grid_area": null,
      "grid_auto_columns": null,
      "grid_auto_flow": null,
      "grid_auto_rows": null,
      "grid_column": null,
      "grid_gap": null,
      "grid_row": null,
      "grid_template_areas": null,
      "grid_template_columns": null,
      "grid_template_rows": null,
      "height": null,
      "justify_content": null,
      "justify_items": null,
      "left": null,
      "margin": null,
      "max_height": null,
      "max_width": null,
      "min_height": null,
      "min_width": null,
      "object_fit": null,
      "object_position": null,
      "order": null,
      "overflow": null,
      "overflow_x": null,
      "overflow_y": null,
      "padding": null,
      "right": null,
      "top": null,
      "visibility": null,
      "width": null
     }
    },
    "8877119f0ad24ea8a2e768eec05655e1": {
     "model_module": "@jupyter-widgets/controls",
     "model_module_version": "1.5.0",
     "model_name": "FloatProgressModel",
     "state": {
      "_dom_classes": [],
      "_model_module": "@jupyter-widgets/controls",
      "_model_module_version": "1.5.0",
      "_model_name": "FloatProgressModel",
      "_view_count": null,
      "_view_module": "@jupyter-widgets/controls",
      "_view_module_version": "1.5.0",
      "_view_name": "ProgressView",
      "bar_style": "success",
      "description": "",
      "description_tooltip": null,
      "layout": "IPY_MODEL_ef6be03604d84a0f81bec9321e3b2efe",
      "max": 7842,
      "min": 0,
      "orientation": "horizontal",
      "style": "IPY_MODEL_257db1c0f7fa4430b2d34f43126f0e3c",
      "value": 7842
     }
    },
    "8b26bc9abb154eacaf72dc2ce6031154": {
     "model_module": "@jupyter-widgets/base",
     "model_module_version": "1.2.0",
     "model_name": "LayoutModel",
     "state": {
      "_model_module": "@jupyter-widgets/base",
      "_model_module_version": "1.2.0",
      "_model_name": "LayoutModel",
      "_view_count": null,
      "_view_module": "@jupyter-widgets/base",
      "_view_module_version": "1.2.0",
      "_view_name": "LayoutView",
      "align_content": null,
      "align_items": null,
      "align_self": null,
      "border": null,
      "bottom": null,
      "display": null,
      "flex": null,
      "flex_flow": null,
      "grid_area": null,
      "grid_auto_columns": null,
      "grid_auto_flow": null,
      "grid_auto_rows": null,
      "grid_column": null,
      "grid_gap": null,
      "grid_row": null,
      "grid_template_areas": null,
      "grid_template_columns": null,
      "grid_template_rows": null,
      "height": null,
      "justify_content": null,
      "justify_items": null,
      "left": null,
      "margin": null,
      "max_height": null,
      "max_width": null,
      "min_height": null,
      "min_width": null,
      "object_fit": null,
      "object_position": null,
      "order": null,
      "overflow": null,
      "overflow_x": null,
      "overflow_y": null,
      "padding": null,
      "right": null,
      "top": null,
      "visibility": null,
      "width": "20px"
     }
    },
    "8d15d117c5364549b6c997470922e6e0": {
     "model_module": "@jupyter-widgets/controls",
     "model_module_version": "1.5.0",
     "model_name": "ProgressStyleModel",
     "state": {
      "_model_module": "@jupyter-widgets/controls",
      "_model_module_version": "1.5.0",
      "_model_name": "ProgressStyleModel",
      "_view_count": null,
      "_view_module": "@jupyter-widgets/base",
      "_view_module_version": "1.2.0",
      "_view_name": "StyleView",
      "bar_color": null,
      "description_width": ""
     }
    },
    "90f49e2928ed4cfdbed2180af6361d19": {
     "model_module": "@jupyter-widgets/base",
     "model_module_version": "1.2.0",
     "model_name": "LayoutModel",
     "state": {
      "_model_module": "@jupyter-widgets/base",
      "_model_module_version": "1.2.0",
      "_model_name": "LayoutModel",
      "_view_count": null,
      "_view_module": "@jupyter-widgets/base",
      "_view_module_version": "1.2.0",
      "_view_name": "LayoutView",
      "align_content": null,
      "align_items": null,
      "align_self": null,
      "border": null,
      "bottom": null,
      "display": null,
      "flex": null,
      "flex_flow": null,
      "grid_area": null,
      "grid_auto_columns": null,
      "grid_auto_flow": null,
      "grid_auto_rows": null,
      "grid_column": null,
      "grid_gap": null,
      "grid_row": null,
      "grid_template_areas": null,
      "grid_template_columns": null,
      "grid_template_rows": null,
      "height": null,
      "justify_content": null,
      "justify_items": null,
      "left": null,
      "margin": null,
      "max_height": null,
      "max_width": null,
      "min_height": null,
      "min_width": null,
      "object_fit": null,
      "object_position": null,
      "order": null,
      "overflow": null,
      "overflow_x": null,
      "overflow_y": null,
      "padding": null,
      "right": null,
      "top": null,
      "visibility": null,
      "width": null
     }
    },
    "a9f4d4cfa747431c9c097f375b6d0e18": {
     "model_module": "@jupyter-widgets/base",
     "model_module_version": "1.2.0",
     "model_name": "LayoutModel",
     "state": {
      "_model_module": "@jupyter-widgets/base",
      "_model_module_version": "1.2.0",
      "_model_name": "LayoutModel",
      "_view_count": null,
      "_view_module": "@jupyter-widgets/base",
      "_view_module_version": "1.2.0",
      "_view_name": "LayoutView",
      "align_content": null,
      "align_items": null,
      "align_self": null,
      "border": null,
      "bottom": null,
      "display": null,
      "flex": null,
      "flex_flow": null,
      "grid_area": null,
      "grid_auto_columns": null,
      "grid_auto_flow": null,
      "grid_auto_rows": null,
      "grid_column": null,
      "grid_gap": null,
      "grid_row": null,
      "grid_template_areas": null,
      "grid_template_columns": null,
      "grid_template_rows": null,
      "height": null,
      "justify_content": null,
      "justify_items": null,
      "left": null,
      "margin": null,
      "max_height": null,
      "max_width": null,
      "min_height": null,
      "min_width": null,
      "object_fit": null,
      "object_position": null,
      "order": null,
      "overflow": null,
      "overflow_x": null,
      "overflow_y": null,
      "padding": null,
      "right": null,
      "top": null,
      "visibility": null,
      "width": null
     }
    },
    "ac47278eadbe4acc908c757baf8de38f": {
     "model_module": "@jupyter-widgets/controls",
     "model_module_version": "1.5.0",
     "model_name": "DescriptionStyleModel",
     "state": {
      "_model_module": "@jupyter-widgets/controls",
      "_model_module_version": "1.5.0",
      "_model_name": "DescriptionStyleModel",
      "_view_count": null,
      "_view_module": "@jupyter-widgets/base",
      "_view_module_version": "1.2.0",
      "_view_name": "StyleView",
      "description_width": ""
     }
    },
    "ae4e107f25c54db5a602a522e4aea3d2": {
     "model_module": "@jupyter-widgets/controls",
     "model_module_version": "1.5.0",
     "model_name": "HTMLModel",
     "state": {
      "_dom_classes": [],
      "_model_module": "@jupyter-widgets/controls",
      "_model_module_version": "1.5.0",
      "_model_name": "HTMLModel",
      "_view_count": null,
      "_view_module": "@jupyter-widgets/controls",
      "_view_module_version": "1.5.0",
      "_view_name": "HTMLView",
      "description": "",
      "description_tooltip": null,
      "layout": "IPY_MODEL_ba93bc4651be4eba8a76c97c870f55cc",
      "placeholder": "​",
      "style": "IPY_MODEL_ac47278eadbe4acc908c757baf8de38f",
      "value": ""
     }
    },
    "b63065d85b9241cf9b4602796107d728": {
     "model_module": "@jupyter-widgets/controls",
     "model_module_version": "1.5.0",
     "model_name": "HTMLModel",
     "state": {
      "_dom_classes": [],
      "_model_module": "@jupyter-widgets/controls",
      "_model_module_version": "1.5.0",
      "_model_name": "HTMLModel",
      "_view_count": null,
      "_view_module": "@jupyter-widgets/controls",
      "_view_module_version": "1.5.0",
      "_view_name": "HTMLView",
      "description": "",
      "description_tooltip": null,
      "layout": "IPY_MODEL_c7c053978cfa4026b9c142e6b6309998",
      "placeholder": "​",
      "style": "IPY_MODEL_40972dcf4ea04593a7f9890ef0d12ce4",
      "value": "100%"
     }
    },
    "ba93bc4651be4eba8a76c97c870f55cc": {
     "model_module": "@jupyter-widgets/base",
     "model_module_version": "1.2.0",
     "model_name": "LayoutModel",
     "state": {
      "_model_module": "@jupyter-widgets/base",
      "_model_module_version": "1.2.0",
      "_model_name": "LayoutModel",
      "_view_count": null,
      "_view_module": "@jupyter-widgets/base",
      "_view_module_version": "1.2.0",
      "_view_name": "LayoutView",
      "align_content": null,
      "align_items": null,
      "align_self": null,
      "border": null,
      "bottom": null,
      "display": null,
      "flex": null,
      "flex_flow": null,
      "grid_area": null,
      "grid_auto_columns": null,
      "grid_auto_flow": null,
      "grid_auto_rows": null,
      "grid_column": null,
      "grid_gap": null,
      "grid_row": null,
      "grid_template_areas": null,
      "grid_template_columns": null,
      "grid_template_rows": null,
      "height": null,
      "justify_content": null,
      "justify_items": null,
      "left": null,
      "margin": null,
      "max_height": null,
      "max_width": null,
      "min_height": null,
      "min_width": null,
      "object_fit": null,
      "object_position": null,
      "order": null,
      "overflow": null,
      "overflow_x": null,
      "overflow_y": null,
      "padding": null,
      "right": null,
      "top": null,
      "visibility": null,
      "width": null
     }
    },
    "c1f88f9ee6a74d5a993676925f948c8f": {
     "model_module": "@jupyter-widgets/controls",
     "model_module_version": "1.5.0",
     "model_name": "HBoxModel",
     "state": {
      "_dom_classes": [],
      "_model_module": "@jupyter-widgets/controls",
      "_model_module_version": "1.5.0",
      "_model_name": "HBoxModel",
      "_view_count": null,
      "_view_module": "@jupyter-widgets/controls",
      "_view_module_version": "1.5.0",
      "_view_name": "HBoxView",
      "box_style": "",
      "children": [
       "IPY_MODEL_b63065d85b9241cf9b4602796107d728",
       "IPY_MODEL_8877119f0ad24ea8a2e768eec05655e1",
       "IPY_MODEL_0f8d831943c246c39b3717c366425799"
      ],
      "layout": "IPY_MODEL_a9f4d4cfa747431c9c097f375b6d0e18"
     }
    },
    "c7c053978cfa4026b9c142e6b6309998": {
     "model_module": "@jupyter-widgets/base",
     "model_module_version": "1.2.0",
     "model_name": "LayoutModel",
     "state": {
      "_model_module": "@jupyter-widgets/base",
      "_model_module_version": "1.2.0",
      "_model_name": "LayoutModel",
      "_view_count": null,
      "_view_module": "@jupyter-widgets/base",
      "_view_module_version": "1.2.0",
      "_view_name": "LayoutView",
      "align_content": null,
      "align_items": null,
      "align_self": null,
      "border": null,
      "bottom": null,
      "display": null,
      "flex": null,
      "flex_flow": null,
      "grid_area": null,
      "grid_auto_columns": null,
      "grid_auto_flow": null,
      "grid_auto_rows": null,
      "grid_column": null,
      "grid_gap": null,
      "grid_row": null,
      "grid_template_areas": null,
      "grid_template_columns": null,
      "grid_template_rows": null,
      "height": null,
      "justify_content": null,
      "justify_items": null,
      "left": null,
      "margin": null,
      "max_height": null,
      "max_width": null,
      "min_height": null,
      "min_width": null,
      "object_fit": null,
      "object_position": null,
      "order": null,
      "overflow": null,
      "overflow_x": null,
      "overflow_y": null,
      "padding": null,
      "right": null,
      "top": null,
      "visibility": null,
      "width": null
     }
    },
    "cccfba664e204a519136ad12dea74ee5": {
     "model_module": "@jupyter-widgets/controls",
     "model_module_version": "1.5.0",
     "model_name": "DescriptionStyleModel",
     "state": {
      "_model_module": "@jupyter-widgets/controls",
      "_model_module_version": "1.5.0",
      "_model_name": "DescriptionStyleModel",
      "_view_count": null,
      "_view_module": "@jupyter-widgets/base",
      "_view_module_version": "1.2.0",
      "_view_name": "StyleView",
      "description_width": ""
     }
    },
    "d2f25855d4e041e4bd30d93f41238339": {
     "model_module": "@jupyter-widgets/controls",
     "model_module_version": "1.5.0",
     "model_name": "HBoxModel",
     "state": {
      "_dom_classes": [],
      "_model_module": "@jupyter-widgets/controls",
      "_model_module_version": "1.5.0",
      "_model_name": "HBoxModel",
      "_view_count": null,
      "_view_module": "@jupyter-widgets/controls",
      "_view_module_version": "1.5.0",
      "_view_name": "HBoxView",
      "box_style": "",
      "children": [
       "IPY_MODEL_ae4e107f25c54db5a602a522e4aea3d2",
       "IPY_MODEL_395103d474154599b7abb2e4162c3816",
       "IPY_MODEL_58a1f76cd1414104874fdc7dc2cb95c7"
      ],
      "layout": "IPY_MODEL_90f49e2928ed4cfdbed2180af6361d19"
     }
    },
    "ef0fe52e7ced491b9c27510430369ee1": {
     "model_module": "@jupyter-widgets/base",
     "model_module_version": "1.2.0",
     "model_name": "LayoutModel",
     "state": {
      "_model_module": "@jupyter-widgets/base",
      "_model_module_version": "1.2.0",
      "_model_name": "LayoutModel",
      "_view_count": null,
      "_view_module": "@jupyter-widgets/base",
      "_view_module_version": "1.2.0",
      "_view_name": "LayoutView",
      "align_content": null,
      "align_items": null,
      "align_self": null,
      "border": null,
      "bottom": null,
      "display": null,
      "flex": null,
      "flex_flow": null,
      "grid_area": null,
      "grid_auto_columns": null,
      "grid_auto_flow": null,
      "grid_auto_rows": null,
      "grid_column": null,
      "grid_gap": null,
      "grid_row": null,
      "grid_template_areas": null,
      "grid_template_columns": null,
      "grid_template_rows": null,
      "height": null,
      "justify_content": null,
      "justify_items": null,
      "left": null,
      "margin": null,
      "max_height": null,
      "max_width": null,
      "min_height": null,
      "min_width": null,
      "object_fit": null,
      "object_position": null,
      "order": null,
      "overflow": null,
      "overflow_x": null,
      "overflow_y": null,
      "padding": null,
      "right": null,
      "top": null,
      "visibility": null,
      "width": null
     }
    },
    "ef6be03604d84a0f81bec9321e3b2efe": {
     "model_module": "@jupyter-widgets/base",
     "model_module_version": "1.2.0",
     "model_name": "LayoutModel",
     "state": {
      "_model_module": "@jupyter-widgets/base",
      "_model_module_version": "1.2.0",
      "_model_name": "LayoutModel",
      "_view_count": null,
      "_view_module": "@jupyter-widgets/base",
      "_view_module_version": "1.2.0",
      "_view_name": "LayoutView",
      "align_content": null,
      "align_items": null,
      "align_self": null,
      "border": null,
      "bottom": null,
      "display": null,
      "flex": null,
      "flex_flow": null,
      "grid_area": null,
      "grid_auto_columns": null,
      "grid_auto_flow": null,
      "grid_auto_rows": null,
      "grid_column": null,
      "grid_gap": null,
      "grid_row": null,
      "grid_template_areas": null,
      "grid_template_columns": null,
      "grid_template_rows": null,
      "height": null,
      "justify_content": null,
      "justify_items": null,
      "left": null,
      "margin": null,
      "max_height": null,
      "max_width": null,
      "min_height": null,
      "min_width": null,
      "object_fit": null,
      "object_position": null,
      "order": null,
      "overflow": null,
      "overflow_x": null,
      "overflow_y": null,
      "padding": null,
      "right": null,
      "top": null,
      "visibility": null,
      "width": null
     }
    }
   }
  }
 },
 "nbformat": 4,
 "nbformat_minor": 5
}
