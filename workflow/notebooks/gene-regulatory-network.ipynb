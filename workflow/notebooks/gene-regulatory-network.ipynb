{
  "cells": [
    {
      "cell_type": "markdown",
      "metadata": {
        "id": "view-in-github",
        "colab_type": "text"
      },
      "source": [
        "<a href=\"https://colab.research.google.com/github/sanjaynagi/AnoExpress/blob/main/workflow/notebooks/gene-regulatory-network.ipynb\" target=\"_parent\"><img src=\"https://colab.research.google.com/assets/colab-badge.svg\" alt=\"Open In Colab\"/></a>"
      ]
    },
    {
      "cell_type": "code",
      "execution_count": null,
      "id": "b47c4a37",
      "metadata": {
        "id": "b47c4a37"
      },
      "outputs": [],
      "source": [
        "!pip install -q anoexpress grenadine tqdm"
      ]
    },
    {
      "cell_type": "code",
      "execution_count": null,
      "id": "5cc3cb95",
      "metadata": {
        "id": "5cc3cb95"
      },
      "outputs": [],
      "source": [
        "import anoexpress as xpress\n",
        "import pandas as pd\n",
        "import numpy as np\n",
        "\n",
        "from grenadine.Inference.inference import score_links\n",
        "from grenadine.Inference.regression_predictors import *\n",
        "from grenadine.Preprocessing.standard_preprocessing import z_score \n",
        "from tqdm.autonotebook import tqdm\n",
        "\n",
        "def gene_regulatory_network(algorithm, analysis, microarray, **extra_args):\n",
        "  fc_data = xpress.data(data_type='fcs', analysis=analysis, microarray=microarray).drop(columns='GeneName').set_index('GeneID')\n",
        "  df_annot = pd.read_csv(f\"https://raw.githubusercontent.com/sanjaynagi/AnoExpress/main/results/fcs.gamb_colu.tsv\", sep=\"\\t\")[['GeneID', 'GeneName', 'GeneDescription']]\n",
        "\n",
        "  # Load tfs\n",
        "  tf_list = pd.read_csv(\"https://raw.githubusercontent.com/sanjaynagi/AnoExpress/main/resources/AgamP4.tfs\", sep=\"\\t\")\n",
        "  tf_list.columns = ['GeneID', 'TFID', 'DrosophilaID']\n",
        "\n",
        "  # apply z score \n",
        "  fc_zdata = z_score(fc_data,axis=1).dropna()\n",
        "\n",
        "  score_matrix = score_links(gene_expression_matrix=fc_zdata,\n",
        "                            score_predictor=algorithm,\n",
        "                            tf_list=tf_list.GeneID.to_list(),\n",
        "                            progress_bar=True,\n",
        "                            **extra_args,\n",
        "  )\n",
        "\n",
        "  tf_df = get_targets_from_tf_list(tf_list=tf_list, score_matrix=score_matrix, df_annot=df_annot)\n",
        "  \n",
        "  return(tf_df)\n",
        "\n",
        "def tf_regulatees(score_matrix, tf, df_annot):\n",
        "    tf_score = score_matrix.set_index(['GeneID', 'TFID']).query(f\"GeneID == '{tf}'\")\n",
        "    if tf_score.empty:\n",
        "        return\n",
        "    \n",
        "    mask = (tf_score.values > 0)[0]\n",
        "    tf_score = tf_score.loc[:, mask]\n",
        "    tf_score = tf_score.melt(var_name='GeneID', value_name='score').merge(df_annot)\n",
        "    return(tf_score.sort_values(by='score', ascending=False)) \n",
        "\n",
        "def get_targets_from_tf_list(tf_list, score_matrix, df_annot):\n",
        "  score_matrix = score_matrix.T.reset_index().rename(columns={'index':'GeneID'})\n",
        "  score_matrix = score_matrix.merge(tf_list.iloc[:, :2], how='left').set_index(['GeneID', 'TFID']).reset_index()\n",
        "  \n",
        "  tf = []\n",
        "  for idx, row in tqdm(tf_list.iterrows()):\n",
        "      df = tf_regulatees(score_matrix, row['GeneID'], df_annot=df_annot)\n",
        "      if df is None:\n",
        "          continue\n",
        "      tf.append(df.assign(tf=row['TFID']))\n",
        "\n",
        "  return pd.concat(tf).drop_duplicates()\n",
        "\n",
        "def list_tf_links(df, filter_name=None, filter_desc=None, filter_tf=None, filter_score=None):\n",
        "    \"\"\"\n",
        "    List genes associated with transcription factors, filtering my Gene Name, Description, TF, and associated score\n",
        "    \"\"\"\n",
        "    if filter_name:\n",
        "        df = df.query(f\"GeneName.str.contains('{filter_name}').fillna(False)\", engine='python')\n",
        "    if filter_desc:\n",
        "        df = df.query(f\"GeneDescription.str.contains('{filter_desc}').fillna(False)\", engine='python')    \n",
        "    if filter_tf:\n",
        "        df = df.query(f\"tf == '{filter_tf}'\")\n",
        "    if filter_score:\n",
        "        df = df.query(f\"score > {filter_score}\")\n",
        "    return df"
      ]
    },
    {
      "cell_type": "markdown",
      "source": [
        "![image](https://raw.githubusercontent.com/sanjaynagi/AnoExpress/main/docs/logo.png)"
      ],
      "metadata": {
        "id": "imj2WVDTjljb"
      },
      "id": "imj2WVDTjljb"
    },
    {
      "cell_type": "markdown",
      "id": "0899dff5",
      "metadata": {
        "id": "0899dff5"
      },
      "source": [
        "# Gene regulatory networks\n",
        "\n",
        "In this notebook, we build gene regulatory networks using the recent [grenadine](https://www.mdpi.com/2073-4425/14/2/269) package, which although useful does seem to be mostly a load of scikit-learn functions under a new name. \n",
        "\n",
        "Run the algorithm. We can choose from a few, see [here](https://grenadine.readthedocs.io/en/latest/grenadine.Inference.html#module-grenadine.Inference.regression_predictors). Any of the regression predictors should work. I like the LASSO as its fast, but the GENIE3 algorithm is pretty well established for GRN building, so perhaps thats a good option?"
      ]
    },
    {
      "cell_type": "code",
      "source": [
        "tf_df = gene_regulatory_network(\n",
        "            algorithm=GENIE3, #GENIE3, Lasso_score, \n",
        "            analysis='gamb_colu_arab_fun',\n",
        "            microarray=True,\n",
        "           # **{'alpha':0.5} #extra_args, these get passed to the scikit-learn algorithm, remove if not lasso. \n",
        "            )"
      ],
      "metadata": {
        "id": "1_cuth2DYmni"
      },
      "id": "1_cuth2DYmni",
      "execution_count": null,
      "outputs": []
    },
    {
      "cell_type": "markdown",
      "id": "7d5e0c35",
      "metadata": {
        "id": "7d5e0c35"
      },
      "source": [
        "### P450s"
      ]
    },
    {
      "cell_type": "code",
      "execution_count": null,
      "id": "c56a6d83",
      "metadata": {
        "scrolled": false,
        "id": "c56a6d83"
      },
      "outputs": [],
      "source": [
        "pd.set_option('display.max_rows', 20000)\n",
        "list_tf_links(tf_df, filter_desc='P450')"
      ]
    },
    {
      "cell_type": "markdown",
      "id": "b4ffaa5c",
      "metadata": {
        "id": "b4ffaa5c"
      },
      "source": [
        "### Gsts"
      ]
    },
    {
      "cell_type": "code",
      "execution_count": null,
      "id": "eddf23f8",
      "metadata": {
        "id": "eddf23f8"
      },
      "outputs": [],
      "source": [
        "list_tf_links(df=tf_df, filter_name='GST')"
      ]
    },
    {
      "cell_type": "markdown",
      "id": "b965ddb0",
      "metadata": {
        "id": "b965ddb0"
      },
      "source": [
        "## coes"
      ]
    },
    {
      "cell_type": "code",
      "execution_count": null,
      "id": "c4442810",
      "metadata": {
        "scrolled": false,
        "id": "c4442810"
      },
      "outputs": [],
      "source": [
        "list_tf_links(tf_df, filter_desc='esterase')"
      ]
    },
    {
      "cell_type": "markdown",
      "id": "afee0127",
      "metadata": {
        "id": "afee0127"
      },
      "source": [
        "### UGTs"
      ]
    },
    {
      "cell_type": "code",
      "execution_count": null,
      "id": "e4988668",
      "metadata": {
        "scrolled": false,
        "id": "e4988668"
      },
      "outputs": [],
      "source": [
        "list_tf_links(tf_df, filter_desc='glucosyltransferase')"
      ]
    },
    {
      "cell_type": "markdown",
      "id": "aee3e14c",
      "metadata": {
        "id": "aee3e14c"
      },
      "source": [
        "### chemosensory"
      ]
    },
    {
      "cell_type": "code",
      "execution_count": null,
      "id": "ef04969a",
      "metadata": {
        "scrolled": true,
        "id": "ef04969a"
      },
      "outputs": [],
      "source": [
        "list_tf_links(tf_df, filter_desc='chemo')"
      ]
    },
    {
      "cell_type": "code",
      "execution_count": null,
      "id": "91c74737",
      "metadata": {
        "id": "91c74737"
      },
      "outputs": [],
      "source": [
        "list_tf_links(tf_df, filter_desc='sensory')"
      ]
    }
  ],
  "metadata": {
    "kernelspec": {
      "display_name": "Python 3 (ipykernel)",
      "language": "python",
      "name": "python3"
    },
    "language_info": {
      "codemirror_mode": {
        "name": "ipython",
        "version": 3
      },
      "file_extension": ".py",
      "mimetype": "text/x-python",
      "name": "python",
      "nbconvert_exporter": "python",
      "pygments_lexer": "ipython3",
      "version": "3.10.10"
    },
    "colab": {
      "provenance": [],
      "include_colab_link": true
    }
  },
  "nbformat": 4,
  "nbformat_minor": 5
}