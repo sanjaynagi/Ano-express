{
 "cells": [
  {
   "cell_type": "code",
   "execution_count": 1,
   "id": "c1f9c108",
   "metadata": {},
   "outputs": [],
   "source": [
    "import numpy as np\n",
    "\n",
    "from sklearn.cluster import DBSCAN\n",
    "from sklearn import metrics\n",
    "from sklearn.datasets import make_blobs\n",
    "from sklearn.preprocessing import StandardScaler"
   ]
  },
  {
   "cell_type": "code",
   "execution_count": 2,
   "id": "b7297ce8",
   "metadata": {},
   "outputs": [],
   "source": [
    "import pandas as pd"
   ]
  },
  {
   "cell_type": "code",
   "execution_count": 4,
   "id": "30fb3308",
   "metadata": {},
   "outputs": [],
   "source": [
    "fc_data = pd.read_csv(\"../../results/fc_data.tsv\", sep=\"\\t\")"
   ]
  },
  {
   "cell_type": "code",
   "execution_count": 9,
   "id": "f1c55e01",
   "metadata": {},
   "outputs": [],
   "source": [
    "fc_data = fc_data.set_index(\"GeneID\").iloc[:, :-2]"
   ]
  },
  {
   "cell_type": "code",
   "execution_count": 21,
   "id": "40622bbc",
   "metadata": {},
   "outputs": [],
   "source": [
    "X = StandardScaler().fit_transform(fc_data.values)\n"
   ]
  },
  {
   "cell_type": "code",
   "execution_count": 15,
   "id": "c1deb4e4",
   "metadata": {},
   "outputs": [],
   "source": [
    "fc_data = fc_data.dropna()"
   ]
  },
  {
   "cell_type": "code",
   "execution_count": 55,
   "id": "91d58ff5",
   "metadata": {
    "scrolled": true
   },
   "outputs": [],
   "source": [
    "db = DBSCAN(eps=1, min_samples=5).fit(X)"
   ]
  },
  {
   "cell_type": "code",
   "execution_count": 56,
   "id": "e12cf5f0",
   "metadata": {},
   "outputs": [],
   "source": [
    "core_samples_mask = np.zeros_like(db.labels_, dtype=bool)\n",
    "core_samples_mask[db.core_sample_indices_] = True\n",
    "labels = db.labels_"
   ]
  },
  {
   "cell_type": "code",
   "execution_count": 57,
   "id": "6879e713",
   "metadata": {},
   "outputs": [],
   "source": [
    "# Number of clusters in labels, ignoring noise if present.\n",
    "n_clusters_ = len(set(labels)) - (1 if -1 in labels else 0)\n",
    "n_noise_ = list(labels).count(-1)"
   ]
  },
  {
   "cell_type": "code",
   "execution_count": 58,
   "id": "3144e205",
   "metadata": {},
   "outputs": [
    {
     "data": {
      "text/plain": [
       "5"
      ]
     },
     "execution_count": 58,
     "metadata": {},
     "output_type": "execute_result"
    }
   ],
   "source": [
    "n_clusters_"
   ]
  },
  {
   "cell_type": "code",
   "execution_count": 59,
   "id": "4a78ca19",
   "metadata": {},
   "outputs": [
    {
     "name": "stdout",
     "output_type": "stream",
     "text": [
      "Estimated number of clusters: 5\n",
      "Estimated number of noise points: 7395\n",
      "Silhouette Coefficient: -0.361\n"
     ]
    }
   ],
   "source": [
    "\n",
    "print(\"Estimated number of clusters: %d\" % n_clusters_)\n",
    "print(\"Estimated number of noise points: %d\" % n_noise_)\n",
    "print(\"Silhouette Coefficient: %0.3f\" % metrics.silhouette_score(X, labels))"
   ]
  },
  {
   "cell_type": "code",
   "execution_count": 70,
   "id": "e3665d9f",
   "metadata": {},
   "outputs": [
    {
     "data": {
      "text/plain": [
       "array([[-0.49186757, -0.14602631, -0.13129231, ..., -0.16370048,\n",
       "        -0.29849465, -0.44174416],\n",
       "       [-0.45282818, -0.19647681,  0.00544343, ..., -0.09809137,\n",
       "        -0.27729207,  0.86688683],\n",
       "       [-0.68706455, -0.30999044, -0.22244947, ...,  0.25619781,\n",
       "         0.09375305, -0.27052141],\n",
       "       ...,\n",
       "       [-0.06243423, -0.22170206, -0.04013515, ...,  0.04624867,\n",
       "        -0.13947531,  0.21868643],\n",
       "       [-0.06243423, -0.54963032,  0.02063629, ..., -0.21618776,\n",
       "        -0.31969722,  0.24314683],\n",
       "       [-0.06243423,  0.08100094,  0.24852919, ...,  0.20371053,\n",
       "        -0.09707015, -0.23383083]])"
      ]
     },
     "execution_count": 70,
     "metadata": {},
     "output_type": "execute_result"
    }
   ],
   "source": [
    "db.components_"
   ]
  }
 ],
 "metadata": {
  "kernelspec": {
   "display_name": "Python 3 (ipykernel)",
   "language": "python",
   "name": "python3"
  },
  "language_info": {
   "codemirror_mode": {
    "name": "ipython",
    "version": 3
   },
   "file_extension": ".py",
   "mimetype": "text/x-python",
   "name": "python",
   "nbconvert_exporter": "python",
   "pygments_lexer": "ipython3",
   "version": "3.7.13"
  }
 },
 "nbformat": 4,
 "nbformat_minor": 5
}
