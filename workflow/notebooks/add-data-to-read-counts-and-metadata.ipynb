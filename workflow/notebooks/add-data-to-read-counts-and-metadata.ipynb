{
 "cells": [
  {
   "cell_type": "code",
   "execution_count": 29,
   "id": "45794ed8",
   "metadata": {},
   "outputs": [],
   "source": [
    "import pandas as pd\n",
    "import numpy as np\n",
    "import plotly.express as px"
   ]
  },
  {
   "cell_type": "markdown",
   "id": "ed2a7537",
   "metadata": {},
   "source": [
    "### Add data to counts"
   ]
  },
  {
   "cell_type": "code",
   "execution_count": 69,
   "id": "a22b57e3",
   "metadata": {},
   "outputs": [],
   "source": [
    "sample_metadata = pd.read_csv(\"../../config/sample_metadata.tsv\", sep=\"\\t\")\n",
    "gamb_colu_meta = sample_metadata.query(\"species in ['coluzzii', 'gambiae']\")\n",
    "gamb_colu_arab_meta = sample_metadata.query(\"species in ['coluzzii', 'gambiae', 'arabiensis']\")\n",
    "gamb_colu_arab_fun_meta = sample_metadata.query(\"species in ['coluzzii', 'gambiae', 'arabiensis', 'funestus']\")\n",
    "fun_meta = sample_metadata.query(\"species in ['funestus']\")"
   ]
  },
  {
   "cell_type": "code",
   "execution_count": 70,
   "id": "2cdbbac9",
   "metadata": {},
   "outputs": [],
   "source": [
    "# gamb colu\n",
    "gamb_colu_df = pd.read_csv(\"../../resources/gam_and_col_counts.txt\", sep=\"\\t\").rename(columns={'Geneid':'GeneID'}).set_index(\"GeneID\").iloc[:, 6:]\n",
    "agg_dict = {k:'mean' for k in gamb_colu_df.columns if k != 'GeneID'}\n",
    "gamb_colu_df = gamb_colu_df.reset_index().groupby(\"GeneID\").agg(agg_dict)\n",
    "cols = gamb_colu_meta['colData'].to_list()\n",
    "assert all(np.isin(gamb_colu_df.columns,cols))\n",
    "\n",
    "# gamb colu arab\n",
    "gamb_colu_arab_df = pd.read_csv(\"../../resources/gambiae_complex_counts.txt\", sep=\"\\t\").rename(columns={'Geneid':'GeneID'}).set_index(\"GeneID\").iloc[:, 7:]\n",
    "agg_dict = {k:'mean' for k in gamb_colu_arab_df.columns if k != 'GeneID'}\n",
    "gamb_colu_arab_df = gamb_colu_arab_df.reset_index().groupby(\"GeneID\").agg(agg_dict)\n",
    "cols = sample_metadata.query(\"species in ['coluzzii', 'gambiae', 'arabiensis']\")['colData'].to_list()\n",
    "assert all(np.isin(gamb_colu_arab_df.columns, cols))\n",
    "\n",
    "# gamb colu arab fun \n",
    "gamb_colu_arab_fun_df = pd.read_csv(\"../../resources/final_counts.txt\", sep=\"\\t\").rename(columns={'Geneid':'GeneID'}).set_index(\"GeneID\").iloc[:, 8:]\n",
    "agg_dict = {k:'mean' for k in gamb_colu_arab_fun_df.columns if k != 'GeneID'}\n",
    "gamb_colu_arab_fun_df = gamb_colu_arab_fun_df.reset_index().groupby(\"GeneID\").agg(agg_dict)\n",
    "cols = sample_metadata.query(\"species in ['coluzzii', 'gambiae', 'arabiensis', 'funestus']\")['colData'].to_list()\n",
    "assert all(np.isin(gamb_colu_arab_fun_df.columns, cols))\n",
    "\n",
    "# funestus \n",
    "names = {'CMR':'Cameroon_fun', \n",
    "         'FANG':'Fang', \n",
    "         'FMZ':'Fumoz', \n",
    "         'GHA':'Ghana_fun',\n",
    "         'MAL':'Malawi_fun',\n",
    "         'UGA': 'Uganda_fun'}\n",
    "\n",
    "def rename_duplicates(old):\n",
    "    seen = {}\n",
    "    for x in old:\n",
    "        if x in seen:\n",
    "            seen[x] += 1\n",
    "            yield \"%s%d\" % (x, seen[x])\n",
    "        else:\n",
    "            seen[x] = 1\n",
    "            yield \"%s%d\" % (x, seen[x])\n",
    "            \n",
    "fun_df = pd.read_csv(\"../../resources/funestus.counts.tsv\", sep=\"\\t\")\n",
    "fun_names = fun_df.columns[1:].str.slice(start=0, stop=4).str.replace(\"-\", \"\").to_list()\n",
    "fun_df = fun_df.rename(columns={'Geneid':'GeneID'}).set_index(\"GeneID\")\n",
    "fun_df.columns = [i for i in rename_duplicates([names[name] for name in fun_names])]"
   ]
  },
  {
   "cell_type": "markdown",
   "id": "6b2b4b05",
   "metadata": {},
   "source": [
    "### Add Bouake and Busia"
   ]
  },
  {
   "cell_type": "code",
   "execution_count": 71,
   "id": "3971c059",
   "metadata": {},
   "outputs": [
    {
     "data": {
      "text/html": [
       "<div>\n",
       "<style scoped>\n",
       "    .dataframe tbody tr th:only-of-type {\n",
       "        vertical-align: middle;\n",
       "    }\n",
       "\n",
       "    .dataframe tbody tr th {\n",
       "        vertical-align: top;\n",
       "    }\n",
       "\n",
       "    .dataframe thead th {\n",
       "        text-align: right;\n",
       "    }\n",
       "</style>\n",
       "<table border=\"1\" class=\"dataframe\">\n",
       "  <thead>\n",
       "    <tr style=\"text-align: right;\">\n",
       "      <th></th>\n",
       "      <th>GeneID</th>\n",
       "      <th>Bouake_Kisumu1</th>\n",
       "      <th>Bouake_Kisumu2</th>\n",
       "      <th>Bouake_Kisumu3</th>\n",
       "      <th>Bouake_Kisumu4</th>\n",
       "      <th>Bouake_colu_unexp1</th>\n",
       "      <th>Bouake_colu_unexp2</th>\n",
       "      <th>Bouake_colu_unexp3</th>\n",
       "      <th>Bouake_colu_unexp4</th>\n",
       "      <th>Bouake_Ngousso1</th>\n",
       "      <th>Bouake_Ngousso2</th>\n",
       "      <th>Bouake_Ngousso3</th>\n",
       "      <th>Bouake_Ngousso4</th>\n",
       "      <th>Bouake_gamb_unexp1</th>\n",
       "      <th>Bouake_gamb_unexp2</th>\n",
       "      <th>Bouake_gamb_unexp3</th>\n",
       "      <th>Bouake_gamb_unexp4</th>\n",
       "    </tr>\n",
       "  </thead>\n",
       "  <tbody>\n",
       "    <tr>\n",
       "      <th>0</th>\n",
       "      <td>AGAP000002</td>\n",
       "      <td>5686</td>\n",
       "      <td>5634</td>\n",
       "      <td>7127</td>\n",
       "      <td>5494</td>\n",
       "      <td>5470</td>\n",
       "      <td>3016</td>\n",
       "      <td>6043</td>\n",
       "      <td>4496</td>\n",
       "      <td>5441</td>\n",
       "      <td>5123</td>\n",
       "      <td>4811</td>\n",
       "      <td>3718</td>\n",
       "      <td>4628</td>\n",
       "      <td>6639</td>\n",
       "      <td>3164</td>\n",
       "      <td>5128</td>\n",
       "    </tr>\n",
       "    <tr>\n",
       "      <th>1</th>\n",
       "      <td>AGAP000005</td>\n",
       "      <td>10900</td>\n",
       "      <td>10540</td>\n",
       "      <td>13624</td>\n",
       "      <td>10039</td>\n",
       "      <td>8295</td>\n",
       "      <td>3185</td>\n",
       "      <td>8557</td>\n",
       "      <td>7962</td>\n",
       "      <td>10638</td>\n",
       "      <td>9715</td>\n",
       "      <td>8562</td>\n",
       "      <td>6951</td>\n",
       "      <td>5700</td>\n",
       "      <td>8411</td>\n",
       "      <td>3102</td>\n",
       "      <td>7615</td>\n",
       "    </tr>\n",
       "    <tr>\n",
       "      <th>2</th>\n",
       "      <td>AGAP000007</td>\n",
       "      <td>4195</td>\n",
       "      <td>4428</td>\n",
       "      <td>4815</td>\n",
       "      <td>3950</td>\n",
       "      <td>3660</td>\n",
       "      <td>1844</td>\n",
       "      <td>3639</td>\n",
       "      <td>4189</td>\n",
       "      <td>3450</td>\n",
       "      <td>3764</td>\n",
       "      <td>3390</td>\n",
       "      <td>2729</td>\n",
       "      <td>3204</td>\n",
       "      <td>4084</td>\n",
       "      <td>2350</td>\n",
       "      <td>4416</td>\n",
       "    </tr>\n",
       "  </tbody>\n",
       "</table>\n",
       "</div>"
      ],
      "text/plain": [
       "       GeneID  Bouake_Kisumu1  Bouake_Kisumu2  Bouake_Kisumu3  Bouake_Kisumu4  \\\n",
       "0  AGAP000002            5686            5634            7127            5494   \n",
       "1  AGAP000005           10900           10540           13624           10039   \n",
       "2  AGAP000007            4195            4428            4815            3950   \n",
       "\n",
       "   Bouake_colu_unexp1  Bouake_colu_unexp2  Bouake_colu_unexp3  \\\n",
       "0                5470                3016                6043   \n",
       "1                8295                3185                8557   \n",
       "2                3660                1844                3639   \n",
       "\n",
       "   Bouake_colu_unexp4  Bouake_Ngousso1  Bouake_Ngousso2  Bouake_Ngousso3  \\\n",
       "0                4496             5441             5123             4811   \n",
       "1                7962            10638             9715             8562   \n",
       "2                4189             3450             3764             3390   \n",
       "\n",
       "   Bouake_Ngousso4  Bouake_gamb_unexp1  Bouake_gamb_unexp2  \\\n",
       "0             3718                4628                6639   \n",
       "1             6951                5700                8411   \n",
       "2             2729                3204                4084   \n",
       "\n",
       "   Bouake_gamb_unexp3  Bouake_gamb_unexp4  \n",
       "0                3164                5128  \n",
       "1                3102                7615  \n",
       "2                2350                4416  "
      ]
     },
     "execution_count": 71,
     "metadata": {},
     "output_type": "execute_result"
    }
   ],
   "source": [
    "bouake_counts = pd.read_csv(\"../../../rna-seq-bouake/results/counts/rawcounts.tsv\", sep=\"\\t\")\n",
    "bouake_counts.columns = bouake_counts.columns.str.replace(\"coluzziiCont\", \"Bouake_colu_unexp\").str.replace(\"gambiaeCont\", \"Bouake_gamb_unexp\").str.replace(\"Kisumu\", \"Bouake_Kisumu\").str.replace(\"Ngousso\", \"Bouake_Ngousso\")\n",
    "bouake_counts = bouake_counts[[x for x in list(bouake_counts) if 'PM' not in x]]\n",
    "bouake_counts.head(3)"
   ]
  },
  {
   "cell_type": "code",
   "execution_count": 72,
   "id": "e701051f",
   "metadata": {},
   "outputs": [
    {
     "data": {
      "text/html": [
       "<div>\n",
       "<style scoped>\n",
       "    .dataframe tbody tr th:only-of-type {\n",
       "        vertical-align: middle;\n",
       "    }\n",
       "\n",
       "    .dataframe tbody tr th {\n",
       "        vertical-align: top;\n",
       "    }\n",
       "\n",
       "    .dataframe thead th {\n",
       "        text-align: right;\n",
       "    }\n",
       "</style>\n",
       "<table border=\"1\" class=\"dataframe\">\n",
       "  <thead>\n",
       "    <tr style=\"text-align: right;\">\n",
       "      <th></th>\n",
       "      <th>GeneID</th>\n",
       "      <th>BusiaSurvivors1</th>\n",
       "      <th>BusiaSurvivors2</th>\n",
       "      <th>BusiaSurvivors3</th>\n",
       "      <th>BusiaSurvivors4</th>\n",
       "      <th>BusiaSurvivors5</th>\n",
       "      <th>BusiaSurvivors6</th>\n",
       "      <th>Kisumu1</th>\n",
       "      <th>Kisumu2</th>\n",
       "      <th>Kisumu3</th>\n",
       "      <th>Kisumu4</th>\n",
       "    </tr>\n",
       "  </thead>\n",
       "  <tbody>\n",
       "    <tr>\n",
       "      <th>0</th>\n",
       "      <td>AGAP000002</td>\n",
       "      <td>5454</td>\n",
       "      <td>5744</td>\n",
       "      <td>4947</td>\n",
       "      <td>5720</td>\n",
       "      <td>6411</td>\n",
       "      <td>5964</td>\n",
       "      <td>4001</td>\n",
       "      <td>3905</td>\n",
       "      <td>3712</td>\n",
       "      <td>4173</td>\n",
       "    </tr>\n",
       "    <tr>\n",
       "      <th>1</th>\n",
       "      <td>AGAP000005</td>\n",
       "      <td>9109</td>\n",
       "      <td>10237</td>\n",
       "      <td>8409</td>\n",
       "      <td>9858</td>\n",
       "      <td>12172</td>\n",
       "      <td>10570</td>\n",
       "      <td>5423</td>\n",
       "      <td>5431</td>\n",
       "      <td>4938</td>\n",
       "      <td>5914</td>\n",
       "    </tr>\n",
       "    <tr>\n",
       "      <th>2</th>\n",
       "      <td>AGAP000007</td>\n",
       "      <td>4221</td>\n",
       "      <td>4312</td>\n",
       "      <td>3682</td>\n",
       "      <td>4035</td>\n",
       "      <td>4149</td>\n",
       "      <td>3966</td>\n",
       "      <td>3693</td>\n",
       "      <td>3443</td>\n",
       "      <td>3418</td>\n",
       "      <td>3374</td>\n",
       "    </tr>\n",
       "  </tbody>\n",
       "</table>\n",
       "</div>"
      ],
      "text/plain": [
       "       GeneID  BusiaSurvivors1  BusiaSurvivors2  BusiaSurvivors3  \\\n",
       "0  AGAP000002             5454             5744             4947   \n",
       "1  AGAP000005             9109            10237             8409   \n",
       "2  AGAP000007             4221             4312             3682   \n",
       "\n",
       "   BusiaSurvivors4  BusiaSurvivors5  BusiaSurvivors6  Kisumu1  Kisumu2  \\\n",
       "0             5720             6411             5964     4001     3905   \n",
       "1             9858            12172            10570     5423     5431   \n",
       "2             4035             4149             3966     3693     3443   \n",
       "\n",
       "   Kisumu3  Kisumu4  \n",
       "0     3712     4173  \n",
       "1     4938     5914  \n",
       "2     3418     3374  "
      ]
     },
     "execution_count": 72,
     "metadata": {},
     "output_type": "execute_result"
    }
   ],
   "source": [
    "busia_counts = pd.read_csv(\"../../../rna-seq-busia/results/counts/rawcounts.tsv\", sep=\"\\t\")\n",
    "busia_counts.columns = busia_counts.columns.str.replace(\"G24-\", \"\").str.replace(\"G28-\", \"\")\n",
    "busia_counts = busia_counts[[x for x in list(busia_counts) if \"Parental\" not in x]]\n",
    "busia_counts.head(3)"
   ]
  },
  {
   "cell_type": "markdown",
   "id": "f95b02ae",
   "metadata": {},
   "source": [
    "#### Lets merge these counts"
   ]
  },
  {
   "cell_type": "code",
   "execution_count": 73,
   "id": "36f6dad1",
   "metadata": {},
   "outputs": [
    {
     "name": "stdout",
     "output_type": "stream",
     "text": [
      "(10270, 124)\n",
      "(8651, 152)\n",
      "(8599, 198)\n"
     ]
    }
   ],
   "source": [
    "gamb_colu_df = gamb_colu_df.reset_index().merge(bouake_counts).merge(busia_counts).set_index(\"GeneID\")\n",
    "print(gamb_colu_df.shape)\n",
    "\n",
    "gamb_colu_arab_df = gamb_colu_arab_df.reset_index().merge(bouake_counts).merge(busia_counts).set_index(\"GeneID\")\n",
    "print(gamb_colu_arab_df.shape)\n",
    "\n",
    "gamb_colu_arab_fun_df = gamb_colu_arab_fun_df.reset_index().merge(bouake_counts).merge(busia_counts).set_index(\"GeneID\")\n",
    "print(gamb_colu_arab_fun_df.shape)"
   ]
  },
  {
   "cell_type": "code",
   "execution_count": 75,
   "id": "49e6af65",
   "metadata": {},
   "outputs": [],
   "source": [
    "### reordering columns\n",
    "gamb_colu_df = gamb_colu_df.loc[:, gamb_colu_meta['colData'].to_list()]\n",
    "\n",
    "gamb_colu_arab_df = gamb_colu_arab_df.loc[:, gamb_colu_arab_meta['colData'].to_list()]\n",
    "\n",
    "gamb_colu_arab_fun_df = gamb_colu_arab_fun_df.loc[:, gamb_colu_arab_fun_meta['colData'].to_list()]\n",
    "\n",
    "fun_df = fun_df.loc[:, fun_meta['colData'].to_list()]"
   ]
  },
  {
   "cell_type": "markdown",
   "id": "1fd19d89",
   "metadata": {},
   "source": [
    "### Write counts to file"
   ]
  },
  {
   "cell_type": "code",
   "execution_count": 79,
   "id": "7bc649b4",
   "metadata": {},
   "outputs": [],
   "source": [
    "# gamb colu\n",
    "gamb_colu_df.to_csv(\"../../results/gamb_colu.counts.tsv\", sep=\"\\t\")\n",
    "np.log2(gamb_colu_df + 1).round(1).to_csv(\"../../results/gamb_colu.log2counts.tsv\", sep=\"\\t\")\n",
    "\n",
    "# gamb colu arab\n",
    "gamb_colu_arab_df.to_csv(\"../../results/gamb_colu_arab.counts.tsv\", sep=\"\\t\")\n",
    "np.log2(gamb_colu_arab_df + 1).round(1).to_csv(\"../../results/gamb_colu_arab.log2counts.tsv\", sep=\"\\t\")\n",
    "\n",
    "# gamb colu arab funestus\n",
    "gamb_colu_arab_fun_df.to_csv(\"../../results/gamb_colu_arab_fun.counts.tsv\", sep=\"\\t\")\n",
    "np.log2(gamb_colu_arab_fun_df + 1).round(1).to_csv(\"../../results/gamb_colu_arab_fun.log2counts.tsv\", sep=\"\\t\")\n",
    "\n",
    "# funestus \n",
    "fun_df.to_csv(\"../../results/fun.counts.tsv\", sep=\"\\t\")\n",
    "np.log2(fun_df + 1).round(1).to_csv(\"../../results/fun.log2counts.tsv\", sep=\"\\t\")"
   ]
  },
  {
   "cell_type": "markdown",
   "id": "78817727",
   "metadata": {},
   "source": [
    "#### Now we must update col_data"
   ]
  },
  {
   "cell_type": "code",
   "execution_count": 29,
   "id": "1c4dfd0b",
   "metadata": {},
   "outputs": [],
   "source": [
    "metadata = pd.read_csv(\"../../config/ALLcoldata.txt\", sep=\"\\t\")\n",
    "metadata = metadata[['colData', 'condition', 'resistance', 'species', 'batch']]\n",
    "#meta.loc[:,'condition'] = meta['condition'].str.replace(\"_fun\", \"\")\n",
    "metadata.loc[:, 'condition'] = metadata.loc[:,'condition'].str.replace(\"NG\", \"Ngousso\").str.replace(\"Kis\", 'Kisumu')"
   ]
  },
  {
   "cell_type": "code",
   "execution_count": 30,
   "id": "2236f2ce",
   "metadata": {},
   "outputs": [],
   "source": [
    "bouake_df = pd.DataFrame(bouake_counts.iloc[:, 1:].columns, columns=['colData'])\n",
    "bouake_df.loc[:, 'condition'] = bouake_df.loc[:, 'colData'].str.rstrip('0123456789').str.replace(\"Bouake_Ki\", \"Kisumu\").str.replace(\"Bouake_Ng\", \"Ngousso\")\n",
    "bouake_df.loc[:, 'resistance'] = np.hstack([np.repeat(\"susceptible\", 4), \n",
    "                                           np.repeat(\"resistant\", 4), \n",
    "                                           np.repeat(\"susceptible\", 4), \n",
    "                                           np.repeat(\"resistant\", 4)])\n",
    "bouake_df.loc[:, 'species'] = np.repeat(\"gambiae\", 16)\n",
    "bouake_df.loc[:, 'batch'] = np.hstack([np.repeat(10, 4), \n",
    "                                       np.repeat(11, 8), \n",
    "                                       np.repeat(10, 4)])"
   ]
  },
  {
   "cell_type": "code",
   "execution_count": 31,
   "id": "378f67e0",
   "metadata": {},
   "outputs": [],
   "source": [
    "busia_df = pd.DataFrame(busia_counts .iloc[:, 1:].columns, columns=['colData'])\n",
    "busia_df.loc[:, 'condition'] = busia_df.loc[:, 'colData'].str.rstrip('0123456789')\n",
    "busia_df.loc[:, 'resistance'] = np.hstack([np.repeat(\"resistant\", 6), np.repeat(\"susceptible\", 4)])\n",
    "busia_df.loc[:, 'species'] = np.repeat(\"gambiae\", 10)\n",
    "busia_df.loc[:, 'batch'] = 12"
   ]
  },
  {
   "cell_type": "code",
   "execution_count": 33,
   "id": "6ae8c11e",
   "metadata": {},
   "outputs": [],
   "source": [
    "metadata = pd.concat([metadata, bouake_df, busia_df])"
   ]
  },
  {
   "cell_type": "markdown",
   "id": "d3d23bd9",
   "metadata": {},
   "source": [
    "### Write to file"
   ]
  },
  {
   "cell_type": "code",
   "execution_count": 38,
   "id": "b7906c18",
   "metadata": {},
   "outputs": [],
   "source": [
    "# metadata = pd.read_csv(\"../../config/sample_metadata.tsv\", sep=\"\\t\")\n",
    "# metadata = \n",
    "\n",
    "comp_df = pd.read_csv(\"../../config/comparison_metadata.tsv\", sep=\"\\t\")\n",
    "\n",
    "comps_df_merge = comp_df.melt(id_vars=['comparison', 'species','country'], \n",
    "                               value_vars=['resistant', 'susceptible'],\n",
    "                              value_name='condition', var_name='resistance')\n",
    "\n",
    "replace_di = { 'NG':'Cameroon',\n",
    "    'Ngousso':'Cameroon', \n",
    "    'Moz':'Mozambique',\n",
    "    'BanSu':  'Burkina Faso',\n",
    "    'Kisumu': 'Kenya',\n",
    "    'Ki': 'Kenya',\n",
    "    'Kis': 'Kenya',\n",
    "    \"Fang\":\"Angola\",\n",
    "    \"Dongola\":\"Sudan\"}\n",
    "\n",
    "\n",
    "comps_res = comps_df_merge.query(\"resistance == 'resistant'\")\n",
    "comps_sus = comps_df_merge.query(\"resistance == 'susceptible'\")\n",
    "comps_sus = comps_sus.assign(country=comps_sus['condition'])\n",
    "comps_sus = comps_sus.replace({\"country\":replace_di})"
   ]
  },
  {
   "cell_type": "code",
   "execution_count": 39,
   "id": "5ff90b87",
   "metadata": {},
   "outputs": [],
   "source": [
    "comps_merge_df = pd.concat([comps_res, comps_sus])"
   ]
  },
  {
   "cell_type": "code",
   "execution_count": 40,
   "id": "43b59c72",
   "metadata": {},
   "outputs": [],
   "source": [
    "metadata = metadata.merge(comps_merge_df[['condition', 'country']].drop_duplicates(), how='left')"
   ]
  },
  {
   "cell_type": "code",
   "execution_count": 31,
   "id": "a64a3ec8",
   "metadata": {},
   "outputs": [],
   "source": [
    "pd.set_option('display.max_rows', 500)"
   ]
  },
  {
   "cell_type": "code",
   "execution_count": 42,
   "id": "9efd5eb5",
   "metadata": {},
   "outputs": [],
   "source": [
    "counts.to_csv(\"../../results/final_raw_counts.tsv\", sep=\"\\t\", index=None)\n",
    "metadata.to_csv(\"../../config/sample_metadata.tsv\", sep=\"\\t\", index=None)"
   ]
  },
  {
   "cell_type": "markdown",
   "id": "9bc6c28e",
   "metadata": {},
   "source": [
    "### Create metadata"
   ]
  },
  {
   "cell_type": "code",
   "execution_count": 36,
   "id": "127bb37d",
   "metadata": {},
   "outputs": [],
   "source": [
    "def load_species(df, meta):\n",
    "    spp=np.array([])\n",
    "    for c in df.resistant:\n",
    "        spps = meta.query(f\"condition == '{c}'\")['species'].unique()\n",
    "        spp = np.append(spp, spps)\n",
    "    return spp"
   ]
  },
  {
   "cell_type": "code",
   "execution_count": 32,
   "id": "82860702",
   "metadata": {},
   "outputs": [],
   "source": [
    "metadata = pd.read_csv(\"../../config/sample_metadata.tsv\", sep=\"\\t\")\n",
    "meta = metadata[['condition', 'species']].drop_duplicates()"
   ]
  },
  {
   "cell_type": "code",
   "execution_count": 33,
   "id": "51013915",
   "metadata": {},
   "outputs": [],
   "source": [
    "fc_data = pd.read_csv(\"../../results/fc_data.tsv\", sep=\"\\t\")\n",
    "fc_data = fc_data.iloc[:, 1:-2]\n",
    "\n",
    "comp_df = pd.DataFrame(fc_data.columns.str.replace(\"_log2FoldChange\", \"\"), columns=['comparison'])\n",
    "\n",
    "comp_df.loc[:, 'resistant'] = comp_df.loc[:, 'comparison'].str.split(\"_v_\").str.get(0)\n",
    "comp_df.loc[:, 'susceptible'] = comp_df.loc[:, 'comparison'].str.split(\"_v_\").str.get(-1)\n",
    "comp_df.loc[:, 'susceptible'] = comp_df.loc[:, 'susceptible']\n",
    "comp_df.loc[:, 'species'] = load_species(comp_df, meta)"
   ]
  },
  {
   "cell_type": "code",
   "execution_count": 40,
   "id": "74e93d20",
   "metadata": {},
   "outputs": [],
   "source": [
    "comp_df = comp_df.query(\"~resistant.str.contains('_exp')\", engine='python').query(\"~resistant.str.contains('Parental')\", engine='python')"
   ]
  },
  {
   "cell_type": "code",
   "execution_count": 41,
   "id": "097c6083",
   "metadata": {},
   "outputs": [],
   "source": [
    "comp_df.loc[:, 'country'] = ['Burkina Faso', 'Burkina Faso', 'Burkina Faso', 'Burkina Faso', 'Burkina Faso', \n",
    "                             'Burkina Faso', 'Cameroon', 'Chad', 'Niger', 'Nigeria', \n",
    "                             \"Cote d'Ivoire\", \"Cote d'Ivoire\", \"Cote d'Ivoire\", \"Cote d'Ivoire\", \"Cote d'Ivoire\",\n",
    "                             \"Cote d'Ivoire\", 'Cameroon', 'Mozambique', 'Ghana', 'Malawi',\n",
    "                             'Uganda', 'Ethiopia', 'Ethiopia', 'Ethiopia', 'Ethiopia'] + np.repeat(\"Cote d'Ivoire\", 6).tolist() + [\"Uganda\"]"
   ]
  },
  {
   "cell_type": "code",
   "execution_count": 43,
   "id": "30d62bfb",
   "metadata": {},
   "outputs": [],
   "source": [
    "comp_df.to_csv(\"../../config/comparison_metadata.tsv\", sep=\"\\t\", index=False)"
   ]
  }
 ],
 "metadata": {
  "kernelspec": {
   "display_name": "base",
   "language": "python",
   "name": "python3"
  },
  "language_info": {
   "codemirror_mode": {
    "name": "ipython",
    "version": 3
   },
   "file_extension": ".py",
   "mimetype": "text/x-python",
   "name": "python",
   "nbconvert_exporter": "python",
   "pygments_lexer": "ipython3",
   "version": "3.7.13 (default, Mar 29 2022, 02:18:16) \n[GCC 7.5.0]"
  },
  "vscode": {
   "interpreter": {
    "hash": "ce681de973941d5edd9bd94c9a2926b7fe65e17e578a68317f38265a230b8ca7"
   }
  }
 },
 "nbformat": 4,
 "nbformat_minor": 5
}
