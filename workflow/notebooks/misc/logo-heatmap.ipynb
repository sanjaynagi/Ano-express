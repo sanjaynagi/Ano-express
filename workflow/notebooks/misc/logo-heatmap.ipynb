{
 "cells": [
  {
   "cell_type": "code",
   "execution_count": null,
   "id": "b24ea52a",
   "metadata": {},
   "outputs": [],
   "source": [
    "import numpy as np\n",
    "import seaborn as sns\n",
    "import pandas as pd\n",
    "import matplotlib.pyplot as plt\n",
    "import cv2"
   ]
  },
  {
   "cell_type": "code",
   "execution_count": null,
   "id": "7bf36b32",
   "metadata": {},
   "outputs": [],
   "source": [
    "img_path = '../../../docs/logo_img.png'\n",
    "img = cv2.imread(img_path, 0) # read image as grayscale. Set second parameter to 1 if rgb is required \n",
    "img_reverted= cv2.bitwise_not(img)\n",
    "new_img = img_reverted / 255.0 # // #now all values are ranging from 0 to 1, where white equlas 0.0 and black equals 1.0 \n",
    "\n",
    "new_img[7,23] = 1\n",
    "new_img[6,23] = 1\n",
    "new_img[5,23] = 1\n",
    "new_img[10,22] = 1\n",
    "new_img[10,24] = 1\n",
    "new_img[11,22] = 1\n",
    "new_img[1:3,:] = 1\n",
    "new_img[-3:-1,:] = 1\n",
    "new_img[:, 1:3] = 1\n",
    "new_img[:, -3:-1] = 1\n",
    "\n",
    "\n",
    "\n",
    "\n",
    "new_img[26:28, 107:130] = 1\n",
    "new_img[27:29, 98:101] = 1\n",
    "new_img[18, 64] = 0\n",
    "new_img[22, 97] = 0\n",
    "new_img[12, 11] = 0\n",
    "new_img[12, 12] = 0\n",
    "new_img[12, 34] = 0\n",
    "new_img[12, 35] = 0\n",
    "\n",
    "\n",
    "logo_arr = pd.DataFrame(new_img).applymap(lambda x: np.random.uniform(low=0, high=0.6) if x < 0.15 else np.random.uniform(low=0.84, high=1))\n",
    "\n",
    "fig, ax = plt.subplots(1,1, figsize=[10,2]) \n",
    "sns.heatmap(logo_arr, ax=ax, cbar=False, linewidth=0.72)\n",
    "ax.set_xticks([])\n",
    "ax.set_yticks([])\n",
    "plt.savefig(\"../../../docs/logo.png\")"
   ]
  }
 ],
 "metadata": {
  "kernelspec": {
   "display_name": "mapping",
   "language": "python",
   "name": "python3"
  },
  "language_info": {
   "codemirror_mode": {
    "name": "ipython",
    "version": 3
   },
   "file_extension": ".py",
   "mimetype": "text/x-python",
   "name": "python",
   "nbconvert_exporter": "python",
   "pygments_lexer": "ipython3",
   "version": "3.8.13"
  },
  "vscode": {
   "interpreter": {
    "hash": "ef5a26b0dd545e5388d06896e9c09eaa1dca06238f3d29040a22ad72f2a5eb07"
   }
  }
 },
 "nbformat": 4,
 "nbformat_minor": 5
}
