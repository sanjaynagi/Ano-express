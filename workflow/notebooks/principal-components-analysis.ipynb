{
 "cells": [
  {
   "cell_type": "markdown",
   "metadata": {
    "colab_type": "text",
    "id": "view-in-github"
   },
   "source": [
    "<a href=\"https://colab.research.google.com/github/sanjaynagi/AnoExpressIR/blob/main/workflow/notebooks/misc/pca-count-data.ipynb\" target=\"_parent\"><img src=\"https://colab.research.google.com/assets/colab-badge.svg\" alt=\"Open In Colab\"/></a>"
   ]
  },
  {
   "cell_type": "code",
   "execution_count": null,
   "metadata": {},
   "outputs": [],
   "source": [
    "#!pip install anoexpress -q "
   ]
  },
  {
   "cell_type": "code",
   "execution_count": 1,
   "metadata": {
    "id": "Az2nLmd3VGpx"
   },
   "outputs": [],
   "source": [
    "import anoexpress as xpress\n",
    "import pandas as pd\n",
    "import numpy as np\n",
    "import plotly.express as px"
   ]
  },
  {
   "cell_type": "markdown",
   "metadata": {
    "id": "oBm76PlYASKB"
   },
   "source": [
    "# Principal components analysis\n",
    "\n",
    "In this notebook, we perform principal components analysis to explore overall structure across the count and fold change data. "
   ]
  },
  {
   "cell_type": "code",
   "execution_count": 18,
   "metadata": {
    "id": "4mwawklRH1qb"
   },
   "outputs": [],
   "source": [
    "def pca(analysis, data_type='log2counts', x=\"PC1\", y=\"PC2\", microarray=False):\n",
    "    from sklearn.decomposition import PCA\n",
    "\n",
    "    res_data = xpress.data(analysis=analysis, data_type=data_type, microarray=microarray)\n",
    "    \n",
    "    if microarray:\n",
    "        res_data = res_data.dropna()\n",
    "    \n",
    "    assert data_type in ['fcs', 'log2counts']\n",
    "    if data_type == 'fcs':\n",
    "        metadata = xpress.metadata(analysis=analysis, microarray=microarray)\n",
    "        hover_data = ['comparison', 'country', 'technology']\n",
    "    elif data_type == 'log2counts':\n",
    "        metadata = xpress.sample_metadata(analysis=analysis)\n",
    "        hover_data = ['condition', 'resistance']\n",
    "\n",
    "    pca = PCA(n_components=6)\n",
    "    principalComponents = pca.fit_transform(res_data.T)\n",
    "    pc = pd.DataFrame(data = principalComponents, columns = ['PC1', 'PC2', 'PC3', 'PC4', 'PC5', 'PC6'])\n",
    "    pca_df = pd.concat([metadata, pc], axis=1)\n",
    "    \n",
    "    fig = px.scatter(\n",
    "        data_frame=pca_df, \n",
    "        x=x, y=y, \n",
    "        color='species', \n",
    "        labels={\n",
    "             \"PC1\": f\"PC1  - variance explained: {np.round(pca.explained_variance_ratio_[0], 2)}\",\n",
    "             \"PC2\": f\"PC2  - variance explained: {np.round(pca.explained_variance_ratio_[1], 2)}\",\n",
    "            },\n",
    "        hover_data = hover_data,\n",
    "        template=\"simple_white\", \n",
    "        width=800, \n",
    "        height=600\n",
    "    )\n",
    "\n",
    "    pc_df = pd.DataFrame({'PC':['PC1', 'PC2', 'PC3', 'PC4', 'PC5', 'PC6'], \n",
    "              'explained_variance':pca.explained_variance_ratio_})\n",
    "\n",
    "    var_fig=px.bar(pc_df, x='PC', y='explained_variance', width=800, height=400)  \n",
    "    var_fig.show()\n",
    "    return(fig)"
   ]
  },
  {
   "cell_type": "markdown",
   "metadata": {
    "id": "cPZja7V7xiuF"
   },
   "source": [
    "### PCA on count data\n",
    "#### PC1 V PC2"
   ]
  },
  {
   "cell_type": "code",
   "execution_count": 15,
   "metadata": {
    "colab": {
     "base_uri": "https://localhost:8080/",
     "height": 1000
    },
    "id": "LMgyhUOggLJl",
    "outputId": "e7a3eced-87e9-44e6-cae5-a2c529e1bf6c"
   },
   "outputs": [
    {
     "data": {
      "application/vnd.plotly.v1+json": {
       "config": {
        "plotlyServerURL": "https://plot.ly"
       },
       "data": [
        {
         "alignmentgroup": "True",
         "hovertemplate": "PC=%{x}<br>explained_variance=%{y}<extra></extra>",
         "legendgroup": "",
         "marker": {
          "color": "#636efa",
          "pattern": {
           "shape": ""
          }
         },
         "name": "",
         "offsetgroup": "",
         "orientation": "v",
         "showlegend": false,
         "textposition": "auto",
         "type": "bar",
         "x": [
          "PC1",
          "PC2",
          "PC3",
          "PC4",
          "PC5",
          "PC6"
         ],
         "xaxis": "x",
         "y": [
          0.4075433416709788,
          0.15307818022517977,
          0.08787993588374204,
          0.03826578950774717,
          0.028303638584017875,
          0.02334026331261983
         ],
         "yaxis": "y"
        }
       ],
       "layout": {
        "barmode": "relative",
        "height": 400,
        "legend": {
         "tracegroupgap": 0
        },
        "margin": {
         "t": 60
        },
        "template": {
         "data": {
          "bar": [
           {
            "error_x": {
             "color": "#2a3f5f"
            },
            "error_y": {
             "color": "#2a3f5f"
            },
            "marker": {
             "line": {
              "color": "#E5ECF6",
              "width": 0.5
             },
             "pattern": {
              "fillmode": "overlay",
              "size": 10,
              "solidity": 0.2
             }
            },
            "type": "bar"
           }
          ],
          "barpolar": [
           {
            "marker": {
             "line": {
              "color": "#E5ECF6",
              "width": 0.5
             },
             "pattern": {
              "fillmode": "overlay",
              "size": 10,
              "solidity": 0.2
             }
            },
            "type": "barpolar"
           }
          ],
          "carpet": [
           {
            "aaxis": {
             "endlinecolor": "#2a3f5f",
             "gridcolor": "white",
             "linecolor": "white",
             "minorgridcolor": "white",
             "startlinecolor": "#2a3f5f"
            },
            "baxis": {
             "endlinecolor": "#2a3f5f",
             "gridcolor": "white",
             "linecolor": "white",
             "minorgridcolor": "white",
             "startlinecolor": "#2a3f5f"
            },
            "type": "carpet"
           }
          ],
          "choropleth": [
           {
            "colorbar": {
             "outlinewidth": 0,
             "ticks": ""
            },
            "type": "choropleth"
           }
          ],
          "contour": [
           {
            "colorbar": {
             "outlinewidth": 0,
             "ticks": ""
            },
            "colorscale": [
             [
              0,
              "#0d0887"
             ],
             [
              0.1111111111111111,
              "#46039f"
             ],
             [
              0.2222222222222222,
              "#7201a8"
             ],
             [
              0.3333333333333333,
              "#9c179e"
             ],
             [
              0.4444444444444444,
              "#bd3786"
             ],
             [
              0.5555555555555556,
              "#d8576b"
             ],
             [
              0.6666666666666666,
              "#ed7953"
             ],
             [
              0.7777777777777778,
              "#fb9f3a"
             ],
             [
              0.8888888888888888,
              "#fdca26"
             ],
             [
              1,
              "#f0f921"
             ]
            ],
            "type": "contour"
           }
          ],
          "contourcarpet": [
           {
            "colorbar": {
             "outlinewidth": 0,
             "ticks": ""
            },
            "type": "contourcarpet"
           }
          ],
          "heatmap": [
           {
            "colorbar": {
             "outlinewidth": 0,
             "ticks": ""
            },
            "colorscale": [
             [
              0,
              "#0d0887"
             ],
             [
              0.1111111111111111,
              "#46039f"
             ],
             [
              0.2222222222222222,
              "#7201a8"
             ],
             [
              0.3333333333333333,
              "#9c179e"
             ],
             [
              0.4444444444444444,
              "#bd3786"
             ],
             [
              0.5555555555555556,
              "#d8576b"
             ],
             [
              0.6666666666666666,
              "#ed7953"
             ],
             [
              0.7777777777777778,
              "#fb9f3a"
             ],
             [
              0.8888888888888888,
              "#fdca26"
             ],
             [
              1,
              "#f0f921"
             ]
            ],
            "type": "heatmap"
           }
          ],
          "heatmapgl": [
           {
            "colorbar": {
             "outlinewidth": 0,
             "ticks": ""
            },
            "colorscale": [
             [
              0,
              "#0d0887"
             ],
             [
              0.1111111111111111,
              "#46039f"
             ],
             [
              0.2222222222222222,
              "#7201a8"
             ],
             [
              0.3333333333333333,
              "#9c179e"
             ],
             [
              0.4444444444444444,
              "#bd3786"
             ],
             [
              0.5555555555555556,
              "#d8576b"
             ],
             [
              0.6666666666666666,
              "#ed7953"
             ],
             [
              0.7777777777777778,
              "#fb9f3a"
             ],
             [
              0.8888888888888888,
              "#fdca26"
             ],
             [
              1,
              "#f0f921"
             ]
            ],
            "type": "heatmapgl"
           }
          ],
          "histogram": [
           {
            "marker": {
             "pattern": {
              "fillmode": "overlay",
              "size": 10,
              "solidity": 0.2
             }
            },
            "type": "histogram"
           }
          ],
          "histogram2d": [
           {
            "colorbar": {
             "outlinewidth": 0,
             "ticks": ""
            },
            "colorscale": [
             [
              0,
              "#0d0887"
             ],
             [
              0.1111111111111111,
              "#46039f"
             ],
             [
              0.2222222222222222,
              "#7201a8"
             ],
             [
              0.3333333333333333,
              "#9c179e"
             ],
             [
              0.4444444444444444,
              "#bd3786"
             ],
             [
              0.5555555555555556,
              "#d8576b"
             ],
             [
              0.6666666666666666,
              "#ed7953"
             ],
             [
              0.7777777777777778,
              "#fb9f3a"
             ],
             [
              0.8888888888888888,
              "#fdca26"
             ],
             [
              1,
              "#f0f921"
             ]
            ],
            "type": "histogram2d"
           }
          ],
          "histogram2dcontour": [
           {
            "colorbar": {
             "outlinewidth": 0,
             "ticks": ""
            },
            "colorscale": [
             [
              0,
              "#0d0887"
             ],
             [
              0.1111111111111111,
              "#46039f"
             ],
             [
              0.2222222222222222,
              "#7201a8"
             ],
             [
              0.3333333333333333,
              "#9c179e"
             ],
             [
              0.4444444444444444,
              "#bd3786"
             ],
             [
              0.5555555555555556,
              "#d8576b"
             ],
             [
              0.6666666666666666,
              "#ed7953"
             ],
             [
              0.7777777777777778,
              "#fb9f3a"
             ],
             [
              0.8888888888888888,
              "#fdca26"
             ],
             [
              1,
              "#f0f921"
             ]
            ],
            "type": "histogram2dcontour"
           }
          ],
          "mesh3d": [
           {
            "colorbar": {
             "outlinewidth": 0,
             "ticks": ""
            },
            "type": "mesh3d"
           }
          ],
          "parcoords": [
           {
            "line": {
             "colorbar": {
              "outlinewidth": 0,
              "ticks": ""
             }
            },
            "type": "parcoords"
           }
          ],
          "pie": [
           {
            "automargin": true,
            "type": "pie"
           }
          ],
          "scatter": [
           {
            "fillpattern": {
             "fillmode": "overlay",
             "size": 10,
             "solidity": 0.2
            },
            "type": "scatter"
           }
          ],
          "scatter3d": [
           {
            "line": {
             "colorbar": {
              "outlinewidth": 0,
              "ticks": ""
             }
            },
            "marker": {
             "colorbar": {
              "outlinewidth": 0,
              "ticks": ""
             }
            },
            "type": "scatter3d"
           }
          ],
          "scattercarpet": [
           {
            "marker": {
             "colorbar": {
              "outlinewidth": 0,
              "ticks": ""
             }
            },
            "type": "scattercarpet"
           }
          ],
          "scattergeo": [
           {
            "marker": {
             "colorbar": {
              "outlinewidth": 0,
              "ticks": ""
             }
            },
            "type": "scattergeo"
           }
          ],
          "scattergl": [
           {
            "marker": {
             "colorbar": {
              "outlinewidth": 0,
              "ticks": ""
             }
            },
            "type": "scattergl"
           }
          ],
          "scattermapbox": [
           {
            "marker": {
             "colorbar": {
              "outlinewidth": 0,
              "ticks": ""
             }
            },
            "type": "scattermapbox"
           }
          ],
          "scatterpolar": [
           {
            "marker": {
             "colorbar": {
              "outlinewidth": 0,
              "ticks": ""
             }
            },
            "type": "scatterpolar"
           }
          ],
          "scatterpolargl": [
           {
            "marker": {
             "colorbar": {
              "outlinewidth": 0,
              "ticks": ""
             }
            },
            "type": "scatterpolargl"
           }
          ],
          "scatterternary": [
           {
            "marker": {
             "colorbar": {
              "outlinewidth": 0,
              "ticks": ""
             }
            },
            "type": "scatterternary"
           }
          ],
          "surface": [
           {
            "colorbar": {
             "outlinewidth": 0,
             "ticks": ""
            },
            "colorscale": [
             [
              0,
              "#0d0887"
             ],
             [
              0.1111111111111111,
              "#46039f"
             ],
             [
              0.2222222222222222,
              "#7201a8"
             ],
             [
              0.3333333333333333,
              "#9c179e"
             ],
             [
              0.4444444444444444,
              "#bd3786"
             ],
             [
              0.5555555555555556,
              "#d8576b"
             ],
             [
              0.6666666666666666,
              "#ed7953"
             ],
             [
              0.7777777777777778,
              "#fb9f3a"
             ],
             [
              0.8888888888888888,
              "#fdca26"
             ],
             [
              1,
              "#f0f921"
             ]
            ],
            "type": "surface"
           }
          ],
          "table": [
           {
            "cells": {
             "fill": {
              "color": "#EBF0F8"
             },
             "line": {
              "color": "white"
             }
            },
            "header": {
             "fill": {
              "color": "#C8D4E3"
             },
             "line": {
              "color": "white"
             }
            },
            "type": "table"
           }
          ]
         },
         "layout": {
          "annotationdefaults": {
           "arrowcolor": "#2a3f5f",
           "arrowhead": 0,
           "arrowwidth": 1
          },
          "autotypenumbers": "strict",
          "coloraxis": {
           "colorbar": {
            "outlinewidth": 0,
            "ticks": ""
           }
          },
          "colorscale": {
           "diverging": [
            [
             0,
             "#8e0152"
            ],
            [
             0.1,
             "#c51b7d"
            ],
            [
             0.2,
             "#de77ae"
            ],
            [
             0.3,
             "#f1b6da"
            ],
            [
             0.4,
             "#fde0ef"
            ],
            [
             0.5,
             "#f7f7f7"
            ],
            [
             0.6,
             "#e6f5d0"
            ],
            [
             0.7,
             "#b8e186"
            ],
            [
             0.8,
             "#7fbc41"
            ],
            [
             0.9,
             "#4d9221"
            ],
            [
             1,
             "#276419"
            ]
           ],
           "sequential": [
            [
             0,
             "#0d0887"
            ],
            [
             0.1111111111111111,
             "#46039f"
            ],
            [
             0.2222222222222222,
             "#7201a8"
            ],
            [
             0.3333333333333333,
             "#9c179e"
            ],
            [
             0.4444444444444444,
             "#bd3786"
            ],
            [
             0.5555555555555556,
             "#d8576b"
            ],
            [
             0.6666666666666666,
             "#ed7953"
            ],
            [
             0.7777777777777778,
             "#fb9f3a"
            ],
            [
             0.8888888888888888,
             "#fdca26"
            ],
            [
             1,
             "#f0f921"
            ]
           ],
           "sequentialminus": [
            [
             0,
             "#0d0887"
            ],
            [
             0.1111111111111111,
             "#46039f"
            ],
            [
             0.2222222222222222,
             "#7201a8"
            ],
            [
             0.3333333333333333,
             "#9c179e"
            ],
            [
             0.4444444444444444,
             "#bd3786"
            ],
            [
             0.5555555555555556,
             "#d8576b"
            ],
            [
             0.6666666666666666,
             "#ed7953"
            ],
            [
             0.7777777777777778,
             "#fb9f3a"
            ],
            [
             0.8888888888888888,
             "#fdca26"
            ],
            [
             1,
             "#f0f921"
            ]
           ]
          },
          "colorway": [
           "#636efa",
           "#EF553B",
           "#00cc96",
           "#ab63fa",
           "#FFA15A",
           "#19d3f3",
           "#FF6692",
           "#B6E880",
           "#FF97FF",
           "#FECB52"
          ],
          "font": {
           "color": "#2a3f5f"
          },
          "geo": {
           "bgcolor": "white",
           "lakecolor": "white",
           "landcolor": "#E5ECF6",
           "showlakes": true,
           "showland": true,
           "subunitcolor": "white"
          },
          "hoverlabel": {
           "align": "left"
          },
          "hovermode": "closest",
          "mapbox": {
           "style": "light"
          },
          "paper_bgcolor": "white",
          "plot_bgcolor": "#E5ECF6",
          "polar": {
           "angularaxis": {
            "gridcolor": "white",
            "linecolor": "white",
            "ticks": ""
           },
           "bgcolor": "#E5ECF6",
           "radialaxis": {
            "gridcolor": "white",
            "linecolor": "white",
            "ticks": ""
           }
          },
          "scene": {
           "xaxis": {
            "backgroundcolor": "#E5ECF6",
            "gridcolor": "white",
            "gridwidth": 2,
            "linecolor": "white",
            "showbackground": true,
            "ticks": "",
            "zerolinecolor": "white"
           },
           "yaxis": {
            "backgroundcolor": "#E5ECF6",
            "gridcolor": "white",
            "gridwidth": 2,
            "linecolor": "white",
            "showbackground": true,
            "ticks": "",
            "zerolinecolor": "white"
           },
           "zaxis": {
            "backgroundcolor": "#E5ECF6",
            "gridcolor": "white",
            "gridwidth": 2,
            "linecolor": "white",
            "showbackground": true,
            "ticks": "",
            "zerolinecolor": "white"
           }
          },
          "shapedefaults": {
           "line": {
            "color": "#2a3f5f"
           }
          },
          "ternary": {
           "aaxis": {
            "gridcolor": "white",
            "linecolor": "white",
            "ticks": ""
           },
           "baxis": {
            "gridcolor": "white",
            "linecolor": "white",
            "ticks": ""
           },
           "bgcolor": "#E5ECF6",
           "caxis": {
            "gridcolor": "white",
            "linecolor": "white",
            "ticks": ""
           }
          },
          "title": {
           "x": 0.05
          },
          "xaxis": {
           "automargin": true,
           "gridcolor": "white",
           "linecolor": "white",
           "ticks": "",
           "title": {
            "standoff": 15
           },
           "zerolinecolor": "white",
           "zerolinewidth": 2
          },
          "yaxis": {
           "automargin": true,
           "gridcolor": "white",
           "linecolor": "white",
           "ticks": "",
           "title": {
            "standoff": 15
           },
           "zerolinecolor": "white",
           "zerolinewidth": 2
          }
         }
        },
        "width": 800,
        "xaxis": {
         "anchor": "y",
         "domain": [
          0,
          1
         ],
         "title": {
          "text": "PC"
         }
        },
        "yaxis": {
         "anchor": "x",
         "domain": [
          0,
          1
         ],
         "title": {
          "text": "explained_variance"
         }
        }
       }
      },
      "text/html": [
       "<div>                            <div id=\"cffb02af-b424-4552-8e8e-95d08f685b20\" class=\"plotly-graph-div\" style=\"height:400px; width:800px;\"></div>            <script type=\"text/javascript\">                require([\"plotly\"], function(Plotly) {                    window.PLOTLYENV=window.PLOTLYENV || {};                                    if (document.getElementById(\"cffb02af-b424-4552-8e8e-95d08f685b20\")) {                    Plotly.newPlot(                        \"cffb02af-b424-4552-8e8e-95d08f685b20\",                        [{\"alignmentgroup\":\"True\",\"hovertemplate\":\"PC=%{x}<br>explained_variance=%{y}<extra></extra>\",\"legendgroup\":\"\",\"marker\":{\"color\":\"#636efa\",\"pattern\":{\"shape\":\"\"}},\"name\":\"\",\"offsetgroup\":\"\",\"orientation\":\"v\",\"showlegend\":false,\"textposition\":\"auto\",\"x\":[\"PC1\",\"PC2\",\"PC3\",\"PC4\",\"PC5\",\"PC6\"],\"xaxis\":\"x\",\"y\":[0.4075433416709788,0.15307818022517977,0.08787993588374204,0.03826578950774717,0.028303638584017875,0.02334026331261983],\"yaxis\":\"y\",\"type\":\"bar\"}],                        {\"template\":{\"data\":{\"histogram2dcontour\":[{\"type\":\"histogram2dcontour\",\"colorbar\":{\"outlinewidth\":0,\"ticks\":\"\"},\"colorscale\":[[0.0,\"#0d0887\"],[0.1111111111111111,\"#46039f\"],[0.2222222222222222,\"#7201a8\"],[0.3333333333333333,\"#9c179e\"],[0.4444444444444444,\"#bd3786\"],[0.5555555555555556,\"#d8576b\"],[0.6666666666666666,\"#ed7953\"],[0.7777777777777778,\"#fb9f3a\"],[0.8888888888888888,\"#fdca26\"],[1.0,\"#f0f921\"]]}],\"choropleth\":[{\"type\":\"choropleth\",\"colorbar\":{\"outlinewidth\":0,\"ticks\":\"\"}}],\"histogram2d\":[{\"type\":\"histogram2d\",\"colorbar\":{\"outlinewidth\":0,\"ticks\":\"\"},\"colorscale\":[[0.0,\"#0d0887\"],[0.1111111111111111,\"#46039f\"],[0.2222222222222222,\"#7201a8\"],[0.3333333333333333,\"#9c179e\"],[0.4444444444444444,\"#bd3786\"],[0.5555555555555556,\"#d8576b\"],[0.6666666666666666,\"#ed7953\"],[0.7777777777777778,\"#fb9f3a\"],[0.8888888888888888,\"#fdca26\"],[1.0,\"#f0f921\"]]}],\"heatmap\":[{\"type\":\"heatmap\",\"colorbar\":{\"outlinewidth\":0,\"ticks\":\"\"},\"colorscale\":[[0.0,\"#0d0887\"],[0.1111111111111111,\"#46039f\"],[0.2222222222222222,\"#7201a8\"],[0.3333333333333333,\"#9c179e\"],[0.4444444444444444,\"#bd3786\"],[0.5555555555555556,\"#d8576b\"],[0.6666666666666666,\"#ed7953\"],[0.7777777777777778,\"#fb9f3a\"],[0.8888888888888888,\"#fdca26\"],[1.0,\"#f0f921\"]]}],\"heatmapgl\":[{\"type\":\"heatmapgl\",\"colorbar\":{\"outlinewidth\":0,\"ticks\":\"\"},\"colorscale\":[[0.0,\"#0d0887\"],[0.1111111111111111,\"#46039f\"],[0.2222222222222222,\"#7201a8\"],[0.3333333333333333,\"#9c179e\"],[0.4444444444444444,\"#bd3786\"],[0.5555555555555556,\"#d8576b\"],[0.6666666666666666,\"#ed7953\"],[0.7777777777777778,\"#fb9f3a\"],[0.8888888888888888,\"#fdca26\"],[1.0,\"#f0f921\"]]}],\"contourcarpet\":[{\"type\":\"contourcarpet\",\"colorbar\":{\"outlinewidth\":0,\"ticks\":\"\"}}],\"contour\":[{\"type\":\"contour\",\"colorbar\":{\"outlinewidth\":0,\"ticks\":\"\"},\"colorscale\":[[0.0,\"#0d0887\"],[0.1111111111111111,\"#46039f\"],[0.2222222222222222,\"#7201a8\"],[0.3333333333333333,\"#9c179e\"],[0.4444444444444444,\"#bd3786\"],[0.5555555555555556,\"#d8576b\"],[0.6666666666666666,\"#ed7953\"],[0.7777777777777778,\"#fb9f3a\"],[0.8888888888888888,\"#fdca26\"],[1.0,\"#f0f921\"]]}],\"surface\":[{\"type\":\"surface\",\"colorbar\":{\"outlinewidth\":0,\"ticks\":\"\"},\"colorscale\":[[0.0,\"#0d0887\"],[0.1111111111111111,\"#46039f\"],[0.2222222222222222,\"#7201a8\"],[0.3333333333333333,\"#9c179e\"],[0.4444444444444444,\"#bd3786\"],[0.5555555555555556,\"#d8576b\"],[0.6666666666666666,\"#ed7953\"],[0.7777777777777778,\"#fb9f3a\"],[0.8888888888888888,\"#fdca26\"],[1.0,\"#f0f921\"]]}],\"mesh3d\":[{\"type\":\"mesh3d\",\"colorbar\":{\"outlinewidth\":0,\"ticks\":\"\"}}],\"scatter\":[{\"fillpattern\":{\"fillmode\":\"overlay\",\"size\":10,\"solidity\":0.2},\"type\":\"scatter\"}],\"parcoords\":[{\"type\":\"parcoords\",\"line\":{\"colorbar\":{\"outlinewidth\":0,\"ticks\":\"\"}}}],\"scatterpolargl\":[{\"type\":\"scatterpolargl\",\"marker\":{\"colorbar\":{\"outlinewidth\":0,\"ticks\":\"\"}}}],\"bar\":[{\"error_x\":{\"color\":\"#2a3f5f\"},\"error_y\":{\"color\":\"#2a3f5f\"},\"marker\":{\"line\":{\"color\":\"#E5ECF6\",\"width\":0.5},\"pattern\":{\"fillmode\":\"overlay\",\"size\":10,\"solidity\":0.2}},\"type\":\"bar\"}],\"scattergeo\":[{\"type\":\"scattergeo\",\"marker\":{\"colorbar\":{\"outlinewidth\":0,\"ticks\":\"\"}}}],\"scatterpolar\":[{\"type\":\"scatterpolar\",\"marker\":{\"colorbar\":{\"outlinewidth\":0,\"ticks\":\"\"}}}],\"histogram\":[{\"marker\":{\"pattern\":{\"fillmode\":\"overlay\",\"size\":10,\"solidity\":0.2}},\"type\":\"histogram\"}],\"scattergl\":[{\"type\":\"scattergl\",\"marker\":{\"colorbar\":{\"outlinewidth\":0,\"ticks\":\"\"}}}],\"scatter3d\":[{\"type\":\"scatter3d\",\"line\":{\"colorbar\":{\"outlinewidth\":0,\"ticks\":\"\"}},\"marker\":{\"colorbar\":{\"outlinewidth\":0,\"ticks\":\"\"}}}],\"scattermapbox\":[{\"type\":\"scattermapbox\",\"marker\":{\"colorbar\":{\"outlinewidth\":0,\"ticks\":\"\"}}}],\"scatterternary\":[{\"type\":\"scatterternary\",\"marker\":{\"colorbar\":{\"outlinewidth\":0,\"ticks\":\"\"}}}],\"scattercarpet\":[{\"type\":\"scattercarpet\",\"marker\":{\"colorbar\":{\"outlinewidth\":0,\"ticks\":\"\"}}}],\"carpet\":[{\"aaxis\":{\"endlinecolor\":\"#2a3f5f\",\"gridcolor\":\"white\",\"linecolor\":\"white\",\"minorgridcolor\":\"white\",\"startlinecolor\":\"#2a3f5f\"},\"baxis\":{\"endlinecolor\":\"#2a3f5f\",\"gridcolor\":\"white\",\"linecolor\":\"white\",\"minorgridcolor\":\"white\",\"startlinecolor\":\"#2a3f5f\"},\"type\":\"carpet\"}],\"table\":[{\"cells\":{\"fill\":{\"color\":\"#EBF0F8\"},\"line\":{\"color\":\"white\"}},\"header\":{\"fill\":{\"color\":\"#C8D4E3\"},\"line\":{\"color\":\"white\"}},\"type\":\"table\"}],\"barpolar\":[{\"marker\":{\"line\":{\"color\":\"#E5ECF6\",\"width\":0.5},\"pattern\":{\"fillmode\":\"overlay\",\"size\":10,\"solidity\":0.2}},\"type\":\"barpolar\"}],\"pie\":[{\"automargin\":true,\"type\":\"pie\"}]},\"layout\":{\"autotypenumbers\":\"strict\",\"colorway\":[\"#636efa\",\"#EF553B\",\"#00cc96\",\"#ab63fa\",\"#FFA15A\",\"#19d3f3\",\"#FF6692\",\"#B6E880\",\"#FF97FF\",\"#FECB52\"],\"font\":{\"color\":\"#2a3f5f\"},\"hovermode\":\"closest\",\"hoverlabel\":{\"align\":\"left\"},\"paper_bgcolor\":\"white\",\"plot_bgcolor\":\"#E5ECF6\",\"polar\":{\"bgcolor\":\"#E5ECF6\",\"angularaxis\":{\"gridcolor\":\"white\",\"linecolor\":\"white\",\"ticks\":\"\"},\"radialaxis\":{\"gridcolor\":\"white\",\"linecolor\":\"white\",\"ticks\":\"\"}},\"ternary\":{\"bgcolor\":\"#E5ECF6\",\"aaxis\":{\"gridcolor\":\"white\",\"linecolor\":\"white\",\"ticks\":\"\"},\"baxis\":{\"gridcolor\":\"white\",\"linecolor\":\"white\",\"ticks\":\"\"},\"caxis\":{\"gridcolor\":\"white\",\"linecolor\":\"white\",\"ticks\":\"\"}},\"coloraxis\":{\"colorbar\":{\"outlinewidth\":0,\"ticks\":\"\"}},\"colorscale\":{\"sequential\":[[0.0,\"#0d0887\"],[0.1111111111111111,\"#46039f\"],[0.2222222222222222,\"#7201a8\"],[0.3333333333333333,\"#9c179e\"],[0.4444444444444444,\"#bd3786\"],[0.5555555555555556,\"#d8576b\"],[0.6666666666666666,\"#ed7953\"],[0.7777777777777778,\"#fb9f3a\"],[0.8888888888888888,\"#fdca26\"],[1.0,\"#f0f921\"]],\"sequentialminus\":[[0.0,\"#0d0887\"],[0.1111111111111111,\"#46039f\"],[0.2222222222222222,\"#7201a8\"],[0.3333333333333333,\"#9c179e\"],[0.4444444444444444,\"#bd3786\"],[0.5555555555555556,\"#d8576b\"],[0.6666666666666666,\"#ed7953\"],[0.7777777777777778,\"#fb9f3a\"],[0.8888888888888888,\"#fdca26\"],[1.0,\"#f0f921\"]],\"diverging\":[[0,\"#8e0152\"],[0.1,\"#c51b7d\"],[0.2,\"#de77ae\"],[0.3,\"#f1b6da\"],[0.4,\"#fde0ef\"],[0.5,\"#f7f7f7\"],[0.6,\"#e6f5d0\"],[0.7,\"#b8e186\"],[0.8,\"#7fbc41\"],[0.9,\"#4d9221\"],[1,\"#276419\"]]},\"xaxis\":{\"gridcolor\":\"white\",\"linecolor\":\"white\",\"ticks\":\"\",\"title\":{\"standoff\":15},\"zerolinecolor\":\"white\",\"automargin\":true,\"zerolinewidth\":2},\"yaxis\":{\"gridcolor\":\"white\",\"linecolor\":\"white\",\"ticks\":\"\",\"title\":{\"standoff\":15},\"zerolinecolor\":\"white\",\"automargin\":true,\"zerolinewidth\":2},\"scene\":{\"xaxis\":{\"backgroundcolor\":\"#E5ECF6\",\"gridcolor\":\"white\",\"linecolor\":\"white\",\"showbackground\":true,\"ticks\":\"\",\"zerolinecolor\":\"white\",\"gridwidth\":2},\"yaxis\":{\"backgroundcolor\":\"#E5ECF6\",\"gridcolor\":\"white\",\"linecolor\":\"white\",\"showbackground\":true,\"ticks\":\"\",\"zerolinecolor\":\"white\",\"gridwidth\":2},\"zaxis\":{\"backgroundcolor\":\"#E5ECF6\",\"gridcolor\":\"white\",\"linecolor\":\"white\",\"showbackground\":true,\"ticks\":\"\",\"zerolinecolor\":\"white\",\"gridwidth\":2}},\"shapedefaults\":{\"line\":{\"color\":\"#2a3f5f\"}},\"annotationdefaults\":{\"arrowcolor\":\"#2a3f5f\",\"arrowhead\":0,\"arrowwidth\":1},\"geo\":{\"bgcolor\":\"white\",\"landcolor\":\"#E5ECF6\",\"subunitcolor\":\"white\",\"showland\":true,\"showlakes\":true,\"lakecolor\":\"white\"},\"title\":{\"x\":0.05},\"mapbox\":{\"style\":\"light\"}}},\"xaxis\":{\"anchor\":\"y\",\"domain\":[0.0,1.0],\"title\":{\"text\":\"PC\"}},\"yaxis\":{\"anchor\":\"x\",\"domain\":[0.0,1.0],\"title\":{\"text\":\"explained_variance\"}},\"legend\":{\"tracegroupgap\":0},\"margin\":{\"t\":60},\"barmode\":\"relative\",\"height\":400,\"width\":800},                        {\"responsive\": true}                    ).then(function(){\n",
       "                            \n",
       "var gd = document.getElementById('cffb02af-b424-4552-8e8e-95d08f685b20');\n",
       "var x = new MutationObserver(function (mutations, observer) {{\n",
       "        var display = window.getComputedStyle(gd).display;\n",
       "        if (!display || display === 'none') {{\n",
       "            console.log([gd, 'removed!']);\n",
       "            Plotly.purge(gd);\n",
       "            observer.disconnect();\n",
       "        }}\n",
       "}});\n",
       "\n",
       "// Listen for the removal of the full notebook cells\n",
       "var notebookContainer = gd.closest('#notebook-container');\n",
       "if (notebookContainer) {{\n",
       "    x.observe(notebookContainer, {childList: true});\n",
       "}}\n",
       "\n",
       "// Listen for the clearing of the current output cell\n",
       "var outputEl = gd.closest('.output');\n",
       "if (outputEl) {{\n",
       "    x.observe(outputEl, {childList: true});\n",
       "}}\n",
       "\n",
       "                        })                };                });            </script>        </div>"
      ]
     },
     "metadata": {},
     "output_type": "display_data"
    },
    {
     "data": {
      "application/vnd.plotly.v1+json": {
       "config": {
        "plotlyServerURL": "https://plot.ly"
       },
       "data": [
        {
         "customdata": [
          [
           "Tiefora",
           "resistant"
          ],
          [
           "Tiefora",
           "resistant"
          ],
          [
           "Tiefora",
           "resistant"
          ],
          [
           "Ban",
           "resistant"
          ],
          [
           "Ban",
           "resistant"
          ],
          [
           "Ban",
           "resistant"
          ],
          [
           "Ban",
           "resistant"
          ],
          [
           "VK7",
           "resistant"
          ],
          [
           "VK7",
           "resistant"
          ],
          [
           "VK7",
           "resistant"
          ],
          [
           "VK7",
           "resistant"
          ],
          [
           "BanRe",
           "resistant"
          ],
          [
           "BanRe",
           "resistant"
          ],
          [
           "BanRe",
           "resistant"
          ],
          [
           "BanRe",
           "resistant"
          ],
          [
           "Chad",
           "resistant"
          ],
          [
           "Chad",
           "resistant"
          ],
          [
           "Chad",
           "resistant"
          ],
          [
           "Chad",
           "resistant"
          ],
          [
           "Chad",
           "resistant"
          ],
          [
           "Chad",
           "resistant"
          ],
          [
           "Nigeria",
           "resistant"
          ],
          [
           "Nigeria",
           "resistant"
          ],
          [
           "Nigeria",
           "resistant"
          ],
          [
           "Nigeria",
           "resistant"
          ],
          [
           "Nigeria",
           "resistant"
          ],
          [
           "Nigeria",
           "resistant"
          ],
          [
           "Cameroon",
           "resistant"
          ],
          [
           "Cameroon",
           "resistant"
          ],
          [
           "Cameroon",
           "resistant"
          ],
          [
           "Cameroon",
           "resistant"
          ],
          [
           "Cameroon",
           "resistant"
          ],
          [
           "Niger",
           "resistant"
          ],
          [
           "Niger",
           "resistant"
          ],
          [
           "Niger",
           "resistant"
          ],
          [
           "Niger",
           "resistant"
          ],
          [
           "Niger",
           "resistant"
          ],
          [
           "Niger",
           "resistant"
          ],
          [
           "Ngousso",
           "susceptible"
          ],
          [
           "Ngousso",
           "susceptible"
          ],
          [
           "Ngousso",
           "susceptible"
          ],
          [
           "BanS",
           "susceptible"
          ],
          [
           "BanS",
           "susceptible"
          ],
          [
           "BanS",
           "susceptible"
          ],
          [
           "BanS",
           "susceptible"
          ],
          [
           "Ngousso",
           "susceptible"
          ],
          [
           "Ngousso",
           "susceptible"
          ],
          [
           "Ngousso",
           "susceptible"
          ],
          [
           "Ngousso",
           "susceptible"
          ],
          [
           "Ngousso",
           "susceptible"
          ],
          [
           "Ngousso",
           "susceptible"
          ],
          [
           "Agboville",
           "resistant"
          ],
          [
           "Agboville",
           "resistant"
          ],
          [
           "Agboville",
           "resistant"
          ],
          [
           "Agboville",
           "resistant"
          ],
          [
           "Agboville",
           "resistant"
          ],
          [
           "Agboville",
           "resistant"
          ],
          [
           "Agboville",
           "resistant"
          ],
          [
           "Agboville",
           "resistant"
          ],
          [
           "Agboville",
           "resistant"
          ],
          [
           "Dabou",
           "resistant"
          ],
          [
           "Dabou",
           "resistant"
          ],
          [
           "Dabou",
           "resistant"
          ],
          [
           "Dabou",
           "resistant"
          ],
          [
           "Dabou",
           "resistant"
          ],
          [
           "Dabou",
           "resistant"
          ],
          [
           "Dabou",
           "resistant"
          ],
          [
           "Dabou",
           "resistant"
          ],
          [
           "Dabou",
           "resistant"
          ],
          [
           "Dabou",
           "resistant"
          ],
          [
           "Tiassale",
           "resistant"
          ],
          [
           "Tiassale",
           "resistant"
          ],
          [
           "Tiassale",
           "resistant"
          ],
          [
           "Tiassale",
           "resistant"
          ],
          [
           "Tiassale",
           "resistant"
          ],
          [
           "Tiassale",
           "resistant"
          ],
          [
           "Tiassale",
           "resistant"
          ],
          [
           "Tiassale",
           "resistant"
          ],
          [
           "Tiassale",
           "resistant"
          ],
          [
           "Tiassale",
           "resistant"
          ],
          [
           "Ngousso",
           "susceptible"
          ],
          [
           "Ngousso",
           "susceptible"
          ],
          [
           "Ngousso",
           "susceptible"
          ],
          [
           "Ngousso",
           "susceptible"
          ],
          [
           "Ngousso",
           "susceptible"
          ],
          [
           "Mali",
           "susceptible"
          ],
          [
           "Mali",
           "susceptible"
          ],
          [
           "Mali",
           "susceptible"
          ],
          [
           "Mali",
           "susceptible"
          ],
          [
           "Mali",
           "susceptible"
          ],
          [
           "Bouake_colu_unexp",
           "resistant"
          ],
          [
           "Bouake_colu_unexp",
           "resistant"
          ],
          [
           "Bouake_colu_unexp",
           "resistant"
          ],
          [
           "Bouake_colu_unexp",
           "resistant"
          ],
          [
           "Ngousso",
           "susceptible"
          ],
          [
           "Ngousso",
           "susceptible"
          ],
          [
           "Ngousso",
           "susceptible"
          ],
          [
           "Ngousso",
           "susceptible"
          ]
         ],
         "hovertemplate": "species=coluzzii<br>PC1  - variance explained: 0.41=%{x}<br>PC2  - variance explained: 0.15=%{y}<br>condition=%{customdata[0]}<br>resistance=%{customdata[1]}<extra></extra>",
         "legendgroup": "coluzzii",
         "marker": {
          "color": "#1F77B4",
          "symbol": "circle"
         },
         "mode": "markers",
         "name": "coluzzii",
         "orientation": "v",
         "showlegend": true,
         "type": "scatter",
         "x": [
          -8.845058206569416,
          -7.446192966498535,
          -8.6905669996294,
          -18.674080130318554,
          -16.46973893354272,
          -15.73022905078904,
          -17.71352302995311,
          -11.669854999126738,
          -9.687154150128137,
          -9.360922811699846,
          -8.460132355182827,
          -20.107522362549716,
          -18.296422690327308,
          -17.594019154388977,
          -20.070710794950458,
          -36.438275497392695,
          -38.93453571515319,
          -36.16966759874948,
          -37.23620768148068,
          -32.06078461782675,
          -32.478713130469586,
          -37.34778790730934,
          -46.31735818182625,
          -48.42936313710966,
          -58.81065565811845,
          -55.70932004067226,
          -51.695507420097044,
          -42.89275465184059,
          -37.31465045175205,
          -37.27601560745207,
          -41.634854229718314,
          -40.85721933664971,
          -53.85653117351243,
          -43.974103365664824,
          -56.128494920288006,
          -43.25954911828772,
          -33.26352903852642,
          -48.806663665927495,
          -11.049971396770335,
          -10.358914853586954,
          -11.772133430857739,
          -11.81170643621576,
          -13.38251084959114,
          -13.568967477645895,
          -17.569279856992495,
          -7.274561857283579,
          -6.480157557406258,
          -7.939223806775395,
          -34.651203509585926,
          -54.0770322248122,
          -34.65554608617461,
          -72.14539091583602,
          -70.17359773758515,
          -84.4330663720519,
          -74.16053694911045,
          -76.29282544330941,
          -75.24361238295675,
          -78.9757470296933,
          -79.04057154571542,
          -71.86821573145656,
          -77.97700918196627,
          -70.97280533437197,
          -89.64372151052758,
          -74.44917858964786,
          -73.30922312854713,
          -87.9178581482856,
          -78.84681218230297,
          -68.19572460044239,
          -80.79709908925746,
          -77.51954210136047,
          -88.31125290138638,
          -84.56220885553458,
          -83.23622493323158,
          -85.75078733243717,
          -79.98926381204076,
          -74.39926572698847,
          -74.76968590521456,
          -86.07922347229702,
          -86.22079519418098,
          -80.67844836982822,
          -71.41414790351459,
          -65.09639610372322,
          -69.79677019151823,
          -46.719891482212645,
          -51.69610572370008,
          -51.31916195345379,
          -78.98155646635998,
          -52.50391247181627,
          -52.145248205041966,
          -54.22641055765523,
          -10.859079770981511,
          -31.63468971766124,
          -13.436925348294391,
          -12.371738481660493,
          -13.803490958842994,
          -8.599922539646407,
          -12.938392352604305,
          -15.126864965895903
         ],
         "xaxis": "x",
         "y": [
          67.56929349534204,
          68.44488058684811,
          67.97533233219862,
          43.13111357730032,
          51.88276411413254,
          52.964150131802384,
          50.146602356356894,
          60.42604273090649,
          60.04653167649943,
          57.00078088421347,
          62.9525825057692,
          44.265088627178535,
          48.049081495392265,
          48.048447510225856,
          47.45379841392542,
          -4.276557883008199,
          -9.117954522931774,
          -5.5418572594933515,
          6.052998171060418,
          12.002926927400825,
          10.784840954007569,
          -14.806781786474298,
          -7.664530064798554,
          -4.1214543358211495,
          -17.455265328836614,
          -15.779957980259505,
          -13.642120545252293,
          5.708101380520567,
          1.5434949618865446,
          8.393065891205508,
          7.282724045211893,
          5.454115791004615,
          -12.651964708201312,
          -12.304215945548492,
          -16.647549778211165,
          -15.488785827126437,
          -8.651578926262925,
          -15.006079721353563,
          60.46740954991429,
          59.723190345041516,
          63.83707747696448,
          47.42876458069299,
          51.44379336655114,
          55.06696292178186,
          41.93612148944669,
          54.460068880564876,
          53.399686127202244,
          57.73017934671882,
          -4.318028711471576,
          -4.569898575827485,
          4.190952318349368,
          -44.5583062709632,
          -48.67276792320203,
          -52.87776612209675,
          -45.55390963429019,
          -43.77473645018298,
          -43.15386515137957,
          -44.68687562615059,
          -47.15270252710892,
          -37.37961354645248,
          -49.38828981562306,
          -45.676171659931484,
          -52.99943170249223,
          -44.65274858402221,
          -45.324321429454095,
          -57.924262161812905,
          -55.983538745257064,
          -44.18256329791843,
          -61.77595388428659,
          -41.941289292143644,
          -56.56786286435854,
          -55.66316323708803,
          -54.15536594154152,
          -51.57408489133816,
          -48.6654308856403,
          -43.475536579968676,
          -44.445908238996296,
          -55.47606819380828,
          -53.26922868074001,
          -44.78620114343891,
          -27.299715001551032,
          -24.409663569745828,
          -26.578319422899334,
          -8.87059901887703,
          -10.709000199184143,
          -29.606578577518814,
          -44.52918822803024,
          -35.50911389190058,
          -33.6467041539791,
          -28.01689774989541,
          53.840854786437866,
          46.47677119799968,
          52.34189888825909,
          49.30407141500187,
          56.38307400153961,
          61.184572016449856,
          55.12405272850154,
          59.13300516001324
         ],
         "yaxis": "y"
        },
        {
         "customdata": [
          [
           "Bak",
           "resistant"
          ],
          [
           "Bak",
           "resistant"
          ],
          [
           "Bak",
           "resistant"
          ],
          [
           "Bak",
           "resistant"
          ],
          [
           "Kisumu",
           "susceptible"
          ],
          [
           "Kisumu",
           "susceptible"
          ],
          [
           "Kisumu",
           "susceptible"
          ],
          [
           "Kisumu",
           "susceptible"
          ],
          [
           "Kisumu",
           "susceptible"
          ],
          [
           "Kisumu",
           "susceptible"
          ],
          [
           "Kisumu",
           "susceptible"
          ],
          [
           "Kisumu",
           "susceptible"
          ],
          [
           "Bouake_gamb_unexp",
           "resistant"
          ],
          [
           "Bouake_gamb_unexp",
           "resistant"
          ],
          [
           "Bouake_gamb_unexp",
           "resistant"
          ],
          [
           "Bouake_gamb_unexp",
           "resistant"
          ],
          [
           "BusiaSurvivors",
           "resistant"
          ],
          [
           "BusiaSurvivors",
           "resistant"
          ],
          [
           "BusiaSurvivors",
           "resistant"
          ],
          [
           "BusiaSurvivors",
           "resistant"
          ],
          [
           "BusiaSurvivors",
           "resistant"
          ],
          [
           "BusiaSurvivors",
           "resistant"
          ],
          [
           "Kisumu",
           "susceptible"
          ],
          [
           "Kisumu",
           "susceptible"
          ],
          [
           "Kisumu",
           "susceptible"
          ],
          [
           "Kisumu",
           "susceptible"
          ]
         ],
         "hovertemplate": "species=gambiae<br>PC1  - variance explained: 0.41=%{x}<br>PC2  - variance explained: 0.15=%{y}<br>condition=%{customdata[0]}<br>resistance=%{customdata[1]}<extra></extra>",
         "legendgroup": "gambiae",
         "marker": {
          "color": "#FF7F0E",
          "symbol": "circle"
         },
         "mode": "markers",
         "name": "gambiae",
         "orientation": "v",
         "showlegend": true,
         "type": "scatter",
         "x": [
          -7.947785855561166,
          -7.235248631689655,
          -7.401675168309657,
          -3.9339011855034762,
          -8.833962459348337,
          -6.890483084965292,
          -8.154339375671825,
          -4.701643006575279,
          -14.07541535543285,
          -15.991123721881975,
          -12.816206793215303,
          -20.34861862711719,
          -9.659122506342696,
          -11.132310437315251,
          -31.295248154789217,
          -12.680589325329658,
          -17.753287802262147,
          -12.428598591939155,
          -19.9258917797532,
          -13.536716003831732,
          -8.674025984664556,
          -7.841719333470557,
          -12.26033212917734,
          -10.611841896717236,
          -14.13460850112919,
          -8.15682952498105
         ],
         "xaxis": "x",
         "y": [
          54.394250306914465,
          57.290008044614346,
          60.18765753959443,
          60.8745907300515,
          65.37323493434931,
          66.82403565542404,
          68.75054440275925,
          64.6156113045482,
          56.34681017472393,
          55.72025234646392,
          58.61961018812799,
          52.482938273859695,
          56.09432150758521,
          56.144694158513225,
          45.44488985817593,
          49.441311065773746,
          48.14539317292817,
          55.529007687248615,
          44.106439509306774,
          49.17437128955426,
          57.38787171744653,
          58.35601665270792,
          47.915337237608334,
          48.23733631093992,
          48.1511646556004,
          50.298029908307704
         ],
         "yaxis": "y"
        },
        {
         "customdata": [
          [
           "Asendabo",
           "resistant"
          ],
          [
           "Asendabo",
           "resistant"
          ],
          [
           "Asendabo",
           "resistant"
          ],
          [
           "Asendabo",
           "resistant"
          ],
          [
           "Chewaka",
           "resistant"
          ],
          [
           "Chewaka",
           "resistant"
          ],
          [
           "Chewaka",
           "resistant"
          ],
          [
           "Chewaka",
           "resistant"
          ],
          [
           "Moz",
           "susceptible"
          ],
          [
           "Moz",
           "susceptible"
          ],
          [
           "Moz",
           "susceptible"
          ],
          [
           "Moz",
           "susceptible"
          ],
          [
           "Tolay",
           "resistant"
          ],
          [
           "Tolay",
           "resistant"
          ],
          [
           "Tolay",
           "resistant"
          ],
          [
           "Tolay",
           "resistant"
          ],
          [
           "Dongola",
           "susceptible"
          ],
          [
           "Dongola",
           "susceptible"
          ],
          [
           "Dongola",
           "susceptible"
          ],
          [
           "Ethiopia",
           "resistant"
          ],
          [
           "Ethiopia",
           "resistant"
          ],
          [
           "Ethiopia",
           "resistant"
          ],
          [
           "Gou",
           "resistant"
          ],
          [
           "Gou",
           "resistant"
          ],
          [
           "Gou",
           "resistant"
          ],
          [
           "Moz",
           "susceptible"
          ],
          [
           "Moz",
           "susceptible"
          ],
          [
           "Moz",
           "susceptible"
          ]
         ],
         "hovertemplate": "species=arabiensis<br>PC1  - variance explained: 0.41=%{x}<br>PC2  - variance explained: 0.15=%{y}<br>condition=%{customdata[0]}<br>resistance=%{customdata[1]}<extra></extra>",
         "legendgroup": "arabiensis",
         "marker": {
          "color": "#2CA02C",
          "symbol": "circle"
         },
         "mode": "markers",
         "name": "arabiensis",
         "orientation": "v",
         "showlegend": true,
         "type": "scatter",
         "x": [
          -38.212062755232786,
          -39.75248998101122,
          -38.19690296295831,
          -29.65407673690959,
          -36.09526988167267,
          -34.61521047690923,
          -33.570059831478176,
          -36.885488362183416,
          -32.54971763113694,
          -27.903045056106553,
          -36.24976339016271,
          -35.39991591274067,
          -35.05582728892782,
          -37.953288896473246,
          -35.4419034066561,
          -32.06544380710627,
          38.550225164238675,
          48.828829567732456,
          47.76798264371349,
          32.00058983653484,
          42.38742476232446,
          24.29533206094678,
          -11.616943560896479,
          -11.222630845537852,
          -11.61311916885911,
          -17.784586518739744,
          -17.879630319965585,
          -20.279413248942316
         ],
         "xaxis": "x",
         "y": [
          -42.74758256926443,
          -48.50962184202392,
          -47.2323492859033,
          -40.60144122271877,
          -42.94138839559265,
          -41.719446696169555,
          -49.4643740767117,
          -39.166776913928246,
          -32.24548122422435,
          -24.97760164001872,
          -39.32166737159069,
          -31.77166036707317,
          -55.973266582905914,
          -51.40317558245322,
          -45.06672375118118,
          -43.13254808838928,
          -6.364757861583813,
          4.8967025051719455,
          5.312140294771905,
          -18.255440255696644,
          -10.292870561164941,
          -22.868757546412986,
          45.356072189912155,
          47.1064151768691,
          46.294455624473144,
          55.382701991358594,
          60.81143106352457,
          54.037417935586845
         ],
         "yaxis": "y"
        },
        {
         "customdata": [
          [
           "Cam_fun",
           "resistant"
          ],
          [
           "Cam_fun",
           "resistant"
          ],
          [
           "Cam_fun",
           "resistant"
          ],
          [
           "Cam_fun",
           "resistant"
          ],
          [
           "Cam_fun",
           "resistant"
          ],
          [
           "Cam_fun",
           "resistant"
          ],
          [
           "Cam_fun",
           "resistant"
          ],
          [
           "Cam_fun",
           "resistant"
          ],
          [
           "Cam_fun",
           "resistant"
          ],
          [
           "Fang",
           "susceptible"
          ],
          [
           "Fang",
           "susceptible"
          ],
          [
           "Fang",
           "susceptible"
          ],
          [
           "Fumoz",
           "resistant"
          ],
          [
           "Fumoz",
           "resistant"
          ],
          [
           "Fumoz",
           "resistant"
          ],
          [
           "Fumoz",
           "resistant"
          ],
          [
           "Fumoz",
           "resistant"
          ],
          [
           "Ghana_fun",
           "resistant"
          ],
          [
           "Ghana_fun",
           "resistant"
          ],
          [
           "Ghana_fun",
           "resistant"
          ],
          [
           "Ghana_fun",
           "resistant"
          ],
          [
           "Ghana_fun",
           "resistant"
          ],
          [
           "Ghana_fun",
           "resistant"
          ],
          [
           "Ghana_fun",
           "resistant"
          ],
          [
           "Ghana_fun",
           "resistant"
          ],
          [
           "Ghana_fun",
           "resistant"
          ],
          [
           "Ghana_fun",
           "resistant"
          ],
          [
           "Malawi_fun",
           "resistant"
          ],
          [
           "Malawi_fun",
           "resistant"
          ],
          [
           "Malawi_fun",
           "resistant"
          ],
          [
           "Malawi_fun",
           "resistant"
          ],
          [
           "Malawi_fun",
           "resistant"
          ],
          [
           "Malawi_fun",
           "resistant"
          ],
          [
           "Malawi_fun",
           "resistant"
          ],
          [
           "Malawi_fun",
           "resistant"
          ],
          [
           "Malawi_fun",
           "resistant"
          ],
          [
           "Malawi_fun",
           "resistant"
          ],
          [
           "Uganda_fun",
           "resistant"
          ],
          [
           "Uganda_fun",
           "resistant"
          ],
          [
           "Uganda_fun",
           "resistant"
          ],
          [
           "Uganda_fun",
           "resistant"
          ],
          [
           "Uganda_fun",
           "resistant"
          ],
          [
           "Uganda_fun",
           "resistant"
          ],
          [
           "Uganda_fun",
           "resistant"
          ],
          [
           "Uganda_fun",
           "resistant"
          ],
          [
           "Uganda_fun",
           "resistant"
          ]
         ],
         "hovertemplate": "species=funestus<br>PC1  - variance explained: 0.41=%{x}<br>PC2  - variance explained: 0.15=%{y}<br>condition=%{customdata[0]}<br>resistance=%{customdata[1]}<extra></extra>",
         "legendgroup": "funestus",
         "marker": {
          "color": "#D62728",
          "symbol": "circle"
         },
         "mode": "markers",
         "name": "funestus",
         "orientation": "v",
         "showlegend": true,
         "type": "scatter",
         "x": [
          102.10754193746791,
          110.79076539453334,
          105.0476845271207,
          115.6507001254867,
          109.49107992742604,
          106.0111763370608,
          107.28643896750742,
          110.514044644712,
          107.2616026932264,
          102.07715717450269,
          104.21636525901486,
          112.90435183226529,
          105.33687858191419,
          109.95936343291521,
          109.86662468632775,
          106.98567069937782,
          116.88473390151866,
          111.78925633681709,
          131.1004572325559,
          119.8963324005298,
          116.14945503404967,
          110.81201681363859,
          112.62330020620358,
          109.82940295757642,
          109.57371999386415,
          100.40433924098909,
          106.5045541735245,
          116.28244838135582,
          102.2527890364043,
          97.94732824754958,
          129.15546687597995,
          123.05796736660709,
          104.2583948542419,
          104.43904292259704,
          118.40694682712625,
          123.3433886883735,
          111.08273514285102,
          131.37855548420447,
          123.7991695269865,
          127.761437341512,
          127.93584090910288,
          97.2738785233276,
          126.66393218713058,
          106.7435027341848,
          105.98300685391837,
          108.67736462383637
         ],
         "xaxis": "x",
         "y": [
          -21.54332610326337,
          -23.00840710917729,
          -28.5700830639095,
          -20.821679873179953,
          -21.106324508004757,
          -25.964897242568743,
          -21.399242976500354,
          -22.187519606097307,
          -24.59010629941314,
          -30.095237460295156,
          -22.662280598536608,
          -19.36368444261524,
          -24.63925742851033,
          -23.55273620134371,
          -21.859716776900623,
          -22.341721599145234,
          -21.43557530143704,
          -20.325847208987913,
          -28.574834622486208,
          -21.496415693843986,
          -17.053346052201007,
          -18.520597808732685,
          -15.637198732765967,
          -13.86673247794939,
          -22.91132404353532,
          -32.28689231573851,
          -30.59167474760413,
          -16.898816395951005,
          -23.24061422800892,
          -29.88867389459155,
          -33.7754648086601,
          -40.71240659328541,
          -24.912895511413275,
          -24.648970002694195,
          -14.75449811523354,
          -19.743574025797514,
          -17.477396024526662,
          -6.1714782505163095,
          -7.640492248223326,
          -10.969813555473449,
          -6.887640577293582,
          -34.75157142328399,
          -5.883465235697019,
          -31.80651495922511,
          -30.39145762632968,
          -28.176668770514105
         ],
         "yaxis": "y"
        }
       ],
       "layout": {
        "height": 600,
        "legend": {
         "title": {
          "text": "species"
         },
         "tracegroupgap": 0
        },
        "margin": {
         "t": 60
        },
        "template": {
         "data": {
          "bar": [
           {
            "error_x": {
             "color": "rgb(36,36,36)"
            },
            "error_y": {
             "color": "rgb(36,36,36)"
            },
            "marker": {
             "line": {
              "color": "white",
              "width": 0.5
             },
             "pattern": {
              "fillmode": "overlay",
              "size": 10,
              "solidity": 0.2
             }
            },
            "type": "bar"
           }
          ],
          "barpolar": [
           {
            "marker": {
             "line": {
              "color": "white",
              "width": 0.5
             },
             "pattern": {
              "fillmode": "overlay",
              "size": 10,
              "solidity": 0.2
             }
            },
            "type": "barpolar"
           }
          ],
          "carpet": [
           {
            "aaxis": {
             "endlinecolor": "rgb(36,36,36)",
             "gridcolor": "white",
             "linecolor": "white",
             "minorgridcolor": "white",
             "startlinecolor": "rgb(36,36,36)"
            },
            "baxis": {
             "endlinecolor": "rgb(36,36,36)",
             "gridcolor": "white",
             "linecolor": "white",
             "minorgridcolor": "white",
             "startlinecolor": "rgb(36,36,36)"
            },
            "type": "carpet"
           }
          ],
          "choropleth": [
           {
            "colorbar": {
             "outlinewidth": 1,
             "tickcolor": "rgb(36,36,36)",
             "ticks": "outside"
            },
            "type": "choropleth"
           }
          ],
          "contour": [
           {
            "colorbar": {
             "outlinewidth": 1,
             "tickcolor": "rgb(36,36,36)",
             "ticks": "outside"
            },
            "colorscale": [
             [
              0,
              "#440154"
             ],
             [
              0.1111111111111111,
              "#482878"
             ],
             [
              0.2222222222222222,
              "#3e4989"
             ],
             [
              0.3333333333333333,
              "#31688e"
             ],
             [
              0.4444444444444444,
              "#26828e"
             ],
             [
              0.5555555555555556,
              "#1f9e89"
             ],
             [
              0.6666666666666666,
              "#35b779"
             ],
             [
              0.7777777777777778,
              "#6ece58"
             ],
             [
              0.8888888888888888,
              "#b5de2b"
             ],
             [
              1,
              "#fde725"
             ]
            ],
            "type": "contour"
           }
          ],
          "contourcarpet": [
           {
            "colorbar": {
             "outlinewidth": 1,
             "tickcolor": "rgb(36,36,36)",
             "ticks": "outside"
            },
            "type": "contourcarpet"
           }
          ],
          "heatmap": [
           {
            "colorbar": {
             "outlinewidth": 1,
             "tickcolor": "rgb(36,36,36)",
             "ticks": "outside"
            },
            "colorscale": [
             [
              0,
              "#440154"
             ],
             [
              0.1111111111111111,
              "#482878"
             ],
             [
              0.2222222222222222,
              "#3e4989"
             ],
             [
              0.3333333333333333,
              "#31688e"
             ],
             [
              0.4444444444444444,
              "#26828e"
             ],
             [
              0.5555555555555556,
              "#1f9e89"
             ],
             [
              0.6666666666666666,
              "#35b779"
             ],
             [
              0.7777777777777778,
              "#6ece58"
             ],
             [
              0.8888888888888888,
              "#b5de2b"
             ],
             [
              1,
              "#fde725"
             ]
            ],
            "type": "heatmap"
           }
          ],
          "heatmapgl": [
           {
            "colorbar": {
             "outlinewidth": 1,
             "tickcolor": "rgb(36,36,36)",
             "ticks": "outside"
            },
            "colorscale": [
             [
              0,
              "#440154"
             ],
             [
              0.1111111111111111,
              "#482878"
             ],
             [
              0.2222222222222222,
              "#3e4989"
             ],
             [
              0.3333333333333333,
              "#31688e"
             ],
             [
              0.4444444444444444,
              "#26828e"
             ],
             [
              0.5555555555555556,
              "#1f9e89"
             ],
             [
              0.6666666666666666,
              "#35b779"
             ],
             [
              0.7777777777777778,
              "#6ece58"
             ],
             [
              0.8888888888888888,
              "#b5de2b"
             ],
             [
              1,
              "#fde725"
             ]
            ],
            "type": "heatmapgl"
           }
          ],
          "histogram": [
           {
            "marker": {
             "line": {
              "color": "white",
              "width": 0.6
             }
            },
            "type": "histogram"
           }
          ],
          "histogram2d": [
           {
            "colorbar": {
             "outlinewidth": 1,
             "tickcolor": "rgb(36,36,36)",
             "ticks": "outside"
            },
            "colorscale": [
             [
              0,
              "#440154"
             ],
             [
              0.1111111111111111,
              "#482878"
             ],
             [
              0.2222222222222222,
              "#3e4989"
             ],
             [
              0.3333333333333333,
              "#31688e"
             ],
             [
              0.4444444444444444,
              "#26828e"
             ],
             [
              0.5555555555555556,
              "#1f9e89"
             ],
             [
              0.6666666666666666,
              "#35b779"
             ],
             [
              0.7777777777777778,
              "#6ece58"
             ],
             [
              0.8888888888888888,
              "#b5de2b"
             ],
             [
              1,
              "#fde725"
             ]
            ],
            "type": "histogram2d"
           }
          ],
          "histogram2dcontour": [
           {
            "colorbar": {
             "outlinewidth": 1,
             "tickcolor": "rgb(36,36,36)",
             "ticks": "outside"
            },
            "colorscale": [
             [
              0,
              "#440154"
             ],
             [
              0.1111111111111111,
              "#482878"
             ],
             [
              0.2222222222222222,
              "#3e4989"
             ],
             [
              0.3333333333333333,
              "#31688e"
             ],
             [
              0.4444444444444444,
              "#26828e"
             ],
             [
              0.5555555555555556,
              "#1f9e89"
             ],
             [
              0.6666666666666666,
              "#35b779"
             ],
             [
              0.7777777777777778,
              "#6ece58"
             ],
             [
              0.8888888888888888,
              "#b5de2b"
             ],
             [
              1,
              "#fde725"
             ]
            ],
            "type": "histogram2dcontour"
           }
          ],
          "mesh3d": [
           {
            "colorbar": {
             "outlinewidth": 1,
             "tickcolor": "rgb(36,36,36)",
             "ticks": "outside"
            },
            "type": "mesh3d"
           }
          ],
          "parcoords": [
           {
            "line": {
             "colorbar": {
              "outlinewidth": 1,
              "tickcolor": "rgb(36,36,36)",
              "ticks": "outside"
             }
            },
            "type": "parcoords"
           }
          ],
          "pie": [
           {
            "automargin": true,
            "type": "pie"
           }
          ],
          "scatter": [
           {
            "fillpattern": {
             "fillmode": "overlay",
             "size": 10,
             "solidity": 0.2
            },
            "type": "scatter"
           }
          ],
          "scatter3d": [
           {
            "line": {
             "colorbar": {
              "outlinewidth": 1,
              "tickcolor": "rgb(36,36,36)",
              "ticks": "outside"
             }
            },
            "marker": {
             "colorbar": {
              "outlinewidth": 1,
              "tickcolor": "rgb(36,36,36)",
              "ticks": "outside"
             }
            },
            "type": "scatter3d"
           }
          ],
          "scattercarpet": [
           {
            "marker": {
             "colorbar": {
              "outlinewidth": 1,
              "tickcolor": "rgb(36,36,36)",
              "ticks": "outside"
             }
            },
            "type": "scattercarpet"
           }
          ],
          "scattergeo": [
           {
            "marker": {
             "colorbar": {
              "outlinewidth": 1,
              "tickcolor": "rgb(36,36,36)",
              "ticks": "outside"
             }
            },
            "type": "scattergeo"
           }
          ],
          "scattergl": [
           {
            "marker": {
             "colorbar": {
              "outlinewidth": 1,
              "tickcolor": "rgb(36,36,36)",
              "ticks": "outside"
             }
            },
            "type": "scattergl"
           }
          ],
          "scattermapbox": [
           {
            "marker": {
             "colorbar": {
              "outlinewidth": 1,
              "tickcolor": "rgb(36,36,36)",
              "ticks": "outside"
             }
            },
            "type": "scattermapbox"
           }
          ],
          "scatterpolar": [
           {
            "marker": {
             "colorbar": {
              "outlinewidth": 1,
              "tickcolor": "rgb(36,36,36)",
              "ticks": "outside"
             }
            },
            "type": "scatterpolar"
           }
          ],
          "scatterpolargl": [
           {
            "marker": {
             "colorbar": {
              "outlinewidth": 1,
              "tickcolor": "rgb(36,36,36)",
              "ticks": "outside"
             }
            },
            "type": "scatterpolargl"
           }
          ],
          "scatterternary": [
           {
            "marker": {
             "colorbar": {
              "outlinewidth": 1,
              "tickcolor": "rgb(36,36,36)",
              "ticks": "outside"
             }
            },
            "type": "scatterternary"
           }
          ],
          "surface": [
           {
            "colorbar": {
             "outlinewidth": 1,
             "tickcolor": "rgb(36,36,36)",
             "ticks": "outside"
            },
            "colorscale": [
             [
              0,
              "#440154"
             ],
             [
              0.1111111111111111,
              "#482878"
             ],
             [
              0.2222222222222222,
              "#3e4989"
             ],
             [
              0.3333333333333333,
              "#31688e"
             ],
             [
              0.4444444444444444,
              "#26828e"
             ],
             [
              0.5555555555555556,
              "#1f9e89"
             ],
             [
              0.6666666666666666,
              "#35b779"
             ],
             [
              0.7777777777777778,
              "#6ece58"
             ],
             [
              0.8888888888888888,
              "#b5de2b"
             ],
             [
              1,
              "#fde725"
             ]
            ],
            "type": "surface"
           }
          ],
          "table": [
           {
            "cells": {
             "fill": {
              "color": "rgb(237,237,237)"
             },
             "line": {
              "color": "white"
             }
            },
            "header": {
             "fill": {
              "color": "rgb(217,217,217)"
             },
             "line": {
              "color": "white"
             }
            },
            "type": "table"
           }
          ]
         },
         "layout": {
          "annotationdefaults": {
           "arrowhead": 0,
           "arrowwidth": 1
          },
          "autotypenumbers": "strict",
          "coloraxis": {
           "colorbar": {
            "outlinewidth": 1,
            "tickcolor": "rgb(36,36,36)",
            "ticks": "outside"
           }
          },
          "colorscale": {
           "diverging": [
            [
             0,
             "rgb(103,0,31)"
            ],
            [
             0.1,
             "rgb(178,24,43)"
            ],
            [
             0.2,
             "rgb(214,96,77)"
            ],
            [
             0.3,
             "rgb(244,165,130)"
            ],
            [
             0.4,
             "rgb(253,219,199)"
            ],
            [
             0.5,
             "rgb(247,247,247)"
            ],
            [
             0.6,
             "rgb(209,229,240)"
            ],
            [
             0.7,
             "rgb(146,197,222)"
            ],
            [
             0.8,
             "rgb(67,147,195)"
            ],
            [
             0.9,
             "rgb(33,102,172)"
            ],
            [
             1,
             "rgb(5,48,97)"
            ]
           ],
           "sequential": [
            [
             0,
             "#440154"
            ],
            [
             0.1111111111111111,
             "#482878"
            ],
            [
             0.2222222222222222,
             "#3e4989"
            ],
            [
             0.3333333333333333,
             "#31688e"
            ],
            [
             0.4444444444444444,
             "#26828e"
            ],
            [
             0.5555555555555556,
             "#1f9e89"
            ],
            [
             0.6666666666666666,
             "#35b779"
            ],
            [
             0.7777777777777778,
             "#6ece58"
            ],
            [
             0.8888888888888888,
             "#b5de2b"
            ],
            [
             1,
             "#fde725"
            ]
           ],
           "sequentialminus": [
            [
             0,
             "#440154"
            ],
            [
             0.1111111111111111,
             "#482878"
            ],
            [
             0.2222222222222222,
             "#3e4989"
            ],
            [
             0.3333333333333333,
             "#31688e"
            ],
            [
             0.4444444444444444,
             "#26828e"
            ],
            [
             0.5555555555555556,
             "#1f9e89"
            ],
            [
             0.6666666666666666,
             "#35b779"
            ],
            [
             0.7777777777777778,
             "#6ece58"
            ],
            [
             0.8888888888888888,
             "#b5de2b"
            ],
            [
             1,
             "#fde725"
            ]
           ]
          },
          "colorway": [
           "#1F77B4",
           "#FF7F0E",
           "#2CA02C",
           "#D62728",
           "#9467BD",
           "#8C564B",
           "#E377C2",
           "#7F7F7F",
           "#BCBD22",
           "#17BECF"
          ],
          "font": {
           "color": "rgb(36,36,36)"
          },
          "geo": {
           "bgcolor": "white",
           "lakecolor": "white",
           "landcolor": "white",
           "showlakes": true,
           "showland": true,
           "subunitcolor": "white"
          },
          "hoverlabel": {
           "align": "left"
          },
          "hovermode": "closest",
          "mapbox": {
           "style": "light"
          },
          "paper_bgcolor": "white",
          "plot_bgcolor": "white",
          "polar": {
           "angularaxis": {
            "gridcolor": "rgb(232,232,232)",
            "linecolor": "rgb(36,36,36)",
            "showgrid": false,
            "showline": true,
            "ticks": "outside"
           },
           "bgcolor": "white",
           "radialaxis": {
            "gridcolor": "rgb(232,232,232)",
            "linecolor": "rgb(36,36,36)",
            "showgrid": false,
            "showline": true,
            "ticks": "outside"
           }
          },
          "scene": {
           "xaxis": {
            "backgroundcolor": "white",
            "gridcolor": "rgb(232,232,232)",
            "gridwidth": 2,
            "linecolor": "rgb(36,36,36)",
            "showbackground": true,
            "showgrid": false,
            "showline": true,
            "ticks": "outside",
            "zeroline": false,
            "zerolinecolor": "rgb(36,36,36)"
           },
           "yaxis": {
            "backgroundcolor": "white",
            "gridcolor": "rgb(232,232,232)",
            "gridwidth": 2,
            "linecolor": "rgb(36,36,36)",
            "showbackground": true,
            "showgrid": false,
            "showline": true,
            "ticks": "outside",
            "zeroline": false,
            "zerolinecolor": "rgb(36,36,36)"
           },
           "zaxis": {
            "backgroundcolor": "white",
            "gridcolor": "rgb(232,232,232)",
            "gridwidth": 2,
            "linecolor": "rgb(36,36,36)",
            "showbackground": true,
            "showgrid": false,
            "showline": true,
            "ticks": "outside",
            "zeroline": false,
            "zerolinecolor": "rgb(36,36,36)"
           }
          },
          "shapedefaults": {
           "fillcolor": "black",
           "line": {
            "width": 0
           },
           "opacity": 0.3
          },
          "ternary": {
           "aaxis": {
            "gridcolor": "rgb(232,232,232)",
            "linecolor": "rgb(36,36,36)",
            "showgrid": false,
            "showline": true,
            "ticks": "outside"
           },
           "baxis": {
            "gridcolor": "rgb(232,232,232)",
            "linecolor": "rgb(36,36,36)",
            "showgrid": false,
            "showline": true,
            "ticks": "outside"
           },
           "bgcolor": "white",
           "caxis": {
            "gridcolor": "rgb(232,232,232)",
            "linecolor": "rgb(36,36,36)",
            "showgrid": false,
            "showline": true,
            "ticks": "outside"
           }
          },
          "title": {
           "x": 0.05
          },
          "xaxis": {
           "automargin": true,
           "gridcolor": "rgb(232,232,232)",
           "linecolor": "rgb(36,36,36)",
           "showgrid": false,
           "showline": true,
           "ticks": "outside",
           "title": {
            "standoff": 15
           },
           "zeroline": false,
           "zerolinecolor": "rgb(36,36,36)"
          },
          "yaxis": {
           "automargin": true,
           "gridcolor": "rgb(232,232,232)",
           "linecolor": "rgb(36,36,36)",
           "showgrid": false,
           "showline": true,
           "ticks": "outside",
           "title": {
            "standoff": 15
           },
           "zeroline": false,
           "zerolinecolor": "rgb(36,36,36)"
          }
         }
        },
        "width": 800,
        "xaxis": {
         "anchor": "y",
         "domain": [
          0,
          1
         ],
         "title": {
          "text": "PC1  - variance explained: 0.41"
         }
        },
        "yaxis": {
         "anchor": "x",
         "domain": [
          0,
          1
         ],
         "title": {
          "text": "PC2  - variance explained: 0.15"
         }
        }
       }
      },
      "text/html": [
       "<div>                            <div id=\"800a60e0-c947-4fd8-b74b-11f78334d268\" class=\"plotly-graph-div\" style=\"height:600px; width:800px;\"></div>            <script type=\"text/javascript\">                require([\"plotly\"], function(Plotly) {                    window.PLOTLYENV=window.PLOTLYENV || {};                                    if (document.getElementById(\"800a60e0-c947-4fd8-b74b-11f78334d268\")) {                    Plotly.newPlot(                        \"800a60e0-c947-4fd8-b74b-11f78334d268\",                        [{\"customdata\":[[\"Tiefora\",\"resistant\"],[\"Tiefora\",\"resistant\"],[\"Tiefora\",\"resistant\"],[\"Ban\",\"resistant\"],[\"Ban\",\"resistant\"],[\"Ban\",\"resistant\"],[\"Ban\",\"resistant\"],[\"VK7\",\"resistant\"],[\"VK7\",\"resistant\"],[\"VK7\",\"resistant\"],[\"VK7\",\"resistant\"],[\"BanRe\",\"resistant\"],[\"BanRe\",\"resistant\"],[\"BanRe\",\"resistant\"],[\"BanRe\",\"resistant\"],[\"Chad\",\"resistant\"],[\"Chad\",\"resistant\"],[\"Chad\",\"resistant\"],[\"Chad\",\"resistant\"],[\"Chad\",\"resistant\"],[\"Chad\",\"resistant\"],[\"Nigeria\",\"resistant\"],[\"Nigeria\",\"resistant\"],[\"Nigeria\",\"resistant\"],[\"Nigeria\",\"resistant\"],[\"Nigeria\",\"resistant\"],[\"Nigeria\",\"resistant\"],[\"Cameroon\",\"resistant\"],[\"Cameroon\",\"resistant\"],[\"Cameroon\",\"resistant\"],[\"Cameroon\",\"resistant\"],[\"Cameroon\",\"resistant\"],[\"Niger\",\"resistant\"],[\"Niger\",\"resistant\"],[\"Niger\",\"resistant\"],[\"Niger\",\"resistant\"],[\"Niger\",\"resistant\"],[\"Niger\",\"resistant\"],[\"Ngousso\",\"susceptible\"],[\"Ngousso\",\"susceptible\"],[\"Ngousso\",\"susceptible\"],[\"BanS\",\"susceptible\"],[\"BanS\",\"susceptible\"],[\"BanS\",\"susceptible\"],[\"BanS\",\"susceptible\"],[\"Ngousso\",\"susceptible\"],[\"Ngousso\",\"susceptible\"],[\"Ngousso\",\"susceptible\"],[\"Ngousso\",\"susceptible\"],[\"Ngousso\",\"susceptible\"],[\"Ngousso\",\"susceptible\"],[\"Agboville\",\"resistant\"],[\"Agboville\",\"resistant\"],[\"Agboville\",\"resistant\"],[\"Agboville\",\"resistant\"],[\"Agboville\",\"resistant\"],[\"Agboville\",\"resistant\"],[\"Agboville\",\"resistant\"],[\"Agboville\",\"resistant\"],[\"Agboville\",\"resistant\"],[\"Dabou\",\"resistant\"],[\"Dabou\",\"resistant\"],[\"Dabou\",\"resistant\"],[\"Dabou\",\"resistant\"],[\"Dabou\",\"resistant\"],[\"Dabou\",\"resistant\"],[\"Dabou\",\"resistant\"],[\"Dabou\",\"resistant\"],[\"Dabou\",\"resistant\"],[\"Dabou\",\"resistant\"],[\"Tiassale\",\"resistant\"],[\"Tiassale\",\"resistant\"],[\"Tiassale\",\"resistant\"],[\"Tiassale\",\"resistant\"],[\"Tiassale\",\"resistant\"],[\"Tiassale\",\"resistant\"],[\"Tiassale\",\"resistant\"],[\"Tiassale\",\"resistant\"],[\"Tiassale\",\"resistant\"],[\"Tiassale\",\"resistant\"],[\"Ngousso\",\"susceptible\"],[\"Ngousso\",\"susceptible\"],[\"Ngousso\",\"susceptible\"],[\"Ngousso\",\"susceptible\"],[\"Ngousso\",\"susceptible\"],[\"Mali\",\"susceptible\"],[\"Mali\",\"susceptible\"],[\"Mali\",\"susceptible\"],[\"Mali\",\"susceptible\"],[\"Mali\",\"susceptible\"],[\"Bouake_colu_unexp\",\"resistant\"],[\"Bouake_colu_unexp\",\"resistant\"],[\"Bouake_colu_unexp\",\"resistant\"],[\"Bouake_colu_unexp\",\"resistant\"],[\"Ngousso\",\"susceptible\"],[\"Ngousso\",\"susceptible\"],[\"Ngousso\",\"susceptible\"],[\"Ngousso\",\"susceptible\"]],\"hovertemplate\":\"species=coluzzii<br>PC1  - variance explained: 0.41=%{x}<br>PC2  - variance explained: 0.15=%{y}<br>condition=%{customdata[0]}<br>resistance=%{customdata[1]}<extra></extra>\",\"legendgroup\":\"coluzzii\",\"marker\":{\"color\":\"#1F77B4\",\"symbol\":\"circle\"},\"mode\":\"markers\",\"name\":\"coluzzii\",\"orientation\":\"v\",\"showlegend\":true,\"x\":[-8.845058206569416,-7.446192966498535,-8.6905669996294,-18.674080130318554,-16.46973893354272,-15.73022905078904,-17.71352302995311,-11.669854999126738,-9.687154150128137,-9.360922811699846,-8.460132355182827,-20.107522362549716,-18.296422690327308,-17.594019154388977,-20.070710794950458,-36.438275497392695,-38.93453571515319,-36.16966759874948,-37.23620768148068,-32.06078461782675,-32.478713130469586,-37.34778790730934,-46.31735818182625,-48.42936313710966,-58.81065565811845,-55.70932004067226,-51.695507420097044,-42.89275465184059,-37.31465045175205,-37.27601560745207,-41.634854229718314,-40.85721933664971,-53.85653117351243,-43.974103365664824,-56.128494920288006,-43.25954911828772,-33.26352903852642,-48.806663665927495,-11.049971396770335,-10.358914853586954,-11.772133430857739,-11.81170643621576,-13.38251084959114,-13.568967477645895,-17.569279856992495,-7.274561857283579,-6.480157557406258,-7.939223806775395,-34.651203509585926,-54.0770322248122,-34.65554608617461,-72.14539091583602,-70.17359773758515,-84.4330663720519,-74.16053694911045,-76.29282544330941,-75.24361238295675,-78.9757470296933,-79.04057154571542,-71.86821573145656,-77.97700918196627,-70.97280533437197,-89.64372151052758,-74.44917858964786,-73.30922312854713,-87.9178581482856,-78.84681218230297,-68.19572460044239,-80.79709908925746,-77.51954210136047,-88.31125290138638,-84.56220885553458,-83.23622493323158,-85.75078733243717,-79.98926381204076,-74.39926572698847,-74.76968590521456,-86.07922347229702,-86.22079519418098,-80.67844836982822,-71.41414790351459,-65.09639610372322,-69.79677019151823,-46.719891482212645,-51.69610572370008,-51.31916195345379,-78.98155646635998,-52.50391247181627,-52.145248205041966,-54.22641055765523,-10.859079770981511,-31.63468971766124,-13.436925348294391,-12.371738481660493,-13.803490958842994,-8.599922539646407,-12.938392352604305,-15.126864965895903],\"xaxis\":\"x\",\"y\":[67.56929349534204,68.44488058684811,67.97533233219862,43.13111357730032,51.88276411413254,52.964150131802384,50.146602356356894,60.42604273090649,60.04653167649943,57.00078088421347,62.9525825057692,44.265088627178535,48.049081495392265,48.048447510225856,47.45379841392542,-4.276557883008199,-9.117954522931774,-5.5418572594933515,6.052998171060418,12.002926927400825,10.784840954007569,-14.806781786474298,-7.664530064798554,-4.1214543358211495,-17.455265328836614,-15.779957980259505,-13.642120545252293,5.708101380520567,1.5434949618865446,8.393065891205508,7.282724045211893,5.454115791004615,-12.651964708201312,-12.304215945548492,-16.647549778211165,-15.488785827126437,-8.651578926262925,-15.006079721353563,60.46740954991429,59.723190345041516,63.83707747696448,47.42876458069299,51.44379336655114,55.06696292178186,41.93612148944669,54.460068880564876,53.399686127202244,57.73017934671882,-4.318028711471576,-4.569898575827485,4.190952318349368,-44.5583062709632,-48.67276792320203,-52.87776612209675,-45.55390963429019,-43.77473645018298,-43.15386515137957,-44.68687562615059,-47.15270252710892,-37.37961354645248,-49.38828981562306,-45.676171659931484,-52.99943170249223,-44.65274858402221,-45.324321429454095,-57.924262161812905,-55.983538745257064,-44.18256329791843,-61.77595388428659,-41.941289292143644,-56.56786286435854,-55.66316323708803,-54.15536594154152,-51.57408489133816,-48.6654308856403,-43.475536579968676,-44.445908238996296,-55.47606819380828,-53.26922868074001,-44.78620114343891,-27.299715001551032,-24.409663569745828,-26.578319422899334,-8.87059901887703,-10.709000199184143,-29.606578577518814,-44.52918822803024,-35.50911389190058,-33.6467041539791,-28.01689774989541,53.840854786437866,46.47677119799968,52.34189888825909,49.30407141500187,56.38307400153961,61.184572016449856,55.12405272850154,59.13300516001324],\"yaxis\":\"y\",\"type\":\"scatter\"},{\"customdata\":[[\"Bak\",\"resistant\"],[\"Bak\",\"resistant\"],[\"Bak\",\"resistant\"],[\"Bak\",\"resistant\"],[\"Kisumu\",\"susceptible\"],[\"Kisumu\",\"susceptible\"],[\"Kisumu\",\"susceptible\"],[\"Kisumu\",\"susceptible\"],[\"Kisumu\",\"susceptible\"],[\"Kisumu\",\"susceptible\"],[\"Kisumu\",\"susceptible\"],[\"Kisumu\",\"susceptible\"],[\"Bouake_gamb_unexp\",\"resistant\"],[\"Bouake_gamb_unexp\",\"resistant\"],[\"Bouake_gamb_unexp\",\"resistant\"],[\"Bouake_gamb_unexp\",\"resistant\"],[\"BusiaSurvivors\",\"resistant\"],[\"BusiaSurvivors\",\"resistant\"],[\"BusiaSurvivors\",\"resistant\"],[\"BusiaSurvivors\",\"resistant\"],[\"BusiaSurvivors\",\"resistant\"],[\"BusiaSurvivors\",\"resistant\"],[\"Kisumu\",\"susceptible\"],[\"Kisumu\",\"susceptible\"],[\"Kisumu\",\"susceptible\"],[\"Kisumu\",\"susceptible\"]],\"hovertemplate\":\"species=gambiae<br>PC1  - variance explained: 0.41=%{x}<br>PC2  - variance explained: 0.15=%{y}<br>condition=%{customdata[0]}<br>resistance=%{customdata[1]}<extra></extra>\",\"legendgroup\":\"gambiae\",\"marker\":{\"color\":\"#FF7F0E\",\"symbol\":\"circle\"},\"mode\":\"markers\",\"name\":\"gambiae\",\"orientation\":\"v\",\"showlegend\":true,\"x\":[-7.947785855561166,-7.235248631689655,-7.401675168309657,-3.9339011855034762,-8.833962459348337,-6.890483084965292,-8.154339375671825,-4.701643006575279,-14.07541535543285,-15.991123721881975,-12.816206793215303,-20.34861862711719,-9.659122506342696,-11.132310437315251,-31.295248154789217,-12.680589325329658,-17.753287802262147,-12.428598591939155,-19.9258917797532,-13.536716003831732,-8.674025984664556,-7.841719333470557,-12.26033212917734,-10.611841896717236,-14.13460850112919,-8.15682952498105],\"xaxis\":\"x\",\"y\":[54.394250306914465,57.290008044614346,60.18765753959443,60.8745907300515,65.37323493434931,66.82403565542404,68.75054440275925,64.6156113045482,56.34681017472393,55.72025234646392,58.61961018812799,52.482938273859695,56.09432150758521,56.144694158513225,45.44488985817593,49.441311065773746,48.14539317292817,55.529007687248615,44.106439509306774,49.17437128955426,57.38787171744653,58.35601665270792,47.915337237608334,48.23733631093992,48.1511646556004,50.298029908307704],\"yaxis\":\"y\",\"type\":\"scatter\"},{\"customdata\":[[\"Asendabo\",\"resistant\"],[\"Asendabo\",\"resistant\"],[\"Asendabo\",\"resistant\"],[\"Asendabo\",\"resistant\"],[\"Chewaka\",\"resistant\"],[\"Chewaka\",\"resistant\"],[\"Chewaka\",\"resistant\"],[\"Chewaka\",\"resistant\"],[\"Moz\",\"susceptible\"],[\"Moz\",\"susceptible\"],[\"Moz\",\"susceptible\"],[\"Moz\",\"susceptible\"],[\"Tolay\",\"resistant\"],[\"Tolay\",\"resistant\"],[\"Tolay\",\"resistant\"],[\"Tolay\",\"resistant\"],[\"Dongola\",\"susceptible\"],[\"Dongola\",\"susceptible\"],[\"Dongola\",\"susceptible\"],[\"Ethiopia\",\"resistant\"],[\"Ethiopia\",\"resistant\"],[\"Ethiopia\",\"resistant\"],[\"Gou\",\"resistant\"],[\"Gou\",\"resistant\"],[\"Gou\",\"resistant\"],[\"Moz\",\"susceptible\"],[\"Moz\",\"susceptible\"],[\"Moz\",\"susceptible\"]],\"hovertemplate\":\"species=arabiensis<br>PC1  - variance explained: 0.41=%{x}<br>PC2  - variance explained: 0.15=%{y}<br>condition=%{customdata[0]}<br>resistance=%{customdata[1]}<extra></extra>\",\"legendgroup\":\"arabiensis\",\"marker\":{\"color\":\"#2CA02C\",\"symbol\":\"circle\"},\"mode\":\"markers\",\"name\":\"arabiensis\",\"orientation\":\"v\",\"showlegend\":true,\"x\":[-38.212062755232786,-39.75248998101122,-38.19690296295831,-29.65407673690959,-36.09526988167267,-34.61521047690923,-33.570059831478176,-36.885488362183416,-32.54971763113694,-27.903045056106553,-36.24976339016271,-35.39991591274067,-35.05582728892782,-37.953288896473246,-35.4419034066561,-32.06544380710627,38.550225164238675,48.828829567732456,47.76798264371349,32.00058983653484,42.38742476232446,24.29533206094678,-11.616943560896479,-11.222630845537852,-11.61311916885911,-17.784586518739744,-17.879630319965585,-20.279413248942316],\"xaxis\":\"x\",\"y\":[-42.74758256926443,-48.50962184202392,-47.2323492859033,-40.60144122271877,-42.94138839559265,-41.719446696169555,-49.4643740767117,-39.166776913928246,-32.24548122422435,-24.97760164001872,-39.32166737159069,-31.77166036707317,-55.973266582905914,-51.40317558245322,-45.06672375118118,-43.13254808838928,-6.364757861583813,4.8967025051719455,5.312140294771905,-18.255440255696644,-10.292870561164941,-22.868757546412986,45.356072189912155,47.1064151768691,46.294455624473144,55.382701991358594,60.81143106352457,54.037417935586845],\"yaxis\":\"y\",\"type\":\"scatter\"},{\"customdata\":[[\"Cam_fun\",\"resistant\"],[\"Cam_fun\",\"resistant\"],[\"Cam_fun\",\"resistant\"],[\"Cam_fun\",\"resistant\"],[\"Cam_fun\",\"resistant\"],[\"Cam_fun\",\"resistant\"],[\"Cam_fun\",\"resistant\"],[\"Cam_fun\",\"resistant\"],[\"Cam_fun\",\"resistant\"],[\"Fang\",\"susceptible\"],[\"Fang\",\"susceptible\"],[\"Fang\",\"susceptible\"],[\"Fumoz\",\"resistant\"],[\"Fumoz\",\"resistant\"],[\"Fumoz\",\"resistant\"],[\"Fumoz\",\"resistant\"],[\"Fumoz\",\"resistant\"],[\"Ghana_fun\",\"resistant\"],[\"Ghana_fun\",\"resistant\"],[\"Ghana_fun\",\"resistant\"],[\"Ghana_fun\",\"resistant\"],[\"Ghana_fun\",\"resistant\"],[\"Ghana_fun\",\"resistant\"],[\"Ghana_fun\",\"resistant\"],[\"Ghana_fun\",\"resistant\"],[\"Ghana_fun\",\"resistant\"],[\"Ghana_fun\",\"resistant\"],[\"Malawi_fun\",\"resistant\"],[\"Malawi_fun\",\"resistant\"],[\"Malawi_fun\",\"resistant\"],[\"Malawi_fun\",\"resistant\"],[\"Malawi_fun\",\"resistant\"],[\"Malawi_fun\",\"resistant\"],[\"Malawi_fun\",\"resistant\"],[\"Malawi_fun\",\"resistant\"],[\"Malawi_fun\",\"resistant\"],[\"Malawi_fun\",\"resistant\"],[\"Uganda_fun\",\"resistant\"],[\"Uganda_fun\",\"resistant\"],[\"Uganda_fun\",\"resistant\"],[\"Uganda_fun\",\"resistant\"],[\"Uganda_fun\",\"resistant\"],[\"Uganda_fun\",\"resistant\"],[\"Uganda_fun\",\"resistant\"],[\"Uganda_fun\",\"resistant\"],[\"Uganda_fun\",\"resistant\"]],\"hovertemplate\":\"species=funestus<br>PC1  - variance explained: 0.41=%{x}<br>PC2  - variance explained: 0.15=%{y}<br>condition=%{customdata[0]}<br>resistance=%{customdata[1]}<extra></extra>\",\"legendgroup\":\"funestus\",\"marker\":{\"color\":\"#D62728\",\"symbol\":\"circle\"},\"mode\":\"markers\",\"name\":\"funestus\",\"orientation\":\"v\",\"showlegend\":true,\"x\":[102.10754193746791,110.79076539453334,105.0476845271207,115.6507001254867,109.49107992742604,106.0111763370608,107.28643896750742,110.514044644712,107.2616026932264,102.07715717450269,104.21636525901486,112.90435183226529,105.33687858191419,109.95936343291521,109.86662468632775,106.98567069937782,116.88473390151866,111.78925633681709,131.1004572325559,119.8963324005298,116.14945503404967,110.81201681363859,112.62330020620358,109.82940295757642,109.57371999386415,100.40433924098909,106.5045541735245,116.28244838135582,102.2527890364043,97.94732824754958,129.15546687597995,123.05796736660709,104.2583948542419,104.43904292259704,118.40694682712625,123.3433886883735,111.08273514285102,131.37855548420447,123.7991695269865,127.761437341512,127.93584090910288,97.2738785233276,126.66393218713058,106.7435027341848,105.98300685391837,108.67736462383637],\"xaxis\":\"x\",\"y\":[-21.54332610326337,-23.00840710917729,-28.5700830639095,-20.821679873179953,-21.106324508004757,-25.964897242568743,-21.399242976500354,-22.187519606097307,-24.59010629941314,-30.095237460295156,-22.662280598536608,-19.36368444261524,-24.63925742851033,-23.55273620134371,-21.859716776900623,-22.341721599145234,-21.43557530143704,-20.325847208987913,-28.574834622486208,-21.496415693843986,-17.053346052201007,-18.520597808732685,-15.637198732765967,-13.86673247794939,-22.91132404353532,-32.28689231573851,-30.59167474760413,-16.898816395951005,-23.24061422800892,-29.88867389459155,-33.7754648086601,-40.71240659328541,-24.912895511413275,-24.648970002694195,-14.75449811523354,-19.743574025797514,-17.477396024526662,-6.1714782505163095,-7.640492248223326,-10.969813555473449,-6.887640577293582,-34.75157142328399,-5.883465235697019,-31.80651495922511,-30.39145762632968,-28.176668770514105],\"yaxis\":\"y\",\"type\":\"scatter\"}],                        {\"template\":{\"data\":{\"barpolar\":[{\"marker\":{\"line\":{\"color\":\"white\",\"width\":0.5},\"pattern\":{\"fillmode\":\"overlay\",\"size\":10,\"solidity\":0.2}},\"type\":\"barpolar\"}],\"bar\":[{\"error_x\":{\"color\":\"rgb(36,36,36)\"},\"error_y\":{\"color\":\"rgb(36,36,36)\"},\"marker\":{\"line\":{\"color\":\"white\",\"width\":0.5},\"pattern\":{\"fillmode\":\"overlay\",\"size\":10,\"solidity\":0.2}},\"type\":\"bar\"}],\"carpet\":[{\"aaxis\":{\"endlinecolor\":\"rgb(36,36,36)\",\"gridcolor\":\"white\",\"linecolor\":\"white\",\"minorgridcolor\":\"white\",\"startlinecolor\":\"rgb(36,36,36)\"},\"baxis\":{\"endlinecolor\":\"rgb(36,36,36)\",\"gridcolor\":\"white\",\"linecolor\":\"white\",\"minorgridcolor\":\"white\",\"startlinecolor\":\"rgb(36,36,36)\"},\"type\":\"carpet\"}],\"choropleth\":[{\"colorbar\":{\"outlinewidth\":1,\"tickcolor\":\"rgb(36,36,36)\",\"ticks\":\"outside\"},\"type\":\"choropleth\"}],\"contourcarpet\":[{\"colorbar\":{\"outlinewidth\":1,\"tickcolor\":\"rgb(36,36,36)\",\"ticks\":\"outside\"},\"type\":\"contourcarpet\"}],\"contour\":[{\"colorbar\":{\"outlinewidth\":1,\"tickcolor\":\"rgb(36,36,36)\",\"ticks\":\"outside\"},\"colorscale\":[[0.0,\"#440154\"],[0.1111111111111111,\"#482878\"],[0.2222222222222222,\"#3e4989\"],[0.3333333333333333,\"#31688e\"],[0.4444444444444444,\"#26828e\"],[0.5555555555555556,\"#1f9e89\"],[0.6666666666666666,\"#35b779\"],[0.7777777777777778,\"#6ece58\"],[0.8888888888888888,\"#b5de2b\"],[1.0,\"#fde725\"]],\"type\":\"contour\"}],\"heatmapgl\":[{\"colorbar\":{\"outlinewidth\":1,\"tickcolor\":\"rgb(36,36,36)\",\"ticks\":\"outside\"},\"colorscale\":[[0.0,\"#440154\"],[0.1111111111111111,\"#482878\"],[0.2222222222222222,\"#3e4989\"],[0.3333333333333333,\"#31688e\"],[0.4444444444444444,\"#26828e\"],[0.5555555555555556,\"#1f9e89\"],[0.6666666666666666,\"#35b779\"],[0.7777777777777778,\"#6ece58\"],[0.8888888888888888,\"#b5de2b\"],[1.0,\"#fde725\"]],\"type\":\"heatmapgl\"}],\"heatmap\":[{\"colorbar\":{\"outlinewidth\":1,\"tickcolor\":\"rgb(36,36,36)\",\"ticks\":\"outside\"},\"colorscale\":[[0.0,\"#440154\"],[0.1111111111111111,\"#482878\"],[0.2222222222222222,\"#3e4989\"],[0.3333333333333333,\"#31688e\"],[0.4444444444444444,\"#26828e\"],[0.5555555555555556,\"#1f9e89\"],[0.6666666666666666,\"#35b779\"],[0.7777777777777778,\"#6ece58\"],[0.8888888888888888,\"#b5de2b\"],[1.0,\"#fde725\"]],\"type\":\"heatmap\"}],\"histogram2dcontour\":[{\"colorbar\":{\"outlinewidth\":1,\"tickcolor\":\"rgb(36,36,36)\",\"ticks\":\"outside\"},\"colorscale\":[[0.0,\"#440154\"],[0.1111111111111111,\"#482878\"],[0.2222222222222222,\"#3e4989\"],[0.3333333333333333,\"#31688e\"],[0.4444444444444444,\"#26828e\"],[0.5555555555555556,\"#1f9e89\"],[0.6666666666666666,\"#35b779\"],[0.7777777777777778,\"#6ece58\"],[0.8888888888888888,\"#b5de2b\"],[1.0,\"#fde725\"]],\"type\":\"histogram2dcontour\"}],\"histogram2d\":[{\"colorbar\":{\"outlinewidth\":1,\"tickcolor\":\"rgb(36,36,36)\",\"ticks\":\"outside\"},\"colorscale\":[[0.0,\"#440154\"],[0.1111111111111111,\"#482878\"],[0.2222222222222222,\"#3e4989\"],[0.3333333333333333,\"#31688e\"],[0.4444444444444444,\"#26828e\"],[0.5555555555555556,\"#1f9e89\"],[0.6666666666666666,\"#35b779\"],[0.7777777777777778,\"#6ece58\"],[0.8888888888888888,\"#b5de2b\"],[1.0,\"#fde725\"]],\"type\":\"histogram2d\"}],\"histogram\":[{\"marker\":{\"line\":{\"color\":\"white\",\"width\":0.6}},\"type\":\"histogram\"}],\"mesh3d\":[{\"colorbar\":{\"outlinewidth\":1,\"tickcolor\":\"rgb(36,36,36)\",\"ticks\":\"outside\"},\"type\":\"mesh3d\"}],\"parcoords\":[{\"line\":{\"colorbar\":{\"outlinewidth\":1,\"tickcolor\":\"rgb(36,36,36)\",\"ticks\":\"outside\"}},\"type\":\"parcoords\"}],\"pie\":[{\"automargin\":true,\"type\":\"pie\"}],\"scatter3d\":[{\"line\":{\"colorbar\":{\"outlinewidth\":1,\"tickcolor\":\"rgb(36,36,36)\",\"ticks\":\"outside\"}},\"marker\":{\"colorbar\":{\"outlinewidth\":1,\"tickcolor\":\"rgb(36,36,36)\",\"ticks\":\"outside\"}},\"type\":\"scatter3d\"}],\"scattercarpet\":[{\"marker\":{\"colorbar\":{\"outlinewidth\":1,\"tickcolor\":\"rgb(36,36,36)\",\"ticks\":\"outside\"}},\"type\":\"scattercarpet\"}],\"scattergeo\":[{\"marker\":{\"colorbar\":{\"outlinewidth\":1,\"tickcolor\":\"rgb(36,36,36)\",\"ticks\":\"outside\"}},\"type\":\"scattergeo\"}],\"scattergl\":[{\"marker\":{\"colorbar\":{\"outlinewidth\":1,\"tickcolor\":\"rgb(36,36,36)\",\"ticks\":\"outside\"}},\"type\":\"scattergl\"}],\"scattermapbox\":[{\"marker\":{\"colorbar\":{\"outlinewidth\":1,\"tickcolor\":\"rgb(36,36,36)\",\"ticks\":\"outside\"}},\"type\":\"scattermapbox\"}],\"scatterpolargl\":[{\"marker\":{\"colorbar\":{\"outlinewidth\":1,\"tickcolor\":\"rgb(36,36,36)\",\"ticks\":\"outside\"}},\"type\":\"scatterpolargl\"}],\"scatterpolar\":[{\"marker\":{\"colorbar\":{\"outlinewidth\":1,\"tickcolor\":\"rgb(36,36,36)\",\"ticks\":\"outside\"}},\"type\":\"scatterpolar\"}],\"scatter\":[{\"fillpattern\":{\"fillmode\":\"overlay\",\"size\":10,\"solidity\":0.2},\"type\":\"scatter\"}],\"scatterternary\":[{\"marker\":{\"colorbar\":{\"outlinewidth\":1,\"tickcolor\":\"rgb(36,36,36)\",\"ticks\":\"outside\"}},\"type\":\"scatterternary\"}],\"surface\":[{\"colorbar\":{\"outlinewidth\":1,\"tickcolor\":\"rgb(36,36,36)\",\"ticks\":\"outside\"},\"colorscale\":[[0.0,\"#440154\"],[0.1111111111111111,\"#482878\"],[0.2222222222222222,\"#3e4989\"],[0.3333333333333333,\"#31688e\"],[0.4444444444444444,\"#26828e\"],[0.5555555555555556,\"#1f9e89\"],[0.6666666666666666,\"#35b779\"],[0.7777777777777778,\"#6ece58\"],[0.8888888888888888,\"#b5de2b\"],[1.0,\"#fde725\"]],\"type\":\"surface\"}],\"table\":[{\"cells\":{\"fill\":{\"color\":\"rgb(237,237,237)\"},\"line\":{\"color\":\"white\"}},\"header\":{\"fill\":{\"color\":\"rgb(217,217,217)\"},\"line\":{\"color\":\"white\"}},\"type\":\"table\"}]},\"layout\":{\"annotationdefaults\":{\"arrowhead\":0,\"arrowwidth\":1},\"autotypenumbers\":\"strict\",\"coloraxis\":{\"colorbar\":{\"outlinewidth\":1,\"tickcolor\":\"rgb(36,36,36)\",\"ticks\":\"outside\"}},\"colorscale\":{\"diverging\":[[0.0,\"rgb(103,0,31)\"],[0.1,\"rgb(178,24,43)\"],[0.2,\"rgb(214,96,77)\"],[0.3,\"rgb(244,165,130)\"],[0.4,\"rgb(253,219,199)\"],[0.5,\"rgb(247,247,247)\"],[0.6,\"rgb(209,229,240)\"],[0.7,\"rgb(146,197,222)\"],[0.8,\"rgb(67,147,195)\"],[0.9,\"rgb(33,102,172)\"],[1.0,\"rgb(5,48,97)\"]],\"sequential\":[[0.0,\"#440154\"],[0.1111111111111111,\"#482878\"],[0.2222222222222222,\"#3e4989\"],[0.3333333333333333,\"#31688e\"],[0.4444444444444444,\"#26828e\"],[0.5555555555555556,\"#1f9e89\"],[0.6666666666666666,\"#35b779\"],[0.7777777777777778,\"#6ece58\"],[0.8888888888888888,\"#b5de2b\"],[1.0,\"#fde725\"]],\"sequentialminus\":[[0.0,\"#440154\"],[0.1111111111111111,\"#482878\"],[0.2222222222222222,\"#3e4989\"],[0.3333333333333333,\"#31688e\"],[0.4444444444444444,\"#26828e\"],[0.5555555555555556,\"#1f9e89\"],[0.6666666666666666,\"#35b779\"],[0.7777777777777778,\"#6ece58\"],[0.8888888888888888,\"#b5de2b\"],[1.0,\"#fde725\"]]},\"colorway\":[\"#1F77B4\",\"#FF7F0E\",\"#2CA02C\",\"#D62728\",\"#9467BD\",\"#8C564B\",\"#E377C2\",\"#7F7F7F\",\"#BCBD22\",\"#17BECF\"],\"font\":{\"color\":\"rgb(36,36,36)\"},\"geo\":{\"bgcolor\":\"white\",\"lakecolor\":\"white\",\"landcolor\":\"white\",\"showlakes\":true,\"showland\":true,\"subunitcolor\":\"white\"},\"hoverlabel\":{\"align\":\"left\"},\"hovermode\":\"closest\",\"mapbox\":{\"style\":\"light\"},\"paper_bgcolor\":\"white\",\"plot_bgcolor\":\"white\",\"polar\":{\"angularaxis\":{\"gridcolor\":\"rgb(232,232,232)\",\"linecolor\":\"rgb(36,36,36)\",\"showgrid\":false,\"showline\":true,\"ticks\":\"outside\"},\"bgcolor\":\"white\",\"radialaxis\":{\"gridcolor\":\"rgb(232,232,232)\",\"linecolor\":\"rgb(36,36,36)\",\"showgrid\":false,\"showline\":true,\"ticks\":\"outside\"}},\"scene\":{\"xaxis\":{\"backgroundcolor\":\"white\",\"gridcolor\":\"rgb(232,232,232)\",\"gridwidth\":2,\"linecolor\":\"rgb(36,36,36)\",\"showbackground\":true,\"showgrid\":false,\"showline\":true,\"ticks\":\"outside\",\"zeroline\":false,\"zerolinecolor\":\"rgb(36,36,36)\"},\"yaxis\":{\"backgroundcolor\":\"white\",\"gridcolor\":\"rgb(232,232,232)\",\"gridwidth\":2,\"linecolor\":\"rgb(36,36,36)\",\"showbackground\":true,\"showgrid\":false,\"showline\":true,\"ticks\":\"outside\",\"zeroline\":false,\"zerolinecolor\":\"rgb(36,36,36)\"},\"zaxis\":{\"backgroundcolor\":\"white\",\"gridcolor\":\"rgb(232,232,232)\",\"gridwidth\":2,\"linecolor\":\"rgb(36,36,36)\",\"showbackground\":true,\"showgrid\":false,\"showline\":true,\"ticks\":\"outside\",\"zeroline\":false,\"zerolinecolor\":\"rgb(36,36,36)\"}},\"shapedefaults\":{\"fillcolor\":\"black\",\"line\":{\"width\":0},\"opacity\":0.3},\"ternary\":{\"aaxis\":{\"gridcolor\":\"rgb(232,232,232)\",\"linecolor\":\"rgb(36,36,36)\",\"showgrid\":false,\"showline\":true,\"ticks\":\"outside\"},\"baxis\":{\"gridcolor\":\"rgb(232,232,232)\",\"linecolor\":\"rgb(36,36,36)\",\"showgrid\":false,\"showline\":true,\"ticks\":\"outside\"},\"bgcolor\":\"white\",\"caxis\":{\"gridcolor\":\"rgb(232,232,232)\",\"linecolor\":\"rgb(36,36,36)\",\"showgrid\":false,\"showline\":true,\"ticks\":\"outside\"}},\"title\":{\"x\":0.05},\"xaxis\":{\"automargin\":true,\"gridcolor\":\"rgb(232,232,232)\",\"linecolor\":\"rgb(36,36,36)\",\"showgrid\":false,\"showline\":true,\"ticks\":\"outside\",\"title\":{\"standoff\":15},\"zeroline\":false,\"zerolinecolor\":\"rgb(36,36,36)\"},\"yaxis\":{\"automargin\":true,\"gridcolor\":\"rgb(232,232,232)\",\"linecolor\":\"rgb(36,36,36)\",\"showgrid\":false,\"showline\":true,\"ticks\":\"outside\",\"title\":{\"standoff\":15},\"zeroline\":false,\"zerolinecolor\":\"rgb(36,36,36)\"}}},\"xaxis\":{\"anchor\":\"y\",\"domain\":[0.0,1.0],\"title\":{\"text\":\"PC1  - variance explained: 0.41\"}},\"yaxis\":{\"anchor\":\"x\",\"domain\":[0.0,1.0],\"title\":{\"text\":\"PC2  - variance explained: 0.15\"}},\"legend\":{\"title\":{\"text\":\"species\"},\"tracegroupgap\":0},\"margin\":{\"t\":60},\"height\":600,\"width\":800},                        {\"responsive\": true}                    ).then(function(){\n",
       "                            \n",
       "var gd = document.getElementById('800a60e0-c947-4fd8-b74b-11f78334d268');\n",
       "var x = new MutationObserver(function (mutations, observer) {{\n",
       "        var display = window.getComputedStyle(gd).display;\n",
       "        if (!display || display === 'none') {{\n",
       "            console.log([gd, 'removed!']);\n",
       "            Plotly.purge(gd);\n",
       "            observer.disconnect();\n",
       "        }}\n",
       "}});\n",
       "\n",
       "// Listen for the removal of the full notebook cells\n",
       "var notebookContainer = gd.closest('#notebook-container');\n",
       "if (notebookContainer) {{\n",
       "    x.observe(notebookContainer, {childList: true});\n",
       "}}\n",
       "\n",
       "// Listen for the clearing of the current output cell\n",
       "var outputEl = gd.closest('.output');\n",
       "if (outputEl) {{\n",
       "    x.observe(outputEl, {childList: true});\n",
       "}}\n",
       "\n",
       "                        })                };                });            </script>        </div>"
      ]
     },
     "metadata": {},
     "output_type": "display_data"
    }
   ],
   "source": [
    "pca(analysis='gamb_colu_arab_fun', data_type='log2counts', x='PC1', y='PC2')"
   ]
  },
  {
   "cell_type": "markdown",
   "metadata": {
    "id": "TWqLAFZGwxGA"
   },
   "source": [
    "#### PC3 vc PC4"
   ]
  },
  {
   "cell_type": "code",
   "execution_count": 16,
   "metadata": {
    "colab": {
     "base_uri": "https://localhost:8080/",
     "height": 1000
    },
    "id": "Z5LHyOFDwqux",
    "outputId": "3ae13a63-7fdd-44d6-b1e7-d4418198f57b"
   },
   "outputs": [
    {
     "data": {
      "application/vnd.plotly.v1+json": {
       "config": {
        "plotlyServerURL": "https://plot.ly"
       },
       "data": [
        {
         "alignmentgroup": "True",
         "hovertemplate": "PC=%{x}<br>explained_variance=%{y}<extra></extra>",
         "legendgroup": "",
         "marker": {
          "color": "#636efa",
          "pattern": {
           "shape": ""
          }
         },
         "name": "",
         "offsetgroup": "",
         "orientation": "v",
         "showlegend": false,
         "textposition": "auto",
         "type": "bar",
         "x": [
          "PC1",
          "PC2",
          "PC3",
          "PC4",
          "PC5",
          "PC6"
         ],
         "xaxis": "x",
         "y": [
          0.4075433416709792,
          0.1530781802251808,
          0.08787993588374243,
          0.03826578950785593,
          0.028303638588159655,
          0.02334026353848356
         ],
         "yaxis": "y"
        }
       ],
       "layout": {
        "barmode": "relative",
        "height": 400,
        "legend": {
         "tracegroupgap": 0
        },
        "margin": {
         "t": 60
        },
        "template": {
         "data": {
          "bar": [
           {
            "error_x": {
             "color": "#2a3f5f"
            },
            "error_y": {
             "color": "#2a3f5f"
            },
            "marker": {
             "line": {
              "color": "#E5ECF6",
              "width": 0.5
             },
             "pattern": {
              "fillmode": "overlay",
              "size": 10,
              "solidity": 0.2
             }
            },
            "type": "bar"
           }
          ],
          "barpolar": [
           {
            "marker": {
             "line": {
              "color": "#E5ECF6",
              "width": 0.5
             },
             "pattern": {
              "fillmode": "overlay",
              "size": 10,
              "solidity": 0.2
             }
            },
            "type": "barpolar"
           }
          ],
          "carpet": [
           {
            "aaxis": {
             "endlinecolor": "#2a3f5f",
             "gridcolor": "white",
             "linecolor": "white",
             "minorgridcolor": "white",
             "startlinecolor": "#2a3f5f"
            },
            "baxis": {
             "endlinecolor": "#2a3f5f",
             "gridcolor": "white",
             "linecolor": "white",
             "minorgridcolor": "white",
             "startlinecolor": "#2a3f5f"
            },
            "type": "carpet"
           }
          ],
          "choropleth": [
           {
            "colorbar": {
             "outlinewidth": 0,
             "ticks": ""
            },
            "type": "choropleth"
           }
          ],
          "contour": [
           {
            "colorbar": {
             "outlinewidth": 0,
             "ticks": ""
            },
            "colorscale": [
             [
              0,
              "#0d0887"
             ],
             [
              0.1111111111111111,
              "#46039f"
             ],
             [
              0.2222222222222222,
              "#7201a8"
             ],
             [
              0.3333333333333333,
              "#9c179e"
             ],
             [
              0.4444444444444444,
              "#bd3786"
             ],
             [
              0.5555555555555556,
              "#d8576b"
             ],
             [
              0.6666666666666666,
              "#ed7953"
             ],
             [
              0.7777777777777778,
              "#fb9f3a"
             ],
             [
              0.8888888888888888,
              "#fdca26"
             ],
             [
              1,
              "#f0f921"
             ]
            ],
            "type": "contour"
           }
          ],
          "contourcarpet": [
           {
            "colorbar": {
             "outlinewidth": 0,
             "ticks": ""
            },
            "type": "contourcarpet"
           }
          ],
          "heatmap": [
           {
            "colorbar": {
             "outlinewidth": 0,
             "ticks": ""
            },
            "colorscale": [
             [
              0,
              "#0d0887"
             ],
             [
              0.1111111111111111,
              "#46039f"
             ],
             [
              0.2222222222222222,
              "#7201a8"
             ],
             [
              0.3333333333333333,
              "#9c179e"
             ],
             [
              0.4444444444444444,
              "#bd3786"
             ],
             [
              0.5555555555555556,
              "#d8576b"
             ],
             [
              0.6666666666666666,
              "#ed7953"
             ],
             [
              0.7777777777777778,
              "#fb9f3a"
             ],
             [
              0.8888888888888888,
              "#fdca26"
             ],
             [
              1,
              "#f0f921"
             ]
            ],
            "type": "heatmap"
           }
          ],
          "heatmapgl": [
           {
            "colorbar": {
             "outlinewidth": 0,
             "ticks": ""
            },
            "colorscale": [
             [
              0,
              "#0d0887"
             ],
             [
              0.1111111111111111,
              "#46039f"
             ],
             [
              0.2222222222222222,
              "#7201a8"
             ],
             [
              0.3333333333333333,
              "#9c179e"
             ],
             [
              0.4444444444444444,
              "#bd3786"
             ],
             [
              0.5555555555555556,
              "#d8576b"
             ],
             [
              0.6666666666666666,
              "#ed7953"
             ],
             [
              0.7777777777777778,
              "#fb9f3a"
             ],
             [
              0.8888888888888888,
              "#fdca26"
             ],
             [
              1,
              "#f0f921"
             ]
            ],
            "type": "heatmapgl"
           }
          ],
          "histogram": [
           {
            "marker": {
             "pattern": {
              "fillmode": "overlay",
              "size": 10,
              "solidity": 0.2
             }
            },
            "type": "histogram"
           }
          ],
          "histogram2d": [
           {
            "colorbar": {
             "outlinewidth": 0,
             "ticks": ""
            },
            "colorscale": [
             [
              0,
              "#0d0887"
             ],
             [
              0.1111111111111111,
              "#46039f"
             ],
             [
              0.2222222222222222,
              "#7201a8"
             ],
             [
              0.3333333333333333,
              "#9c179e"
             ],
             [
              0.4444444444444444,
              "#bd3786"
             ],
             [
              0.5555555555555556,
              "#d8576b"
             ],
             [
              0.6666666666666666,
              "#ed7953"
             ],
             [
              0.7777777777777778,
              "#fb9f3a"
             ],
             [
              0.8888888888888888,
              "#fdca26"
             ],
             [
              1,
              "#f0f921"
             ]
            ],
            "type": "histogram2d"
           }
          ],
          "histogram2dcontour": [
           {
            "colorbar": {
             "outlinewidth": 0,
             "ticks": ""
            },
            "colorscale": [
             [
              0,
              "#0d0887"
             ],
             [
              0.1111111111111111,
              "#46039f"
             ],
             [
              0.2222222222222222,
              "#7201a8"
             ],
             [
              0.3333333333333333,
              "#9c179e"
             ],
             [
              0.4444444444444444,
              "#bd3786"
             ],
             [
              0.5555555555555556,
              "#d8576b"
             ],
             [
              0.6666666666666666,
              "#ed7953"
             ],
             [
              0.7777777777777778,
              "#fb9f3a"
             ],
             [
              0.8888888888888888,
              "#fdca26"
             ],
             [
              1,
              "#f0f921"
             ]
            ],
            "type": "histogram2dcontour"
           }
          ],
          "mesh3d": [
           {
            "colorbar": {
             "outlinewidth": 0,
             "ticks": ""
            },
            "type": "mesh3d"
           }
          ],
          "parcoords": [
           {
            "line": {
             "colorbar": {
              "outlinewidth": 0,
              "ticks": ""
             }
            },
            "type": "parcoords"
           }
          ],
          "pie": [
           {
            "automargin": true,
            "type": "pie"
           }
          ],
          "scatter": [
           {
            "fillpattern": {
             "fillmode": "overlay",
             "size": 10,
             "solidity": 0.2
            },
            "type": "scatter"
           }
          ],
          "scatter3d": [
           {
            "line": {
             "colorbar": {
              "outlinewidth": 0,
              "ticks": ""
             }
            },
            "marker": {
             "colorbar": {
              "outlinewidth": 0,
              "ticks": ""
             }
            },
            "type": "scatter3d"
           }
          ],
          "scattercarpet": [
           {
            "marker": {
             "colorbar": {
              "outlinewidth": 0,
              "ticks": ""
             }
            },
            "type": "scattercarpet"
           }
          ],
          "scattergeo": [
           {
            "marker": {
             "colorbar": {
              "outlinewidth": 0,
              "ticks": ""
             }
            },
            "type": "scattergeo"
           }
          ],
          "scattergl": [
           {
            "marker": {
             "colorbar": {
              "outlinewidth": 0,
              "ticks": ""
             }
            },
            "type": "scattergl"
           }
          ],
          "scattermapbox": [
           {
            "marker": {
             "colorbar": {
              "outlinewidth": 0,
              "ticks": ""
             }
            },
            "type": "scattermapbox"
           }
          ],
          "scatterpolar": [
           {
            "marker": {
             "colorbar": {
              "outlinewidth": 0,
              "ticks": ""
             }
            },
            "type": "scatterpolar"
           }
          ],
          "scatterpolargl": [
           {
            "marker": {
             "colorbar": {
              "outlinewidth": 0,
              "ticks": ""
             }
            },
            "type": "scatterpolargl"
           }
          ],
          "scatterternary": [
           {
            "marker": {
             "colorbar": {
              "outlinewidth": 0,
              "ticks": ""
             }
            },
            "type": "scatterternary"
           }
          ],
          "surface": [
           {
            "colorbar": {
             "outlinewidth": 0,
             "ticks": ""
            },
            "colorscale": [
             [
              0,
              "#0d0887"
             ],
             [
              0.1111111111111111,
              "#46039f"
             ],
             [
              0.2222222222222222,
              "#7201a8"
             ],
             [
              0.3333333333333333,
              "#9c179e"
             ],
             [
              0.4444444444444444,
              "#bd3786"
             ],
             [
              0.5555555555555556,
              "#d8576b"
             ],
             [
              0.6666666666666666,
              "#ed7953"
             ],
             [
              0.7777777777777778,
              "#fb9f3a"
             ],
             [
              0.8888888888888888,
              "#fdca26"
             ],
             [
              1,
              "#f0f921"
             ]
            ],
            "type": "surface"
           }
          ],
          "table": [
           {
            "cells": {
             "fill": {
              "color": "#EBF0F8"
             },
             "line": {
              "color": "white"
             }
            },
            "header": {
             "fill": {
              "color": "#C8D4E3"
             },
             "line": {
              "color": "white"
             }
            },
            "type": "table"
           }
          ]
         },
         "layout": {
          "annotationdefaults": {
           "arrowcolor": "#2a3f5f",
           "arrowhead": 0,
           "arrowwidth": 1
          },
          "autotypenumbers": "strict",
          "coloraxis": {
           "colorbar": {
            "outlinewidth": 0,
            "ticks": ""
           }
          },
          "colorscale": {
           "diverging": [
            [
             0,
             "#8e0152"
            ],
            [
             0.1,
             "#c51b7d"
            ],
            [
             0.2,
             "#de77ae"
            ],
            [
             0.3,
             "#f1b6da"
            ],
            [
             0.4,
             "#fde0ef"
            ],
            [
             0.5,
             "#f7f7f7"
            ],
            [
             0.6,
             "#e6f5d0"
            ],
            [
             0.7,
             "#b8e186"
            ],
            [
             0.8,
             "#7fbc41"
            ],
            [
             0.9,
             "#4d9221"
            ],
            [
             1,
             "#276419"
            ]
           ],
           "sequential": [
            [
             0,
             "#0d0887"
            ],
            [
             0.1111111111111111,
             "#46039f"
            ],
            [
             0.2222222222222222,
             "#7201a8"
            ],
            [
             0.3333333333333333,
             "#9c179e"
            ],
            [
             0.4444444444444444,
             "#bd3786"
            ],
            [
             0.5555555555555556,
             "#d8576b"
            ],
            [
             0.6666666666666666,
             "#ed7953"
            ],
            [
             0.7777777777777778,
             "#fb9f3a"
            ],
            [
             0.8888888888888888,
             "#fdca26"
            ],
            [
             1,
             "#f0f921"
            ]
           ],
           "sequentialminus": [
            [
             0,
             "#0d0887"
            ],
            [
             0.1111111111111111,
             "#46039f"
            ],
            [
             0.2222222222222222,
             "#7201a8"
            ],
            [
             0.3333333333333333,
             "#9c179e"
            ],
            [
             0.4444444444444444,
             "#bd3786"
            ],
            [
             0.5555555555555556,
             "#d8576b"
            ],
            [
             0.6666666666666666,
             "#ed7953"
            ],
            [
             0.7777777777777778,
             "#fb9f3a"
            ],
            [
             0.8888888888888888,
             "#fdca26"
            ],
            [
             1,
             "#f0f921"
            ]
           ]
          },
          "colorway": [
           "#636efa",
           "#EF553B",
           "#00cc96",
           "#ab63fa",
           "#FFA15A",
           "#19d3f3",
           "#FF6692",
           "#B6E880",
           "#FF97FF",
           "#FECB52"
          ],
          "font": {
           "color": "#2a3f5f"
          },
          "geo": {
           "bgcolor": "white",
           "lakecolor": "white",
           "landcolor": "#E5ECF6",
           "showlakes": true,
           "showland": true,
           "subunitcolor": "white"
          },
          "hoverlabel": {
           "align": "left"
          },
          "hovermode": "closest",
          "mapbox": {
           "style": "light"
          },
          "paper_bgcolor": "white",
          "plot_bgcolor": "#E5ECF6",
          "polar": {
           "angularaxis": {
            "gridcolor": "white",
            "linecolor": "white",
            "ticks": ""
           },
           "bgcolor": "#E5ECF6",
           "radialaxis": {
            "gridcolor": "white",
            "linecolor": "white",
            "ticks": ""
           }
          },
          "scene": {
           "xaxis": {
            "backgroundcolor": "#E5ECF6",
            "gridcolor": "white",
            "gridwidth": 2,
            "linecolor": "white",
            "showbackground": true,
            "ticks": "",
            "zerolinecolor": "white"
           },
           "yaxis": {
            "backgroundcolor": "#E5ECF6",
            "gridcolor": "white",
            "gridwidth": 2,
            "linecolor": "white",
            "showbackground": true,
            "ticks": "",
            "zerolinecolor": "white"
           },
           "zaxis": {
            "backgroundcolor": "#E5ECF6",
            "gridcolor": "white",
            "gridwidth": 2,
            "linecolor": "white",
            "showbackground": true,
            "ticks": "",
            "zerolinecolor": "white"
           }
          },
          "shapedefaults": {
           "line": {
            "color": "#2a3f5f"
           }
          },
          "ternary": {
           "aaxis": {
            "gridcolor": "white",
            "linecolor": "white",
            "ticks": ""
           },
           "baxis": {
            "gridcolor": "white",
            "linecolor": "white",
            "ticks": ""
           },
           "bgcolor": "#E5ECF6",
           "caxis": {
            "gridcolor": "white",
            "linecolor": "white",
            "ticks": ""
           }
          },
          "title": {
           "x": 0.05
          },
          "xaxis": {
           "automargin": true,
           "gridcolor": "white",
           "linecolor": "white",
           "ticks": "",
           "title": {
            "standoff": 15
           },
           "zerolinecolor": "white",
           "zerolinewidth": 2
          },
          "yaxis": {
           "automargin": true,
           "gridcolor": "white",
           "linecolor": "white",
           "ticks": "",
           "title": {
            "standoff": 15
           },
           "zerolinecolor": "white",
           "zerolinewidth": 2
          }
         }
        },
        "width": 800,
        "xaxis": {
         "anchor": "y",
         "domain": [
          0,
          1
         ],
         "title": {
          "text": "PC"
         }
        },
        "yaxis": {
         "anchor": "x",
         "domain": [
          0,
          1
         ],
         "title": {
          "text": "explained_variance"
         }
        }
       }
      },
      "text/html": [
       "<div>                            <div id=\"98cc5eb0-385f-48e4-be5a-4d58fd6f3366\" class=\"plotly-graph-div\" style=\"height:400px; width:800px;\"></div>            <script type=\"text/javascript\">                require([\"plotly\"], function(Plotly) {                    window.PLOTLYENV=window.PLOTLYENV || {};                                    if (document.getElementById(\"98cc5eb0-385f-48e4-be5a-4d58fd6f3366\")) {                    Plotly.newPlot(                        \"98cc5eb0-385f-48e4-be5a-4d58fd6f3366\",                        [{\"alignmentgroup\":\"True\",\"hovertemplate\":\"PC=%{x}<br>explained_variance=%{y}<extra></extra>\",\"legendgroup\":\"\",\"marker\":{\"color\":\"#636efa\",\"pattern\":{\"shape\":\"\"}},\"name\":\"\",\"offsetgroup\":\"\",\"orientation\":\"v\",\"showlegend\":false,\"textposition\":\"auto\",\"x\":[\"PC1\",\"PC2\",\"PC3\",\"PC4\",\"PC5\",\"PC6\"],\"xaxis\":\"x\",\"y\":[0.4075433416709792,0.1530781802251808,0.08787993588374243,0.03826578950785593,0.028303638588159655,0.02334026353848356],\"yaxis\":\"y\",\"type\":\"bar\"}],                        {\"template\":{\"data\":{\"histogram2dcontour\":[{\"type\":\"histogram2dcontour\",\"colorbar\":{\"outlinewidth\":0,\"ticks\":\"\"},\"colorscale\":[[0.0,\"#0d0887\"],[0.1111111111111111,\"#46039f\"],[0.2222222222222222,\"#7201a8\"],[0.3333333333333333,\"#9c179e\"],[0.4444444444444444,\"#bd3786\"],[0.5555555555555556,\"#d8576b\"],[0.6666666666666666,\"#ed7953\"],[0.7777777777777778,\"#fb9f3a\"],[0.8888888888888888,\"#fdca26\"],[1.0,\"#f0f921\"]]}],\"choropleth\":[{\"type\":\"choropleth\",\"colorbar\":{\"outlinewidth\":0,\"ticks\":\"\"}}],\"histogram2d\":[{\"type\":\"histogram2d\",\"colorbar\":{\"outlinewidth\":0,\"ticks\":\"\"},\"colorscale\":[[0.0,\"#0d0887\"],[0.1111111111111111,\"#46039f\"],[0.2222222222222222,\"#7201a8\"],[0.3333333333333333,\"#9c179e\"],[0.4444444444444444,\"#bd3786\"],[0.5555555555555556,\"#d8576b\"],[0.6666666666666666,\"#ed7953\"],[0.7777777777777778,\"#fb9f3a\"],[0.8888888888888888,\"#fdca26\"],[1.0,\"#f0f921\"]]}],\"heatmap\":[{\"type\":\"heatmap\",\"colorbar\":{\"outlinewidth\":0,\"ticks\":\"\"},\"colorscale\":[[0.0,\"#0d0887\"],[0.1111111111111111,\"#46039f\"],[0.2222222222222222,\"#7201a8\"],[0.3333333333333333,\"#9c179e\"],[0.4444444444444444,\"#bd3786\"],[0.5555555555555556,\"#d8576b\"],[0.6666666666666666,\"#ed7953\"],[0.7777777777777778,\"#fb9f3a\"],[0.8888888888888888,\"#fdca26\"],[1.0,\"#f0f921\"]]}],\"heatmapgl\":[{\"type\":\"heatmapgl\",\"colorbar\":{\"outlinewidth\":0,\"ticks\":\"\"},\"colorscale\":[[0.0,\"#0d0887\"],[0.1111111111111111,\"#46039f\"],[0.2222222222222222,\"#7201a8\"],[0.3333333333333333,\"#9c179e\"],[0.4444444444444444,\"#bd3786\"],[0.5555555555555556,\"#d8576b\"],[0.6666666666666666,\"#ed7953\"],[0.7777777777777778,\"#fb9f3a\"],[0.8888888888888888,\"#fdca26\"],[1.0,\"#f0f921\"]]}],\"contourcarpet\":[{\"type\":\"contourcarpet\",\"colorbar\":{\"outlinewidth\":0,\"ticks\":\"\"}}],\"contour\":[{\"type\":\"contour\",\"colorbar\":{\"outlinewidth\":0,\"ticks\":\"\"},\"colorscale\":[[0.0,\"#0d0887\"],[0.1111111111111111,\"#46039f\"],[0.2222222222222222,\"#7201a8\"],[0.3333333333333333,\"#9c179e\"],[0.4444444444444444,\"#bd3786\"],[0.5555555555555556,\"#d8576b\"],[0.6666666666666666,\"#ed7953\"],[0.7777777777777778,\"#fb9f3a\"],[0.8888888888888888,\"#fdca26\"],[1.0,\"#f0f921\"]]}],\"surface\":[{\"type\":\"surface\",\"colorbar\":{\"outlinewidth\":0,\"ticks\":\"\"},\"colorscale\":[[0.0,\"#0d0887\"],[0.1111111111111111,\"#46039f\"],[0.2222222222222222,\"#7201a8\"],[0.3333333333333333,\"#9c179e\"],[0.4444444444444444,\"#bd3786\"],[0.5555555555555556,\"#d8576b\"],[0.6666666666666666,\"#ed7953\"],[0.7777777777777778,\"#fb9f3a\"],[0.8888888888888888,\"#fdca26\"],[1.0,\"#f0f921\"]]}],\"mesh3d\":[{\"type\":\"mesh3d\",\"colorbar\":{\"outlinewidth\":0,\"ticks\":\"\"}}],\"scatter\":[{\"fillpattern\":{\"fillmode\":\"overlay\",\"size\":10,\"solidity\":0.2},\"type\":\"scatter\"}],\"parcoords\":[{\"type\":\"parcoords\",\"line\":{\"colorbar\":{\"outlinewidth\":0,\"ticks\":\"\"}}}],\"scatterpolargl\":[{\"type\":\"scatterpolargl\",\"marker\":{\"colorbar\":{\"outlinewidth\":0,\"ticks\":\"\"}}}],\"bar\":[{\"error_x\":{\"color\":\"#2a3f5f\"},\"error_y\":{\"color\":\"#2a3f5f\"},\"marker\":{\"line\":{\"color\":\"#E5ECF6\",\"width\":0.5},\"pattern\":{\"fillmode\":\"overlay\",\"size\":10,\"solidity\":0.2}},\"type\":\"bar\"}],\"scattergeo\":[{\"type\":\"scattergeo\",\"marker\":{\"colorbar\":{\"outlinewidth\":0,\"ticks\":\"\"}}}],\"scatterpolar\":[{\"type\":\"scatterpolar\",\"marker\":{\"colorbar\":{\"outlinewidth\":0,\"ticks\":\"\"}}}],\"histogram\":[{\"marker\":{\"pattern\":{\"fillmode\":\"overlay\",\"size\":10,\"solidity\":0.2}},\"type\":\"histogram\"}],\"scattergl\":[{\"type\":\"scattergl\",\"marker\":{\"colorbar\":{\"outlinewidth\":0,\"ticks\":\"\"}}}],\"scatter3d\":[{\"type\":\"scatter3d\",\"line\":{\"colorbar\":{\"outlinewidth\":0,\"ticks\":\"\"}},\"marker\":{\"colorbar\":{\"outlinewidth\":0,\"ticks\":\"\"}}}],\"scattermapbox\":[{\"type\":\"scattermapbox\",\"marker\":{\"colorbar\":{\"outlinewidth\":0,\"ticks\":\"\"}}}],\"scatterternary\":[{\"type\":\"scatterternary\",\"marker\":{\"colorbar\":{\"outlinewidth\":0,\"ticks\":\"\"}}}],\"scattercarpet\":[{\"type\":\"scattercarpet\",\"marker\":{\"colorbar\":{\"outlinewidth\":0,\"ticks\":\"\"}}}],\"carpet\":[{\"aaxis\":{\"endlinecolor\":\"#2a3f5f\",\"gridcolor\":\"white\",\"linecolor\":\"white\",\"minorgridcolor\":\"white\",\"startlinecolor\":\"#2a3f5f\"},\"baxis\":{\"endlinecolor\":\"#2a3f5f\",\"gridcolor\":\"white\",\"linecolor\":\"white\",\"minorgridcolor\":\"white\",\"startlinecolor\":\"#2a3f5f\"},\"type\":\"carpet\"}],\"table\":[{\"cells\":{\"fill\":{\"color\":\"#EBF0F8\"},\"line\":{\"color\":\"white\"}},\"header\":{\"fill\":{\"color\":\"#C8D4E3\"},\"line\":{\"color\":\"white\"}},\"type\":\"table\"}],\"barpolar\":[{\"marker\":{\"line\":{\"color\":\"#E5ECF6\",\"width\":0.5},\"pattern\":{\"fillmode\":\"overlay\",\"size\":10,\"solidity\":0.2}},\"type\":\"barpolar\"}],\"pie\":[{\"automargin\":true,\"type\":\"pie\"}]},\"layout\":{\"autotypenumbers\":\"strict\",\"colorway\":[\"#636efa\",\"#EF553B\",\"#00cc96\",\"#ab63fa\",\"#FFA15A\",\"#19d3f3\",\"#FF6692\",\"#B6E880\",\"#FF97FF\",\"#FECB52\"],\"font\":{\"color\":\"#2a3f5f\"},\"hovermode\":\"closest\",\"hoverlabel\":{\"align\":\"left\"},\"paper_bgcolor\":\"white\",\"plot_bgcolor\":\"#E5ECF6\",\"polar\":{\"bgcolor\":\"#E5ECF6\",\"angularaxis\":{\"gridcolor\":\"white\",\"linecolor\":\"white\",\"ticks\":\"\"},\"radialaxis\":{\"gridcolor\":\"white\",\"linecolor\":\"white\",\"ticks\":\"\"}},\"ternary\":{\"bgcolor\":\"#E5ECF6\",\"aaxis\":{\"gridcolor\":\"white\",\"linecolor\":\"white\",\"ticks\":\"\"},\"baxis\":{\"gridcolor\":\"white\",\"linecolor\":\"white\",\"ticks\":\"\"},\"caxis\":{\"gridcolor\":\"white\",\"linecolor\":\"white\",\"ticks\":\"\"}},\"coloraxis\":{\"colorbar\":{\"outlinewidth\":0,\"ticks\":\"\"}},\"colorscale\":{\"sequential\":[[0.0,\"#0d0887\"],[0.1111111111111111,\"#46039f\"],[0.2222222222222222,\"#7201a8\"],[0.3333333333333333,\"#9c179e\"],[0.4444444444444444,\"#bd3786\"],[0.5555555555555556,\"#d8576b\"],[0.6666666666666666,\"#ed7953\"],[0.7777777777777778,\"#fb9f3a\"],[0.8888888888888888,\"#fdca26\"],[1.0,\"#f0f921\"]],\"sequentialminus\":[[0.0,\"#0d0887\"],[0.1111111111111111,\"#46039f\"],[0.2222222222222222,\"#7201a8\"],[0.3333333333333333,\"#9c179e\"],[0.4444444444444444,\"#bd3786\"],[0.5555555555555556,\"#d8576b\"],[0.6666666666666666,\"#ed7953\"],[0.7777777777777778,\"#fb9f3a\"],[0.8888888888888888,\"#fdca26\"],[1.0,\"#f0f921\"]],\"diverging\":[[0,\"#8e0152\"],[0.1,\"#c51b7d\"],[0.2,\"#de77ae\"],[0.3,\"#f1b6da\"],[0.4,\"#fde0ef\"],[0.5,\"#f7f7f7\"],[0.6,\"#e6f5d0\"],[0.7,\"#b8e186\"],[0.8,\"#7fbc41\"],[0.9,\"#4d9221\"],[1,\"#276419\"]]},\"xaxis\":{\"gridcolor\":\"white\",\"linecolor\":\"white\",\"ticks\":\"\",\"title\":{\"standoff\":15},\"zerolinecolor\":\"white\",\"automargin\":true,\"zerolinewidth\":2},\"yaxis\":{\"gridcolor\":\"white\",\"linecolor\":\"white\",\"ticks\":\"\",\"title\":{\"standoff\":15},\"zerolinecolor\":\"white\",\"automargin\":true,\"zerolinewidth\":2},\"scene\":{\"xaxis\":{\"backgroundcolor\":\"#E5ECF6\",\"gridcolor\":\"white\",\"linecolor\":\"white\",\"showbackground\":true,\"ticks\":\"\",\"zerolinecolor\":\"white\",\"gridwidth\":2},\"yaxis\":{\"backgroundcolor\":\"#E5ECF6\",\"gridcolor\":\"white\",\"linecolor\":\"white\",\"showbackground\":true,\"ticks\":\"\",\"zerolinecolor\":\"white\",\"gridwidth\":2},\"zaxis\":{\"backgroundcolor\":\"#E5ECF6\",\"gridcolor\":\"white\",\"linecolor\":\"white\",\"showbackground\":true,\"ticks\":\"\",\"zerolinecolor\":\"white\",\"gridwidth\":2}},\"shapedefaults\":{\"line\":{\"color\":\"#2a3f5f\"}},\"annotationdefaults\":{\"arrowcolor\":\"#2a3f5f\",\"arrowhead\":0,\"arrowwidth\":1},\"geo\":{\"bgcolor\":\"white\",\"landcolor\":\"#E5ECF6\",\"subunitcolor\":\"white\",\"showland\":true,\"showlakes\":true,\"lakecolor\":\"white\"},\"title\":{\"x\":0.05},\"mapbox\":{\"style\":\"light\"}}},\"xaxis\":{\"anchor\":\"y\",\"domain\":[0.0,1.0],\"title\":{\"text\":\"PC\"}},\"yaxis\":{\"anchor\":\"x\",\"domain\":[0.0,1.0],\"title\":{\"text\":\"explained_variance\"}},\"legend\":{\"tracegroupgap\":0},\"margin\":{\"t\":60},\"barmode\":\"relative\",\"height\":400,\"width\":800},                        {\"responsive\": true}                    ).then(function(){\n",
       "                            \n",
       "var gd = document.getElementById('98cc5eb0-385f-48e4-be5a-4d58fd6f3366');\n",
       "var x = new MutationObserver(function (mutations, observer) {{\n",
       "        var display = window.getComputedStyle(gd).display;\n",
       "        if (!display || display === 'none') {{\n",
       "            console.log([gd, 'removed!']);\n",
       "            Plotly.purge(gd);\n",
       "            observer.disconnect();\n",
       "        }}\n",
       "}});\n",
       "\n",
       "// Listen for the removal of the full notebook cells\n",
       "var notebookContainer = gd.closest('#notebook-container');\n",
       "if (notebookContainer) {{\n",
       "    x.observe(notebookContainer, {childList: true});\n",
       "}}\n",
       "\n",
       "// Listen for the clearing of the current output cell\n",
       "var outputEl = gd.closest('.output');\n",
       "if (outputEl) {{\n",
       "    x.observe(outputEl, {childList: true});\n",
       "}}\n",
       "\n",
       "                        })                };                });            </script>        </div>"
      ]
     },
     "metadata": {},
     "output_type": "display_data"
    },
    {
     "data": {
      "application/vnd.plotly.v1+json": {
       "config": {
        "plotlyServerURL": "https://plot.ly"
       },
       "data": [
        {
         "customdata": [
          [
           "Tiefora",
           "resistant"
          ],
          [
           "Tiefora",
           "resistant"
          ],
          [
           "Tiefora",
           "resistant"
          ],
          [
           "Ban",
           "resistant"
          ],
          [
           "Ban",
           "resistant"
          ],
          [
           "Ban",
           "resistant"
          ],
          [
           "Ban",
           "resistant"
          ],
          [
           "VK7",
           "resistant"
          ],
          [
           "VK7",
           "resistant"
          ],
          [
           "VK7",
           "resistant"
          ],
          [
           "VK7",
           "resistant"
          ],
          [
           "BanRe",
           "resistant"
          ],
          [
           "BanRe",
           "resistant"
          ],
          [
           "BanRe",
           "resistant"
          ],
          [
           "BanRe",
           "resistant"
          ],
          [
           "Chad",
           "resistant"
          ],
          [
           "Chad",
           "resistant"
          ],
          [
           "Chad",
           "resistant"
          ],
          [
           "Chad",
           "resistant"
          ],
          [
           "Chad",
           "resistant"
          ],
          [
           "Chad",
           "resistant"
          ],
          [
           "Nigeria",
           "resistant"
          ],
          [
           "Nigeria",
           "resistant"
          ],
          [
           "Nigeria",
           "resistant"
          ],
          [
           "Nigeria",
           "resistant"
          ],
          [
           "Nigeria",
           "resistant"
          ],
          [
           "Nigeria",
           "resistant"
          ],
          [
           "Cameroon",
           "resistant"
          ],
          [
           "Cameroon",
           "resistant"
          ],
          [
           "Cameroon",
           "resistant"
          ],
          [
           "Cameroon",
           "resistant"
          ],
          [
           "Cameroon",
           "resistant"
          ],
          [
           "Niger",
           "resistant"
          ],
          [
           "Niger",
           "resistant"
          ],
          [
           "Niger",
           "resistant"
          ],
          [
           "Niger",
           "resistant"
          ],
          [
           "Niger",
           "resistant"
          ],
          [
           "Niger",
           "resistant"
          ],
          [
           "Ngousso",
           "susceptible"
          ],
          [
           "Ngousso",
           "susceptible"
          ],
          [
           "Ngousso",
           "susceptible"
          ],
          [
           "BanS",
           "susceptible"
          ],
          [
           "BanS",
           "susceptible"
          ],
          [
           "BanS",
           "susceptible"
          ],
          [
           "BanS",
           "susceptible"
          ],
          [
           "Ngousso",
           "susceptible"
          ],
          [
           "Ngousso",
           "susceptible"
          ],
          [
           "Ngousso",
           "susceptible"
          ],
          [
           "Ngousso",
           "susceptible"
          ],
          [
           "Ngousso",
           "susceptible"
          ],
          [
           "Ngousso",
           "susceptible"
          ],
          [
           "Agboville",
           "resistant"
          ],
          [
           "Agboville",
           "resistant"
          ],
          [
           "Agboville",
           "resistant"
          ],
          [
           "Agboville",
           "resistant"
          ],
          [
           "Agboville",
           "resistant"
          ],
          [
           "Agboville",
           "resistant"
          ],
          [
           "Agboville",
           "resistant"
          ],
          [
           "Agboville",
           "resistant"
          ],
          [
           "Agboville",
           "resistant"
          ],
          [
           "Dabou",
           "resistant"
          ],
          [
           "Dabou",
           "resistant"
          ],
          [
           "Dabou",
           "resistant"
          ],
          [
           "Dabou",
           "resistant"
          ],
          [
           "Dabou",
           "resistant"
          ],
          [
           "Dabou",
           "resistant"
          ],
          [
           "Dabou",
           "resistant"
          ],
          [
           "Dabou",
           "resistant"
          ],
          [
           "Dabou",
           "resistant"
          ],
          [
           "Dabou",
           "resistant"
          ],
          [
           "Tiassale",
           "resistant"
          ],
          [
           "Tiassale",
           "resistant"
          ],
          [
           "Tiassale",
           "resistant"
          ],
          [
           "Tiassale",
           "resistant"
          ],
          [
           "Tiassale",
           "resistant"
          ],
          [
           "Tiassale",
           "resistant"
          ],
          [
           "Tiassale",
           "resistant"
          ],
          [
           "Tiassale",
           "resistant"
          ],
          [
           "Tiassale",
           "resistant"
          ],
          [
           "Tiassale",
           "resistant"
          ],
          [
           "Ngousso",
           "susceptible"
          ],
          [
           "Ngousso",
           "susceptible"
          ],
          [
           "Ngousso",
           "susceptible"
          ],
          [
           "Ngousso",
           "susceptible"
          ],
          [
           "Ngousso",
           "susceptible"
          ],
          [
           "Mali",
           "susceptible"
          ],
          [
           "Mali",
           "susceptible"
          ],
          [
           "Mali",
           "susceptible"
          ],
          [
           "Mali",
           "susceptible"
          ],
          [
           "Mali",
           "susceptible"
          ],
          [
           "Bouake_colu_unexp",
           "resistant"
          ],
          [
           "Bouake_colu_unexp",
           "resistant"
          ],
          [
           "Bouake_colu_unexp",
           "resistant"
          ],
          [
           "Bouake_colu_unexp",
           "resistant"
          ],
          [
           "Ngousso",
           "susceptible"
          ],
          [
           "Ngousso",
           "susceptible"
          ],
          [
           "Ngousso",
           "susceptible"
          ],
          [
           "Ngousso",
           "susceptible"
          ]
         ],
         "hovertemplate": "species=coluzzii<br>PC3=%{x}<br>PC4=%{y}<br>condition=%{customdata[0]}<br>resistance=%{customdata[1]}<extra></extra>",
         "legendgroup": "coluzzii",
         "marker": {
          "color": "#1F77B4",
          "symbol": "circle"
         },
         "mode": "markers",
         "name": "coluzzii",
         "orientation": "v",
         "showlegend": true,
         "type": "scatter",
         "x": [
          -4.466644929161032,
          -3.200697521498981,
          -6.576344087849353,
          0.35789626683468445,
          -8.89176049039651,
          -9.839380473554597,
          -8.129920835157755,
          -9.621036332883643,
          -9.977633788079867,
          -13.226919207100579,
          -10.173657061031506,
          8.342686572173527,
          5.517919240987353,
          8.227906835052622,
          7.3946340335444996,
          3.4813914617293644,
          0.47365325998806357,
          1.916701693786812,
          7.239860066822755,
          1.3407396927850936,
          6.130673342839516,
          9.439605576030926,
          8.255153527765405,
          4.3871917189008585,
          6.539744056383863,
          8.289530707047858,
          6.345685394425756,
          -4.944674567164716,
          -5.565176898776398,
          -10.034270269643233,
          -9.100430971273706,
          -11.443579116532508,
          10.90293719734816,
          9.261903970716501,
          10.043887804914304,
          -2.2382487986875055,
          3.5571398421393114,
          6.38303119413719,
          2.042131494626501,
          2.940892269801163,
          1.001972938073937,
          -7.406425084492621,
          -6.30299341275987,
          -5.935849774377061,
          -2.240436225441434,
          8.880198730985413,
          9.73744393551095,
          7.70682656509931,
          -9.682062703361977,
          -6.642203713359217,
          -8.70990995136946,
          -23.062807502722936,
          -35.95604488001838,
          -39.589039418721,
          -25.730666999659025,
          -30.897661495042108,
          -23.919097271898544,
          -32.49411685756877,
          -34.2181350271316,
          -32.14289172552261,
          -33.361650813992426,
          -38.782489218507564,
          -38.41386182653181,
          -24.166498219351457,
          -25.894608903741492,
          -39.353034274601484,
          -35.385760400990705,
          -34.52434294486876,
          -39.51046963172795,
          -31.491169778446753,
          -26.854945882069064,
          -34.31733462837555,
          -47.02420828891068,
          -41.125056235501354,
          -31.314850147525927,
          -53.20535760378087,
          -32.56459894251893,
          -33.5205849565032,
          -34.88993172998992,
          -32.21924264421657,
          -20.293837817596675,
          -21.391460068940283,
          -23.4028734117881,
          -13.302338560744168,
          -11.851005840161758,
          -22.471341409400967,
          -24.522787380253927,
          -28.495458877254528,
          -27.604732376188167,
          -23.54204639497119,
          -2.759713241817771,
          0.2020494929848905,
          -2.388530884698408,
          -4.980300828055091,
          4.376649720834809,
          -0.12449728625968623,
          1.486271922108341,
          1.198655036654294
         ],
         "xaxis": "x",
         "y": [
          6.574079620589295,
          11.272813588134596,
          8.04554924656098,
          -14.111370920613266,
          -16.214656750945917,
          -13.194263426173718,
          -13.323445925862012,
          2.0012848744741865,
          0.38092879583207756,
          -8.465634476170898,
          4.163340284653029,
          4.2001668979484705,
          1.1556125937265478,
          6.683446068416974,
          4.178193394571049,
          -39.4024042103356,
          -49.88225503817327,
          -39.357478193099354,
          -22.10135787212932,
          -18.244937384241858,
          -14.718267138476174,
          -50.11644399811099,
          -39.164392172316205,
          -35.53737592819413,
          -38.65601633602164,
          -45.75100050538548,
          -44.08692427204167,
          -24.738858199778356,
          -35.81830525967925,
          -17.635380255827553,
          -20.860025094312785,
          -29.298949507673477,
          -38.16383204179399,
          -45.82720482589523,
          -49.32687487526982,
          -50.693236163370266,
          -42.68438078876911,
          -41.47985189162185,
          17.441837355381683,
          19.04701376973218,
          21.296493146227796,
          -8.06387876228088,
          -2.8272264001587977,
          1.547559211374758,
          -8.16031273785694,
          20.39240401382634,
          22.760237350069435,
          24.516547606640476,
          -36.80379777139879,
          -27.220172614788563,
          -27.355244532687404,
          14.915058944780874,
          1.5537577346730238,
          6.217956936074971,
          29.340125382644658,
          22.03826594799999,
          16.521054947171915,
          16.399217702612642,
          19.556016550131172,
          28.74689184687995,
          16.231516099677474,
          3.63350839696627,
          7.464270190767814,
          8.498450398735724,
          -0.8220672600873606,
          16.28761072046024,
          8.430515896570032,
          12.622183856192178,
          -7.148188710693258,
          5.111629860872417,
          9.175081582749254,
          5.21860250028078,
          12.969395851969505,
          10.66561610353446,
          16.994760255571453,
          -10.870440302443052,
          8.209977477730952,
          12.64458233253186,
          17.050499866587252,
          20.142967306773382,
          45.190239845524346,
          46.35503611222523,
          34.78224269781277,
          47.195073340146564,
          46.95216366284554,
          21.182486331543416,
          14.104985037500086,
          19.179399479473304,
          19.42496355159772,
          14.35822483390291,
          2.313744363227969,
          2.256925356420708,
          0.027620579680984667,
          -6.88266803601176,
          12.542621910196301,
          9.680270903239915,
          5.930051306989801,
          12.360458186521514
         ],
         "yaxis": "y"
        },
        {
         "customdata": [
          [
           "Bak",
           "resistant"
          ],
          [
           "Bak",
           "resistant"
          ],
          [
           "Bak",
           "resistant"
          ],
          [
           "Bak",
           "resistant"
          ],
          [
           "Kisumu",
           "susceptible"
          ],
          [
           "Kisumu",
           "susceptible"
          ],
          [
           "Kisumu",
           "susceptible"
          ],
          [
           "Kisumu",
           "susceptible"
          ],
          [
           "Kisumu",
           "susceptible"
          ],
          [
           "Kisumu",
           "susceptible"
          ],
          [
           "Kisumu",
           "susceptible"
          ],
          [
           "Kisumu",
           "susceptible"
          ],
          [
           "Bouake_gamb_unexp",
           "resistant"
          ],
          [
           "Bouake_gamb_unexp",
           "resistant"
          ],
          [
           "Bouake_gamb_unexp",
           "resistant"
          ],
          [
           "Bouake_gamb_unexp",
           "resistant"
          ],
          [
           "BusiaSurvivors",
           "resistant"
          ],
          [
           "BusiaSurvivors",
           "resistant"
          ],
          [
           "BusiaSurvivors",
           "resistant"
          ],
          [
           "BusiaSurvivors",
           "resistant"
          ],
          [
           "BusiaSurvivors",
           "resistant"
          ],
          [
           "BusiaSurvivors",
           "resistant"
          ],
          [
           "Kisumu",
           "susceptible"
          ],
          [
           "Kisumu",
           "susceptible"
          ],
          [
           "Kisumu",
           "susceptible"
          ],
          [
           "Kisumu",
           "susceptible"
          ]
         ],
         "hovertemplate": "species=gambiae<br>PC3=%{x}<br>PC4=%{y}<br>condition=%{customdata[0]}<br>resistance=%{customdata[1]}<extra></extra>",
         "legendgroup": "gambiae",
         "marker": {
          "color": "#FF7F0E",
          "symbol": "circle"
         },
         "mode": "markers",
         "name": "gambiae",
         "orientation": "v",
         "showlegend": true,
         "type": "scatter",
         "x": [
          -10.346962759016996,
          -10.680435920041809,
          -12.616590232247042,
          -12.864550505648706,
          -5.239848564615755,
          -7.32536209122981,
          -7.326718498310439,
          -7.152857624425535,
          5.00770150592774,
          5.774744406360451,
          4.978270909148057,
          7.146959852300559,
          -4.87500537613462,
          -1.647853273331598,
          3.214405404474808,
          -1.8618895804401046,
          4.9622735161368094,
          4.482059047354961,
          9.08386382314323,
          7.841695481657227,
          5.977545745426158,
          4.126677573360667,
          -4.902209481107288,
          -6.103600397515037,
          -5.869547561873328,
          -6.245529348685755
         ],
         "xaxis": "x",
         "y": [
          -7.668802567617568,
          -3.2496278572944397,
          -3.838388508209205,
          -1.6351727263680573,
          -0.38179958582481155,
          0.4221888840319225,
          -0.48992847505433956,
          1.5401599829501738,
          4.142467990259106,
          5.432694310956953,
          5.773881349873139,
          1.540329259230643,
          -1.3583243712176711,
          3.046544648906571,
          -0.525964590971803,
          -5.067604934402985,
          3.0664332862423413,
          8.217021624151313,
          5.810462009421461,
          6.148845565528643,
          14.820308802635628,
          10.289636366540215,
          -21.60274828395423,
          -24.41187406617656,
          -22.739139496613145,
          -21.354624344610478
         ],
         "yaxis": "y"
        },
        {
         "customdata": [
          [
           "Asendabo",
           "resistant"
          ],
          [
           "Asendabo",
           "resistant"
          ],
          [
           "Asendabo",
           "resistant"
          ],
          [
           "Asendabo",
           "resistant"
          ],
          [
           "Chewaka",
           "resistant"
          ],
          [
           "Chewaka",
           "resistant"
          ],
          [
           "Chewaka",
           "resistant"
          ],
          [
           "Chewaka",
           "resistant"
          ],
          [
           "Moz",
           "susceptible"
          ],
          [
           "Moz",
           "susceptible"
          ],
          [
           "Moz",
           "susceptible"
          ],
          [
           "Moz",
           "susceptible"
          ],
          [
           "Tolay",
           "resistant"
          ],
          [
           "Tolay",
           "resistant"
          ],
          [
           "Tolay",
           "resistant"
          ],
          [
           "Tolay",
           "resistant"
          ],
          [
           "Dongola",
           "susceptible"
          ],
          [
           "Dongola",
           "susceptible"
          ],
          [
           "Dongola",
           "susceptible"
          ],
          [
           "Ethiopia",
           "resistant"
          ],
          [
           "Ethiopia",
           "resistant"
          ],
          [
           "Ethiopia",
           "resistant"
          ],
          [
           "Gou",
           "resistant"
          ],
          [
           "Gou",
           "resistant"
          ],
          [
           "Gou",
           "resistant"
          ],
          [
           "Moz",
           "susceptible"
          ],
          [
           "Moz",
           "susceptible"
          ],
          [
           "Moz",
           "susceptible"
          ]
         ],
         "hovertemplate": "species=arabiensis<br>PC3=%{x}<br>PC4=%{y}<br>condition=%{customdata[0]}<br>resistance=%{customdata[1]}<extra></extra>",
         "legendgroup": "arabiensis",
         "marker": {
          "color": "#2CA02C",
          "symbol": "circle"
         },
         "mode": "markers",
         "name": "arabiensis",
         "orientation": "v",
         "showlegend": true,
         "type": "scatter",
         "x": [
          87.21213473430124,
          89.02690021281171,
          90.08367145720653,
          87.85993698150705,
          82.27948754666629,
          82.17438798062898,
          79.37507677095053,
          79.8206598793712,
          75.12388798426663,
          74.82951359112064,
          74.66636366640486,
          73.85918317037887,
          84.20536882318449,
          88.03580875495895,
          87.71202877268716,
          84.9439930281295,
          71.50939357729473,
          66.01913805108364,
          70.00651949367717,
          75.99333548233376,
          73.71568900127855,
          80.18004454725744,
          3.1141963484394912,
          3.7520670512268266,
          -0.050113458487923035,
          0.8806384605951632,
          2.6997343017870974,
          5.422053631493442
         ],
         "xaxis": "x",
         "y": [
          -4.479934481887678,
          -11.489768837035566,
          -7.743887938196617,
          -4.998499092246732,
          2.7780171909972964,
          3.6230034966053903,
          -9.306410553596532,
          8.952868547520701,
          5.397175211697101,
          11.691923528565761,
          -1.4409971004263844,
          6.8761539623100525,
          -32.2022449328303,
          -14.707684355238051,
          -9.46058749643107,
          -7.098791777396202,
          48.090382534453354,
          49.225308612861475,
          58.57518780045677,
          39.868948853587355,
          44.87594830212913,
          38.8191933867833,
          1.9506827741396995,
          3.266773899507197,
          -2.903769848449596,
          13.80376897639088,
          22.683646655605326,
          15.749251636338792
         ],
         "yaxis": "y"
        },
        {
         "customdata": [
          [
           "Cam_fun",
           "resistant"
          ],
          [
           "Cam_fun",
           "resistant"
          ],
          [
           "Cam_fun",
           "resistant"
          ],
          [
           "Cam_fun",
           "resistant"
          ],
          [
           "Cam_fun",
           "resistant"
          ],
          [
           "Cam_fun",
           "resistant"
          ],
          [
           "Cam_fun",
           "resistant"
          ],
          [
           "Cam_fun",
           "resistant"
          ],
          [
           "Cam_fun",
           "resistant"
          ],
          [
           "Fang",
           "susceptible"
          ],
          [
           "Fang",
           "susceptible"
          ],
          [
           "Fang",
           "susceptible"
          ],
          [
           "Fumoz",
           "resistant"
          ],
          [
           "Fumoz",
           "resistant"
          ],
          [
           "Fumoz",
           "resistant"
          ],
          [
           "Fumoz",
           "resistant"
          ],
          [
           "Fumoz",
           "resistant"
          ],
          [
           "Ghana_fun",
           "resistant"
          ],
          [
           "Ghana_fun",
           "resistant"
          ],
          [
           "Ghana_fun",
           "resistant"
          ],
          [
           "Ghana_fun",
           "resistant"
          ],
          [
           "Ghana_fun",
           "resistant"
          ],
          [
           "Ghana_fun",
           "resistant"
          ],
          [
           "Ghana_fun",
           "resistant"
          ],
          [
           "Ghana_fun",
           "resistant"
          ],
          [
           "Ghana_fun",
           "resistant"
          ],
          [
           "Ghana_fun",
           "resistant"
          ],
          [
           "Malawi_fun",
           "resistant"
          ],
          [
           "Malawi_fun",
           "resistant"
          ],
          [
           "Malawi_fun",
           "resistant"
          ],
          [
           "Malawi_fun",
           "resistant"
          ],
          [
           "Malawi_fun",
           "resistant"
          ],
          [
           "Malawi_fun",
           "resistant"
          ],
          [
           "Malawi_fun",
           "resistant"
          ],
          [
           "Malawi_fun",
           "resistant"
          ],
          [
           "Malawi_fun",
           "resistant"
          ],
          [
           "Malawi_fun",
           "resistant"
          ],
          [
           "Uganda_fun",
           "resistant"
          ],
          [
           "Uganda_fun",
           "resistant"
          ],
          [
           "Uganda_fun",
           "resistant"
          ],
          [
           "Uganda_fun",
           "resistant"
          ],
          [
           "Uganda_fun",
           "resistant"
          ],
          [
           "Uganda_fun",
           "resistant"
          ],
          [
           "Uganda_fun",
           "resistant"
          ],
          [
           "Uganda_fun",
           "resistant"
          ],
          [
           "Uganda_fun",
           "resistant"
          ]
         ],
         "hovertemplate": "species=funestus<br>PC3=%{x}<br>PC4=%{y}<br>condition=%{customdata[0]}<br>resistance=%{customdata[1]}<extra></extra>",
         "legendgroup": "funestus",
         "marker": {
          "color": "#D62728",
          "symbol": "circle"
         },
         "mode": "markers",
         "name": "funestus",
         "orientation": "v",
         "showlegend": true,
         "type": "scatter",
         "x": [
          -6.212329511350056,
          -10.746973005622678,
          -8.842655403264722,
          -11.587695110284649,
          -7.651737687197111,
          -7.420648276548604,
          -8.373505759472165,
          -12.664262716778413,
          -10.91770097589294,
          -9.27199772193011,
          -4.84855680966605,
          -12.120758477885587,
          -4.294935243650461,
          -11.633838285024067,
          -11.039272665376828,
          -9.172542375174919,
          -13.269272166744097,
          -9.487648724198044,
          -20.532478106961175,
          -14.241205120144395,
          -12.149505457632246,
          -7.994725670517635,
          -9.9866223397019,
          -9.001255001854735,
          -9.749300511202748,
          -6.72027248965456,
          -12.116687660159746,
          -11.930176310855478,
          -6.224796063244868,
          -8.432584719891546,
          -21.87187276477147,
          -20.463782705314834,
          -6.83652209198863,
          -8.73704381227465,
          -13.587779483646353,
          -16.523569371527845,
          -11.969305597430537,
          -16.65419416024843,
          -14.11785907863169,
          -16.239891863848424,
          -14.985110478813473,
          -5.786403258490335,
          -15.585811752567965,
          -12.152981889144932,
          -10.28660151852389,
          -13.544992418627158
         ],
         "xaxis": "x",
         "y": [
          11.585459160600038,
          -0.09353182113196234,
          -1.8228254290503065,
          5.444196253969167,
          7.636010979614709,
          4.4131517487457055,
          0.6559012749272386,
          3.416197046895615,
          2.651010368728951,
          -16.533948177985827,
          2.5338200796754555,
          -8.413330317093044,
          -12.882283828946749,
          1.6791040297691557,
          6.600181361859483,
          9.658664078504216,
          -4.246089847300289,
          0.14365161971108423,
          -36.451825264481066,
          -9.991671144921163,
          -1.6735415379375442,
          1.8310550879518244,
          5.3926168948434325,
          11.075923821848841,
          -3.5606369462614693,
          -9.00654334422541,
          -7.517481319943324,
          4.3652799718764275,
          10.907781820244795,
          -0.09610081565095824,
          -36.22433162336304,
          -38.12148385176954,
          4.997756882593821,
          1.3882923891815515,
          8.52292415410052,
          -4.642687730102976,
          6.30328700717389,
          10.468677461198919,
          10.696715389021556,
          0.29191860306742945,
          12.951771901800296,
          -13.597243024269753,
          14.368618861524979,
          -10.628598705527546,
          -3.9332782298529345,
          -7.989577945501388
         ],
         "yaxis": "y"
        }
       ],
       "layout": {
        "height": 600,
        "legend": {
         "title": {
          "text": "species"
         },
         "tracegroupgap": 0
        },
        "margin": {
         "t": 60
        },
        "template": {
         "data": {
          "bar": [
           {
            "error_x": {
             "color": "rgb(36,36,36)"
            },
            "error_y": {
             "color": "rgb(36,36,36)"
            },
            "marker": {
             "line": {
              "color": "white",
              "width": 0.5
             },
             "pattern": {
              "fillmode": "overlay",
              "size": 10,
              "solidity": 0.2
             }
            },
            "type": "bar"
           }
          ],
          "barpolar": [
           {
            "marker": {
             "line": {
              "color": "white",
              "width": 0.5
             },
             "pattern": {
              "fillmode": "overlay",
              "size": 10,
              "solidity": 0.2
             }
            },
            "type": "barpolar"
           }
          ],
          "carpet": [
           {
            "aaxis": {
             "endlinecolor": "rgb(36,36,36)",
             "gridcolor": "white",
             "linecolor": "white",
             "minorgridcolor": "white",
             "startlinecolor": "rgb(36,36,36)"
            },
            "baxis": {
             "endlinecolor": "rgb(36,36,36)",
             "gridcolor": "white",
             "linecolor": "white",
             "minorgridcolor": "white",
             "startlinecolor": "rgb(36,36,36)"
            },
            "type": "carpet"
           }
          ],
          "choropleth": [
           {
            "colorbar": {
             "outlinewidth": 1,
             "tickcolor": "rgb(36,36,36)",
             "ticks": "outside"
            },
            "type": "choropleth"
           }
          ],
          "contour": [
           {
            "colorbar": {
             "outlinewidth": 1,
             "tickcolor": "rgb(36,36,36)",
             "ticks": "outside"
            },
            "colorscale": [
             [
              0,
              "#440154"
             ],
             [
              0.1111111111111111,
              "#482878"
             ],
             [
              0.2222222222222222,
              "#3e4989"
             ],
             [
              0.3333333333333333,
              "#31688e"
             ],
             [
              0.4444444444444444,
              "#26828e"
             ],
             [
              0.5555555555555556,
              "#1f9e89"
             ],
             [
              0.6666666666666666,
              "#35b779"
             ],
             [
              0.7777777777777778,
              "#6ece58"
             ],
             [
              0.8888888888888888,
              "#b5de2b"
             ],
             [
              1,
              "#fde725"
             ]
            ],
            "type": "contour"
           }
          ],
          "contourcarpet": [
           {
            "colorbar": {
             "outlinewidth": 1,
             "tickcolor": "rgb(36,36,36)",
             "ticks": "outside"
            },
            "type": "contourcarpet"
           }
          ],
          "heatmap": [
           {
            "colorbar": {
             "outlinewidth": 1,
             "tickcolor": "rgb(36,36,36)",
             "ticks": "outside"
            },
            "colorscale": [
             [
              0,
              "#440154"
             ],
             [
              0.1111111111111111,
              "#482878"
             ],
             [
              0.2222222222222222,
              "#3e4989"
             ],
             [
              0.3333333333333333,
              "#31688e"
             ],
             [
              0.4444444444444444,
              "#26828e"
             ],
             [
              0.5555555555555556,
              "#1f9e89"
             ],
             [
              0.6666666666666666,
              "#35b779"
             ],
             [
              0.7777777777777778,
              "#6ece58"
             ],
             [
              0.8888888888888888,
              "#b5de2b"
             ],
             [
              1,
              "#fde725"
             ]
            ],
            "type": "heatmap"
           }
          ],
          "heatmapgl": [
           {
            "colorbar": {
             "outlinewidth": 1,
             "tickcolor": "rgb(36,36,36)",
             "ticks": "outside"
            },
            "colorscale": [
             [
              0,
              "#440154"
             ],
             [
              0.1111111111111111,
              "#482878"
             ],
             [
              0.2222222222222222,
              "#3e4989"
             ],
             [
              0.3333333333333333,
              "#31688e"
             ],
             [
              0.4444444444444444,
              "#26828e"
             ],
             [
              0.5555555555555556,
              "#1f9e89"
             ],
             [
              0.6666666666666666,
              "#35b779"
             ],
             [
              0.7777777777777778,
              "#6ece58"
             ],
             [
              0.8888888888888888,
              "#b5de2b"
             ],
             [
              1,
              "#fde725"
             ]
            ],
            "type": "heatmapgl"
           }
          ],
          "histogram": [
           {
            "marker": {
             "line": {
              "color": "white",
              "width": 0.6
             }
            },
            "type": "histogram"
           }
          ],
          "histogram2d": [
           {
            "colorbar": {
             "outlinewidth": 1,
             "tickcolor": "rgb(36,36,36)",
             "ticks": "outside"
            },
            "colorscale": [
             [
              0,
              "#440154"
             ],
             [
              0.1111111111111111,
              "#482878"
             ],
             [
              0.2222222222222222,
              "#3e4989"
             ],
             [
              0.3333333333333333,
              "#31688e"
             ],
             [
              0.4444444444444444,
              "#26828e"
             ],
             [
              0.5555555555555556,
              "#1f9e89"
             ],
             [
              0.6666666666666666,
              "#35b779"
             ],
             [
              0.7777777777777778,
              "#6ece58"
             ],
             [
              0.8888888888888888,
              "#b5de2b"
             ],
             [
              1,
              "#fde725"
             ]
            ],
            "type": "histogram2d"
           }
          ],
          "histogram2dcontour": [
           {
            "colorbar": {
             "outlinewidth": 1,
             "tickcolor": "rgb(36,36,36)",
             "ticks": "outside"
            },
            "colorscale": [
             [
              0,
              "#440154"
             ],
             [
              0.1111111111111111,
              "#482878"
             ],
             [
              0.2222222222222222,
              "#3e4989"
             ],
             [
              0.3333333333333333,
              "#31688e"
             ],
             [
              0.4444444444444444,
              "#26828e"
             ],
             [
              0.5555555555555556,
              "#1f9e89"
             ],
             [
              0.6666666666666666,
              "#35b779"
             ],
             [
              0.7777777777777778,
              "#6ece58"
             ],
             [
              0.8888888888888888,
              "#b5de2b"
             ],
             [
              1,
              "#fde725"
             ]
            ],
            "type": "histogram2dcontour"
           }
          ],
          "mesh3d": [
           {
            "colorbar": {
             "outlinewidth": 1,
             "tickcolor": "rgb(36,36,36)",
             "ticks": "outside"
            },
            "type": "mesh3d"
           }
          ],
          "parcoords": [
           {
            "line": {
             "colorbar": {
              "outlinewidth": 1,
              "tickcolor": "rgb(36,36,36)",
              "ticks": "outside"
             }
            },
            "type": "parcoords"
           }
          ],
          "pie": [
           {
            "automargin": true,
            "type": "pie"
           }
          ],
          "scatter": [
           {
            "fillpattern": {
             "fillmode": "overlay",
             "size": 10,
             "solidity": 0.2
            },
            "type": "scatter"
           }
          ],
          "scatter3d": [
           {
            "line": {
             "colorbar": {
              "outlinewidth": 1,
              "tickcolor": "rgb(36,36,36)",
              "ticks": "outside"
             }
            },
            "marker": {
             "colorbar": {
              "outlinewidth": 1,
              "tickcolor": "rgb(36,36,36)",
              "ticks": "outside"
             }
            },
            "type": "scatter3d"
           }
          ],
          "scattercarpet": [
           {
            "marker": {
             "colorbar": {
              "outlinewidth": 1,
              "tickcolor": "rgb(36,36,36)",
              "ticks": "outside"
             }
            },
            "type": "scattercarpet"
           }
          ],
          "scattergeo": [
           {
            "marker": {
             "colorbar": {
              "outlinewidth": 1,
              "tickcolor": "rgb(36,36,36)",
              "ticks": "outside"
             }
            },
            "type": "scattergeo"
           }
          ],
          "scattergl": [
           {
            "marker": {
             "colorbar": {
              "outlinewidth": 1,
              "tickcolor": "rgb(36,36,36)",
              "ticks": "outside"
             }
            },
            "type": "scattergl"
           }
          ],
          "scattermapbox": [
           {
            "marker": {
             "colorbar": {
              "outlinewidth": 1,
              "tickcolor": "rgb(36,36,36)",
              "ticks": "outside"
             }
            },
            "type": "scattermapbox"
           }
          ],
          "scatterpolar": [
           {
            "marker": {
             "colorbar": {
              "outlinewidth": 1,
              "tickcolor": "rgb(36,36,36)",
              "ticks": "outside"
             }
            },
            "type": "scatterpolar"
           }
          ],
          "scatterpolargl": [
           {
            "marker": {
             "colorbar": {
              "outlinewidth": 1,
              "tickcolor": "rgb(36,36,36)",
              "ticks": "outside"
             }
            },
            "type": "scatterpolargl"
           }
          ],
          "scatterternary": [
           {
            "marker": {
             "colorbar": {
              "outlinewidth": 1,
              "tickcolor": "rgb(36,36,36)",
              "ticks": "outside"
             }
            },
            "type": "scatterternary"
           }
          ],
          "surface": [
           {
            "colorbar": {
             "outlinewidth": 1,
             "tickcolor": "rgb(36,36,36)",
             "ticks": "outside"
            },
            "colorscale": [
             [
              0,
              "#440154"
             ],
             [
              0.1111111111111111,
              "#482878"
             ],
             [
              0.2222222222222222,
              "#3e4989"
             ],
             [
              0.3333333333333333,
              "#31688e"
             ],
             [
              0.4444444444444444,
              "#26828e"
             ],
             [
              0.5555555555555556,
              "#1f9e89"
             ],
             [
              0.6666666666666666,
              "#35b779"
             ],
             [
              0.7777777777777778,
              "#6ece58"
             ],
             [
              0.8888888888888888,
              "#b5de2b"
             ],
             [
              1,
              "#fde725"
             ]
            ],
            "type": "surface"
           }
          ],
          "table": [
           {
            "cells": {
             "fill": {
              "color": "rgb(237,237,237)"
             },
             "line": {
              "color": "white"
             }
            },
            "header": {
             "fill": {
              "color": "rgb(217,217,217)"
             },
             "line": {
              "color": "white"
             }
            },
            "type": "table"
           }
          ]
         },
         "layout": {
          "annotationdefaults": {
           "arrowhead": 0,
           "arrowwidth": 1
          },
          "autotypenumbers": "strict",
          "coloraxis": {
           "colorbar": {
            "outlinewidth": 1,
            "tickcolor": "rgb(36,36,36)",
            "ticks": "outside"
           }
          },
          "colorscale": {
           "diverging": [
            [
             0,
             "rgb(103,0,31)"
            ],
            [
             0.1,
             "rgb(178,24,43)"
            ],
            [
             0.2,
             "rgb(214,96,77)"
            ],
            [
             0.3,
             "rgb(244,165,130)"
            ],
            [
             0.4,
             "rgb(253,219,199)"
            ],
            [
             0.5,
             "rgb(247,247,247)"
            ],
            [
             0.6,
             "rgb(209,229,240)"
            ],
            [
             0.7,
             "rgb(146,197,222)"
            ],
            [
             0.8,
             "rgb(67,147,195)"
            ],
            [
             0.9,
             "rgb(33,102,172)"
            ],
            [
             1,
             "rgb(5,48,97)"
            ]
           ],
           "sequential": [
            [
             0,
             "#440154"
            ],
            [
             0.1111111111111111,
             "#482878"
            ],
            [
             0.2222222222222222,
             "#3e4989"
            ],
            [
             0.3333333333333333,
             "#31688e"
            ],
            [
             0.4444444444444444,
             "#26828e"
            ],
            [
             0.5555555555555556,
             "#1f9e89"
            ],
            [
             0.6666666666666666,
             "#35b779"
            ],
            [
             0.7777777777777778,
             "#6ece58"
            ],
            [
             0.8888888888888888,
             "#b5de2b"
            ],
            [
             1,
             "#fde725"
            ]
           ],
           "sequentialminus": [
            [
             0,
             "#440154"
            ],
            [
             0.1111111111111111,
             "#482878"
            ],
            [
             0.2222222222222222,
             "#3e4989"
            ],
            [
             0.3333333333333333,
             "#31688e"
            ],
            [
             0.4444444444444444,
             "#26828e"
            ],
            [
             0.5555555555555556,
             "#1f9e89"
            ],
            [
             0.6666666666666666,
             "#35b779"
            ],
            [
             0.7777777777777778,
             "#6ece58"
            ],
            [
             0.8888888888888888,
             "#b5de2b"
            ],
            [
             1,
             "#fde725"
            ]
           ]
          },
          "colorway": [
           "#1F77B4",
           "#FF7F0E",
           "#2CA02C",
           "#D62728",
           "#9467BD",
           "#8C564B",
           "#E377C2",
           "#7F7F7F",
           "#BCBD22",
           "#17BECF"
          ],
          "font": {
           "color": "rgb(36,36,36)"
          },
          "geo": {
           "bgcolor": "white",
           "lakecolor": "white",
           "landcolor": "white",
           "showlakes": true,
           "showland": true,
           "subunitcolor": "white"
          },
          "hoverlabel": {
           "align": "left"
          },
          "hovermode": "closest",
          "mapbox": {
           "style": "light"
          },
          "paper_bgcolor": "white",
          "plot_bgcolor": "white",
          "polar": {
           "angularaxis": {
            "gridcolor": "rgb(232,232,232)",
            "linecolor": "rgb(36,36,36)",
            "showgrid": false,
            "showline": true,
            "ticks": "outside"
           },
           "bgcolor": "white",
           "radialaxis": {
            "gridcolor": "rgb(232,232,232)",
            "linecolor": "rgb(36,36,36)",
            "showgrid": false,
            "showline": true,
            "ticks": "outside"
           }
          },
          "scene": {
           "xaxis": {
            "backgroundcolor": "white",
            "gridcolor": "rgb(232,232,232)",
            "gridwidth": 2,
            "linecolor": "rgb(36,36,36)",
            "showbackground": true,
            "showgrid": false,
            "showline": true,
            "ticks": "outside",
            "zeroline": false,
            "zerolinecolor": "rgb(36,36,36)"
           },
           "yaxis": {
            "backgroundcolor": "white",
            "gridcolor": "rgb(232,232,232)",
            "gridwidth": 2,
            "linecolor": "rgb(36,36,36)",
            "showbackground": true,
            "showgrid": false,
            "showline": true,
            "ticks": "outside",
            "zeroline": false,
            "zerolinecolor": "rgb(36,36,36)"
           },
           "zaxis": {
            "backgroundcolor": "white",
            "gridcolor": "rgb(232,232,232)",
            "gridwidth": 2,
            "linecolor": "rgb(36,36,36)",
            "showbackground": true,
            "showgrid": false,
            "showline": true,
            "ticks": "outside",
            "zeroline": false,
            "zerolinecolor": "rgb(36,36,36)"
           }
          },
          "shapedefaults": {
           "fillcolor": "black",
           "line": {
            "width": 0
           },
           "opacity": 0.3
          },
          "ternary": {
           "aaxis": {
            "gridcolor": "rgb(232,232,232)",
            "linecolor": "rgb(36,36,36)",
            "showgrid": false,
            "showline": true,
            "ticks": "outside"
           },
           "baxis": {
            "gridcolor": "rgb(232,232,232)",
            "linecolor": "rgb(36,36,36)",
            "showgrid": false,
            "showline": true,
            "ticks": "outside"
           },
           "bgcolor": "white",
           "caxis": {
            "gridcolor": "rgb(232,232,232)",
            "linecolor": "rgb(36,36,36)",
            "showgrid": false,
            "showline": true,
            "ticks": "outside"
           }
          },
          "title": {
           "x": 0.05
          },
          "xaxis": {
           "automargin": true,
           "gridcolor": "rgb(232,232,232)",
           "linecolor": "rgb(36,36,36)",
           "showgrid": false,
           "showline": true,
           "ticks": "outside",
           "title": {
            "standoff": 15
           },
           "zeroline": false,
           "zerolinecolor": "rgb(36,36,36)"
          },
          "yaxis": {
           "automargin": true,
           "gridcolor": "rgb(232,232,232)",
           "linecolor": "rgb(36,36,36)",
           "showgrid": false,
           "showline": true,
           "ticks": "outside",
           "title": {
            "standoff": 15
           },
           "zeroline": false,
           "zerolinecolor": "rgb(36,36,36)"
          }
         }
        },
        "width": 800,
        "xaxis": {
         "anchor": "y",
         "domain": [
          0,
          1
         ],
         "title": {
          "text": "PC3"
         }
        },
        "yaxis": {
         "anchor": "x",
         "domain": [
          0,
          1
         ],
         "title": {
          "text": "PC4"
         }
        }
       }
      },
      "text/html": [
       "<div>                            <div id=\"b5b6b22f-905e-49d3-8e72-a370eb7bd9c3\" class=\"plotly-graph-div\" style=\"height:600px; width:800px;\"></div>            <script type=\"text/javascript\">                require([\"plotly\"], function(Plotly) {                    window.PLOTLYENV=window.PLOTLYENV || {};                                    if (document.getElementById(\"b5b6b22f-905e-49d3-8e72-a370eb7bd9c3\")) {                    Plotly.newPlot(                        \"b5b6b22f-905e-49d3-8e72-a370eb7bd9c3\",                        [{\"customdata\":[[\"Tiefora\",\"resistant\"],[\"Tiefora\",\"resistant\"],[\"Tiefora\",\"resistant\"],[\"Ban\",\"resistant\"],[\"Ban\",\"resistant\"],[\"Ban\",\"resistant\"],[\"Ban\",\"resistant\"],[\"VK7\",\"resistant\"],[\"VK7\",\"resistant\"],[\"VK7\",\"resistant\"],[\"VK7\",\"resistant\"],[\"BanRe\",\"resistant\"],[\"BanRe\",\"resistant\"],[\"BanRe\",\"resistant\"],[\"BanRe\",\"resistant\"],[\"Chad\",\"resistant\"],[\"Chad\",\"resistant\"],[\"Chad\",\"resistant\"],[\"Chad\",\"resistant\"],[\"Chad\",\"resistant\"],[\"Chad\",\"resistant\"],[\"Nigeria\",\"resistant\"],[\"Nigeria\",\"resistant\"],[\"Nigeria\",\"resistant\"],[\"Nigeria\",\"resistant\"],[\"Nigeria\",\"resistant\"],[\"Nigeria\",\"resistant\"],[\"Cameroon\",\"resistant\"],[\"Cameroon\",\"resistant\"],[\"Cameroon\",\"resistant\"],[\"Cameroon\",\"resistant\"],[\"Cameroon\",\"resistant\"],[\"Niger\",\"resistant\"],[\"Niger\",\"resistant\"],[\"Niger\",\"resistant\"],[\"Niger\",\"resistant\"],[\"Niger\",\"resistant\"],[\"Niger\",\"resistant\"],[\"Ngousso\",\"susceptible\"],[\"Ngousso\",\"susceptible\"],[\"Ngousso\",\"susceptible\"],[\"BanS\",\"susceptible\"],[\"BanS\",\"susceptible\"],[\"BanS\",\"susceptible\"],[\"BanS\",\"susceptible\"],[\"Ngousso\",\"susceptible\"],[\"Ngousso\",\"susceptible\"],[\"Ngousso\",\"susceptible\"],[\"Ngousso\",\"susceptible\"],[\"Ngousso\",\"susceptible\"],[\"Ngousso\",\"susceptible\"],[\"Agboville\",\"resistant\"],[\"Agboville\",\"resistant\"],[\"Agboville\",\"resistant\"],[\"Agboville\",\"resistant\"],[\"Agboville\",\"resistant\"],[\"Agboville\",\"resistant\"],[\"Agboville\",\"resistant\"],[\"Agboville\",\"resistant\"],[\"Agboville\",\"resistant\"],[\"Dabou\",\"resistant\"],[\"Dabou\",\"resistant\"],[\"Dabou\",\"resistant\"],[\"Dabou\",\"resistant\"],[\"Dabou\",\"resistant\"],[\"Dabou\",\"resistant\"],[\"Dabou\",\"resistant\"],[\"Dabou\",\"resistant\"],[\"Dabou\",\"resistant\"],[\"Dabou\",\"resistant\"],[\"Tiassale\",\"resistant\"],[\"Tiassale\",\"resistant\"],[\"Tiassale\",\"resistant\"],[\"Tiassale\",\"resistant\"],[\"Tiassale\",\"resistant\"],[\"Tiassale\",\"resistant\"],[\"Tiassale\",\"resistant\"],[\"Tiassale\",\"resistant\"],[\"Tiassale\",\"resistant\"],[\"Tiassale\",\"resistant\"],[\"Ngousso\",\"susceptible\"],[\"Ngousso\",\"susceptible\"],[\"Ngousso\",\"susceptible\"],[\"Ngousso\",\"susceptible\"],[\"Ngousso\",\"susceptible\"],[\"Mali\",\"susceptible\"],[\"Mali\",\"susceptible\"],[\"Mali\",\"susceptible\"],[\"Mali\",\"susceptible\"],[\"Mali\",\"susceptible\"],[\"Bouake_colu_unexp\",\"resistant\"],[\"Bouake_colu_unexp\",\"resistant\"],[\"Bouake_colu_unexp\",\"resistant\"],[\"Bouake_colu_unexp\",\"resistant\"],[\"Ngousso\",\"susceptible\"],[\"Ngousso\",\"susceptible\"],[\"Ngousso\",\"susceptible\"],[\"Ngousso\",\"susceptible\"]],\"hovertemplate\":\"species=coluzzii<br>PC3=%{x}<br>PC4=%{y}<br>condition=%{customdata[0]}<br>resistance=%{customdata[1]}<extra></extra>\",\"legendgroup\":\"coluzzii\",\"marker\":{\"color\":\"#1F77B4\",\"symbol\":\"circle\"},\"mode\":\"markers\",\"name\":\"coluzzii\",\"orientation\":\"v\",\"showlegend\":true,\"x\":[-4.466644929161032,-3.200697521498981,-6.576344087849353,0.35789626683468445,-8.89176049039651,-9.839380473554597,-8.129920835157755,-9.621036332883643,-9.977633788079867,-13.226919207100579,-10.173657061031506,8.342686572173527,5.517919240987353,8.227906835052622,7.3946340335444996,3.4813914617293644,0.47365325998806357,1.916701693786812,7.239860066822755,1.3407396927850936,6.130673342839516,9.439605576030926,8.255153527765405,4.3871917189008585,6.539744056383863,8.289530707047858,6.345685394425756,-4.944674567164716,-5.565176898776398,-10.034270269643233,-9.100430971273706,-11.443579116532508,10.90293719734816,9.261903970716501,10.043887804914304,-2.2382487986875055,3.5571398421393114,6.38303119413719,2.042131494626501,2.940892269801163,1.001972938073937,-7.406425084492621,-6.30299341275987,-5.935849774377061,-2.240436225441434,8.880198730985413,9.73744393551095,7.70682656509931,-9.682062703361977,-6.642203713359217,-8.70990995136946,-23.062807502722936,-35.95604488001838,-39.589039418721,-25.730666999659025,-30.897661495042108,-23.919097271898544,-32.49411685756877,-34.2181350271316,-32.14289172552261,-33.361650813992426,-38.782489218507564,-38.41386182653181,-24.166498219351457,-25.894608903741492,-39.353034274601484,-35.385760400990705,-34.52434294486876,-39.51046963172795,-31.491169778446753,-26.854945882069064,-34.31733462837555,-47.02420828891068,-41.125056235501354,-31.314850147525927,-53.20535760378087,-32.56459894251893,-33.5205849565032,-34.88993172998992,-32.21924264421657,-20.293837817596675,-21.391460068940283,-23.4028734117881,-13.302338560744168,-11.851005840161758,-22.471341409400967,-24.522787380253927,-28.495458877254528,-27.604732376188167,-23.54204639497119,-2.759713241817771,0.2020494929848905,-2.388530884698408,-4.980300828055091,4.376649720834809,-0.12449728625968623,1.486271922108341,1.198655036654294],\"xaxis\":\"x\",\"y\":[6.574079620589295,11.272813588134596,8.04554924656098,-14.111370920613266,-16.214656750945917,-13.194263426173718,-13.323445925862012,2.0012848744741865,0.38092879583207756,-8.465634476170898,4.163340284653029,4.2001668979484705,1.1556125937265478,6.683446068416974,4.178193394571049,-39.4024042103356,-49.88225503817327,-39.357478193099354,-22.10135787212932,-18.244937384241858,-14.718267138476174,-50.11644399811099,-39.164392172316205,-35.53737592819413,-38.65601633602164,-45.75100050538548,-44.08692427204167,-24.738858199778356,-35.81830525967925,-17.635380255827553,-20.860025094312785,-29.298949507673477,-38.16383204179399,-45.82720482589523,-49.32687487526982,-50.693236163370266,-42.68438078876911,-41.47985189162185,17.441837355381683,19.04701376973218,21.296493146227796,-8.06387876228088,-2.8272264001587977,1.547559211374758,-8.16031273785694,20.39240401382634,22.760237350069435,24.516547606640476,-36.80379777139879,-27.220172614788563,-27.355244532687404,14.915058944780874,1.5537577346730238,6.217956936074971,29.340125382644658,22.03826594799999,16.521054947171915,16.399217702612642,19.556016550131172,28.74689184687995,16.231516099677474,3.63350839696627,7.464270190767814,8.498450398735724,-0.8220672600873606,16.28761072046024,8.430515896570032,12.622183856192178,-7.148188710693258,5.111629860872417,9.175081582749254,5.21860250028078,12.969395851969505,10.66561610353446,16.994760255571453,-10.870440302443052,8.209977477730952,12.64458233253186,17.050499866587252,20.142967306773382,45.190239845524346,46.35503611222523,34.78224269781277,47.195073340146564,46.95216366284554,21.182486331543416,14.104985037500086,19.179399479473304,19.42496355159772,14.35822483390291,2.313744363227969,2.256925356420708,0.027620579680984667,-6.88266803601176,12.542621910196301,9.680270903239915,5.930051306989801,12.360458186521514],\"yaxis\":\"y\",\"type\":\"scatter\"},{\"customdata\":[[\"Bak\",\"resistant\"],[\"Bak\",\"resistant\"],[\"Bak\",\"resistant\"],[\"Bak\",\"resistant\"],[\"Kisumu\",\"susceptible\"],[\"Kisumu\",\"susceptible\"],[\"Kisumu\",\"susceptible\"],[\"Kisumu\",\"susceptible\"],[\"Kisumu\",\"susceptible\"],[\"Kisumu\",\"susceptible\"],[\"Kisumu\",\"susceptible\"],[\"Kisumu\",\"susceptible\"],[\"Bouake_gamb_unexp\",\"resistant\"],[\"Bouake_gamb_unexp\",\"resistant\"],[\"Bouake_gamb_unexp\",\"resistant\"],[\"Bouake_gamb_unexp\",\"resistant\"],[\"BusiaSurvivors\",\"resistant\"],[\"BusiaSurvivors\",\"resistant\"],[\"BusiaSurvivors\",\"resistant\"],[\"BusiaSurvivors\",\"resistant\"],[\"BusiaSurvivors\",\"resistant\"],[\"BusiaSurvivors\",\"resistant\"],[\"Kisumu\",\"susceptible\"],[\"Kisumu\",\"susceptible\"],[\"Kisumu\",\"susceptible\"],[\"Kisumu\",\"susceptible\"]],\"hovertemplate\":\"species=gambiae<br>PC3=%{x}<br>PC4=%{y}<br>condition=%{customdata[0]}<br>resistance=%{customdata[1]}<extra></extra>\",\"legendgroup\":\"gambiae\",\"marker\":{\"color\":\"#FF7F0E\",\"symbol\":\"circle\"},\"mode\":\"markers\",\"name\":\"gambiae\",\"orientation\":\"v\",\"showlegend\":true,\"x\":[-10.346962759016996,-10.680435920041809,-12.616590232247042,-12.864550505648706,-5.239848564615755,-7.32536209122981,-7.326718498310439,-7.152857624425535,5.00770150592774,5.774744406360451,4.978270909148057,7.146959852300559,-4.87500537613462,-1.647853273331598,3.214405404474808,-1.8618895804401046,4.9622735161368094,4.482059047354961,9.08386382314323,7.841695481657227,5.977545745426158,4.126677573360667,-4.902209481107288,-6.103600397515037,-5.869547561873328,-6.245529348685755],\"xaxis\":\"x\",\"y\":[-7.668802567617568,-3.2496278572944397,-3.838388508209205,-1.6351727263680573,-0.38179958582481155,0.4221888840319225,-0.48992847505433956,1.5401599829501738,4.142467990259106,5.432694310956953,5.773881349873139,1.540329259230643,-1.3583243712176711,3.046544648906571,-0.525964590971803,-5.067604934402985,3.0664332862423413,8.217021624151313,5.810462009421461,6.148845565528643,14.820308802635628,10.289636366540215,-21.60274828395423,-24.41187406617656,-22.739139496613145,-21.354624344610478],\"yaxis\":\"y\",\"type\":\"scatter\"},{\"customdata\":[[\"Asendabo\",\"resistant\"],[\"Asendabo\",\"resistant\"],[\"Asendabo\",\"resistant\"],[\"Asendabo\",\"resistant\"],[\"Chewaka\",\"resistant\"],[\"Chewaka\",\"resistant\"],[\"Chewaka\",\"resistant\"],[\"Chewaka\",\"resistant\"],[\"Moz\",\"susceptible\"],[\"Moz\",\"susceptible\"],[\"Moz\",\"susceptible\"],[\"Moz\",\"susceptible\"],[\"Tolay\",\"resistant\"],[\"Tolay\",\"resistant\"],[\"Tolay\",\"resistant\"],[\"Tolay\",\"resistant\"],[\"Dongola\",\"susceptible\"],[\"Dongola\",\"susceptible\"],[\"Dongola\",\"susceptible\"],[\"Ethiopia\",\"resistant\"],[\"Ethiopia\",\"resistant\"],[\"Ethiopia\",\"resistant\"],[\"Gou\",\"resistant\"],[\"Gou\",\"resistant\"],[\"Gou\",\"resistant\"],[\"Moz\",\"susceptible\"],[\"Moz\",\"susceptible\"],[\"Moz\",\"susceptible\"]],\"hovertemplate\":\"species=arabiensis<br>PC3=%{x}<br>PC4=%{y}<br>condition=%{customdata[0]}<br>resistance=%{customdata[1]}<extra></extra>\",\"legendgroup\":\"arabiensis\",\"marker\":{\"color\":\"#2CA02C\",\"symbol\":\"circle\"},\"mode\":\"markers\",\"name\":\"arabiensis\",\"orientation\":\"v\",\"showlegend\":true,\"x\":[87.21213473430124,89.02690021281171,90.08367145720653,87.85993698150705,82.27948754666629,82.17438798062898,79.37507677095053,79.8206598793712,75.12388798426663,74.82951359112064,74.66636366640486,73.85918317037887,84.20536882318449,88.03580875495895,87.71202877268716,84.9439930281295,71.50939357729473,66.01913805108364,70.00651949367717,75.99333548233376,73.71568900127855,80.18004454725744,3.1141963484394912,3.7520670512268266,-0.050113458487923035,0.8806384605951632,2.6997343017870974,5.422053631493442],\"xaxis\":\"x\",\"y\":[-4.479934481887678,-11.489768837035566,-7.743887938196617,-4.998499092246732,2.7780171909972964,3.6230034966053903,-9.306410553596532,8.952868547520701,5.397175211697101,11.691923528565761,-1.4409971004263844,6.8761539623100525,-32.2022449328303,-14.707684355238051,-9.46058749643107,-7.098791777396202,48.090382534453354,49.225308612861475,58.57518780045677,39.868948853587355,44.87594830212913,38.8191933867833,1.9506827741396995,3.266773899507197,-2.903769848449596,13.80376897639088,22.683646655605326,15.749251636338792],\"yaxis\":\"y\",\"type\":\"scatter\"},{\"customdata\":[[\"Cam_fun\",\"resistant\"],[\"Cam_fun\",\"resistant\"],[\"Cam_fun\",\"resistant\"],[\"Cam_fun\",\"resistant\"],[\"Cam_fun\",\"resistant\"],[\"Cam_fun\",\"resistant\"],[\"Cam_fun\",\"resistant\"],[\"Cam_fun\",\"resistant\"],[\"Cam_fun\",\"resistant\"],[\"Fang\",\"susceptible\"],[\"Fang\",\"susceptible\"],[\"Fang\",\"susceptible\"],[\"Fumoz\",\"resistant\"],[\"Fumoz\",\"resistant\"],[\"Fumoz\",\"resistant\"],[\"Fumoz\",\"resistant\"],[\"Fumoz\",\"resistant\"],[\"Ghana_fun\",\"resistant\"],[\"Ghana_fun\",\"resistant\"],[\"Ghana_fun\",\"resistant\"],[\"Ghana_fun\",\"resistant\"],[\"Ghana_fun\",\"resistant\"],[\"Ghana_fun\",\"resistant\"],[\"Ghana_fun\",\"resistant\"],[\"Ghana_fun\",\"resistant\"],[\"Ghana_fun\",\"resistant\"],[\"Ghana_fun\",\"resistant\"],[\"Malawi_fun\",\"resistant\"],[\"Malawi_fun\",\"resistant\"],[\"Malawi_fun\",\"resistant\"],[\"Malawi_fun\",\"resistant\"],[\"Malawi_fun\",\"resistant\"],[\"Malawi_fun\",\"resistant\"],[\"Malawi_fun\",\"resistant\"],[\"Malawi_fun\",\"resistant\"],[\"Malawi_fun\",\"resistant\"],[\"Malawi_fun\",\"resistant\"],[\"Uganda_fun\",\"resistant\"],[\"Uganda_fun\",\"resistant\"],[\"Uganda_fun\",\"resistant\"],[\"Uganda_fun\",\"resistant\"],[\"Uganda_fun\",\"resistant\"],[\"Uganda_fun\",\"resistant\"],[\"Uganda_fun\",\"resistant\"],[\"Uganda_fun\",\"resistant\"],[\"Uganda_fun\",\"resistant\"]],\"hovertemplate\":\"species=funestus<br>PC3=%{x}<br>PC4=%{y}<br>condition=%{customdata[0]}<br>resistance=%{customdata[1]}<extra></extra>\",\"legendgroup\":\"funestus\",\"marker\":{\"color\":\"#D62728\",\"symbol\":\"circle\"},\"mode\":\"markers\",\"name\":\"funestus\",\"orientation\":\"v\",\"showlegend\":true,\"x\":[-6.212329511350056,-10.746973005622678,-8.842655403264722,-11.587695110284649,-7.651737687197111,-7.420648276548604,-8.373505759472165,-12.664262716778413,-10.91770097589294,-9.27199772193011,-4.84855680966605,-12.120758477885587,-4.294935243650461,-11.633838285024067,-11.039272665376828,-9.172542375174919,-13.269272166744097,-9.487648724198044,-20.532478106961175,-14.241205120144395,-12.149505457632246,-7.994725670517635,-9.9866223397019,-9.001255001854735,-9.749300511202748,-6.72027248965456,-12.116687660159746,-11.930176310855478,-6.224796063244868,-8.432584719891546,-21.87187276477147,-20.463782705314834,-6.83652209198863,-8.73704381227465,-13.587779483646353,-16.523569371527845,-11.969305597430537,-16.65419416024843,-14.11785907863169,-16.239891863848424,-14.985110478813473,-5.786403258490335,-15.585811752567965,-12.152981889144932,-10.28660151852389,-13.544992418627158],\"xaxis\":\"x\",\"y\":[11.585459160600038,-0.09353182113196234,-1.8228254290503065,5.444196253969167,7.636010979614709,4.4131517487457055,0.6559012749272386,3.416197046895615,2.651010368728951,-16.533948177985827,2.5338200796754555,-8.413330317093044,-12.882283828946749,1.6791040297691557,6.600181361859483,9.658664078504216,-4.246089847300289,0.14365161971108423,-36.451825264481066,-9.991671144921163,-1.6735415379375442,1.8310550879518244,5.3926168948434325,11.075923821848841,-3.5606369462614693,-9.00654334422541,-7.517481319943324,4.3652799718764275,10.907781820244795,-0.09610081565095824,-36.22433162336304,-38.12148385176954,4.997756882593821,1.3882923891815515,8.52292415410052,-4.642687730102976,6.30328700717389,10.468677461198919,10.696715389021556,0.29191860306742945,12.951771901800296,-13.597243024269753,14.368618861524979,-10.628598705527546,-3.9332782298529345,-7.989577945501388],\"yaxis\":\"y\",\"type\":\"scatter\"}],                        {\"template\":{\"data\":{\"barpolar\":[{\"marker\":{\"line\":{\"color\":\"white\",\"width\":0.5},\"pattern\":{\"fillmode\":\"overlay\",\"size\":10,\"solidity\":0.2}},\"type\":\"barpolar\"}],\"bar\":[{\"error_x\":{\"color\":\"rgb(36,36,36)\"},\"error_y\":{\"color\":\"rgb(36,36,36)\"},\"marker\":{\"line\":{\"color\":\"white\",\"width\":0.5},\"pattern\":{\"fillmode\":\"overlay\",\"size\":10,\"solidity\":0.2}},\"type\":\"bar\"}],\"carpet\":[{\"aaxis\":{\"endlinecolor\":\"rgb(36,36,36)\",\"gridcolor\":\"white\",\"linecolor\":\"white\",\"minorgridcolor\":\"white\",\"startlinecolor\":\"rgb(36,36,36)\"},\"baxis\":{\"endlinecolor\":\"rgb(36,36,36)\",\"gridcolor\":\"white\",\"linecolor\":\"white\",\"minorgridcolor\":\"white\",\"startlinecolor\":\"rgb(36,36,36)\"},\"type\":\"carpet\"}],\"choropleth\":[{\"colorbar\":{\"outlinewidth\":1,\"tickcolor\":\"rgb(36,36,36)\",\"ticks\":\"outside\"},\"type\":\"choropleth\"}],\"contourcarpet\":[{\"colorbar\":{\"outlinewidth\":1,\"tickcolor\":\"rgb(36,36,36)\",\"ticks\":\"outside\"},\"type\":\"contourcarpet\"}],\"contour\":[{\"colorbar\":{\"outlinewidth\":1,\"tickcolor\":\"rgb(36,36,36)\",\"ticks\":\"outside\"},\"colorscale\":[[0.0,\"#440154\"],[0.1111111111111111,\"#482878\"],[0.2222222222222222,\"#3e4989\"],[0.3333333333333333,\"#31688e\"],[0.4444444444444444,\"#26828e\"],[0.5555555555555556,\"#1f9e89\"],[0.6666666666666666,\"#35b779\"],[0.7777777777777778,\"#6ece58\"],[0.8888888888888888,\"#b5de2b\"],[1.0,\"#fde725\"]],\"type\":\"contour\"}],\"heatmapgl\":[{\"colorbar\":{\"outlinewidth\":1,\"tickcolor\":\"rgb(36,36,36)\",\"ticks\":\"outside\"},\"colorscale\":[[0.0,\"#440154\"],[0.1111111111111111,\"#482878\"],[0.2222222222222222,\"#3e4989\"],[0.3333333333333333,\"#31688e\"],[0.4444444444444444,\"#26828e\"],[0.5555555555555556,\"#1f9e89\"],[0.6666666666666666,\"#35b779\"],[0.7777777777777778,\"#6ece58\"],[0.8888888888888888,\"#b5de2b\"],[1.0,\"#fde725\"]],\"type\":\"heatmapgl\"}],\"heatmap\":[{\"colorbar\":{\"outlinewidth\":1,\"tickcolor\":\"rgb(36,36,36)\",\"ticks\":\"outside\"},\"colorscale\":[[0.0,\"#440154\"],[0.1111111111111111,\"#482878\"],[0.2222222222222222,\"#3e4989\"],[0.3333333333333333,\"#31688e\"],[0.4444444444444444,\"#26828e\"],[0.5555555555555556,\"#1f9e89\"],[0.6666666666666666,\"#35b779\"],[0.7777777777777778,\"#6ece58\"],[0.8888888888888888,\"#b5de2b\"],[1.0,\"#fde725\"]],\"type\":\"heatmap\"}],\"histogram2dcontour\":[{\"colorbar\":{\"outlinewidth\":1,\"tickcolor\":\"rgb(36,36,36)\",\"ticks\":\"outside\"},\"colorscale\":[[0.0,\"#440154\"],[0.1111111111111111,\"#482878\"],[0.2222222222222222,\"#3e4989\"],[0.3333333333333333,\"#31688e\"],[0.4444444444444444,\"#26828e\"],[0.5555555555555556,\"#1f9e89\"],[0.6666666666666666,\"#35b779\"],[0.7777777777777778,\"#6ece58\"],[0.8888888888888888,\"#b5de2b\"],[1.0,\"#fde725\"]],\"type\":\"histogram2dcontour\"}],\"histogram2d\":[{\"colorbar\":{\"outlinewidth\":1,\"tickcolor\":\"rgb(36,36,36)\",\"ticks\":\"outside\"},\"colorscale\":[[0.0,\"#440154\"],[0.1111111111111111,\"#482878\"],[0.2222222222222222,\"#3e4989\"],[0.3333333333333333,\"#31688e\"],[0.4444444444444444,\"#26828e\"],[0.5555555555555556,\"#1f9e89\"],[0.6666666666666666,\"#35b779\"],[0.7777777777777778,\"#6ece58\"],[0.8888888888888888,\"#b5de2b\"],[1.0,\"#fde725\"]],\"type\":\"histogram2d\"}],\"histogram\":[{\"marker\":{\"line\":{\"color\":\"white\",\"width\":0.6}},\"type\":\"histogram\"}],\"mesh3d\":[{\"colorbar\":{\"outlinewidth\":1,\"tickcolor\":\"rgb(36,36,36)\",\"ticks\":\"outside\"},\"type\":\"mesh3d\"}],\"parcoords\":[{\"line\":{\"colorbar\":{\"outlinewidth\":1,\"tickcolor\":\"rgb(36,36,36)\",\"ticks\":\"outside\"}},\"type\":\"parcoords\"}],\"pie\":[{\"automargin\":true,\"type\":\"pie\"}],\"scatter3d\":[{\"line\":{\"colorbar\":{\"outlinewidth\":1,\"tickcolor\":\"rgb(36,36,36)\",\"ticks\":\"outside\"}},\"marker\":{\"colorbar\":{\"outlinewidth\":1,\"tickcolor\":\"rgb(36,36,36)\",\"ticks\":\"outside\"}},\"type\":\"scatter3d\"}],\"scattercarpet\":[{\"marker\":{\"colorbar\":{\"outlinewidth\":1,\"tickcolor\":\"rgb(36,36,36)\",\"ticks\":\"outside\"}},\"type\":\"scattercarpet\"}],\"scattergeo\":[{\"marker\":{\"colorbar\":{\"outlinewidth\":1,\"tickcolor\":\"rgb(36,36,36)\",\"ticks\":\"outside\"}},\"type\":\"scattergeo\"}],\"scattergl\":[{\"marker\":{\"colorbar\":{\"outlinewidth\":1,\"tickcolor\":\"rgb(36,36,36)\",\"ticks\":\"outside\"}},\"type\":\"scattergl\"}],\"scattermapbox\":[{\"marker\":{\"colorbar\":{\"outlinewidth\":1,\"tickcolor\":\"rgb(36,36,36)\",\"ticks\":\"outside\"}},\"type\":\"scattermapbox\"}],\"scatterpolargl\":[{\"marker\":{\"colorbar\":{\"outlinewidth\":1,\"tickcolor\":\"rgb(36,36,36)\",\"ticks\":\"outside\"}},\"type\":\"scatterpolargl\"}],\"scatterpolar\":[{\"marker\":{\"colorbar\":{\"outlinewidth\":1,\"tickcolor\":\"rgb(36,36,36)\",\"ticks\":\"outside\"}},\"type\":\"scatterpolar\"}],\"scatter\":[{\"fillpattern\":{\"fillmode\":\"overlay\",\"size\":10,\"solidity\":0.2},\"type\":\"scatter\"}],\"scatterternary\":[{\"marker\":{\"colorbar\":{\"outlinewidth\":1,\"tickcolor\":\"rgb(36,36,36)\",\"ticks\":\"outside\"}},\"type\":\"scatterternary\"}],\"surface\":[{\"colorbar\":{\"outlinewidth\":1,\"tickcolor\":\"rgb(36,36,36)\",\"ticks\":\"outside\"},\"colorscale\":[[0.0,\"#440154\"],[0.1111111111111111,\"#482878\"],[0.2222222222222222,\"#3e4989\"],[0.3333333333333333,\"#31688e\"],[0.4444444444444444,\"#26828e\"],[0.5555555555555556,\"#1f9e89\"],[0.6666666666666666,\"#35b779\"],[0.7777777777777778,\"#6ece58\"],[0.8888888888888888,\"#b5de2b\"],[1.0,\"#fde725\"]],\"type\":\"surface\"}],\"table\":[{\"cells\":{\"fill\":{\"color\":\"rgb(237,237,237)\"},\"line\":{\"color\":\"white\"}},\"header\":{\"fill\":{\"color\":\"rgb(217,217,217)\"},\"line\":{\"color\":\"white\"}},\"type\":\"table\"}]},\"layout\":{\"annotationdefaults\":{\"arrowhead\":0,\"arrowwidth\":1},\"autotypenumbers\":\"strict\",\"coloraxis\":{\"colorbar\":{\"outlinewidth\":1,\"tickcolor\":\"rgb(36,36,36)\",\"ticks\":\"outside\"}},\"colorscale\":{\"diverging\":[[0.0,\"rgb(103,0,31)\"],[0.1,\"rgb(178,24,43)\"],[0.2,\"rgb(214,96,77)\"],[0.3,\"rgb(244,165,130)\"],[0.4,\"rgb(253,219,199)\"],[0.5,\"rgb(247,247,247)\"],[0.6,\"rgb(209,229,240)\"],[0.7,\"rgb(146,197,222)\"],[0.8,\"rgb(67,147,195)\"],[0.9,\"rgb(33,102,172)\"],[1.0,\"rgb(5,48,97)\"]],\"sequential\":[[0.0,\"#440154\"],[0.1111111111111111,\"#482878\"],[0.2222222222222222,\"#3e4989\"],[0.3333333333333333,\"#31688e\"],[0.4444444444444444,\"#26828e\"],[0.5555555555555556,\"#1f9e89\"],[0.6666666666666666,\"#35b779\"],[0.7777777777777778,\"#6ece58\"],[0.8888888888888888,\"#b5de2b\"],[1.0,\"#fde725\"]],\"sequentialminus\":[[0.0,\"#440154\"],[0.1111111111111111,\"#482878\"],[0.2222222222222222,\"#3e4989\"],[0.3333333333333333,\"#31688e\"],[0.4444444444444444,\"#26828e\"],[0.5555555555555556,\"#1f9e89\"],[0.6666666666666666,\"#35b779\"],[0.7777777777777778,\"#6ece58\"],[0.8888888888888888,\"#b5de2b\"],[1.0,\"#fde725\"]]},\"colorway\":[\"#1F77B4\",\"#FF7F0E\",\"#2CA02C\",\"#D62728\",\"#9467BD\",\"#8C564B\",\"#E377C2\",\"#7F7F7F\",\"#BCBD22\",\"#17BECF\"],\"font\":{\"color\":\"rgb(36,36,36)\"},\"geo\":{\"bgcolor\":\"white\",\"lakecolor\":\"white\",\"landcolor\":\"white\",\"showlakes\":true,\"showland\":true,\"subunitcolor\":\"white\"},\"hoverlabel\":{\"align\":\"left\"},\"hovermode\":\"closest\",\"mapbox\":{\"style\":\"light\"},\"paper_bgcolor\":\"white\",\"plot_bgcolor\":\"white\",\"polar\":{\"angularaxis\":{\"gridcolor\":\"rgb(232,232,232)\",\"linecolor\":\"rgb(36,36,36)\",\"showgrid\":false,\"showline\":true,\"ticks\":\"outside\"},\"bgcolor\":\"white\",\"radialaxis\":{\"gridcolor\":\"rgb(232,232,232)\",\"linecolor\":\"rgb(36,36,36)\",\"showgrid\":false,\"showline\":true,\"ticks\":\"outside\"}},\"scene\":{\"xaxis\":{\"backgroundcolor\":\"white\",\"gridcolor\":\"rgb(232,232,232)\",\"gridwidth\":2,\"linecolor\":\"rgb(36,36,36)\",\"showbackground\":true,\"showgrid\":false,\"showline\":true,\"ticks\":\"outside\",\"zeroline\":false,\"zerolinecolor\":\"rgb(36,36,36)\"},\"yaxis\":{\"backgroundcolor\":\"white\",\"gridcolor\":\"rgb(232,232,232)\",\"gridwidth\":2,\"linecolor\":\"rgb(36,36,36)\",\"showbackground\":true,\"showgrid\":false,\"showline\":true,\"ticks\":\"outside\",\"zeroline\":false,\"zerolinecolor\":\"rgb(36,36,36)\"},\"zaxis\":{\"backgroundcolor\":\"white\",\"gridcolor\":\"rgb(232,232,232)\",\"gridwidth\":2,\"linecolor\":\"rgb(36,36,36)\",\"showbackground\":true,\"showgrid\":false,\"showline\":true,\"ticks\":\"outside\",\"zeroline\":false,\"zerolinecolor\":\"rgb(36,36,36)\"}},\"shapedefaults\":{\"fillcolor\":\"black\",\"line\":{\"width\":0},\"opacity\":0.3},\"ternary\":{\"aaxis\":{\"gridcolor\":\"rgb(232,232,232)\",\"linecolor\":\"rgb(36,36,36)\",\"showgrid\":false,\"showline\":true,\"ticks\":\"outside\"},\"baxis\":{\"gridcolor\":\"rgb(232,232,232)\",\"linecolor\":\"rgb(36,36,36)\",\"showgrid\":false,\"showline\":true,\"ticks\":\"outside\"},\"bgcolor\":\"white\",\"caxis\":{\"gridcolor\":\"rgb(232,232,232)\",\"linecolor\":\"rgb(36,36,36)\",\"showgrid\":false,\"showline\":true,\"ticks\":\"outside\"}},\"title\":{\"x\":0.05},\"xaxis\":{\"automargin\":true,\"gridcolor\":\"rgb(232,232,232)\",\"linecolor\":\"rgb(36,36,36)\",\"showgrid\":false,\"showline\":true,\"ticks\":\"outside\",\"title\":{\"standoff\":15},\"zeroline\":false,\"zerolinecolor\":\"rgb(36,36,36)\"},\"yaxis\":{\"automargin\":true,\"gridcolor\":\"rgb(232,232,232)\",\"linecolor\":\"rgb(36,36,36)\",\"showgrid\":false,\"showline\":true,\"ticks\":\"outside\",\"title\":{\"standoff\":15},\"zeroline\":false,\"zerolinecolor\":\"rgb(36,36,36)\"}}},\"xaxis\":{\"anchor\":\"y\",\"domain\":[0.0,1.0],\"title\":{\"text\":\"PC3\"}},\"yaxis\":{\"anchor\":\"x\",\"domain\":[0.0,1.0],\"title\":{\"text\":\"PC4\"}},\"legend\":{\"title\":{\"text\":\"species\"},\"tracegroupgap\":0},\"margin\":{\"t\":60},\"height\":600,\"width\":800},                        {\"responsive\": true}                    ).then(function(){\n",
       "                            \n",
       "var gd = document.getElementById('b5b6b22f-905e-49d3-8e72-a370eb7bd9c3');\n",
       "var x = new MutationObserver(function (mutations, observer) {{\n",
       "        var display = window.getComputedStyle(gd).display;\n",
       "        if (!display || display === 'none') {{\n",
       "            console.log([gd, 'removed!']);\n",
       "            Plotly.purge(gd);\n",
       "            observer.disconnect();\n",
       "        }}\n",
       "}});\n",
       "\n",
       "// Listen for the removal of the full notebook cells\n",
       "var notebookContainer = gd.closest('#notebook-container');\n",
       "if (notebookContainer) {{\n",
       "    x.observe(notebookContainer, {childList: true});\n",
       "}}\n",
       "\n",
       "// Listen for the clearing of the current output cell\n",
       "var outputEl = gd.closest('.output');\n",
       "if (outputEl) {{\n",
       "    x.observe(outputEl, {childList: true});\n",
       "}}\n",
       "\n",
       "                        })                };                });            </script>        </div>"
      ]
     },
     "metadata": {},
     "output_type": "display_data"
    }
   ],
   "source": [
    "pca(analysis='gamb_colu_arab_fun', data_type='log2counts', x='PC3', y=\"PC4\")"
   ]
  },
  {
   "cell_type": "markdown",
   "metadata": {},
   "source": [
    "### PCA on Fold change data"
   ]
  },
  {
   "cell_type": "code",
   "execution_count": 19,
   "metadata": {},
   "outputs": [
    {
     "data": {
      "application/vnd.plotly.v1+json": {
       "config": {
        "plotlyServerURL": "https://plot.ly"
       },
       "data": [
        {
         "alignmentgroup": "True",
         "hovertemplate": "PC=%{x}<br>explained_variance=%{y}<extra></extra>",
         "legendgroup": "",
         "marker": {
          "color": "#636efa",
          "pattern": {
           "shape": ""
          }
         },
         "name": "",
         "offsetgroup": "",
         "orientation": "v",
         "showlegend": false,
         "textposition": "auto",
         "type": "bar",
         "x": [
          "PC1",
          "PC2",
          "PC3",
          "PC4",
          "PC5",
          "PC6"
         ],
         "xaxis": "x",
         "y": [
          0.16674635290574302,
          0.10416691914426648,
          0.08757581600864935,
          0.07216032104932081,
          0.059348404795724036,
          0.053267607870463196
         ],
         "yaxis": "y"
        }
       ],
       "layout": {
        "barmode": "relative",
        "height": 400,
        "legend": {
         "tracegroupgap": 0
        },
        "margin": {
         "t": 60
        },
        "template": {
         "data": {
          "bar": [
           {
            "error_x": {
             "color": "#2a3f5f"
            },
            "error_y": {
             "color": "#2a3f5f"
            },
            "marker": {
             "line": {
              "color": "#E5ECF6",
              "width": 0.5
             },
             "pattern": {
              "fillmode": "overlay",
              "size": 10,
              "solidity": 0.2
             }
            },
            "type": "bar"
           }
          ],
          "barpolar": [
           {
            "marker": {
             "line": {
              "color": "#E5ECF6",
              "width": 0.5
             },
             "pattern": {
              "fillmode": "overlay",
              "size": 10,
              "solidity": 0.2
             }
            },
            "type": "barpolar"
           }
          ],
          "carpet": [
           {
            "aaxis": {
             "endlinecolor": "#2a3f5f",
             "gridcolor": "white",
             "linecolor": "white",
             "minorgridcolor": "white",
             "startlinecolor": "#2a3f5f"
            },
            "baxis": {
             "endlinecolor": "#2a3f5f",
             "gridcolor": "white",
             "linecolor": "white",
             "minorgridcolor": "white",
             "startlinecolor": "#2a3f5f"
            },
            "type": "carpet"
           }
          ],
          "choropleth": [
           {
            "colorbar": {
             "outlinewidth": 0,
             "ticks": ""
            },
            "type": "choropleth"
           }
          ],
          "contour": [
           {
            "colorbar": {
             "outlinewidth": 0,
             "ticks": ""
            },
            "colorscale": [
             [
              0,
              "#0d0887"
             ],
             [
              0.1111111111111111,
              "#46039f"
             ],
             [
              0.2222222222222222,
              "#7201a8"
             ],
             [
              0.3333333333333333,
              "#9c179e"
             ],
             [
              0.4444444444444444,
              "#bd3786"
             ],
             [
              0.5555555555555556,
              "#d8576b"
             ],
             [
              0.6666666666666666,
              "#ed7953"
             ],
             [
              0.7777777777777778,
              "#fb9f3a"
             ],
             [
              0.8888888888888888,
              "#fdca26"
             ],
             [
              1,
              "#f0f921"
             ]
            ],
            "type": "contour"
           }
          ],
          "contourcarpet": [
           {
            "colorbar": {
             "outlinewidth": 0,
             "ticks": ""
            },
            "type": "contourcarpet"
           }
          ],
          "heatmap": [
           {
            "colorbar": {
             "outlinewidth": 0,
             "ticks": ""
            },
            "colorscale": [
             [
              0,
              "#0d0887"
             ],
             [
              0.1111111111111111,
              "#46039f"
             ],
             [
              0.2222222222222222,
              "#7201a8"
             ],
             [
              0.3333333333333333,
              "#9c179e"
             ],
             [
              0.4444444444444444,
              "#bd3786"
             ],
             [
              0.5555555555555556,
              "#d8576b"
             ],
             [
              0.6666666666666666,
              "#ed7953"
             ],
             [
              0.7777777777777778,
              "#fb9f3a"
             ],
             [
              0.8888888888888888,
              "#fdca26"
             ],
             [
              1,
              "#f0f921"
             ]
            ],
            "type": "heatmap"
           }
          ],
          "heatmapgl": [
           {
            "colorbar": {
             "outlinewidth": 0,
             "ticks": ""
            },
            "colorscale": [
             [
              0,
              "#0d0887"
             ],
             [
              0.1111111111111111,
              "#46039f"
             ],
             [
              0.2222222222222222,
              "#7201a8"
             ],
             [
              0.3333333333333333,
              "#9c179e"
             ],
             [
              0.4444444444444444,
              "#bd3786"
             ],
             [
              0.5555555555555556,
              "#d8576b"
             ],
             [
              0.6666666666666666,
              "#ed7953"
             ],
             [
              0.7777777777777778,
              "#fb9f3a"
             ],
             [
              0.8888888888888888,
              "#fdca26"
             ],
             [
              1,
              "#f0f921"
             ]
            ],
            "type": "heatmapgl"
           }
          ],
          "histogram": [
           {
            "marker": {
             "pattern": {
              "fillmode": "overlay",
              "size": 10,
              "solidity": 0.2
             }
            },
            "type": "histogram"
           }
          ],
          "histogram2d": [
           {
            "colorbar": {
             "outlinewidth": 0,
             "ticks": ""
            },
            "colorscale": [
             [
              0,
              "#0d0887"
             ],
             [
              0.1111111111111111,
              "#46039f"
             ],
             [
              0.2222222222222222,
              "#7201a8"
             ],
             [
              0.3333333333333333,
              "#9c179e"
             ],
             [
              0.4444444444444444,
              "#bd3786"
             ],
             [
              0.5555555555555556,
              "#d8576b"
             ],
             [
              0.6666666666666666,
              "#ed7953"
             ],
             [
              0.7777777777777778,
              "#fb9f3a"
             ],
             [
              0.8888888888888888,
              "#fdca26"
             ],
             [
              1,
              "#f0f921"
             ]
            ],
            "type": "histogram2d"
           }
          ],
          "histogram2dcontour": [
           {
            "colorbar": {
             "outlinewidth": 0,
             "ticks": ""
            },
            "colorscale": [
             [
              0,
              "#0d0887"
             ],
             [
              0.1111111111111111,
              "#46039f"
             ],
             [
              0.2222222222222222,
              "#7201a8"
             ],
             [
              0.3333333333333333,
              "#9c179e"
             ],
             [
              0.4444444444444444,
              "#bd3786"
             ],
             [
              0.5555555555555556,
              "#d8576b"
             ],
             [
              0.6666666666666666,
              "#ed7953"
             ],
             [
              0.7777777777777778,
              "#fb9f3a"
             ],
             [
              0.8888888888888888,
              "#fdca26"
             ],
             [
              1,
              "#f0f921"
             ]
            ],
            "type": "histogram2dcontour"
           }
          ],
          "mesh3d": [
           {
            "colorbar": {
             "outlinewidth": 0,
             "ticks": ""
            },
            "type": "mesh3d"
           }
          ],
          "parcoords": [
           {
            "line": {
             "colorbar": {
              "outlinewidth": 0,
              "ticks": ""
             }
            },
            "type": "parcoords"
           }
          ],
          "pie": [
           {
            "automargin": true,
            "type": "pie"
           }
          ],
          "scatter": [
           {
            "fillpattern": {
             "fillmode": "overlay",
             "size": 10,
             "solidity": 0.2
            },
            "type": "scatter"
           }
          ],
          "scatter3d": [
           {
            "line": {
             "colorbar": {
              "outlinewidth": 0,
              "ticks": ""
             }
            },
            "marker": {
             "colorbar": {
              "outlinewidth": 0,
              "ticks": ""
             }
            },
            "type": "scatter3d"
           }
          ],
          "scattercarpet": [
           {
            "marker": {
             "colorbar": {
              "outlinewidth": 0,
              "ticks": ""
             }
            },
            "type": "scattercarpet"
           }
          ],
          "scattergeo": [
           {
            "marker": {
             "colorbar": {
              "outlinewidth": 0,
              "ticks": ""
             }
            },
            "type": "scattergeo"
           }
          ],
          "scattergl": [
           {
            "marker": {
             "colorbar": {
              "outlinewidth": 0,
              "ticks": ""
             }
            },
            "type": "scattergl"
           }
          ],
          "scattermapbox": [
           {
            "marker": {
             "colorbar": {
              "outlinewidth": 0,
              "ticks": ""
             }
            },
            "type": "scattermapbox"
           }
          ],
          "scatterpolar": [
           {
            "marker": {
             "colorbar": {
              "outlinewidth": 0,
              "ticks": ""
             }
            },
            "type": "scatterpolar"
           }
          ],
          "scatterpolargl": [
           {
            "marker": {
             "colorbar": {
              "outlinewidth": 0,
              "ticks": ""
             }
            },
            "type": "scatterpolargl"
           }
          ],
          "scatterternary": [
           {
            "marker": {
             "colorbar": {
              "outlinewidth": 0,
              "ticks": ""
             }
            },
            "type": "scatterternary"
           }
          ],
          "surface": [
           {
            "colorbar": {
             "outlinewidth": 0,
             "ticks": ""
            },
            "colorscale": [
             [
              0,
              "#0d0887"
             ],
             [
              0.1111111111111111,
              "#46039f"
             ],
             [
              0.2222222222222222,
              "#7201a8"
             ],
             [
              0.3333333333333333,
              "#9c179e"
             ],
             [
              0.4444444444444444,
              "#bd3786"
             ],
             [
              0.5555555555555556,
              "#d8576b"
             ],
             [
              0.6666666666666666,
              "#ed7953"
             ],
             [
              0.7777777777777778,
              "#fb9f3a"
             ],
             [
              0.8888888888888888,
              "#fdca26"
             ],
             [
              1,
              "#f0f921"
             ]
            ],
            "type": "surface"
           }
          ],
          "table": [
           {
            "cells": {
             "fill": {
              "color": "#EBF0F8"
             },
             "line": {
              "color": "white"
             }
            },
            "header": {
             "fill": {
              "color": "#C8D4E3"
             },
             "line": {
              "color": "white"
             }
            },
            "type": "table"
           }
          ]
         },
         "layout": {
          "annotationdefaults": {
           "arrowcolor": "#2a3f5f",
           "arrowhead": 0,
           "arrowwidth": 1
          },
          "autotypenumbers": "strict",
          "coloraxis": {
           "colorbar": {
            "outlinewidth": 0,
            "ticks": ""
           }
          },
          "colorscale": {
           "diverging": [
            [
             0,
             "#8e0152"
            ],
            [
             0.1,
             "#c51b7d"
            ],
            [
             0.2,
             "#de77ae"
            ],
            [
             0.3,
             "#f1b6da"
            ],
            [
             0.4,
             "#fde0ef"
            ],
            [
             0.5,
             "#f7f7f7"
            ],
            [
             0.6,
             "#e6f5d0"
            ],
            [
             0.7,
             "#b8e186"
            ],
            [
             0.8,
             "#7fbc41"
            ],
            [
             0.9,
             "#4d9221"
            ],
            [
             1,
             "#276419"
            ]
           ],
           "sequential": [
            [
             0,
             "#0d0887"
            ],
            [
             0.1111111111111111,
             "#46039f"
            ],
            [
             0.2222222222222222,
             "#7201a8"
            ],
            [
             0.3333333333333333,
             "#9c179e"
            ],
            [
             0.4444444444444444,
             "#bd3786"
            ],
            [
             0.5555555555555556,
             "#d8576b"
            ],
            [
             0.6666666666666666,
             "#ed7953"
            ],
            [
             0.7777777777777778,
             "#fb9f3a"
            ],
            [
             0.8888888888888888,
             "#fdca26"
            ],
            [
             1,
             "#f0f921"
            ]
           ],
           "sequentialminus": [
            [
             0,
             "#0d0887"
            ],
            [
             0.1111111111111111,
             "#46039f"
            ],
            [
             0.2222222222222222,
             "#7201a8"
            ],
            [
             0.3333333333333333,
             "#9c179e"
            ],
            [
             0.4444444444444444,
             "#bd3786"
            ],
            [
             0.5555555555555556,
             "#d8576b"
            ],
            [
             0.6666666666666666,
             "#ed7953"
            ],
            [
             0.7777777777777778,
             "#fb9f3a"
            ],
            [
             0.8888888888888888,
             "#fdca26"
            ],
            [
             1,
             "#f0f921"
            ]
           ]
          },
          "colorway": [
           "#636efa",
           "#EF553B",
           "#00cc96",
           "#ab63fa",
           "#FFA15A",
           "#19d3f3",
           "#FF6692",
           "#B6E880",
           "#FF97FF",
           "#FECB52"
          ],
          "font": {
           "color": "#2a3f5f"
          },
          "geo": {
           "bgcolor": "white",
           "lakecolor": "white",
           "landcolor": "#E5ECF6",
           "showlakes": true,
           "showland": true,
           "subunitcolor": "white"
          },
          "hoverlabel": {
           "align": "left"
          },
          "hovermode": "closest",
          "mapbox": {
           "style": "light"
          },
          "paper_bgcolor": "white",
          "plot_bgcolor": "#E5ECF6",
          "polar": {
           "angularaxis": {
            "gridcolor": "white",
            "linecolor": "white",
            "ticks": ""
           },
           "bgcolor": "#E5ECF6",
           "radialaxis": {
            "gridcolor": "white",
            "linecolor": "white",
            "ticks": ""
           }
          },
          "scene": {
           "xaxis": {
            "backgroundcolor": "#E5ECF6",
            "gridcolor": "white",
            "gridwidth": 2,
            "linecolor": "white",
            "showbackground": true,
            "ticks": "",
            "zerolinecolor": "white"
           },
           "yaxis": {
            "backgroundcolor": "#E5ECF6",
            "gridcolor": "white",
            "gridwidth": 2,
            "linecolor": "white",
            "showbackground": true,
            "ticks": "",
            "zerolinecolor": "white"
           },
           "zaxis": {
            "backgroundcolor": "#E5ECF6",
            "gridcolor": "white",
            "gridwidth": 2,
            "linecolor": "white",
            "showbackground": true,
            "ticks": "",
            "zerolinecolor": "white"
           }
          },
          "shapedefaults": {
           "line": {
            "color": "#2a3f5f"
           }
          },
          "ternary": {
           "aaxis": {
            "gridcolor": "white",
            "linecolor": "white",
            "ticks": ""
           },
           "baxis": {
            "gridcolor": "white",
            "linecolor": "white",
            "ticks": ""
           },
           "bgcolor": "#E5ECF6",
           "caxis": {
            "gridcolor": "white",
            "linecolor": "white",
            "ticks": ""
           }
          },
          "title": {
           "x": 0.05
          },
          "xaxis": {
           "automargin": true,
           "gridcolor": "white",
           "linecolor": "white",
           "ticks": "",
           "title": {
            "standoff": 15
           },
           "zerolinecolor": "white",
           "zerolinewidth": 2
          },
          "yaxis": {
           "automargin": true,
           "gridcolor": "white",
           "linecolor": "white",
           "ticks": "",
           "title": {
            "standoff": 15
           },
           "zerolinecolor": "white",
           "zerolinewidth": 2
          }
         }
        },
        "width": 800,
        "xaxis": {
         "anchor": "y",
         "domain": [
          0,
          1
         ],
         "title": {
          "text": "PC"
         }
        },
        "yaxis": {
         "anchor": "x",
         "domain": [
          0,
          1
         ],
         "title": {
          "text": "explained_variance"
         }
        }
       }
      },
      "text/html": [
       "<div>                            <div id=\"ce4899bd-a6d4-412a-a26b-fd9e12cc47b0\" class=\"plotly-graph-div\" style=\"height:400px; width:800px;\"></div>            <script type=\"text/javascript\">                require([\"plotly\"], function(Plotly) {                    window.PLOTLYENV=window.PLOTLYENV || {};                                    if (document.getElementById(\"ce4899bd-a6d4-412a-a26b-fd9e12cc47b0\")) {                    Plotly.newPlot(                        \"ce4899bd-a6d4-412a-a26b-fd9e12cc47b0\",                        [{\"alignmentgroup\":\"True\",\"hovertemplate\":\"PC=%{x}<br>explained_variance=%{y}<extra></extra>\",\"legendgroup\":\"\",\"marker\":{\"color\":\"#636efa\",\"pattern\":{\"shape\":\"\"}},\"name\":\"\",\"offsetgroup\":\"\",\"orientation\":\"v\",\"showlegend\":false,\"textposition\":\"auto\",\"x\":[\"PC1\",\"PC2\",\"PC3\",\"PC4\",\"PC5\",\"PC6\"],\"xaxis\":\"x\",\"y\":[0.16674635290574302,0.10416691914426648,0.08757581600864935,0.07216032104932081,0.059348404795724036,0.053267607870463196],\"yaxis\":\"y\",\"type\":\"bar\"}],                        {\"template\":{\"data\":{\"histogram2dcontour\":[{\"type\":\"histogram2dcontour\",\"colorbar\":{\"outlinewidth\":0,\"ticks\":\"\"},\"colorscale\":[[0.0,\"#0d0887\"],[0.1111111111111111,\"#46039f\"],[0.2222222222222222,\"#7201a8\"],[0.3333333333333333,\"#9c179e\"],[0.4444444444444444,\"#bd3786\"],[0.5555555555555556,\"#d8576b\"],[0.6666666666666666,\"#ed7953\"],[0.7777777777777778,\"#fb9f3a\"],[0.8888888888888888,\"#fdca26\"],[1.0,\"#f0f921\"]]}],\"choropleth\":[{\"type\":\"choropleth\",\"colorbar\":{\"outlinewidth\":0,\"ticks\":\"\"}}],\"histogram2d\":[{\"type\":\"histogram2d\",\"colorbar\":{\"outlinewidth\":0,\"ticks\":\"\"},\"colorscale\":[[0.0,\"#0d0887\"],[0.1111111111111111,\"#46039f\"],[0.2222222222222222,\"#7201a8\"],[0.3333333333333333,\"#9c179e\"],[0.4444444444444444,\"#bd3786\"],[0.5555555555555556,\"#d8576b\"],[0.6666666666666666,\"#ed7953\"],[0.7777777777777778,\"#fb9f3a\"],[0.8888888888888888,\"#fdca26\"],[1.0,\"#f0f921\"]]}],\"heatmap\":[{\"type\":\"heatmap\",\"colorbar\":{\"outlinewidth\":0,\"ticks\":\"\"},\"colorscale\":[[0.0,\"#0d0887\"],[0.1111111111111111,\"#46039f\"],[0.2222222222222222,\"#7201a8\"],[0.3333333333333333,\"#9c179e\"],[0.4444444444444444,\"#bd3786\"],[0.5555555555555556,\"#d8576b\"],[0.6666666666666666,\"#ed7953\"],[0.7777777777777778,\"#fb9f3a\"],[0.8888888888888888,\"#fdca26\"],[1.0,\"#f0f921\"]]}],\"heatmapgl\":[{\"type\":\"heatmapgl\",\"colorbar\":{\"outlinewidth\":0,\"ticks\":\"\"},\"colorscale\":[[0.0,\"#0d0887\"],[0.1111111111111111,\"#46039f\"],[0.2222222222222222,\"#7201a8\"],[0.3333333333333333,\"#9c179e\"],[0.4444444444444444,\"#bd3786\"],[0.5555555555555556,\"#d8576b\"],[0.6666666666666666,\"#ed7953\"],[0.7777777777777778,\"#fb9f3a\"],[0.8888888888888888,\"#fdca26\"],[1.0,\"#f0f921\"]]}],\"contourcarpet\":[{\"type\":\"contourcarpet\",\"colorbar\":{\"outlinewidth\":0,\"ticks\":\"\"}}],\"contour\":[{\"type\":\"contour\",\"colorbar\":{\"outlinewidth\":0,\"ticks\":\"\"},\"colorscale\":[[0.0,\"#0d0887\"],[0.1111111111111111,\"#46039f\"],[0.2222222222222222,\"#7201a8\"],[0.3333333333333333,\"#9c179e\"],[0.4444444444444444,\"#bd3786\"],[0.5555555555555556,\"#d8576b\"],[0.6666666666666666,\"#ed7953\"],[0.7777777777777778,\"#fb9f3a\"],[0.8888888888888888,\"#fdca26\"],[1.0,\"#f0f921\"]]}],\"surface\":[{\"type\":\"surface\",\"colorbar\":{\"outlinewidth\":0,\"ticks\":\"\"},\"colorscale\":[[0.0,\"#0d0887\"],[0.1111111111111111,\"#46039f\"],[0.2222222222222222,\"#7201a8\"],[0.3333333333333333,\"#9c179e\"],[0.4444444444444444,\"#bd3786\"],[0.5555555555555556,\"#d8576b\"],[0.6666666666666666,\"#ed7953\"],[0.7777777777777778,\"#fb9f3a\"],[0.8888888888888888,\"#fdca26\"],[1.0,\"#f0f921\"]]}],\"mesh3d\":[{\"type\":\"mesh3d\",\"colorbar\":{\"outlinewidth\":0,\"ticks\":\"\"}}],\"scatter\":[{\"fillpattern\":{\"fillmode\":\"overlay\",\"size\":10,\"solidity\":0.2},\"type\":\"scatter\"}],\"parcoords\":[{\"type\":\"parcoords\",\"line\":{\"colorbar\":{\"outlinewidth\":0,\"ticks\":\"\"}}}],\"scatterpolargl\":[{\"type\":\"scatterpolargl\",\"marker\":{\"colorbar\":{\"outlinewidth\":0,\"ticks\":\"\"}}}],\"bar\":[{\"error_x\":{\"color\":\"#2a3f5f\"},\"error_y\":{\"color\":\"#2a3f5f\"},\"marker\":{\"line\":{\"color\":\"#E5ECF6\",\"width\":0.5},\"pattern\":{\"fillmode\":\"overlay\",\"size\":10,\"solidity\":0.2}},\"type\":\"bar\"}],\"scattergeo\":[{\"type\":\"scattergeo\",\"marker\":{\"colorbar\":{\"outlinewidth\":0,\"ticks\":\"\"}}}],\"scatterpolar\":[{\"type\":\"scatterpolar\",\"marker\":{\"colorbar\":{\"outlinewidth\":0,\"ticks\":\"\"}}}],\"histogram\":[{\"marker\":{\"pattern\":{\"fillmode\":\"overlay\",\"size\":10,\"solidity\":0.2}},\"type\":\"histogram\"}],\"scattergl\":[{\"type\":\"scattergl\",\"marker\":{\"colorbar\":{\"outlinewidth\":0,\"ticks\":\"\"}}}],\"scatter3d\":[{\"type\":\"scatter3d\",\"line\":{\"colorbar\":{\"outlinewidth\":0,\"ticks\":\"\"}},\"marker\":{\"colorbar\":{\"outlinewidth\":0,\"ticks\":\"\"}}}],\"scattermapbox\":[{\"type\":\"scattermapbox\",\"marker\":{\"colorbar\":{\"outlinewidth\":0,\"ticks\":\"\"}}}],\"scatterternary\":[{\"type\":\"scatterternary\",\"marker\":{\"colorbar\":{\"outlinewidth\":0,\"ticks\":\"\"}}}],\"scattercarpet\":[{\"type\":\"scattercarpet\",\"marker\":{\"colorbar\":{\"outlinewidth\":0,\"ticks\":\"\"}}}],\"carpet\":[{\"aaxis\":{\"endlinecolor\":\"#2a3f5f\",\"gridcolor\":\"white\",\"linecolor\":\"white\",\"minorgridcolor\":\"white\",\"startlinecolor\":\"#2a3f5f\"},\"baxis\":{\"endlinecolor\":\"#2a3f5f\",\"gridcolor\":\"white\",\"linecolor\":\"white\",\"minorgridcolor\":\"white\",\"startlinecolor\":\"#2a3f5f\"},\"type\":\"carpet\"}],\"table\":[{\"cells\":{\"fill\":{\"color\":\"#EBF0F8\"},\"line\":{\"color\":\"white\"}},\"header\":{\"fill\":{\"color\":\"#C8D4E3\"},\"line\":{\"color\":\"white\"}},\"type\":\"table\"}],\"barpolar\":[{\"marker\":{\"line\":{\"color\":\"#E5ECF6\",\"width\":0.5},\"pattern\":{\"fillmode\":\"overlay\",\"size\":10,\"solidity\":0.2}},\"type\":\"barpolar\"}],\"pie\":[{\"automargin\":true,\"type\":\"pie\"}]},\"layout\":{\"autotypenumbers\":\"strict\",\"colorway\":[\"#636efa\",\"#EF553B\",\"#00cc96\",\"#ab63fa\",\"#FFA15A\",\"#19d3f3\",\"#FF6692\",\"#B6E880\",\"#FF97FF\",\"#FECB52\"],\"font\":{\"color\":\"#2a3f5f\"},\"hovermode\":\"closest\",\"hoverlabel\":{\"align\":\"left\"},\"paper_bgcolor\":\"white\",\"plot_bgcolor\":\"#E5ECF6\",\"polar\":{\"bgcolor\":\"#E5ECF6\",\"angularaxis\":{\"gridcolor\":\"white\",\"linecolor\":\"white\",\"ticks\":\"\"},\"radialaxis\":{\"gridcolor\":\"white\",\"linecolor\":\"white\",\"ticks\":\"\"}},\"ternary\":{\"bgcolor\":\"#E5ECF6\",\"aaxis\":{\"gridcolor\":\"white\",\"linecolor\":\"white\",\"ticks\":\"\"},\"baxis\":{\"gridcolor\":\"white\",\"linecolor\":\"white\",\"ticks\":\"\"},\"caxis\":{\"gridcolor\":\"white\",\"linecolor\":\"white\",\"ticks\":\"\"}},\"coloraxis\":{\"colorbar\":{\"outlinewidth\":0,\"ticks\":\"\"}},\"colorscale\":{\"sequential\":[[0.0,\"#0d0887\"],[0.1111111111111111,\"#46039f\"],[0.2222222222222222,\"#7201a8\"],[0.3333333333333333,\"#9c179e\"],[0.4444444444444444,\"#bd3786\"],[0.5555555555555556,\"#d8576b\"],[0.6666666666666666,\"#ed7953\"],[0.7777777777777778,\"#fb9f3a\"],[0.8888888888888888,\"#fdca26\"],[1.0,\"#f0f921\"]],\"sequentialminus\":[[0.0,\"#0d0887\"],[0.1111111111111111,\"#46039f\"],[0.2222222222222222,\"#7201a8\"],[0.3333333333333333,\"#9c179e\"],[0.4444444444444444,\"#bd3786\"],[0.5555555555555556,\"#d8576b\"],[0.6666666666666666,\"#ed7953\"],[0.7777777777777778,\"#fb9f3a\"],[0.8888888888888888,\"#fdca26\"],[1.0,\"#f0f921\"]],\"diverging\":[[0,\"#8e0152\"],[0.1,\"#c51b7d\"],[0.2,\"#de77ae\"],[0.3,\"#f1b6da\"],[0.4,\"#fde0ef\"],[0.5,\"#f7f7f7\"],[0.6,\"#e6f5d0\"],[0.7,\"#b8e186\"],[0.8,\"#7fbc41\"],[0.9,\"#4d9221\"],[1,\"#276419\"]]},\"xaxis\":{\"gridcolor\":\"white\",\"linecolor\":\"white\",\"ticks\":\"\",\"title\":{\"standoff\":15},\"zerolinecolor\":\"white\",\"automargin\":true,\"zerolinewidth\":2},\"yaxis\":{\"gridcolor\":\"white\",\"linecolor\":\"white\",\"ticks\":\"\",\"title\":{\"standoff\":15},\"zerolinecolor\":\"white\",\"automargin\":true,\"zerolinewidth\":2},\"scene\":{\"xaxis\":{\"backgroundcolor\":\"#E5ECF6\",\"gridcolor\":\"white\",\"linecolor\":\"white\",\"showbackground\":true,\"ticks\":\"\",\"zerolinecolor\":\"white\",\"gridwidth\":2},\"yaxis\":{\"backgroundcolor\":\"#E5ECF6\",\"gridcolor\":\"white\",\"linecolor\":\"white\",\"showbackground\":true,\"ticks\":\"\",\"zerolinecolor\":\"white\",\"gridwidth\":2},\"zaxis\":{\"backgroundcolor\":\"#E5ECF6\",\"gridcolor\":\"white\",\"linecolor\":\"white\",\"showbackground\":true,\"ticks\":\"\",\"zerolinecolor\":\"white\",\"gridwidth\":2}},\"shapedefaults\":{\"line\":{\"color\":\"#2a3f5f\"}},\"annotationdefaults\":{\"arrowcolor\":\"#2a3f5f\",\"arrowhead\":0,\"arrowwidth\":1},\"geo\":{\"bgcolor\":\"white\",\"landcolor\":\"#E5ECF6\",\"subunitcolor\":\"white\",\"showland\":true,\"showlakes\":true,\"lakecolor\":\"white\"},\"title\":{\"x\":0.05},\"mapbox\":{\"style\":\"light\"}}},\"xaxis\":{\"anchor\":\"y\",\"domain\":[0.0,1.0],\"title\":{\"text\":\"PC\"}},\"yaxis\":{\"anchor\":\"x\",\"domain\":[0.0,1.0],\"title\":{\"text\":\"explained_variance\"}},\"legend\":{\"tracegroupgap\":0},\"margin\":{\"t\":60},\"barmode\":\"relative\",\"height\":400,\"width\":800},                        {\"responsive\": true}                    ).then(function(){\n",
       "                            \n",
       "var gd = document.getElementById('ce4899bd-a6d4-412a-a26b-fd9e12cc47b0');\n",
       "var x = new MutationObserver(function (mutations, observer) {{\n",
       "        var display = window.getComputedStyle(gd).display;\n",
       "        if (!display || display === 'none') {{\n",
       "            console.log([gd, 'removed!']);\n",
       "            Plotly.purge(gd);\n",
       "            observer.disconnect();\n",
       "        }}\n",
       "}});\n",
       "\n",
       "// Listen for the removal of the full notebook cells\n",
       "var notebookContainer = gd.closest('#notebook-container');\n",
       "if (notebookContainer) {{\n",
       "    x.observe(notebookContainer, {childList: true});\n",
       "}}\n",
       "\n",
       "// Listen for the clearing of the current output cell\n",
       "var outputEl = gd.closest('.output');\n",
       "if (outputEl) {{\n",
       "    x.observe(outputEl, {childList: true});\n",
       "}}\n",
       "\n",
       "                        })                };                });            </script>        </div>"
      ]
     },
     "metadata": {},
     "output_type": "display_data"
    },
    {
     "data": {
      "application/vnd.plotly.v1+json": {
       "config": {
        "plotlyServerURL": "https://plot.ly"
       },
       "data": [
        {
         "customdata": [
          [
           "Tiefora_v_Ngousso",
           "Burkina Faso",
           "rnaseq"
          ],
          [
           "Ban_v_BanS",
           "Burkina Faso",
           "rnaseq"
          ],
          [
           "BanRe_v_BanS",
           "Burkina Faso",
           "rnaseq"
          ],
          [
           "VK7_v_Kisumu",
           "Burkina Faso",
           "rnaseq"
          ],
          [
           "Cameroon_v_Ngousso",
           "Cameroon",
           "rnaseq"
          ],
          [
           "Chad_v_Ngousso",
           "Chad",
           "rnaseq"
          ],
          [
           "Niger_v_Ngousso",
           "Niger",
           "rnaseq"
          ],
          [
           "Nigeria_v_Ngousso",
           "Nigeria",
           "rnaseq"
          ],
          [
           "Agboville_v_Mali",
           "Cote d'Ivoire",
           "rnaseq"
          ],
          [
           "Agboville_v_Ngousso",
           "Cote d'Ivoire",
           "rnaseq"
          ],
          [
           "Dabou_v_Mali",
           "Cote d'Ivoire",
           "rnaseq"
          ],
          [
           "Dabou_v_Ngousso",
           "Cote d'Ivoire",
           "rnaseq"
          ],
          [
           "Tiassale_v_Mali",
           "Cote d'Ivoire",
           "rnaseq"
          ],
          [
           "Tiassale_v_Ngousso",
           "Cote d'Ivoire",
           "rnaseq"
          ],
          [
           "Bouake_colu_unexp_v_Ngousso",
           "Cote d'Ivoire",
           "rnaseq"
          ],
          [
           "Garre",
           "Cameroon",
           "microarray"
          ],
          [
           "Messa",
           "Cameroon",
           "microarray"
          ],
          [
           "Bioko",
           "Equatorial Guinea",
           "microarray"
          ],
          [
           "Bouake",
           "Cote d'Ivoire",
           "microarray"
          ],
          [
           "MBe",
           "Cote d'Ivoire",
           "microarray"
          ],
          [
           "Tiassale",
           "Cote d'Ivoire",
           "microarray"
          ],
          [
           "VK6",
           "Burkina Faso",
           "microarray"
          ],
          [
           "Banfora",
           "Burkina Faso",
           "microarray"
          ],
          [
           "Tengrela",
           "Burkina Faso",
           "microarray"
          ],
          [
           "VK72012",
           "Burkina Faso",
           "microarray"
          ],
          [
           "VK72011",
           "Burkina Faso",
           "microarray"
          ],
          [
           "TiassaleMali",
           "Cote d'Ivoire",
           "microarray"
          ],
          [
           "TiassaleOkyero",
           "Cote d'Ivoire",
           "microarray"
          ],
          [
           "Tiassale2011",
           "Cote d'Ivoire",
           "microarray"
          ],
          [
           "KovieOkyero",
           "Togo",
           "microarray"
          ],
          [
           "KovieMalanville",
           "Togo",
           "microarray"
          ]
         ],
         "hovertemplate": "species=coluzzii<br>PC1  - variance explained: 0.17=%{x}<br>PC2  - variance explained: 0.1=%{y}<br>comparison=%{customdata[0]}<br>country=%{customdata[1]}<br>technology=%{customdata[2]}<extra></extra>",
         "legendgroup": "coluzzii",
         "marker": {
          "color": "#1F77B4",
          "symbol": "circle"
         },
         "mode": "markers",
         "name": "coluzzii",
         "orientation": "v",
         "showlegend": true,
         "type": "scatter",
         "x": [
          6.204353350397226,
          1.7323535061221758,
          -30.162985453192814,
          -1.0011828108845848,
          -24.965851149309298,
          -33.99577717481933,
          -30.360728150173763,
          -36.07495010102085,
          23.11631291620648,
          66.0821364711729,
          31.123827927991194,
          74.03139525002231,
          35.25447056154217,
          77.80562556386722,
          14.766011494212822,
          -2.3740827627608643,
          -10.553217508360976,
          -16.9142462422868,
          -0.50289125250941,
          2.6452452068025103,
          -1.882037219671526,
          8.333032448582012,
          -5.372889573502812,
          -1.605122954977162,
          -14.680733954151929,
          -11.48307142994454,
          2.3033594771440873,
          -2.9672588239472115,
          9.479570465757426,
          -21.579454933755837,
          -24.426655440496766
         ],
         "xaxis": "x",
         "y": [
          -3.1903571439329212,
          -3.954291831811287,
          -3.165336741216304,
          -8.231202485550032,
          26.371511191506258,
          42.950733177484096,
          61.25891814489237,
          62.06422721448402,
          -28.302929763589646,
          5.826645781668804,
          -18.275303020972093,
          15.76793893208493,
          -18.4113180315906,
          15.72706778142332,
          1.7747514594644747,
          -5.636742534641873,
          -23.441182972874117,
          -6.376427934619264,
          -0.47476316409499664,
          8.578455953974855,
          7.537895903599885,
          -6.629686602064273,
          -4.765829504668636,
          12.397457443183331,
          -7.729254169659191,
          8.526843389809187,
          4.239137788358881,
          -8.704259441325746,
          -10.208765072751909,
          -6.988005205794042,
          -14.2460758857018
         ],
         "yaxis": "y"
        },
        {
         "customdata": [
          [
           "Gou_v_Moz",
           "Burkina Faso",
           "rnaseq"
          ],
          [
           "Asendabo_v_Moz",
           "Ethiopia",
           "rnaseq"
          ],
          [
           "Chewaka_v_Moz",
           "Ethiopia",
           "rnaseq"
          ],
          [
           "Tolay_v_Moz",
           "Ethiopia",
           "rnaseq"
          ],
          [
           "Ethiopia_v_Dongola",
           "Ethiopia",
           "rnaseq"
          ],
          [
           "PembaMoz",
           "Tanzania",
           "microarray"
          ],
          [
           "PembaUnguja",
           "Tanzania",
           "microarray"
          ],
          [
           "PembaDar",
           "Tanzania",
           "microarray"
          ],
          [
           "WadMedani",
           "Sudan",
           "microarray"
          ],
          [
           "JinjaMoz",
           "Uganda",
           "microarray"
          ],
          [
           "JinjaDong",
           "Uganda",
           "microarray"
          ],
          [
           "DSSBA",
           "Burkina Faso",
           "microarray"
          ],
          [
           "Hai",
           "Tanzania",
           "microarray"
          ],
          [
           "Muheza",
           "Tanzania",
           "microarray"
          ],
          [
           "Dar",
           "Tanzania",
           "microarray"
          ]
         ],
         "hovertemplate": "species=arabiensis<br>PC1  - variance explained: 0.17=%{x}<br>PC2  - variance explained: 0.1=%{y}<br>comparison=%{customdata[0]}<br>country=%{customdata[1]}<br>technology=%{customdata[2]}<extra></extra>",
         "legendgroup": "arabiensis",
         "marker": {
          "color": "#FF7F0E",
          "symbol": "circle"
         },
         "mode": "markers",
         "name": "arabiensis",
         "orientation": "v",
         "showlegend": true,
         "type": "scatter",
         "x": [
          1.7791624648130229,
          1.432753840662533,
          2.113127781543572,
          8.879442970714313,
          6.705602380324824,
          -9.487148277943911,
          -11.94765448310794,
          -9.106259064660028,
          -8.061796937615538,
          0.01733287992242063,
          11.543694012954445,
          14.240207747817735,
          25.272020948278026,
          0.08417424048533706,
          15.676177824341991
         ],
         "xaxis": "x",
         "y": [
          16.744315510380346,
          6.369625474768084,
          -3.598545737138912,
          5.066829974467098,
          22.024663273050006,
          3.0893623398164616,
          -1.8469689213559681,
          4.526630015777625,
          -17.872009971686122,
          5.784011487524718,
          1.3019186060178358,
          -5.337847016905396,
          9.001909634070133,
          -9.244278841698636,
          -1.6198785447123865
         ],
         "yaxis": "y"
        },
        {
         "customdata": [
          [
           "Bak_v_Kisumu",
           "Burkina Faso",
           "rnaseq"
          ],
          [
           "Bouake_gamb_unexp_v_Kisumu",
           "Cote d'Ivoire",
           "rnaseq"
          ],
          [
           "BusiaSurvivors_v_Kisumu",
           "Uganda",
           "rnaseq"
          ],
          [
           "Nkolondom",
           "Cameroon",
           "microarray"
          ],
          [
           "Kitwe",
           "Zambia",
           "microarray"
          ],
          [
           "Tiefora13",
           "Burkina Faso",
           "microarray"
          ],
          [
           "Tiefora14",
           "Burkina Faso",
           "microarray"
          ],
          [
           "Youande",
           "Cameroon",
           "microarray"
          ]
         ],
         "hovertemplate": "species=gambiae<br>PC1  - variance explained: 0.17=%{x}<br>PC2  - variance explained: 0.1=%{y}<br>comparison=%{customdata[0]}<br>country=%{customdata[1]}<br>technology=%{customdata[2]}<extra></extra>",
         "legendgroup": "gambiae",
         "marker": {
          "color": "#2CA02C",
          "symbol": "circle"
         },
         "mode": "markers",
         "name": "gambiae",
         "orientation": "v",
         "showlegend": true,
         "type": "scatter",
         "x": [
          4.811283210448655,
          10.509655459244193,
          -57.25705957019543,
          18.106378601259042,
          -2.0168252840517886,
          11.163849841917632,
          5.114504197984673,
          4.757471879887782
         ],
         "xaxis": "x",
         "y": [
          -3.4480213306505227,
          -9.617385646973922,
          4.145822351341032,
          3.6169581221952414,
          -15.509547043292763,
          25.935616727874045,
          26.13431289084531,
          -7.446007779800383
         ],
         "yaxis": "y"
        },
        {
         "customdata": [
          [
           "Cam_fun_v_Fang",
           "Cameroon",
           "rnaseq"
          ],
          [
           "Fumoz_v_Fang",
           "Mozambique",
           "rnaseq"
          ],
          [
           "Ghana_fun_v_Fang",
           "Ghana",
           "rnaseq"
          ],
          [
           "Malawi_fun_v_Fang",
           "Malawi",
           "rnaseq"
          ],
          [
           "Uganda_fun_v_Fang",
           "Uganda",
           "rnaseq"
          ]
         ],
         "hovertemplate": "species=funestus<br>PC1  - variance explained: 0.17=%{x}<br>PC2  - variance explained: 0.1=%{y}<br>comparison=%{customdata[0]}<br>country=%{customdata[1]}<br>technology=%{customdata[2]}<extra></extra>",
         "legendgroup": "funestus",
         "marker": {
          "color": "#D62728",
          "symbol": "circle"
         },
         "mode": "markers",
         "name": "funestus",
         "orientation": "v",
         "showlegend": true,
         "type": "scatter",
         "x": [
          -29.069480851149855,
          -24.676342229152052,
          -22.68139385509669,
          -21.094993724010838,
          -28.782443709670236
         ],
         "xaxis": "x",
         "y": [
          -27.29750973579167,
          -28.298083964141604,
          -31.88537717314838,
          -32.066592419333894,
          -32.94377493657312
         ],
         "yaxis": "y"
        }
       ],
       "layout": {
        "height": 600,
        "legend": {
         "title": {
          "text": "species"
         },
         "tracegroupgap": 0
        },
        "margin": {
         "t": 60
        },
        "template": {
         "data": {
          "bar": [
           {
            "error_x": {
             "color": "rgb(36,36,36)"
            },
            "error_y": {
             "color": "rgb(36,36,36)"
            },
            "marker": {
             "line": {
              "color": "white",
              "width": 0.5
             },
             "pattern": {
              "fillmode": "overlay",
              "size": 10,
              "solidity": 0.2
             }
            },
            "type": "bar"
           }
          ],
          "barpolar": [
           {
            "marker": {
             "line": {
              "color": "white",
              "width": 0.5
             },
             "pattern": {
              "fillmode": "overlay",
              "size": 10,
              "solidity": 0.2
             }
            },
            "type": "barpolar"
           }
          ],
          "carpet": [
           {
            "aaxis": {
             "endlinecolor": "rgb(36,36,36)",
             "gridcolor": "white",
             "linecolor": "white",
             "minorgridcolor": "white",
             "startlinecolor": "rgb(36,36,36)"
            },
            "baxis": {
             "endlinecolor": "rgb(36,36,36)",
             "gridcolor": "white",
             "linecolor": "white",
             "minorgridcolor": "white",
             "startlinecolor": "rgb(36,36,36)"
            },
            "type": "carpet"
           }
          ],
          "choropleth": [
           {
            "colorbar": {
             "outlinewidth": 1,
             "tickcolor": "rgb(36,36,36)",
             "ticks": "outside"
            },
            "type": "choropleth"
           }
          ],
          "contour": [
           {
            "colorbar": {
             "outlinewidth": 1,
             "tickcolor": "rgb(36,36,36)",
             "ticks": "outside"
            },
            "colorscale": [
             [
              0,
              "#440154"
             ],
             [
              0.1111111111111111,
              "#482878"
             ],
             [
              0.2222222222222222,
              "#3e4989"
             ],
             [
              0.3333333333333333,
              "#31688e"
             ],
             [
              0.4444444444444444,
              "#26828e"
             ],
             [
              0.5555555555555556,
              "#1f9e89"
             ],
             [
              0.6666666666666666,
              "#35b779"
             ],
             [
              0.7777777777777778,
              "#6ece58"
             ],
             [
              0.8888888888888888,
              "#b5de2b"
             ],
             [
              1,
              "#fde725"
             ]
            ],
            "type": "contour"
           }
          ],
          "contourcarpet": [
           {
            "colorbar": {
             "outlinewidth": 1,
             "tickcolor": "rgb(36,36,36)",
             "ticks": "outside"
            },
            "type": "contourcarpet"
           }
          ],
          "heatmap": [
           {
            "colorbar": {
             "outlinewidth": 1,
             "tickcolor": "rgb(36,36,36)",
             "ticks": "outside"
            },
            "colorscale": [
             [
              0,
              "#440154"
             ],
             [
              0.1111111111111111,
              "#482878"
             ],
             [
              0.2222222222222222,
              "#3e4989"
             ],
             [
              0.3333333333333333,
              "#31688e"
             ],
             [
              0.4444444444444444,
              "#26828e"
             ],
             [
              0.5555555555555556,
              "#1f9e89"
             ],
             [
              0.6666666666666666,
              "#35b779"
             ],
             [
              0.7777777777777778,
              "#6ece58"
             ],
             [
              0.8888888888888888,
              "#b5de2b"
             ],
             [
              1,
              "#fde725"
             ]
            ],
            "type": "heatmap"
           }
          ],
          "heatmapgl": [
           {
            "colorbar": {
             "outlinewidth": 1,
             "tickcolor": "rgb(36,36,36)",
             "ticks": "outside"
            },
            "colorscale": [
             [
              0,
              "#440154"
             ],
             [
              0.1111111111111111,
              "#482878"
             ],
             [
              0.2222222222222222,
              "#3e4989"
             ],
             [
              0.3333333333333333,
              "#31688e"
             ],
             [
              0.4444444444444444,
              "#26828e"
             ],
             [
              0.5555555555555556,
              "#1f9e89"
             ],
             [
              0.6666666666666666,
              "#35b779"
             ],
             [
              0.7777777777777778,
              "#6ece58"
             ],
             [
              0.8888888888888888,
              "#b5de2b"
             ],
             [
              1,
              "#fde725"
             ]
            ],
            "type": "heatmapgl"
           }
          ],
          "histogram": [
           {
            "marker": {
             "line": {
              "color": "white",
              "width": 0.6
             }
            },
            "type": "histogram"
           }
          ],
          "histogram2d": [
           {
            "colorbar": {
             "outlinewidth": 1,
             "tickcolor": "rgb(36,36,36)",
             "ticks": "outside"
            },
            "colorscale": [
             [
              0,
              "#440154"
             ],
             [
              0.1111111111111111,
              "#482878"
             ],
             [
              0.2222222222222222,
              "#3e4989"
             ],
             [
              0.3333333333333333,
              "#31688e"
             ],
             [
              0.4444444444444444,
              "#26828e"
             ],
             [
              0.5555555555555556,
              "#1f9e89"
             ],
             [
              0.6666666666666666,
              "#35b779"
             ],
             [
              0.7777777777777778,
              "#6ece58"
             ],
             [
              0.8888888888888888,
              "#b5de2b"
             ],
             [
              1,
              "#fde725"
             ]
            ],
            "type": "histogram2d"
           }
          ],
          "histogram2dcontour": [
           {
            "colorbar": {
             "outlinewidth": 1,
             "tickcolor": "rgb(36,36,36)",
             "ticks": "outside"
            },
            "colorscale": [
             [
              0,
              "#440154"
             ],
             [
              0.1111111111111111,
              "#482878"
             ],
             [
              0.2222222222222222,
              "#3e4989"
             ],
             [
              0.3333333333333333,
              "#31688e"
             ],
             [
              0.4444444444444444,
              "#26828e"
             ],
             [
              0.5555555555555556,
              "#1f9e89"
             ],
             [
              0.6666666666666666,
              "#35b779"
             ],
             [
              0.7777777777777778,
              "#6ece58"
             ],
             [
              0.8888888888888888,
              "#b5de2b"
             ],
             [
              1,
              "#fde725"
             ]
            ],
            "type": "histogram2dcontour"
           }
          ],
          "mesh3d": [
           {
            "colorbar": {
             "outlinewidth": 1,
             "tickcolor": "rgb(36,36,36)",
             "ticks": "outside"
            },
            "type": "mesh3d"
           }
          ],
          "parcoords": [
           {
            "line": {
             "colorbar": {
              "outlinewidth": 1,
              "tickcolor": "rgb(36,36,36)",
              "ticks": "outside"
             }
            },
            "type": "parcoords"
           }
          ],
          "pie": [
           {
            "automargin": true,
            "type": "pie"
           }
          ],
          "scatter": [
           {
            "fillpattern": {
             "fillmode": "overlay",
             "size": 10,
             "solidity": 0.2
            },
            "type": "scatter"
           }
          ],
          "scatter3d": [
           {
            "line": {
             "colorbar": {
              "outlinewidth": 1,
              "tickcolor": "rgb(36,36,36)",
              "ticks": "outside"
             }
            },
            "marker": {
             "colorbar": {
              "outlinewidth": 1,
              "tickcolor": "rgb(36,36,36)",
              "ticks": "outside"
             }
            },
            "type": "scatter3d"
           }
          ],
          "scattercarpet": [
           {
            "marker": {
             "colorbar": {
              "outlinewidth": 1,
              "tickcolor": "rgb(36,36,36)",
              "ticks": "outside"
             }
            },
            "type": "scattercarpet"
           }
          ],
          "scattergeo": [
           {
            "marker": {
             "colorbar": {
              "outlinewidth": 1,
              "tickcolor": "rgb(36,36,36)",
              "ticks": "outside"
             }
            },
            "type": "scattergeo"
           }
          ],
          "scattergl": [
           {
            "marker": {
             "colorbar": {
              "outlinewidth": 1,
              "tickcolor": "rgb(36,36,36)",
              "ticks": "outside"
             }
            },
            "type": "scattergl"
           }
          ],
          "scattermapbox": [
           {
            "marker": {
             "colorbar": {
              "outlinewidth": 1,
              "tickcolor": "rgb(36,36,36)",
              "ticks": "outside"
             }
            },
            "type": "scattermapbox"
           }
          ],
          "scatterpolar": [
           {
            "marker": {
             "colorbar": {
              "outlinewidth": 1,
              "tickcolor": "rgb(36,36,36)",
              "ticks": "outside"
             }
            },
            "type": "scatterpolar"
           }
          ],
          "scatterpolargl": [
           {
            "marker": {
             "colorbar": {
              "outlinewidth": 1,
              "tickcolor": "rgb(36,36,36)",
              "ticks": "outside"
             }
            },
            "type": "scatterpolargl"
           }
          ],
          "scatterternary": [
           {
            "marker": {
             "colorbar": {
              "outlinewidth": 1,
              "tickcolor": "rgb(36,36,36)",
              "ticks": "outside"
             }
            },
            "type": "scatterternary"
           }
          ],
          "surface": [
           {
            "colorbar": {
             "outlinewidth": 1,
             "tickcolor": "rgb(36,36,36)",
             "ticks": "outside"
            },
            "colorscale": [
             [
              0,
              "#440154"
             ],
             [
              0.1111111111111111,
              "#482878"
             ],
             [
              0.2222222222222222,
              "#3e4989"
             ],
             [
              0.3333333333333333,
              "#31688e"
             ],
             [
              0.4444444444444444,
              "#26828e"
             ],
             [
              0.5555555555555556,
              "#1f9e89"
             ],
             [
              0.6666666666666666,
              "#35b779"
             ],
             [
              0.7777777777777778,
              "#6ece58"
             ],
             [
              0.8888888888888888,
              "#b5de2b"
             ],
             [
              1,
              "#fde725"
             ]
            ],
            "type": "surface"
           }
          ],
          "table": [
           {
            "cells": {
             "fill": {
              "color": "rgb(237,237,237)"
             },
             "line": {
              "color": "white"
             }
            },
            "header": {
             "fill": {
              "color": "rgb(217,217,217)"
             },
             "line": {
              "color": "white"
             }
            },
            "type": "table"
           }
          ]
         },
         "layout": {
          "annotationdefaults": {
           "arrowhead": 0,
           "arrowwidth": 1
          },
          "autotypenumbers": "strict",
          "coloraxis": {
           "colorbar": {
            "outlinewidth": 1,
            "tickcolor": "rgb(36,36,36)",
            "ticks": "outside"
           }
          },
          "colorscale": {
           "diverging": [
            [
             0,
             "rgb(103,0,31)"
            ],
            [
             0.1,
             "rgb(178,24,43)"
            ],
            [
             0.2,
             "rgb(214,96,77)"
            ],
            [
             0.3,
             "rgb(244,165,130)"
            ],
            [
             0.4,
             "rgb(253,219,199)"
            ],
            [
             0.5,
             "rgb(247,247,247)"
            ],
            [
             0.6,
             "rgb(209,229,240)"
            ],
            [
             0.7,
             "rgb(146,197,222)"
            ],
            [
             0.8,
             "rgb(67,147,195)"
            ],
            [
             0.9,
             "rgb(33,102,172)"
            ],
            [
             1,
             "rgb(5,48,97)"
            ]
           ],
           "sequential": [
            [
             0,
             "#440154"
            ],
            [
             0.1111111111111111,
             "#482878"
            ],
            [
             0.2222222222222222,
             "#3e4989"
            ],
            [
             0.3333333333333333,
             "#31688e"
            ],
            [
             0.4444444444444444,
             "#26828e"
            ],
            [
             0.5555555555555556,
             "#1f9e89"
            ],
            [
             0.6666666666666666,
             "#35b779"
            ],
            [
             0.7777777777777778,
             "#6ece58"
            ],
            [
             0.8888888888888888,
             "#b5de2b"
            ],
            [
             1,
             "#fde725"
            ]
           ],
           "sequentialminus": [
            [
             0,
             "#440154"
            ],
            [
             0.1111111111111111,
             "#482878"
            ],
            [
             0.2222222222222222,
             "#3e4989"
            ],
            [
             0.3333333333333333,
             "#31688e"
            ],
            [
             0.4444444444444444,
             "#26828e"
            ],
            [
             0.5555555555555556,
             "#1f9e89"
            ],
            [
             0.6666666666666666,
             "#35b779"
            ],
            [
             0.7777777777777778,
             "#6ece58"
            ],
            [
             0.8888888888888888,
             "#b5de2b"
            ],
            [
             1,
             "#fde725"
            ]
           ]
          },
          "colorway": [
           "#1F77B4",
           "#FF7F0E",
           "#2CA02C",
           "#D62728",
           "#9467BD",
           "#8C564B",
           "#E377C2",
           "#7F7F7F",
           "#BCBD22",
           "#17BECF"
          ],
          "font": {
           "color": "rgb(36,36,36)"
          },
          "geo": {
           "bgcolor": "white",
           "lakecolor": "white",
           "landcolor": "white",
           "showlakes": true,
           "showland": true,
           "subunitcolor": "white"
          },
          "hoverlabel": {
           "align": "left"
          },
          "hovermode": "closest",
          "mapbox": {
           "style": "light"
          },
          "paper_bgcolor": "white",
          "plot_bgcolor": "white",
          "polar": {
           "angularaxis": {
            "gridcolor": "rgb(232,232,232)",
            "linecolor": "rgb(36,36,36)",
            "showgrid": false,
            "showline": true,
            "ticks": "outside"
           },
           "bgcolor": "white",
           "radialaxis": {
            "gridcolor": "rgb(232,232,232)",
            "linecolor": "rgb(36,36,36)",
            "showgrid": false,
            "showline": true,
            "ticks": "outside"
           }
          },
          "scene": {
           "xaxis": {
            "backgroundcolor": "white",
            "gridcolor": "rgb(232,232,232)",
            "gridwidth": 2,
            "linecolor": "rgb(36,36,36)",
            "showbackground": true,
            "showgrid": false,
            "showline": true,
            "ticks": "outside",
            "zeroline": false,
            "zerolinecolor": "rgb(36,36,36)"
           },
           "yaxis": {
            "backgroundcolor": "white",
            "gridcolor": "rgb(232,232,232)",
            "gridwidth": 2,
            "linecolor": "rgb(36,36,36)",
            "showbackground": true,
            "showgrid": false,
            "showline": true,
            "ticks": "outside",
            "zeroline": false,
            "zerolinecolor": "rgb(36,36,36)"
           },
           "zaxis": {
            "backgroundcolor": "white",
            "gridcolor": "rgb(232,232,232)",
            "gridwidth": 2,
            "linecolor": "rgb(36,36,36)",
            "showbackground": true,
            "showgrid": false,
            "showline": true,
            "ticks": "outside",
            "zeroline": false,
            "zerolinecolor": "rgb(36,36,36)"
           }
          },
          "shapedefaults": {
           "fillcolor": "black",
           "line": {
            "width": 0
           },
           "opacity": 0.3
          },
          "ternary": {
           "aaxis": {
            "gridcolor": "rgb(232,232,232)",
            "linecolor": "rgb(36,36,36)",
            "showgrid": false,
            "showline": true,
            "ticks": "outside"
           },
           "baxis": {
            "gridcolor": "rgb(232,232,232)",
            "linecolor": "rgb(36,36,36)",
            "showgrid": false,
            "showline": true,
            "ticks": "outside"
           },
           "bgcolor": "white",
           "caxis": {
            "gridcolor": "rgb(232,232,232)",
            "linecolor": "rgb(36,36,36)",
            "showgrid": false,
            "showline": true,
            "ticks": "outside"
           }
          },
          "title": {
           "x": 0.05
          },
          "xaxis": {
           "automargin": true,
           "gridcolor": "rgb(232,232,232)",
           "linecolor": "rgb(36,36,36)",
           "showgrid": false,
           "showline": true,
           "ticks": "outside",
           "title": {
            "standoff": 15
           },
           "zeroline": false,
           "zerolinecolor": "rgb(36,36,36)"
          },
          "yaxis": {
           "automargin": true,
           "gridcolor": "rgb(232,232,232)",
           "linecolor": "rgb(36,36,36)",
           "showgrid": false,
           "showline": true,
           "ticks": "outside",
           "title": {
            "standoff": 15
           },
           "zeroline": false,
           "zerolinecolor": "rgb(36,36,36)"
          }
         }
        },
        "width": 800,
        "xaxis": {
         "anchor": "y",
         "domain": [
          0,
          1
         ],
         "title": {
          "text": "PC1  - variance explained: 0.17"
         }
        },
        "yaxis": {
         "anchor": "x",
         "domain": [
          0,
          1
         ],
         "title": {
          "text": "PC2  - variance explained: 0.1"
         }
        }
       }
      },
      "text/html": [
       "<div>                            <div id=\"345ab06f-c3dd-4a49-adfa-ffc0f2dc5f3d\" class=\"plotly-graph-div\" style=\"height:600px; width:800px;\"></div>            <script type=\"text/javascript\">                require([\"plotly\"], function(Plotly) {                    window.PLOTLYENV=window.PLOTLYENV || {};                                    if (document.getElementById(\"345ab06f-c3dd-4a49-adfa-ffc0f2dc5f3d\")) {                    Plotly.newPlot(                        \"345ab06f-c3dd-4a49-adfa-ffc0f2dc5f3d\",                        [{\"customdata\":[[\"Tiefora_v_Ngousso\",\"Burkina Faso\",\"rnaseq\"],[\"Ban_v_BanS\",\"Burkina Faso\",\"rnaseq\"],[\"BanRe_v_BanS\",\"Burkina Faso\",\"rnaseq\"],[\"VK7_v_Kisumu\",\"Burkina Faso\",\"rnaseq\"],[\"Cameroon_v_Ngousso\",\"Cameroon\",\"rnaseq\"],[\"Chad_v_Ngousso\",\"Chad\",\"rnaseq\"],[\"Niger_v_Ngousso\",\"Niger\",\"rnaseq\"],[\"Nigeria_v_Ngousso\",\"Nigeria\",\"rnaseq\"],[\"Agboville_v_Mali\",\"Cote d'Ivoire\",\"rnaseq\"],[\"Agboville_v_Ngousso\",\"Cote d'Ivoire\",\"rnaseq\"],[\"Dabou_v_Mali\",\"Cote d'Ivoire\",\"rnaseq\"],[\"Dabou_v_Ngousso\",\"Cote d'Ivoire\",\"rnaseq\"],[\"Tiassale_v_Mali\",\"Cote d'Ivoire\",\"rnaseq\"],[\"Tiassale_v_Ngousso\",\"Cote d'Ivoire\",\"rnaseq\"],[\"Bouake_colu_unexp_v_Ngousso\",\"Cote d'Ivoire\",\"rnaseq\"],[\"Garre\",\"Cameroon\",\"microarray\"],[\"Messa\",\"Cameroon\",\"microarray\"],[\"Bioko\",\"Equatorial Guinea\",\"microarray\"],[\"Bouake\",\"Cote d'Ivoire\",\"microarray\"],[\"MBe\",\"Cote d'Ivoire\",\"microarray\"],[\"Tiassale\",\"Cote d'Ivoire\",\"microarray\"],[\"VK6\",\"Burkina Faso\",\"microarray\"],[\"Banfora\",\"Burkina Faso\",\"microarray\"],[\"Tengrela\",\"Burkina Faso\",\"microarray\"],[\"VK72012\",\"Burkina Faso\",\"microarray\"],[\"VK72011\",\"Burkina Faso\",\"microarray\"],[\"TiassaleMali\",\"Cote d'Ivoire\",\"microarray\"],[\"TiassaleOkyero\",\"Cote d'Ivoire\",\"microarray\"],[\"Tiassale2011\",\"Cote d'Ivoire\",\"microarray\"],[\"KovieOkyero\",\"Togo\",\"microarray\"],[\"KovieMalanville\",\"Togo\",\"microarray\"]],\"hovertemplate\":\"species=coluzzii<br>PC1  - variance explained: 0.17=%{x}<br>PC2  - variance explained: 0.1=%{y}<br>comparison=%{customdata[0]}<br>country=%{customdata[1]}<br>technology=%{customdata[2]}<extra></extra>\",\"legendgroup\":\"coluzzii\",\"marker\":{\"color\":\"#1F77B4\",\"symbol\":\"circle\"},\"mode\":\"markers\",\"name\":\"coluzzii\",\"orientation\":\"v\",\"showlegend\":true,\"x\":[6.204353350397226,1.7323535061221758,-30.162985453192814,-1.0011828108845848,-24.965851149309298,-33.99577717481933,-30.360728150173763,-36.07495010102085,23.11631291620648,66.0821364711729,31.123827927991194,74.03139525002231,35.25447056154217,77.80562556386722,14.766011494212822,-2.3740827627608643,-10.553217508360976,-16.9142462422868,-0.50289125250941,2.6452452068025103,-1.882037219671526,8.333032448582012,-5.372889573502812,-1.605122954977162,-14.680733954151929,-11.48307142994454,2.3033594771440873,-2.9672588239472115,9.479570465757426,-21.579454933755837,-24.426655440496766],\"xaxis\":\"x\",\"y\":[-3.1903571439329212,-3.954291831811287,-3.165336741216304,-8.231202485550032,26.371511191506258,42.950733177484096,61.25891814489237,62.06422721448402,-28.302929763589646,5.826645781668804,-18.275303020972093,15.76793893208493,-18.4113180315906,15.72706778142332,1.7747514594644747,-5.636742534641873,-23.441182972874117,-6.376427934619264,-0.47476316409499664,8.578455953974855,7.537895903599885,-6.629686602064273,-4.765829504668636,12.397457443183331,-7.729254169659191,8.526843389809187,4.239137788358881,-8.704259441325746,-10.208765072751909,-6.988005205794042,-14.2460758857018],\"yaxis\":\"y\",\"type\":\"scatter\"},{\"customdata\":[[\"Gou_v_Moz\",\"Burkina Faso\",\"rnaseq\"],[\"Asendabo_v_Moz\",\"Ethiopia\",\"rnaseq\"],[\"Chewaka_v_Moz\",\"Ethiopia\",\"rnaseq\"],[\"Tolay_v_Moz\",\"Ethiopia\",\"rnaseq\"],[\"Ethiopia_v_Dongola\",\"Ethiopia\",\"rnaseq\"],[\"PembaMoz\",\"Tanzania\",\"microarray\"],[\"PembaUnguja\",\"Tanzania\",\"microarray\"],[\"PembaDar\",\"Tanzania\",\"microarray\"],[\"WadMedani\",\"Sudan\",\"microarray\"],[\"JinjaMoz\",\"Uganda\",\"microarray\"],[\"JinjaDong\",\"Uganda\",\"microarray\"],[\"DSSBA\",\"Burkina Faso\",\"microarray\"],[\"Hai\",\"Tanzania\",\"microarray\"],[\"Muheza\",\"Tanzania\",\"microarray\"],[\"Dar\",\"Tanzania\",\"microarray\"]],\"hovertemplate\":\"species=arabiensis<br>PC1  - variance explained: 0.17=%{x}<br>PC2  - variance explained: 0.1=%{y}<br>comparison=%{customdata[0]}<br>country=%{customdata[1]}<br>technology=%{customdata[2]}<extra></extra>\",\"legendgroup\":\"arabiensis\",\"marker\":{\"color\":\"#FF7F0E\",\"symbol\":\"circle\"},\"mode\":\"markers\",\"name\":\"arabiensis\",\"orientation\":\"v\",\"showlegend\":true,\"x\":[1.7791624648130229,1.432753840662533,2.113127781543572,8.879442970714313,6.705602380324824,-9.487148277943911,-11.94765448310794,-9.106259064660028,-8.061796937615538,0.01733287992242063,11.543694012954445,14.240207747817735,25.272020948278026,0.08417424048533706,15.676177824341991],\"xaxis\":\"x\",\"y\":[16.744315510380346,6.369625474768084,-3.598545737138912,5.066829974467098,22.024663273050006,3.0893623398164616,-1.8469689213559681,4.526630015777625,-17.872009971686122,5.784011487524718,1.3019186060178358,-5.337847016905396,9.001909634070133,-9.244278841698636,-1.6198785447123865],\"yaxis\":\"y\",\"type\":\"scatter\"},{\"customdata\":[[\"Bak_v_Kisumu\",\"Burkina Faso\",\"rnaseq\"],[\"Bouake_gamb_unexp_v_Kisumu\",\"Cote d'Ivoire\",\"rnaseq\"],[\"BusiaSurvivors_v_Kisumu\",\"Uganda\",\"rnaseq\"],[\"Nkolondom\",\"Cameroon\",\"microarray\"],[\"Kitwe\",\"Zambia\",\"microarray\"],[\"Tiefora13\",\"Burkina Faso\",\"microarray\"],[\"Tiefora14\",\"Burkina Faso\",\"microarray\"],[\"Youande\",\"Cameroon\",\"microarray\"]],\"hovertemplate\":\"species=gambiae<br>PC1  - variance explained: 0.17=%{x}<br>PC2  - variance explained: 0.1=%{y}<br>comparison=%{customdata[0]}<br>country=%{customdata[1]}<br>technology=%{customdata[2]}<extra></extra>\",\"legendgroup\":\"gambiae\",\"marker\":{\"color\":\"#2CA02C\",\"symbol\":\"circle\"},\"mode\":\"markers\",\"name\":\"gambiae\",\"orientation\":\"v\",\"showlegend\":true,\"x\":[4.811283210448655,10.509655459244193,-57.25705957019543,18.106378601259042,-2.0168252840517886,11.163849841917632,5.114504197984673,4.757471879887782],\"xaxis\":\"x\",\"y\":[-3.4480213306505227,-9.617385646973922,4.145822351341032,3.6169581221952414,-15.509547043292763,25.935616727874045,26.13431289084531,-7.446007779800383],\"yaxis\":\"y\",\"type\":\"scatter\"},{\"customdata\":[[\"Cam_fun_v_Fang\",\"Cameroon\",\"rnaseq\"],[\"Fumoz_v_Fang\",\"Mozambique\",\"rnaseq\"],[\"Ghana_fun_v_Fang\",\"Ghana\",\"rnaseq\"],[\"Malawi_fun_v_Fang\",\"Malawi\",\"rnaseq\"],[\"Uganda_fun_v_Fang\",\"Uganda\",\"rnaseq\"]],\"hovertemplate\":\"species=funestus<br>PC1  - variance explained: 0.17=%{x}<br>PC2  - variance explained: 0.1=%{y}<br>comparison=%{customdata[0]}<br>country=%{customdata[1]}<br>technology=%{customdata[2]}<extra></extra>\",\"legendgroup\":\"funestus\",\"marker\":{\"color\":\"#D62728\",\"symbol\":\"circle\"},\"mode\":\"markers\",\"name\":\"funestus\",\"orientation\":\"v\",\"showlegend\":true,\"x\":[-29.069480851149855,-24.676342229152052,-22.68139385509669,-21.094993724010838,-28.782443709670236],\"xaxis\":\"x\",\"y\":[-27.29750973579167,-28.298083964141604,-31.88537717314838,-32.066592419333894,-32.94377493657312],\"yaxis\":\"y\",\"type\":\"scatter\"}],                        {\"template\":{\"data\":{\"barpolar\":[{\"marker\":{\"line\":{\"color\":\"white\",\"width\":0.5},\"pattern\":{\"fillmode\":\"overlay\",\"size\":10,\"solidity\":0.2}},\"type\":\"barpolar\"}],\"bar\":[{\"error_x\":{\"color\":\"rgb(36,36,36)\"},\"error_y\":{\"color\":\"rgb(36,36,36)\"},\"marker\":{\"line\":{\"color\":\"white\",\"width\":0.5},\"pattern\":{\"fillmode\":\"overlay\",\"size\":10,\"solidity\":0.2}},\"type\":\"bar\"}],\"carpet\":[{\"aaxis\":{\"endlinecolor\":\"rgb(36,36,36)\",\"gridcolor\":\"white\",\"linecolor\":\"white\",\"minorgridcolor\":\"white\",\"startlinecolor\":\"rgb(36,36,36)\"},\"baxis\":{\"endlinecolor\":\"rgb(36,36,36)\",\"gridcolor\":\"white\",\"linecolor\":\"white\",\"minorgridcolor\":\"white\",\"startlinecolor\":\"rgb(36,36,36)\"},\"type\":\"carpet\"}],\"choropleth\":[{\"colorbar\":{\"outlinewidth\":1,\"tickcolor\":\"rgb(36,36,36)\",\"ticks\":\"outside\"},\"type\":\"choropleth\"}],\"contourcarpet\":[{\"colorbar\":{\"outlinewidth\":1,\"tickcolor\":\"rgb(36,36,36)\",\"ticks\":\"outside\"},\"type\":\"contourcarpet\"}],\"contour\":[{\"colorbar\":{\"outlinewidth\":1,\"tickcolor\":\"rgb(36,36,36)\",\"ticks\":\"outside\"},\"colorscale\":[[0.0,\"#440154\"],[0.1111111111111111,\"#482878\"],[0.2222222222222222,\"#3e4989\"],[0.3333333333333333,\"#31688e\"],[0.4444444444444444,\"#26828e\"],[0.5555555555555556,\"#1f9e89\"],[0.6666666666666666,\"#35b779\"],[0.7777777777777778,\"#6ece58\"],[0.8888888888888888,\"#b5de2b\"],[1.0,\"#fde725\"]],\"type\":\"contour\"}],\"heatmapgl\":[{\"colorbar\":{\"outlinewidth\":1,\"tickcolor\":\"rgb(36,36,36)\",\"ticks\":\"outside\"},\"colorscale\":[[0.0,\"#440154\"],[0.1111111111111111,\"#482878\"],[0.2222222222222222,\"#3e4989\"],[0.3333333333333333,\"#31688e\"],[0.4444444444444444,\"#26828e\"],[0.5555555555555556,\"#1f9e89\"],[0.6666666666666666,\"#35b779\"],[0.7777777777777778,\"#6ece58\"],[0.8888888888888888,\"#b5de2b\"],[1.0,\"#fde725\"]],\"type\":\"heatmapgl\"}],\"heatmap\":[{\"colorbar\":{\"outlinewidth\":1,\"tickcolor\":\"rgb(36,36,36)\",\"ticks\":\"outside\"},\"colorscale\":[[0.0,\"#440154\"],[0.1111111111111111,\"#482878\"],[0.2222222222222222,\"#3e4989\"],[0.3333333333333333,\"#31688e\"],[0.4444444444444444,\"#26828e\"],[0.5555555555555556,\"#1f9e89\"],[0.6666666666666666,\"#35b779\"],[0.7777777777777778,\"#6ece58\"],[0.8888888888888888,\"#b5de2b\"],[1.0,\"#fde725\"]],\"type\":\"heatmap\"}],\"histogram2dcontour\":[{\"colorbar\":{\"outlinewidth\":1,\"tickcolor\":\"rgb(36,36,36)\",\"ticks\":\"outside\"},\"colorscale\":[[0.0,\"#440154\"],[0.1111111111111111,\"#482878\"],[0.2222222222222222,\"#3e4989\"],[0.3333333333333333,\"#31688e\"],[0.4444444444444444,\"#26828e\"],[0.5555555555555556,\"#1f9e89\"],[0.6666666666666666,\"#35b779\"],[0.7777777777777778,\"#6ece58\"],[0.8888888888888888,\"#b5de2b\"],[1.0,\"#fde725\"]],\"type\":\"histogram2dcontour\"}],\"histogram2d\":[{\"colorbar\":{\"outlinewidth\":1,\"tickcolor\":\"rgb(36,36,36)\",\"ticks\":\"outside\"},\"colorscale\":[[0.0,\"#440154\"],[0.1111111111111111,\"#482878\"],[0.2222222222222222,\"#3e4989\"],[0.3333333333333333,\"#31688e\"],[0.4444444444444444,\"#26828e\"],[0.5555555555555556,\"#1f9e89\"],[0.6666666666666666,\"#35b779\"],[0.7777777777777778,\"#6ece58\"],[0.8888888888888888,\"#b5de2b\"],[1.0,\"#fde725\"]],\"type\":\"histogram2d\"}],\"histogram\":[{\"marker\":{\"line\":{\"color\":\"white\",\"width\":0.6}},\"type\":\"histogram\"}],\"mesh3d\":[{\"colorbar\":{\"outlinewidth\":1,\"tickcolor\":\"rgb(36,36,36)\",\"ticks\":\"outside\"},\"type\":\"mesh3d\"}],\"parcoords\":[{\"line\":{\"colorbar\":{\"outlinewidth\":1,\"tickcolor\":\"rgb(36,36,36)\",\"ticks\":\"outside\"}},\"type\":\"parcoords\"}],\"pie\":[{\"automargin\":true,\"type\":\"pie\"}],\"scatter3d\":[{\"line\":{\"colorbar\":{\"outlinewidth\":1,\"tickcolor\":\"rgb(36,36,36)\",\"ticks\":\"outside\"}},\"marker\":{\"colorbar\":{\"outlinewidth\":1,\"tickcolor\":\"rgb(36,36,36)\",\"ticks\":\"outside\"}},\"type\":\"scatter3d\"}],\"scattercarpet\":[{\"marker\":{\"colorbar\":{\"outlinewidth\":1,\"tickcolor\":\"rgb(36,36,36)\",\"ticks\":\"outside\"}},\"type\":\"scattercarpet\"}],\"scattergeo\":[{\"marker\":{\"colorbar\":{\"outlinewidth\":1,\"tickcolor\":\"rgb(36,36,36)\",\"ticks\":\"outside\"}},\"type\":\"scattergeo\"}],\"scattergl\":[{\"marker\":{\"colorbar\":{\"outlinewidth\":1,\"tickcolor\":\"rgb(36,36,36)\",\"ticks\":\"outside\"}},\"type\":\"scattergl\"}],\"scattermapbox\":[{\"marker\":{\"colorbar\":{\"outlinewidth\":1,\"tickcolor\":\"rgb(36,36,36)\",\"ticks\":\"outside\"}},\"type\":\"scattermapbox\"}],\"scatterpolargl\":[{\"marker\":{\"colorbar\":{\"outlinewidth\":1,\"tickcolor\":\"rgb(36,36,36)\",\"ticks\":\"outside\"}},\"type\":\"scatterpolargl\"}],\"scatterpolar\":[{\"marker\":{\"colorbar\":{\"outlinewidth\":1,\"tickcolor\":\"rgb(36,36,36)\",\"ticks\":\"outside\"}},\"type\":\"scatterpolar\"}],\"scatter\":[{\"fillpattern\":{\"fillmode\":\"overlay\",\"size\":10,\"solidity\":0.2},\"type\":\"scatter\"}],\"scatterternary\":[{\"marker\":{\"colorbar\":{\"outlinewidth\":1,\"tickcolor\":\"rgb(36,36,36)\",\"ticks\":\"outside\"}},\"type\":\"scatterternary\"}],\"surface\":[{\"colorbar\":{\"outlinewidth\":1,\"tickcolor\":\"rgb(36,36,36)\",\"ticks\":\"outside\"},\"colorscale\":[[0.0,\"#440154\"],[0.1111111111111111,\"#482878\"],[0.2222222222222222,\"#3e4989\"],[0.3333333333333333,\"#31688e\"],[0.4444444444444444,\"#26828e\"],[0.5555555555555556,\"#1f9e89\"],[0.6666666666666666,\"#35b779\"],[0.7777777777777778,\"#6ece58\"],[0.8888888888888888,\"#b5de2b\"],[1.0,\"#fde725\"]],\"type\":\"surface\"}],\"table\":[{\"cells\":{\"fill\":{\"color\":\"rgb(237,237,237)\"},\"line\":{\"color\":\"white\"}},\"header\":{\"fill\":{\"color\":\"rgb(217,217,217)\"},\"line\":{\"color\":\"white\"}},\"type\":\"table\"}]},\"layout\":{\"annotationdefaults\":{\"arrowhead\":0,\"arrowwidth\":1},\"autotypenumbers\":\"strict\",\"coloraxis\":{\"colorbar\":{\"outlinewidth\":1,\"tickcolor\":\"rgb(36,36,36)\",\"ticks\":\"outside\"}},\"colorscale\":{\"diverging\":[[0.0,\"rgb(103,0,31)\"],[0.1,\"rgb(178,24,43)\"],[0.2,\"rgb(214,96,77)\"],[0.3,\"rgb(244,165,130)\"],[0.4,\"rgb(253,219,199)\"],[0.5,\"rgb(247,247,247)\"],[0.6,\"rgb(209,229,240)\"],[0.7,\"rgb(146,197,222)\"],[0.8,\"rgb(67,147,195)\"],[0.9,\"rgb(33,102,172)\"],[1.0,\"rgb(5,48,97)\"]],\"sequential\":[[0.0,\"#440154\"],[0.1111111111111111,\"#482878\"],[0.2222222222222222,\"#3e4989\"],[0.3333333333333333,\"#31688e\"],[0.4444444444444444,\"#26828e\"],[0.5555555555555556,\"#1f9e89\"],[0.6666666666666666,\"#35b779\"],[0.7777777777777778,\"#6ece58\"],[0.8888888888888888,\"#b5de2b\"],[1.0,\"#fde725\"]],\"sequentialminus\":[[0.0,\"#440154\"],[0.1111111111111111,\"#482878\"],[0.2222222222222222,\"#3e4989\"],[0.3333333333333333,\"#31688e\"],[0.4444444444444444,\"#26828e\"],[0.5555555555555556,\"#1f9e89\"],[0.6666666666666666,\"#35b779\"],[0.7777777777777778,\"#6ece58\"],[0.8888888888888888,\"#b5de2b\"],[1.0,\"#fde725\"]]},\"colorway\":[\"#1F77B4\",\"#FF7F0E\",\"#2CA02C\",\"#D62728\",\"#9467BD\",\"#8C564B\",\"#E377C2\",\"#7F7F7F\",\"#BCBD22\",\"#17BECF\"],\"font\":{\"color\":\"rgb(36,36,36)\"},\"geo\":{\"bgcolor\":\"white\",\"lakecolor\":\"white\",\"landcolor\":\"white\",\"showlakes\":true,\"showland\":true,\"subunitcolor\":\"white\"},\"hoverlabel\":{\"align\":\"left\"},\"hovermode\":\"closest\",\"mapbox\":{\"style\":\"light\"},\"paper_bgcolor\":\"white\",\"plot_bgcolor\":\"white\",\"polar\":{\"angularaxis\":{\"gridcolor\":\"rgb(232,232,232)\",\"linecolor\":\"rgb(36,36,36)\",\"showgrid\":false,\"showline\":true,\"ticks\":\"outside\"},\"bgcolor\":\"white\",\"radialaxis\":{\"gridcolor\":\"rgb(232,232,232)\",\"linecolor\":\"rgb(36,36,36)\",\"showgrid\":false,\"showline\":true,\"ticks\":\"outside\"}},\"scene\":{\"xaxis\":{\"backgroundcolor\":\"white\",\"gridcolor\":\"rgb(232,232,232)\",\"gridwidth\":2,\"linecolor\":\"rgb(36,36,36)\",\"showbackground\":true,\"showgrid\":false,\"showline\":true,\"ticks\":\"outside\",\"zeroline\":false,\"zerolinecolor\":\"rgb(36,36,36)\"},\"yaxis\":{\"backgroundcolor\":\"white\",\"gridcolor\":\"rgb(232,232,232)\",\"gridwidth\":2,\"linecolor\":\"rgb(36,36,36)\",\"showbackground\":true,\"showgrid\":false,\"showline\":true,\"ticks\":\"outside\",\"zeroline\":false,\"zerolinecolor\":\"rgb(36,36,36)\"},\"zaxis\":{\"backgroundcolor\":\"white\",\"gridcolor\":\"rgb(232,232,232)\",\"gridwidth\":2,\"linecolor\":\"rgb(36,36,36)\",\"showbackground\":true,\"showgrid\":false,\"showline\":true,\"ticks\":\"outside\",\"zeroline\":false,\"zerolinecolor\":\"rgb(36,36,36)\"}},\"shapedefaults\":{\"fillcolor\":\"black\",\"line\":{\"width\":0},\"opacity\":0.3},\"ternary\":{\"aaxis\":{\"gridcolor\":\"rgb(232,232,232)\",\"linecolor\":\"rgb(36,36,36)\",\"showgrid\":false,\"showline\":true,\"ticks\":\"outside\"},\"baxis\":{\"gridcolor\":\"rgb(232,232,232)\",\"linecolor\":\"rgb(36,36,36)\",\"showgrid\":false,\"showline\":true,\"ticks\":\"outside\"},\"bgcolor\":\"white\",\"caxis\":{\"gridcolor\":\"rgb(232,232,232)\",\"linecolor\":\"rgb(36,36,36)\",\"showgrid\":false,\"showline\":true,\"ticks\":\"outside\"}},\"title\":{\"x\":0.05},\"xaxis\":{\"automargin\":true,\"gridcolor\":\"rgb(232,232,232)\",\"linecolor\":\"rgb(36,36,36)\",\"showgrid\":false,\"showline\":true,\"ticks\":\"outside\",\"title\":{\"standoff\":15},\"zeroline\":false,\"zerolinecolor\":\"rgb(36,36,36)\"},\"yaxis\":{\"automargin\":true,\"gridcolor\":\"rgb(232,232,232)\",\"linecolor\":\"rgb(36,36,36)\",\"showgrid\":false,\"showline\":true,\"ticks\":\"outside\",\"title\":{\"standoff\":15},\"zeroline\":false,\"zerolinecolor\":\"rgb(36,36,36)\"}}},\"xaxis\":{\"anchor\":\"y\",\"domain\":[0.0,1.0],\"title\":{\"text\":\"PC1  - variance explained: 0.17\"}},\"yaxis\":{\"anchor\":\"x\",\"domain\":[0.0,1.0],\"title\":{\"text\":\"PC2  - variance explained: 0.1\"}},\"legend\":{\"title\":{\"text\":\"species\"},\"tracegroupgap\":0},\"margin\":{\"t\":60},\"height\":600,\"width\":800},                        {\"responsive\": true}                    ).then(function(){\n",
       "                            \n",
       "var gd = document.getElementById('345ab06f-c3dd-4a49-adfa-ffc0f2dc5f3d');\n",
       "var x = new MutationObserver(function (mutations, observer) {{\n",
       "        var display = window.getComputedStyle(gd).display;\n",
       "        if (!display || display === 'none') {{\n",
       "            console.log([gd, 'removed!']);\n",
       "            Plotly.purge(gd);\n",
       "            observer.disconnect();\n",
       "        }}\n",
       "}});\n",
       "\n",
       "// Listen for the removal of the full notebook cells\n",
       "var notebookContainer = gd.closest('#notebook-container');\n",
       "if (notebookContainer) {{\n",
       "    x.observe(notebookContainer, {childList: true});\n",
       "}}\n",
       "\n",
       "// Listen for the clearing of the current output cell\n",
       "var outputEl = gd.closest('.output');\n",
       "if (outputEl) {{\n",
       "    x.observe(outputEl, {childList: true});\n",
       "}}\n",
       "\n",
       "                        })                };                });            </script>        </div>"
      ]
     },
     "metadata": {},
     "output_type": "display_data"
    }
   ],
   "source": [
    "pca(analysis='gamb_colu_arab_fun', data_type='fcs', microarray=True)"
   ]
  },
  {
   "cell_type": "code",
   "execution_count": null,
   "metadata": {},
   "outputs": [],
   "source": [
    "pca(analysis='gamb_colu_arab_fun', data_type='fcs', microarray=True, x='PC3', y='PC4')"
   ]
  }
 ],
 "metadata": {
  "colab": {
   "include_colab_link": true,
   "provenance": []
  },
  "gpuClass": "standard",
  "kernelspec": {
   "display_name": "Python 3 (ipykernel)",
   "language": "python",
   "name": "python3"
  },
  "language_info": {
   "codemirror_mode": {
    "name": "ipython",
    "version": 3
   },
   "file_extension": ".py",
   "mimetype": "text/x-python",
   "name": "python",
   "nbconvert_exporter": "python",
   "pygments_lexer": "ipython3",
   "version": "3.10.10"
  }
 },
 "nbformat": 4,
 "nbformat_minor": 1
}
