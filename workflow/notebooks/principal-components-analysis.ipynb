{
 "cells": [
  {
   "cell_type": "markdown",
   "metadata": {
    "colab_type": "text",
    "id": "view-in-github"
   },
   "source": [
    "<a href=\"https://colab.research.google.com/github/sanjaynagi/AnoExpressIR/blob/main/workflow/notebooks/misc/pca-count-data.ipynb\" target=\"_parent\"><img src=\"https://colab.research.google.com/assets/colab-badge.svg\" alt=\"Open In Colab\"/></a>"
   ]
  },
  {
   "cell_type": "code",
   "execution_count": null,
   "metadata": {},
   "outputs": [],
   "source": [
    "#!pip install anoexpress -q "
   ]
  },
  {
   "cell_type": "code",
   "execution_count": null,
   "metadata": {
    "id": "Az2nLmd3VGpx"
   },
   "outputs": [],
   "source": [
    "import anoexpress as xpress\n",
    "import pandas as pd\n",
    "import numpy as np\n",
    "import plotly.express as px"
   ]
  },
  {
   "cell_type": "markdown",
   "metadata": {
    "id": "oBm76PlYASKB"
   },
   "source": [
    "# Principal components analysis\n",
    "\n",
    "In this notebook, we perform principal components analysis to explore overall structure across the count and fold change data. "
   ]
  },
  {
   "cell_type": "code",
   "execution_count": null,
   "metadata": {
    "id": "4mwawklRH1qb"
   },
   "outputs": [],
   "source": [
    "def pca(analysis, data_type='log2counts', x=\"PC1\", y=\"PC2\", microarray=False):\n",
    "    from sklearn.decomposition import PCA\n",
    "\n",
    "    res_data = xpress.data(analysis=analysis, data_type=data_type, microarray=microarray)\n",
    "    \n",
    "    assert data_type in ['fcs', 'log2counts']\n",
    "    if data_type == 'fcs':\n",
    "        metadata = xpress.metadata(analysis=analysis, microarray=microarray)\n",
    "        hover_data = ['comparison', 'country', 'technology']\n",
    "        res_data = res_data.set_index(['GeneID', 'GeneName']).dropna()\n",
    "    elif data_type == 'log2counts':\n",
    "        metadata = xpress.sample_metadata(analysis=analysis)\n",
    "        hover_data = ['condition', 'resistance']\n",
    "        res_data = res_data.set_index('GeneID')\n",
    "\n",
    "    pca = PCA(n_components=6)\n",
    "    principalComponents = pca.fit_transform(res_data.T)\n",
    "    pc = pd.DataFrame(data = principalComponents, columns = ['PC1', 'PC2', 'PC3', 'PC4', 'PC5', 'PC6'])\n",
    "    pca_df = pd.concat([metadata, pc], axis=1)\n",
    "    fig = px.scatter(data_frame=pca_df, x=x, y=y, color='species', hover_data = hover_data, template=\"ggplot2\", width=800, height=600)\n",
    "\n",
    "    pc_df = pd.DataFrame({'PC':['PC1', 'PC2', 'PC3', 'PC4', 'PC5', 'PC6'], \n",
    "              'explained_variance':pca.explained_variance_ratio_})\n",
    "\n",
    "    var_fig=px.bar(pc_df, x='PC', y='explained_variance', width=800, height=400)  \n",
    "    var_fig.show()\n",
    "    return(fig)"
   ]
  },
  {
   "cell_type": "markdown",
   "metadata": {
    "id": "cPZja7V7xiuF"
   },
   "source": [
    "### PCA on count data\n",
    "#### PC1 V PC2"
   ]
  },
  {
   "cell_type": "code",
   "execution_count": null,
   "metadata": {
    "colab": {
     "base_uri": "https://localhost:8080/",
     "height": 1000
    },
    "id": "LMgyhUOggLJl",
    "outputId": "e7a3eced-87e9-44e6-cae5-a2c529e1bf6c"
   },
   "outputs": [],
   "source": [
    "pca(analysis='gamb_colu_arab_fun', data_type='log2counts', x='PC1', y='PC2')"
   ]
  },
  {
   "cell_type": "markdown",
   "metadata": {
    "id": "TWqLAFZGwxGA"
   },
   "source": [
    "#### PC3 vc PC4"
   ]
  },
  {
   "cell_type": "code",
   "execution_count": null,
   "metadata": {
    "colab": {
     "base_uri": "https://localhost:8080/",
     "height": 1000
    },
    "id": "Z5LHyOFDwqux",
    "outputId": "3ae13a63-7fdd-44d6-b1e7-d4418198f57b"
   },
   "outputs": [],
   "source": [
    "pca(analysis='gamb_colu_arab_fun', data_type='log2counts', x='PC3', y=\"PC4\")"
   ]
  },
  {
   "cell_type": "markdown",
   "metadata": {},
   "source": [
    "### PCA on Fold change data"
   ]
  },
  {
   "cell_type": "code",
   "execution_count": null,
   "metadata": {},
   "outputs": [],
   "source": [
    "pca(analysis='gamb_colu_arab_fun', data_type='fcs', microarray=True)"
   ]
  },
  {
   "cell_type": "code",
   "execution_count": null,
   "metadata": {},
   "outputs": [],
   "source": [
    "pca(analysis='gamb_colu_arab_fun', data_type='fcs', microarray=True, x='PC3', y='PC4')"
   ]
  }
 ],
 "metadata": {
  "colab": {
   "include_colab_link": true,
   "provenance": []
  },
  "gpuClass": "standard",
  "kernelspec": {
   "display_name": "Python 3 (ipykernel)",
   "language": "python",
   "name": "python3"
  },
  "language_info": {
   "codemirror_mode": {
    "name": "ipython",
    "version": 3
   },
   "file_extension": ".py",
   "mimetype": "text/x-python",
   "name": "python",
   "nbconvert_exporter": "python",
   "pygments_lexer": "ipython3",
   "version": "3.10.10"
  }
 },
 "nbformat": 4,
 "nbformat_minor": 1
}
