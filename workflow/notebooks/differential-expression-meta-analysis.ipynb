{
  "nbformat": 4,
  "nbformat_minor": 0,
  "metadata": {
    "colab": {
      "provenance": [],
      "authorship_tag": "ABX9TyNvheDHpizoW314Fm/cuodU",
      "include_colab_link": true
    },
    "kernelspec": {
      "name": "ir",
      "display_name": "R"
    },
    "language_info": {
      "name": "R"
    }
  },
  "cells": [
    {
      "cell_type": "markdown",
      "metadata": {
        "id": "view-in-github",
        "colab_type": "text"
      },
      "source": [
        "<a href=\"https://colab.research.google.com/github/sanjaynagi/AnoExpress/blob/main/workflow/notebooks/differential-expression-meta-analysis.ipynb\" target=\"_parent\"><img src=\"https://colab.research.google.com/assets/colab-badge.svg\" alt=\"Open In Colab\"/></a>"
      ]
    },
    {
      "cell_type": "code",
      "source": [
        "if (!require(\"BiocManager\", quietly = TRUE))\n",
        "    install.packages(\"BiocManager\")\n",
        "\n",
        "BiocManager::install(\"DESeq2\")\n",
        "\n",
        "install.packages(c(\"pheatmap\", \"data.table\", \"ggrepel\", \"openxlsx\", \"tidyverse\", \"plotly\", \"RColorBrewer\"))"
      ],
      "metadata": {
        "id": "Y2oEs5J6XPJA"
      },
      "execution_count": null,
      "outputs": []
    },
    {
      "cell_type": "code",
      "source": [
        "library(DESeq2)\n",
        "library(pheatmap)\n",
        "library(data.table)\n",
        "library(ggrepel)\n",
        "library(openxlsx)\n",
        "library(glue)\n",
        "library(RColorBrewer)\n",
        "library(tidyverse)\n",
        "library(plotly)"
      ],
      "metadata": {
        "id": "NlVr0JHcw7Cz"
      },
      "execution_count": 9,
      "outputs": []
    },
    {
      "cell_type": "markdown",
      "source": [
        "## AnoExpress - Differential expression meta-analysis with DESeq2\n",
        "In this notebook, we perform the differential expression analysis for AnoExpress."
      ],
      "metadata": {
        "id": "pr9o9vgsa-pm"
      }
    },
    {
      "cell_type": "code",
      "source": [
        "dir.create(\"results/genediff\", recursive=TRUE)"
      ],
      "metadata": {
        "colab": {
          "base_uri": "https://localhost:8080/"
        },
        "id": "6ppADEcHkndP",
        "outputId": "514b8a1b-41db-447f-c6df-0eed8dc4f828"
      },
      "execution_count": 10,
      "outputs": [
        {
          "output_type": "stream",
          "name": "stderr",
          "text": [
            "Warning message in dir.create(\"results/genediff\", recursive = TRUE):\n",
            "“'results/genediff' already exists”\n"
          ]
        }
      ]
    },
    {
      "cell_type": "code",
      "source": [
        "round_df = function(df, digits) {\n",
        "  #' This function rounds all the numeric columns of a data.frame\n",
        "  nums = vapply(df, is.numeric, FUN.VALUE = logical(1))\n",
        "  df[,nums] = round(df[,nums], digits = digits)\n",
        "  (df)\n",
        "}\n",
        "\n",
        "diff_exp = function(analysis, names_df){\n",
        "  # this function runs the diff exp analysis for one AnoExpress analysis\n",
        "\n",
        "  results_list = list()\n",
        "  nsig_list = list()\n",
        "\n",
        "  # load metadata\n",
        "  metadata = fread(\"https://raw.githubusercontent.com/sanjaynagi/AnoExpress/main/config/sample_metadata.tsv\") %>% as.data.frame()\n",
        "  metadata[(metadata$batch == 1) &(metadata$species == 'arabiensis'), 'batch'] = 0\n",
        "  metadata$batch = factor(metadata$batch)\n",
        "\n",
        "  # load analysis\n",
        "  counts = fread(f(\"https://github.com/sanjaynagi/AnoExpress/raw/main/results/log2counts.{analysis}.tsv\"), sep=\"\\t\") %>%\n",
        "    as.data.frame() %>%\n",
        "    column_to_rownames(\"GeneID\") %>%\n",
        "    2^. %>%\n",
        "    mutate_if(is.numeric, as.integer)\n",
        "\n",
        "  # get boolean indexer for species depending on analysis\n",
        "  if (analysis == 'gamb_colu'){\n",
        "    sp_bool = metadata$species %in% c(\"gambiae\", \"coluzzii\")\n",
        "  } else if (analysis == 'gamb_colu_arab'){\n",
        "    sp_bool = metadata$species %in% c(\"gambiae\", \"coluzzii\", \"arabiensis\")\n",
        "  } else if (analysis == 'gamb_colu_arab_fun'){\n",
        "    sp_bool = metadata$species %in% c(\"gambiae\", \"coluzzii\", \"arabiensis\", \"funestus\")\n",
        "  } else if (analysis == 'fun'){\n",
        "    sp_bool = metadata$species == \"funestus\"\n",
        "  }\n",
        "\n",
        "  print(analysis)\n",
        "  # subset to analysis\n",
        "  meta = metadata[sp_bool, ]\n",
        "  print(dim(meta))\n",
        "  print(dim(counts))\n",
        "\n",
        "  # analyse each experiment separately\n",
        "  for (experiment in unique(meta$batch)){\n",
        "    if (experiment == 5){\n",
        "      next\n",
        "    }\n",
        "\n",
        "    # quit if shape of arrays incorrect\n",
        "    stopifnot(nrow(meta) == length(counts))\n",
        "\n",
        "    # subset to batch\n",
        "    meta2 = meta %>% filter(batch == experiment)\n",
        "    counts2 = counts[, meta2$sampleID]\n",
        "\n",
        "    # quit if order not correct\n",
        "    stopifnot(all(meta2$sampleID == colnames(counts2)))\n",
        "\n",
        "    # get res and sus for each comparison\n",
        "    resistants = unique(meta2[meta2$resistance == 'resistant',]$condition)\n",
        "    susceptibles = unique(meta2[meta2$resistance == 'susceptible',]$condition)\n",
        "    comparisons = crossing(resistants, susceptibles)\n",
        "    print(experiment)\n",
        "    print(as.data.frame(comparisons))\n",
        "\n",
        "    for (i in 1:nrow(comparisons)){\n",
        "      res = comparisons[i, 'resistants']\n",
        "      sus = comparisons[i, 'susceptibles']\n",
        "      comp = glue(\"{res}_v_{sus}\")\n",
        "      print(comp)\n",
        "\n",
        "      controls = which(meta2$condition %in% sus)\n",
        "      cases = which(meta2$condition %in% res)\n",
        "\n",
        "      idxs = c(controls, cases)\n",
        "      subcounts = counts2[, idxs]\n",
        "      subsamples = meta2[idxs,]\n",
        "\n",
        "      # make treatment a factor with the 'susceptible' as reference\n",
        "      subsamples$treatment = as.factor(subsamples$resistance)\n",
        "      subsamples$treatment = relevel(subsamples$treatment, \"susceptible\")\n",
        "\n",
        "      # make DESeq analysis\n",
        "      print(\"subcounts shape\")\n",
        "      print(dim(subcounts))\n",
        "      print(head(subcounts))\n",
        "      print(\"subsamples shape\")\n",
        "      print(dim(subsamples))\n",
        "      print(head(subsamples))\n",
        "      dds = DESeqDataSetFromMatrix(countData = subcounts,\n",
        "                                   colData = subsamples,\n",
        "                                   design = ~ treatment)\n",
        "\n",
        "      ###### estimate paramters and normalise\n",
        "      dds = estimateSizeFactors(dds)\n",
        "      dds = estimateDispersions(dds)\n",
        "      dds = estimateDispersions(dds)\n",
        "      cds = nbinomWaldTest(dds)\n",
        "      results = results(cds, contrast = c(\"treatment\", \"susceptible\", \"resistant\")) %>% as.data.frame()\n",
        "      results = results[order(results$padj),] #order by pvalue\n",
        "      results = results %>% mutate(log2FoldChange=log2FoldChange*-1)\n",
        "      results = results %>% rownames_to_column(\"GeneID\") %>% dplyr::mutate(\"FC\" = (2^log2FoldChange))\n",
        "\n",
        "      ### absolute difference\n",
        "      #### Get rowsums of counts, grouping by case/control. Then get difference of counts and join with DE results\n",
        "      readdiff = data.frame(t(rowsum(t(subcounts), group = subsamples$treatment, na.rm = T))) #transpose and get rowsums for each group\n",
        "      readdiff$absolute_diff = readdiff[,\"resistant\"] - readdiff[,\"susceptible\"] #get difference\n",
        "      readdiff = data.frame(readdiff) %>% rownames_to_column('GeneID')\n",
        "      results = unique(left_join(results, readdiff[,c('GeneID','absolute_diff')]))\n",
        "\n",
        "      # join DE results with normal gene names\n",
        "      results = unique(left_join(results, names_df))\n",
        "      results_list[[comp]] = results\n",
        "\n",
        "      fwrite(results, glue(\"results/genediff/{comp}_diffexp.csv\")) #write to csv\n",
        "      #get number of sig genes\n",
        "      res1 = results %>% filter(padj < 0.05) %>%\n",
        "        count(\"direction\" = FC > 1) %>%\n",
        "        dplyr::mutate(\"direction\" = case_when(direction == FALSE ~ \"Downregulated, padj = 0.05\",\n",
        "                                              direction == TRUE ~ \"Upregulated, padj = 0.05\")) %>%\n",
        "        dplyr::rename(!!glue(\"{comp}_ngenes\") := \"n\")\n",
        "\n",
        "      res2 = results %>% filter(padj < 0.001) %>%\n",
        "        count(\"direction\" = FC > 1) %>%\n",
        "        dplyr::mutate(\"direction\" = case_when(direction == FALSE ~ \"Downregulated, padj = 0.001\",\n",
        "                                              direction == TRUE ~ \"Upregulated, padj = 0.001\")) %>%\n",
        "        dplyr::rename(!!glue(\"{comp}_ngenes\") := \"n\")\n",
        "\n",
        "      nsig_list[[comp]] = bind_rows(res1, res2)\n",
        "      cat(\"\\n\", glue(\"{comp} complete!\"), \"\\n\")\n",
        "      }\n",
        "  }\n",
        "  #### write to excel file on diff sheets ####\n",
        "  sheets = names(results_list)\n",
        "  wb <- createWorkbook(\"Workbook\")\n",
        "  for (i in 1:length(sheets)){\n",
        "    addWorksheet(wb, glue(\"{sheets[[i]]}\"))\n",
        "    writeData(wb, sheets[i], results_list[[i]], rowNames = FALSE, colNames = TRUE)\n",
        "  }\n",
        "  #### save workbook to disk once all worksheets and data have been added ####\n",
        "  saveWorkbook(wb,file=f(\"results/genediff/{analysis}_genediff.xlsx\"), overwrite = TRUE)\n",
        "  # Join different comparisons together and write out number of sig genes\n",
        "  purrr::reduce(nsig_list, inner_join) %>% fwrite(f(\"results/genediff/{analysis}_nsig_genes.tsv\"), sep=\"\\t\", col.names = TRUE)\n",
        "\n",
        "  fc_data = data.frame(\"GeneID\" = results_list[[1]]$GeneID)\n",
        "  pval_data = data.frame(\"GeneID\" = results_list[[1]]$GeneID)\n",
        "  for (i in 1:length(results_list)){\n",
        "    name = sheets[i]\n",
        "    name_var = glue(\"{name}_log2FoldChange\")\n",
        "    name_pval = glue(\"{name}_padj\")\n",
        "    df = results_list[[i]] %>%\n",
        "      select(c(\"GeneID\", \"log2FoldChange\")) %>%\n",
        "      rename({{ name_var }} := log2FoldChange)\n",
        "\n",
        "    pval_df = results_list[[i]] %>%\n",
        "      select(c(\"GeneID\", \"padj\")) %>%\n",
        "      rename({{ name_var }} := padj)\n",
        "\n",
        "    fc_data = fc_data %>% inner_join(df) %>% distinct()\n",
        "    pval_data = pval_data %>% inner_join(pval_df) %>% distinct()\n",
        "  }\n",
        "\n",
        "  fc_data = fc_data %>% inner_join(names_df)\n",
        "  pval_data = pval_data %>% inner_join(names_df)\n",
        "\n",
        "  pval_data %>%\n",
        "    select(-TranscriptID) %>%\n",
        "    round_df(3) %>%\n",
        "    distinct() %>%\n",
        "    fwrite(., file=f(\"results/pvals.{analysis}.tsv\"), sep=\"\\t\")\n",
        "\n",
        "  fc_data %>%\n",
        "    select(-TranscriptID) %>%\n",
        "    round_df(2) %>%\n",
        "    distinct() %>%\n",
        "    fwrite(., file=f(\"results/fcs.{analysis}.tsv\"), sep=\"\\t\")\n",
        "\n",
        "  return(list(results_list, nsig_list))\n",
        "}"
      ],
      "metadata": {
        "id": "QKRvivSKbViu"
      },
      "execution_count": 11,
      "outputs": []
    },
    {
      "cell_type": "markdown",
      "source": [
        "#### **Run analyses**"
      ],
      "metadata": {
        "id": "K8rXoikKj1rw"
      }
    },
    {
      "cell_type": "code",
      "execution_count": 12,
      "metadata": {
        "id": "bphla7K5WCCX"
      },
      "outputs": [],
      "source": [
        "f = glue\n",
        "ag_pest_analyses = c(\"gamb_colu\", \"gamb_colu_arab\", \"gamb_colu_arab_fun\")\n",
        "\n",
        "AGAMnames_df = fread(\"https://github.com/sanjaynagi/rna-seq-pop/raw/master/resources/exampleGene2TranscriptMap.tsv\", sep=\"\\t\") %>% distinct()\n",
        "AFUNnames_df = fread(\"https://github.com/sanjaynagi/AnoExpress/raw/main/resources/AfunGenes2TranscriptMap.tsv\", sep=\"\\t\") %>% distinct()"
      ]
    },
    {
      "cell_type": "code",
      "source": [
        "# gambiae pest analyses\n",
        "for (analysis in ag_pest_analyses){\n",
        "  res_list = diff_exp(analysis, names_df = AGAMnames_df)\n",
        "}\n",
        "\n",
        "# funestus only\n",
        "res = diff_exp(analysis = \"fun\", names_df = AFUNnames_df)"
      ],
      "metadata": {
        "id": "aGlzmQ1ebwiP"
      },
      "execution_count": null,
      "outputs": []
    },
    {
      "cell_type": "code",
      "source": [
        "sessionInfo()"
      ],
      "metadata": {
        "colab": {
          "base_uri": "https://localhost:8080/",
          "height": 1000
        },
        "id": "PiGr0E5RgA0R",
        "outputId": "f0490d49-a9e1-4143-f7f1-7d7c6792b5e9"
      },
      "execution_count": 7,
      "outputs": [
        {
          "output_type": "display_data",
          "data": {
            "text/plain": [
              "R version 4.3.1 (2023-06-16)\n",
              "Platform: x86_64-pc-linux-gnu (64-bit)\n",
              "Running under: Ubuntu 22.04.2 LTS\n",
              "\n",
              "Matrix products: default\n",
              "BLAS:   /usr/lib/x86_64-linux-gnu/openblas-pthread/libblas.so.3 \n",
              "LAPACK: /usr/lib/x86_64-linux-gnu/openblas-pthread/libopenblasp-r0.3.20.so;  LAPACK version 3.10.0\n",
              "\n",
              "locale:\n",
              " [1] LC_CTYPE=en_US.UTF-8       LC_NUMERIC=C              \n",
              " [3] LC_TIME=en_US.UTF-8        LC_COLLATE=en_US.UTF-8    \n",
              " [5] LC_MONETARY=en_US.UTF-8    LC_MESSAGES=en_US.UTF-8   \n",
              " [7] LC_PAPER=en_US.UTF-8       LC_NAME=C                 \n",
              " [9] LC_ADDRESS=C               LC_TELEPHONE=C            \n",
              "[11] LC_MEASUREMENT=en_US.UTF-8 LC_IDENTIFICATION=C       \n",
              "\n",
              "time zone: Etc/UTC\n",
              "tzcode source: system (glibc)\n",
              "\n",
              "attached base packages:\n",
              "[1] stats4    stats     graphics  grDevices utils     datasets  methods  \n",
              "[8] base     \n",
              "\n",
              "other attached packages:\n",
              " [1] plotly_4.10.2               lubridate_1.9.2            \n",
              " [3] forcats_1.0.0               stringr_1.5.0              \n",
              " [5] dplyr_1.1.2                 purrr_1.0.2                \n",
              " [7] readr_2.1.4                 tidyr_1.3.0                \n",
              " [9] tibble_3.2.1                tidyverse_2.0.0            \n",
              "[11] RColorBrewer_1.1-3          glue_1.6.2                 \n",
              "[13] openxlsx_4.2.5.2            ggrepel_0.9.3              \n",
              "[15] ggplot2_3.4.2               data.table_1.14.8          \n",
              "[17] pheatmap_1.0.12             DESeq2_1.40.2              \n",
              "[19] SummarizedExperiment_1.30.2 Biobase_2.60.0             \n",
              "[21] MatrixGenerics_1.12.3       matrixStats_1.0.0          \n",
              "[23] GenomicRanges_1.52.0        GenomeInfoDb_1.36.1        \n",
              "[25] IRanges_2.34.1              S4Vectors_0.38.1           \n",
              "[27] BiocGenerics_0.46.0        \n",
              "\n",
              "loaded via a namespace (and not attached):\n",
              " [1] tidyselect_1.2.0        viridisLite_0.4.2       IRdisplay_1.1          \n",
              " [4] bitops_1.0-7            lazyeval_0.2.2          fastmap_1.1.1          \n",
              " [7] RCurl_1.98-1.12         digest_0.6.33           timechange_0.2.0       \n",
              "[10] lifecycle_1.0.3         magrittr_2.0.3          compiler_4.3.1         \n",
              "[13] rlang_1.1.1             tools_4.3.1             utf8_1.2.3             \n",
              "[16] htmlwidgets_1.6.2       S4Arrays_1.0.5          curl_5.0.0             \n",
              "[19] DelayedArray_0.26.7     repr_1.1.6              abind_1.4-5            \n",
              "[22] BiocParallel_1.34.2     pbdZMQ_0.3-9            withr_2.5.0            \n",
              "[25] grid_4.3.1              fansi_1.0.4             colorspace_2.1-0       \n",
              "[28] scales_1.2.1            cli_3.6.1               crayon_1.5.2           \n",
              "[31] generics_0.1.3          httr_1.4.6              tzdb_0.4.0             \n",
              "[34] zlibbioc_1.46.0         parallel_4.3.1          BiocManager_1.30.22    \n",
              "[37] XVector_0.40.0          base64enc_0.1-3         vctrs_0.6.3            \n",
              "[40] Matrix_1.6-0            jsonlite_1.8.7          hms_1.1.3              \n",
              "[43] locfit_1.5-9.8          codetools_0.2-19        stringi_1.7.12         \n",
              "[46] gtable_0.3.3            munsell_0.5.0           pillar_1.9.0           \n",
              "[49] htmltools_0.5.6         IRkernel_1.3.2          GenomeInfoDbData_1.2.10\n",
              "[52] R6_2.5.1                evaluate_0.21           lattice_0.21-8         \n",
              "[55] Rcpp_1.0.11             zip_2.3.0               uuid_1.1-0             \n",
              "[58] pkgconfig_2.0.3        "
            ]
          },
          "metadata": {}
        }
      ]
    }
  ]
}