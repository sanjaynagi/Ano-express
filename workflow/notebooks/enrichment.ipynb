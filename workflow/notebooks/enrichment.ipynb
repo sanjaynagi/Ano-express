{
  "cells": [
    {
      "cell_type": "markdown",
      "metadata": {
        "colab_type": "text",
        "id": "view-in-github"
      },
      "source": [
        "<a href=\"https://colab.research.google.com/github/sanjaynagi/AnoExpress/blob/main/workflow/notebooks/enrichment.ipynb\" target=\"_parent\"><img src=\"https://colab.research.google.com/assets/colab-badge.svg\" alt=\"Open In Colab\"/></a>"
      ]
    },
    {
      "cell_type": "code",
      "execution_count": null,
      "metadata": {
        "colab": {
          "base_uri": "https://localhost:8080/"
        },
        "id": "iph5Osw91hej",
        "outputId": "f1f686b1-2de1-45cb-d0d5-fd6a95b2f3c2"
      },
      "outputs": [],
      "source": [
        "!pip install anoexpress -q"
      ]
    },
    {
      "cell_type": "code",
      "execution_count": 1,
      "metadata": {
        "id": "tkPGjE2JGcM4"
      },
      "outputs": [],
      "source": [
        "import anoexpress as xpress\n",
        "import numpy as np\n",
        "import pandas as pd"
      ]
    },
    {
      "cell_type": "markdown",
      "metadata": {
        "id": "3ZFf5SP5suHw"
      },
      "source": [
        "**Load fold change data to get top candidates**"
      ]
    },
    {
      "cell_type": "markdown",
      "metadata": {
        "id": "mjwftnVdr8Q6"
      },
      "source": [
        "Take the top 5% percentile of median genes (429/8599)"
      ]
    },
    {
      "cell_type": "code",
      "execution_count": null,
      "metadata": {
        "colab": {
          "base_uri": "https://localhost:8080/",
          "height": 206
        },
        "id": "s6QKCfZW2-0t",
        "outputId": "467ae8c7-4acd-4a2c-965a-6ed7818d17e8"
      },
      "outputs": [],
      "source": [
        "fc_medians = xpress.load_candidates(analysis='gamb_colu_arab_fun', name='median', func=np.nanmedian)\n",
        "fc_medians.head(5)"
      ]
    },
    {
      "cell_type": "markdown",
      "metadata": {
        "id": "TMH1AlSSpuCG"
      },
      "source": [
        "# Go annotations"
      ]
    },
    {
      "cell_type": "code",
      "execution_count": null,
      "metadata": {
        "colab": {
          "base_uri": "https://localhost:8080/",
          "height": 1000
        },
        "id": "V0THmmrEprIT",
        "outputId": "63c0a9a6-2572-4c11-dc22-08f1243d4950"
      },
      "outputs": [],
      "source": [
        "median_go_hypergeo_df = xpress.go_hypergeometric(analysis=\"gamb_colu_arab_fun\", func=np.nanmedian)\n",
        "median_go_hypergeo_df.query(\"padj < 0.05\")"
      ]
    },
    {
      "cell_type": "markdown",
      "metadata": {
        "id": "SrL7ab3bptIn"
      },
      "source": [
        "# Pfam Domains"
      ]
    },
    {
      "cell_type": "code",
      "execution_count": null,
      "metadata": {
        "colab": {
          "base_uri": "https://localhost:8080/"
        },
        "id": "sNOfXZJQp3a9",
        "outputId": "13f8b5e1-eb3a-4fbc-a386-788d07edadcf"
      },
      "outputs": [],
      "source": [
        "median_pfam_hypergeo_df = xpress.pfam_hypergeometric(analysis=\"gamb_colu_arab_fun\", func=np.nanmedian)\n",
        "median_pfam_hypergeo_df.head(30)"
      ]
    },
    {
      "cell_type": "markdown",
      "metadata": {
        "id": "1ylR7NOJuS-p"
      },
      "source": [
        "Lots of cool stuff here too - P450s, obps, ORs, GRs, GST, Elongases (ELO), chitin binding seems to be coming up alot. "
      ]
    },
    {
      "cell_type": "code",
      "execution_count": null,
      "metadata": {
        "id": "JhoPoFOWqRrZ"
      },
      "outputs": [],
      "source": [
        "### FOR REFERENCE - TO MAP pfam domain to gene family name. Lots of other stuff coming up as significant I have no idea what that is \n",
        "pfam_domain_names = {'Cytochrome P450s':'p450', \n",
        "             'GSTs':['GST_N', 'GST_N_3', 'GST_C'], \n",
        "             'Carboxylesterases': 'COesterase', \n",
        "             'ABC-transporters':['ABC_membrane', 'ABC_tran'],\n",
        "             'CSP': 'OS-D',\n",
        "             'UGTs': 'UDPGT',\n",
        "             'Odorant binding proteins':'PBP_GOBP', \n",
        "             'Olfactory receptors':'7tm_6', \n",
        "             'Ionotropic receptors':['Lig_chan','7tm_1'],\n",
        "             'Gustatory receptors': '7tm_7',\n",
        "             'Fatty acid synthases':'ketoacyl-synt',\n",
        "             'FA Elongase':'ELO',\n",
        "             'FA desaturase':'FA_desaturase',\n",
        "             'FA reductase':'NAD_binding_4',\n",
        "             }"
      ]
    },
    {
      "cell_type": "markdown",
      "metadata": {
        "id": "TFEY49oNv5Z9"
      },
      "source": [
        "## Kegg pathways"
      ]
    },
    {
      "cell_type": "code",
      "execution_count": 3,
      "metadata": {
        "colab": {
          "base_uri": "https://localhost:8080/",
          "height": 442
        },
        "id": "BdxeStoQwVQt",
        "outputId": "2cf168bc-05af-44ff-8f4b-df6e368f744f"
      },
      "outputs": [
        {
          "name": "stderr",
          "output_type": "stream",
          "text": [
            "100%|██████████| 140/140 [00:00<00:00, 329.83it/s]\n"
          ]
        },
        {
          "data": {
            "text/html": [
              "<div>\n",
              "<style scoped>\n",
              "    .dataframe tbody tr th:only-of-type {\n",
              "        vertical-align: middle;\n",
              "    }\n",
              "\n",
              "    .dataframe tbody tr th {\n",
              "        vertical-align: top;\n",
              "    }\n",
              "\n",
              "    .dataframe thead th {\n",
              "        text-align: right;\n",
              "    }\n",
              "</style>\n",
              "<table border=\"1\" class=\"dataframe\">\n",
              "  <thead>\n",
              "    <tr style=\"text-align: right;\">\n",
              "      <th></th>\n",
              "      <th>annotation</th>\n",
              "      <th>pval</th>\n",
              "      <th>padj</th>\n",
              "      <th>description</th>\n",
              "    </tr>\n",
              "  </thead>\n",
              "  <tbody>\n",
              "    <tr>\n",
              "      <th>0</th>\n",
              "      <td>aga00982</td>\n",
              "      <td>7.705890e-09</td>\n",
              "      <td>0.000001</td>\n",
              "      <td>Drug metabolism - cytochrome P450</td>\n",
              "    </tr>\n",
              "    <tr>\n",
              "      <th>1</th>\n",
              "      <td>aga04080</td>\n",
              "      <td>4.873685e-08</td>\n",
              "      <td>0.000003</td>\n",
              "      <td>Neuroactive ligand-receptor interaction</td>\n",
              "    </tr>\n",
              "    <tr>\n",
              "      <th>2</th>\n",
              "      <td>aga00980</td>\n",
              "      <td>1.089221e-07</td>\n",
              "      <td>0.000005</td>\n",
              "      <td>Metabolism of xenobiotics by cytochrome P450</td>\n",
              "    </tr>\n",
              "    <tr>\n",
              "      <th>3</th>\n",
              "      <td>aga00983</td>\n",
              "      <td>1.063747e-06</td>\n",
              "      <td>0.000037</td>\n",
              "      <td>Drug metabolism - other enzymes</td>\n",
              "    </tr>\n",
              "    <tr>\n",
              "      <th>4</th>\n",
              "      <td>aga01100</td>\n",
              "      <td>4.588849e-06</td>\n",
              "      <td>0.000128</td>\n",
              "      <td>Metabolic pathways</td>\n",
              "    </tr>\n",
              "    <tr>\n",
              "      <th>...</th>\n",
              "      <td>...</td>\n",
              "      <td>...</td>\n",
              "      <td>...</td>\n",
              "      <td>...</td>\n",
              "    </tr>\n",
              "    <tr>\n",
              "      <th>135</th>\n",
              "      <td>aga00510</td>\n",
              "      <td>1.000000e+00</td>\n",
              "      <td>1.000000</td>\n",
              "      <td>N-Glycan biosynthesis</td>\n",
              "    </tr>\n",
              "    <tr>\n",
              "      <th>136</th>\n",
              "      <td>aga00511</td>\n",
              "      <td>1.000000e+00</td>\n",
              "      <td>1.000000</td>\n",
              "      <td>Other glycan degradation</td>\n",
              "    </tr>\n",
              "    <tr>\n",
              "      <th>137</th>\n",
              "      <td>aga00512</td>\n",
              "      <td>1.000000e+00</td>\n",
              "      <td>1.000000</td>\n",
              "      <td>Mucin type O-glycan biosynthesis</td>\n",
              "    </tr>\n",
              "    <tr>\n",
              "      <th>138</th>\n",
              "      <td>aga00430</td>\n",
              "      <td>1.000000e+00</td>\n",
              "      <td>1.000000</td>\n",
              "      <td>Taurine and hypotaurine metabolism</td>\n",
              "    </tr>\n",
              "    <tr>\n",
              "      <th>139</th>\n",
              "      <td>aga00010</td>\n",
              "      <td>1.000000e+00</td>\n",
              "      <td>1.000000</td>\n",
              "      <td>Glycolysis / Gluconeogenesis</td>\n",
              "    </tr>\n",
              "  </tbody>\n",
              "</table>\n",
              "<p>140 rows × 4 columns</p>\n",
              "</div>"
            ],
            "text/plain": [
              "    annotation          pval      padj   \n",
              "0     aga00982  7.705890e-09  0.000001  \\\n",
              "1     aga04080  4.873685e-08  0.000003   \n",
              "2     aga00980  1.089221e-07  0.000005   \n",
              "3     aga00983  1.063747e-06  0.000037   \n",
              "4     aga01100  4.588849e-06  0.000128   \n",
              "..         ...           ...       ...   \n",
              "135   aga00510  1.000000e+00  1.000000   \n",
              "136   aga00511  1.000000e+00  1.000000   \n",
              "137   aga00512  1.000000e+00  1.000000   \n",
              "138   aga00430  1.000000e+00  1.000000   \n",
              "139   aga00010  1.000000e+00  1.000000   \n",
              "\n",
              "                                      description  \n",
              "0               Drug metabolism - cytochrome P450  \n",
              "1         Neuroactive ligand-receptor interaction  \n",
              "2    Metabolism of xenobiotics by cytochrome P450  \n",
              "3                 Drug metabolism - other enzymes  \n",
              "4                              Metabolic pathways  \n",
              "..                                            ...  \n",
              "135                         N-Glycan biosynthesis  \n",
              "136                      Other glycan degradation  \n",
              "137              Mucin type O-glycan biosynthesis  \n",
              "138            Taurine and hypotaurine metabolism  \n",
              "139                  Glycolysis / Gluconeogenesis  \n",
              "\n",
              "[140 rows x 4 columns]"
            ]
          },
          "execution_count": 3,
          "metadata": {},
          "output_type": "execute_result"
        }
      ],
      "source": [
        "median_kegg_hypergeo_df = xpress.kegg_hypergeometric(analysis=\"gamb_colu_arab_fun\", name='test', func=np.nanmedian)\n",
        "median_kegg_hypergeo_df"
      ]
    },
    {
      "cell_type": "code",
      "execution_count": null,
      "metadata": {
        "id": "2xL3fhapwtA-"
      },
      "outputs": [],
      "source": []
    }
  ],
  "metadata": {
    "colab": {
      "include_colab_link": true,
      "provenance": []
    },
    "kernelspec": {
      "display_name": "base",
      "language": "python",
      "name": "python3"
    },
    "language_info": {
      "codemirror_mode": {
        "name": "ipython",
        "version": 3
      },
      "file_extension": ".py",
      "mimetype": "text/x-python",
      "name": "python",
      "nbconvert_exporter": "python",
      "pygments_lexer": "ipython3",
      "version": "3.10.10"
    },
    "vscode": {
      "interpreter": {
        "hash": "ce681de973941d5edd9bd94c9a2926b7fe65e17e578a68317f38265a230b8ca7"
      }
    }
  },
  "nbformat": 4,
  "nbformat_minor": 0
}
