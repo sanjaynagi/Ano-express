{
  "cells": [
    {
      "cell_type": "markdown",
      "metadata": {
        "colab_type": "text",
        "id": "view-in-github"
      },
      "source": [
        "<a href=\"https://colab.research.google.com/github/sanjaynagi/AnoExpress/blob/main/workflow/notebooks/enrichment.ipynb\" target=\"_parent\"><img src=\"https://colab.research.google.com/assets/colab-badge.svg\" alt=\"Open In Colab\"/></a>"
      ]
    },
    {
      "cell_type": "code",
      "execution_count": null,
      "metadata": {
        "colab": {
          "base_uri": "https://localhost:8080/"
        },
        "id": "iph5Osw91hej",
        "outputId": "76c1c7a3-2a15-4de6-d837-bfdf182971a2"
      },
      "outputs": [],
      "source": [
        "!pip install anoexpress -q"
      ]
    },
    {
      "cell_type": "code",
      "execution_count": null,
      "metadata": {
        "id": "tkPGjE2JGcM4"
      },
      "outputs": [],
      "source": [
        "import anoexpress as xpress\n",
        "import numpy as np\n",
        "import pandas as pd"
      ]
    },
    {
      "cell_type": "markdown",
      "metadata": {
        "id": "3OQ86HMym-sE"
      },
      "source": [
        "### Perform GSEA on custom data\n",
        "\n",
        "First, a file of AGAP GeneIDs must be uploaded into Colab. It must have the GeneIDs in the first column, with no header. Click on the files tab of Colab on the left hand side, and use the upload button to upload your file. It can be a .txt, .csv, .tsv or .xlsx file.\n",
        "\n",
        "Then pass the file path of your GeneID file to the `gene_ids` parameter of `xpress.go_hypergeometric()`."
      ]
    },
    {
      "cell_type": "code",
      "execution_count": null,
      "metadata": {
        "id": "0QilkZT8nA-O"
      },
      "outputs": [],
      "source": [
        "# gene_id_file = 'my_genes.txt' # replace with your gene ID file name\n",
        "\n",
        "# my_genes_go_enrichment = xpress.go_hypergeometric(analysis='gamb_colu_arab_fun', gene_ids=gene_id_file) #ignore the analysis argument, it wont be used in this case\n",
        "# my_genes_go_enrichment"
      ]
    },
    {
      "cell_type": "markdown",
      "metadata": {
        "id": "TMH1AlSSpuCG"
      },
      "source": [
        "### GO annotations on AnoExpress candidates"
      ]
    },
    {
      "cell_type": "code",
      "execution_count": null,
      "metadata": {
        "colab": {
          "base_uri": "https://localhost:8080/",
          "height": 1000
        },
        "id": "V0THmmrEprIT",
        "outputId": "63c0a9a6-2572-4c11-dc22-08f1243d4950"
      },
      "outputs": [],
      "source": [
        "median_go_hypergeo_df = xpress.go_hypergeometric(analysis=\"gamb_colu_arab_fun\", func=np.nanmedian)\n",
        "median_go_hypergeo_df.query(\"padj < 0.05\")"
      ]
    },
    {
      "cell_type": "markdown",
      "metadata": {
        "id": "SrL7ab3bptIn"
      },
      "source": [
        "# Pfam Domains"
      ]
    },
    {
      "cell_type": "code",
      "execution_count": null,
      "metadata": {
        "colab": {
          "base_uri": "https://localhost:8080/"
        },
        "id": "sNOfXZJQp3a9",
        "outputId": "13f8b5e1-eb3a-4fbc-a386-788d07edadcf"
      },
      "outputs": [],
      "source": [
        "median_pfam_hypergeo_df = xpress.pfam_hypergeometric(analysis=\"gamb_colu_arab_fun\", func=np.nanmedian)\n",
        "median_pfam_hypergeo_df.head(30)"
      ]
    },
    {
      "cell_type": "markdown",
      "metadata": {
        "id": "1ylR7NOJuS-p"
      },
      "source": [
        "Lots of cool stuff here too - P450s, obps, ORs, GRs, GST, Elongases (ELO), chitin binding seems to be coming up alot."
      ]
    },
    {
      "cell_type": "code",
      "execution_count": null,
      "metadata": {
        "id": "JhoPoFOWqRrZ"
      },
      "outputs": [],
      "source": [
        "### FOR REFERENCE - TO MAP pfam domain to gene family name. Lots of other stuff coming up as significant I have no idea what that is\n",
        "pfam_domain_names = {'Cytochrome P450s':'p450',\n",
        "             'GSTs':['GST_N', 'GST_N_3', 'GST_C'],\n",
        "             'Carboxylesterases': 'COesterase',\n",
        "             'ABC-transporters':['ABC_membrane', 'ABC_tran'],\n",
        "             'CSP': 'OS-D',\n",
        "             'UGTs': 'UDPGT',\n",
        "             'Odorant binding proteins':'PBP_GOBP',\n",
        "             'Olfactory receptors':'7tm_6',\n",
        "             'Ionotropic receptors':['Lig_chan','7tm_1'],\n",
        "             'Gustatory receptors': '7tm_7',\n",
        "             'Fatty acid synthases':'ketoacyl-synt',\n",
        "             'FA Elongase':'ELO',\n",
        "             'FA desaturase':'FA_desaturase',\n",
        "             'FA reductase':'NAD_binding_4',\n",
        "             }"
      ]
    },
    {
      "cell_type": "markdown",
      "metadata": {
        "id": "TFEY49oNv5Z9"
      },
      "source": [
        "## Kegg pathways"
      ]
    },
    {
      "cell_type": "code",
      "execution_count": null,
      "metadata": {
        "id": "bosb0R7g5bLw"
      },
      "outputs": [],
      "source": [
        "import pandas as pd\n",
        "pd.set_option(\"display.max_rows\", 500)"
      ]
    },
    {
      "cell_type": "code",
      "execution_count": null,
      "metadata": {
        "id": "BdxeStoQwVQt"
      },
      "outputs": [],
      "source": [
        "median_kegg_hypergeo_df = xpress.kegg_hypergeometric(analysis=\"gamb_colu_arab_fun\", func=np.nanmedian)\n",
        "median_kegg_hypergeo_df.head(50)"
      ]
    }
  ],
  "metadata": {
    "colab": {
      "include_colab_link": true,
      "provenance": []
    },
    "kernelspec": {
      "display_name": "Python 3 (ipykernel)",
      "language": "python",
      "name": "python3"
    },
    "language_info": {
      "codemirror_mode": {
        "name": "ipython",
        "version": 3
      },
      "file_extension": ".py",
      "mimetype": "text/x-python",
      "name": "python",
      "nbconvert_exporter": "python",
      "pygments_lexer": "ipython3",
      "version": "3.10.10"
    },
    "vscode": {
      "interpreter": {
        "hash": "ce681de973941d5edd9bd94c9a2926b7fe65e17e578a68317f38265a230b8ca7"
      }
    }
  },
  "nbformat": 4,
  "nbformat_minor": 0
}
