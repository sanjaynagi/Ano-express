{
  "nbformat": 4,
  "nbformat_minor": 0,
  "metadata": {
    "colab": {
      "provenance": [],
      "collapsed_sections": [],
      "authorship_tag": "ABX9TyN68Mi6hd7+e9TIc/SFYwAo",
      "include_colab_link": true
    },
    "kernelspec": {
      "name": "python3",
      "display_name": "Python 3"
    },
    "language_info": {
      "name": "python"
    },
    "gpuClass": "standard"
  },
  "cells": [
    {
      "cell_type": "markdown",
      "metadata": {
        "id": "view-in-github",
        "colab_type": "text"
      },
      "source": [
        "<a href=\"https://colab.research.google.com/github/sanjaynagi/rna-seq-meta/blob/main/workflow/notebooks/pca_count_data.ipynb\" target=\"_parent\"><img src=\"https://colab.research.google.com/assets/colab-badge.svg\" alt=\"Open In Colab\"/></a>"
      ]
    },
    {
      "cell_type": "code",
      "source": [
        "!git clone https://github.com/sanjaynagi/rna-seq-meta.git"
      ],
      "metadata": {
        "id": "Az2nLmd3VGpx",
        "colab": {
          "base_uri": "https://localhost:8080/"
        },
        "outputId": "12367b5e-8240-4751-c5d9-7c1cdab525db"
      },
      "execution_count": 1,
      "outputs": [
        {
          "output_type": "stream",
          "name": "stdout",
          "text": [
            "Cloning into 'rna-seq-meta'...\n",
            "remote: Enumerating objects: 158, done.\u001b[K\n",
            "remote: Counting objects: 100% (99/99), done.\u001b[K\n",
            "remote: Compressing objects: 100% (82/82), done.\u001b[K\n",
            "remote: Total 158 (delta 45), reused 39 (delta 15), pack-reused 59\u001b[K\n",
            "Receiving objects: 100% (158/158), 27.46 MiB | 27.51 MiB/s, done.\n",
            "Resolving deltas: 100% (59/59), done.\n"
          ]
        }
      ]
    },
    {
      "cell_type": "code",
      "source": [
        "import pandas as pd\n",
        "import numpy as np\n",
        "import plotly.express as px"
      ],
      "metadata": {
        "id": "Fsmxdgz0jcTz"
      },
      "execution_count": 2,
      "outputs": []
    },
    {
      "cell_type": "code",
      "source": [
        "name = 'meta'\n",
        "\n",
        "metadata = pd.read_csv(\"rna-seq-meta/config/sample_metadata.tsv\", sep=\"\\t\").rename(columns={\"sampleID\":\"colData\"})"
      ],
      "metadata": {
        "id": "4mwawklRH1qb"
      },
      "execution_count": 3,
      "outputs": []
    },
    {
      "cell_type": "code",
      "source": [
        "vst_counts = pd.read_csv(\"rna-seq-meta/results/vst_counts.tsv.gz\", sep=\"\\t\")\n",
        "vst_counts.head(3)"
      ],
      "metadata": {
        "id": "X35e5Dq7kE3y",
        "outputId": "6faddfff-df98-41bd-a871-f28d6b88b344",
        "colab": {
          "base_uri": "https://localhost:8080/",
          "height": 173
        }
      },
      "execution_count": 4,
      "outputs": [
        {
          "output_type": "execute_result",
          "data": {
            "text/plain": [
              "    Tie1   Tie2   Tie3   Gou1   Gou2   Gou3   Ban1   Ban2   Ban3  Ban4  ...  \\\n",
              "0  16.83  16.80  16.69  17.10  17.03  16.95  16.65  16.47  16.48  16.5  ...   \n",
              "1  17.13  17.03  16.99  16.85  16.63  17.09  16.83  17.39  17.53  17.3  ...   \n",
              "2  17.13  17.03  16.99  16.85  16.63  17.09  16.83  17.39  17.53  17.3  ...   \n",
              "\n",
              "   BusiaParental1  BusiaParental2  BusiaParental3  BusiaParental4  \\\n",
              "0           17.57           16.74           16.99           16.93   \n",
              "1           17.39           18.21           18.18           17.68   \n",
              "2           17.39           18.21           18.18           17.68   \n",
              "\n",
              "   BusiaParental5  BusiaParental6  Kisumu1  Kisumu2  Kisumu3  Kisumu4  \n",
              "0           17.00           16.74    16.46    16.50    16.56    16.68  \n",
              "1           17.67           18.13    17.40    17.52    17.91    17.61  \n",
              "2           17.67           18.13    17.40    17.52    17.91    17.61  \n",
              "\n",
              "[3 rows x 228 columns]"
            ],
            "text/html": [
              "\n",
              "  <div id=\"df-777e3d24-9e90-4f04-9a7d-0f18ff740e0c\">\n",
              "    <div class=\"colab-df-container\">\n",
              "      <div>\n",
              "<style scoped>\n",
              "    .dataframe tbody tr th:only-of-type {\n",
              "        vertical-align: middle;\n",
              "    }\n",
              "\n",
              "    .dataframe tbody tr th {\n",
              "        vertical-align: top;\n",
              "    }\n",
              "\n",
              "    .dataframe thead th {\n",
              "        text-align: right;\n",
              "    }\n",
              "</style>\n",
              "<table border=\"1\" class=\"dataframe\">\n",
              "  <thead>\n",
              "    <tr style=\"text-align: right;\">\n",
              "      <th></th>\n",
              "      <th>Tie1</th>\n",
              "      <th>Tie2</th>\n",
              "      <th>Tie3</th>\n",
              "      <th>Gou1</th>\n",
              "      <th>Gou2</th>\n",
              "      <th>Gou3</th>\n",
              "      <th>Ban1</th>\n",
              "      <th>Ban2</th>\n",
              "      <th>Ban3</th>\n",
              "      <th>Ban4</th>\n",
              "      <th>...</th>\n",
              "      <th>BusiaParental1</th>\n",
              "      <th>BusiaParental2</th>\n",
              "      <th>BusiaParental3</th>\n",
              "      <th>BusiaParental4</th>\n",
              "      <th>BusiaParental5</th>\n",
              "      <th>BusiaParental6</th>\n",
              "      <th>Kisumu1</th>\n",
              "      <th>Kisumu2</th>\n",
              "      <th>Kisumu3</th>\n",
              "      <th>Kisumu4</th>\n",
              "    </tr>\n",
              "  </thead>\n",
              "  <tbody>\n",
              "    <tr>\n",
              "      <th>0</th>\n",
              "      <td>16.83</td>\n",
              "      <td>16.80</td>\n",
              "      <td>16.69</td>\n",
              "      <td>17.10</td>\n",
              "      <td>17.03</td>\n",
              "      <td>16.95</td>\n",
              "      <td>16.65</td>\n",
              "      <td>16.47</td>\n",
              "      <td>16.48</td>\n",
              "      <td>16.5</td>\n",
              "      <td>...</td>\n",
              "      <td>17.57</td>\n",
              "      <td>16.74</td>\n",
              "      <td>16.99</td>\n",
              "      <td>16.93</td>\n",
              "      <td>17.00</td>\n",
              "      <td>16.74</td>\n",
              "      <td>16.46</td>\n",
              "      <td>16.50</td>\n",
              "      <td>16.56</td>\n",
              "      <td>16.68</td>\n",
              "    </tr>\n",
              "    <tr>\n",
              "      <th>1</th>\n",
              "      <td>17.13</td>\n",
              "      <td>17.03</td>\n",
              "      <td>16.99</td>\n",
              "      <td>16.85</td>\n",
              "      <td>16.63</td>\n",
              "      <td>17.09</td>\n",
              "      <td>16.83</td>\n",
              "      <td>17.39</td>\n",
              "      <td>17.53</td>\n",
              "      <td>17.3</td>\n",
              "      <td>...</td>\n",
              "      <td>17.39</td>\n",
              "      <td>18.21</td>\n",
              "      <td>18.18</td>\n",
              "      <td>17.68</td>\n",
              "      <td>17.67</td>\n",
              "      <td>18.13</td>\n",
              "      <td>17.40</td>\n",
              "      <td>17.52</td>\n",
              "      <td>17.91</td>\n",
              "      <td>17.61</td>\n",
              "    </tr>\n",
              "    <tr>\n",
              "      <th>2</th>\n",
              "      <td>17.13</td>\n",
              "      <td>17.03</td>\n",
              "      <td>16.99</td>\n",
              "      <td>16.85</td>\n",
              "      <td>16.63</td>\n",
              "      <td>17.09</td>\n",
              "      <td>16.83</td>\n",
              "      <td>17.39</td>\n",
              "      <td>17.53</td>\n",
              "      <td>17.3</td>\n",
              "      <td>...</td>\n",
              "      <td>17.39</td>\n",
              "      <td>18.21</td>\n",
              "      <td>18.18</td>\n",
              "      <td>17.68</td>\n",
              "      <td>17.67</td>\n",
              "      <td>18.13</td>\n",
              "      <td>17.40</td>\n",
              "      <td>17.52</td>\n",
              "      <td>17.91</td>\n",
              "      <td>17.61</td>\n",
              "    </tr>\n",
              "  </tbody>\n",
              "</table>\n",
              "<p>3 rows × 228 columns</p>\n",
              "</div>\n",
              "      <button class=\"colab-df-convert\" onclick=\"convertToInteractive('df-777e3d24-9e90-4f04-9a7d-0f18ff740e0c')\"\n",
              "              title=\"Convert this dataframe to an interactive table.\"\n",
              "              style=\"display:none;\">\n",
              "        \n",
              "  <svg xmlns=\"http://www.w3.org/2000/svg\" height=\"24px\"viewBox=\"0 0 24 24\"\n",
              "       width=\"24px\">\n",
              "    <path d=\"M0 0h24v24H0V0z\" fill=\"none\"/>\n",
              "    <path d=\"M18.56 5.44l.94 2.06.94-2.06 2.06-.94-2.06-.94-.94-2.06-.94 2.06-2.06.94zm-11 1L8.5 8.5l.94-2.06 2.06-.94-2.06-.94L8.5 2.5l-.94 2.06-2.06.94zm10 10l.94 2.06.94-2.06 2.06-.94-2.06-.94-.94-2.06-.94 2.06-2.06.94z\"/><path d=\"M17.41 7.96l-1.37-1.37c-.4-.4-.92-.59-1.43-.59-.52 0-1.04.2-1.43.59L10.3 9.45l-7.72 7.72c-.78.78-.78 2.05 0 2.83L4 21.41c.39.39.9.59 1.41.59.51 0 1.02-.2 1.41-.59l7.78-7.78 2.81-2.81c.8-.78.8-2.07 0-2.86zM5.41 20L4 18.59l7.72-7.72 1.47 1.35L5.41 20z\"/>\n",
              "  </svg>\n",
              "      </button>\n",
              "      \n",
              "  <style>\n",
              "    .colab-df-container {\n",
              "      display:flex;\n",
              "      flex-wrap:wrap;\n",
              "      gap: 12px;\n",
              "    }\n",
              "\n",
              "    .colab-df-convert {\n",
              "      background-color: #E8F0FE;\n",
              "      border: none;\n",
              "      border-radius: 50%;\n",
              "      cursor: pointer;\n",
              "      display: none;\n",
              "      fill: #1967D2;\n",
              "      height: 32px;\n",
              "      padding: 0 0 0 0;\n",
              "      width: 32px;\n",
              "    }\n",
              "\n",
              "    .colab-df-convert:hover {\n",
              "      background-color: #E2EBFA;\n",
              "      box-shadow: 0px 1px 2px rgba(60, 64, 67, 0.3), 0px 1px 3px 1px rgba(60, 64, 67, 0.15);\n",
              "      fill: #174EA6;\n",
              "    }\n",
              "\n",
              "    [theme=dark] .colab-df-convert {\n",
              "      background-color: #3B4455;\n",
              "      fill: #D2E3FC;\n",
              "    }\n",
              "\n",
              "    [theme=dark] .colab-df-convert:hover {\n",
              "      background-color: #434B5C;\n",
              "      box-shadow: 0px 1px 3px 1px rgba(0, 0, 0, 0.15);\n",
              "      filter: drop-shadow(0px 1px 2px rgba(0, 0, 0, 0.3));\n",
              "      fill: #FFFFFF;\n",
              "    }\n",
              "  </style>\n",
              "\n",
              "      <script>\n",
              "        const buttonEl =\n",
              "          document.querySelector('#df-777e3d24-9e90-4f04-9a7d-0f18ff740e0c button.colab-df-convert');\n",
              "        buttonEl.style.display =\n",
              "          google.colab.kernel.accessAllowed ? 'block' : 'none';\n",
              "\n",
              "        async function convertToInteractive(key) {\n",
              "          const element = document.querySelector('#df-777e3d24-9e90-4f04-9a7d-0f18ff740e0c');\n",
              "          const dataTable =\n",
              "            await google.colab.kernel.invokeFunction('convertToInteractive',\n",
              "                                                     [key], {});\n",
              "          if (!dataTable) return;\n",
              "\n",
              "          const docLinkHtml = 'Like what you see? Visit the ' +\n",
              "            '<a target=\"_blank\" href=https://colab.research.google.com/notebooks/data_table.ipynb>data table notebook</a>'\n",
              "            + ' to learn more about interactive tables.';\n",
              "          element.innerHTML = '';\n",
              "          dataTable['output_type'] = 'display_data';\n",
              "          await google.colab.output.renderOutput(dataTable, element);\n",
              "          const docLink = document.createElement('div');\n",
              "          docLink.innerHTML = docLinkHtml;\n",
              "          element.appendChild(docLink);\n",
              "        }\n",
              "      </script>\n",
              "    </div>\n",
              "  </div>\n",
              "  "
            ]
          },
          "metadata": {},
          "execution_count": 4
        }
      ]
    },
    {
      "cell_type": "code",
      "source": [
        "from sklearn.decomposition import PCA\n",
        "pca = PCA(n_components=4)\n",
        "principalComponents = pca.fit_transform(vst_counts.T)\n",
        "pc = pd.DataFrame(data = principalComponents, columns = ['PC1', 'PC2', 'PC3', 'PC4'])"
      ],
      "metadata": {
        "id": "qd5taN38kBdn"
      },
      "execution_count": 9,
      "outputs": []
    },
    {
      "cell_type": "code",
      "source": [
        "pca_df = pd.concat([metadata, pc], axis=1)"
      ],
      "metadata": {
        "id": "eYOWHPBcyhT6"
      },
      "execution_count": 10,
      "outputs": []
    },
    {
      "cell_type": "markdown",
      "source": [
        "### PC1 V PC2"
      ],
      "metadata": {
        "id": "cPZja7V7xiuF"
      }
    },
    {
      "cell_type": "code",
      "source": [
        "### plot interactive PCA data \n",
        "px.scatter(data_frame=pca_df, x='PC1', y='PC2', color='species', hover_data = ['condition', 'resistance'], template=\"ggplot2\", width=800, height=600)"
      ],
      "metadata": {
        "colab": {
          "base_uri": "https://localhost:8080/",
          "height": 617
        },
        "id": "LMgyhUOggLJl",
        "outputId": "19e1b90b-060b-42d0-b0c4-b8284fddedb1"
      },
      "execution_count": 7,
      "outputs": [
        {
          "output_type": "display_data",
          "data": {
            "text/html": [
              "<html>\n",
              "<head><meta charset=\"utf-8\" /></head>\n",
              "<body>\n",
              "    <div>            <script src=\"https://cdnjs.cloudflare.com/ajax/libs/mathjax/2.7.5/MathJax.js?config=TeX-AMS-MML_SVG\"></script><script type=\"text/javascript\">if (window.MathJax) {MathJax.Hub.Config({SVG: {font: \"STIX-Web\"}});}</script>                <script type=\"text/javascript\">window.PlotlyConfig = {MathJaxConfig: 'local'};</script>\n",
              "        <script src=\"https://cdn.plot.ly/plotly-2.8.3.min.js\"></script>                <div id=\"470a0f90-265d-47e5-bc67-14e22160105c\" class=\"plotly-graph-div\" style=\"height:600px; width:800px;\"></div>            <script type=\"text/javascript\">                                    window.PLOTLYENV=window.PLOTLYENV || {};                                    if (document.getElementById(\"470a0f90-265d-47e5-bc67-14e22160105c\")) {                    Plotly.newPlot(                        \"470a0f90-265d-47e5-bc67-14e22160105c\",                        [{\"customdata\":[[\"Tiefora\",\"resistant\"],[\"Tiefora\",\"resistant\"],[\"Tiefora\",\"resistant\"],[\"Ban\",\"resistant\"],[\"Ban\",\"resistant\"],[\"Ban\",\"resistant\"],[\"Ban\",\"resistant\"],[\"Bak\",\"resistant\"],[\"Bak\",\"resistant\"],[\"Bak\",\"resistant\"],[\"Bak\",\"resistant\"],[\"VK7\",\"resistant\"],[\"VK7\",\"resistant\"],[\"VK7\",\"resistant\"],[\"VK7\",\"resistant\"],[\"BanRe\",\"resistant\"],[\"BanRe\",\"resistant\"],[\"BanRe\",\"resistant\"],[\"BanRe\",\"resistant\"],[\"Chad\",\"resistant\"],[\"Chad\",\"resistant\"],[\"Chad\",\"resistant\"],[\"Chad\",\"resistant\"],[\"Chad\",\"resistant\"],[\"Chad\",\"resistant\"],[\"Nigeria\",\"resistant\"],[\"Nigeria\",\"resistant\"],[\"Nigeria\",\"resistant\"],[\"Nigeria\",\"resistant\"],[\"Nigeria\",\"resistant\"],[\"Nigeria\",\"resistant\"],[\"Cameroon\",\"resistant\"],[\"Cameroon\",\"resistant\"],[\"Cameroon\",\"resistant\"],[\"Cameroon\",\"resistant\"],[\"Cameroon\",\"resistant\"],[\"Niger\",\"resistant\"],[\"Niger\",\"resistant\"],[\"Niger\",\"resistant\"],[\"Niger\",\"resistant\"],[\"Niger\",\"resistant\"],[\"Niger\",\"resistant\"],[\"Ngousso\",\"susceptible\"],[\"Ngousso\",\"susceptible\"],[\"Ngousso\",\"susceptible\"],[\"Kisumu\",\"susceptible\"],[\"Kisumu\",\"susceptible\"],[\"Kisumu\",\"susceptible\"],[\"Kisumu\",\"susceptible\"],[\"BanS\",\"susceptible\"],[\"BanS\",\"susceptible\"],[\"BanS\",\"susceptible\"],[\"BanS\",\"susceptible\"],[\"Ngousso\",\"susceptible\"],[\"Ngousso\",\"susceptible\"],[\"Ngousso\",\"susceptible\"],[\"Ngousso\",\"susceptible\"],[\"Ngousso\",\"susceptible\"],[\"Ngousso\",\"susceptible\"],[\"Agboville\",\"resistant\"],[\"Agboville\",\"resistant\"],[\"Agboville\",\"resistant\"],[\"Agboville\",\"resistant\"],[\"Agboville\",\"resistant\"],[\"Agboville\",\"resistant\"],[\"Agboville\",\"resistant\"],[\"Agboville\",\"resistant\"],[\"Agboville\",\"resistant\"],[\"Dabou\",\"resistant\"],[\"Dabou\",\"resistant\"],[\"Dabou\",\"resistant\"],[\"Dabou\",\"resistant\"],[\"Dabou\",\"resistant\"],[\"Dabou\",\"resistant\"],[\"Dabou\",\"resistant\"],[\"Dabou\",\"resistant\"],[\"Dabou\",\"resistant\"],[\"Dabou\",\"resistant\"],[\"Tiassale\",\"resistant\"],[\"Tiassale\",\"resistant\"],[\"Tiassale\",\"resistant\"],[\"Tiassale\",\"resistant\"],[\"Tiassale\",\"resistant\"],[\"Tiassale\",\"resistant\"],[\"Tiassale\",\"resistant\"],[\"Tiassale\",\"resistant\"],[\"Tiassale\",\"resistant\"],[\"Tiassale\",\"resistant\"],[\"Ngousso\",\"susceptible\"],[\"Ngousso\",\"susceptible\"],[\"Ngousso\",\"susceptible\"],[\"Ngousso\",\"susceptible\"],[\"Ngousso\",\"susceptible\"],[\"Mali\",\"susceptible\"],[\"Mali\",\"susceptible\"],[\"Mali\",\"susceptible\"],[\"Mali\",\"susceptible\"],[\"Mali\",\"susceptible\"],[\"Kisumu\",\"susceptible\"],[\"Kisumu\",\"susceptible\"],[\"Kisumu\",\"susceptible\"],[\"Kisumu\",\"susceptible\"],[\"Bouake_colu_unexp\",\"resistant\"],[\"Bouake_colu_unexp\",\"resistant\"],[\"Bouake_colu_unexp\",\"resistant\"],[\"Bouake_colu_unexp\",\"resistant\"],[\"Bouake_colu_exp\",\"resistant\"],[\"Bouake_colu_exp\",\"resistant\"],[\"Bouake_colu_exp\",\"resistant\"],[\"Bouake_colu_exp\",\"resistant\"],[\"Ngousso\",\"susceptible\"],[\"Ngousso\",\"susceptible\"],[\"Ngousso\",\"susceptible\"],[\"Ngousso\",\"susceptible\"],[\"Bouake_gamb_unexp\",\"resistant\"],[\"Bouake_gamb_unexp\",\"resistant\"],[\"Bouake_gamb_unexp\",\"resistant\"],[\"Bouake_gamb_unexp\",\"resistant\"],[\"Bouake_gamb_exp\",\"resistant\"],[\"Bouake_gamb_exp\",\"resistant\"],[\"Bouake_gamb_exp\",\"resistant\"],[\"Bouake_gamb_exp\",\"resistant\"],[\"ContTia\",\"resistant\"],[\"ContTia\",\"resistant\"],[\"ContTia\",\"resistant\"],[\"DeltTia\",\"resistant\"],[\"DeltTia\",\"resistant\"],[\"DeltTia\",\"resistant\"],[\"MalaTia\",\"resistant\"],[\"MalaTia\",\"resistant\"],[\"MalaTia\",\"resistant\"],[\"PiriTia\",\"resistant\"],[\"PiriTia\",\"resistant\"],[\"PiriTia\",\"resistant\"],[\"Ngousso\",\"susceptible\"],[\"Ngousso\",\"susceptible\"],[\"Ngousso\",\"susceptible\"],[\"Ngousso\",\"susceptible\"],[\"BusiaSurvivors\",\"resistant\"],[\"BusiaSurvivors\",\"resistant\"],[\"BusiaSurvivors\",\"resistant\"],[\"BusiaSurvivors\",\"resistant\"],[\"BusiaSurvivors\",\"resistant\"],[\"BusiaSurvivors\",\"resistant\"],[\"BusiaParental\",\"resistant\"],[\"BusiaParental\",\"resistant\"],[\"BusiaParental\",\"resistant\"],[\"BusiaParental\",\"resistant\"],[\"BusiaParental\",\"resistant\"],[\"BusiaParental\",\"resistant\"],[\"Kisumu\",\"susceptible\"],[\"Kisumu\",\"susceptible\"],[\"Kisumu\",\"susceptible\"],[\"Kisumu\",\"susceptible\"]],\"hovertemplate\":\"species=gambiae<br>PC1=%{x}<br>PC2=%{y}<br>condition=%{customdata[0]}<br>resistance=%{customdata[1]}<extra></extra>\",\"legendgroup\":\"gambiae\",\"marker\":{\"color\":\"#F8766D\",\"symbol\":\"circle\"},\"mode\":\"markers\",\"name\":\"gambiae\",\"orientation\":\"v\",\"showlegend\":true,\"x\":[-54.5370703108908,-51.15232124035222,-51.198955863642375,-51.59444578283873,-57.14416624588808,-52.121968037765456,-55.36250321733528,-55.62425616801681,-56.36110024510702,-53.072883614680535,-50.206922373632295,-39.03449756810882,-43.251145624306204,-43.30732339249671,-40.072291066569846,-60.48832562719265,-53.26688706417849,-47.82148353909691,-56.56405277883776,-59.456542499316726,-59.18305734410942,-58.11340113894796,-58.80915641103746,-62.54537524331299,-55.228683523003106,-60.27391731755527,-63.53063843970589,-66.52299613056303,-75.45233778597567,-71.65643284919122,-66.32237699507932,-70.23514534362165,-58.66604925252523,-65.1785171816095,-68.04185260088806,-71.01171571395582,-72.50187291896445,-70.70073215668786,-71.62314791018484,-48.25826852537824,-55.10186215665668,-66.23543644211239,-64.53101308551994,-62.95431030822494,-61.132204275892335,-69.55636604494892,-62.69288774092153,-58.90558799789711,-56.14119200300882,-62.267483689645026,-58.15566543543114,-63.08987558654699,-63.10994544176621,-55.43679855508846,-53.53861167249514,-53.860996869675134,-79.37678701370554,-91.08151363322423,-80.71354470425727,-85.49280144028745,-88.04179674702155,-98.54240467747367,-91.583393480901,-102.68561844313804,-89.96614070971306,-95.11805091902137,-106.72431539199718,-97.6059081634419,-93.60171762793269,-97.50071560426296,-103.41454394228839,-91.36305185226487,-97.0004928399933,-107.73031476882919,-101.98737718266368,-90.80539980476445,-94.79620099498794,-86.09417423902136,-104.97035435579384,-96.88442129019668,-107.47763251998416,-103.0424905890258,-96.95271597458134,-101.0679957746918,-97.11729700379207,-112.47513907657685,-113.11250764614432,-113.50418909666857,-84.85952204193613,-89.93529794165703,-93.86211260097524,-79.60631893410607,-85.17010592865876,-73.92230645215984,-93.39530796130107,-73.42444474426715,-72.74903259593722,-73.80732407432707,-69.31098802053776,-77.34988017232575,-72.75910434689023,-79.84661336905131,-71.06430422403729,-79.55539093131961,-74.70457826420198,-69.4222509978487,-62.11889408566623,-62.00461778381667,-66.44561100547338,-76.79903741417114,-73.13910904185329,-64.88855064508832,-72.4370635265068,-78.30573665720165,-65.64119648604375,-63.567352148302525,-74.04825334721015,-68.51610450483443,-66.18802152262418,-75.44511757753264,-72.06250139282889,-71.9716239391206,-90.6039205957427,-77.47227469125941,-81.61002486239592,-84.83379053215357,-82.5486248143964,-75.56328909358935,-87.741260023136,-89.26125274600409,-87.32155286087735,-76.05351413985422,-87.12545230538834,-84.60790364266154,-73.13910904185329,-64.88855064508832,-72.4370635265068,-78.30573665720165,-73.80977028952424,-68.65155734811158,-76.81701778125594,-70.83145339357513,-67.24881936118996,-69.76236629407605,-61.92889700117278,-61.01466227030152,-65.07985830570298,-59.09039971855435,-65.82176703359973,-59.71830773548345,-77.09479779982973,-72.536597339714,-74.02066356055717,-72.6600494236179],\"xaxis\":\"x\",\"y\":[-69.3780694311397,-73.712953701504,-69.7050768632147,-69.32074466855694,-77.83750758285508,-74.89536399028049,-73.7030850890005,-61.5097130213451,-60.07974311532377,-65.69890708648069,-61.363513690094074,-50.75907324748082,-58.620669542392406,-52.376782368724875,-54.18473939152532,-56.36783598847104,-49.56101790924917,-51.769457171430844,-58.04404195900388,1.395182840814235,5.152462589357282,2.076937617710663,-17.774431227108035,-11.478266059182584,-37.06499785392145,13.276823979263563,4.530850070958071,1.4965088112888678,-10.875615513941003,12.241902871864639,8.298135943782428,-6.701425455142008,-12.066647835878621,6.165820886984837,-23.724600378325928,1.2503053444694647,-15.294341724002521,-19.19067737182072,-8.506293790511863,8.556162922937132,19.389967389441722,7.977041977093586,-90.09473929542321,-83.01559966885601,-71.03054892367902,-114.29230134354894,-103.08217004887912,-89.0362266664114,-92.31509951737404,-70.37608987284571,-68.97671545653627,-72.1178210785903,-72.32862642751618,-110.13061550953067,-102.45788389574393,-94.52034651423065,-31.509129052383297,-17.158760497385035,-35.51839066489511,197.16823214932748,191.5135689760496,226.02077253999283,213.51838286910692,194.50191302906742,186.62698029395617,197.92270076721465,215.23882612507109,204.6760786570175,219.65075889812746,183.29842601674676,196.70511104522305,193.24832586921409,205.30804664812206,217.65522879469592,202.0886488144757,205.54098627134138,205.08941605913242,178.42497421862222,216.25632447220534,221.51480790888593,218.4087193910122,186.89642515730677,195.66313642187174,171.53085428631226,204.75366735373393,206.20893536845287,207.18672596695419,214.84382712699613,170.17530120122694,188.37596164355122,173.99375619302677,166.35319618015401,165.18212369785257,161.38986430841152,184.49053613729316,159.27933875356527,155.90355135525894,151.88374847467156,-119.57835701194618,-136.51321436351824,-121.94374929027221,-118.03460114723312,-123.19899161673553,-103.21926824128045,-142.71370292908097,-129.0525845853895,-99.27175836705206,-100.34890041463389,-124.95997858114818,-139.2018165181662,-122.02387165103869,-117.91910095294772,-121.67471074996392,-123.81389775556941,-109.12664054349423,-106.45435798714806,-108.34718455997763,-104.2426731686355,-94.62200355627772,-87.871631883212,-109.13876837456375,-93.35673015979788,-98.2201968101449,-85.50804448558796,-100.16082948323167,-128.1749443711726,-104.38206929031278,-119.87006479375911,-91.02087370194953,-94.3233498645875,-100.99949498244347,-95.04705201507271,-91.60568052728044,-104.32008071253865,-122.02387165103869,-117.91910095294772,-121.67471074996392,-123.81389775556941,-116.1014080731527,-112.78375273798721,-109.525498421932,-103.4176659111436,-119.19482164924695,-119.80400567482403,-118.63174192817249,-104.98763358399792,-87.91987499755884,-100.76424699649803,-96.39081210525354,-98.12312861124137,-124.75112838683847,-116.27061940022537,-118.51516379352036,-113.5127109158766],\"yaxis\":\"y\",\"type\":\"scatter\"},{\"customdata\":[[\"Gou\",\"resistant\"],[\"Gou\",\"resistant\"],[\"Gou\",\"resistant\"],[\"Moz\",\"susceptible\"],[\"Moz\",\"susceptible\"],[\"Moz\",\"susceptible\"],[\"Asendabo\",\"resistant\"],[\"Asendabo\",\"resistant\"],[\"Asendabo\",\"resistant\"],[\"Asendabo\",\"resistant\"],[\"Chewaka\",\"resistant\"],[\"Chewaka\",\"resistant\"],[\"Chewaka\",\"resistant\"],[\"Chewaka\",\"resistant\"],[\"Moz\",\"susceptible\"],[\"Moz\",\"susceptible\"],[\"Moz\",\"susceptible\"],[\"Moz\",\"susceptible\"],[\"Tolay\",\"resistant\"],[\"Tolay\",\"resistant\"],[\"Tolay\",\"resistant\"],[\"Tolay\",\"resistant\"],[\"Dongola\",\"susceptible\"],[\"Dongola\",\"susceptible\"],[\"Dongola\",\"susceptible\"],[\"Ethiopia\",\"resistant\"],[\"Ethiopia\",\"resistant\"],[\"Ethiopia\",\"resistant\"]],\"hovertemplate\":\"species=arabiensis<br>PC1=%{x}<br>PC2=%{y}<br>condition=%{customdata[0]}<br>resistance=%{customdata[1]}<extra></extra>\",\"legendgroup\":\"arabiensis\",\"marker\":{\"color\":\"#A3A500\",\"symbol\":\"circle\"},\"mode\":\"markers\",\"name\":\"arabiensis\",\"orientation\":\"v\",\"showlegend\":true,\"x\":[-61.529788388261636,-60.37481657962765,-64.88835435298705,-63.22706278955913,-59.16816965231464,-63.57611257790058,12.385769479857231,11.930560705312372,19.69969897797501,23.4740916169103,18.423478694064965,17.748256730960644,17.220292549751278,13.825777088092407,19.75037376632857,27.433451486609428,17.179903668439003,18.713678588763408,12.695153585489965,11.335674922626632,19.368984698824747,18.574359024751082,80.79005475109332,90.10619999140927,88.50579242890575,64.92516042158915,71.93425088965394,63.500935108705164],\"xaxis\":\"x\",\"y\":[-64.65986180690136,-50.972716643247686,-49.13862635334946,-30.564347622435115,-39.53434242324261,-52.933558606083054,61.037611720827535,58.09730873570729,59.10399640483411,59.34776019426259,73.10278223684715,69.21473757878789,70.15686601733867,71.8528947907028,69.79159619446733,67.03000870453712,69.56027700894047,72.93345589447544,67.87062551729164,66.15557336782553,63.92151465969509,60.137390458525346,28.778053172199957,27.38703220352704,24.9765580147766,33.678773648084935,26.044958253565838,33.72446876670249],\"yaxis\":\"y\",\"type\":\"scatter\"},{\"customdata\":[[\"Cam_fun\",\"resistant\"],[\"Cam_fun\",\"resistant\"],[\"Cam_fun\",\"resistant\"],[\"Cam_fun\",\"resistant\"],[\"Cam_fun\",\"resistant\"],[\"Cam_fun\",\"resistant\"],[\"Cam_fun\",\"resistant\"],[\"Cam_fun\",\"resistant\"],[\"Cam_fun\",\"resistant\"],[\"Fang\",\"susceptible\"],[\"Fang\",\"susceptible\"],[\"Fang\",\"susceptible\"],[\"Fumoz\",\"resistant\"],[\"Fumoz\",\"resistant\"],[\"Fumoz\",\"resistant\"],[\"Fumoz\",\"resistant\"],[\"Fumoz\",\"resistant\"],[\"Ghana_fun\",\"resistant\"],[\"Ghana_fun\",\"resistant\"],[\"Ghana_fun\",\"resistant\"],[\"Ghana_fun\",\"resistant\"],[\"Ghana_fun\",\"resistant\"],[\"Ghana_fun\",\"resistant\"],[\"Ghana_fun\",\"resistant\"],[\"Ghana_fun\",\"resistant\"],[\"Ghana_fun\",\"resistant\"],[\"Ghana_fun\",\"resistant\"],[\"Malawi_fun\",\"resistant\"],[\"Malawi_fun\",\"resistant\"],[\"Malawi_fun\",\"resistant\"],[\"Malawi_fun\",\"resistant\"],[\"Malawi_fun\",\"resistant\"],[\"Malawi_fun\",\"resistant\"],[\"Malawi_fun\",\"resistant\"],[\"Malawi_fun\",\"resistant\"],[\"Malawi_fun\",\"resistant\"],[\"Malawi_fun\",\"resistant\"],[\"Uganda_fun\",\"resistant\"],[\"Uganda_fun\",\"resistant\"],[\"Uganda_fun\",\"resistant\"],[\"Uganda_fun\",\"resistant\"],[\"Uganda_fun\",\"resistant\"],[\"Uganda_fun\",\"resistant\"],[\"Uganda_fun\",\"resistant\"],[\"Uganda_fun\",\"resistant\"],[\"Uganda_fun\",\"resistant\"]],\"hovertemplate\":\"species=funestus<br>PC1=%{x}<br>PC2=%{y}<br>condition=%{customdata[0]}<br>resistance=%{customdata[1]}<extra></extra>\",\"legendgroup\":\"funestus\",\"marker\":{\"color\":\"#00BF7D\",\"symbol\":\"circle\"},\"mode\":\"markers\",\"name\":\"funestus\",\"orientation\":\"v\",\"showlegend\":true,\"x\":[240.00662127299876,234.047820708573,235.25423446389675,240.27724775235316,238.42789981383834,236.33037177061968,238.49870349359537,236.98662889904023,232.79504509888423,224.31358380743248,233.45415769274547,234.019841899783,230.81288539274527,234.21298212470222,240.49717710086244,240.95101889051338,237.56756287983035,238.4750450616319,242.3750538522361,239.45383531325055,239.79231879978892,238.46134187145006,240.97336614665062,240.90788391657557,237.73000249144593,225.3986668406651,231.59978872796685,242.5013497301603,238.6640325809137,229.56718827934404,241.17806912899104,237.9152147758308,240.12125492617622,236.675505735093,242.7700979992246,242.37027677916026,238.78524127621756,255.64227406734693,249.8417871769545,249.79582982214475,247.51954227106685,227.17666514188946,249.4669835132531,234.55781698436468,238.00905041173866,235.02317985180247],\"xaxis\":\"x\",\"y\":[15.484406942841304,-1.7193435610501326,9.504738701238525,1.6691650716097897,-4.356909622757483,4.293378738198993,3.6745699117229393,-1.5528705095076518,10.988441835751262,17.079044646379305,11.545896085982925,3.869133273700547,19.975008406906134,32.34465694001729,32.34987634883264,35.44741885749939,17.07408089964666,7.658691832586343,-16.89032691995172,3.5006624270416937,4.844739404402129,4.522413726676876,10.420986395695596,17.17285326802696,8.448939150380781,14.729192982716839,11.993609895137675,1.4901634118868656,6.221263568508078,7.642604254750709,-15.884489939509539,-20.255610927254676,10.524274797284122,5.143034545832669,6.859228494672276,-7.643396649483906,2.080359608463524,-1.5066741168121163,1.9436291928757825,-8.463099777638336,6.227477735163887,10.593630430584525,-1.295941088111461,9.873741745810415,6.687066563440179,-0.7931625501698757],\"yaxis\":\"y\",\"type\":\"scatter\"}],                        {\"template\":{\"data\":{\"barpolar\":[{\"marker\":{\"line\":{\"color\":\"rgb(237,237,237)\",\"width\":0.5},\"pattern\":{\"fillmode\":\"overlay\",\"size\":10,\"solidity\":0.2}},\"type\":\"barpolar\"}],\"bar\":[{\"error_x\":{\"color\":\"rgb(51,51,51)\"},\"error_y\":{\"color\":\"rgb(51,51,51)\"},\"marker\":{\"line\":{\"color\":\"rgb(237,237,237)\",\"width\":0.5},\"pattern\":{\"fillmode\":\"overlay\",\"size\":10,\"solidity\":0.2}},\"type\":\"bar\"}],\"carpet\":[{\"aaxis\":{\"endlinecolor\":\"rgb(51,51,51)\",\"gridcolor\":\"white\",\"linecolor\":\"white\",\"minorgridcolor\":\"white\",\"startlinecolor\":\"rgb(51,51,51)\"},\"baxis\":{\"endlinecolor\":\"rgb(51,51,51)\",\"gridcolor\":\"white\",\"linecolor\":\"white\",\"minorgridcolor\":\"white\",\"startlinecolor\":\"rgb(51,51,51)\"},\"type\":\"carpet\"}],\"choropleth\":[{\"colorbar\":{\"outlinewidth\":0,\"tickcolor\":\"rgb(237,237,237)\",\"ticklen\":6,\"ticks\":\"inside\"},\"type\":\"choropleth\"}],\"contourcarpet\":[{\"colorbar\":{\"outlinewidth\":0,\"tickcolor\":\"rgb(237,237,237)\",\"ticklen\":6,\"ticks\":\"inside\"},\"type\":\"contourcarpet\"}],\"contour\":[{\"colorbar\":{\"outlinewidth\":0,\"tickcolor\":\"rgb(237,237,237)\",\"ticklen\":6,\"ticks\":\"inside\"},\"colorscale\":[[0,\"rgb(20,44,66)\"],[1,\"rgb(90,179,244)\"]],\"type\":\"contour\"}],\"heatmapgl\":[{\"colorbar\":{\"outlinewidth\":0,\"tickcolor\":\"rgb(237,237,237)\",\"ticklen\":6,\"ticks\":\"inside\"},\"colorscale\":[[0,\"rgb(20,44,66)\"],[1,\"rgb(90,179,244)\"]],\"type\":\"heatmapgl\"}],\"heatmap\":[{\"colorbar\":{\"outlinewidth\":0,\"tickcolor\":\"rgb(237,237,237)\",\"ticklen\":6,\"ticks\":\"inside\"},\"colorscale\":[[0,\"rgb(20,44,66)\"],[1,\"rgb(90,179,244)\"]],\"type\":\"heatmap\"}],\"histogram2dcontour\":[{\"colorbar\":{\"outlinewidth\":0,\"tickcolor\":\"rgb(237,237,237)\",\"ticklen\":6,\"ticks\":\"inside\"},\"colorscale\":[[0,\"rgb(20,44,66)\"],[1,\"rgb(90,179,244)\"]],\"type\":\"histogram2dcontour\"}],\"histogram2d\":[{\"colorbar\":{\"outlinewidth\":0,\"tickcolor\":\"rgb(237,237,237)\",\"ticklen\":6,\"ticks\":\"inside\"},\"colorscale\":[[0,\"rgb(20,44,66)\"],[1,\"rgb(90,179,244)\"]],\"type\":\"histogram2d\"}],\"histogram\":[{\"marker\":{\"pattern\":{\"fillmode\":\"overlay\",\"size\":10,\"solidity\":0.2}},\"type\":\"histogram\"}],\"mesh3d\":[{\"colorbar\":{\"outlinewidth\":0,\"tickcolor\":\"rgb(237,237,237)\",\"ticklen\":6,\"ticks\":\"inside\"},\"type\":\"mesh3d\"}],\"parcoords\":[{\"line\":{\"colorbar\":{\"outlinewidth\":0,\"tickcolor\":\"rgb(237,237,237)\",\"ticklen\":6,\"ticks\":\"inside\"}},\"type\":\"parcoords\"}],\"pie\":[{\"automargin\":true,\"type\":\"pie\"}],\"scatter3d\":[{\"line\":{\"colorbar\":{\"outlinewidth\":0,\"tickcolor\":\"rgb(237,237,237)\",\"ticklen\":6,\"ticks\":\"inside\"}},\"marker\":{\"colorbar\":{\"outlinewidth\":0,\"tickcolor\":\"rgb(237,237,237)\",\"ticklen\":6,\"ticks\":\"inside\"}},\"type\":\"scatter3d\"}],\"scattercarpet\":[{\"marker\":{\"colorbar\":{\"outlinewidth\":0,\"tickcolor\":\"rgb(237,237,237)\",\"ticklen\":6,\"ticks\":\"inside\"}},\"type\":\"scattercarpet\"}],\"scattergeo\":[{\"marker\":{\"colorbar\":{\"outlinewidth\":0,\"tickcolor\":\"rgb(237,237,237)\",\"ticklen\":6,\"ticks\":\"inside\"}},\"type\":\"scattergeo\"}],\"scattergl\":[{\"marker\":{\"colorbar\":{\"outlinewidth\":0,\"tickcolor\":\"rgb(237,237,237)\",\"ticklen\":6,\"ticks\":\"inside\"}},\"type\":\"scattergl\"}],\"scattermapbox\":[{\"marker\":{\"colorbar\":{\"outlinewidth\":0,\"tickcolor\":\"rgb(237,237,237)\",\"ticklen\":6,\"ticks\":\"inside\"}},\"type\":\"scattermapbox\"}],\"scatterpolargl\":[{\"marker\":{\"colorbar\":{\"outlinewidth\":0,\"tickcolor\":\"rgb(237,237,237)\",\"ticklen\":6,\"ticks\":\"inside\"}},\"type\":\"scatterpolargl\"}],\"scatterpolar\":[{\"marker\":{\"colorbar\":{\"outlinewidth\":0,\"tickcolor\":\"rgb(237,237,237)\",\"ticklen\":6,\"ticks\":\"inside\"}},\"type\":\"scatterpolar\"}],\"scatter\":[{\"marker\":{\"colorbar\":{\"outlinewidth\":0,\"tickcolor\":\"rgb(237,237,237)\",\"ticklen\":6,\"ticks\":\"inside\"}},\"type\":\"scatter\"}],\"scatterternary\":[{\"marker\":{\"colorbar\":{\"outlinewidth\":0,\"tickcolor\":\"rgb(237,237,237)\",\"ticklen\":6,\"ticks\":\"inside\"}},\"type\":\"scatterternary\"}],\"surface\":[{\"colorbar\":{\"outlinewidth\":0,\"tickcolor\":\"rgb(237,237,237)\",\"ticklen\":6,\"ticks\":\"inside\"},\"colorscale\":[[0,\"rgb(20,44,66)\"],[1,\"rgb(90,179,244)\"]],\"type\":\"surface\"}],\"table\":[{\"cells\":{\"fill\":{\"color\":\"rgb(237,237,237)\"},\"line\":{\"color\":\"white\"}},\"header\":{\"fill\":{\"color\":\"rgb(217,217,217)\"},\"line\":{\"color\":\"white\"}},\"type\":\"table\"}]},\"layout\":{\"annotationdefaults\":{\"arrowhead\":0,\"arrowwidth\":1},\"autotypenumbers\":\"strict\",\"coloraxis\":{\"colorbar\":{\"outlinewidth\":0,\"tickcolor\":\"rgb(237,237,237)\",\"ticklen\":6,\"ticks\":\"inside\"}},\"colorscale\":{\"sequential\":[[0,\"rgb(20,44,66)\"],[1,\"rgb(90,179,244)\"]],\"sequentialminus\":[[0,\"rgb(20,44,66)\"],[1,\"rgb(90,179,244)\"]]},\"colorway\":[\"#F8766D\",\"#A3A500\",\"#00BF7D\",\"#00B0F6\",\"#E76BF3\"],\"font\":{\"color\":\"rgb(51,51,51)\"},\"geo\":{\"bgcolor\":\"white\",\"lakecolor\":\"white\",\"landcolor\":\"rgb(237,237,237)\",\"showlakes\":true,\"showland\":true,\"subunitcolor\":\"white\"},\"hoverlabel\":{\"align\":\"left\"},\"hovermode\":\"closest\",\"paper_bgcolor\":\"white\",\"plot_bgcolor\":\"rgb(237,237,237)\",\"polar\":{\"angularaxis\":{\"gridcolor\":\"white\",\"linecolor\":\"white\",\"showgrid\":true,\"tickcolor\":\"rgb(51,51,51)\",\"ticks\":\"outside\"},\"bgcolor\":\"rgb(237,237,237)\",\"radialaxis\":{\"gridcolor\":\"white\",\"linecolor\":\"white\",\"showgrid\":true,\"tickcolor\":\"rgb(51,51,51)\",\"ticks\":\"outside\"}},\"scene\":{\"xaxis\":{\"backgroundcolor\":\"rgb(237,237,237)\",\"gridcolor\":\"white\",\"gridwidth\":2,\"linecolor\":\"white\",\"showbackground\":true,\"showgrid\":true,\"tickcolor\":\"rgb(51,51,51)\",\"ticks\":\"outside\",\"zerolinecolor\":\"white\"},\"yaxis\":{\"backgroundcolor\":\"rgb(237,237,237)\",\"gridcolor\":\"white\",\"gridwidth\":2,\"linecolor\":\"white\",\"showbackground\":true,\"showgrid\":true,\"tickcolor\":\"rgb(51,51,51)\",\"ticks\":\"outside\",\"zerolinecolor\":\"white\"},\"zaxis\":{\"backgroundcolor\":\"rgb(237,237,237)\",\"gridcolor\":\"white\",\"gridwidth\":2,\"linecolor\":\"white\",\"showbackground\":true,\"showgrid\":true,\"tickcolor\":\"rgb(51,51,51)\",\"ticks\":\"outside\",\"zerolinecolor\":\"white\"}},\"shapedefaults\":{\"fillcolor\":\"black\",\"line\":{\"width\":0},\"opacity\":0.3},\"ternary\":{\"aaxis\":{\"gridcolor\":\"white\",\"linecolor\":\"white\",\"showgrid\":true,\"tickcolor\":\"rgb(51,51,51)\",\"ticks\":\"outside\"},\"baxis\":{\"gridcolor\":\"white\",\"linecolor\":\"white\",\"showgrid\":true,\"tickcolor\":\"rgb(51,51,51)\",\"ticks\":\"outside\"},\"bgcolor\":\"rgb(237,237,237)\",\"caxis\":{\"gridcolor\":\"white\",\"linecolor\":\"white\",\"showgrid\":true,\"tickcolor\":\"rgb(51,51,51)\",\"ticks\":\"outside\"}},\"xaxis\":{\"automargin\":true,\"gridcolor\":\"white\",\"linecolor\":\"white\",\"showgrid\":true,\"tickcolor\":\"rgb(51,51,51)\",\"ticks\":\"outside\",\"title\":{\"standoff\":15},\"zerolinecolor\":\"white\"},\"yaxis\":{\"automargin\":true,\"gridcolor\":\"white\",\"linecolor\":\"white\",\"showgrid\":true,\"tickcolor\":\"rgb(51,51,51)\",\"ticks\":\"outside\",\"title\":{\"standoff\":15},\"zerolinecolor\":\"white\"}}},\"xaxis\":{\"anchor\":\"y\",\"domain\":[0.0,1.0],\"title\":{\"text\":\"PC1\"}},\"yaxis\":{\"anchor\":\"x\",\"domain\":[0.0,1.0],\"title\":{\"text\":\"PC2\"}},\"legend\":{\"title\":{\"text\":\"species\"},\"tracegroupgap\":0},\"margin\":{\"t\":60},\"height\":600,\"width\":800},                        {\"responsive\": true}                    ).then(function(){\n",
              "                            \n",
              "var gd = document.getElementById('470a0f90-265d-47e5-bc67-14e22160105c');\n",
              "var x = new MutationObserver(function (mutations, observer) {{\n",
              "        var display = window.getComputedStyle(gd).display;\n",
              "        if (!display || display === 'none') {{\n",
              "            console.log([gd, 'removed!']);\n",
              "            Plotly.purge(gd);\n",
              "            observer.disconnect();\n",
              "        }}\n",
              "}});\n",
              "\n",
              "// Listen for the removal of the full notebook cells\n",
              "var notebookContainer = gd.closest('#notebook-container');\n",
              "if (notebookContainer) {{\n",
              "    x.observe(notebookContainer, {childList: true});\n",
              "}}\n",
              "\n",
              "// Listen for the clearing of the current output cell\n",
              "var outputEl = gd.closest('.output');\n",
              "if (outputEl) {{\n",
              "    x.observe(outputEl, {childList: true});\n",
              "}}\n",
              "\n",
              "                        })                };                            </script>        </div>\n",
              "</body>\n",
              "</html>"
            ]
          },
          "metadata": {}
        }
      ]
    },
    {
      "cell_type": "markdown",
      "source": [
        "### PC3 vc PC4"
      ],
      "metadata": {
        "id": "TWqLAFZGwxGA"
      }
    },
    {
      "cell_type": "code",
      "source": [
        "px.scatter(data_frame=pca_df, x='PC3', y='PC4', color='species', hover_data = ['condition', 'resistance'], template=\"ggplot2\", width=800, height=600)"
      ],
      "metadata": {
        "id": "Z5LHyOFDwqux",
        "outputId": "a47d216f-e835-4974-a162-30fba6c42881",
        "colab": {
          "base_uri": "https://localhost:8080/",
          "height": 617
        }
      },
      "execution_count": 11,
      "outputs": [
        {
          "output_type": "display_data",
          "data": {
            "text/html": [
              "<html>\n",
              "<head><meta charset=\"utf-8\" /></head>\n",
              "<body>\n",
              "    <div>            <script src=\"https://cdnjs.cloudflare.com/ajax/libs/mathjax/2.7.5/MathJax.js?config=TeX-AMS-MML_SVG\"></script><script type=\"text/javascript\">if (window.MathJax) {MathJax.Hub.Config({SVG: {font: \"STIX-Web\"}});}</script>                <script type=\"text/javascript\">window.PlotlyConfig = {MathJaxConfig: 'local'};</script>\n",
              "        <script src=\"https://cdn.plot.ly/plotly-2.8.3.min.js\"></script>                <div id=\"d1a19b92-4fa2-420a-83bf-d63a85596c6b\" class=\"plotly-graph-div\" style=\"height:600px; width:800px;\"></div>            <script type=\"text/javascript\">                                    window.PLOTLYENV=window.PLOTLYENV || {};                                    if (document.getElementById(\"d1a19b92-4fa2-420a-83bf-d63a85596c6b\")) {                    Plotly.newPlot(                        \"d1a19b92-4fa2-420a-83bf-d63a85596c6b\",                        [{\"customdata\":[[\"Tiefora\",\"resistant\"],[\"Tiefora\",\"resistant\"],[\"Tiefora\",\"resistant\"],[\"Ban\",\"resistant\"],[\"Ban\",\"resistant\"],[\"Ban\",\"resistant\"],[\"Ban\",\"resistant\"],[\"Bak\",\"resistant\"],[\"Bak\",\"resistant\"],[\"Bak\",\"resistant\"],[\"Bak\",\"resistant\"],[\"VK7\",\"resistant\"],[\"VK7\",\"resistant\"],[\"VK7\",\"resistant\"],[\"VK7\",\"resistant\"],[\"BanRe\",\"resistant\"],[\"BanRe\",\"resistant\"],[\"BanRe\",\"resistant\"],[\"BanRe\",\"resistant\"],[\"Chad\",\"resistant\"],[\"Chad\",\"resistant\"],[\"Chad\",\"resistant\"],[\"Chad\",\"resistant\"],[\"Chad\",\"resistant\"],[\"Chad\",\"resistant\"],[\"Nigeria\",\"resistant\"],[\"Nigeria\",\"resistant\"],[\"Nigeria\",\"resistant\"],[\"Nigeria\",\"resistant\"],[\"Nigeria\",\"resistant\"],[\"Nigeria\",\"resistant\"],[\"Cameroon\",\"resistant\"],[\"Cameroon\",\"resistant\"],[\"Cameroon\",\"resistant\"],[\"Cameroon\",\"resistant\"],[\"Cameroon\",\"resistant\"],[\"Niger\",\"resistant\"],[\"Niger\",\"resistant\"],[\"Niger\",\"resistant\"],[\"Niger\",\"resistant\"],[\"Niger\",\"resistant\"],[\"Niger\",\"resistant\"],[\"Ngousso\",\"susceptible\"],[\"Ngousso\",\"susceptible\"],[\"Ngousso\",\"susceptible\"],[\"Kisumu\",\"susceptible\"],[\"Kisumu\",\"susceptible\"],[\"Kisumu\",\"susceptible\"],[\"Kisumu\",\"susceptible\"],[\"BanS\",\"susceptible\"],[\"BanS\",\"susceptible\"],[\"BanS\",\"susceptible\"],[\"BanS\",\"susceptible\"],[\"Ngousso\",\"susceptible\"],[\"Ngousso\",\"susceptible\"],[\"Ngousso\",\"susceptible\"],[\"Ngousso\",\"susceptible\"],[\"Ngousso\",\"susceptible\"],[\"Ngousso\",\"susceptible\"],[\"Agboville\",\"resistant\"],[\"Agboville\",\"resistant\"],[\"Agboville\",\"resistant\"],[\"Agboville\",\"resistant\"],[\"Agboville\",\"resistant\"],[\"Agboville\",\"resistant\"],[\"Agboville\",\"resistant\"],[\"Agboville\",\"resistant\"],[\"Agboville\",\"resistant\"],[\"Dabou\",\"resistant\"],[\"Dabou\",\"resistant\"],[\"Dabou\",\"resistant\"],[\"Dabou\",\"resistant\"],[\"Dabou\",\"resistant\"],[\"Dabou\",\"resistant\"],[\"Dabou\",\"resistant\"],[\"Dabou\",\"resistant\"],[\"Dabou\",\"resistant\"],[\"Dabou\",\"resistant\"],[\"Tiassale\",\"resistant\"],[\"Tiassale\",\"resistant\"],[\"Tiassale\",\"resistant\"],[\"Tiassale\",\"resistant\"],[\"Tiassale\",\"resistant\"],[\"Tiassale\",\"resistant\"],[\"Tiassale\",\"resistant\"],[\"Tiassale\",\"resistant\"],[\"Tiassale\",\"resistant\"],[\"Tiassale\",\"resistant\"],[\"Ngousso\",\"susceptible\"],[\"Ngousso\",\"susceptible\"],[\"Ngousso\",\"susceptible\"],[\"Ngousso\",\"susceptible\"],[\"Ngousso\",\"susceptible\"],[\"Mali\",\"susceptible\"],[\"Mali\",\"susceptible\"],[\"Mali\",\"susceptible\"],[\"Mali\",\"susceptible\"],[\"Mali\",\"susceptible\"],[\"Kisumu\",\"susceptible\"],[\"Kisumu\",\"susceptible\"],[\"Kisumu\",\"susceptible\"],[\"Kisumu\",\"susceptible\"],[\"Bouake_colu_unexp\",\"resistant\"],[\"Bouake_colu_unexp\",\"resistant\"],[\"Bouake_colu_unexp\",\"resistant\"],[\"Bouake_colu_unexp\",\"resistant\"],[\"Bouake_colu_exp\",\"resistant\"],[\"Bouake_colu_exp\",\"resistant\"],[\"Bouake_colu_exp\",\"resistant\"],[\"Bouake_colu_exp\",\"resistant\"],[\"Ngousso\",\"susceptible\"],[\"Ngousso\",\"susceptible\"],[\"Ngousso\",\"susceptible\"],[\"Ngousso\",\"susceptible\"],[\"Bouake_gamb_unexp\",\"resistant\"],[\"Bouake_gamb_unexp\",\"resistant\"],[\"Bouake_gamb_unexp\",\"resistant\"],[\"Bouake_gamb_unexp\",\"resistant\"],[\"Bouake_gamb_exp\",\"resistant\"],[\"Bouake_gamb_exp\",\"resistant\"],[\"Bouake_gamb_exp\",\"resistant\"],[\"Bouake_gamb_exp\",\"resistant\"],[\"ContTia\",\"resistant\"],[\"ContTia\",\"resistant\"],[\"ContTia\",\"resistant\"],[\"DeltTia\",\"resistant\"],[\"DeltTia\",\"resistant\"],[\"DeltTia\",\"resistant\"],[\"MalaTia\",\"resistant\"],[\"MalaTia\",\"resistant\"],[\"MalaTia\",\"resistant\"],[\"PiriTia\",\"resistant\"],[\"PiriTia\",\"resistant\"],[\"PiriTia\",\"resistant\"],[\"Ngousso\",\"susceptible\"],[\"Ngousso\",\"susceptible\"],[\"Ngousso\",\"susceptible\"],[\"Ngousso\",\"susceptible\"],[\"BusiaSurvivors\",\"resistant\"],[\"BusiaSurvivors\",\"resistant\"],[\"BusiaSurvivors\",\"resistant\"],[\"BusiaSurvivors\",\"resistant\"],[\"BusiaSurvivors\",\"resistant\"],[\"BusiaSurvivors\",\"resistant\"],[\"BusiaParental\",\"resistant\"],[\"BusiaParental\",\"resistant\"],[\"BusiaParental\",\"resistant\"],[\"BusiaParental\",\"resistant\"],[\"BusiaParental\",\"resistant\"],[\"BusiaParental\",\"resistant\"],[\"Kisumu\",\"susceptible\"],[\"Kisumu\",\"susceptible\"],[\"Kisumu\",\"susceptible\"],[\"Kisumu\",\"susceptible\"]],\"hovertemplate\":\"species=gambiae<br>PC3=%{x}<br>PC4=%{y}<br>condition=%{customdata[0]}<br>resistance=%{customdata[1]}<extra></extra>\",\"legendgroup\":\"gambiae\",\"marker\":{\"color\":\"#F8766D\",\"symbol\":\"circle\"},\"mode\":\"markers\",\"name\":\"gambiae\",\"orientation\":\"v\",\"showlegend\":true,\"x\":[-17.810657238608933,-26.649599038705052,-28.692420493861903,12.166406826213146,-0.08583364361728676,-7.435725599350088,1.0151514665118464,-13.8207439978418,-15.938556010637752,-19.390474308000332,-15.088282461915455,-14.215405146320025,-19.112138636291437,-2.2112261718864787,-12.716037628829202,0.15610081558681627,6.930232150429869,8.86455665815621,0.9656954536824096,40.76397723636039,52.20814787120542,44.87687878264745,40.127272671916046,24.227928646166625,27.230767252787835,59.13208704988048,60.59749121244037,52.7460936296661,49.57847189576516,55.40504848808701,50.26161013256002,24.67458125843067,37.6825422190948,10.121166959360231,13.023877597149259,13.145496198092273,48.97399304718527,49.13851816958657,55.3758375424632,50.341374599869276,26.91704999572762,44.09560632675863,-23.136546424662473,-21.74748421233875,-23.16141230503015,-38.6657756043386,-30.336981168111862,-25.585076045100408,-20.78159437297255,-13.184456610983249,-7.388553275966906,-16.045646456884942,-2.97900738463363,-15.368977525538297,-14.732857660274627,-18.185039545422267,27.419010212420513,35.96927191561278,23.251057142334957,-42.74240674719576,-49.29234577714793,-49.624287835596235,-60.12982197569223,-74.70025060855598,-56.066167119910965,-54.072515437653685,-74.13393494535352,-75.1783581331329,-73.94544340936659,-64.2454506279188,-44.170280456306294,-52.88593050598908,-68.31591140753144,-69.45745501091295,-63.58845652709113,-61.899847279159744,-38.3360411991649,-22.782100851729968,-38.34586694997522,-42.94762162444812,-66.29679671336119,-44.65088448327731,-48.86039495491908,-79.18513088689954,-58.76910005642581,-72.5650455185149,-54.003754779776145,-73.28740678989237,-56.550694803742225,-70.037544224365,-68.2409540426354,-77.59372737646396,-75.699920473305,-49.74786835801459,-44.144499150128674,-23.907651667542066,-44.42197618296352,-43.23659108664932,-22.375301343286118,-30.581275898136795,-28.3310655852899,-22.966031813181544,-35.08997375695837,-21.247551654777965,-41.94413343495944,-37.16840068730968,-28.774609698756127,-31.7181870999176,-40.481483834311554,-46.26300912342588,-27.092257384163297,-25.58159563962453,-23.332415080754725,-30.474474780528695,-32.083766061943166,-27.225549465224912,-16.89170443030944,-23.450936043174163,-17.716996101052896,-19.151371490412263,-26.110539598408767,-13.14348634812376,-13.819998160406119,-7.7205762349639775,-2.316280376730313,-17.893833055792914,-24.368741724385313,-24.917127902716036,-9.872365509943,-8.345278063458004,1.9165906775894719,-5.179167813638739,-2.0783470662712813,-10.557097881534466,-27.092257384163297,-25.58159563962453,-23.332415080754725,-30.474474780528695,-19.316575509041147,-27.890115842759464,-17.250326664776885,-22.175531149008734,-28.82576536254703,-31.013018446904383,-14.47072233219718,-10.261313151128917,-15.482460650577353,-16.67632304226552,-24.9676041090707,-24.253994600980402,-31.646370577274233,-31.290471231052884,-34.35635183412231,-34.54017643749252],\"xaxis\":\"x\",\"y\":[40.700786542339465,24.970529858907508,42.14627776614326,30.724413695181994,37.52054088270908,45.74900840530266,39.20445810298755,40.32456128532383,35.55960080331336,40.30922336451089,27.01371643670832,63.66484918143698,62.50087915670018,78.16487345488619,68.3478236299627,15.762973433747497,43.38731352882365,21.061184058834073,14.866128826444806,98.70007428528564,114.71576820810542,101.44893636010569,69.2156049395844,88.03709927275675,55.579386206028325,101.99957741383106,93.14874395073804,90.89002304865087,86.85774221484182,117.27893906292289,120.65457948493685,97.1634299835806,107.9403278282783,113.85434236664389,87.13583403030674,110.44887292133981,73.73024582397944,73.16562259460848,106.37959309723685,125.38255683366535,124.5214092580786,103.9142622878225,1.7188003199061341,-2.625668201759056,8.991912574897558,-18.358454589923085,-7.1758813484077635,7.330840663661185,-0.12948822178284006,29.097946756789984,34.365801623347096,30.686398175532904,23.725052460875396,-20.219075843921146,-25.9931226952884,-14.26156571765112,60.80395995311476,58.097067927647295,55.846268363493174,-20.139466162389958,3.625230398299225,-3.0910798282937484,-23.153148954799633,-29.244214608886267,-21.05142530224662,-16.546787862525356,-25.805782634692893,-20.290419813931518,-10.467716497646139,-8.98600717780218,-10.13125287490781,-13.622281188555773,-6.287138254545713,-30.842349034777772,-25.439195598073393,-17.375130095568025,-5.578116127719185,0.9426589374620375,-12.37693242596349,0.013611342258799168,-4.478551959213341,-20.596713324366895,-18.688293657548204,15.05717295041657,-10.794862962092136,-27.159672965337833,-17.876030936945455,-22.23267098262856,-40.825699831677305,-32.379031482510605,-40.18713653399898,-44.86261785617715,-55.882247248252206,-23.12119999696809,-7.746746462187964,-4.628676967079515,-19.512452882147247,-11.87003998741602,-61.98403713254412,-79.61232786933643,-64.61073245178322,-69.61705395881282,-34.04020520630933,-35.90448684314541,-54.69482597304837,-41.773095972144255,-19.407982659332095,-9.979571822242583,-48.53956275214376,-47.910798315576976,-51.80126974805817,-43.78599594689285,-49.8213626199448,-49.87900671921939,-25.62436759025738,-37.5710680804037,-40.57597067590637,-26.37292594122998,-29.55736001297854,-16.782847091787623,-27.973270603513257,-33.380089592355546,-21.00233166130513,-10.066092923219722,-19.756605142720705,-44.58048347457484,-16.34580932235696,-29.266720865989907,-21.098619130786037,-20.54538711110517,-38.77817064646784,-26.716463916192033,-13.397494960703073,-29.981058149828083,-51.80126974805817,-43.78599594689285,-49.8213626199448,-49.87900671921939,-50.29318339255585,-41.69677492482105,-50.00982001599602,-41.03473966139788,-49.552616586822424,-44.96890727767662,-33.9780128682643,-6.760984156405736,-11.676054729973707,-21.759089412544505,-21.987104328589073,-12.357734766187678,-45.1091966743117,-44.302849781992805,-40.33826852163736,-40.03331970594333],\"yaxis\":\"y\",\"type\":\"scatter\"},{\"customdata\":[[\"Gou\",\"resistant\"],[\"Gou\",\"resistant\"],[\"Gou\",\"resistant\"],[\"Moz\",\"susceptible\"],[\"Moz\",\"susceptible\"],[\"Moz\",\"susceptible\"],[\"Asendabo\",\"resistant\"],[\"Asendabo\",\"resistant\"],[\"Asendabo\",\"resistant\"],[\"Asendabo\",\"resistant\"],[\"Chewaka\",\"resistant\"],[\"Chewaka\",\"resistant\"],[\"Chewaka\",\"resistant\"],[\"Chewaka\",\"resistant\"],[\"Moz\",\"susceptible\"],[\"Moz\",\"susceptible\"],[\"Moz\",\"susceptible\"],[\"Moz\",\"susceptible\"],[\"Tolay\",\"resistant\"],[\"Tolay\",\"resistant\"],[\"Tolay\",\"resistant\"],[\"Tolay\",\"resistant\"],[\"Dongola\",\"susceptible\"],[\"Dongola\",\"susceptible\"],[\"Dongola\",\"susceptible\"],[\"Ethiopia\",\"resistant\"],[\"Ethiopia\",\"resistant\"],[\"Ethiopia\",\"resistant\"]],\"hovertemplate\":\"species=arabiensis<br>PC3=%{x}<br>PC4=%{y}<br>condition=%{customdata[0]}<br>resistance=%{customdata[1]}<extra></extra>\",\"legendgroup\":\"arabiensis\",\"marker\":{\"color\":\"#A3A500\",\"symbol\":\"circle\"},\"mode\":\"markers\",\"name\":\"arabiensis\",\"orientation\":\"v\",\"showlegend\":true,\"x\":[6.384729753962938,4.865162207415619,10.641574495473737,1.375165922652891,-1.6386235772904199,4.9509801975102405,227.93999956717286,235.12397120325335,239.00474422424458,229.22156994839284,219.59880108226506,214.10814829483894,220.2616765191232,206.69419420047845,203.26330530484222,200.5061256197344,211.50026820760792,199.82919623545664,241.23006203403793,235.0952347935836,228.89926926791856,225.2146506096359,167.0042646322629,156.46705919727103,158.8547516436424,188.83971170559937,181.1192372816852,191.46892253893867],\"xaxis\":\"x\",\"y\":[15.310134216935392,26.039728321211495,31.931912791875547,51.78841065320762,50.108034341851734,32.27076858653854,-39.834522000427185,-39.534248193658435,-39.481707652729,-27.538460248855053,-33.307995868504285,-45.93230568830942,-27.78564738549193,-34.19671334250207,-25.636469095287637,-32.26453651919623,-31.567592852964438,-28.401948022407513,-18.556286516767287,-24.95535709695238,-31.920981697626488,-31.087833804329243,-66.4770043170312,-63.988670403287,-71.01533876278747,-60.18331586011462,-55.74391774214821,-66.47809694671625],\"yaxis\":\"y\",\"type\":\"scatter\"},{\"customdata\":[[\"Cam_fun\",\"resistant\"],[\"Cam_fun\",\"resistant\"],[\"Cam_fun\",\"resistant\"],[\"Cam_fun\",\"resistant\"],[\"Cam_fun\",\"resistant\"],[\"Cam_fun\",\"resistant\"],[\"Cam_fun\",\"resistant\"],[\"Cam_fun\",\"resistant\"],[\"Cam_fun\",\"resistant\"],[\"Fang\",\"susceptible\"],[\"Fang\",\"susceptible\"],[\"Fang\",\"susceptible\"],[\"Fumoz\",\"resistant\"],[\"Fumoz\",\"resistant\"],[\"Fumoz\",\"resistant\"],[\"Fumoz\",\"resistant\"],[\"Fumoz\",\"resistant\"],[\"Ghana_fun\",\"resistant\"],[\"Ghana_fun\",\"resistant\"],[\"Ghana_fun\",\"resistant\"],[\"Ghana_fun\",\"resistant\"],[\"Ghana_fun\",\"resistant\"],[\"Ghana_fun\",\"resistant\"],[\"Ghana_fun\",\"resistant\"],[\"Ghana_fun\",\"resistant\"],[\"Ghana_fun\",\"resistant\"],[\"Ghana_fun\",\"resistant\"],[\"Malawi_fun\",\"resistant\"],[\"Malawi_fun\",\"resistant\"],[\"Malawi_fun\",\"resistant\"],[\"Malawi_fun\",\"resistant\"],[\"Malawi_fun\",\"resistant\"],[\"Malawi_fun\",\"resistant\"],[\"Malawi_fun\",\"resistant\"],[\"Malawi_fun\",\"resistant\"],[\"Malawi_fun\",\"resistant\"],[\"Malawi_fun\",\"resistant\"],[\"Uganda_fun\",\"resistant\"],[\"Uganda_fun\",\"resistant\"],[\"Uganda_fun\",\"resistant\"],[\"Uganda_fun\",\"resistant\"],[\"Uganda_fun\",\"resistant\"],[\"Uganda_fun\",\"resistant\"],[\"Uganda_fun\",\"resistant\"],[\"Uganda_fun\",\"resistant\"],[\"Uganda_fun\",\"resistant\"]],\"hovertemplate\":\"species=funestus<br>PC3=%{x}<br>PC4=%{y}<br>condition=%{customdata[0]}<br>resistance=%{customdata[1]}<extra></extra>\",\"legendgroup\":\"funestus\",\"marker\":{\"color\":\"#00BF7D\",\"symbol\":\"circle\"},\"mode\":\"markers\",\"name\":\"funestus\",\"orientation\":\"v\",\"showlegend\":true,\"x\":[-31.038042357715746,-36.21270747789808,-23.935154342233137,-41.97234115721395,-31.910017279491214,-37.73457884415352,-34.41594328009115,-52.4173457923751,-41.11804368628889,-20.73241826598584,-21.472917373889217,-24.595079195636785,-7.016983289199434,-33.7758684677134,-34.129447504501556,-29.763025378080894,-33.93522168940547,-39.98015238201752,-30.552951362648678,-36.41203230985238,-38.479589612722975,-25.0777483022299,-37.680024101943395,-31.54378668405974,-37.31325263806231,-22.187095751039244,-32.599550463486636,-42.473777694235324,-36.211056970029055,-34.74608627127803,-33.48170752091676,-32.35863026460003,-37.482408232726065,-37.77692381947968,-50.53002984779758,-49.50124783747741,-48.201958173449626,-53.81031471360617,-51.83166512400348,-54.53949552422603,-51.461436961060166,-18.41938828370545,-57.45169278590741,-34.426769672457695,-41.22379753205466,-43.50460007753329],\"xaxis\":\"x\",\"y\":[3.2121526783783403,0.33790098701988275,0.7545214171781529,-3.1435752821934737,-5.829481382804199,-5.652292581621073,3.0661728232351364,-2.8607992168264764,1.2803774712208693,18.027396021454134,3.7562330342933867,11.13672035762307,18.911943684847845,18.462758785026296,15.564007265238741,14.727151321141445,12.207718132036682,3.7334073109480097,4.237545684820184,5.248535422015683,3.300347547009989,3.62177653716633,4.557329051417665,9.225889964778442,2.0536537340925043,5.649609083406647,6.540595559049502,-0.24971654926567835,-9.073476006627049,-4.234516716941016,5.190417222077063,0.10020593166229817,-2.6809702819727588,-3.56201862767233,0.25063773449661714,4.459968439054098,3.2049970335848035,-1.2514749994716128,2.9427286352884985,-2.003160239967141,7.865643299777575,7.1275914998839855,-0.5418374320312449,4.412396707070341,-3.4403680636203613,-0.7334264020543502],\"yaxis\":\"y\",\"type\":\"scatter\"}],                        {\"template\":{\"data\":{\"barpolar\":[{\"marker\":{\"line\":{\"color\":\"rgb(237,237,237)\",\"width\":0.5},\"pattern\":{\"fillmode\":\"overlay\",\"size\":10,\"solidity\":0.2}},\"type\":\"barpolar\"}],\"bar\":[{\"error_x\":{\"color\":\"rgb(51,51,51)\"},\"error_y\":{\"color\":\"rgb(51,51,51)\"},\"marker\":{\"line\":{\"color\":\"rgb(237,237,237)\",\"width\":0.5},\"pattern\":{\"fillmode\":\"overlay\",\"size\":10,\"solidity\":0.2}},\"type\":\"bar\"}],\"carpet\":[{\"aaxis\":{\"endlinecolor\":\"rgb(51,51,51)\",\"gridcolor\":\"white\",\"linecolor\":\"white\",\"minorgridcolor\":\"white\",\"startlinecolor\":\"rgb(51,51,51)\"},\"baxis\":{\"endlinecolor\":\"rgb(51,51,51)\",\"gridcolor\":\"white\",\"linecolor\":\"white\",\"minorgridcolor\":\"white\",\"startlinecolor\":\"rgb(51,51,51)\"},\"type\":\"carpet\"}],\"choropleth\":[{\"colorbar\":{\"outlinewidth\":0,\"tickcolor\":\"rgb(237,237,237)\",\"ticklen\":6,\"ticks\":\"inside\"},\"type\":\"choropleth\"}],\"contourcarpet\":[{\"colorbar\":{\"outlinewidth\":0,\"tickcolor\":\"rgb(237,237,237)\",\"ticklen\":6,\"ticks\":\"inside\"},\"type\":\"contourcarpet\"}],\"contour\":[{\"colorbar\":{\"outlinewidth\":0,\"tickcolor\":\"rgb(237,237,237)\",\"ticklen\":6,\"ticks\":\"inside\"},\"colorscale\":[[0,\"rgb(20,44,66)\"],[1,\"rgb(90,179,244)\"]],\"type\":\"contour\"}],\"heatmapgl\":[{\"colorbar\":{\"outlinewidth\":0,\"tickcolor\":\"rgb(237,237,237)\",\"ticklen\":6,\"ticks\":\"inside\"},\"colorscale\":[[0,\"rgb(20,44,66)\"],[1,\"rgb(90,179,244)\"]],\"type\":\"heatmapgl\"}],\"heatmap\":[{\"colorbar\":{\"outlinewidth\":0,\"tickcolor\":\"rgb(237,237,237)\",\"ticklen\":6,\"ticks\":\"inside\"},\"colorscale\":[[0,\"rgb(20,44,66)\"],[1,\"rgb(90,179,244)\"]],\"type\":\"heatmap\"}],\"histogram2dcontour\":[{\"colorbar\":{\"outlinewidth\":0,\"tickcolor\":\"rgb(237,237,237)\",\"ticklen\":6,\"ticks\":\"inside\"},\"colorscale\":[[0,\"rgb(20,44,66)\"],[1,\"rgb(90,179,244)\"]],\"type\":\"histogram2dcontour\"}],\"histogram2d\":[{\"colorbar\":{\"outlinewidth\":0,\"tickcolor\":\"rgb(237,237,237)\",\"ticklen\":6,\"ticks\":\"inside\"},\"colorscale\":[[0,\"rgb(20,44,66)\"],[1,\"rgb(90,179,244)\"]],\"type\":\"histogram2d\"}],\"histogram\":[{\"marker\":{\"pattern\":{\"fillmode\":\"overlay\",\"size\":10,\"solidity\":0.2}},\"type\":\"histogram\"}],\"mesh3d\":[{\"colorbar\":{\"outlinewidth\":0,\"tickcolor\":\"rgb(237,237,237)\",\"ticklen\":6,\"ticks\":\"inside\"},\"type\":\"mesh3d\"}],\"parcoords\":[{\"line\":{\"colorbar\":{\"outlinewidth\":0,\"tickcolor\":\"rgb(237,237,237)\",\"ticklen\":6,\"ticks\":\"inside\"}},\"type\":\"parcoords\"}],\"pie\":[{\"automargin\":true,\"type\":\"pie\"}],\"scatter3d\":[{\"line\":{\"colorbar\":{\"outlinewidth\":0,\"tickcolor\":\"rgb(237,237,237)\",\"ticklen\":6,\"ticks\":\"inside\"}},\"marker\":{\"colorbar\":{\"outlinewidth\":0,\"tickcolor\":\"rgb(237,237,237)\",\"ticklen\":6,\"ticks\":\"inside\"}},\"type\":\"scatter3d\"}],\"scattercarpet\":[{\"marker\":{\"colorbar\":{\"outlinewidth\":0,\"tickcolor\":\"rgb(237,237,237)\",\"ticklen\":6,\"ticks\":\"inside\"}},\"type\":\"scattercarpet\"}],\"scattergeo\":[{\"marker\":{\"colorbar\":{\"outlinewidth\":0,\"tickcolor\":\"rgb(237,237,237)\",\"ticklen\":6,\"ticks\":\"inside\"}},\"type\":\"scattergeo\"}],\"scattergl\":[{\"marker\":{\"colorbar\":{\"outlinewidth\":0,\"tickcolor\":\"rgb(237,237,237)\",\"ticklen\":6,\"ticks\":\"inside\"}},\"type\":\"scattergl\"}],\"scattermapbox\":[{\"marker\":{\"colorbar\":{\"outlinewidth\":0,\"tickcolor\":\"rgb(237,237,237)\",\"ticklen\":6,\"ticks\":\"inside\"}},\"type\":\"scattermapbox\"}],\"scatterpolargl\":[{\"marker\":{\"colorbar\":{\"outlinewidth\":0,\"tickcolor\":\"rgb(237,237,237)\",\"ticklen\":6,\"ticks\":\"inside\"}},\"type\":\"scatterpolargl\"}],\"scatterpolar\":[{\"marker\":{\"colorbar\":{\"outlinewidth\":0,\"tickcolor\":\"rgb(237,237,237)\",\"ticklen\":6,\"ticks\":\"inside\"}},\"type\":\"scatterpolar\"}],\"scatter\":[{\"marker\":{\"colorbar\":{\"outlinewidth\":0,\"tickcolor\":\"rgb(237,237,237)\",\"ticklen\":6,\"ticks\":\"inside\"}},\"type\":\"scatter\"}],\"scatterternary\":[{\"marker\":{\"colorbar\":{\"outlinewidth\":0,\"tickcolor\":\"rgb(237,237,237)\",\"ticklen\":6,\"ticks\":\"inside\"}},\"type\":\"scatterternary\"}],\"surface\":[{\"colorbar\":{\"outlinewidth\":0,\"tickcolor\":\"rgb(237,237,237)\",\"ticklen\":6,\"ticks\":\"inside\"},\"colorscale\":[[0,\"rgb(20,44,66)\"],[1,\"rgb(90,179,244)\"]],\"type\":\"surface\"}],\"table\":[{\"cells\":{\"fill\":{\"color\":\"rgb(237,237,237)\"},\"line\":{\"color\":\"white\"}},\"header\":{\"fill\":{\"color\":\"rgb(217,217,217)\"},\"line\":{\"color\":\"white\"}},\"type\":\"table\"}]},\"layout\":{\"annotationdefaults\":{\"arrowhead\":0,\"arrowwidth\":1},\"autotypenumbers\":\"strict\",\"coloraxis\":{\"colorbar\":{\"outlinewidth\":0,\"tickcolor\":\"rgb(237,237,237)\",\"ticklen\":6,\"ticks\":\"inside\"}},\"colorscale\":{\"sequential\":[[0,\"rgb(20,44,66)\"],[1,\"rgb(90,179,244)\"]],\"sequentialminus\":[[0,\"rgb(20,44,66)\"],[1,\"rgb(90,179,244)\"]]},\"colorway\":[\"#F8766D\",\"#A3A500\",\"#00BF7D\",\"#00B0F6\",\"#E76BF3\"],\"font\":{\"color\":\"rgb(51,51,51)\"},\"geo\":{\"bgcolor\":\"white\",\"lakecolor\":\"white\",\"landcolor\":\"rgb(237,237,237)\",\"showlakes\":true,\"showland\":true,\"subunitcolor\":\"white\"},\"hoverlabel\":{\"align\":\"left\"},\"hovermode\":\"closest\",\"paper_bgcolor\":\"white\",\"plot_bgcolor\":\"rgb(237,237,237)\",\"polar\":{\"angularaxis\":{\"gridcolor\":\"white\",\"linecolor\":\"white\",\"showgrid\":true,\"tickcolor\":\"rgb(51,51,51)\",\"ticks\":\"outside\"},\"bgcolor\":\"rgb(237,237,237)\",\"radialaxis\":{\"gridcolor\":\"white\",\"linecolor\":\"white\",\"showgrid\":true,\"tickcolor\":\"rgb(51,51,51)\",\"ticks\":\"outside\"}},\"scene\":{\"xaxis\":{\"backgroundcolor\":\"rgb(237,237,237)\",\"gridcolor\":\"white\",\"gridwidth\":2,\"linecolor\":\"white\",\"showbackground\":true,\"showgrid\":true,\"tickcolor\":\"rgb(51,51,51)\",\"ticks\":\"outside\",\"zerolinecolor\":\"white\"},\"yaxis\":{\"backgroundcolor\":\"rgb(237,237,237)\",\"gridcolor\":\"white\",\"gridwidth\":2,\"linecolor\":\"white\",\"showbackground\":true,\"showgrid\":true,\"tickcolor\":\"rgb(51,51,51)\",\"ticks\":\"outside\",\"zerolinecolor\":\"white\"},\"zaxis\":{\"backgroundcolor\":\"rgb(237,237,237)\",\"gridcolor\":\"white\",\"gridwidth\":2,\"linecolor\":\"white\",\"showbackground\":true,\"showgrid\":true,\"tickcolor\":\"rgb(51,51,51)\",\"ticks\":\"outside\",\"zerolinecolor\":\"white\"}},\"shapedefaults\":{\"fillcolor\":\"black\",\"line\":{\"width\":0},\"opacity\":0.3},\"ternary\":{\"aaxis\":{\"gridcolor\":\"white\",\"linecolor\":\"white\",\"showgrid\":true,\"tickcolor\":\"rgb(51,51,51)\",\"ticks\":\"outside\"},\"baxis\":{\"gridcolor\":\"white\",\"linecolor\":\"white\",\"showgrid\":true,\"tickcolor\":\"rgb(51,51,51)\",\"ticks\":\"outside\"},\"bgcolor\":\"rgb(237,237,237)\",\"caxis\":{\"gridcolor\":\"white\",\"linecolor\":\"white\",\"showgrid\":true,\"tickcolor\":\"rgb(51,51,51)\",\"ticks\":\"outside\"}},\"xaxis\":{\"automargin\":true,\"gridcolor\":\"white\",\"linecolor\":\"white\",\"showgrid\":true,\"tickcolor\":\"rgb(51,51,51)\",\"ticks\":\"outside\",\"title\":{\"standoff\":15},\"zerolinecolor\":\"white\"},\"yaxis\":{\"automargin\":true,\"gridcolor\":\"white\",\"linecolor\":\"white\",\"showgrid\":true,\"tickcolor\":\"rgb(51,51,51)\",\"ticks\":\"outside\",\"title\":{\"standoff\":15},\"zerolinecolor\":\"white\"}}},\"xaxis\":{\"anchor\":\"y\",\"domain\":[0.0,1.0],\"title\":{\"text\":\"PC3\"}},\"yaxis\":{\"anchor\":\"x\",\"domain\":[0.0,1.0],\"title\":{\"text\":\"PC4\"}},\"legend\":{\"title\":{\"text\":\"species\"},\"tracegroupgap\":0},\"margin\":{\"t\":60},\"height\":600,\"width\":800},                        {\"responsive\": true}                    ).then(function(){\n",
              "                            \n",
              "var gd = document.getElementById('d1a19b92-4fa2-420a-83bf-d63a85596c6b');\n",
              "var x = new MutationObserver(function (mutations, observer) {{\n",
              "        var display = window.getComputedStyle(gd).display;\n",
              "        if (!display || display === 'none') {{\n",
              "            console.log([gd, 'removed!']);\n",
              "            Plotly.purge(gd);\n",
              "            observer.disconnect();\n",
              "        }}\n",
              "}});\n",
              "\n",
              "// Listen for the removal of the full notebook cells\n",
              "var notebookContainer = gd.closest('#notebook-container');\n",
              "if (notebookContainer) {{\n",
              "    x.observe(notebookContainer, {childList: true});\n",
              "}}\n",
              "\n",
              "// Listen for the clearing of the current output cell\n",
              "var outputEl = gd.closest('.output');\n",
              "if (outputEl) {{\n",
              "    x.observe(outputEl, {childList: true});\n",
              "}}\n",
              "\n",
              "                        })                };                            </script>        </div>\n",
              "</body>\n",
              "</html>"
            ]
          },
          "metadata": {}
        }
      ]
    }
  ]
}