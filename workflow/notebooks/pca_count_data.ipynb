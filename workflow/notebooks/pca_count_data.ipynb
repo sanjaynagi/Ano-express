{
  "nbformat": 4,
  "nbformat_minor": 0,
  "metadata": {
    "colab": {
      "provenance": [],
      "collapsed_sections": [],
      "authorship_tag": "ABX9TyM4KkpNFEelf2koSzPhDyqh",
      "include_colab_link": true
    },
    "kernelspec": {
      "name": "python3",
      "display_name": "Python 3"
    },
    "language_info": {
      "name": "python"
    },
    "gpuClass": "standard"
  },
  "cells": [
    {
      "cell_type": "markdown",
      "metadata": {
        "id": "view-in-github",
        "colab_type": "text"
      },
      "source": [
        "<a href=\"https://colab.research.google.com/github/sanjaynagi/rna-seq-meta/blob/main/workflow/notebooks/pca_count_data.ipynb\" target=\"_parent\"><img src=\"https://colab.research.google.com/assets/colab-badge.svg\" alt=\"Open In Colab\"/></a>"
      ]
    },
    {
      "cell_type": "code",
      "source": [
        "!git clone https://github.com/sanjaynagi/rna-seq-meta.git\n",
        "\n",
        "import pandas as pd\n",
        "import numpy as np\n",
        "import plotly.express as px"
      ],
      "metadata": {
        "id": "Az2nLmd3VGpx",
        "colab": {
          "base_uri": "https://localhost:8080/"
        },
        "outputId": "f9c336c8-7afa-4a25-f133-a4b8fcd9b863"
      },
      "execution_count": 1,
      "outputs": [
        {
          "output_type": "stream",
          "name": "stdout",
          "text": [
            "Cloning into 'rna-seq-meta'...\n",
            "remote: Enumerating objects: 163, done.\u001b[K\n",
            "remote: Counting objects: 100% (104/104), done.\u001b[K\n",
            "remote: Compressing objects: 100% (87/87), done.\u001b[K\n",
            "remote: Total 163 (delta 48), reused 37 (delta 15), pack-reused 59\u001b[K\n",
            "Receiving objects: 100% (163/163), 27.47 MiB | 19.62 MiB/s, done.\n",
            "Resolving deltas: 100% (62/62), done.\n"
          ]
        }
      ]
    },
    {
      "cell_type": "markdown",
      "source": [
        "# Principal components analysis"
      ],
      "metadata": {
        "id": "oBm76PlYASKB"
      }
    },
    {
      "cell_type": "code",
      "source": [
        "metadata = pd.read_csv(\"rna-seq-meta/config/sample_metadata.tsv\", sep=\"\\t\").rename(columns={\"sampleID\":\"colData\"})\n",
        "vst_counts = pd.read_csv(\"rna-seq-meta/results/vst_counts.tsv.gz\", sep=\"\\t\")\n",
        "vst_counts.head(3)"
      ],
      "metadata": {
        "id": "4mwawklRH1qb",
        "colab": {
          "base_uri": "https://localhost:8080/",
          "height": 173
        },
        "outputId": "a0e9c748-aded-4e4f-8d54-15ea566a5a78"
      },
      "execution_count": 2,
      "outputs": [
        {
          "output_type": "execute_result",
          "data": {
            "text/plain": [
              "    Tie1   Tie2   Tie3   Gou1   Gou2   Gou3   Ban1   Ban2   Ban3  Ban4  ...  \\\n",
              "0  16.83  16.80  16.69  17.10  17.03  16.95  16.65  16.47  16.48  16.5  ...   \n",
              "1  17.13  17.03  16.99  16.85  16.63  17.09  16.83  17.39  17.53  17.3  ...   \n",
              "2  17.13  17.03  16.99  16.85  16.63  17.09  16.83  17.39  17.53  17.3  ...   \n",
              "\n",
              "   BusiaParental1  BusiaParental2  BusiaParental3  BusiaParental4  \\\n",
              "0           17.57           16.74           16.99           16.93   \n",
              "1           17.39           18.21           18.18           17.68   \n",
              "2           17.39           18.21           18.18           17.68   \n",
              "\n",
              "   BusiaParental5  BusiaParental6  Kisumu1  Kisumu2  Kisumu3  Kisumu4  \n",
              "0           17.00           16.74    16.46    16.50    16.56    16.68  \n",
              "1           17.67           18.13    17.40    17.52    17.91    17.61  \n",
              "2           17.67           18.13    17.40    17.52    17.91    17.61  \n",
              "\n",
              "[3 rows x 228 columns]"
            ],
            "text/html": [
              "\n",
              "  <div id=\"df-3d1c9741-55d4-4afc-ac8a-e648b33d1a9b\">\n",
              "    <div class=\"colab-df-container\">\n",
              "      <div>\n",
              "<style scoped>\n",
              "    .dataframe tbody tr th:only-of-type {\n",
              "        vertical-align: middle;\n",
              "    }\n",
              "\n",
              "    .dataframe tbody tr th {\n",
              "        vertical-align: top;\n",
              "    }\n",
              "\n",
              "    .dataframe thead th {\n",
              "        text-align: right;\n",
              "    }\n",
              "</style>\n",
              "<table border=\"1\" class=\"dataframe\">\n",
              "  <thead>\n",
              "    <tr style=\"text-align: right;\">\n",
              "      <th></th>\n",
              "      <th>Tie1</th>\n",
              "      <th>Tie2</th>\n",
              "      <th>Tie3</th>\n",
              "      <th>Gou1</th>\n",
              "      <th>Gou2</th>\n",
              "      <th>Gou3</th>\n",
              "      <th>Ban1</th>\n",
              "      <th>Ban2</th>\n",
              "      <th>Ban3</th>\n",
              "      <th>Ban4</th>\n",
              "      <th>...</th>\n",
              "      <th>BusiaParental1</th>\n",
              "      <th>BusiaParental2</th>\n",
              "      <th>BusiaParental3</th>\n",
              "      <th>BusiaParental4</th>\n",
              "      <th>BusiaParental5</th>\n",
              "      <th>BusiaParental6</th>\n",
              "      <th>Kisumu1</th>\n",
              "      <th>Kisumu2</th>\n",
              "      <th>Kisumu3</th>\n",
              "      <th>Kisumu4</th>\n",
              "    </tr>\n",
              "  </thead>\n",
              "  <tbody>\n",
              "    <tr>\n",
              "      <th>0</th>\n",
              "      <td>16.83</td>\n",
              "      <td>16.80</td>\n",
              "      <td>16.69</td>\n",
              "      <td>17.10</td>\n",
              "      <td>17.03</td>\n",
              "      <td>16.95</td>\n",
              "      <td>16.65</td>\n",
              "      <td>16.47</td>\n",
              "      <td>16.48</td>\n",
              "      <td>16.5</td>\n",
              "      <td>...</td>\n",
              "      <td>17.57</td>\n",
              "      <td>16.74</td>\n",
              "      <td>16.99</td>\n",
              "      <td>16.93</td>\n",
              "      <td>17.00</td>\n",
              "      <td>16.74</td>\n",
              "      <td>16.46</td>\n",
              "      <td>16.50</td>\n",
              "      <td>16.56</td>\n",
              "      <td>16.68</td>\n",
              "    </tr>\n",
              "    <tr>\n",
              "      <th>1</th>\n",
              "      <td>17.13</td>\n",
              "      <td>17.03</td>\n",
              "      <td>16.99</td>\n",
              "      <td>16.85</td>\n",
              "      <td>16.63</td>\n",
              "      <td>17.09</td>\n",
              "      <td>16.83</td>\n",
              "      <td>17.39</td>\n",
              "      <td>17.53</td>\n",
              "      <td>17.3</td>\n",
              "      <td>...</td>\n",
              "      <td>17.39</td>\n",
              "      <td>18.21</td>\n",
              "      <td>18.18</td>\n",
              "      <td>17.68</td>\n",
              "      <td>17.67</td>\n",
              "      <td>18.13</td>\n",
              "      <td>17.40</td>\n",
              "      <td>17.52</td>\n",
              "      <td>17.91</td>\n",
              "      <td>17.61</td>\n",
              "    </tr>\n",
              "    <tr>\n",
              "      <th>2</th>\n",
              "      <td>17.13</td>\n",
              "      <td>17.03</td>\n",
              "      <td>16.99</td>\n",
              "      <td>16.85</td>\n",
              "      <td>16.63</td>\n",
              "      <td>17.09</td>\n",
              "      <td>16.83</td>\n",
              "      <td>17.39</td>\n",
              "      <td>17.53</td>\n",
              "      <td>17.3</td>\n",
              "      <td>...</td>\n",
              "      <td>17.39</td>\n",
              "      <td>18.21</td>\n",
              "      <td>18.18</td>\n",
              "      <td>17.68</td>\n",
              "      <td>17.67</td>\n",
              "      <td>18.13</td>\n",
              "      <td>17.40</td>\n",
              "      <td>17.52</td>\n",
              "      <td>17.91</td>\n",
              "      <td>17.61</td>\n",
              "    </tr>\n",
              "  </tbody>\n",
              "</table>\n",
              "<p>3 rows × 228 columns</p>\n",
              "</div>\n",
              "      <button class=\"colab-df-convert\" onclick=\"convertToInteractive('df-3d1c9741-55d4-4afc-ac8a-e648b33d1a9b')\"\n",
              "              title=\"Convert this dataframe to an interactive table.\"\n",
              "              style=\"display:none;\">\n",
              "        \n",
              "  <svg xmlns=\"http://www.w3.org/2000/svg\" height=\"24px\"viewBox=\"0 0 24 24\"\n",
              "       width=\"24px\">\n",
              "    <path d=\"M0 0h24v24H0V0z\" fill=\"none\"/>\n",
              "    <path d=\"M18.56 5.44l.94 2.06.94-2.06 2.06-.94-2.06-.94-.94-2.06-.94 2.06-2.06.94zm-11 1L8.5 8.5l.94-2.06 2.06-.94-2.06-.94L8.5 2.5l-.94 2.06-2.06.94zm10 10l.94 2.06.94-2.06 2.06-.94-2.06-.94-.94-2.06-.94 2.06-2.06.94z\"/><path d=\"M17.41 7.96l-1.37-1.37c-.4-.4-.92-.59-1.43-.59-.52 0-1.04.2-1.43.59L10.3 9.45l-7.72 7.72c-.78.78-.78 2.05 0 2.83L4 21.41c.39.39.9.59 1.41.59.51 0 1.02-.2 1.41-.59l7.78-7.78 2.81-2.81c.8-.78.8-2.07 0-2.86zM5.41 20L4 18.59l7.72-7.72 1.47 1.35L5.41 20z\"/>\n",
              "  </svg>\n",
              "      </button>\n",
              "      \n",
              "  <style>\n",
              "    .colab-df-container {\n",
              "      display:flex;\n",
              "      flex-wrap:wrap;\n",
              "      gap: 12px;\n",
              "    }\n",
              "\n",
              "    .colab-df-convert {\n",
              "      background-color: #E8F0FE;\n",
              "      border: none;\n",
              "      border-radius: 50%;\n",
              "      cursor: pointer;\n",
              "      display: none;\n",
              "      fill: #1967D2;\n",
              "      height: 32px;\n",
              "      padding: 0 0 0 0;\n",
              "      width: 32px;\n",
              "    }\n",
              "\n",
              "    .colab-df-convert:hover {\n",
              "      background-color: #E2EBFA;\n",
              "      box-shadow: 0px 1px 2px rgba(60, 64, 67, 0.3), 0px 1px 3px 1px rgba(60, 64, 67, 0.15);\n",
              "      fill: #174EA6;\n",
              "    }\n",
              "\n",
              "    [theme=dark] .colab-df-convert {\n",
              "      background-color: #3B4455;\n",
              "      fill: #D2E3FC;\n",
              "    }\n",
              "\n",
              "    [theme=dark] .colab-df-convert:hover {\n",
              "      background-color: #434B5C;\n",
              "      box-shadow: 0px 1px 3px 1px rgba(0, 0, 0, 0.15);\n",
              "      filter: drop-shadow(0px 1px 2px rgba(0, 0, 0, 0.3));\n",
              "      fill: #FFFFFF;\n",
              "    }\n",
              "  </style>\n",
              "\n",
              "      <script>\n",
              "        const buttonEl =\n",
              "          document.querySelector('#df-3d1c9741-55d4-4afc-ac8a-e648b33d1a9b button.colab-df-convert');\n",
              "        buttonEl.style.display =\n",
              "          google.colab.kernel.accessAllowed ? 'block' : 'none';\n",
              "\n",
              "        async function convertToInteractive(key) {\n",
              "          const element = document.querySelector('#df-3d1c9741-55d4-4afc-ac8a-e648b33d1a9b');\n",
              "          const dataTable =\n",
              "            await google.colab.kernel.invokeFunction('convertToInteractive',\n",
              "                                                     [key], {});\n",
              "          if (!dataTable) return;\n",
              "\n",
              "          const docLinkHtml = 'Like what you see? Visit the ' +\n",
              "            '<a target=\"_blank\" href=https://colab.research.google.com/notebooks/data_table.ipynb>data table notebook</a>'\n",
              "            + ' to learn more about interactive tables.';\n",
              "          element.innerHTML = '';\n",
              "          dataTable['output_type'] = 'display_data';\n",
              "          await google.colab.output.renderOutput(dataTable, element);\n",
              "          const docLink = document.createElement('div');\n",
              "          docLink.innerHTML = docLinkHtml;\n",
              "          element.appendChild(docLink);\n",
              "        }\n",
              "      </script>\n",
              "    </div>\n",
              "  </div>\n",
              "  "
            ]
          },
          "metadata": {},
          "execution_count": 2
        }
      ]
    },
    {
      "cell_type": "code",
      "source": [
        "from sklearn.decomposition import PCA\n",
        "\n",
        "pca = PCA(n_components=6)\n",
        "principalComponents = pca.fit_transform(vst_counts.T)\n",
        "pc = pd.DataFrame(data = principalComponents, columns = ['PC1', 'PC2', 'PC3', 'PC4', 'PC5', 'PC6'])\n",
        "pca_df = pd.concat([metadata, pc], axis=1)"
      ],
      "metadata": {
        "id": "qd5taN38kBdn"
      },
      "execution_count": 3,
      "outputs": []
    },
    {
      "cell_type": "markdown",
      "source": [
        "### PC1 V PC2"
      ],
      "metadata": {
        "id": "cPZja7V7xiuF"
      }
    },
    {
      "cell_type": "code",
      "source": [
        "### plot interactive PCA data \n",
        "px.scatter(data_frame=pca_df, x='PC1', y='PC2', color='species', hover_data = ['condition', 'resistance'], template=\"ggplot2\", width=800, height=600)"
      ],
      "metadata": {
        "colab": {
          "base_uri": "https://localhost:8080/",
          "height": 617
        },
        "id": "LMgyhUOggLJl",
        "outputId": "50847242-a7e7-427d-e2f6-beacfbfafe90"
      },
      "execution_count": 4,
      "outputs": [
        {
          "output_type": "display_data",
          "data": {
            "text/html": [
              "<html>\n",
              "<head><meta charset=\"utf-8\" /></head>\n",
              "<body>\n",
              "    <div>            <script src=\"https://cdnjs.cloudflare.com/ajax/libs/mathjax/2.7.5/MathJax.js?config=TeX-AMS-MML_SVG\"></script><script type=\"text/javascript\">if (window.MathJax) {MathJax.Hub.Config({SVG: {font: \"STIX-Web\"}});}</script>                <script type=\"text/javascript\">window.PlotlyConfig = {MathJaxConfig: 'local'};</script>\n",
              "        <script src=\"https://cdn.plot.ly/plotly-2.8.3.min.js\"></script>                <div id=\"df2b2ff1-4e7b-4c77-a875-2455400346cc\" class=\"plotly-graph-div\" style=\"height:600px; width:800px;\"></div>            <script type=\"text/javascript\">                                    window.PLOTLYENV=window.PLOTLYENV || {};                                    if (document.getElementById(\"df2b2ff1-4e7b-4c77-a875-2455400346cc\")) {                    Plotly.newPlot(                        \"df2b2ff1-4e7b-4c77-a875-2455400346cc\",                        [{\"customdata\":[[\"Tiefora\",\"resistant\"],[\"Tiefora\",\"resistant\"],[\"Tiefora\",\"resistant\"],[\"Ban\",\"resistant\"],[\"Ban\",\"resistant\"],[\"Ban\",\"resistant\"],[\"Ban\",\"resistant\"],[\"Bak\",\"resistant\"],[\"Bak\",\"resistant\"],[\"Bak\",\"resistant\"],[\"Bak\",\"resistant\"],[\"VK7\",\"resistant\"],[\"VK7\",\"resistant\"],[\"VK7\",\"resistant\"],[\"VK7\",\"resistant\"],[\"BanRe\",\"resistant\"],[\"BanRe\",\"resistant\"],[\"BanRe\",\"resistant\"],[\"BanRe\",\"resistant\"],[\"Chad\",\"resistant\"],[\"Chad\",\"resistant\"],[\"Chad\",\"resistant\"],[\"Chad\",\"resistant\"],[\"Chad\",\"resistant\"],[\"Chad\",\"resistant\"],[\"Nigeria\",\"resistant\"],[\"Nigeria\",\"resistant\"],[\"Nigeria\",\"resistant\"],[\"Nigeria\",\"resistant\"],[\"Nigeria\",\"resistant\"],[\"Nigeria\",\"resistant\"],[\"Cameroon\",\"resistant\"],[\"Cameroon\",\"resistant\"],[\"Cameroon\",\"resistant\"],[\"Cameroon\",\"resistant\"],[\"Cameroon\",\"resistant\"],[\"Niger\",\"resistant\"],[\"Niger\",\"resistant\"],[\"Niger\",\"resistant\"],[\"Niger\",\"resistant\"],[\"Niger\",\"resistant\"],[\"Niger\",\"resistant\"],[\"Ngousso\",\"susceptible\"],[\"Ngousso\",\"susceptible\"],[\"Ngousso\",\"susceptible\"],[\"Kisumu\",\"susceptible\"],[\"Kisumu\",\"susceptible\"],[\"Kisumu\",\"susceptible\"],[\"Kisumu\",\"susceptible\"],[\"BanS\",\"susceptible\"],[\"BanS\",\"susceptible\"],[\"BanS\",\"susceptible\"],[\"BanS\",\"susceptible\"],[\"Ngousso\",\"susceptible\"],[\"Ngousso\",\"susceptible\"],[\"Ngousso\",\"susceptible\"],[\"Ngousso\",\"susceptible\"],[\"Ngousso\",\"susceptible\"],[\"Ngousso\",\"susceptible\"],[\"Agboville\",\"resistant\"],[\"Agboville\",\"resistant\"],[\"Agboville\",\"resistant\"],[\"Agboville\",\"resistant\"],[\"Agboville\",\"resistant\"],[\"Agboville\",\"resistant\"],[\"Agboville\",\"resistant\"],[\"Agboville\",\"resistant\"],[\"Agboville\",\"resistant\"],[\"Dabou\",\"resistant\"],[\"Dabou\",\"resistant\"],[\"Dabou\",\"resistant\"],[\"Dabou\",\"resistant\"],[\"Dabou\",\"resistant\"],[\"Dabou\",\"resistant\"],[\"Dabou\",\"resistant\"],[\"Dabou\",\"resistant\"],[\"Dabou\",\"resistant\"],[\"Dabou\",\"resistant\"],[\"Tiassale\",\"resistant\"],[\"Tiassale\",\"resistant\"],[\"Tiassale\",\"resistant\"],[\"Tiassale\",\"resistant\"],[\"Tiassale\",\"resistant\"],[\"Tiassale\",\"resistant\"],[\"Tiassale\",\"resistant\"],[\"Tiassale\",\"resistant\"],[\"Tiassale\",\"resistant\"],[\"Tiassale\",\"resistant\"],[\"Ngousso\",\"susceptible\"],[\"Ngousso\",\"susceptible\"],[\"Ngousso\",\"susceptible\"],[\"Ngousso\",\"susceptible\"],[\"Ngousso\",\"susceptible\"],[\"Mali\",\"susceptible\"],[\"Mali\",\"susceptible\"],[\"Mali\",\"susceptible\"],[\"Mali\",\"susceptible\"],[\"Mali\",\"susceptible\"],[\"Kisumu\",\"susceptible\"],[\"Kisumu\",\"susceptible\"],[\"Kisumu\",\"susceptible\"],[\"Kisumu\",\"susceptible\"],[\"Bouake_colu_unexp\",\"resistant\"],[\"Bouake_colu_unexp\",\"resistant\"],[\"Bouake_colu_unexp\",\"resistant\"],[\"Bouake_colu_unexp\",\"resistant\"],[\"Bouake_colu_exp\",\"resistant\"],[\"Bouake_colu_exp\",\"resistant\"],[\"Bouake_colu_exp\",\"resistant\"],[\"Bouake_colu_exp\",\"resistant\"],[\"Ngousso\",\"susceptible\"],[\"Ngousso\",\"susceptible\"],[\"Ngousso\",\"susceptible\"],[\"Ngousso\",\"susceptible\"],[\"Bouake_gamb_unexp\",\"resistant\"],[\"Bouake_gamb_unexp\",\"resistant\"],[\"Bouake_gamb_unexp\",\"resistant\"],[\"Bouake_gamb_unexp\",\"resistant\"],[\"Bouake_gamb_exp\",\"resistant\"],[\"Bouake_gamb_exp\",\"resistant\"],[\"Bouake_gamb_exp\",\"resistant\"],[\"Bouake_gamb_exp\",\"resistant\"],[\"ContTia\",\"resistant\"],[\"ContTia\",\"resistant\"],[\"ContTia\",\"resistant\"],[\"DeltTia\",\"resistant\"],[\"DeltTia\",\"resistant\"],[\"DeltTia\",\"resistant\"],[\"MalaTia\",\"resistant\"],[\"MalaTia\",\"resistant\"],[\"MalaTia\",\"resistant\"],[\"PiriTia\",\"resistant\"],[\"PiriTia\",\"resistant\"],[\"PiriTia\",\"resistant\"],[\"Ngousso\",\"susceptible\"],[\"Ngousso\",\"susceptible\"],[\"Ngousso\",\"susceptible\"],[\"Ngousso\",\"susceptible\"],[\"BusiaSurvivors\",\"resistant\"],[\"BusiaSurvivors\",\"resistant\"],[\"BusiaSurvivors\",\"resistant\"],[\"BusiaSurvivors\",\"resistant\"],[\"BusiaSurvivors\",\"resistant\"],[\"BusiaSurvivors\",\"resistant\"],[\"BusiaParental\",\"resistant\"],[\"BusiaParental\",\"resistant\"],[\"BusiaParental\",\"resistant\"],[\"BusiaParental\",\"resistant\"],[\"BusiaParental\",\"resistant\"],[\"BusiaParental\",\"resistant\"],[\"Kisumu\",\"susceptible\"],[\"Kisumu\",\"susceptible\"],[\"Kisumu\",\"susceptible\"],[\"Kisumu\",\"susceptible\"]],\"hovertemplate\":\"species=gambiae<br>PC1=%{x}<br>PC2=%{y}<br>condition=%{customdata[0]}<br>resistance=%{customdata[1]}<extra></extra>\",\"legendgroup\":\"gambiae\",\"marker\":{\"color\":\"#F8766D\",\"symbol\":\"circle\"},\"mode\":\"markers\",\"name\":\"gambiae\",\"orientation\":\"v\",\"showlegend\":true,\"x\":[-54.537070310890996,-51.152321240351995,-51.19895586364224,-51.59444578283823,-57.14416624588771,-52.12196803776506,-55.362503217334925,-55.62425616801675,-56.36110024510688,-53.07288361468038,-50.20692237363222,-39.034497568108556,-43.2511456243059,-43.307323392496485,-40.07229106656964,-60.48832562719216,-53.26688706417813,-47.8214835390964,-56.56405277883731,-59.456542499316434,-59.183057344109194,-58.113401138947594,-58.80915641103744,-62.545375243313096,-55.22868352300306,-60.273917317555394,-63.53063843970598,-66.52299613056303,-75.45233778597571,-71.6564328491914,-66.32237699507954,-70.2351453436216,-58.666049252525205,-65.17851718160952,-68.04185260088796,-71.01171571395591,-72.50187291896428,-70.70073215668802,-71.62314791018495,-48.25826852537816,-55.101862156656615,-66.23543644211226,-64.53101308551975,-62.95431030822488,-61.13220427589223,-69.5563660449486,-62.692887740921115,-58.90558799789674,-56.14119200300865,-62.26748368964502,-58.15566543543103,-63.08987558654699,-63.10994544176623,-55.43679855508829,-53.53861167249503,-53.86099686967501,-79.37678701370565,-91.08151363322398,-80.71354470425723,-85.49280144028715,-88.04179674702131,-98.54240467747378,-91.5833934809007,-102.6856184431378,-89.96614070971293,-95.11805091902094,-106.72431539199692,-97.60590816344167,-93.60171762793257,-97.50071560426285,-103.4145439422881,-91.36305185226472,-97.00049283999321,-107.73031476882923,-101.98737718266382,-90.80539980476436,-94.79620099498807,-86.0941742390212,-104.97035435579355,-96.88442129019673,-107.47763251998435,-103.0424905890257,-96.9527159745812,-101.0679957746921,-97.11729700379209,-112.47513907657674,-113.11250764614446,-113.50418909666875,-84.85952204193585,-89.93529794165671,-93.86211260097495,-79.60631893410577,-85.1701059286585,-73.9223064521599,-93.39530796130121,-73.42444474426743,-72.74903259593731,-73.80732407432716,-69.31098802053758,-77.34988017232553,-72.75910434689003,-79.84661336905108,-71.06430422403733,-79.55539093131958,-74.70457826420197,-69.42225099784864,-62.11889408566626,-62.00461778381664,-66.44561100547334,-76.79903741417117,-73.13910904185323,-64.8885506450882,-72.43706352650675,-78.30573665720165,-65.64119648604374,-63.567352148302604,-74.04825334721006,-68.51610450483454,-66.18802152262437,-75.44511757753286,-72.062501392829,-71.97162393912069,-90.6039205957426,-77.4722746912593,-81.61002486239585,-84.8337905321535,-82.54862481439643,-75.56328909358942,-87.74126002313608,-89.26125274600402,-87.3215528608774,-76.05351413985399,-87.12545230538822,-84.60790364266136,-73.13910904185323,-64.8885506450882,-72.43706352650675,-78.30573665720165,-73.80977028952444,-68.6515573481118,-76.81701778125625,-70.83145339357557,-67.24881936119021,-69.76236629407637,-61.92889700117289,-61.01466227030189,-65.07985830570325,-59.09039971855457,-65.82176703359993,-59.718307735483776,-77.09479779982938,-72.53659733971372,-74.0206635605568,-72.6600494236175],\"xaxis\":\"x\",\"y\":[-69.37806943114012,-73.71295370150237,-69.7050768632138,-69.3207446685537,-77.83750758285245,-74.8953639902775,-73.70308508899808,-61.509713021345874,-60.07974311532462,-65.698907086481,-61.36351369009498,-50.759073247478526,-58.6206695423894,-52.376782368723575,-54.184739391523166,-56.36783598846714,-49.561017909245734,-51.76945717142688,-58.04404195900035,1.395182840816409,5.152462589358505,2.076937617713599,-17.774431227108444,-11.478266059183747,-37.06499785392122,13.276823979261005,4.530850070956389,1.4965088112866818,-10.87561551394201,12.241902871862292,8.298135943779373,-6.701425455140667,-12.066647835877902,6.165820886985649,-23.724600378324418,1.2503053444697023,-15.294341724002697,-19.19067737182282,-8.506293790514416,8.556162922936569,19.38996738944129,7.977041977093489,-90.09473929542084,-83.01559966885401,-71.03054892367695,-114.29230134354928,-103.08217004887939,-89.0362266664118,-92.3150995173753,-70.37608987284555,-68.97671545653446,-72.11782107858912,-72.3286264275155,-110.1306155095278,-102.45788389574157,-94.52034651422815,-31.509129052382068,-17.15876049738194,-35.51839066489343,197.16823214932919,191.51356897605126,226.02077253999232,213.51838286910981,194.5019130290689,186.62698029395673,197.9227007672191,215.2388261250734,204.6760786570197,219.65075889813008,183.29842601674702,196.70511104522592,193.2483258692133,205.30804664812152,217.65522879469577,202.08864881447462,205.54098627134167,205.08941605913213,178.42497421862402,216.2563244722076,221.5148079088858,218.4087193910109,186.89642515730915,195.66313642187302,171.53085428630763,204.75366735373356,206.20893536845387,207.18672596695293,214.84382712699437,170.1753012012268,188.3759616435516,173.9937561930263,166.35319618015362,165.18212369785144,161.38986430840976,184.49053613729197,159.27933875356203,155.9035513552563,151.8837484746692,-119.57835701194692,-136.5132143635192,-121.94374929027339,-118.03460114723448,-123.1989916167351,-103.21926824127988,-142.71370292907974,-129.05258458538893,-99.27175836705202,-100.3489004146334,-124.95997858114681,-139.2018165181666,-122.02387165103714,-117.91910095294668,-121.67471074996278,-123.81389775556828,-109.12664054349523,-106.45435798714962,-108.34718455997717,-104.24267316863737,-94.62200355627986,-87.8716318832148,-109.13876837456529,-93.35673015979914,-98.2201968101443,-85.50804448558767,-100.16082948323117,-128.1749443711721,-104.38206929031388,-119.87006479375941,-91.02087370195042,-94.32334986458832,-100.99949498244487,-95.04705201507147,-91.60568052728087,-104.32008071253763,-122.02387165103714,-117.91910095294668,-121.67471074996278,-123.81389775556828,-116.10140807315442,-112.783752737989,-109.52549842193434,-103.41766591114663,-119.1948216492487,-119.80400567482626,-118.63174192817429,-104.98763358400105,-87.9198749975609,-100.76424699650048,-96.39081210525613,-98.12312861124452,-124.75112838683783,-116.27061940022449,-118.5151637935198,-113.51271091587621],\"yaxis\":\"y\",\"type\":\"scatter\"},{\"customdata\":[[\"Gou\",\"resistant\"],[\"Gou\",\"resistant\"],[\"Gou\",\"resistant\"],[\"Moz\",\"susceptible\"],[\"Moz\",\"susceptible\"],[\"Moz\",\"susceptible\"],[\"Asendabo\",\"resistant\"],[\"Asendabo\",\"resistant\"],[\"Asendabo\",\"resistant\"],[\"Asendabo\",\"resistant\"],[\"Chewaka\",\"resistant\"],[\"Chewaka\",\"resistant\"],[\"Chewaka\",\"resistant\"],[\"Chewaka\",\"resistant\"],[\"Moz\",\"susceptible\"],[\"Moz\",\"susceptible\"],[\"Moz\",\"susceptible\"],[\"Moz\",\"susceptible\"],[\"Tolay\",\"resistant\"],[\"Tolay\",\"resistant\"],[\"Tolay\",\"resistant\"],[\"Tolay\",\"resistant\"],[\"Dongola\",\"susceptible\"],[\"Dongola\",\"susceptible\"],[\"Dongola\",\"susceptible\"],[\"Ethiopia\",\"resistant\"],[\"Ethiopia\",\"resistant\"],[\"Ethiopia\",\"resistant\"]],\"hovertemplate\":\"species=arabiensis<br>PC1=%{x}<br>PC2=%{y}<br>condition=%{customdata[0]}<br>resistance=%{customdata[1]}<extra></extra>\",\"legendgroup\":\"arabiensis\",\"marker\":{\"color\":\"#A3A500\",\"symbol\":\"circle\"},\"mode\":\"markers\",\"name\":\"arabiensis\",\"orientation\":\"v\",\"showlegend\":true,\"x\":[-61.52978838826184,-60.374816579627854,-64.88835435298743,-63.22706278955966,-59.16816965231516,-63.57611257790103,12.385769479857368,11.930560705312665,19.699698977975256,23.47409161691051,18.423478694065125,17.748256730960726,17.22029254975136,13.82577708809227,19.75037376632794,27.433451486608803,17.179903668438453,18.71367858876274,12.695153585490196,11.335674922626998,19.36898469882508,18.57435902475137,80.790054751093,90.10619999140908,88.5057924289055,64.92516042158947,71.93425088965417,63.500935108705384],\"xaxis\":\"x\",\"y\":[-64.6598618069045,-50.97271664325086,-49.138626353354184,-30.56434762243984,-39.53434242324672,-52.93355860608681,61.03761172082903,58.09730873570915,59.103996404836096,59.34776019426346,73.10278223684949,69.21473757878996,70.15686601733991,71.85289479070252,69.79159619446287,67.03000870453306,69.56027700893644,72.93345589447073,67.87062551729284,66.15557336782736,63.921514659697465,60.13739045852668,28.778053172198828,27.387032203526065,24.976558014775463,33.67877364808648,26.044958253566623,33.72446876670382],\"yaxis\":\"y\",\"type\":\"scatter\"},{\"customdata\":[[\"Cam_fun\",\"resistant\"],[\"Cam_fun\",\"resistant\"],[\"Cam_fun\",\"resistant\"],[\"Cam_fun\",\"resistant\"],[\"Cam_fun\",\"resistant\"],[\"Cam_fun\",\"resistant\"],[\"Cam_fun\",\"resistant\"],[\"Cam_fun\",\"resistant\"],[\"Cam_fun\",\"resistant\"],[\"Fang\",\"susceptible\"],[\"Fang\",\"susceptible\"],[\"Fang\",\"susceptible\"],[\"Fumoz\",\"resistant\"],[\"Fumoz\",\"resistant\"],[\"Fumoz\",\"resistant\"],[\"Fumoz\",\"resistant\"],[\"Fumoz\",\"resistant\"],[\"Ghana_fun\",\"resistant\"],[\"Ghana_fun\",\"resistant\"],[\"Ghana_fun\",\"resistant\"],[\"Ghana_fun\",\"resistant\"],[\"Ghana_fun\",\"resistant\"],[\"Ghana_fun\",\"resistant\"],[\"Ghana_fun\",\"resistant\"],[\"Ghana_fun\",\"resistant\"],[\"Ghana_fun\",\"resistant\"],[\"Ghana_fun\",\"resistant\"],[\"Malawi_fun\",\"resistant\"],[\"Malawi_fun\",\"resistant\"],[\"Malawi_fun\",\"resistant\"],[\"Malawi_fun\",\"resistant\"],[\"Malawi_fun\",\"resistant\"],[\"Malawi_fun\",\"resistant\"],[\"Malawi_fun\",\"resistant\"],[\"Malawi_fun\",\"resistant\"],[\"Malawi_fun\",\"resistant\"],[\"Malawi_fun\",\"resistant\"],[\"Uganda_fun\",\"resistant\"],[\"Uganda_fun\",\"resistant\"],[\"Uganda_fun\",\"resistant\"],[\"Uganda_fun\",\"resistant\"],[\"Uganda_fun\",\"resistant\"],[\"Uganda_fun\",\"resistant\"],[\"Uganda_fun\",\"resistant\"],[\"Uganda_fun\",\"resistant\"],[\"Uganda_fun\",\"resistant\"]],\"hovertemplate\":\"species=funestus<br>PC1=%{x}<br>PC2=%{y}<br>condition=%{customdata[0]}<br>resistance=%{customdata[1]}<extra></extra>\",\"legendgroup\":\"funestus\",\"marker\":{\"color\":\"#00BF7D\",\"symbol\":\"circle\"},\"mode\":\"markers\",\"name\":\"funestus\",\"orientation\":\"v\",\"showlegend\":true,\"x\":[240.00662127299864,234.04782070857294,235.2542344638966,240.27724775235305,238.4278998138383,236.33037177061965,238.49870349359534,236.98662889903997,232.79504509888397,224.3135838074323,233.45415769274533,234.01984189978273,230.81288539274524,234.21298212470194,240.49717710086227,240.9510188905133,237.5675628798297,238.4750450616318,242.37505385223548,239.45383531325012,239.79231879978872,238.46134187144986,240.97336614665033,240.9078839165755,237.73000249144576,225.39866684066507,231.59978872796677,242.50134973016,238.66403258091376,229.56718827934387,241.1780691289905,237.91521477583,240.12125492617616,236.6755057350928,242.77009799922428,242.37027677916035,238.78524127621756,255.64227406734676,249.8417871769544,249.79582982214444,247.51954227106665,227.1766651418892,249.4669835132528,234.55781698436445,238.00905041173849,235.02317985180227],\"xaxis\":\"x\",\"y\":[15.48440694284242,-1.7193435610492143,9.50473870123895,1.6691650716104303,-4.35690962275619,4.2933787382003334,3.674569911723211,-1.5528705095066997,10.988441835751772,17.079044646377504,11.545896085980573,3.8691332736977997,19.97500840690474,32.34465694001564,32.34987634883148,35.4474188574979,17.074080899645008,7.658691832586945,-16.89032691995347,3.5006624270413433,4.844739404402613,4.522413726677971,10.420986395695952,17.172853268027037,8.448939150381584,14.729192982717741,11.993609895137931,1.490163411887082,6.221263568509626,7.6426042547522215,-15.884489939511251,-20.255610927255763,10.52427479728549,5.143034545833623,6.859228494672688,-7.643396649483899,2.080359608464303,-1.5066741168129243,1.9436291928751794,-8.463099777638991,6.227477735162746,10.593630430585394,-1.2959410881118565,9.87374174581029,6.687066563440873,-0.7931625501699932],\"yaxis\":\"y\",\"type\":\"scatter\"}],                        {\"template\":{\"data\":{\"barpolar\":[{\"marker\":{\"line\":{\"color\":\"rgb(237,237,237)\",\"width\":0.5},\"pattern\":{\"fillmode\":\"overlay\",\"size\":10,\"solidity\":0.2}},\"type\":\"barpolar\"}],\"bar\":[{\"error_x\":{\"color\":\"rgb(51,51,51)\"},\"error_y\":{\"color\":\"rgb(51,51,51)\"},\"marker\":{\"line\":{\"color\":\"rgb(237,237,237)\",\"width\":0.5},\"pattern\":{\"fillmode\":\"overlay\",\"size\":10,\"solidity\":0.2}},\"type\":\"bar\"}],\"carpet\":[{\"aaxis\":{\"endlinecolor\":\"rgb(51,51,51)\",\"gridcolor\":\"white\",\"linecolor\":\"white\",\"minorgridcolor\":\"white\",\"startlinecolor\":\"rgb(51,51,51)\"},\"baxis\":{\"endlinecolor\":\"rgb(51,51,51)\",\"gridcolor\":\"white\",\"linecolor\":\"white\",\"minorgridcolor\":\"white\",\"startlinecolor\":\"rgb(51,51,51)\"},\"type\":\"carpet\"}],\"choropleth\":[{\"colorbar\":{\"outlinewidth\":0,\"tickcolor\":\"rgb(237,237,237)\",\"ticklen\":6,\"ticks\":\"inside\"},\"type\":\"choropleth\"}],\"contourcarpet\":[{\"colorbar\":{\"outlinewidth\":0,\"tickcolor\":\"rgb(237,237,237)\",\"ticklen\":6,\"ticks\":\"inside\"},\"type\":\"contourcarpet\"}],\"contour\":[{\"colorbar\":{\"outlinewidth\":0,\"tickcolor\":\"rgb(237,237,237)\",\"ticklen\":6,\"ticks\":\"inside\"},\"colorscale\":[[0,\"rgb(20,44,66)\"],[1,\"rgb(90,179,244)\"]],\"type\":\"contour\"}],\"heatmapgl\":[{\"colorbar\":{\"outlinewidth\":0,\"tickcolor\":\"rgb(237,237,237)\",\"ticklen\":6,\"ticks\":\"inside\"},\"colorscale\":[[0,\"rgb(20,44,66)\"],[1,\"rgb(90,179,244)\"]],\"type\":\"heatmapgl\"}],\"heatmap\":[{\"colorbar\":{\"outlinewidth\":0,\"tickcolor\":\"rgb(237,237,237)\",\"ticklen\":6,\"ticks\":\"inside\"},\"colorscale\":[[0,\"rgb(20,44,66)\"],[1,\"rgb(90,179,244)\"]],\"type\":\"heatmap\"}],\"histogram2dcontour\":[{\"colorbar\":{\"outlinewidth\":0,\"tickcolor\":\"rgb(237,237,237)\",\"ticklen\":6,\"ticks\":\"inside\"},\"colorscale\":[[0,\"rgb(20,44,66)\"],[1,\"rgb(90,179,244)\"]],\"type\":\"histogram2dcontour\"}],\"histogram2d\":[{\"colorbar\":{\"outlinewidth\":0,\"tickcolor\":\"rgb(237,237,237)\",\"ticklen\":6,\"ticks\":\"inside\"},\"colorscale\":[[0,\"rgb(20,44,66)\"],[1,\"rgb(90,179,244)\"]],\"type\":\"histogram2d\"}],\"histogram\":[{\"marker\":{\"pattern\":{\"fillmode\":\"overlay\",\"size\":10,\"solidity\":0.2}},\"type\":\"histogram\"}],\"mesh3d\":[{\"colorbar\":{\"outlinewidth\":0,\"tickcolor\":\"rgb(237,237,237)\",\"ticklen\":6,\"ticks\":\"inside\"},\"type\":\"mesh3d\"}],\"parcoords\":[{\"line\":{\"colorbar\":{\"outlinewidth\":0,\"tickcolor\":\"rgb(237,237,237)\",\"ticklen\":6,\"ticks\":\"inside\"}},\"type\":\"parcoords\"}],\"pie\":[{\"automargin\":true,\"type\":\"pie\"}],\"scatter3d\":[{\"line\":{\"colorbar\":{\"outlinewidth\":0,\"tickcolor\":\"rgb(237,237,237)\",\"ticklen\":6,\"ticks\":\"inside\"}},\"marker\":{\"colorbar\":{\"outlinewidth\":0,\"tickcolor\":\"rgb(237,237,237)\",\"ticklen\":6,\"ticks\":\"inside\"}},\"type\":\"scatter3d\"}],\"scattercarpet\":[{\"marker\":{\"colorbar\":{\"outlinewidth\":0,\"tickcolor\":\"rgb(237,237,237)\",\"ticklen\":6,\"ticks\":\"inside\"}},\"type\":\"scattercarpet\"}],\"scattergeo\":[{\"marker\":{\"colorbar\":{\"outlinewidth\":0,\"tickcolor\":\"rgb(237,237,237)\",\"ticklen\":6,\"ticks\":\"inside\"}},\"type\":\"scattergeo\"}],\"scattergl\":[{\"marker\":{\"colorbar\":{\"outlinewidth\":0,\"tickcolor\":\"rgb(237,237,237)\",\"ticklen\":6,\"ticks\":\"inside\"}},\"type\":\"scattergl\"}],\"scattermapbox\":[{\"marker\":{\"colorbar\":{\"outlinewidth\":0,\"tickcolor\":\"rgb(237,237,237)\",\"ticklen\":6,\"ticks\":\"inside\"}},\"type\":\"scattermapbox\"}],\"scatterpolargl\":[{\"marker\":{\"colorbar\":{\"outlinewidth\":0,\"tickcolor\":\"rgb(237,237,237)\",\"ticklen\":6,\"ticks\":\"inside\"}},\"type\":\"scatterpolargl\"}],\"scatterpolar\":[{\"marker\":{\"colorbar\":{\"outlinewidth\":0,\"tickcolor\":\"rgb(237,237,237)\",\"ticklen\":6,\"ticks\":\"inside\"}},\"type\":\"scatterpolar\"}],\"scatter\":[{\"marker\":{\"colorbar\":{\"outlinewidth\":0,\"tickcolor\":\"rgb(237,237,237)\",\"ticklen\":6,\"ticks\":\"inside\"}},\"type\":\"scatter\"}],\"scatterternary\":[{\"marker\":{\"colorbar\":{\"outlinewidth\":0,\"tickcolor\":\"rgb(237,237,237)\",\"ticklen\":6,\"ticks\":\"inside\"}},\"type\":\"scatterternary\"}],\"surface\":[{\"colorbar\":{\"outlinewidth\":0,\"tickcolor\":\"rgb(237,237,237)\",\"ticklen\":6,\"ticks\":\"inside\"},\"colorscale\":[[0,\"rgb(20,44,66)\"],[1,\"rgb(90,179,244)\"]],\"type\":\"surface\"}],\"table\":[{\"cells\":{\"fill\":{\"color\":\"rgb(237,237,237)\"},\"line\":{\"color\":\"white\"}},\"header\":{\"fill\":{\"color\":\"rgb(217,217,217)\"},\"line\":{\"color\":\"white\"}},\"type\":\"table\"}]},\"layout\":{\"annotationdefaults\":{\"arrowhead\":0,\"arrowwidth\":1},\"autotypenumbers\":\"strict\",\"coloraxis\":{\"colorbar\":{\"outlinewidth\":0,\"tickcolor\":\"rgb(237,237,237)\",\"ticklen\":6,\"ticks\":\"inside\"}},\"colorscale\":{\"sequential\":[[0,\"rgb(20,44,66)\"],[1,\"rgb(90,179,244)\"]],\"sequentialminus\":[[0,\"rgb(20,44,66)\"],[1,\"rgb(90,179,244)\"]]},\"colorway\":[\"#F8766D\",\"#A3A500\",\"#00BF7D\",\"#00B0F6\",\"#E76BF3\"],\"font\":{\"color\":\"rgb(51,51,51)\"},\"geo\":{\"bgcolor\":\"white\",\"lakecolor\":\"white\",\"landcolor\":\"rgb(237,237,237)\",\"showlakes\":true,\"showland\":true,\"subunitcolor\":\"white\"},\"hoverlabel\":{\"align\":\"left\"},\"hovermode\":\"closest\",\"paper_bgcolor\":\"white\",\"plot_bgcolor\":\"rgb(237,237,237)\",\"polar\":{\"angularaxis\":{\"gridcolor\":\"white\",\"linecolor\":\"white\",\"showgrid\":true,\"tickcolor\":\"rgb(51,51,51)\",\"ticks\":\"outside\"},\"bgcolor\":\"rgb(237,237,237)\",\"radialaxis\":{\"gridcolor\":\"white\",\"linecolor\":\"white\",\"showgrid\":true,\"tickcolor\":\"rgb(51,51,51)\",\"ticks\":\"outside\"}},\"scene\":{\"xaxis\":{\"backgroundcolor\":\"rgb(237,237,237)\",\"gridcolor\":\"white\",\"gridwidth\":2,\"linecolor\":\"white\",\"showbackground\":true,\"showgrid\":true,\"tickcolor\":\"rgb(51,51,51)\",\"ticks\":\"outside\",\"zerolinecolor\":\"white\"},\"yaxis\":{\"backgroundcolor\":\"rgb(237,237,237)\",\"gridcolor\":\"white\",\"gridwidth\":2,\"linecolor\":\"white\",\"showbackground\":true,\"showgrid\":true,\"tickcolor\":\"rgb(51,51,51)\",\"ticks\":\"outside\",\"zerolinecolor\":\"white\"},\"zaxis\":{\"backgroundcolor\":\"rgb(237,237,237)\",\"gridcolor\":\"white\",\"gridwidth\":2,\"linecolor\":\"white\",\"showbackground\":true,\"showgrid\":true,\"tickcolor\":\"rgb(51,51,51)\",\"ticks\":\"outside\",\"zerolinecolor\":\"white\"}},\"shapedefaults\":{\"fillcolor\":\"black\",\"line\":{\"width\":0},\"opacity\":0.3},\"ternary\":{\"aaxis\":{\"gridcolor\":\"white\",\"linecolor\":\"white\",\"showgrid\":true,\"tickcolor\":\"rgb(51,51,51)\",\"ticks\":\"outside\"},\"baxis\":{\"gridcolor\":\"white\",\"linecolor\":\"white\",\"showgrid\":true,\"tickcolor\":\"rgb(51,51,51)\",\"ticks\":\"outside\"},\"bgcolor\":\"rgb(237,237,237)\",\"caxis\":{\"gridcolor\":\"white\",\"linecolor\":\"white\",\"showgrid\":true,\"tickcolor\":\"rgb(51,51,51)\",\"ticks\":\"outside\"}},\"xaxis\":{\"automargin\":true,\"gridcolor\":\"white\",\"linecolor\":\"white\",\"showgrid\":true,\"tickcolor\":\"rgb(51,51,51)\",\"ticks\":\"outside\",\"title\":{\"standoff\":15},\"zerolinecolor\":\"white\"},\"yaxis\":{\"automargin\":true,\"gridcolor\":\"white\",\"linecolor\":\"white\",\"showgrid\":true,\"tickcolor\":\"rgb(51,51,51)\",\"ticks\":\"outside\",\"title\":{\"standoff\":15},\"zerolinecolor\":\"white\"}}},\"xaxis\":{\"anchor\":\"y\",\"domain\":[0.0,1.0],\"title\":{\"text\":\"PC1\"}},\"yaxis\":{\"anchor\":\"x\",\"domain\":[0.0,1.0],\"title\":{\"text\":\"PC2\"}},\"legend\":{\"title\":{\"text\":\"species\"},\"tracegroupgap\":0},\"margin\":{\"t\":60},\"height\":600,\"width\":800},                        {\"responsive\": true}                    ).then(function(){\n",
              "                            \n",
              "var gd = document.getElementById('df2b2ff1-4e7b-4c77-a875-2455400346cc');\n",
              "var x = new MutationObserver(function (mutations, observer) {{\n",
              "        var display = window.getComputedStyle(gd).display;\n",
              "        if (!display || display === 'none') {{\n",
              "            console.log([gd, 'removed!']);\n",
              "            Plotly.purge(gd);\n",
              "            observer.disconnect();\n",
              "        }}\n",
              "}});\n",
              "\n",
              "// Listen for the removal of the full notebook cells\n",
              "var notebookContainer = gd.closest('#notebook-container');\n",
              "if (notebookContainer) {{\n",
              "    x.observe(notebookContainer, {childList: true});\n",
              "}}\n",
              "\n",
              "// Listen for the clearing of the current output cell\n",
              "var outputEl = gd.closest('.output');\n",
              "if (outputEl) {{\n",
              "    x.observe(outputEl, {childList: true});\n",
              "}}\n",
              "\n",
              "                        })                };                            </script>        </div>\n",
              "</body>\n",
              "</html>"
            ]
          },
          "metadata": {}
        }
      ]
    },
    {
      "cell_type": "markdown",
      "source": [
        "### PC3 vc PC4"
      ],
      "metadata": {
        "id": "TWqLAFZGwxGA"
      }
    },
    {
      "cell_type": "code",
      "source": [
        "px.scatter(data_frame=pca_df, x='PC3', y='PC4', color='species', hover_data = ['condition', 'resistance'], template=\"ggplot2\", width=800, height=600)"
      ],
      "metadata": {
        "colab": {
          "base_uri": "https://localhost:8080/",
          "height": 617
        },
        "id": "Z5LHyOFDwqux",
        "outputId": "7aefa6ee-6e52-4be0-a660-4a44261e958a"
      },
      "execution_count": 5,
      "outputs": [
        {
          "output_type": "display_data",
          "data": {
            "text/html": [
              "<html>\n",
              "<head><meta charset=\"utf-8\" /></head>\n",
              "<body>\n",
              "    <div>            <script src=\"https://cdnjs.cloudflare.com/ajax/libs/mathjax/2.7.5/MathJax.js?config=TeX-AMS-MML_SVG\"></script><script type=\"text/javascript\">if (window.MathJax) {MathJax.Hub.Config({SVG: {font: \"STIX-Web\"}});}</script>                <script type=\"text/javascript\">window.PlotlyConfig = {MathJaxConfig: 'local'};</script>\n",
              "        <script src=\"https://cdn.plot.ly/plotly-2.8.3.min.js\"></script>                <div id=\"89e708a6-70aa-4a7e-9216-41a36c4c5909\" class=\"plotly-graph-div\" style=\"height:600px; width:800px;\"></div>            <script type=\"text/javascript\">                                    window.PLOTLYENV=window.PLOTLYENV || {};                                    if (document.getElementById(\"89e708a6-70aa-4a7e-9216-41a36c4c5909\")) {                    Plotly.newPlot(                        \"89e708a6-70aa-4a7e-9216-41a36c4c5909\",                        [{\"customdata\":[[\"Tiefora\",\"resistant\"],[\"Tiefora\",\"resistant\"],[\"Tiefora\",\"resistant\"],[\"Ban\",\"resistant\"],[\"Ban\",\"resistant\"],[\"Ban\",\"resistant\"],[\"Ban\",\"resistant\"],[\"Bak\",\"resistant\"],[\"Bak\",\"resistant\"],[\"Bak\",\"resistant\"],[\"Bak\",\"resistant\"],[\"VK7\",\"resistant\"],[\"VK7\",\"resistant\"],[\"VK7\",\"resistant\"],[\"VK7\",\"resistant\"],[\"BanRe\",\"resistant\"],[\"BanRe\",\"resistant\"],[\"BanRe\",\"resistant\"],[\"BanRe\",\"resistant\"],[\"Chad\",\"resistant\"],[\"Chad\",\"resistant\"],[\"Chad\",\"resistant\"],[\"Chad\",\"resistant\"],[\"Chad\",\"resistant\"],[\"Chad\",\"resistant\"],[\"Nigeria\",\"resistant\"],[\"Nigeria\",\"resistant\"],[\"Nigeria\",\"resistant\"],[\"Nigeria\",\"resistant\"],[\"Nigeria\",\"resistant\"],[\"Nigeria\",\"resistant\"],[\"Cameroon\",\"resistant\"],[\"Cameroon\",\"resistant\"],[\"Cameroon\",\"resistant\"],[\"Cameroon\",\"resistant\"],[\"Cameroon\",\"resistant\"],[\"Niger\",\"resistant\"],[\"Niger\",\"resistant\"],[\"Niger\",\"resistant\"],[\"Niger\",\"resistant\"],[\"Niger\",\"resistant\"],[\"Niger\",\"resistant\"],[\"Ngousso\",\"susceptible\"],[\"Ngousso\",\"susceptible\"],[\"Ngousso\",\"susceptible\"],[\"Kisumu\",\"susceptible\"],[\"Kisumu\",\"susceptible\"],[\"Kisumu\",\"susceptible\"],[\"Kisumu\",\"susceptible\"],[\"BanS\",\"susceptible\"],[\"BanS\",\"susceptible\"],[\"BanS\",\"susceptible\"],[\"BanS\",\"susceptible\"],[\"Ngousso\",\"susceptible\"],[\"Ngousso\",\"susceptible\"],[\"Ngousso\",\"susceptible\"],[\"Ngousso\",\"susceptible\"],[\"Ngousso\",\"susceptible\"],[\"Ngousso\",\"susceptible\"],[\"Agboville\",\"resistant\"],[\"Agboville\",\"resistant\"],[\"Agboville\",\"resistant\"],[\"Agboville\",\"resistant\"],[\"Agboville\",\"resistant\"],[\"Agboville\",\"resistant\"],[\"Agboville\",\"resistant\"],[\"Agboville\",\"resistant\"],[\"Agboville\",\"resistant\"],[\"Dabou\",\"resistant\"],[\"Dabou\",\"resistant\"],[\"Dabou\",\"resistant\"],[\"Dabou\",\"resistant\"],[\"Dabou\",\"resistant\"],[\"Dabou\",\"resistant\"],[\"Dabou\",\"resistant\"],[\"Dabou\",\"resistant\"],[\"Dabou\",\"resistant\"],[\"Dabou\",\"resistant\"],[\"Tiassale\",\"resistant\"],[\"Tiassale\",\"resistant\"],[\"Tiassale\",\"resistant\"],[\"Tiassale\",\"resistant\"],[\"Tiassale\",\"resistant\"],[\"Tiassale\",\"resistant\"],[\"Tiassale\",\"resistant\"],[\"Tiassale\",\"resistant\"],[\"Tiassale\",\"resistant\"],[\"Tiassale\",\"resistant\"],[\"Ngousso\",\"susceptible\"],[\"Ngousso\",\"susceptible\"],[\"Ngousso\",\"susceptible\"],[\"Ngousso\",\"susceptible\"],[\"Ngousso\",\"susceptible\"],[\"Mali\",\"susceptible\"],[\"Mali\",\"susceptible\"],[\"Mali\",\"susceptible\"],[\"Mali\",\"susceptible\"],[\"Mali\",\"susceptible\"],[\"Kisumu\",\"susceptible\"],[\"Kisumu\",\"susceptible\"],[\"Kisumu\",\"susceptible\"],[\"Kisumu\",\"susceptible\"],[\"Bouake_colu_unexp\",\"resistant\"],[\"Bouake_colu_unexp\",\"resistant\"],[\"Bouake_colu_unexp\",\"resistant\"],[\"Bouake_colu_unexp\",\"resistant\"],[\"Bouake_colu_exp\",\"resistant\"],[\"Bouake_colu_exp\",\"resistant\"],[\"Bouake_colu_exp\",\"resistant\"],[\"Bouake_colu_exp\",\"resistant\"],[\"Ngousso\",\"susceptible\"],[\"Ngousso\",\"susceptible\"],[\"Ngousso\",\"susceptible\"],[\"Ngousso\",\"susceptible\"],[\"Bouake_gamb_unexp\",\"resistant\"],[\"Bouake_gamb_unexp\",\"resistant\"],[\"Bouake_gamb_unexp\",\"resistant\"],[\"Bouake_gamb_unexp\",\"resistant\"],[\"Bouake_gamb_exp\",\"resistant\"],[\"Bouake_gamb_exp\",\"resistant\"],[\"Bouake_gamb_exp\",\"resistant\"],[\"Bouake_gamb_exp\",\"resistant\"],[\"ContTia\",\"resistant\"],[\"ContTia\",\"resistant\"],[\"ContTia\",\"resistant\"],[\"DeltTia\",\"resistant\"],[\"DeltTia\",\"resistant\"],[\"DeltTia\",\"resistant\"],[\"MalaTia\",\"resistant\"],[\"MalaTia\",\"resistant\"],[\"MalaTia\",\"resistant\"],[\"PiriTia\",\"resistant\"],[\"PiriTia\",\"resistant\"],[\"PiriTia\",\"resistant\"],[\"Ngousso\",\"susceptible\"],[\"Ngousso\",\"susceptible\"],[\"Ngousso\",\"susceptible\"],[\"Ngousso\",\"susceptible\"],[\"BusiaSurvivors\",\"resistant\"],[\"BusiaSurvivors\",\"resistant\"],[\"BusiaSurvivors\",\"resistant\"],[\"BusiaSurvivors\",\"resistant\"],[\"BusiaSurvivors\",\"resistant\"],[\"BusiaSurvivors\",\"resistant\"],[\"BusiaParental\",\"resistant\"],[\"BusiaParental\",\"resistant\"],[\"BusiaParental\",\"resistant\"],[\"BusiaParental\",\"resistant\"],[\"BusiaParental\",\"resistant\"],[\"BusiaParental\",\"resistant\"],[\"Kisumu\",\"susceptible\"],[\"Kisumu\",\"susceptible\"],[\"Kisumu\",\"susceptible\"],[\"Kisumu\",\"susceptible\"]],\"hovertemplate\":\"species=gambiae<br>PC3=%{x}<br>PC4=%{y}<br>condition=%{customdata[0]}<br>resistance=%{customdata[1]}<extra></extra>\",\"legendgroup\":\"gambiae\",\"marker\":{\"color\":\"#F8766D\",\"symbol\":\"circle\"},\"mode\":\"markers\",\"name\":\"gambiae\",\"orientation\":\"v\",\"showlegend\":true,\"x\":[-17.810657238648137,-26.64959903885915,-28.692420493997645,12.166406825922257,-0.08583364381897127,-7.435725599582405,1.0151514662566687,-13.820743997853752,-15.938556010664456,-19.390474308046908,-15.088282461942137,-14.21540514642948,-19.112138636442555,-2.2112261719668087,-12.71603762890466,0.1561008153935593,6.930232150295863,8.864556657969928,0.9656954535430669,40.763977236253325,52.208147871181055,44.87687878253802,40.12727267194613,24.227928646280898,27.230767252723975,59.13208704997334,60.5974912124544,52.746093629582106,49.578471895721336,55.40504848817448,50.26161013259513,24.674581258435317,37.68254221907056,10.121166959499135,13.02387759714112,13.145496198180561,48.97399304706305,49.138518169624504,55.375837542364685,50.3413745996809,26.91704999580639,44.095606326769605,-23.136546424838976,-21.74748421246625,-23.161412305097766,-38.66577560458286,-30.336981168361714,-25.585076045287515,-20.78159437310697,-13.184456610933381,-7.388553276083572,-16.045646456902396,-2.979007384594648,-15.36897752580994,-14.73285766047974,-18.18503954557368,27.41901021247517,35.96927191549262,23.251057142291412,-42.742406747224706,-49.292345777048205,-49.62428783559324,-60.12982197571577,-74.70025060847924,-56.066167119907696,-54.072515437935,-74.1339349454838,-75.17835813315044,-73.94544340924253,-64.24545062770763,-44.17028045628834,-52.885930506036956,-68.31591140748334,-69.45745501080428,-63.58845652693804,-61.899847279112706,-38.336041199105786,-22.782100851841733,-38.34586695009852,-42.94762162446832,-66.29679671330099,-44.65088448344522,-48.86039495506222,-79.18513088696355,-58.76910005628622,-72.56504551866666,-54.003754779927675,-73.28740678980607,-56.55069480378712,-70.0375442244592,-68.24095404281242,-77.59372737655164,-75.69992047336702,-49.74786835788359,-44.1444991500129,-23.90765166741591,-44.42197618289094,-43.23659108652789,-22.375301343405642,-30.58127589829248,-28.331065585368265,-22.966031813290183,-35.08997375691366,-21.247551654705518,-41.94413343497319,-37.16840068734619,-28.77460969870373,-31.71818709990151,-40.481483834289264,-46.263009123409596,-27.092257384365492,-25.581595639804565,-23.332415080952266,-30.474474780704508,-32.08376606192314,-27.2255494651484,-16.891704430330318,-23.45093604308333,-17.716996100867114,-19.15137149019826,-26.110539598309778,-13.143486347965322,-13.819998160450016,-7.720576235014951,-2.3162803767734026,-17.89383305597107,-24.368741724378474,-24.917127902740596,-9.872365509922396,-8.345278063540826,1.9165906775256045,-5.179167813812318,-2.078347066385731,-10.55709788168248,-27.092257384365492,-25.581595639804565,-23.332415080952266,-30.474474780704508,-19.316575508687986,-27.890115842373213,-17.250326664405417,-22.175531148515315,-28.825765362139293,-31.013018446476202,-14.470722331981845,-10.261313150825238,-15.482460650238815,-16.676323041956117,-24.967604108765627,-24.253994600630275,-31.64637057726563,-31.290471231044506,-34.35635183415383,-34.54017643747949],\"xaxis\":\"x\",\"y\":[40.70078662257758,24.970530561876437,42.1462783275099,30.7244148725227,37.52054160755457,45.74900929621777,39.20445902439106,40.32456134243761,35.55960098115766,40.309223577767696,27.013716513136455,63.66484952447486,62.50087974889233,78.16487372479163,68.34782388526621,15.762974716745202,43.38731435923046,21.06118522167253,14.866129882234942,98.7000745747202,114.71576812635595,101.44893658432838,69.21560471894536,88.03709870368074,55.5793863758435,101.99957707441631,93.148743724149,90.89002309244455,86.85774253294444,117.27893877524015,120.65457937583456,97.16342990233545,107.9403277438106,113.85434175040564,87.13583395048155,110.44887250205134,73.73024648658641,73.16562243949362,106.379593490773,125.38255747236244,124.52140914558474,103.91426247231057,1.718801294973649,-2.625667471509258,8.991913109905084,-18.358453535155544,-7.175880313581998,7.330841428693789,-0.12948777210377904,29.097946793371065,34.365802311298054,30.686398443126134,23.725052492828247,-20.219074525310436,-25.993121694988925,-14.261564889159636,60.80395967222275,58.0970684333778,55.846268463755735,-20.139466498324058,3.625230232390257,-3.091080015452198,-23.153148759684,-29.24421440327712,-21.051425107426798,-16.546787736717572,-25.805782210806868,-20.29041987624311,-10.4677167349678,-8.986007512894869,-10.13125309842818,-13.622281061040141,-6.287138029724178,-30.84234920926048,-25.4391955567641,-17.37513057870706,-5.578116843663638,0.9426589176171832,-12.376932573771052,0.013610995047521078,-4.478552477562999,-20.59671315071764,-18.688293352291318,15.057173633565851,-10.794863022232152,-27.159672456931823,-17.87603111673908,-22.23267136553618,-40.82569898747164,-32.37903118103882,-40.18713572483706,-44.86261715498883,-55.88224645425009,-23.121200243565518,-7.746746803041603,-4.628677820522344,-19.512452943198827,-11.870039978075342,-61.98403683298834,-79.61232736926308,-64.61073227487552,-69.61705357826466,-34.04020537336488,-35.904487077234,-54.69482586408527,-41.773095731199874,-19.407982923522617,-9.979572033587568,-48.53956283220911,-47.910798446241756,-51.8012691386602,-43.78599546568338,-49.82136203232665,-49.879006220166836,-25.624367859090476,-37.57106859656618,-40.57597071695944,-26.37292649218346,-29.55736087168342,-16.78284798594135,-27.97327103038338,-33.380090294560496,-21.002331215135307,-10.06609246902265,-19.756604817943,-44.58048269985892,-16.345809130063216,-29.266720722326784,-21.098618946981443,-20.545386463070212,-38.77817021003466,-26.716462983696637,-13.397494185559731,-29.98105729147045,-51.8012691386602,-43.78599546568338,-49.82136203232665,-49.879006220166836,-50.29318494643476,-41.69677656294308,-50.00982152505395,-41.03474169012493,-49.55261830696508,-44.96890909609268,-33.97801391563233,-6.760985820363813,-11.676056370782339,-21.759090944767923,-21.987105746930354,-12.357736462572953,-45.10919675726238,-44.30284989851574,-40.33826833657705,-40.033319769985845],\"yaxis\":\"y\",\"type\":\"scatter\"},{\"customdata\":[[\"Gou\",\"resistant\"],[\"Gou\",\"resistant\"],[\"Gou\",\"resistant\"],[\"Moz\",\"susceptible\"],[\"Moz\",\"susceptible\"],[\"Moz\",\"susceptible\"],[\"Asendabo\",\"resistant\"],[\"Asendabo\",\"resistant\"],[\"Asendabo\",\"resistant\"],[\"Asendabo\",\"resistant\"],[\"Chewaka\",\"resistant\"],[\"Chewaka\",\"resistant\"],[\"Chewaka\",\"resistant\"],[\"Chewaka\",\"resistant\"],[\"Moz\",\"susceptible\"],[\"Moz\",\"susceptible\"],[\"Moz\",\"susceptible\"],[\"Moz\",\"susceptible\"],[\"Tolay\",\"resistant\"],[\"Tolay\",\"resistant\"],[\"Tolay\",\"resistant\"],[\"Tolay\",\"resistant\"],[\"Dongola\",\"susceptible\"],[\"Dongola\",\"susceptible\"],[\"Dongola\",\"susceptible\"],[\"Ethiopia\",\"resistant\"],[\"Ethiopia\",\"resistant\"],[\"Ethiopia\",\"resistant\"]],\"hovertemplate\":\"species=arabiensis<br>PC3=%{x}<br>PC4=%{y}<br>condition=%{customdata[0]}<br>resistance=%{customdata[1]}<extra></extra>\",\"legendgroup\":\"arabiensis\",\"marker\":{\"color\":\"#A3A500\",\"symbol\":\"circle\"},\"mode\":\"markers\",\"name\":\"arabiensis\",\"orientation\":\"v\",\"showlegend\":true,\"x\":[6.384729754187372,4.8651622077371455,10.641574495855348,1.3751659231696916,-1.638623576810617,4.9509801978878665,227.9399995671254,235.12397120322692,239.0047442241946,229.22156994838423,219.59880108224536,214.10814829482345,220.26167651909614,206.69419420053543,203.26330530497546,200.50612561979545,211.50026820769682,199.82919623557586,241.23006203407186,235.09523479355926,228.89926926791574,225.21465060965127,167.0042646322315,156.46705919725056,158.85475164356788,188.83971170551894,181.11923728164558,191.46892253885918],\"xaxis\":\"x\",\"y\":[15.310133385566452,26.039727201024572,31.931911318117972,51.78840864887724,50.10803232105682,32.27076700929018,-39.8345217677173,-39.534247934638906,-39.48170737980572,-27.538460071778683,-33.30799580389409,-45.93230569836569,-27.78564725151474,-34.19671350466923,-25.636469949317185,-32.264537287607546,-31.56759356148136,-28.40194886208077,-18.556286335875264,-24.955356603584683,-31.920981453678177,-31.087833671980626,-66.47700442754021,-63.98867059467868,-71.01533883282215,-60.18331519184252,-55.7439172624896,-66.4780963140787],\"yaxis\":\"y\",\"type\":\"scatter\"},{\"customdata\":[[\"Cam_fun\",\"resistant\"],[\"Cam_fun\",\"resistant\"],[\"Cam_fun\",\"resistant\"],[\"Cam_fun\",\"resistant\"],[\"Cam_fun\",\"resistant\"],[\"Cam_fun\",\"resistant\"],[\"Cam_fun\",\"resistant\"],[\"Cam_fun\",\"resistant\"],[\"Cam_fun\",\"resistant\"],[\"Fang\",\"susceptible\"],[\"Fang\",\"susceptible\"],[\"Fang\",\"susceptible\"],[\"Fumoz\",\"resistant\"],[\"Fumoz\",\"resistant\"],[\"Fumoz\",\"resistant\"],[\"Fumoz\",\"resistant\"],[\"Fumoz\",\"resistant\"],[\"Ghana_fun\",\"resistant\"],[\"Ghana_fun\",\"resistant\"],[\"Ghana_fun\",\"resistant\"],[\"Ghana_fun\",\"resistant\"],[\"Ghana_fun\",\"resistant\"],[\"Ghana_fun\",\"resistant\"],[\"Ghana_fun\",\"resistant\"],[\"Ghana_fun\",\"resistant\"],[\"Ghana_fun\",\"resistant\"],[\"Ghana_fun\",\"resistant\"],[\"Malawi_fun\",\"resistant\"],[\"Malawi_fun\",\"resistant\"],[\"Malawi_fun\",\"resistant\"],[\"Malawi_fun\",\"resistant\"],[\"Malawi_fun\",\"resistant\"],[\"Malawi_fun\",\"resistant\"],[\"Malawi_fun\",\"resistant\"],[\"Malawi_fun\",\"resistant\"],[\"Malawi_fun\",\"resistant\"],[\"Malawi_fun\",\"resistant\"],[\"Uganda_fun\",\"resistant\"],[\"Uganda_fun\",\"resistant\"],[\"Uganda_fun\",\"resistant\"],[\"Uganda_fun\",\"resistant\"],[\"Uganda_fun\",\"resistant\"],[\"Uganda_fun\",\"resistant\"],[\"Uganda_fun\",\"resistant\"],[\"Uganda_fun\",\"resistant\"],[\"Uganda_fun\",\"resistant\"]],\"hovertemplate\":\"species=funestus<br>PC3=%{x}<br>PC4=%{y}<br>condition=%{customdata[0]}<br>resistance=%{customdata[1]}<extra></extra>\",\"legendgroup\":\"funestus\",\"marker\":{\"color\":\"#00BF7D\",\"symbol\":\"circle\"},\"mode\":\"markers\",\"name\":\"funestus\",\"orientation\":\"v\",\"showlegend\":true,\"x\":[-31.03804235787552,-36.21270747804638,-23.935154342266166,-41.972341157298786,-31.91001727967117,-37.73457884424989,-34.41594328022193,-52.417345792502715,-41.11804368633207,-20.732418265898016,-21.472917374014518,-24.595079195595584,-7.016983289191205,-33.77586846751255,-34.1294475043522,-29.763025377924688,-33.93522168924728,-39.98015238202003,-30.55295136227606,-36.412032309733014,-38.479589612779264,-25.077748302360785,-37.680024102007344,-31.54378668413035,-37.31325263812891,-22.18709575108478,-32.599550463418886,-42.47377769429706,-36.211056970215175,-34.74608627141433,-33.48170752053491,-32.35863026424314,-37.48240823276567,-37.776923819581846,-50.530029847829674,-49.501247837521134,-48.20195817358216,-53.810314713552984,-51.83166512403597,-54.5394955241871,-51.46143696102347,-18.41938828374684,-57.45169278593012,-34.426769672339155,-41.22379753201182,-43.50460007745428],\"xaxis\":\"x\",\"y\":[3.212153294135738,0.3379015355474223,0.7545214751835538,-3.143574960558637,-5.829480721482538,-5.652292170954419,3.066173334316421,-2.8607986519744837,1.280377703585752,18.027395660858183,3.756233364041089,11.136720089966895,18.911943545449812,18.462758157770658,15.564006786786733,14.727150765366789,12.207717595309845,3.7334073815852027,4.237544178796578,5.248534941083451,3.300347726871328,3.6217769473787094,4.557329252627411,9.225890157075554,2.0536539496403132,5.649609275758424,6.540595359303667,-0.24971635064671185,-9.07347533231458,-4.234516196488457,5.190415745201356,0.10020457018065222,-2.680970107779447,-3.5620182610830815,0.25063793105939813,4.459968633467825,3.20499759210531,-1.25147521474289,2.94272875905413,-2.003160392945261,7.865643192780843,7.12759162077851,-0.541837317087878,4.412396287957362,-3.440368176807311,-0.7334266803795148],\"yaxis\":\"y\",\"type\":\"scatter\"}],                        {\"template\":{\"data\":{\"barpolar\":[{\"marker\":{\"line\":{\"color\":\"rgb(237,237,237)\",\"width\":0.5},\"pattern\":{\"fillmode\":\"overlay\",\"size\":10,\"solidity\":0.2}},\"type\":\"barpolar\"}],\"bar\":[{\"error_x\":{\"color\":\"rgb(51,51,51)\"},\"error_y\":{\"color\":\"rgb(51,51,51)\"},\"marker\":{\"line\":{\"color\":\"rgb(237,237,237)\",\"width\":0.5},\"pattern\":{\"fillmode\":\"overlay\",\"size\":10,\"solidity\":0.2}},\"type\":\"bar\"}],\"carpet\":[{\"aaxis\":{\"endlinecolor\":\"rgb(51,51,51)\",\"gridcolor\":\"white\",\"linecolor\":\"white\",\"minorgridcolor\":\"white\",\"startlinecolor\":\"rgb(51,51,51)\"},\"baxis\":{\"endlinecolor\":\"rgb(51,51,51)\",\"gridcolor\":\"white\",\"linecolor\":\"white\",\"minorgridcolor\":\"white\",\"startlinecolor\":\"rgb(51,51,51)\"},\"type\":\"carpet\"}],\"choropleth\":[{\"colorbar\":{\"outlinewidth\":0,\"tickcolor\":\"rgb(237,237,237)\",\"ticklen\":6,\"ticks\":\"inside\"},\"type\":\"choropleth\"}],\"contourcarpet\":[{\"colorbar\":{\"outlinewidth\":0,\"tickcolor\":\"rgb(237,237,237)\",\"ticklen\":6,\"ticks\":\"inside\"},\"type\":\"contourcarpet\"}],\"contour\":[{\"colorbar\":{\"outlinewidth\":0,\"tickcolor\":\"rgb(237,237,237)\",\"ticklen\":6,\"ticks\":\"inside\"},\"colorscale\":[[0,\"rgb(20,44,66)\"],[1,\"rgb(90,179,244)\"]],\"type\":\"contour\"}],\"heatmapgl\":[{\"colorbar\":{\"outlinewidth\":0,\"tickcolor\":\"rgb(237,237,237)\",\"ticklen\":6,\"ticks\":\"inside\"},\"colorscale\":[[0,\"rgb(20,44,66)\"],[1,\"rgb(90,179,244)\"]],\"type\":\"heatmapgl\"}],\"heatmap\":[{\"colorbar\":{\"outlinewidth\":0,\"tickcolor\":\"rgb(237,237,237)\",\"ticklen\":6,\"ticks\":\"inside\"},\"colorscale\":[[0,\"rgb(20,44,66)\"],[1,\"rgb(90,179,244)\"]],\"type\":\"heatmap\"}],\"histogram2dcontour\":[{\"colorbar\":{\"outlinewidth\":0,\"tickcolor\":\"rgb(237,237,237)\",\"ticklen\":6,\"ticks\":\"inside\"},\"colorscale\":[[0,\"rgb(20,44,66)\"],[1,\"rgb(90,179,244)\"]],\"type\":\"histogram2dcontour\"}],\"histogram2d\":[{\"colorbar\":{\"outlinewidth\":0,\"tickcolor\":\"rgb(237,237,237)\",\"ticklen\":6,\"ticks\":\"inside\"},\"colorscale\":[[0,\"rgb(20,44,66)\"],[1,\"rgb(90,179,244)\"]],\"type\":\"histogram2d\"}],\"histogram\":[{\"marker\":{\"pattern\":{\"fillmode\":\"overlay\",\"size\":10,\"solidity\":0.2}},\"type\":\"histogram\"}],\"mesh3d\":[{\"colorbar\":{\"outlinewidth\":0,\"tickcolor\":\"rgb(237,237,237)\",\"ticklen\":6,\"ticks\":\"inside\"},\"type\":\"mesh3d\"}],\"parcoords\":[{\"line\":{\"colorbar\":{\"outlinewidth\":0,\"tickcolor\":\"rgb(237,237,237)\",\"ticklen\":6,\"ticks\":\"inside\"}},\"type\":\"parcoords\"}],\"pie\":[{\"automargin\":true,\"type\":\"pie\"}],\"scatter3d\":[{\"line\":{\"colorbar\":{\"outlinewidth\":0,\"tickcolor\":\"rgb(237,237,237)\",\"ticklen\":6,\"ticks\":\"inside\"}},\"marker\":{\"colorbar\":{\"outlinewidth\":0,\"tickcolor\":\"rgb(237,237,237)\",\"ticklen\":6,\"ticks\":\"inside\"}},\"type\":\"scatter3d\"}],\"scattercarpet\":[{\"marker\":{\"colorbar\":{\"outlinewidth\":0,\"tickcolor\":\"rgb(237,237,237)\",\"ticklen\":6,\"ticks\":\"inside\"}},\"type\":\"scattercarpet\"}],\"scattergeo\":[{\"marker\":{\"colorbar\":{\"outlinewidth\":0,\"tickcolor\":\"rgb(237,237,237)\",\"ticklen\":6,\"ticks\":\"inside\"}},\"type\":\"scattergeo\"}],\"scattergl\":[{\"marker\":{\"colorbar\":{\"outlinewidth\":0,\"tickcolor\":\"rgb(237,237,237)\",\"ticklen\":6,\"ticks\":\"inside\"}},\"type\":\"scattergl\"}],\"scattermapbox\":[{\"marker\":{\"colorbar\":{\"outlinewidth\":0,\"tickcolor\":\"rgb(237,237,237)\",\"ticklen\":6,\"ticks\":\"inside\"}},\"type\":\"scattermapbox\"}],\"scatterpolargl\":[{\"marker\":{\"colorbar\":{\"outlinewidth\":0,\"tickcolor\":\"rgb(237,237,237)\",\"ticklen\":6,\"ticks\":\"inside\"}},\"type\":\"scatterpolargl\"}],\"scatterpolar\":[{\"marker\":{\"colorbar\":{\"outlinewidth\":0,\"tickcolor\":\"rgb(237,237,237)\",\"ticklen\":6,\"ticks\":\"inside\"}},\"type\":\"scatterpolar\"}],\"scatter\":[{\"marker\":{\"colorbar\":{\"outlinewidth\":0,\"tickcolor\":\"rgb(237,237,237)\",\"ticklen\":6,\"ticks\":\"inside\"}},\"type\":\"scatter\"}],\"scatterternary\":[{\"marker\":{\"colorbar\":{\"outlinewidth\":0,\"tickcolor\":\"rgb(237,237,237)\",\"ticklen\":6,\"ticks\":\"inside\"}},\"type\":\"scatterternary\"}],\"surface\":[{\"colorbar\":{\"outlinewidth\":0,\"tickcolor\":\"rgb(237,237,237)\",\"ticklen\":6,\"ticks\":\"inside\"},\"colorscale\":[[0,\"rgb(20,44,66)\"],[1,\"rgb(90,179,244)\"]],\"type\":\"surface\"}],\"table\":[{\"cells\":{\"fill\":{\"color\":\"rgb(237,237,237)\"},\"line\":{\"color\":\"white\"}},\"header\":{\"fill\":{\"color\":\"rgb(217,217,217)\"},\"line\":{\"color\":\"white\"}},\"type\":\"table\"}]},\"layout\":{\"annotationdefaults\":{\"arrowhead\":0,\"arrowwidth\":1},\"autotypenumbers\":\"strict\",\"coloraxis\":{\"colorbar\":{\"outlinewidth\":0,\"tickcolor\":\"rgb(237,237,237)\",\"ticklen\":6,\"ticks\":\"inside\"}},\"colorscale\":{\"sequential\":[[0,\"rgb(20,44,66)\"],[1,\"rgb(90,179,244)\"]],\"sequentialminus\":[[0,\"rgb(20,44,66)\"],[1,\"rgb(90,179,244)\"]]},\"colorway\":[\"#F8766D\",\"#A3A500\",\"#00BF7D\",\"#00B0F6\",\"#E76BF3\"],\"font\":{\"color\":\"rgb(51,51,51)\"},\"geo\":{\"bgcolor\":\"white\",\"lakecolor\":\"white\",\"landcolor\":\"rgb(237,237,237)\",\"showlakes\":true,\"showland\":true,\"subunitcolor\":\"white\"},\"hoverlabel\":{\"align\":\"left\"},\"hovermode\":\"closest\",\"paper_bgcolor\":\"white\",\"plot_bgcolor\":\"rgb(237,237,237)\",\"polar\":{\"angularaxis\":{\"gridcolor\":\"white\",\"linecolor\":\"white\",\"showgrid\":true,\"tickcolor\":\"rgb(51,51,51)\",\"ticks\":\"outside\"},\"bgcolor\":\"rgb(237,237,237)\",\"radialaxis\":{\"gridcolor\":\"white\",\"linecolor\":\"white\",\"showgrid\":true,\"tickcolor\":\"rgb(51,51,51)\",\"ticks\":\"outside\"}},\"scene\":{\"xaxis\":{\"backgroundcolor\":\"rgb(237,237,237)\",\"gridcolor\":\"white\",\"gridwidth\":2,\"linecolor\":\"white\",\"showbackground\":true,\"showgrid\":true,\"tickcolor\":\"rgb(51,51,51)\",\"ticks\":\"outside\",\"zerolinecolor\":\"white\"},\"yaxis\":{\"backgroundcolor\":\"rgb(237,237,237)\",\"gridcolor\":\"white\",\"gridwidth\":2,\"linecolor\":\"white\",\"showbackground\":true,\"showgrid\":true,\"tickcolor\":\"rgb(51,51,51)\",\"ticks\":\"outside\",\"zerolinecolor\":\"white\"},\"zaxis\":{\"backgroundcolor\":\"rgb(237,237,237)\",\"gridcolor\":\"white\",\"gridwidth\":2,\"linecolor\":\"white\",\"showbackground\":true,\"showgrid\":true,\"tickcolor\":\"rgb(51,51,51)\",\"ticks\":\"outside\",\"zerolinecolor\":\"white\"}},\"shapedefaults\":{\"fillcolor\":\"black\",\"line\":{\"width\":0},\"opacity\":0.3},\"ternary\":{\"aaxis\":{\"gridcolor\":\"white\",\"linecolor\":\"white\",\"showgrid\":true,\"tickcolor\":\"rgb(51,51,51)\",\"ticks\":\"outside\"},\"baxis\":{\"gridcolor\":\"white\",\"linecolor\":\"white\",\"showgrid\":true,\"tickcolor\":\"rgb(51,51,51)\",\"ticks\":\"outside\"},\"bgcolor\":\"rgb(237,237,237)\",\"caxis\":{\"gridcolor\":\"white\",\"linecolor\":\"white\",\"showgrid\":true,\"tickcolor\":\"rgb(51,51,51)\",\"ticks\":\"outside\"}},\"xaxis\":{\"automargin\":true,\"gridcolor\":\"white\",\"linecolor\":\"white\",\"showgrid\":true,\"tickcolor\":\"rgb(51,51,51)\",\"ticks\":\"outside\",\"title\":{\"standoff\":15},\"zerolinecolor\":\"white\"},\"yaxis\":{\"automargin\":true,\"gridcolor\":\"white\",\"linecolor\":\"white\",\"showgrid\":true,\"tickcolor\":\"rgb(51,51,51)\",\"ticks\":\"outside\",\"title\":{\"standoff\":15},\"zerolinecolor\":\"white\"}}},\"xaxis\":{\"anchor\":\"y\",\"domain\":[0.0,1.0],\"title\":{\"text\":\"PC3\"}},\"yaxis\":{\"anchor\":\"x\",\"domain\":[0.0,1.0],\"title\":{\"text\":\"PC4\"}},\"legend\":{\"title\":{\"text\":\"species\"},\"tracegroupgap\":0},\"margin\":{\"t\":60},\"height\":600,\"width\":800},                        {\"responsive\": true}                    ).then(function(){\n",
              "                            \n",
              "var gd = document.getElementById('89e708a6-70aa-4a7e-9216-41a36c4c5909');\n",
              "var x = new MutationObserver(function (mutations, observer) {{\n",
              "        var display = window.getComputedStyle(gd).display;\n",
              "        if (!display || display === 'none') {{\n",
              "            console.log([gd, 'removed!']);\n",
              "            Plotly.purge(gd);\n",
              "            observer.disconnect();\n",
              "        }}\n",
              "}});\n",
              "\n",
              "// Listen for the removal of the full notebook cells\n",
              "var notebookContainer = gd.closest('#notebook-container');\n",
              "if (notebookContainer) {{\n",
              "    x.observe(notebookContainer, {childList: true});\n",
              "}}\n",
              "\n",
              "// Listen for the clearing of the current output cell\n",
              "var outputEl = gd.closest('.output');\n",
              "if (outputEl) {{\n",
              "    x.observe(outputEl, {childList: true});\n",
              "}}\n",
              "\n",
              "                        })                };                            </script>        </div>\n",
              "</body>\n",
              "</html>"
            ]
          },
          "metadata": {}
        }
      ]
    },
    {
      "cell_type": "markdown",
      "source": [
        "### PCs variance explained"
      ],
      "metadata": {
        "id": "bh5c8lKczEts"
      }
    },
    {
      "cell_type": "code",
      "source": [
        "pc_df = pd.DataFrame({'PC':['PC1', 'PC2', 'PC3', 'PC4', 'PC5', 'PC6'], \n",
        "              'explained_variance':pca.explained_variance_ratio_})\n",
        "\n",
        "px.bar(pc_df, x='PC', y='explained_variance', width=800, height=400)"
      ],
      "metadata": {
        "colab": {
          "base_uri": "https://localhost:8080/",
          "height": 417
        },
        "id": "ISx3rTz1y8FP",
        "outputId": "f8b27e82-d23f-4a1a-da56-ca4ffedc78c1"
      },
      "execution_count": 12,
      "outputs": [
        {
          "output_type": "display_data",
          "data": {
            "text/html": [
              "<html>\n",
              "<head><meta charset=\"utf-8\" /></head>\n",
              "<body>\n",
              "    <div>            <script src=\"https://cdnjs.cloudflare.com/ajax/libs/mathjax/2.7.5/MathJax.js?config=TeX-AMS-MML_SVG\"></script><script type=\"text/javascript\">if (window.MathJax) {MathJax.Hub.Config({SVG: {font: \"STIX-Web\"}});}</script>                <script type=\"text/javascript\">window.PlotlyConfig = {MathJaxConfig: 'local'};</script>\n",
              "        <script src=\"https://cdn.plot.ly/plotly-2.8.3.min.js\"></script>                <div id=\"81e05d5b-5c27-4526-928d-86b79c113f5c\" class=\"plotly-graph-div\" style=\"height:400px; width:800px;\"></div>            <script type=\"text/javascript\">                                    window.PLOTLYENV=window.PLOTLYENV || {};                                    if (document.getElementById(\"81e05d5b-5c27-4526-928d-86b79c113f5c\")) {                    Plotly.newPlot(                        \"81e05d5b-5c27-4526-928d-86b79c113f5c\",                        [{\"alignmentgroup\":\"True\",\"hovertemplate\":\"PC=%{x}<br>explained_variance=%{y}<extra></extra>\",\"legendgroup\":\"\",\"marker\":{\"color\":\"#636efa\",\"pattern\":{\"shape\":\"\"}},\"name\":\"\",\"offsetgroup\":\"\",\"orientation\":\"v\",\"showlegend\":false,\"textposition\":\"auto\",\"x\":[\"PC1\",\"PC2\",\"PC3\",\"PC4\",\"PC5\",\"PC6\"],\"xaxis\":\"x\",\"y\":[0.3575169273472121,0.2487375351903782,0.12687404363270402,0.04460606800117665,0.030649252632440085,0.017149789734151794],\"yaxis\":\"y\",\"type\":\"bar\"}],                        {\"template\":{\"data\":{\"bar\":[{\"error_x\":{\"color\":\"#2a3f5f\"},\"error_y\":{\"color\":\"#2a3f5f\"},\"marker\":{\"line\":{\"color\":\"#E5ECF6\",\"width\":0.5},\"pattern\":{\"fillmode\":\"overlay\",\"size\":10,\"solidity\":0.2}},\"type\":\"bar\"}],\"barpolar\":[{\"marker\":{\"line\":{\"color\":\"#E5ECF6\",\"width\":0.5},\"pattern\":{\"fillmode\":\"overlay\",\"size\":10,\"solidity\":0.2}},\"type\":\"barpolar\"}],\"carpet\":[{\"aaxis\":{\"endlinecolor\":\"#2a3f5f\",\"gridcolor\":\"white\",\"linecolor\":\"white\",\"minorgridcolor\":\"white\",\"startlinecolor\":\"#2a3f5f\"},\"baxis\":{\"endlinecolor\":\"#2a3f5f\",\"gridcolor\":\"white\",\"linecolor\":\"white\",\"minorgridcolor\":\"white\",\"startlinecolor\":\"#2a3f5f\"},\"type\":\"carpet\"}],\"choropleth\":[{\"colorbar\":{\"outlinewidth\":0,\"ticks\":\"\"},\"type\":\"choropleth\"}],\"contour\":[{\"colorbar\":{\"outlinewidth\":0,\"ticks\":\"\"},\"colorscale\":[[0.0,\"#0d0887\"],[0.1111111111111111,\"#46039f\"],[0.2222222222222222,\"#7201a8\"],[0.3333333333333333,\"#9c179e\"],[0.4444444444444444,\"#bd3786\"],[0.5555555555555556,\"#d8576b\"],[0.6666666666666666,\"#ed7953\"],[0.7777777777777778,\"#fb9f3a\"],[0.8888888888888888,\"#fdca26\"],[1.0,\"#f0f921\"]],\"type\":\"contour\"}],\"contourcarpet\":[{\"colorbar\":{\"outlinewidth\":0,\"ticks\":\"\"},\"type\":\"contourcarpet\"}],\"heatmap\":[{\"colorbar\":{\"outlinewidth\":0,\"ticks\":\"\"},\"colorscale\":[[0.0,\"#0d0887\"],[0.1111111111111111,\"#46039f\"],[0.2222222222222222,\"#7201a8\"],[0.3333333333333333,\"#9c179e\"],[0.4444444444444444,\"#bd3786\"],[0.5555555555555556,\"#d8576b\"],[0.6666666666666666,\"#ed7953\"],[0.7777777777777778,\"#fb9f3a\"],[0.8888888888888888,\"#fdca26\"],[1.0,\"#f0f921\"]],\"type\":\"heatmap\"}],\"heatmapgl\":[{\"colorbar\":{\"outlinewidth\":0,\"ticks\":\"\"},\"colorscale\":[[0.0,\"#0d0887\"],[0.1111111111111111,\"#46039f\"],[0.2222222222222222,\"#7201a8\"],[0.3333333333333333,\"#9c179e\"],[0.4444444444444444,\"#bd3786\"],[0.5555555555555556,\"#d8576b\"],[0.6666666666666666,\"#ed7953\"],[0.7777777777777778,\"#fb9f3a\"],[0.8888888888888888,\"#fdca26\"],[1.0,\"#f0f921\"]],\"type\":\"heatmapgl\"}],\"histogram\":[{\"marker\":{\"pattern\":{\"fillmode\":\"overlay\",\"size\":10,\"solidity\":0.2}},\"type\":\"histogram\"}],\"histogram2d\":[{\"colorbar\":{\"outlinewidth\":0,\"ticks\":\"\"},\"colorscale\":[[0.0,\"#0d0887\"],[0.1111111111111111,\"#46039f\"],[0.2222222222222222,\"#7201a8\"],[0.3333333333333333,\"#9c179e\"],[0.4444444444444444,\"#bd3786\"],[0.5555555555555556,\"#d8576b\"],[0.6666666666666666,\"#ed7953\"],[0.7777777777777778,\"#fb9f3a\"],[0.8888888888888888,\"#fdca26\"],[1.0,\"#f0f921\"]],\"type\":\"histogram2d\"}],\"histogram2dcontour\":[{\"colorbar\":{\"outlinewidth\":0,\"ticks\":\"\"},\"colorscale\":[[0.0,\"#0d0887\"],[0.1111111111111111,\"#46039f\"],[0.2222222222222222,\"#7201a8\"],[0.3333333333333333,\"#9c179e\"],[0.4444444444444444,\"#bd3786\"],[0.5555555555555556,\"#d8576b\"],[0.6666666666666666,\"#ed7953\"],[0.7777777777777778,\"#fb9f3a\"],[0.8888888888888888,\"#fdca26\"],[1.0,\"#f0f921\"]],\"type\":\"histogram2dcontour\"}],\"mesh3d\":[{\"colorbar\":{\"outlinewidth\":0,\"ticks\":\"\"},\"type\":\"mesh3d\"}],\"parcoords\":[{\"line\":{\"colorbar\":{\"outlinewidth\":0,\"ticks\":\"\"}},\"type\":\"parcoords\"}],\"pie\":[{\"automargin\":true,\"type\":\"pie\"}],\"scatter\":[{\"marker\":{\"colorbar\":{\"outlinewidth\":0,\"ticks\":\"\"}},\"type\":\"scatter\"}],\"scatter3d\":[{\"line\":{\"colorbar\":{\"outlinewidth\":0,\"ticks\":\"\"}},\"marker\":{\"colorbar\":{\"outlinewidth\":0,\"ticks\":\"\"}},\"type\":\"scatter3d\"}],\"scattercarpet\":[{\"marker\":{\"colorbar\":{\"outlinewidth\":0,\"ticks\":\"\"}},\"type\":\"scattercarpet\"}],\"scattergeo\":[{\"marker\":{\"colorbar\":{\"outlinewidth\":0,\"ticks\":\"\"}},\"type\":\"scattergeo\"}],\"scattergl\":[{\"marker\":{\"colorbar\":{\"outlinewidth\":0,\"ticks\":\"\"}},\"type\":\"scattergl\"}],\"scattermapbox\":[{\"marker\":{\"colorbar\":{\"outlinewidth\":0,\"ticks\":\"\"}},\"type\":\"scattermapbox\"}],\"scatterpolar\":[{\"marker\":{\"colorbar\":{\"outlinewidth\":0,\"ticks\":\"\"}},\"type\":\"scatterpolar\"}],\"scatterpolargl\":[{\"marker\":{\"colorbar\":{\"outlinewidth\":0,\"ticks\":\"\"}},\"type\":\"scatterpolargl\"}],\"scatterternary\":[{\"marker\":{\"colorbar\":{\"outlinewidth\":0,\"ticks\":\"\"}},\"type\":\"scatterternary\"}],\"surface\":[{\"colorbar\":{\"outlinewidth\":0,\"ticks\":\"\"},\"colorscale\":[[0.0,\"#0d0887\"],[0.1111111111111111,\"#46039f\"],[0.2222222222222222,\"#7201a8\"],[0.3333333333333333,\"#9c179e\"],[0.4444444444444444,\"#bd3786\"],[0.5555555555555556,\"#d8576b\"],[0.6666666666666666,\"#ed7953\"],[0.7777777777777778,\"#fb9f3a\"],[0.8888888888888888,\"#fdca26\"],[1.0,\"#f0f921\"]],\"type\":\"surface\"}],\"table\":[{\"cells\":{\"fill\":{\"color\":\"#EBF0F8\"},\"line\":{\"color\":\"white\"}},\"header\":{\"fill\":{\"color\":\"#C8D4E3\"},\"line\":{\"color\":\"white\"}},\"type\":\"table\"}]},\"layout\":{\"annotationdefaults\":{\"arrowcolor\":\"#2a3f5f\",\"arrowhead\":0,\"arrowwidth\":1},\"autotypenumbers\":\"strict\",\"coloraxis\":{\"colorbar\":{\"outlinewidth\":0,\"ticks\":\"\"}},\"colorscale\":{\"diverging\":[[0,\"#8e0152\"],[0.1,\"#c51b7d\"],[0.2,\"#de77ae\"],[0.3,\"#f1b6da\"],[0.4,\"#fde0ef\"],[0.5,\"#f7f7f7\"],[0.6,\"#e6f5d0\"],[0.7,\"#b8e186\"],[0.8,\"#7fbc41\"],[0.9,\"#4d9221\"],[1,\"#276419\"]],\"sequential\":[[0.0,\"#0d0887\"],[0.1111111111111111,\"#46039f\"],[0.2222222222222222,\"#7201a8\"],[0.3333333333333333,\"#9c179e\"],[0.4444444444444444,\"#bd3786\"],[0.5555555555555556,\"#d8576b\"],[0.6666666666666666,\"#ed7953\"],[0.7777777777777778,\"#fb9f3a\"],[0.8888888888888888,\"#fdca26\"],[1.0,\"#f0f921\"]],\"sequentialminus\":[[0.0,\"#0d0887\"],[0.1111111111111111,\"#46039f\"],[0.2222222222222222,\"#7201a8\"],[0.3333333333333333,\"#9c179e\"],[0.4444444444444444,\"#bd3786\"],[0.5555555555555556,\"#d8576b\"],[0.6666666666666666,\"#ed7953\"],[0.7777777777777778,\"#fb9f3a\"],[0.8888888888888888,\"#fdca26\"],[1.0,\"#f0f921\"]]},\"colorway\":[\"#636efa\",\"#EF553B\",\"#00cc96\",\"#ab63fa\",\"#FFA15A\",\"#19d3f3\",\"#FF6692\",\"#B6E880\",\"#FF97FF\",\"#FECB52\"],\"font\":{\"color\":\"#2a3f5f\"},\"geo\":{\"bgcolor\":\"white\",\"lakecolor\":\"white\",\"landcolor\":\"#E5ECF6\",\"showlakes\":true,\"showland\":true,\"subunitcolor\":\"white\"},\"hoverlabel\":{\"align\":\"left\"},\"hovermode\":\"closest\",\"mapbox\":{\"style\":\"light\"},\"paper_bgcolor\":\"white\",\"plot_bgcolor\":\"#E5ECF6\",\"polar\":{\"angularaxis\":{\"gridcolor\":\"white\",\"linecolor\":\"white\",\"ticks\":\"\"},\"bgcolor\":\"#E5ECF6\",\"radialaxis\":{\"gridcolor\":\"white\",\"linecolor\":\"white\",\"ticks\":\"\"}},\"scene\":{\"xaxis\":{\"backgroundcolor\":\"#E5ECF6\",\"gridcolor\":\"white\",\"gridwidth\":2,\"linecolor\":\"white\",\"showbackground\":true,\"ticks\":\"\",\"zerolinecolor\":\"white\"},\"yaxis\":{\"backgroundcolor\":\"#E5ECF6\",\"gridcolor\":\"white\",\"gridwidth\":2,\"linecolor\":\"white\",\"showbackground\":true,\"ticks\":\"\",\"zerolinecolor\":\"white\"},\"zaxis\":{\"backgroundcolor\":\"#E5ECF6\",\"gridcolor\":\"white\",\"gridwidth\":2,\"linecolor\":\"white\",\"showbackground\":true,\"ticks\":\"\",\"zerolinecolor\":\"white\"}},\"shapedefaults\":{\"line\":{\"color\":\"#2a3f5f\"}},\"ternary\":{\"aaxis\":{\"gridcolor\":\"white\",\"linecolor\":\"white\",\"ticks\":\"\"},\"baxis\":{\"gridcolor\":\"white\",\"linecolor\":\"white\",\"ticks\":\"\"},\"bgcolor\":\"#E5ECF6\",\"caxis\":{\"gridcolor\":\"white\",\"linecolor\":\"white\",\"ticks\":\"\"}},\"title\":{\"x\":0.05},\"xaxis\":{\"automargin\":true,\"gridcolor\":\"white\",\"linecolor\":\"white\",\"ticks\":\"\",\"title\":{\"standoff\":15},\"zerolinecolor\":\"white\",\"zerolinewidth\":2},\"yaxis\":{\"automargin\":true,\"gridcolor\":\"white\",\"linecolor\":\"white\",\"ticks\":\"\",\"title\":{\"standoff\":15},\"zerolinecolor\":\"white\",\"zerolinewidth\":2}}},\"xaxis\":{\"anchor\":\"y\",\"domain\":[0.0,1.0],\"title\":{\"text\":\"PC\"}},\"yaxis\":{\"anchor\":\"x\",\"domain\":[0.0,1.0],\"title\":{\"text\":\"explained_variance\"}},\"legend\":{\"tracegroupgap\":0},\"margin\":{\"t\":60},\"barmode\":\"relative\",\"height\":400,\"width\":800},                        {\"responsive\": true}                    ).then(function(){\n",
              "                            \n",
              "var gd = document.getElementById('81e05d5b-5c27-4526-928d-86b79c113f5c');\n",
              "var x = new MutationObserver(function (mutations, observer) {{\n",
              "        var display = window.getComputedStyle(gd).display;\n",
              "        if (!display || display === 'none') {{\n",
              "            console.log([gd, 'removed!']);\n",
              "            Plotly.purge(gd);\n",
              "            observer.disconnect();\n",
              "        }}\n",
              "}});\n",
              "\n",
              "// Listen for the removal of the full notebook cells\n",
              "var notebookContainer = gd.closest('#notebook-container');\n",
              "if (notebookContainer) {{\n",
              "    x.observe(notebookContainer, {childList: true});\n",
              "}}\n",
              "\n",
              "// Listen for the clearing of the current output cell\n",
              "var outputEl = gd.closest('.output');\n",
              "if (outputEl) {{\n",
              "    x.observe(outputEl, {childList: true});\n",
              "}}\n",
              "\n",
              "                        })                };                            </script>        </div>\n",
              "</body>\n",
              "</html>"
            ]
          },
          "metadata": {}
        }
      ]
    }
  ]
}