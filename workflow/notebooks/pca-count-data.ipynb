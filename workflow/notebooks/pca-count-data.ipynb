{
  "nbformat": 4,
  "nbformat_minor": 0,
  "metadata": {
    "colab": {
      "provenance": [],
      "collapsed_sections": [],
      "authorship_tag": "ABX9TyMjdbUq/nqz3G7phPzSJ5No",
      "include_colab_link": true
    },
    "kernelspec": {
      "name": "python3",
      "display_name": "Python 3"
    },
    "language_info": {
      "name": "python"
    },
    "gpuClass": "standard"
  },
  "cells": [
    {
      "cell_type": "markdown",
      "metadata": {
        "id": "view-in-github",
        "colab_type": "text"
      },
      "source": [
        "<a href=\"https://colab.research.google.com/github/sanjaynagi/rna-seq-meta/blob/main/workflow/notebooks/pca_count_data.ipynb\" target=\"_parent\"><img src=\"https://colab.research.google.com/assets/colab-badge.svg\" alt=\"Open In Colab\"/></a>"
      ]
    },
    {
      "cell_type": "code",
      "source": [
        "!git clone https://github.com/sanjaynagi/rna-seq-meta.git"
      ],
      "metadata": {
        "id": "Az2nLmd3VGpx",
        "colab": {
          "base_uri": "https://localhost:8080/"
        },
        "outputId": "c2235d6d-3dfd-40e2-bfb5-cc9a06c0edac"
      },
      "execution_count": 1,
      "outputs": [
        {
          "output_type": "stream",
          "name": "stdout",
          "text": [
            "Cloning into 'rna-seq-meta'...\n",
            "remote: Enumerating objects: 70, done.\u001b[K\n",
            "remote: Counting objects: 100% (11/11), done.\u001b[K\n",
            "remote: Compressing objects: 100% (10/10), done.\u001b[K\n",
            "remote: Total 70 (delta 3), reused 3 (delta 1), pack-reused 59\u001b[K\n",
            "Unpacking objects: 100% (70/70), done.\n"
          ]
        }
      ]
    },
    {
      "cell_type": "code",
      "source": [
        "import pandas as pd\n",
        "import numpy as np\n",
        "import plotly.express as px"
      ],
      "metadata": {
        "id": "Fsmxdgz0jcTz"
      },
      "execution_count": 2,
      "outputs": []
    },
    {
      "cell_type": "code",
      "source": [
        "name = 'meta'\n",
        "\n",
        "metadata = pd.read_csv(\"rna-seq-meta/config/sample_metadata.tsv\", sep=\"\\t\").rename(columns={\"sampleID\":\"colData\"})"
      ],
      "metadata": {
        "id": "4mwawklRH1qb"
      },
      "execution_count": 3,
      "outputs": []
    },
    {
      "cell_type": "code",
      "source": [
        "vst_counts = pd.read_csv(\"rna-seq-meta/results/vst_counts.tsv.gz\", sep=\"\\t\")\n",
        "vst_counts.head(3)"
      ],
      "metadata": {
        "id": "X35e5Dq7kE3y"
      },
      "execution_count": 8,
      "outputs": []
    },
    {
      "cell_type": "code",
      "source": [
        "from sklearn.decomposition import PCA\n",
        "pca = PCA(n_components=2)\n",
        "principalComponents = pca.fit_transform(vst_counts.T)\n",
        "pc = pd.DataFrame(data = principalComponents, columns = ['PC1', 'PC2'])"
      ],
      "metadata": {
        "id": "qd5taN38kBdn"
      },
      "execution_count": 12,
      "outputs": []
    },
    {
      "cell_type": "code",
      "source": [
        "pca_df = pd.concat([metadata, pc], axis=1)"
      ],
      "metadata": {
        "id": "eYOWHPBcyhT6"
      },
      "execution_count": 13,
      "outputs": []
    },
    {
      "cell_type": "code",
      "source": [
        "### plot interactive PCA data \n",
        "px.scatter(data_frame=pca_df, x='PC1', y='PC2', color='species', hover_data = ['condition', 'resistance'], template=\"ggplot2\", width=800, height=600)"
      ],
      "metadata": {
        "colab": {
          "base_uri": "https://localhost:8080/",
          "height": 617
        },
        "id": "LMgyhUOggLJl",
        "outputId": "217baf89-939c-4ef0-8a9a-93c9ab44468d"
      },
      "execution_count": 18,
      "outputs": [
        {
          "output_type": "display_data",
          "data": {
            "text/html": [
              "<html>\n",
              "<head><meta charset=\"utf-8\" /></head>\n",
              "<body>\n",
              "    <div>            <script src=\"https://cdnjs.cloudflare.com/ajax/libs/mathjax/2.7.5/MathJax.js?config=TeX-AMS-MML_SVG\"></script><script type=\"text/javascript\">if (window.MathJax) {MathJax.Hub.Config({SVG: {font: \"STIX-Web\"}});}</script>                <script type=\"text/javascript\">window.PlotlyConfig = {MathJaxConfig: 'local'};</script>\n",
              "        <script src=\"https://cdn.plot.ly/plotly-2.8.3.min.js\"></script>                <div id=\"1e308fd4-d7ea-4bf3-8d5c-066b7387a70c\" class=\"plotly-graph-div\" style=\"height:600px; width:800px;\"></div>            <script type=\"text/javascript\">                                    window.PLOTLYENV=window.PLOTLYENV || {};                                    if (document.getElementById(\"1e308fd4-d7ea-4bf3-8d5c-066b7387a70c\")) {                    Plotly.newPlot(                        \"1e308fd4-d7ea-4bf3-8d5c-066b7387a70c\",                        [{\"customdata\":[[\"Tiefora\",\"resistant\"],[\"Tiefora\",\"resistant\"],[\"Tiefora\",\"resistant\"],[\"Ban\",\"resistant\"],[\"Ban\",\"resistant\"],[\"Ban\",\"resistant\"],[\"Ban\",\"resistant\"],[\"Bak\",\"resistant\"],[\"Bak\",\"resistant\"],[\"Bak\",\"resistant\"],[\"Bak\",\"resistant\"],[\"VK7\",\"resistant\"],[\"VK7\",\"resistant\"],[\"VK7\",\"resistant\"],[\"VK7\",\"resistant\"],[\"BanRe\",\"resistant\"],[\"BanRe\",\"resistant\"],[\"BanRe\",\"resistant\"],[\"BanRe\",\"resistant\"],[\"Chad\",\"resistant\"],[\"Chad\",\"resistant\"],[\"Chad\",\"resistant\"],[\"Chad\",\"resistant\"],[\"Chad\",\"resistant\"],[\"Chad\",\"resistant\"],[\"Nigeria\",\"resistant\"],[\"Nigeria\",\"resistant\"],[\"Nigeria\",\"resistant\"],[\"Nigeria\",\"resistant\"],[\"Nigeria\",\"resistant\"],[\"Nigeria\",\"resistant\"],[\"Cameroon\",\"resistant\"],[\"Cameroon\",\"resistant\"],[\"Cameroon\",\"resistant\"],[\"Cameroon\",\"resistant\"],[\"Cameroon\",\"resistant\"],[\"Niger\",\"resistant\"],[\"Niger\",\"resistant\"],[\"Niger\",\"resistant\"],[\"Niger\",\"resistant\"],[\"Niger\",\"resistant\"],[\"Niger\",\"resistant\"],[\"NG\",\"susceptible\"],[\"NG\",\"susceptible\"],[\"NG\",\"susceptible\"],[\"Kis\",\"susceptible\"],[\"Kis\",\"susceptible\"],[\"Kis\",\"susceptible\"],[\"Kis\",\"susceptible\"],[\"BanS\",\"susceptible\"],[\"BanS\",\"susceptible\"],[\"BanS\",\"susceptible\"],[\"BanS\",\"susceptible\"],[\"NG\",\"susceptible\"],[\"NG\",\"susceptible\"],[\"NG\",\"susceptible\"],[\"NG\",\"susceptible\"],[\"NG\",\"susceptible\"],[\"NG\",\"susceptible\"],[\"Agboville\",\"resistant\"],[\"Agboville\",\"resistant\"],[\"Agboville\",\"resistant\"],[\"Agboville\",\"resistant\"],[\"Agboville\",\"resistant\"],[\"Agboville\",\"resistant\"],[\"Agboville\",\"resistant\"],[\"Agboville\",\"resistant\"],[\"Agboville\",\"resistant\"],[\"Dabou\",\"resistant\"],[\"Dabou\",\"resistant\"],[\"Dabou\",\"resistant\"],[\"Dabou\",\"resistant\"],[\"Dabou\",\"resistant\"],[\"Dabou\",\"resistant\"],[\"Dabou\",\"resistant\"],[\"Dabou\",\"resistant\"],[\"Dabou\",\"resistant\"],[\"Dabou\",\"resistant\"],[\"Tiassale\",\"resistant\"],[\"Tiassale\",\"resistant\"],[\"Tiassale\",\"resistant\"],[\"Tiassale\",\"resistant\"],[\"Tiassale\",\"resistant\"],[\"Tiassale\",\"resistant\"],[\"Tiassale\",\"resistant\"],[\"Tiassale\",\"resistant\"],[\"Tiassale\",\"resistant\"],[\"Tiassale\",\"resistant\"],[\"NG\",\"susceptible\"],[\"NG\",\"susceptible\"],[\"NG\",\"susceptible\"],[\"NG\",\"susceptible\"],[\"NG\",\"susceptible\"],[\"Mali\",\"susceptible\"],[\"Mali\",\"susceptible\"],[\"Mali\",\"susceptible\"],[\"Mali\",\"susceptible\"],[\"Mali\",\"susceptible\"],[\" Bouake_Ki\",\"susceptible\"],[\" Bouake_Ki\",\"susceptible\"],[\" Bouake_Ki\",\"susceptible\"],[\" Bouake_Ki\",\"susceptible\"],[\" Bouake_col_unexp\",\"resistant\"],[\" Bouake_col_unexp\",\"resistant\"],[\" Bouake_col_unexp\",\"resistant\"],[\" Bouake_col_unexp\",\"resistant\"],[\" Bouake_col_exp\",\"resistant\"],[\" Bouake_col_exp\",\"resistant\"],[\" Bouake_col_exp\",\"resistant\"],[\" Bouake_col_exp\",\"resistant\"],[\" Bouake_Ng\",\"susceptible\"],[\" Bouake_Ng\",\"susceptible\"],[\" Bouake_Ng\",\"susceptible\"],[\" Bouake_Ng\",\"susceptible\"],[\" Bouake_gamb_unexp\",\"resistant\"],[\" Bouake_gamb_unexp\",\"resistant\"],[\" Bouake_gamb_unexp\",\"resistant\"],[\" Bouake_gamb_unexp\",\"resistant\"],[\" Bouake_gamb_exp\",\"resistant\"],[\" Bouake_gamb_exp\",\"resistant\"],[\" Bouake_gamb_exp\",\"resistant\"],[\" Bouake_gamb_exp\",\"resistant\"],[\"ContTia\",\"resistant\"],[\"ContTia\",\"resistant\"],[\"ContTia\",\"resistant\"],[\"DeltTia\",\"resistant\"],[\"DeltTia\",\"resistant\"],[\"DeltTia\",\"resistant\"],[\"MalaTia\",\"resistant\"],[\"MalaTia\",\"resistant\"],[\"MalaTia\",\"resistant\"],[\"PiriTia\",\"resistant\"],[\"PiriTia\",\"resistant\"],[\"PiriTia\",\"resistant\"],[\" CDI_Ng\",\"susceptible\"],[\" CDI_Ng\",\"susceptible\"],[\" CDI_Ng\",\"susceptible\"],[\" CDI_Ng\",\"susceptible\"],[\"BusiaSurvivors\",\"resistant\"],[\"BusiaSurvivors\",\"resistant\"],[\"BusiaSurvivors\",\"resistant\"],[\"BusiaSurvivors\",\"resistant\"],[\"BusiaSurvivors\",\"resistant\"],[\"BusiaSurvivors\",\"resistant\"],[\"BusiaParental\",\"resistant\"],[\"BusiaParental\",\"resistant\"],[\"BusiaParental\",\"resistant\"],[\"BusiaParental\",\"resistant\"],[\"BusiaParental\",\"resistant\"],[\"BusiaParental\",\"resistant\"],[\"Kisumu\",\"susceptible\"],[\"Kisumu\",\"susceptible\"],[\"Kisumu\",\"susceptible\"],[\"Kisumu\",\"susceptible\"]],\"hovertemplate\":\"species=gambiae<br>PC1=%{x}<br>PC2=%{y}<br>condition=%{customdata[0]}<br>resistance=%{customdata[1]}<extra></extra>\",\"legendgroup\":\"gambiae\",\"marker\":{\"color\":\"#F8766D\",\"symbol\":\"circle\"},\"mode\":\"markers\",\"name\":\"gambiae\",\"orientation\":\"v\",\"showlegend\":true,\"x\":[-54.53707031089026,-51.152321240351284,-51.19895586364141,-51.59444578283823,-57.14416624588764,-52.1219680377649,-55.36250321733453,-55.624256168016714,-56.36110024510692,-53.07288361468028,-50.206922373632416,-39.03449756810858,-43.251145624305835,-43.30732339249644,-40.07229106656979,-60.48832562719195,-53.266887064178285,-47.82148353909646,-56.56405277883732,-59.45654249931707,-59.18305734411006,-58.11340113894843,-58.809156411037996,-62.5453752433136,-55.22868352300303,-60.27391731755539,-63.530638439705854,-66.52299613056245,-75.45233778597475,-71.65643284919129,-66.32237699507913,-70.23514534362208,-58.66604925252541,-65.17851718161043,-68.0418526008884,-71.01171571395643,-72.5018729189635,-70.70073215668732,-71.62314791018368,-48.25826852537755,-55.101862156657155,-66.23543644211239,-64.53101308551854,-62.954310308223896,-61.132204275891574,-69.55636604494798,-62.69288774092076,-58.90558799789669,-56.14119200300872,-62.26748368964476,-58.155665435430336,-63.08987558654648,-63.10994544176589,-55.43679855508645,-53.538611672493545,-53.860996869673855,-79.37678701370541,-91.08151363322392,-80.71354470425703,-85.49280144028847,-88.04179674702284,-98.54240467747346,-91.58339348090121,-102.6856184431383,-89.96614070971316,-95.11805091902123,-106.7243153919969,-97.60590816344215,-93.60171762793381,-97.50071560426372,-103.41454394228947,-91.36305185226475,-97.00049283999364,-107.7303147688291,-101.98737718266386,-90.80539980476533,-94.79620099498936,-86.0941742390216,-104.97035435579377,-96.88442129019704,-107.47763251998458,-103.04249058902533,-96.95271597458037,-101.06799577469016,-97.11729700379308,-112.47513907657563,-113.11250764614377,-113.50418909666877,-84.85952204193441,-89.93529794165637,-93.8621126009735,-79.6063189341055,-85.17010592865746,-73.92230645216095,-93.39530796130231,-73.42444474426874,-72.74903259593776,-73.80732407432787,-69.31098802053782,-77.34988017232534,-72.7591043468905,-79.84661336905133,-71.06430422403716,-79.55539093131966,-74.70457826420157,-69.42225099784811,-62.11889408566679,-62.00461778381691,-66.44561100547362,-76.79903741417108,-73.1391090418521,-64.88855064508735,-72.43706352650547,-78.30573665720027,-65.64119648604438,-63.567352148303314,-74.04825334721036,-68.51610450483524,-66.1880215226252,-75.44511757753354,-72.06250139282933,-71.97162393912156,-90.60392059574149,-77.47227469125838,-81.61002486239502,-84.83379053215178,-82.54862481439538,-75.56328909358811,-87.74126002313463,-89.26125274600241,-87.32155286087576,-76.05351413985208,-87.12545230538643,-84.60790364265968,-73.1391090418521,-64.88855064508735,-72.43706352650547,-78.30573665720027,-73.80977028952645,-68.65155734811388,-76.81701778125802,-70.831453393578,-67.24881936119247,-69.76236629407852,-61.92889700117451,-61.01466227030355,-65.07985830570554,-59.090399718556725,-65.82176703360189,-59.71830773548589,-77.09479779983158,-72.53659733971615,-74.0206635605588,-72.66004942362008],\"xaxis\":\"x\",\"y\":[-69.37806943114423,-73.71295370151229,-69.70507686322387,-69.3207446685605,-77.8375075828555,-74.89536399028235,-73.70308508900459,-61.509713021350464,-60.07974311533036,-65.69890708648721,-61.363513690099154,-50.75907324748232,-58.62066954239428,-52.376782368726666,-54.18473939152276,-56.36783598847881,-49.561017909251184,-51.76945717143612,-58.04404195900986,1.3951828408185243,5.152462589364312,2.076937617716106,-17.774431227102504,-11.478266059176905,-37.0649978539231,13.276823979257701,4.53085007095284,1.496508811280049,-10.875615513951207,12.241902871862976,8.298135943777963,-6.701425455136561,-12.066647835873866,6.165820886995041,-23.724600378319035,1.2503053444766377,-15.29434172401657,-19.190677371827153,-8.506293790525314,8.55616292292754,19.389967389440265,7.977041977087895,-90.09473929542912,-83.01559966886063,-71.03054892368019,-114.2923013435615,-103.08217004888924,-89.0362266664189,-92.31509951737792,-70.37608987284591,-68.97671545653995,-72.11782107858959,-72.32862642751556,-110.13061550954059,-102.4578838957521,-94.5203465142352,-31.509129052374114,-17.15876049738051,-35.51839066488725,197.1682321493366,191.5135689760638,226.02077253998908,213.51838286910785,194.50191302906865,186.62698029395457,197.92270076721496,215.2388261250668,204.6760786570195,219.65075889813605,183.29842601674886,196.7051110452349,193.24832586920846,205.30804664811828,217.6552287946922,202.0886488144748,205.54098627134675,205.08941605914652,178.42497421862626,216.2563244722031,221.5148079088883,218.40871939101234,186.89642515730623,195.66313642186378,171.53085428629726,204.75366735374126,206.20893536844048,207.18672596694532,214.8438271269938,170.17530120120986,188.37596164354096,173.99375619300648,166.35319618014273,165.1821236978353,161.38986430842186,184.49053613730356,159.27933875358084,155.90355135526573,151.8837484746799,-119.57835701195079,-136.51321436352578,-121.94374929027552,-118.03460114723978,-123.19899161673523,-103.21926824128047,-142.71370292908293,-129.05258458539583,-99.27175836704775,-100.34890041463343,-124.95997858114528,-139.20181651816702,-122.02387165104311,-117.91910095295103,-121.67471074997142,-123.81389775557496,-109.12664054349345,-106.45435798714398,-108.34718455997962,-104.24267316863356,-94.62200355627229,-87.87163188321024,-109.13876837456372,-93.3567301597934,-98.22019681015199,-85.50804448559666,-100.16082948323758,-128.17494437118788,-104.3820692903228,-119.87006479376873,-91.02087370196195,-94.32334986460478,-100.99949498245974,-95.04705201509007,-91.60568052729946,-104.32008071255635,-122.02387165104311,-117.91910095295103,-121.67471074997142,-123.81389775557496,-116.10140807313104,-112.78375273796283,-109.52549842191155,-103.41766591111524,-119.19482164922083,-119.80400567479772,-118.6317419281544,-104.98763358397527,-87.91987499753377,-100.76424699647495,-96.39081210523202,-98.12312861121733,-124.75112838682362,-116.27061940020877,-118.51516379350998,-113.51271091586194],\"yaxis\":\"y\",\"type\":\"scatter\"},{\"customdata\":[[\"Gou\",\"resistant\"],[\"Gou\",\"resistant\"],[\"Gou\",\"resistant\"],[\"Moz\",\"susceptible\"],[\"Moz\",\"susceptible\"],[\"Moz\",\"susceptible\"],[\"Asendabo\",\"resistant\"],[\"Asendabo\",\"resistant\"],[\"Asendabo\",\"resistant\"],[\"Asendabo\",\"resistant\"],[\"Chewaka\",\"resistant\"],[\"Chewaka\",\"resistant\"],[\"Chewaka\",\"resistant\"],[\"Chewaka\",\"resistant\"],[\"Moz\",\"susceptible\"],[\"Moz\",\"susceptible\"],[\"Moz\",\"susceptible\"],[\"Moz\",\"susceptible\"],[\"Tolay\",\"resistant\"],[\"Tolay\",\"resistant\"],[\"Tolay\",\"resistant\"],[\"Tolay\",\"resistant\"],[\"Dongola\",\"susceptible\"],[\"Dongola\",\"susceptible\"],[\"Dongola\",\"susceptible\"],[\"Ethiopia\",\"resistant\"],[\"Ethiopia\",\"resistant\"],[\"Ethiopia\",\"resistant\"]],\"hovertemplate\":\"species=arabiensis<br>PC1=%{x}<br>PC2=%{y}<br>condition=%{customdata[0]}<br>resistance=%{customdata[1]}<extra></extra>\",\"legendgroup\":\"arabiensis\",\"marker\":{\"color\":\"#A3A500\",\"symbol\":\"circle\"},\"mode\":\"markers\",\"name\":\"arabiensis\",\"orientation\":\"v\",\"showlegend\":true,\"x\":[-61.529788388262084,-60.37481657962866,-64.88835435298813,-63.22706278956072,-59.1681696523161,-63.576112577901476,12.38576947985747,11.930560705311937,19.699698977974897,23.47409161690964,18.423478694064446,17.748256730960534,17.220292549751342,13.825777088092549,19.75037376632903,27.433451486610153,17.17990366843957,18.713678588764026,12.695153585489548,11.335674922626247,19.36898469882406,18.574359024750212,80.79005475109405,90.10619999140995,88.50579242890687,64.92516042158903,71.9342508896536,63.50093510870538],\"xaxis\":\"x\",\"y\":[-64.65986180690251,-50.97271664324379,-49.1386263533443,-30.564347622423842,-39.534342423227194,-52.93355860607605,61.037611720827144,58.09730873571085,59.10399640483548,59.34776019426881,73.10278223685428,69.21473757879207,70.1568660173393,71.85289479070202,69.79159619446511,67.030008704534,69.56027700893691,72.9334558944717,67.87062551729319,66.15557336782655,63.921514659701444,60.137390458532444,28.77805317219334,27.38703220352105,24.9765580147677,33.67877364808097,26.044958253563806,33.72446876669565],\"yaxis\":\"y\",\"type\":\"scatter\"},{\"customdata\":[[\"Cam_fun\",\"resistant\"],[\"Cam_fun\",\"resistant\"],[\"Cam_fun\",\"resistant\"],[\"Cam_fun\",\"resistant\"],[\"Cam_fun\",\"resistant\"],[\"Cam_fun\",\"resistant\"],[\"Cam_fun\",\"resistant\"],[\"Cam_fun\",\"resistant\"],[\"Cam_fun\",\"resistant\"],[\"Fang\",\"susceptible\"],[\"Fang\",\"susceptible\"],[\"Fang\",\"susceptible\"],[\"Fumoz\",\"resistant\"],[\"Fumoz\",\"resistant\"],[\"Fumoz\",\"resistant\"],[\"Fumoz\",\"resistant\"],[\"Fumoz\",\"resistant\"],[\"Ghana_fun\",\"resistant\"],[\"Ghana_fun\",\"resistant\"],[\"Ghana_fun\",\"resistant\"],[\"Ghana_fun\",\"resistant\"],[\"Ghana_fun\",\"resistant\"],[\"Ghana_fun\",\"resistant\"],[\"Ghana_fun\",\"resistant\"],[\"Ghana_fun\",\"resistant\"],[\"Ghana_fun\",\"resistant\"],[\"Ghana_fun\",\"resistant\"],[\"Malawi_fun\",\"resistant\"],[\"Malawi_fun\",\"resistant\"],[\"Malawi_fun\",\"resistant\"],[\"Malawi_fun\",\"resistant\"],[\"Malawi_fun\",\"resistant\"],[\"Malawi_fun\",\"resistant\"],[\"Malawi_fun\",\"resistant\"],[\"Malawi_fun\",\"resistant\"],[\"Malawi_fun\",\"resistant\"],[\"Malawi_fun\",\"resistant\"],[\"Uganda_fun\",\"resistant\"],[\"Uganda_fun\",\"resistant\"],[\"Uganda_fun\",\"resistant\"],[\"Uganda_fun\",\"resistant\"],[\"Uganda_fun\",\"resistant\"],[\"Uganda_fun\",\"resistant\"],[\"Uganda_fun\",\"resistant\"],[\"Uganda_fun\",\"resistant\"],[\"Uganda_fun\",\"resistant\"]],\"hovertemplate\":\"species=funestus<br>PC1=%{x}<br>PC2=%{y}<br>condition=%{customdata[0]}<br>resistance=%{customdata[1]}<extra></extra>\",\"legendgroup\":\"funestus\",\"marker\":{\"color\":\"#00BF7D\",\"symbol\":\"circle\"},\"mode\":\"markers\",\"name\":\"funestus\",\"orientation\":\"v\",\"showlegend\":true,\"x\":[240.00662127299918,234.0478207085733,235.2542344638969,240.2772477523536,238.42789981383928,236.3303717706201,238.49870349359568,236.98662889904102,232.79504509888446,224.3135838074314,233.45415769274484,234.01984189978225,230.8128853927437,234.21298212470126,240.49717710086165,240.95101889051267,237.5675628798296,238.47504506163196,242.37505385223602,239.45383531325072,239.7923187997891,238.46134187145017,240.97336614665053,240.90788391657563,237.73000249144616,225.39866684066502,231.59978872796728,242.50134973016048,238.66403258091444,229.56718827934466,241.1780691289914,237.9152147758316,240.12125492617682,236.67550573509354,242.77009799922484,242.37027677916106,238.7852412762179,255.64227406734653,249.84178717695482,249.79582982214487,247.51954227106657,227.17666514188963,249.46698351325307,234.55781698436502,238.0090504117392,235.02317985180306],\"xaxis\":\"x\",\"y\":[15.484406942842812,-1.7193435610502428,9.504738701238717,1.6691650716082969,-4.356909622760206,4.293378738199017,3.674569911723036,-1.5528705095116762,10.988441835751521,17.079044646388468,11.545896085991192,3.8691332737064212,19.97500840691782,32.34465694002627,32.34987634884208,35.4474188575088,17.07408089965222,7.658691832586441,-16.89032691996106,3.5006624270397197,4.844739404401379,4.522413726677708,10.420986395698874,17.172853268029844,8.44893915038029,14.729192982718656,11.993609895134837,1.4901634118854479,6.2212635685061795,7.6426042547480435,-15.884489939521243,-20.25561092727066,10.524274797282306,5.143034545830067,6.859228494672905,-7.643396649488206,2.0803596084639064,-1.5066741168102475,1.9436291928752434,-8.463099777640315,6.22747773516775,10.593630430583765,-1.2959410881097364,9.873741745806319,6.687066563434648,-0.793162550175072],\"yaxis\":\"y\",\"type\":\"scatter\"}],                        {\"template\":{\"data\":{\"barpolar\":[{\"marker\":{\"line\":{\"color\":\"rgb(237,237,237)\",\"width\":0.5},\"pattern\":{\"fillmode\":\"overlay\",\"size\":10,\"solidity\":0.2}},\"type\":\"barpolar\"}],\"bar\":[{\"error_x\":{\"color\":\"rgb(51,51,51)\"},\"error_y\":{\"color\":\"rgb(51,51,51)\"},\"marker\":{\"line\":{\"color\":\"rgb(237,237,237)\",\"width\":0.5},\"pattern\":{\"fillmode\":\"overlay\",\"size\":10,\"solidity\":0.2}},\"type\":\"bar\"}],\"carpet\":[{\"aaxis\":{\"endlinecolor\":\"rgb(51,51,51)\",\"gridcolor\":\"white\",\"linecolor\":\"white\",\"minorgridcolor\":\"white\",\"startlinecolor\":\"rgb(51,51,51)\"},\"baxis\":{\"endlinecolor\":\"rgb(51,51,51)\",\"gridcolor\":\"white\",\"linecolor\":\"white\",\"minorgridcolor\":\"white\",\"startlinecolor\":\"rgb(51,51,51)\"},\"type\":\"carpet\"}],\"choropleth\":[{\"colorbar\":{\"outlinewidth\":0,\"tickcolor\":\"rgb(237,237,237)\",\"ticklen\":6,\"ticks\":\"inside\"},\"type\":\"choropleth\"}],\"contourcarpet\":[{\"colorbar\":{\"outlinewidth\":0,\"tickcolor\":\"rgb(237,237,237)\",\"ticklen\":6,\"ticks\":\"inside\"},\"type\":\"contourcarpet\"}],\"contour\":[{\"colorbar\":{\"outlinewidth\":0,\"tickcolor\":\"rgb(237,237,237)\",\"ticklen\":6,\"ticks\":\"inside\"},\"colorscale\":[[0,\"rgb(20,44,66)\"],[1,\"rgb(90,179,244)\"]],\"type\":\"contour\"}],\"heatmapgl\":[{\"colorbar\":{\"outlinewidth\":0,\"tickcolor\":\"rgb(237,237,237)\",\"ticklen\":6,\"ticks\":\"inside\"},\"colorscale\":[[0,\"rgb(20,44,66)\"],[1,\"rgb(90,179,244)\"]],\"type\":\"heatmapgl\"}],\"heatmap\":[{\"colorbar\":{\"outlinewidth\":0,\"tickcolor\":\"rgb(237,237,237)\",\"ticklen\":6,\"ticks\":\"inside\"},\"colorscale\":[[0,\"rgb(20,44,66)\"],[1,\"rgb(90,179,244)\"]],\"type\":\"heatmap\"}],\"histogram2dcontour\":[{\"colorbar\":{\"outlinewidth\":0,\"tickcolor\":\"rgb(237,237,237)\",\"ticklen\":6,\"ticks\":\"inside\"},\"colorscale\":[[0,\"rgb(20,44,66)\"],[1,\"rgb(90,179,244)\"]],\"type\":\"histogram2dcontour\"}],\"histogram2d\":[{\"colorbar\":{\"outlinewidth\":0,\"tickcolor\":\"rgb(237,237,237)\",\"ticklen\":6,\"ticks\":\"inside\"},\"colorscale\":[[0,\"rgb(20,44,66)\"],[1,\"rgb(90,179,244)\"]],\"type\":\"histogram2d\"}],\"histogram\":[{\"marker\":{\"pattern\":{\"fillmode\":\"overlay\",\"size\":10,\"solidity\":0.2}},\"type\":\"histogram\"}],\"mesh3d\":[{\"colorbar\":{\"outlinewidth\":0,\"tickcolor\":\"rgb(237,237,237)\",\"ticklen\":6,\"ticks\":\"inside\"},\"type\":\"mesh3d\"}],\"parcoords\":[{\"line\":{\"colorbar\":{\"outlinewidth\":0,\"tickcolor\":\"rgb(237,237,237)\",\"ticklen\":6,\"ticks\":\"inside\"}},\"type\":\"parcoords\"}],\"pie\":[{\"automargin\":true,\"type\":\"pie\"}],\"scatter3d\":[{\"line\":{\"colorbar\":{\"outlinewidth\":0,\"tickcolor\":\"rgb(237,237,237)\",\"ticklen\":6,\"ticks\":\"inside\"}},\"marker\":{\"colorbar\":{\"outlinewidth\":0,\"tickcolor\":\"rgb(237,237,237)\",\"ticklen\":6,\"ticks\":\"inside\"}},\"type\":\"scatter3d\"}],\"scattercarpet\":[{\"marker\":{\"colorbar\":{\"outlinewidth\":0,\"tickcolor\":\"rgb(237,237,237)\",\"ticklen\":6,\"ticks\":\"inside\"}},\"type\":\"scattercarpet\"}],\"scattergeo\":[{\"marker\":{\"colorbar\":{\"outlinewidth\":0,\"tickcolor\":\"rgb(237,237,237)\",\"ticklen\":6,\"ticks\":\"inside\"}},\"type\":\"scattergeo\"}],\"scattergl\":[{\"marker\":{\"colorbar\":{\"outlinewidth\":0,\"tickcolor\":\"rgb(237,237,237)\",\"ticklen\":6,\"ticks\":\"inside\"}},\"type\":\"scattergl\"}],\"scattermapbox\":[{\"marker\":{\"colorbar\":{\"outlinewidth\":0,\"tickcolor\":\"rgb(237,237,237)\",\"ticklen\":6,\"ticks\":\"inside\"}},\"type\":\"scattermapbox\"}],\"scatterpolargl\":[{\"marker\":{\"colorbar\":{\"outlinewidth\":0,\"tickcolor\":\"rgb(237,237,237)\",\"ticklen\":6,\"ticks\":\"inside\"}},\"type\":\"scatterpolargl\"}],\"scatterpolar\":[{\"marker\":{\"colorbar\":{\"outlinewidth\":0,\"tickcolor\":\"rgb(237,237,237)\",\"ticklen\":6,\"ticks\":\"inside\"}},\"type\":\"scatterpolar\"}],\"scatter\":[{\"marker\":{\"colorbar\":{\"outlinewidth\":0,\"tickcolor\":\"rgb(237,237,237)\",\"ticklen\":6,\"ticks\":\"inside\"}},\"type\":\"scatter\"}],\"scatterternary\":[{\"marker\":{\"colorbar\":{\"outlinewidth\":0,\"tickcolor\":\"rgb(237,237,237)\",\"ticklen\":6,\"ticks\":\"inside\"}},\"type\":\"scatterternary\"}],\"surface\":[{\"colorbar\":{\"outlinewidth\":0,\"tickcolor\":\"rgb(237,237,237)\",\"ticklen\":6,\"ticks\":\"inside\"},\"colorscale\":[[0,\"rgb(20,44,66)\"],[1,\"rgb(90,179,244)\"]],\"type\":\"surface\"}],\"table\":[{\"cells\":{\"fill\":{\"color\":\"rgb(237,237,237)\"},\"line\":{\"color\":\"white\"}},\"header\":{\"fill\":{\"color\":\"rgb(217,217,217)\"},\"line\":{\"color\":\"white\"}},\"type\":\"table\"}]},\"layout\":{\"annotationdefaults\":{\"arrowhead\":0,\"arrowwidth\":1},\"autotypenumbers\":\"strict\",\"coloraxis\":{\"colorbar\":{\"outlinewidth\":0,\"tickcolor\":\"rgb(237,237,237)\",\"ticklen\":6,\"ticks\":\"inside\"}},\"colorscale\":{\"sequential\":[[0,\"rgb(20,44,66)\"],[1,\"rgb(90,179,244)\"]],\"sequentialminus\":[[0,\"rgb(20,44,66)\"],[1,\"rgb(90,179,244)\"]]},\"colorway\":[\"#F8766D\",\"#A3A500\",\"#00BF7D\",\"#00B0F6\",\"#E76BF3\"],\"font\":{\"color\":\"rgb(51,51,51)\"},\"geo\":{\"bgcolor\":\"white\",\"lakecolor\":\"white\",\"landcolor\":\"rgb(237,237,237)\",\"showlakes\":true,\"showland\":true,\"subunitcolor\":\"white\"},\"hoverlabel\":{\"align\":\"left\"},\"hovermode\":\"closest\",\"paper_bgcolor\":\"white\",\"plot_bgcolor\":\"rgb(237,237,237)\",\"polar\":{\"angularaxis\":{\"gridcolor\":\"white\",\"linecolor\":\"white\",\"showgrid\":true,\"tickcolor\":\"rgb(51,51,51)\",\"ticks\":\"outside\"},\"bgcolor\":\"rgb(237,237,237)\",\"radialaxis\":{\"gridcolor\":\"white\",\"linecolor\":\"white\",\"showgrid\":true,\"tickcolor\":\"rgb(51,51,51)\",\"ticks\":\"outside\"}},\"scene\":{\"xaxis\":{\"backgroundcolor\":\"rgb(237,237,237)\",\"gridcolor\":\"white\",\"gridwidth\":2,\"linecolor\":\"white\",\"showbackground\":true,\"showgrid\":true,\"tickcolor\":\"rgb(51,51,51)\",\"ticks\":\"outside\",\"zerolinecolor\":\"white\"},\"yaxis\":{\"backgroundcolor\":\"rgb(237,237,237)\",\"gridcolor\":\"white\",\"gridwidth\":2,\"linecolor\":\"white\",\"showbackground\":true,\"showgrid\":true,\"tickcolor\":\"rgb(51,51,51)\",\"ticks\":\"outside\",\"zerolinecolor\":\"white\"},\"zaxis\":{\"backgroundcolor\":\"rgb(237,237,237)\",\"gridcolor\":\"white\",\"gridwidth\":2,\"linecolor\":\"white\",\"showbackground\":true,\"showgrid\":true,\"tickcolor\":\"rgb(51,51,51)\",\"ticks\":\"outside\",\"zerolinecolor\":\"white\"}},\"shapedefaults\":{\"fillcolor\":\"black\",\"line\":{\"width\":0},\"opacity\":0.3},\"ternary\":{\"aaxis\":{\"gridcolor\":\"white\",\"linecolor\":\"white\",\"showgrid\":true,\"tickcolor\":\"rgb(51,51,51)\",\"ticks\":\"outside\"},\"baxis\":{\"gridcolor\":\"white\",\"linecolor\":\"white\",\"showgrid\":true,\"tickcolor\":\"rgb(51,51,51)\",\"ticks\":\"outside\"},\"bgcolor\":\"rgb(237,237,237)\",\"caxis\":{\"gridcolor\":\"white\",\"linecolor\":\"white\",\"showgrid\":true,\"tickcolor\":\"rgb(51,51,51)\",\"ticks\":\"outside\"}},\"xaxis\":{\"automargin\":true,\"gridcolor\":\"white\",\"linecolor\":\"white\",\"showgrid\":true,\"tickcolor\":\"rgb(51,51,51)\",\"ticks\":\"outside\",\"title\":{\"standoff\":15},\"zerolinecolor\":\"white\"},\"yaxis\":{\"automargin\":true,\"gridcolor\":\"white\",\"linecolor\":\"white\",\"showgrid\":true,\"tickcolor\":\"rgb(51,51,51)\",\"ticks\":\"outside\",\"title\":{\"standoff\":15},\"zerolinecolor\":\"white\"}}},\"xaxis\":{\"anchor\":\"y\",\"domain\":[0.0,1.0],\"title\":{\"text\":\"PC1\"}},\"yaxis\":{\"anchor\":\"x\",\"domain\":[0.0,1.0],\"title\":{\"text\":\"PC2\"}},\"legend\":{\"title\":{\"text\":\"species\"},\"tracegroupgap\":0},\"margin\":{\"t\":60},\"height\":600,\"width\":800},                        {\"responsive\": true}                    ).then(function(){\n",
              "                            \n",
              "var gd = document.getElementById('1e308fd4-d7ea-4bf3-8d5c-066b7387a70c');\n",
              "var x = new MutationObserver(function (mutations, observer) {{\n",
              "        var display = window.getComputedStyle(gd).display;\n",
              "        if (!display || display === 'none') {{\n",
              "            console.log([gd, 'removed!']);\n",
              "            Plotly.purge(gd);\n",
              "            observer.disconnect();\n",
              "        }}\n",
              "}});\n",
              "\n",
              "// Listen for the removal of the full notebook cells\n",
              "var notebookContainer = gd.closest('#notebook-container');\n",
              "if (notebookContainer) {{\n",
              "    x.observe(notebookContainer, {childList: true});\n",
              "}}\n",
              "\n",
              "// Listen for the clearing of the current output cell\n",
              "var outputEl = gd.closest('.output');\n",
              "if (outputEl) {{\n",
              "    x.observe(outputEl, {childList: true});\n",
              "}}\n",
              "\n",
              "                        })                };                            </script>        </div>\n",
              "</body>\n",
              "</html>"
            ]
          },
          "metadata": {}
        }
      ]
    }
  ]
}