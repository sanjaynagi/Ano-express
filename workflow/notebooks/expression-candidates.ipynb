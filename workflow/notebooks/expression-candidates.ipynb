{
  "cells": [
    {
      "cell_type": "markdown",
      "metadata": {
        "colab_type": "text",
        "id": "view-in-github"
      },
      "source": [
        "<a href=\"https://colab.research.google.com/github/sanjaynagi/rna-seq-meta/blob/main/workflow/notebooks/expression-candidates.ipynb\" target=\"_parent\"><img src=\"https://colab.research.google.com/assets/colab-badge.svg\" alt=\"Open In Colab\"/></a>"
      ]
    },
    {
      "cell_type": "code",
      "execution_count": null,
      "id": "7f05df9f",
      "metadata": {
        "id": "7f05df9f"
      },
      "outputs": [],
      "source": [
        "!git clone https://github.com/sanjaynagi/rna-seq-meta.git\n",
        "\n",
        "import pandas as pd\n",
        "import numpy as np\n",
        "pd.set_option('display.max_rows', None)"
      ]
    },
    {
      "cell_type": "markdown",
      "id": "9816f0da",
      "metadata": {
        "id": "9816f0da"
      },
      "source": [
        "#### **Ranking genes by median and mean expression**"
      ]
    },
    {
      "cell_type": "code",
      "execution_count": null,
      "id": "102e9403",
      "metadata": {
        "id": "102e9403"
      },
      "outputs": [],
      "source": [
        "fc_data = pd.read_csv(\"rna-seq-meta/results/fc_data.tsv\", sep=\"\\t\")\n",
        "fc_data = fc_data.set_index(['GeneID', 'GeneName', 'GeneDescription'])\n",
        "fc_data *= -1 # i have reversed the polarity so need to do this"
      ]
    },
    {
      "cell_type": "markdown",
      "id": "gz2ZaSr7YlkA",
      "metadata": {
        "id": "gz2ZaSr7YlkA"
      },
      "source": [
        "Rank by median fold change, and look at the top 500 genes. Lots of candidates here!! :) "
      ]
    },
    {
      "cell_type": "code",
      "execution_count": null,
      "id": "e4ee1ef0",
      "metadata": {
        "id": "e4ee1ef0"
      },
      "outputs": [],
      "source": [
        "fc_medians = fc_data.apply(np.nanmedian, axis=1).to_frame().rename(columns={0:'median log2 Fold Change'})\n",
        "fc_medians.sort_values('median log2 Fold Change', ascending=False).head(500)"
      ]
    },
    {
      "cell_type": "markdown",
      "id": "xsLo2uq8FJAl",
      "metadata": {
        "id": "xsLo2uq8FJAl"
      },
      "source": [
        "Rank by mean fold change"
      ]
    },
    {
      "cell_type": "code",
      "execution_count": null,
      "id": "3fca382f",
      "metadata": {
        "id": "3fca382f"
      },
      "outputs": [],
      "source": [
        "fc_means = fc_data.apply(np.nanmean, axis=1).to_frame().rename(columns={0:'mean log2 Fold Change'})\n",
        "fc_means.sort_values('mean log2 Fold Change', ascending=False).head(500)"
      ]
    },
    {
      "cell_type": "markdown",
      "id": "9e3e2dc4",
      "metadata": {
        "id": "9e3e2dc4"
      },
      "source": [
        "**Finding genes that are consistently over-expressed**\n",
        "\n",
        "first, any genes which always show a positive fold change. "
      ]
    },
    {
      "cell_type": "code",
      "execution_count": null,
      "id": "23690c05",
      "metadata": {
        "id": "23690c05"
      },
      "outputs": [],
      "source": [
        "fc_data[fc_data.apply(lambda x: (x > 0).all() , axis=1)]"
      ]
    },
    {
      "cell_type": "markdown",
      "id": "rde53Sd7E0GL",
      "metadata": {
        "id": "rde53Sd7E0GL"
      },
      "source": [
        "Allowing for 2 out of 35 arrays to be negative "
      ]
    },
    {
      "cell_type": "code",
      "execution_count": null,
      "id": "CnNRRPXGY59-",
      "metadata": {
        "id": "CnNRRPXGY59-"
      },
      "outputs": [],
      "source": [
        "fc_data[fc_data.apply(lambda x: (x > 0).sum() == 33 , axis=1)]"
      ]
    },
    {
      "cell_type": "markdown",
      "id": "e519a902",
      "metadata": {
        "id": "e519a902"
      },
      "source": [
        "Maf-S is consistently upregulated!  \n",
        "Allowing for 3/35 experiments with negative fold changes.."
      ]
    },
    {
      "cell_type": "code",
      "execution_count": null,
      "id": "2172488b",
      "metadata": {
        "id": "2172488b"
      },
      "outputs": [],
      "source": [
        "fc_data[fc_data.apply(lambda x: (x > 0).sum() == 32 , axis=1)]"
      ]
    },
    {
      "cell_type": "markdown",
      "id": "bb97cf75",
      "metadata": {
        "id": "bb97cf75"
      },
      "source": [
        "4/35 experiments with negative"
      ]
    },
    {
      "cell_type": "code",
      "execution_count": null,
      "id": "1e4b7f19",
      "metadata": {
        "id": "1e4b7f19"
      },
      "outputs": [],
      "source": [
        "fc_data[fc_data.apply(lambda x: (x > 0).sum() > 31 , axis=1)]"
      ]
    },
    {
      "cell_type": "markdown",
      "id": "5a629794",
      "metadata": {
        "id": "5a629794"
      },
      "source": [
        "5/35 experiments negative"
      ]
    },
    {
      "cell_type": "code",
      "execution_count": null,
      "id": "f9395522",
      "metadata": {
        "id": "f9395522",
        "scrolled": false
      },
      "outputs": [],
      "source": [
        "fc_data[fc_data.apply(lambda x: (x > 0).sum() > 30 , axis=1)]"
      ]
    }
  ],
  "metadata": {
    "colab": {
      "include_colab_link": true,
      "provenance": []
    },
    "kernelspec": {
      "display_name": "Python 3 (ipykernel)",
      "language": "python",
      "name": "python3"
    },
    "language_info": {
      "codemirror_mode": {
        "name": "ipython",
        "version": 3
      },
      "file_extension": ".py",
      "mimetype": "text/x-python",
      "name": "python",
      "nbconvert_exporter": "python",
      "pygments_lexer": "ipython3",
      "version": "3.7.13"
    }
  },
  "nbformat": 4,
  "nbformat_minor": 5
}
