{
  "cells": [
    {
      "cell_type": "markdown",
      "metadata": {
        "id": "view-in-github",
        "colab_type": "text"
      },
      "source": [
        "<a href=\"https://colab.research.google.com/github/sanjaynagi/rna-seq-meta/blob/main/workflow/notebooks/plot-gene-expression.ipynb\" target=\"_parent\"><img src=\"https://colab.research.google.com/assets/colab-badge.svg\" alt=\"Open In Colab\"/></a>"
      ]
    },
    {
      "cell_type": "code",
      "execution_count": 1,
      "id": "H68MfuqBOWiH",
      "metadata": {
        "id": "H68MfuqBOWiH"
      },
      "outputs": [],
      "source": [
        "import pandas as pd\n",
        "import numpy as np\n",
        "import plotly.express as px\n",
        "\n",
        "def plot_gene_fcs(gene_id, database, title, plot_type='strip', sort_by='agap', width=1000, height=None):\n",
        "    \"\"\"Plot fold changes of provided AGAP gene IDs from RNA-Seq \n",
        "    meta-analysis dataset\n",
        "\n",
        "    Parameters\n",
        "    ----------\n",
        "    gene_id : str or list\n",
        "      An AGAP identifier or list of AGAP identifiers\n",
        "    title : str\n",
        "      Plot title\n",
        "    plot_type : {\"strip\", \"boxplot\"}, optional\n",
        "      valid options are 'strip' or 'boxplot' \n",
        "    sort_by : {\"median\", \"mean\", \"agap\"}, optional\n",
        "      sort by median/mean of fold changes (descending), or by AGAP\n",
        "      identifier\n",
        "    width : int\n",
        "      Width in pixels of the plotly figure\n",
        "    height: int, optional\n",
        "      Height in pixels of the plotly figure. Defaults to automatic sizing\n",
        "    \"\"\"\n",
        "    # load metadata\n",
        "    metadata = pd.read_csv(\"https://raw.githubusercontent.com/sanjaynagi/rna-seq-meta/main/config/comparison_metadata.tsv\", sep=\"\\t\")  \n",
        "    # load fold change data and remove gene description column\n",
        "    fc_data = pd.read_csv(f\"https://raw.githubusercontent.com/sanjaynagi/rna-seq-meta/main/results/fcs.{database}.tsv\", sep=\"\\t\").iloc[:, :-1]\n",
        "\n",
        "    fam_fc_data = fc_data.query(\"GeneID in @gene_id\").copy()\n",
        "\n",
        "    if sort_by == 'median':\n",
        "        sort_idxs = np.argsort(fam_fc_data.set_index(['GeneID', 'GeneName']).apply(np.nanmedian, axis=1)).values[::-1]\n",
        "    elif sort_by == 'mean':\n",
        "        sort_idxs = np.argsort(fam_fc_data.set_index(['GeneID', 'GeneName']).apply(np.nanmean, axis=1)).values[::-1]\n",
        "    elif sort_by == 'agap':\n",
        "        sort_idxs = np.argsort(fam_fc_data['GeneID'].values)[::-1] \n",
        "    fam_fc_data = fam_fc_data.iloc[sort_idxs, :]\n",
        "\n",
        "    fam_fc_data.loc[:, 'Label'] = [id_ + \" | \" + name if name != \"\" else id_ for id_, name in zip(fam_fc_data['GeneID'].fillna(\"\"), fam_fc_data['GeneName'].fillna(\"\"))]\n",
        "    fam_fc_data = fam_fc_data.drop(columns=['GeneName', 'GeneID']).melt(id_vars='Label', var_name='comparison', value_name='log2FC')\n",
        "    fam_fc_data.loc[:, 'comparison'] = fam_fc_data['comparison'].str.replace(\"_log2FoldChange\", \"\")\n",
        "    fam_fc_data = fam_fc_data.merge(metadata, how='left')\n",
        "\n",
        "    if not height:\n",
        "        height = np.min([fam_fc_data.shape[0]*12, 2500])\n",
        "\n",
        "    my_plot = px.strip if plot_type == 'strip' else px.box\n",
        "    fig = my_plot(\n",
        "      fam_fc_data, \n",
        "      y='Label', \n",
        "      x='log2FC', \n",
        "      color='species',\n",
        "      title=title, \n",
        "      hover_data=['resistant', 'susceptible', 'species', 'country'],\n",
        "      width=width, \n",
        "      height=height,\n",
        "      template='ggplot2'\n",
        "    )\n",
        "    fig.update_layout(titlefont=dict(size=20), xaxis_range=[-4,6],     xaxis_title=\"log2 Fold Change\", yaxis_title=\"Gene\")\n",
        "    fig.add_vline(0,  line_width=1, line_dash=\"dash\", line_color=\"grey\")\n",
        "    fig.show()"
      ]
    },
    {
      "cell_type": "code",
      "execution_count": 14,
      "id": "GdM1MG4woktQ",
      "metadata": {
        "cellView": "form",
        "colab": {
          "base_uri": "https://localhost:8080/",
          "height": 317
        },
        "id": "GdM1MG4woktQ",
        "outputId": "15aa331f-ae4a-418d-f777-5c6088a4430a"
      },
      "outputs": [
        {
          "output_type": "display_data",
          "data": {
            "text/html": [
              "<html>\n",
              "<head><meta charset=\"utf-8\" /></head>\n",
              "<body>\n",
              "    <div>            <script src=\"https://cdnjs.cloudflare.com/ajax/libs/mathjax/2.7.5/MathJax.js?config=TeX-AMS-MML_SVG\"></script><script type=\"text/javascript\">if (window.MathJax) {MathJax.Hub.Config({SVG: {font: \"STIX-Web\"}});}</script>                <script type=\"text/javascript\">window.PlotlyConfig = {MathJaxConfig: 'local'};</script>\n",
              "        <script src=\"https://cdn.plot.ly/plotly-2.8.3.min.js\"></script>                <div id=\"dae7b0c8-4c8f-43fd-a05f-d409d0ad6c64\" class=\"plotly-graph-div\" style=\"height:300px; width:1000px;\"></div>            <script type=\"text/javascript\">                                    window.PLOTLYENV=window.PLOTLYENV || {};                                    if (document.getElementById(\"dae7b0c8-4c8f-43fd-a05f-d409d0ad6c64\")) {                    Plotly.newPlot(                        \"dae7b0c8-4c8f-43fd-a05f-d409d0ad6c64\",                        [{\"alignmentgroup\":\"True\",\"boxpoints\":\"all\",\"customdata\":[[\"Tiefora\",\"Ngousso\",\"coluzzii\",\"Burkina Faso\"],[\"Ban\",\"BanS\",\"coluzzii\",\"Burkina Faso\"],[\"BanRe\",\"BanS\",\"coluzzii\",\"Burkina Faso\"],[\"VK7\",\"Kisumu\",\"coluzzii\",\"Burkina Faso\"],[\"Cameroon\",\"Ngousso\",\"coluzzii\",\"Cameroon\"],[\"Chad\",\"Ngousso\",\"coluzzii\",\"Chad\"],[\"Niger\",\"Ngousso\",\"coluzzii\",\"Niger\"],[\"Nigeria\",\"Ngousso\",\"coluzzii\",\"Nigeria\"],[\"Agboville\",\"Mali\",\"coluzzii\",\"Cote d'Ivoire\"],[\"Agboville\",\"Ngousso\",\"coluzzii\",\"Cote d'Ivoire\"],[\"Dabou\",\"Mali\",\"coluzzii\",\"Cote d'Ivoire\"],[\"Dabou\",\"Ngousso\",\"coluzzii\",\"Cote d'Ivoire\"],[\"Tiassale\",\"Mali\",\"coluzzii\",\"Cote d'Ivoire\"],[\"Tiassale\",\"Ngousso\",\"coluzzii\",\"Cote d'Ivoire\"],[\"Bouake_colu_unexp\",\"Ngousso\",\"coluzzii\",\"Cote d'Ivoire\"]],\"fillcolor\":\"rgba(255,255,255,0)\",\"hoveron\":\"points\",\"hovertemplate\":\"species=%{customdata[2]}<br>log2FC=%{x}<br>Label=%{y}<br>resistant=%{customdata[0]}<br>susceptible=%{customdata[1]}<br>country=%{customdata[3]}<extra></extra>\",\"legendgroup\":\"coluzzii\",\"line\":{\"color\":\"rgba(255,255,255,0)\"},\"marker\":{\"color\":\"#F8766D\"},\"name\":\"coluzzii\",\"offsetgroup\":\"coluzzii\",\"orientation\":\"h\",\"pointpos\":0,\"showlegend\":true,\"x\":[-0.46,-0.98,-0.37,0.01,-0.41,-0.17,-0.14,0.05,3.35,1.95,2.81,1.39,2.32,0.91,0.66],\"x0\":\" \",\"xaxis\":\"x\",\"y\":[\"AGAP006227\",\"AGAP006227\",\"AGAP006227\",\"AGAP006227\",\"AGAP006227\",\"AGAP006227\",\"AGAP006227\",\"AGAP006227\",\"AGAP006227\",\"AGAP006227\",\"AGAP006227\",\"AGAP006227\",\"AGAP006227\",\"AGAP006227\",\"AGAP006227\"],\"y0\":\" \",\"yaxis\":\"y\",\"type\":\"box\"},{\"alignmentgroup\":\"True\",\"boxpoints\":\"all\",\"customdata\":[[\"Bak\",\"Kisumu\",\"gambiae\",\"Burkina Faso\"],[\"Bouake_gamb_unexp\",\"Kisumu\",\"gambiae\",\"Cote d'Ivoire\"],[\"BusiaSurvivors\",\"Kisumu\",\"gambiae\",\"Uganda\"]],\"fillcolor\":\"rgba(255,255,255,0)\",\"hoveron\":\"points\",\"hovertemplate\":\"species=%{customdata[2]}<br>log2FC=%{x}<br>Label=%{y}<br>resistant=%{customdata[0]}<br>susceptible=%{customdata[1]}<br>country=%{customdata[3]}<extra></extra>\",\"legendgroup\":\"gambiae\",\"line\":{\"color\":\"rgba(255,255,255,0)\"},\"marker\":{\"color\":\"#A3A500\"},\"name\":\"gambiae\",\"offsetgroup\":\"gambiae\",\"orientation\":\"h\",\"pointpos\":0,\"showlegend\":true,\"x\":[0.26,2.57,0.59],\"x0\":\" \",\"xaxis\":\"x\",\"y\":[\"AGAP006227\",\"AGAP006227\",\"AGAP006227\"],\"y0\":\" \",\"yaxis\":\"y\",\"type\":\"box\"},{\"alignmentgroup\":\"True\",\"boxpoints\":\"all\",\"customdata\":[[\"Asendabo\",\"Moz\",\"arabiensis\",\"Ethiopia\"],[\"Chewaka\",\"Moz\",\"arabiensis\",\"Ethiopia\"],[\"Tolay\",\"Moz\",\"arabiensis\",\"Ethiopia\"],[\"Ethiopia\",\"Dongola\",\"arabiensis\",\"Ethiopia\"],[\"Gou\",\"Moz\",\"arabiensis\",\"Burkina Faso\"]],\"fillcolor\":\"rgba(255,255,255,0)\",\"hoveron\":\"points\",\"hovertemplate\":\"species=%{customdata[2]}<br>log2FC=%{x}<br>Label=%{y}<br>resistant=%{customdata[0]}<br>susceptible=%{customdata[1]}<br>country=%{customdata[3]}<extra></extra>\",\"legendgroup\":\"arabiensis\",\"line\":{\"color\":\"rgba(255,255,255,0)\"},\"marker\":{\"color\":\"#00BF7D\"},\"name\":\"arabiensis\",\"offsetgroup\":\"arabiensis\",\"orientation\":\"h\",\"pointpos\":0,\"showlegend\":true,\"x\":[-0.28,0.01,-0.08,0.11,0.01],\"x0\":\" \",\"xaxis\":\"x\",\"y\":[\"AGAP006227\",\"AGAP006227\",\"AGAP006227\",\"AGAP006227\",\"AGAP006227\"],\"y0\":\" \",\"yaxis\":\"y\",\"type\":\"box\"},{\"alignmentgroup\":\"True\",\"boxpoints\":\"all\",\"customdata\":[[\"Cam_fun\",\"Fang\",\"funestus\",\"Cameroon\"],[\"Fumoz\",\"Fang\",\"funestus\",\"Mozambique\"],[\"Ghana_fun\",\"Fang\",\"funestus\",\"Ghana\"],[\"Malawi_fun\",\"Fang\",\"funestus\",\"Malawi\"],[\"Uganda_fun\",\"Fang\",\"funestus\",\"Uganda\"]],\"fillcolor\":\"rgba(255,255,255,0)\",\"hoveron\":\"points\",\"hovertemplate\":\"species=%{customdata[2]}<br>log2FC=%{x}<br>Label=%{y}<br>resistant=%{customdata[0]}<br>susceptible=%{customdata[1]}<br>country=%{customdata[3]}<extra></extra>\",\"legendgroup\":\"funestus\",\"line\":{\"color\":\"rgba(255,255,255,0)\"},\"marker\":{\"color\":\"#00B0F6\"},\"name\":\"funestus\",\"offsetgroup\":\"funestus\",\"orientation\":\"h\",\"pointpos\":0,\"showlegend\":true,\"x\":[-0.43,-0.65,0.04,-0.36,-0.48],\"x0\":\" \",\"xaxis\":\"x\",\"y\":[\"AGAP006227\",\"AGAP006227\",\"AGAP006227\",\"AGAP006227\",\"AGAP006227\"],\"y0\":\" \",\"yaxis\":\"y\",\"type\":\"box\"}],                        {\"template\":{\"data\":{\"barpolar\":[{\"marker\":{\"line\":{\"color\":\"rgb(237,237,237)\",\"width\":0.5},\"pattern\":{\"fillmode\":\"overlay\",\"size\":10,\"solidity\":0.2}},\"type\":\"barpolar\"}],\"bar\":[{\"error_x\":{\"color\":\"rgb(51,51,51)\"},\"error_y\":{\"color\":\"rgb(51,51,51)\"},\"marker\":{\"line\":{\"color\":\"rgb(237,237,237)\",\"width\":0.5},\"pattern\":{\"fillmode\":\"overlay\",\"size\":10,\"solidity\":0.2}},\"type\":\"bar\"}],\"carpet\":[{\"aaxis\":{\"endlinecolor\":\"rgb(51,51,51)\",\"gridcolor\":\"white\",\"linecolor\":\"white\",\"minorgridcolor\":\"white\",\"startlinecolor\":\"rgb(51,51,51)\"},\"baxis\":{\"endlinecolor\":\"rgb(51,51,51)\",\"gridcolor\":\"white\",\"linecolor\":\"white\",\"minorgridcolor\":\"white\",\"startlinecolor\":\"rgb(51,51,51)\"},\"type\":\"carpet\"}],\"choropleth\":[{\"colorbar\":{\"outlinewidth\":0,\"tickcolor\":\"rgb(237,237,237)\",\"ticklen\":6,\"ticks\":\"inside\"},\"type\":\"choropleth\"}],\"contourcarpet\":[{\"colorbar\":{\"outlinewidth\":0,\"tickcolor\":\"rgb(237,237,237)\",\"ticklen\":6,\"ticks\":\"inside\"},\"type\":\"contourcarpet\"}],\"contour\":[{\"colorbar\":{\"outlinewidth\":0,\"tickcolor\":\"rgb(237,237,237)\",\"ticklen\":6,\"ticks\":\"inside\"},\"colorscale\":[[0,\"rgb(20,44,66)\"],[1,\"rgb(90,179,244)\"]],\"type\":\"contour\"}],\"heatmapgl\":[{\"colorbar\":{\"outlinewidth\":0,\"tickcolor\":\"rgb(237,237,237)\",\"ticklen\":6,\"ticks\":\"inside\"},\"colorscale\":[[0,\"rgb(20,44,66)\"],[1,\"rgb(90,179,244)\"]],\"type\":\"heatmapgl\"}],\"heatmap\":[{\"colorbar\":{\"outlinewidth\":0,\"tickcolor\":\"rgb(237,237,237)\",\"ticklen\":6,\"ticks\":\"inside\"},\"colorscale\":[[0,\"rgb(20,44,66)\"],[1,\"rgb(90,179,244)\"]],\"type\":\"heatmap\"}],\"histogram2dcontour\":[{\"colorbar\":{\"outlinewidth\":0,\"tickcolor\":\"rgb(237,237,237)\",\"ticklen\":6,\"ticks\":\"inside\"},\"colorscale\":[[0,\"rgb(20,44,66)\"],[1,\"rgb(90,179,244)\"]],\"type\":\"histogram2dcontour\"}],\"histogram2d\":[{\"colorbar\":{\"outlinewidth\":0,\"tickcolor\":\"rgb(237,237,237)\",\"ticklen\":6,\"ticks\":\"inside\"},\"colorscale\":[[0,\"rgb(20,44,66)\"],[1,\"rgb(90,179,244)\"]],\"type\":\"histogram2d\"}],\"histogram\":[{\"marker\":{\"pattern\":{\"fillmode\":\"overlay\",\"size\":10,\"solidity\":0.2}},\"type\":\"histogram\"}],\"mesh3d\":[{\"colorbar\":{\"outlinewidth\":0,\"tickcolor\":\"rgb(237,237,237)\",\"ticklen\":6,\"ticks\":\"inside\"},\"type\":\"mesh3d\"}],\"parcoords\":[{\"line\":{\"colorbar\":{\"outlinewidth\":0,\"tickcolor\":\"rgb(237,237,237)\",\"ticklen\":6,\"ticks\":\"inside\"}},\"type\":\"parcoords\"}],\"pie\":[{\"automargin\":true,\"type\":\"pie\"}],\"scatter3d\":[{\"line\":{\"colorbar\":{\"outlinewidth\":0,\"tickcolor\":\"rgb(237,237,237)\",\"ticklen\":6,\"ticks\":\"inside\"}},\"marker\":{\"colorbar\":{\"outlinewidth\":0,\"tickcolor\":\"rgb(237,237,237)\",\"ticklen\":6,\"ticks\":\"inside\"}},\"type\":\"scatter3d\"}],\"scattercarpet\":[{\"marker\":{\"colorbar\":{\"outlinewidth\":0,\"tickcolor\":\"rgb(237,237,237)\",\"ticklen\":6,\"ticks\":\"inside\"}},\"type\":\"scattercarpet\"}],\"scattergeo\":[{\"marker\":{\"colorbar\":{\"outlinewidth\":0,\"tickcolor\":\"rgb(237,237,237)\",\"ticklen\":6,\"ticks\":\"inside\"}},\"type\":\"scattergeo\"}],\"scattergl\":[{\"marker\":{\"colorbar\":{\"outlinewidth\":0,\"tickcolor\":\"rgb(237,237,237)\",\"ticklen\":6,\"ticks\":\"inside\"}},\"type\":\"scattergl\"}],\"scattermapbox\":[{\"marker\":{\"colorbar\":{\"outlinewidth\":0,\"tickcolor\":\"rgb(237,237,237)\",\"ticklen\":6,\"ticks\":\"inside\"}},\"type\":\"scattermapbox\"}],\"scatterpolargl\":[{\"marker\":{\"colorbar\":{\"outlinewidth\":0,\"tickcolor\":\"rgb(237,237,237)\",\"ticklen\":6,\"ticks\":\"inside\"}},\"type\":\"scatterpolargl\"}],\"scatterpolar\":[{\"marker\":{\"colorbar\":{\"outlinewidth\":0,\"tickcolor\":\"rgb(237,237,237)\",\"ticklen\":6,\"ticks\":\"inside\"}},\"type\":\"scatterpolar\"}],\"scatter\":[{\"marker\":{\"colorbar\":{\"outlinewidth\":0,\"tickcolor\":\"rgb(237,237,237)\",\"ticklen\":6,\"ticks\":\"inside\"}},\"type\":\"scatter\"}],\"scatterternary\":[{\"marker\":{\"colorbar\":{\"outlinewidth\":0,\"tickcolor\":\"rgb(237,237,237)\",\"ticklen\":6,\"ticks\":\"inside\"}},\"type\":\"scatterternary\"}],\"surface\":[{\"colorbar\":{\"outlinewidth\":0,\"tickcolor\":\"rgb(237,237,237)\",\"ticklen\":6,\"ticks\":\"inside\"},\"colorscale\":[[0,\"rgb(20,44,66)\"],[1,\"rgb(90,179,244)\"]],\"type\":\"surface\"}],\"table\":[{\"cells\":{\"fill\":{\"color\":\"rgb(237,237,237)\"},\"line\":{\"color\":\"white\"}},\"header\":{\"fill\":{\"color\":\"rgb(217,217,217)\"},\"line\":{\"color\":\"white\"}},\"type\":\"table\"}]},\"layout\":{\"annotationdefaults\":{\"arrowhead\":0,\"arrowwidth\":1},\"autotypenumbers\":\"strict\",\"coloraxis\":{\"colorbar\":{\"outlinewidth\":0,\"tickcolor\":\"rgb(237,237,237)\",\"ticklen\":6,\"ticks\":\"inside\"}},\"colorscale\":{\"sequential\":[[0,\"rgb(20,44,66)\"],[1,\"rgb(90,179,244)\"]],\"sequentialminus\":[[0,\"rgb(20,44,66)\"],[1,\"rgb(90,179,244)\"]]},\"colorway\":[\"#F8766D\",\"#A3A500\",\"#00BF7D\",\"#00B0F6\",\"#E76BF3\"],\"font\":{\"color\":\"rgb(51,51,51)\"},\"geo\":{\"bgcolor\":\"white\",\"lakecolor\":\"white\",\"landcolor\":\"rgb(237,237,237)\",\"showlakes\":true,\"showland\":true,\"subunitcolor\":\"white\"},\"hoverlabel\":{\"align\":\"left\"},\"hovermode\":\"closest\",\"paper_bgcolor\":\"white\",\"plot_bgcolor\":\"rgb(237,237,237)\",\"polar\":{\"angularaxis\":{\"gridcolor\":\"white\",\"linecolor\":\"white\",\"showgrid\":true,\"tickcolor\":\"rgb(51,51,51)\",\"ticks\":\"outside\"},\"bgcolor\":\"rgb(237,237,237)\",\"radialaxis\":{\"gridcolor\":\"white\",\"linecolor\":\"white\",\"showgrid\":true,\"tickcolor\":\"rgb(51,51,51)\",\"ticks\":\"outside\"}},\"scene\":{\"xaxis\":{\"backgroundcolor\":\"rgb(237,237,237)\",\"gridcolor\":\"white\",\"gridwidth\":2,\"linecolor\":\"white\",\"showbackground\":true,\"showgrid\":true,\"tickcolor\":\"rgb(51,51,51)\",\"ticks\":\"outside\",\"zerolinecolor\":\"white\"},\"yaxis\":{\"backgroundcolor\":\"rgb(237,237,237)\",\"gridcolor\":\"white\",\"gridwidth\":2,\"linecolor\":\"white\",\"showbackground\":true,\"showgrid\":true,\"tickcolor\":\"rgb(51,51,51)\",\"ticks\":\"outside\",\"zerolinecolor\":\"white\"},\"zaxis\":{\"backgroundcolor\":\"rgb(237,237,237)\",\"gridcolor\":\"white\",\"gridwidth\":2,\"linecolor\":\"white\",\"showbackground\":true,\"showgrid\":true,\"tickcolor\":\"rgb(51,51,51)\",\"ticks\":\"outside\",\"zerolinecolor\":\"white\"}},\"shapedefaults\":{\"fillcolor\":\"black\",\"line\":{\"width\":0},\"opacity\":0.3},\"ternary\":{\"aaxis\":{\"gridcolor\":\"white\",\"linecolor\":\"white\",\"showgrid\":true,\"tickcolor\":\"rgb(51,51,51)\",\"ticks\":\"outside\"},\"baxis\":{\"gridcolor\":\"white\",\"linecolor\":\"white\",\"showgrid\":true,\"tickcolor\":\"rgb(51,51,51)\",\"ticks\":\"outside\"},\"bgcolor\":\"rgb(237,237,237)\",\"caxis\":{\"gridcolor\":\"white\",\"linecolor\":\"white\",\"showgrid\":true,\"tickcolor\":\"rgb(51,51,51)\",\"ticks\":\"outside\"}},\"xaxis\":{\"automargin\":true,\"gridcolor\":\"white\",\"linecolor\":\"white\",\"showgrid\":true,\"tickcolor\":\"rgb(51,51,51)\",\"ticks\":\"outside\",\"title\":{\"standoff\":15},\"zerolinecolor\":\"white\"},\"yaxis\":{\"automargin\":true,\"gridcolor\":\"white\",\"linecolor\":\"white\",\"showgrid\":true,\"tickcolor\":\"rgb(51,51,51)\",\"ticks\":\"outside\",\"title\":{\"standoff\":15},\"zerolinecolor\":\"white\"}}},\"xaxis\":{\"anchor\":\"y\",\"domain\":[0.0,1.0],\"title\":{\"text\":\"log2 Fold Change\"},\"range\":[-4,6]},\"yaxis\":{\"anchor\":\"x\",\"domain\":[0.0,1.0],\"title\":{\"text\":\"Gene\"}},\"legend\":{\"title\":{\"text\":\"species\"},\"tracegroupgap\":0},\"margin\":{\"t\":60},\"boxmode\":\"group\",\"height\":300,\"width\":1000,\"title\":{\"font\":{\"size\":20}},\"shapes\":[{\"line\":{\"color\":\"grey\",\"dash\":\"dash\",\"width\":1},\"type\":\"line\",\"x0\":0,\"x1\":0,\"xref\":\"x\",\"y0\":0,\"y1\":1,\"yref\":\"y domain\"}]},                        {\"responsive\": true}                    ).then(function(){\n",
              "                            \n",
              "var gd = document.getElementById('dae7b0c8-4c8f-43fd-a05f-d409d0ad6c64');\n",
              "var x = new MutationObserver(function (mutations, observer) {{\n",
              "        var display = window.getComputedStyle(gd).display;\n",
              "        if (!display || display === 'none') {{\n",
              "            console.log([gd, 'removed!']);\n",
              "            Plotly.purge(gd);\n",
              "            observer.disconnect();\n",
              "        }}\n",
              "}});\n",
              "\n",
              "// Listen for the removal of the full notebook cells\n",
              "var notebookContainer = gd.closest('#notebook-container');\n",
              "if (notebookContainer) {{\n",
              "    x.observe(notebookContainer, {childList: true});\n",
              "}}\n",
              "\n",
              "// Listen for the clearing of the current output cell\n",
              "var outputEl = gd.closest('.output');\n",
              "if (outputEl) {{\n",
              "    x.observe(outputEl, {childList: true});\n",
              "}}\n",
              "\n",
              "                        })                };                            </script>        </div>\n",
              "</body>\n",
              "</html>"
            ]
          },
          "metadata": {}
        }
      ],
      "source": [
        "#@title **RNA-Seq-Meta** { run: \"auto\" }\n",
        "#@markdown This notebook produces interactive strip and boxplots with plotly, to summarise gene expression across ~30 *Anopheles* insecticide resistant v susceptible RNA-Sequencing experiments. There are four different databases to select\n",
        "#@markdown 'gamb_colu', 'gamb_colu_arab', 'gamb_colu_arab_fun' and 'fun'.  \n",
        "#@markdown only *gambiae* genes with *funestus* orthologs are present.  \n",
        "#@markdown   \n",
        "#@markdown Requesting feedback and ideas for how to explore the data.\n",
        "\n",
        "database = \"gamb_colu_arab_fun\" #@param ['gamb_colu', 'gamb_colu_arab', 'gamb_colu_arab_fun', 'fun']\n",
        "GeneID = \"AGAP006227\" #@param {type:\"string\"} \n",
        "plot_type = \"strip\" #@param ['strip', 'boxplot']\n",
        "\n",
        "plot_gene_fcs(database=database,\n",
        "              gene_id=GeneID, \n",
        "              title=\"\", \n",
        "              plot_type=plot_type, \n",
        "              height=300)"
      ]
    },
    {
      "cell_type": "markdown",
      "id": "yqZ2VL2svoDr",
      "metadata": {
        "id": "yqZ2VL2svoDr"
      },
      "source": [
        "We can provide a list of genes, and sort by either AGAP identifier, or by the median fold-change. "
      ]
    },
    {
      "cell_type": "code",
      "execution_count": 3,
      "id": "bMksl8rNPEMS",
      "metadata": {
        "colab": {
          "base_uri": "https://localhost:8080/",
          "height": 317
        },
        "id": "bMksl8rNPEMS",
        "outputId": "317fb6a7-bbba-45cb-c5a3-94b989a5a624"
      },
      "outputs": [
        {
          "output_type": "display_data",
          "data": {
            "text/html": [
              "<html>\n",
              "<head><meta charset=\"utf-8\" /></head>\n",
              "<body>\n",
              "    <div>            <script src=\"https://cdnjs.cloudflare.com/ajax/libs/mathjax/2.7.5/MathJax.js?config=TeX-AMS-MML_SVG\"></script><script type=\"text/javascript\">if (window.MathJax) {MathJax.Hub.Config({SVG: {font: \"STIX-Web\"}});}</script>                <script type=\"text/javascript\">window.PlotlyConfig = {MathJaxConfig: 'local'};</script>\n",
              "        <script src=\"https://cdn.plot.ly/plotly-2.8.3.min.js\"></script>                <div id=\"081c6c6c-81af-4ead-b6bd-761f56311525\" class=\"plotly-graph-div\" style=\"height:300px; width:1000px;\"></div>            <script type=\"text/javascript\">                                    window.PLOTLYENV=window.PLOTLYENV || {};                                    if (document.getElementById(\"081c6c6c-81af-4ead-b6bd-761f56311525\")) {                    Plotly.newPlot(                        \"081c6c6c-81af-4ead-b6bd-761f56311525\",                        [{\"alignmentgroup\":\"True\",\"boxpoints\":\"all\",\"customdata\":[[\"Tiefora\",\"Ngousso\",\"coluzzii\",\"Burkina Faso\"],[\"Tiefora\",\"Ngousso\",\"coluzzii\",\"Burkina Faso\"],[\"Tiefora\",\"Ngousso\",\"coluzzii\",\"Burkina Faso\"],[\"Ban\",\"BanS\",\"coluzzii\",\"Burkina Faso\"],[\"Ban\",\"BanS\",\"coluzzii\",\"Burkina Faso\"],[\"Ban\",\"BanS\",\"coluzzii\",\"Burkina Faso\"],[\"BanRe\",\"BanS\",\"coluzzii\",\"Burkina Faso\"],[\"BanRe\",\"BanS\",\"coluzzii\",\"Burkina Faso\"],[\"BanRe\",\"BanS\",\"coluzzii\",\"Burkina Faso\"],[\"VK7\",\"Kisumu\",\"coluzzii\",\"Burkina Faso\"],[\"VK7\",\"Kisumu\",\"coluzzii\",\"Burkina Faso\"],[\"VK7\",\"Kisumu\",\"coluzzii\",\"Burkina Faso\"],[\"Cameroon\",\"Ngousso\",\"coluzzii\",\"Cameroon\"],[\"Cameroon\",\"Ngousso\",\"coluzzii\",\"Cameroon\"],[\"Cameroon\",\"Ngousso\",\"coluzzii\",\"Cameroon\"],[\"Chad\",\"Ngousso\",\"coluzzii\",\"Chad\"],[\"Chad\",\"Ngousso\",\"coluzzii\",\"Chad\"],[\"Chad\",\"Ngousso\",\"coluzzii\",\"Chad\"],[\"Niger\",\"Ngousso\",\"coluzzii\",\"Niger\"],[\"Niger\",\"Ngousso\",\"coluzzii\",\"Niger\"],[\"Niger\",\"Ngousso\",\"coluzzii\",\"Niger\"],[\"Nigeria\",\"Ngousso\",\"coluzzii\",\"Nigeria\"],[\"Nigeria\",\"Ngousso\",\"coluzzii\",\"Nigeria\"],[\"Nigeria\",\"Ngousso\",\"coluzzii\",\"Nigeria\"],[\"Agboville\",\"Mali\",\"coluzzii\",\"Cote d'Ivoire\"],[\"Agboville\",\"Mali\",\"coluzzii\",\"Cote d'Ivoire\"],[\"Agboville\",\"Mali\",\"coluzzii\",\"Cote d'Ivoire\"],[\"Agboville\",\"Ngousso\",\"coluzzii\",\"Cote d'Ivoire\"],[\"Agboville\",\"Ngousso\",\"coluzzii\",\"Cote d'Ivoire\"],[\"Agboville\",\"Ngousso\",\"coluzzii\",\"Cote d'Ivoire\"],[\"Dabou\",\"Mali\",\"coluzzii\",\"Cote d'Ivoire\"],[\"Dabou\",\"Mali\",\"coluzzii\",\"Cote d'Ivoire\"],[\"Dabou\",\"Mali\",\"coluzzii\",\"Cote d'Ivoire\"],[\"Dabou\",\"Ngousso\",\"coluzzii\",\"Cote d'Ivoire\"],[\"Dabou\",\"Ngousso\",\"coluzzii\",\"Cote d'Ivoire\"],[\"Dabou\",\"Ngousso\",\"coluzzii\",\"Cote d'Ivoire\"],[\"Tiassale\",\"Mali\",\"coluzzii\",\"Cote d'Ivoire\"],[\"Tiassale\",\"Mali\",\"coluzzii\",\"Cote d'Ivoire\"],[\"Tiassale\",\"Mali\",\"coluzzii\",\"Cote d'Ivoire\"],[\"Tiassale\",\"Ngousso\",\"coluzzii\",\"Cote d'Ivoire\"],[\"Tiassale\",\"Ngousso\",\"coluzzii\",\"Cote d'Ivoire\"],[\"Tiassale\",\"Ngousso\",\"coluzzii\",\"Cote d'Ivoire\"],[\"Bouake_colu_unexp\",\"Ngousso\",\"coluzzii\",\"Cote d'Ivoire\"],[\"Bouake_colu_unexp\",\"Ngousso\",\"coluzzii\",\"Cote d'Ivoire\"],[\"Bouake_colu_unexp\",\"Ngousso\",\"coluzzii\",\"Cote d'Ivoire\"]],\"fillcolor\":\"rgba(255,255,255,0)\",\"hoveron\":\"points\",\"hovertemplate\":\"species=%{customdata[2]}<br>log2FC=%{x}<br>Label=%{y}<br>resistant=%{customdata[0]}<br>susceptible=%{customdata[1]}<br>country=%{customdata[3]}<extra></extra>\",\"legendgroup\":\"coluzzii\",\"line\":{\"color\":\"rgba(255,255,255,0)\"},\"marker\":{\"color\":\"#F8766D\"},\"name\":\"coluzzii\",\"offsetgroup\":\"coluzzii\",\"orientation\":\"h\",\"pointpos\":0,\"showlegend\":true,\"x\":[-0.44,-0.46,0.75,-0.41,-0.98,2.17,-0.11,-0.37,0.03,-0.3,0.01,1.7,-0.2,-0.41,1.73,0.24,-0.17,1.1,0.21,-0.14,0.53,0.14,0.05,1.73,1.69,3.35,2.21,1.14,1.95,2.75,2.28,2.81,2.47,1.71,1.39,3.0,0.64,2.32,1.94,0.09,0.91,2.48,-0.73,0.66,2.43],\"x0\":\" \",\"xaxis\":\"x\",\"y\":[\"AGAP006228 | COEAE2F\",\"AGAP006227\",\"AGAP006222\",\"AGAP006228 | COEAE2F\",\"AGAP006227\",\"AGAP006222\",\"AGAP006228 | COEAE2F\",\"AGAP006227\",\"AGAP006222\",\"AGAP006228 | COEAE2F\",\"AGAP006227\",\"AGAP006222\",\"AGAP006228 | COEAE2F\",\"AGAP006227\",\"AGAP006222\",\"AGAP006228 | COEAE2F\",\"AGAP006227\",\"AGAP006222\",\"AGAP006228 | COEAE2F\",\"AGAP006227\",\"AGAP006222\",\"AGAP006228 | COEAE2F\",\"AGAP006227\",\"AGAP006222\",\"AGAP006228 | COEAE2F\",\"AGAP006227\",\"AGAP006222\",\"AGAP006228 | COEAE2F\",\"AGAP006227\",\"AGAP006222\",\"AGAP006228 | COEAE2F\",\"AGAP006227\",\"AGAP006222\",\"AGAP006228 | COEAE2F\",\"AGAP006227\",\"AGAP006222\",\"AGAP006228 | COEAE2F\",\"AGAP006227\",\"AGAP006222\",\"AGAP006228 | COEAE2F\",\"AGAP006227\",\"AGAP006222\",\"AGAP006228 | COEAE2F\",\"AGAP006227\",\"AGAP006222\"],\"y0\":\" \",\"yaxis\":\"y\",\"type\":\"box\"},{\"alignmentgroup\":\"True\",\"boxpoints\":\"all\",\"customdata\":[[\"Bak\",\"Kisumu\",\"gambiae\",\"Burkina Faso\"],[\"Bak\",\"Kisumu\",\"gambiae\",\"Burkina Faso\"],[\"Bak\",\"Kisumu\",\"gambiae\",\"Burkina Faso\"],[\"Bouake_gamb_unexp\",\"Kisumu\",\"gambiae\",\"Cote d'Ivoire\"],[\"Bouake_gamb_unexp\",\"Kisumu\",\"gambiae\",\"Cote d'Ivoire\"],[\"Bouake_gamb_unexp\",\"Kisumu\",\"gambiae\",\"Cote d'Ivoire\"],[\"BusiaSurvivors\",\"Kisumu\",\"gambiae\",\"Uganda\"],[\"BusiaSurvivors\",\"Kisumu\",\"gambiae\",\"Uganda\"],[\"BusiaSurvivors\",\"Kisumu\",\"gambiae\",\"Uganda\"]],\"fillcolor\":\"rgba(255,255,255,0)\",\"hoveron\":\"points\",\"hovertemplate\":\"species=%{customdata[2]}<br>log2FC=%{x}<br>Label=%{y}<br>resistant=%{customdata[0]}<br>susceptible=%{customdata[1]}<br>country=%{customdata[3]}<extra></extra>\",\"legendgroup\":\"gambiae\",\"line\":{\"color\":\"rgba(255,255,255,0)\"},\"marker\":{\"color\":\"#A3A500\"},\"name\":\"gambiae\",\"offsetgroup\":\"gambiae\",\"orientation\":\"h\",\"pointpos\":0,\"showlegend\":true,\"x\":[-0.26,0.26,1.53,-0.1,2.57,0.15,0.75,0.59,-2.83],\"x0\":\" \",\"xaxis\":\"x\",\"y\":[\"AGAP006228 | COEAE2F\",\"AGAP006227\",\"AGAP006222\",\"AGAP006228 | COEAE2F\",\"AGAP006227\",\"AGAP006222\",\"AGAP006228 | COEAE2F\",\"AGAP006227\",\"AGAP006222\"],\"y0\":\" \",\"yaxis\":\"y\",\"type\":\"box\"},{\"alignmentgroup\":\"True\",\"boxpoints\":\"all\",\"customdata\":[[\"Asendabo\",\"Moz\",\"arabiensis\",\"Ethiopia\"],[\"Asendabo\",\"Moz\",\"arabiensis\",\"Ethiopia\"],[\"Asendabo\",\"Moz\",\"arabiensis\",\"Ethiopia\"],[\"Chewaka\",\"Moz\",\"arabiensis\",\"Ethiopia\"],[\"Chewaka\",\"Moz\",\"arabiensis\",\"Ethiopia\"],[\"Chewaka\",\"Moz\",\"arabiensis\",\"Ethiopia\"],[\"Tolay\",\"Moz\",\"arabiensis\",\"Ethiopia\"],[\"Tolay\",\"Moz\",\"arabiensis\",\"Ethiopia\"],[\"Tolay\",\"Moz\",\"arabiensis\",\"Ethiopia\"],[\"Ethiopia\",\"Dongola\",\"arabiensis\",\"Ethiopia\"],[\"Ethiopia\",\"Dongola\",\"arabiensis\",\"Ethiopia\"],[\"Ethiopia\",\"Dongola\",\"arabiensis\",\"Ethiopia\"],[\"Gou\",\"Moz\",\"arabiensis\",\"Burkina Faso\"],[\"Gou\",\"Moz\",\"arabiensis\",\"Burkina Faso\"],[\"Gou\",\"Moz\",\"arabiensis\",\"Burkina Faso\"]],\"fillcolor\":\"rgba(255,255,255,0)\",\"hoveron\":\"points\",\"hovertemplate\":\"species=%{customdata[2]}<br>log2FC=%{x}<br>Label=%{y}<br>resistant=%{customdata[0]}<br>susceptible=%{customdata[1]}<br>country=%{customdata[3]}<extra></extra>\",\"legendgroup\":\"arabiensis\",\"line\":{\"color\":\"rgba(255,255,255,0)\"},\"marker\":{\"color\":\"#00BF7D\"},\"name\":\"arabiensis\",\"offsetgroup\":\"arabiensis\",\"orientation\":\"h\",\"pointpos\":0,\"showlegend\":true,\"x\":[0.1,-0.28,2.22,0.36,0.01,3.44,0.22,-0.08,2.52,0.18,0.11,1.08,-0.12,0.01,1.27],\"x0\":\" \",\"xaxis\":\"x\",\"y\":[\"AGAP006228 | COEAE2F\",\"AGAP006227\",\"AGAP006222\",\"AGAP006228 | COEAE2F\",\"AGAP006227\",\"AGAP006222\",\"AGAP006228 | COEAE2F\",\"AGAP006227\",\"AGAP006222\",\"AGAP006228 | COEAE2F\",\"AGAP006227\",\"AGAP006222\",\"AGAP006228 | COEAE2F\",\"AGAP006227\",\"AGAP006222\"],\"y0\":\" \",\"yaxis\":\"y\",\"type\":\"box\"},{\"alignmentgroup\":\"True\",\"boxpoints\":\"all\",\"customdata\":[[\"Cam_fun\",\"Fang\",\"funestus\",\"Cameroon\"],[\"Cam_fun\",\"Fang\",\"funestus\",\"Cameroon\"],[\"Cam_fun\",\"Fang\",\"funestus\",\"Cameroon\"],[\"Fumoz\",\"Fang\",\"funestus\",\"Mozambique\"],[\"Fumoz\",\"Fang\",\"funestus\",\"Mozambique\"],[\"Fumoz\",\"Fang\",\"funestus\",\"Mozambique\"],[\"Ghana_fun\",\"Fang\",\"funestus\",\"Ghana\"],[\"Ghana_fun\",\"Fang\",\"funestus\",\"Ghana\"],[\"Ghana_fun\",\"Fang\",\"funestus\",\"Ghana\"],[\"Malawi_fun\",\"Fang\",\"funestus\",\"Malawi\"],[\"Malawi_fun\",\"Fang\",\"funestus\",\"Malawi\"],[\"Malawi_fun\",\"Fang\",\"funestus\",\"Malawi\"],[\"Uganda_fun\",\"Fang\",\"funestus\",\"Uganda\"],[\"Uganda_fun\",\"Fang\",\"funestus\",\"Uganda\"],[\"Uganda_fun\",\"Fang\",\"funestus\",\"Uganda\"]],\"fillcolor\":\"rgba(255,255,255,0)\",\"hoveron\":\"points\",\"hovertemplate\":\"species=%{customdata[2]}<br>log2FC=%{x}<br>Label=%{y}<br>resistant=%{customdata[0]}<br>susceptible=%{customdata[1]}<br>country=%{customdata[3]}<extra></extra>\",\"legendgroup\":\"funestus\",\"line\":{\"color\":\"rgba(255,255,255,0)\"},\"marker\":{\"color\":\"#00B0F6\"},\"name\":\"funestus\",\"offsetgroup\":\"funestus\",\"orientation\":\"h\",\"pointpos\":0,\"showlegend\":true,\"x\":[-0.1,-0.43,-0.58,-0.09,-0.65,0.03,0.36,0.04,0.71,0.28,-0.36,0.29,0.18,-0.48,-0.03],\"x0\":\" \",\"xaxis\":\"x\",\"y\":[\"AGAP006228 | COEAE2F\",\"AGAP006227\",\"AGAP006222\",\"AGAP006228 | COEAE2F\",\"AGAP006227\",\"AGAP006222\",\"AGAP006228 | COEAE2F\",\"AGAP006227\",\"AGAP006222\",\"AGAP006228 | COEAE2F\",\"AGAP006227\",\"AGAP006222\",\"AGAP006228 | COEAE2F\",\"AGAP006227\",\"AGAP006222\"],\"y0\":\" \",\"yaxis\":\"y\",\"type\":\"box\"}],                        {\"template\":{\"data\":{\"barpolar\":[{\"marker\":{\"line\":{\"color\":\"rgb(237,237,237)\",\"width\":0.5},\"pattern\":{\"fillmode\":\"overlay\",\"size\":10,\"solidity\":0.2}},\"type\":\"barpolar\"}],\"bar\":[{\"error_x\":{\"color\":\"rgb(51,51,51)\"},\"error_y\":{\"color\":\"rgb(51,51,51)\"},\"marker\":{\"line\":{\"color\":\"rgb(237,237,237)\",\"width\":0.5},\"pattern\":{\"fillmode\":\"overlay\",\"size\":10,\"solidity\":0.2}},\"type\":\"bar\"}],\"carpet\":[{\"aaxis\":{\"endlinecolor\":\"rgb(51,51,51)\",\"gridcolor\":\"white\",\"linecolor\":\"white\",\"minorgridcolor\":\"white\",\"startlinecolor\":\"rgb(51,51,51)\"},\"baxis\":{\"endlinecolor\":\"rgb(51,51,51)\",\"gridcolor\":\"white\",\"linecolor\":\"white\",\"minorgridcolor\":\"white\",\"startlinecolor\":\"rgb(51,51,51)\"},\"type\":\"carpet\"}],\"choropleth\":[{\"colorbar\":{\"outlinewidth\":0,\"tickcolor\":\"rgb(237,237,237)\",\"ticklen\":6,\"ticks\":\"inside\"},\"type\":\"choropleth\"}],\"contourcarpet\":[{\"colorbar\":{\"outlinewidth\":0,\"tickcolor\":\"rgb(237,237,237)\",\"ticklen\":6,\"ticks\":\"inside\"},\"type\":\"contourcarpet\"}],\"contour\":[{\"colorbar\":{\"outlinewidth\":0,\"tickcolor\":\"rgb(237,237,237)\",\"ticklen\":6,\"ticks\":\"inside\"},\"colorscale\":[[0,\"rgb(20,44,66)\"],[1,\"rgb(90,179,244)\"]],\"type\":\"contour\"}],\"heatmapgl\":[{\"colorbar\":{\"outlinewidth\":0,\"tickcolor\":\"rgb(237,237,237)\",\"ticklen\":6,\"ticks\":\"inside\"},\"colorscale\":[[0,\"rgb(20,44,66)\"],[1,\"rgb(90,179,244)\"]],\"type\":\"heatmapgl\"}],\"heatmap\":[{\"colorbar\":{\"outlinewidth\":0,\"tickcolor\":\"rgb(237,237,237)\",\"ticklen\":6,\"ticks\":\"inside\"},\"colorscale\":[[0,\"rgb(20,44,66)\"],[1,\"rgb(90,179,244)\"]],\"type\":\"heatmap\"}],\"histogram2dcontour\":[{\"colorbar\":{\"outlinewidth\":0,\"tickcolor\":\"rgb(237,237,237)\",\"ticklen\":6,\"ticks\":\"inside\"},\"colorscale\":[[0,\"rgb(20,44,66)\"],[1,\"rgb(90,179,244)\"]],\"type\":\"histogram2dcontour\"}],\"histogram2d\":[{\"colorbar\":{\"outlinewidth\":0,\"tickcolor\":\"rgb(237,237,237)\",\"ticklen\":6,\"ticks\":\"inside\"},\"colorscale\":[[0,\"rgb(20,44,66)\"],[1,\"rgb(90,179,244)\"]],\"type\":\"histogram2d\"}],\"histogram\":[{\"marker\":{\"pattern\":{\"fillmode\":\"overlay\",\"size\":10,\"solidity\":0.2}},\"type\":\"histogram\"}],\"mesh3d\":[{\"colorbar\":{\"outlinewidth\":0,\"tickcolor\":\"rgb(237,237,237)\",\"ticklen\":6,\"ticks\":\"inside\"},\"type\":\"mesh3d\"}],\"parcoords\":[{\"line\":{\"colorbar\":{\"outlinewidth\":0,\"tickcolor\":\"rgb(237,237,237)\",\"ticklen\":6,\"ticks\":\"inside\"}},\"type\":\"parcoords\"}],\"pie\":[{\"automargin\":true,\"type\":\"pie\"}],\"scatter3d\":[{\"line\":{\"colorbar\":{\"outlinewidth\":0,\"tickcolor\":\"rgb(237,237,237)\",\"ticklen\":6,\"ticks\":\"inside\"}},\"marker\":{\"colorbar\":{\"outlinewidth\":0,\"tickcolor\":\"rgb(237,237,237)\",\"ticklen\":6,\"ticks\":\"inside\"}},\"type\":\"scatter3d\"}],\"scattercarpet\":[{\"marker\":{\"colorbar\":{\"outlinewidth\":0,\"tickcolor\":\"rgb(237,237,237)\",\"ticklen\":6,\"ticks\":\"inside\"}},\"type\":\"scattercarpet\"}],\"scattergeo\":[{\"marker\":{\"colorbar\":{\"outlinewidth\":0,\"tickcolor\":\"rgb(237,237,237)\",\"ticklen\":6,\"ticks\":\"inside\"}},\"type\":\"scattergeo\"}],\"scattergl\":[{\"marker\":{\"colorbar\":{\"outlinewidth\":0,\"tickcolor\":\"rgb(237,237,237)\",\"ticklen\":6,\"ticks\":\"inside\"}},\"type\":\"scattergl\"}],\"scattermapbox\":[{\"marker\":{\"colorbar\":{\"outlinewidth\":0,\"tickcolor\":\"rgb(237,237,237)\",\"ticklen\":6,\"ticks\":\"inside\"}},\"type\":\"scattermapbox\"}],\"scatterpolargl\":[{\"marker\":{\"colorbar\":{\"outlinewidth\":0,\"tickcolor\":\"rgb(237,237,237)\",\"ticklen\":6,\"ticks\":\"inside\"}},\"type\":\"scatterpolargl\"}],\"scatterpolar\":[{\"marker\":{\"colorbar\":{\"outlinewidth\":0,\"tickcolor\":\"rgb(237,237,237)\",\"ticklen\":6,\"ticks\":\"inside\"}},\"type\":\"scatterpolar\"}],\"scatter\":[{\"marker\":{\"colorbar\":{\"outlinewidth\":0,\"tickcolor\":\"rgb(237,237,237)\",\"ticklen\":6,\"ticks\":\"inside\"}},\"type\":\"scatter\"}],\"scatterternary\":[{\"marker\":{\"colorbar\":{\"outlinewidth\":0,\"tickcolor\":\"rgb(237,237,237)\",\"ticklen\":6,\"ticks\":\"inside\"}},\"type\":\"scatterternary\"}],\"surface\":[{\"colorbar\":{\"outlinewidth\":0,\"tickcolor\":\"rgb(237,237,237)\",\"ticklen\":6,\"ticks\":\"inside\"},\"colorscale\":[[0,\"rgb(20,44,66)\"],[1,\"rgb(90,179,244)\"]],\"type\":\"surface\"}],\"table\":[{\"cells\":{\"fill\":{\"color\":\"rgb(237,237,237)\"},\"line\":{\"color\":\"white\"}},\"header\":{\"fill\":{\"color\":\"rgb(217,217,217)\"},\"line\":{\"color\":\"white\"}},\"type\":\"table\"}]},\"layout\":{\"annotationdefaults\":{\"arrowhead\":0,\"arrowwidth\":1},\"autotypenumbers\":\"strict\",\"coloraxis\":{\"colorbar\":{\"outlinewidth\":0,\"tickcolor\":\"rgb(237,237,237)\",\"ticklen\":6,\"ticks\":\"inside\"}},\"colorscale\":{\"sequential\":[[0,\"rgb(20,44,66)\"],[1,\"rgb(90,179,244)\"]],\"sequentialminus\":[[0,\"rgb(20,44,66)\"],[1,\"rgb(90,179,244)\"]]},\"colorway\":[\"#F8766D\",\"#A3A500\",\"#00BF7D\",\"#00B0F6\",\"#E76BF3\"],\"font\":{\"color\":\"rgb(51,51,51)\"},\"geo\":{\"bgcolor\":\"white\",\"lakecolor\":\"white\",\"landcolor\":\"rgb(237,237,237)\",\"showlakes\":true,\"showland\":true,\"subunitcolor\":\"white\"},\"hoverlabel\":{\"align\":\"left\"},\"hovermode\":\"closest\",\"paper_bgcolor\":\"white\",\"plot_bgcolor\":\"rgb(237,237,237)\",\"polar\":{\"angularaxis\":{\"gridcolor\":\"white\",\"linecolor\":\"white\",\"showgrid\":true,\"tickcolor\":\"rgb(51,51,51)\",\"ticks\":\"outside\"},\"bgcolor\":\"rgb(237,237,237)\",\"radialaxis\":{\"gridcolor\":\"white\",\"linecolor\":\"white\",\"showgrid\":true,\"tickcolor\":\"rgb(51,51,51)\",\"ticks\":\"outside\"}},\"scene\":{\"xaxis\":{\"backgroundcolor\":\"rgb(237,237,237)\",\"gridcolor\":\"white\",\"gridwidth\":2,\"linecolor\":\"white\",\"showbackground\":true,\"showgrid\":true,\"tickcolor\":\"rgb(51,51,51)\",\"ticks\":\"outside\",\"zerolinecolor\":\"white\"},\"yaxis\":{\"backgroundcolor\":\"rgb(237,237,237)\",\"gridcolor\":\"white\",\"gridwidth\":2,\"linecolor\":\"white\",\"showbackground\":true,\"showgrid\":true,\"tickcolor\":\"rgb(51,51,51)\",\"ticks\":\"outside\",\"zerolinecolor\":\"white\"},\"zaxis\":{\"backgroundcolor\":\"rgb(237,237,237)\",\"gridcolor\":\"white\",\"gridwidth\":2,\"linecolor\":\"white\",\"showbackground\":true,\"showgrid\":true,\"tickcolor\":\"rgb(51,51,51)\",\"ticks\":\"outside\",\"zerolinecolor\":\"white\"}},\"shapedefaults\":{\"fillcolor\":\"black\",\"line\":{\"width\":0},\"opacity\":0.3},\"ternary\":{\"aaxis\":{\"gridcolor\":\"white\",\"linecolor\":\"white\",\"showgrid\":true,\"tickcolor\":\"rgb(51,51,51)\",\"ticks\":\"outside\"},\"baxis\":{\"gridcolor\":\"white\",\"linecolor\":\"white\",\"showgrid\":true,\"tickcolor\":\"rgb(51,51,51)\",\"ticks\":\"outside\"},\"bgcolor\":\"rgb(237,237,237)\",\"caxis\":{\"gridcolor\":\"white\",\"linecolor\":\"white\",\"showgrid\":true,\"tickcolor\":\"rgb(51,51,51)\",\"ticks\":\"outside\"}},\"xaxis\":{\"automargin\":true,\"gridcolor\":\"white\",\"linecolor\":\"white\",\"showgrid\":true,\"tickcolor\":\"rgb(51,51,51)\",\"ticks\":\"outside\",\"title\":{\"standoff\":15},\"zerolinecolor\":\"white\"},\"yaxis\":{\"automargin\":true,\"gridcolor\":\"white\",\"linecolor\":\"white\",\"showgrid\":true,\"tickcolor\":\"rgb(51,51,51)\",\"ticks\":\"outside\",\"title\":{\"standoff\":15},\"zerolinecolor\":\"white\"}}},\"xaxis\":{\"anchor\":\"y\",\"domain\":[0.0,1.0],\"title\":{\"text\":\"log2 Fold Change\"},\"range\":[-4,6]},\"yaxis\":{\"anchor\":\"x\",\"domain\":[0.0,1.0],\"title\":{\"text\":\"Gene\"}},\"legend\":{\"title\":{\"text\":\"species\"},\"tracegroupgap\":0},\"title\":{\"text\":\"Coeae1f\",\"font\":{\"size\":20}},\"boxmode\":\"group\",\"height\":300,\"width\":1000,\"shapes\":[{\"line\":{\"color\":\"grey\",\"dash\":\"dash\",\"width\":1},\"type\":\"line\",\"x0\":0,\"x1\":0,\"xref\":\"x\",\"y0\":0,\"y1\":1,\"yref\":\"y domain\"}]},                        {\"responsive\": true}                    ).then(function(){\n",
              "                            \n",
              "var gd = document.getElementById('081c6c6c-81af-4ead-b6bd-761f56311525');\n",
              "var x = new MutationObserver(function (mutations, observer) {{\n",
              "        var display = window.getComputedStyle(gd).display;\n",
              "        if (!display || display === 'none') {{\n",
              "            console.log([gd, 'removed!']);\n",
              "            Plotly.purge(gd);\n",
              "            observer.disconnect();\n",
              "        }}\n",
              "}});\n",
              "\n",
              "// Listen for the removal of the full notebook cells\n",
              "var notebookContainer = gd.closest('#notebook-container');\n",
              "if (notebookContainer) {{\n",
              "    x.observe(notebookContainer, {childList: true});\n",
              "}}\n",
              "\n",
              "// Listen for the clearing of the current output cell\n",
              "var outputEl = gd.closest('.output');\n",
              "if (outputEl) {{\n",
              "    x.observe(outputEl, {childList: true});\n",
              "}}\n",
              "\n",
              "                        })                };                            </script>        </div>\n",
              "</body>\n",
              "</html>"
            ]
          },
          "metadata": {}
        }
      ],
      "source": [
        "plot_gene_fcs(\n",
        "    database=\"gamb_colu_arab_fun\", \n",
        "    gene_id=[\"AGAP006222\", \"AGAP006227\", \"AGAP006228\"], \n",
        "    sort_by='agap', \n",
        "    title=\"Coeae1f\", \n",
        "    plot_type='strip', \n",
        "    height=300\n",
        ")"
      ]
    },
    {
      "cell_type": "markdown",
      "id": "w3a56NCsEk70",
      "metadata": {
        "id": "w3a56NCsEk70"
      },
      "source": [
        "You can also produce a boxplot, although the hovertext doesnt quite work as expected."
      ]
    },
    {
      "cell_type": "code",
      "execution_count": 12,
      "id": "fr_XvlBp_Pwy",
      "metadata": {
        "colab": {
          "base_uri": "https://localhost:8080/",
          "height": 317
        },
        "id": "fr_XvlBp_Pwy",
        "outputId": "4e18367a-5600-4b75-a456-4fc5f15e9c37"
      },
      "outputs": [
        {
          "output_type": "display_data",
          "data": {
            "text/html": [
              "<html>\n",
              "<head><meta charset=\"utf-8\" /></head>\n",
              "<body>\n",
              "    <div>            <script src=\"https://cdnjs.cloudflare.com/ajax/libs/mathjax/2.7.5/MathJax.js?config=TeX-AMS-MML_SVG\"></script><script type=\"text/javascript\">if (window.MathJax) {MathJax.Hub.Config({SVG: {font: \"STIX-Web\"}});}</script>                <script type=\"text/javascript\">window.PlotlyConfig = {MathJaxConfig: 'local'};</script>\n",
              "        <script src=\"https://cdn.plot.ly/plotly-2.8.3.min.js\"></script>                <div id=\"976c5838-0a86-4c2f-a927-8ffbe9b935b3\" class=\"plotly-graph-div\" style=\"height:300px; width:1000px;\"></div>            <script type=\"text/javascript\">                                    window.PLOTLYENV=window.PLOTLYENV || {};                                    if (document.getElementById(\"976c5838-0a86-4c2f-a927-8ffbe9b935b3\")) {                    Plotly.newPlot(                        \"976c5838-0a86-4c2f-a927-8ffbe9b935b3\",                        [{\"alignmentgroup\":\"True\",\"customdata\":[[\"Tiefora\",\"Ngousso\",\"coluzzii\",\"Burkina Faso\"],[\"Tiefora\",\"Ngousso\",\"coluzzii\",\"Burkina Faso\"],[\"Tiefora\",\"Ngousso\",\"coluzzii\",\"Burkina Faso\"],[\"Ban\",\"BanS\",\"coluzzii\",\"Burkina Faso\"],[\"Ban\",\"BanS\",\"coluzzii\",\"Burkina Faso\"],[\"Ban\",\"BanS\",\"coluzzii\",\"Burkina Faso\"],[\"BanRe\",\"BanS\",\"coluzzii\",\"Burkina Faso\"],[\"BanRe\",\"BanS\",\"coluzzii\",\"Burkina Faso\"],[\"BanRe\",\"BanS\",\"coluzzii\",\"Burkina Faso\"],[\"VK7\",\"Kisumu\",\"coluzzii\",\"Burkina Faso\"],[\"VK7\",\"Kisumu\",\"coluzzii\",\"Burkina Faso\"],[\"VK7\",\"Kisumu\",\"coluzzii\",\"Burkina Faso\"],[\"Cameroon\",\"Ngousso\",\"coluzzii\",\"Cameroon\"],[\"Cameroon\",\"Ngousso\",\"coluzzii\",\"Cameroon\"],[\"Cameroon\",\"Ngousso\",\"coluzzii\",\"Cameroon\"],[\"Chad\",\"Ngousso\",\"coluzzii\",\"Chad\"],[\"Chad\",\"Ngousso\",\"coluzzii\",\"Chad\"],[\"Chad\",\"Ngousso\",\"coluzzii\",\"Chad\"],[\"Niger\",\"Ngousso\",\"coluzzii\",\"Niger\"],[\"Niger\",\"Ngousso\",\"coluzzii\",\"Niger\"],[\"Niger\",\"Ngousso\",\"coluzzii\",\"Niger\"],[\"Nigeria\",\"Ngousso\",\"coluzzii\",\"Nigeria\"],[\"Nigeria\",\"Ngousso\",\"coluzzii\",\"Nigeria\"],[\"Nigeria\",\"Ngousso\",\"coluzzii\",\"Nigeria\"],[\"Agboville\",\"Mali\",\"coluzzii\",\"Cote d'Ivoire\"],[\"Agboville\",\"Mali\",\"coluzzii\",\"Cote d'Ivoire\"],[\"Agboville\",\"Mali\",\"coluzzii\",\"Cote d'Ivoire\"],[\"Agboville\",\"Ngousso\",\"coluzzii\",\"Cote d'Ivoire\"],[\"Agboville\",\"Ngousso\",\"coluzzii\",\"Cote d'Ivoire\"],[\"Agboville\",\"Ngousso\",\"coluzzii\",\"Cote d'Ivoire\"],[\"Dabou\",\"Mali\",\"coluzzii\",\"Cote d'Ivoire\"],[\"Dabou\",\"Mali\",\"coluzzii\",\"Cote d'Ivoire\"],[\"Dabou\",\"Mali\",\"coluzzii\",\"Cote d'Ivoire\"],[\"Dabou\",\"Ngousso\",\"coluzzii\",\"Cote d'Ivoire\"],[\"Dabou\",\"Ngousso\",\"coluzzii\",\"Cote d'Ivoire\"],[\"Dabou\",\"Ngousso\",\"coluzzii\",\"Cote d'Ivoire\"],[\"Tiassale\",\"Mali\",\"coluzzii\",\"Cote d'Ivoire\"],[\"Tiassale\",\"Mali\",\"coluzzii\",\"Cote d'Ivoire\"],[\"Tiassale\",\"Mali\",\"coluzzii\",\"Cote d'Ivoire\"],[\"Tiassale\",\"Ngousso\",\"coluzzii\",\"Cote d'Ivoire\"],[\"Tiassale\",\"Ngousso\",\"coluzzii\",\"Cote d'Ivoire\"],[\"Tiassale\",\"Ngousso\",\"coluzzii\",\"Cote d'Ivoire\"],[\"Bouake_colu_unexp\",\"Ngousso\",\"coluzzii\",\"Cote d'Ivoire\"],[\"Bouake_colu_unexp\",\"Ngousso\",\"coluzzii\",\"Cote d'Ivoire\"],[\"Bouake_colu_unexp\",\"Ngousso\",\"coluzzii\",\"Cote d'Ivoire\"]],\"hovertemplate\":\"species=%{customdata[2]}<br>log2FC=%{x}<br>Label=%{y}<br>resistant=%{customdata[0]}<br>susceptible=%{customdata[1]}<br>country=%{customdata[3]}<extra></extra>\",\"legendgroup\":\"coluzzii\",\"marker\":{\"color\":\"#F8766D\"},\"name\":\"coluzzii\",\"notched\":false,\"offsetgroup\":\"coluzzii\",\"orientation\":\"h\",\"showlegend\":true,\"x\":[0.75,-0.44,-0.46,2.17,-0.41,-0.98,0.03,-0.11,-0.37,1.7,-0.3,0.01,1.73,-0.2,-0.41,1.1,0.24,-0.17,0.53,0.21,-0.14,1.73,0.14,0.05,2.21,1.69,3.35,2.75,1.14,1.95,2.47,2.28,2.81,3.0,1.71,1.39,1.94,0.64,2.32,2.48,0.09,0.91,2.43,-0.73,0.66],\"x0\":\" \",\"xaxis\":\"x\",\"y\":[\"AGAP006222\",\"AGAP006228 | COEAE2F\",\"AGAP006227\",\"AGAP006222\",\"AGAP006228 | COEAE2F\",\"AGAP006227\",\"AGAP006222\",\"AGAP006228 | COEAE2F\",\"AGAP006227\",\"AGAP006222\",\"AGAP006228 | COEAE2F\",\"AGAP006227\",\"AGAP006222\",\"AGAP006228 | COEAE2F\",\"AGAP006227\",\"AGAP006222\",\"AGAP006228 | COEAE2F\",\"AGAP006227\",\"AGAP006222\",\"AGAP006228 | COEAE2F\",\"AGAP006227\",\"AGAP006222\",\"AGAP006228 | COEAE2F\",\"AGAP006227\",\"AGAP006222\",\"AGAP006228 | COEAE2F\",\"AGAP006227\",\"AGAP006222\",\"AGAP006228 | COEAE2F\",\"AGAP006227\",\"AGAP006222\",\"AGAP006228 | COEAE2F\",\"AGAP006227\",\"AGAP006222\",\"AGAP006228 | COEAE2F\",\"AGAP006227\",\"AGAP006222\",\"AGAP006228 | COEAE2F\",\"AGAP006227\",\"AGAP006222\",\"AGAP006228 | COEAE2F\",\"AGAP006227\",\"AGAP006222\",\"AGAP006228 | COEAE2F\",\"AGAP006227\"],\"y0\":\" \",\"yaxis\":\"y\",\"type\":\"box\"},{\"alignmentgroup\":\"True\",\"customdata\":[[\"Bak\",\"Kisumu\",\"gambiae\",\"Burkina Faso\"],[\"Bak\",\"Kisumu\",\"gambiae\",\"Burkina Faso\"],[\"Bak\",\"Kisumu\",\"gambiae\",\"Burkina Faso\"],[\"Bouake_gamb_unexp\",\"Kisumu\",\"gambiae\",\"Cote d'Ivoire\"],[\"Bouake_gamb_unexp\",\"Kisumu\",\"gambiae\",\"Cote d'Ivoire\"],[\"Bouake_gamb_unexp\",\"Kisumu\",\"gambiae\",\"Cote d'Ivoire\"],[\"BusiaSurvivors\",\"Kisumu\",\"gambiae\",\"Uganda\"],[\"BusiaSurvivors\",\"Kisumu\",\"gambiae\",\"Uganda\"],[\"BusiaSurvivors\",\"Kisumu\",\"gambiae\",\"Uganda\"]],\"hovertemplate\":\"species=%{customdata[2]}<br>log2FC=%{x}<br>Label=%{y}<br>resistant=%{customdata[0]}<br>susceptible=%{customdata[1]}<br>country=%{customdata[3]}<extra></extra>\",\"legendgroup\":\"gambiae\",\"marker\":{\"color\":\"#A3A500\"},\"name\":\"gambiae\",\"notched\":false,\"offsetgroup\":\"gambiae\",\"orientation\":\"h\",\"showlegend\":true,\"x\":[1.53,-0.26,0.26,0.15,-0.1,2.57,-2.83,0.75,0.59],\"x0\":\" \",\"xaxis\":\"x\",\"y\":[\"AGAP006222\",\"AGAP006228 | COEAE2F\",\"AGAP006227\",\"AGAP006222\",\"AGAP006228 | COEAE2F\",\"AGAP006227\",\"AGAP006222\",\"AGAP006228 | COEAE2F\",\"AGAP006227\"],\"y0\":\" \",\"yaxis\":\"y\",\"type\":\"box\"},{\"alignmentgroup\":\"True\",\"customdata\":[[\"Asendabo\",\"Moz\",\"arabiensis\",\"Ethiopia\"],[\"Asendabo\",\"Moz\",\"arabiensis\",\"Ethiopia\"],[\"Asendabo\",\"Moz\",\"arabiensis\",\"Ethiopia\"],[\"Chewaka\",\"Moz\",\"arabiensis\",\"Ethiopia\"],[\"Chewaka\",\"Moz\",\"arabiensis\",\"Ethiopia\"],[\"Chewaka\",\"Moz\",\"arabiensis\",\"Ethiopia\"],[\"Tolay\",\"Moz\",\"arabiensis\",\"Ethiopia\"],[\"Tolay\",\"Moz\",\"arabiensis\",\"Ethiopia\"],[\"Tolay\",\"Moz\",\"arabiensis\",\"Ethiopia\"],[\"Ethiopia\",\"Dongola\",\"arabiensis\",\"Ethiopia\"],[\"Ethiopia\",\"Dongola\",\"arabiensis\",\"Ethiopia\"],[\"Ethiopia\",\"Dongola\",\"arabiensis\",\"Ethiopia\"],[\"Gou\",\"Moz\",\"arabiensis\",\"Burkina Faso\"],[\"Gou\",\"Moz\",\"arabiensis\",\"Burkina Faso\"],[\"Gou\",\"Moz\",\"arabiensis\",\"Burkina Faso\"]],\"hovertemplate\":\"species=%{customdata[2]}<br>log2FC=%{x}<br>Label=%{y}<br>resistant=%{customdata[0]}<br>susceptible=%{customdata[1]}<br>country=%{customdata[3]}<extra></extra>\",\"legendgroup\":\"arabiensis\",\"marker\":{\"color\":\"#00BF7D\"},\"name\":\"arabiensis\",\"notched\":false,\"offsetgroup\":\"arabiensis\",\"orientation\":\"h\",\"showlegend\":true,\"x\":[2.22,0.1,-0.28,3.44,0.36,0.01,2.52,0.22,-0.08,1.08,0.18,0.11,1.27,-0.12,0.01],\"x0\":\" \",\"xaxis\":\"x\",\"y\":[\"AGAP006222\",\"AGAP006228 | COEAE2F\",\"AGAP006227\",\"AGAP006222\",\"AGAP006228 | COEAE2F\",\"AGAP006227\",\"AGAP006222\",\"AGAP006228 | COEAE2F\",\"AGAP006227\",\"AGAP006222\",\"AGAP006228 | COEAE2F\",\"AGAP006227\",\"AGAP006222\",\"AGAP006228 | COEAE2F\",\"AGAP006227\"],\"y0\":\" \",\"yaxis\":\"y\",\"type\":\"box\"},{\"alignmentgroup\":\"True\",\"customdata\":[[\"Cam_fun\",\"Fang\",\"funestus\",\"Cameroon\"],[\"Cam_fun\",\"Fang\",\"funestus\",\"Cameroon\"],[\"Cam_fun\",\"Fang\",\"funestus\",\"Cameroon\"],[\"Fumoz\",\"Fang\",\"funestus\",\"Mozambique\"],[\"Fumoz\",\"Fang\",\"funestus\",\"Mozambique\"],[\"Fumoz\",\"Fang\",\"funestus\",\"Mozambique\"],[\"Ghana_fun\",\"Fang\",\"funestus\",\"Ghana\"],[\"Ghana_fun\",\"Fang\",\"funestus\",\"Ghana\"],[\"Ghana_fun\",\"Fang\",\"funestus\",\"Ghana\"],[\"Malawi_fun\",\"Fang\",\"funestus\",\"Malawi\"],[\"Malawi_fun\",\"Fang\",\"funestus\",\"Malawi\"],[\"Malawi_fun\",\"Fang\",\"funestus\",\"Malawi\"],[\"Uganda_fun\",\"Fang\",\"funestus\",\"Uganda\"],[\"Uganda_fun\",\"Fang\",\"funestus\",\"Uganda\"],[\"Uganda_fun\",\"Fang\",\"funestus\",\"Uganda\"]],\"hovertemplate\":\"species=%{customdata[2]}<br>log2FC=%{x}<br>Label=%{y}<br>resistant=%{customdata[0]}<br>susceptible=%{customdata[1]}<br>country=%{customdata[3]}<extra></extra>\",\"legendgroup\":\"funestus\",\"marker\":{\"color\":\"#00B0F6\"},\"name\":\"funestus\",\"notched\":false,\"offsetgroup\":\"funestus\",\"orientation\":\"h\",\"showlegend\":true,\"x\":[-0.58,-0.1,-0.43,0.03,-0.09,-0.65,0.71,0.36,0.04,0.29,0.28,-0.36,-0.03,0.18,-0.48],\"x0\":\" \",\"xaxis\":\"x\",\"y\":[\"AGAP006222\",\"AGAP006228 | COEAE2F\",\"AGAP006227\",\"AGAP006222\",\"AGAP006228 | COEAE2F\",\"AGAP006227\",\"AGAP006222\",\"AGAP006228 | COEAE2F\",\"AGAP006227\",\"AGAP006222\",\"AGAP006228 | COEAE2F\",\"AGAP006227\",\"AGAP006222\",\"AGAP006228 | COEAE2F\",\"AGAP006227\"],\"y0\":\" \",\"yaxis\":\"y\",\"type\":\"box\"}],                        {\"template\":{\"data\":{\"barpolar\":[{\"marker\":{\"line\":{\"color\":\"rgb(237,237,237)\",\"width\":0.5},\"pattern\":{\"fillmode\":\"overlay\",\"size\":10,\"solidity\":0.2}},\"type\":\"barpolar\"}],\"bar\":[{\"error_x\":{\"color\":\"rgb(51,51,51)\"},\"error_y\":{\"color\":\"rgb(51,51,51)\"},\"marker\":{\"line\":{\"color\":\"rgb(237,237,237)\",\"width\":0.5},\"pattern\":{\"fillmode\":\"overlay\",\"size\":10,\"solidity\":0.2}},\"type\":\"bar\"}],\"carpet\":[{\"aaxis\":{\"endlinecolor\":\"rgb(51,51,51)\",\"gridcolor\":\"white\",\"linecolor\":\"white\",\"minorgridcolor\":\"white\",\"startlinecolor\":\"rgb(51,51,51)\"},\"baxis\":{\"endlinecolor\":\"rgb(51,51,51)\",\"gridcolor\":\"white\",\"linecolor\":\"white\",\"minorgridcolor\":\"white\",\"startlinecolor\":\"rgb(51,51,51)\"},\"type\":\"carpet\"}],\"choropleth\":[{\"colorbar\":{\"outlinewidth\":0,\"tickcolor\":\"rgb(237,237,237)\",\"ticklen\":6,\"ticks\":\"inside\"},\"type\":\"choropleth\"}],\"contourcarpet\":[{\"colorbar\":{\"outlinewidth\":0,\"tickcolor\":\"rgb(237,237,237)\",\"ticklen\":6,\"ticks\":\"inside\"},\"type\":\"contourcarpet\"}],\"contour\":[{\"colorbar\":{\"outlinewidth\":0,\"tickcolor\":\"rgb(237,237,237)\",\"ticklen\":6,\"ticks\":\"inside\"},\"colorscale\":[[0,\"rgb(20,44,66)\"],[1,\"rgb(90,179,244)\"]],\"type\":\"contour\"}],\"heatmapgl\":[{\"colorbar\":{\"outlinewidth\":0,\"tickcolor\":\"rgb(237,237,237)\",\"ticklen\":6,\"ticks\":\"inside\"},\"colorscale\":[[0,\"rgb(20,44,66)\"],[1,\"rgb(90,179,244)\"]],\"type\":\"heatmapgl\"}],\"heatmap\":[{\"colorbar\":{\"outlinewidth\":0,\"tickcolor\":\"rgb(237,237,237)\",\"ticklen\":6,\"ticks\":\"inside\"},\"colorscale\":[[0,\"rgb(20,44,66)\"],[1,\"rgb(90,179,244)\"]],\"type\":\"heatmap\"}],\"histogram2dcontour\":[{\"colorbar\":{\"outlinewidth\":0,\"tickcolor\":\"rgb(237,237,237)\",\"ticklen\":6,\"ticks\":\"inside\"},\"colorscale\":[[0,\"rgb(20,44,66)\"],[1,\"rgb(90,179,244)\"]],\"type\":\"histogram2dcontour\"}],\"histogram2d\":[{\"colorbar\":{\"outlinewidth\":0,\"tickcolor\":\"rgb(237,237,237)\",\"ticklen\":6,\"ticks\":\"inside\"},\"colorscale\":[[0,\"rgb(20,44,66)\"],[1,\"rgb(90,179,244)\"]],\"type\":\"histogram2d\"}],\"histogram\":[{\"marker\":{\"pattern\":{\"fillmode\":\"overlay\",\"size\":10,\"solidity\":0.2}},\"type\":\"histogram\"}],\"mesh3d\":[{\"colorbar\":{\"outlinewidth\":0,\"tickcolor\":\"rgb(237,237,237)\",\"ticklen\":6,\"ticks\":\"inside\"},\"type\":\"mesh3d\"}],\"parcoords\":[{\"line\":{\"colorbar\":{\"outlinewidth\":0,\"tickcolor\":\"rgb(237,237,237)\",\"ticklen\":6,\"ticks\":\"inside\"}},\"type\":\"parcoords\"}],\"pie\":[{\"automargin\":true,\"type\":\"pie\"}],\"scatter3d\":[{\"line\":{\"colorbar\":{\"outlinewidth\":0,\"tickcolor\":\"rgb(237,237,237)\",\"ticklen\":6,\"ticks\":\"inside\"}},\"marker\":{\"colorbar\":{\"outlinewidth\":0,\"tickcolor\":\"rgb(237,237,237)\",\"ticklen\":6,\"ticks\":\"inside\"}},\"type\":\"scatter3d\"}],\"scattercarpet\":[{\"marker\":{\"colorbar\":{\"outlinewidth\":0,\"tickcolor\":\"rgb(237,237,237)\",\"ticklen\":6,\"ticks\":\"inside\"}},\"type\":\"scattercarpet\"}],\"scattergeo\":[{\"marker\":{\"colorbar\":{\"outlinewidth\":0,\"tickcolor\":\"rgb(237,237,237)\",\"ticklen\":6,\"ticks\":\"inside\"}},\"type\":\"scattergeo\"}],\"scattergl\":[{\"marker\":{\"colorbar\":{\"outlinewidth\":0,\"tickcolor\":\"rgb(237,237,237)\",\"ticklen\":6,\"ticks\":\"inside\"}},\"type\":\"scattergl\"}],\"scattermapbox\":[{\"marker\":{\"colorbar\":{\"outlinewidth\":0,\"tickcolor\":\"rgb(237,237,237)\",\"ticklen\":6,\"ticks\":\"inside\"}},\"type\":\"scattermapbox\"}],\"scatterpolargl\":[{\"marker\":{\"colorbar\":{\"outlinewidth\":0,\"tickcolor\":\"rgb(237,237,237)\",\"ticklen\":6,\"ticks\":\"inside\"}},\"type\":\"scatterpolargl\"}],\"scatterpolar\":[{\"marker\":{\"colorbar\":{\"outlinewidth\":0,\"tickcolor\":\"rgb(237,237,237)\",\"ticklen\":6,\"ticks\":\"inside\"}},\"type\":\"scatterpolar\"}],\"scatter\":[{\"marker\":{\"colorbar\":{\"outlinewidth\":0,\"tickcolor\":\"rgb(237,237,237)\",\"ticklen\":6,\"ticks\":\"inside\"}},\"type\":\"scatter\"}],\"scatterternary\":[{\"marker\":{\"colorbar\":{\"outlinewidth\":0,\"tickcolor\":\"rgb(237,237,237)\",\"ticklen\":6,\"ticks\":\"inside\"}},\"type\":\"scatterternary\"}],\"surface\":[{\"colorbar\":{\"outlinewidth\":0,\"tickcolor\":\"rgb(237,237,237)\",\"ticklen\":6,\"ticks\":\"inside\"},\"colorscale\":[[0,\"rgb(20,44,66)\"],[1,\"rgb(90,179,244)\"]],\"type\":\"surface\"}],\"table\":[{\"cells\":{\"fill\":{\"color\":\"rgb(237,237,237)\"},\"line\":{\"color\":\"white\"}},\"header\":{\"fill\":{\"color\":\"rgb(217,217,217)\"},\"line\":{\"color\":\"white\"}},\"type\":\"table\"}]},\"layout\":{\"annotationdefaults\":{\"arrowhead\":0,\"arrowwidth\":1},\"autotypenumbers\":\"strict\",\"coloraxis\":{\"colorbar\":{\"outlinewidth\":0,\"tickcolor\":\"rgb(237,237,237)\",\"ticklen\":6,\"ticks\":\"inside\"}},\"colorscale\":{\"sequential\":[[0,\"rgb(20,44,66)\"],[1,\"rgb(90,179,244)\"]],\"sequentialminus\":[[0,\"rgb(20,44,66)\"],[1,\"rgb(90,179,244)\"]]},\"colorway\":[\"#F8766D\",\"#A3A500\",\"#00BF7D\",\"#00B0F6\",\"#E76BF3\"],\"font\":{\"color\":\"rgb(51,51,51)\"},\"geo\":{\"bgcolor\":\"white\",\"lakecolor\":\"white\",\"landcolor\":\"rgb(237,237,237)\",\"showlakes\":true,\"showland\":true,\"subunitcolor\":\"white\"},\"hoverlabel\":{\"align\":\"left\"},\"hovermode\":\"closest\",\"paper_bgcolor\":\"white\",\"plot_bgcolor\":\"rgb(237,237,237)\",\"polar\":{\"angularaxis\":{\"gridcolor\":\"white\",\"linecolor\":\"white\",\"showgrid\":true,\"tickcolor\":\"rgb(51,51,51)\",\"ticks\":\"outside\"},\"bgcolor\":\"rgb(237,237,237)\",\"radialaxis\":{\"gridcolor\":\"white\",\"linecolor\":\"white\",\"showgrid\":true,\"tickcolor\":\"rgb(51,51,51)\",\"ticks\":\"outside\"}},\"scene\":{\"xaxis\":{\"backgroundcolor\":\"rgb(237,237,237)\",\"gridcolor\":\"white\",\"gridwidth\":2,\"linecolor\":\"white\",\"showbackground\":true,\"showgrid\":true,\"tickcolor\":\"rgb(51,51,51)\",\"ticks\":\"outside\",\"zerolinecolor\":\"white\"},\"yaxis\":{\"backgroundcolor\":\"rgb(237,237,237)\",\"gridcolor\":\"white\",\"gridwidth\":2,\"linecolor\":\"white\",\"showbackground\":true,\"showgrid\":true,\"tickcolor\":\"rgb(51,51,51)\",\"ticks\":\"outside\",\"zerolinecolor\":\"white\"},\"zaxis\":{\"backgroundcolor\":\"rgb(237,237,237)\",\"gridcolor\":\"white\",\"gridwidth\":2,\"linecolor\":\"white\",\"showbackground\":true,\"showgrid\":true,\"tickcolor\":\"rgb(51,51,51)\",\"ticks\":\"outside\",\"zerolinecolor\":\"white\"}},\"shapedefaults\":{\"fillcolor\":\"black\",\"line\":{\"width\":0},\"opacity\":0.3},\"ternary\":{\"aaxis\":{\"gridcolor\":\"white\",\"linecolor\":\"white\",\"showgrid\":true,\"tickcolor\":\"rgb(51,51,51)\",\"ticks\":\"outside\"},\"baxis\":{\"gridcolor\":\"white\",\"linecolor\":\"white\",\"showgrid\":true,\"tickcolor\":\"rgb(51,51,51)\",\"ticks\":\"outside\"},\"bgcolor\":\"rgb(237,237,237)\",\"caxis\":{\"gridcolor\":\"white\",\"linecolor\":\"white\",\"showgrid\":true,\"tickcolor\":\"rgb(51,51,51)\",\"ticks\":\"outside\"}},\"xaxis\":{\"automargin\":true,\"gridcolor\":\"white\",\"linecolor\":\"white\",\"showgrid\":true,\"tickcolor\":\"rgb(51,51,51)\",\"ticks\":\"outside\",\"title\":{\"standoff\":15},\"zerolinecolor\":\"white\"},\"yaxis\":{\"automargin\":true,\"gridcolor\":\"white\",\"linecolor\":\"white\",\"showgrid\":true,\"tickcolor\":\"rgb(51,51,51)\",\"ticks\":\"outside\",\"title\":{\"standoff\":15},\"zerolinecolor\":\"white\"}}},\"xaxis\":{\"anchor\":\"y\",\"domain\":[0.0,1.0],\"title\":{\"text\":\"log2 Fold Change\"},\"range\":[-4,6]},\"yaxis\":{\"anchor\":\"x\",\"domain\":[0.0,1.0],\"title\":{\"text\":\"Gene\"}},\"legend\":{\"title\":{\"text\":\"species\"},\"tracegroupgap\":0},\"title\":{\"text\":\"Coeae1f\",\"font\":{\"size\":20}},\"boxmode\":\"group\",\"height\":300,\"width\":1000,\"shapes\":[{\"line\":{\"color\":\"grey\",\"dash\":\"dash\",\"width\":1},\"type\":\"line\",\"x0\":0,\"x1\":0,\"xref\":\"x\",\"y0\":0,\"y1\":1,\"yref\":\"y domain\"}]},                        {\"responsive\": true}                    ).then(function(){\n",
              "                            \n",
              "var gd = document.getElementById('976c5838-0a86-4c2f-a927-8ffbe9b935b3');\n",
              "var x = new MutationObserver(function (mutations, observer) {{\n",
              "        var display = window.getComputedStyle(gd).display;\n",
              "        if (!display || display === 'none') {{\n",
              "            console.log([gd, 'removed!']);\n",
              "            Plotly.purge(gd);\n",
              "            observer.disconnect();\n",
              "        }}\n",
              "}});\n",
              "\n",
              "// Listen for the removal of the full notebook cells\n",
              "var notebookContainer = gd.closest('#notebook-container');\n",
              "if (notebookContainer) {{\n",
              "    x.observe(notebookContainer, {childList: true});\n",
              "}}\n",
              "\n",
              "// Listen for the clearing of the current output cell\n",
              "var outputEl = gd.closest('.output');\n",
              "if (outputEl) {{\n",
              "    x.observe(outputEl, {childList: true});\n",
              "}}\n",
              "\n",
              "                        })                };                            </script>        </div>\n",
              "</body>\n",
              "</html>"
            ]
          },
          "metadata": {}
        }
      ],
      "source": [
        "plot_gene_fcs(\n",
        "    database='gamb_colu_arab_fun', \n",
        "    gene_id=[\"AGAP006222\", \"AGAP006227\", \"AGAP006228\"], \n",
        "    sort_by='median', \n",
        "    title=\"Coeae1f\", \n",
        "    plot_type='boxplot', \n",
        "    height=300\n",
        "    )"
      ]
    }
  ],
  "metadata": {
    "colab": {
      "provenance": [],
      "include_colab_link": true
    },
    "kernelspec": {
      "display_name": "base",
      "language": "python",
      "name": "python3"
    },
    "language_info": {
      "codemirror_mode": {
        "name": "ipython",
        "version": 3
      },
      "file_extension": ".py",
      "mimetype": "text/x-python",
      "name": "python",
      "nbconvert_exporter": "python",
      "pygments_lexer": "ipython3",
      "version": "3.7.13"
    },
    "vscode": {
      "interpreter": {
        "hash": "ce681de973941d5edd9bd94c9a2926b7fe65e17e578a68317f38265a230b8ca7"
      }
    }
  },
  "nbformat": 4,
  "nbformat_minor": 5
}