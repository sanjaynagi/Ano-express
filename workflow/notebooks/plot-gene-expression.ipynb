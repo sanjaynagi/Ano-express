{
  "cells": [
    {
      "cell_type": "markdown",
      "metadata": {
        "id": "view-in-github",
        "colab_type": "text"
      },
      "source": [
        "<a href=\"https://colab.research.google.com/github/sanjaynagi/rna-seq-meta/blob/main/workflow/notebooks/plot-gene-expression.ipynb\" target=\"_parent\"><img src=\"https://colab.research.google.com/assets/colab-badge.svg\" alt=\"Open In Colab\"/></a>"
      ]
    },
    {
      "cell_type": "code",
      "execution_count": 7,
      "id": "H68MfuqBOWiH",
      "metadata": {
        "id": "H68MfuqBOWiH",
        "outputId": "0146e915-5bea-4c8a-a198-1dab9a0e518e",
        "colab": {
          "base_uri": "https://localhost:8080/"
        }
      },
      "outputs": [
        {
          "output_type": "stream",
          "name": "stdout",
          "text": [
            "fatal: destination path 'rna-seq-meta' already exists and is not an empty directory.\n"
          ]
        }
      ],
      "source": [
        "! git clone https://github.com/sanjaynagi/rna-seq-meta.git\n",
        "\n",
        "import pandas as pd\n",
        "import numpy as np\n",
        "import plotly.express as px\n",
        "\n",
        "def plotly_gene_fcs(gene_id, title, plot_type='strip', sort_by='agap', width=1000, height=None):\n",
        "  \"\"\"Plot fold changes of provided AGAP gene IDs from RNA-Seq \n",
        "  meta-analysis dataset\n",
        "\n",
        "  Parameters\n",
        "  ----------\n",
        "  gene_id : str or list\n",
        "      An AGAP identifier or list of AGAP identifiers\n",
        "  title : str\n",
        "      Plot title\n",
        "  plot_type : {\"strip\", \"boxplot\"}\n",
        "      valid options are 'strip' or 'boxplot' \n",
        "  sort_by : {\"median\", \"mean\", \"agap\"}\n",
        "      sort by median/mean of fold changes (descending), or by AGAP\n",
        "      identifier\n",
        "  width : int\n",
        "      Width in pixels of the plotly figure\n",
        "  height: int, optional\n",
        "      Height in pixels of the plotly figure. Defaults to automatic sizing\n",
        "  \"\"\"\n",
        "  # load metadata\n",
        "  metadata = pd.read_csv(\"rna-seq-meta/config/comparison_metadata.tsv\", sep=\"\\t\")  \n",
        "  # load fold change data and remove gene description column\n",
        "  fc_data = pd.read_csv(\"rna-seq-meta/results/fc_data.tsv\", sep=\"\\t\")\n",
        "  #pval_data = pd.read_csv(\"rna-seq-meta/results/pval_data.tsv\", sep=\"\\t\")\n",
        "  fc_data = fc_data.iloc[:, :-1]\n",
        "\n",
        "  fam_fc_data = fc_data.query(\"GeneID in @gene_id\").copy()\n",
        "\n",
        "  if sort_by == 'median':\n",
        "    sort_idxs = np.argsort(fam_fc_data.set_index(['GeneID', 'GeneName']).apply(np.nanmedian, axis=1)).values[::-1]\n",
        "  elif sort_by == 'mean':\n",
        "    sort_idxs = np.argsort(fam_fc_data.set_index(['GeneID', 'GeneName']).apply(np.nanmean, axis=1)).values[::-1]\n",
        "  elif sort_by == 'agap':\n",
        "    sort_idxs = np.argsort(fam_fc_data['GeneID'].values)[::-1] \n",
        "  fam_fc_data = fam_fc_data.iloc[sort_idxs, :]\n",
        "    \n",
        "  fam_fc_data.loc[:, 'Label'] = [id_ + \" | \" + name if name != \"\" else id_ for id_, name in zip(fam_fc_data['GeneID'].fillna(\"\"), fam_fc_data['GeneName'].fillna(\"\"))]\n",
        "  fam_fc_data =fam_fc_data.drop(columns=['GeneName', 'GeneID']).melt(id_vars='Label', var_name='comparison', value_name='log2FC')\n",
        "  fam_fc_data.loc[:, 'comparison'] = fam_fc_data['comparison'].str.replace(\"_log2FoldChange\", \"\")\n",
        "  fam_fc_data = fam_fc_data.merge(metadata, how='left')\n",
        "  fam_fc_data.loc[:, 'log2FC'] *= -1 # invert the FCs (currently > 0 log2FC = overexpression in susceptible)\n",
        "\n",
        "  if not height:\n",
        "    height = np.min([fam_fc_data.shape[0]*12, 2500])\n",
        "  \n",
        "  my_plot = px.strip if plot_type == 'strip' else px.box\n",
        "  fig = my_plot(\n",
        "      fam_fc_data, \n",
        "      y='Label', \n",
        "      x='log2FC', \n",
        "      color='species',\n",
        "      title=title, \n",
        "      hover_data=['resistant', 'susceptible', 'species', 'country'],\n",
        "      width=width, \n",
        "      height=height,\n",
        "      template='ggplot2'\n",
        "  )\n",
        "  fig.update_layout(titlefont=dict(size=20), xaxis_range=[-4,6],     xaxis_title=\"log2 Fold Change\", yaxis_title=\"Gene\")\n",
        "  fig.add_vline(0,  line_width=1, line_dash=\"dash\", line_color=\"grey\")\n",
        "  fig.show()"
      ]
    },
    {
      "cell_type": "code",
      "execution_count": 8,
      "id": "GdM1MG4woktQ",
      "metadata": {
        "id": "GdM1MG4woktQ",
        "outputId": "2d46ee3e-cc4b-4f48-9b2a-f5a70d95a980",
        "colab": {
          "base_uri": "https://localhost:8080/",
          "height": 317
        }
      },
      "outputs": [
        {
          "output_type": "display_data",
          "data": {
            "text/html": [
              "<html>\n",
              "<head><meta charset=\"utf-8\" /></head>\n",
              "<body>\n",
              "    <div>            <script src=\"https://cdnjs.cloudflare.com/ajax/libs/mathjax/2.7.5/MathJax.js?config=TeX-AMS-MML_SVG\"></script><script type=\"text/javascript\">if (window.MathJax) {MathJax.Hub.Config({SVG: {font: \"STIX-Web\"}});}</script>                <script type=\"text/javascript\">window.PlotlyConfig = {MathJaxConfig: 'local'};</script>\n",
              "        <script src=\"https://cdn.plot.ly/plotly-2.8.3.min.js\"></script>                <div id=\"14982d78-de5d-42a6-ba96-221a4a1ed305\" class=\"plotly-graph-div\" style=\"height:300px; width:1000px;\"></div>            <script type=\"text/javascript\">                                    window.PLOTLYENV=window.PLOTLYENV || {};                                    if (document.getElementById(\"14982d78-de5d-42a6-ba96-221a4a1ed305\")) {                    Plotly.newPlot(                        \"14982d78-de5d-42a6-ba96-221a4a1ed305\",                        [{\"alignmentgroup\":\"True\",\"boxpoints\":\"all\",\"customdata\":[[\"Tiefora\",\"Ngousso\",\"gambiae\",\"Burkina Faso\"],[\"Ban\",\"BanS\",\"gambiae\",\"Burkina Faso\"],[\"BanRe\",\"BanS\",\"gambiae\",\"Burkina Faso\"],[\"Bak\",\"Kisumu\",\"gambiae\",\"Burkina Faso\"],[\"VK7\",\"Kisumu\",\"gambiae\",\"Burkina Faso\"],[\"Cameroon\",\"Ngousso\",\"gambiae\",\"Cameroon\"],[\"Chad\",\"Ngousso\",\"gambiae\",\"Chad\"],[\"Niger\",\"Ngousso\",\"gambiae\",\"Niger\"],[\"Nigeria\",\"Ngousso\",\"gambiae\",\"Nigeria\"],[\"Agboville\",\"Mali\",\"gambiae\",\"Cote d'Ivoire\"],[\"Agboville\",\"Ngousso\",\"gambiae\",\"Cote d'Ivoire\"],[\"Dabou\",\"Mali\",\"gambiae\",\"Cote d'Ivoire\"],[\"Dabou\",\"Ngousso\",\"gambiae\",\"Cote d'Ivoire\"],[\"Tiassale\",\"Mali\",\"gambiae\",\"Cote d'Ivoire\"],[\"Tiassale\",\"Ngousso\",\"gambiae\",\"Cote d'Ivoire\"],[\"Bouake_gamb_exp\",\"Kisumu\",\"gambiae\",\"Cote d'Ivoire\"],[\"Bouake_gamb_unexp\",\"Kisumu\",\"gambiae\",\"Cote d'Ivoire\"],[\"Bouake_colu_exp\",\"Ngousso\",\"gambiae\",\"Cote d'Ivoire\"],[\"Bouake_colu_unexp\",\"Ngousso\",\"gambiae\",\"Cote d'Ivoire\"],[\"ContTia\",\"Ngousso\",\"gambiae\",\"Cote d'Ivoire\"],[\"DeltTia\",\"Ngousso\",\"gambiae\",\"Cote d'Ivoire\"],[\"MalaTia\",\"Ngousso\",\"gambiae\",\"Cote d'Ivoire\"],[\"PiriTia\",\"Ngousso\",\"gambiae\",\"Cote d'Ivoire\"],[\"BusiaParental\",\"Kisumu\",\"gambiae\",\"Uganda\"],[\"BusiaSurvivors\",\"Kisumu\",\"gambiae\",\"Uganda\"]],\"fillcolor\":\"rgba(255,255,255,0)\",\"hoveron\":\"points\",\"hovertemplate\":\"species=%{customdata[2]}<br>log2FC=%{x}<br>Label=%{y}<br>resistant=%{customdata[0]}<br>susceptible=%{customdata[1]}<br>country=%{customdata[3]}<extra></extra>\",\"legendgroup\":\"gambiae\",\"line\":{\"color\":\"rgba(255,255,255,0)\"},\"marker\":{\"color\":\"#F8766D\"},\"name\":\"gambiae\",\"offsetgroup\":\"gambiae\",\"orientation\":\"h\",\"pointpos\":0,\"showlegend\":true,\"x\":[-0.46,-1.08,-0.32,0.29,0.05,-0.33,-0.05,-0.04,0.16,3.38,1.92,2.83,1.37,2.35,0.88,2.59,2.59,0.26,0.68,1.66,0.04,1.58,1.14,0.8,0.67],\"x0\":\" \",\"xaxis\":\"x\",\"y\":[\"AGAP006227\",\"AGAP006227\",\"AGAP006227\",\"AGAP006227\",\"AGAP006227\",\"AGAP006227\",\"AGAP006227\",\"AGAP006227\",\"AGAP006227\",\"AGAP006227\",\"AGAP006227\",\"AGAP006227\",\"AGAP006227\",\"AGAP006227\",\"AGAP006227\",\"AGAP006227\",\"AGAP006227\",\"AGAP006227\",\"AGAP006227\",\"AGAP006227\",\"AGAP006227\",\"AGAP006227\",\"AGAP006227\",\"AGAP006227\",\"AGAP006227\"],\"y0\":\" \",\"yaxis\":\"y\",\"type\":\"box\"},{\"alignmentgroup\":\"True\",\"boxpoints\":\"all\",\"customdata\":[[\"Gou\",\"Moz\",\"arabiensis\",\"Burkina Faso\"],[\"Asendabo\",\"Moz\",\"arabiensis\",\"Ethiopia\"],[\"Chewaka\",\"Moz\",\"arabiensis\",\"Ethiopia\"],[\"Tolay\",\"Moz\",\"arabiensis\",\"Ethiopia\"],[\"Ethiopia\",\"Dongola\",\"arabiensis\",\"Ethiopia\"]],\"fillcolor\":\"rgba(255,255,255,0)\",\"hoveron\":\"points\",\"hovertemplate\":\"species=%{customdata[2]}<br>log2FC=%{x}<br>Label=%{y}<br>resistant=%{customdata[0]}<br>susceptible=%{customdata[1]}<br>country=%{customdata[3]}<extra></extra>\",\"legendgroup\":\"arabiensis\",\"line\":{\"color\":\"rgba(255,255,255,0)\"},\"marker\":{\"color\":\"#A3A500\"},\"name\":\"arabiensis\",\"offsetgroup\":\"arabiensis\",\"orientation\":\"h\",\"pointpos\":0,\"showlegend\":true,\"x\":[-0.04,-0.35,-0.02,-0.17,0.06],\"x0\":\" \",\"xaxis\":\"x\",\"y\":[\"AGAP006227\",\"AGAP006227\",\"AGAP006227\",\"AGAP006227\",\"AGAP006227\"],\"y0\":\" \",\"yaxis\":\"y\",\"type\":\"box\"},{\"alignmentgroup\":\"True\",\"boxpoints\":\"all\",\"customdata\":[[\"Cam_fun\",\"Fang\",\"funestus\",\"Cameroon\"],[\"Fumoz\",\"Fang\",\"funestus\",\"Mozambique\"],[\"Ghana_fun\",\"Fang\",\"funestus\",\"Ghana\"],[\"Malawi_fun\",\"Fang\",\"funestus\",\"Malawi\"],[\"Uganda_fun\",\"Fang\",\"funestus\",\"Uganda\"]],\"fillcolor\":\"rgba(255,255,255,0)\",\"hoveron\":\"points\",\"hovertemplate\":\"species=%{customdata[2]}<br>log2FC=%{x}<br>Label=%{y}<br>resistant=%{customdata[0]}<br>susceptible=%{customdata[1]}<br>country=%{customdata[3]}<extra></extra>\",\"legendgroup\":\"funestus\",\"line\":{\"color\":\"rgba(255,255,255,0)\"},\"marker\":{\"color\":\"#00BF7D\"},\"name\":\"funestus\",\"offsetgroup\":\"funestus\",\"orientation\":\"h\",\"pointpos\":0,\"showlegend\":true,\"x\":[-0.37,-0.55,0.07,-0.32,-0.43],\"x0\":\" \",\"xaxis\":\"x\",\"y\":[\"AGAP006227\",\"AGAP006227\",\"AGAP006227\",\"AGAP006227\",\"AGAP006227\"],\"y0\":\" \",\"yaxis\":\"y\",\"type\":\"box\"}],                        {\"template\":{\"data\":{\"barpolar\":[{\"marker\":{\"line\":{\"color\":\"rgb(237,237,237)\",\"width\":0.5},\"pattern\":{\"fillmode\":\"overlay\",\"size\":10,\"solidity\":0.2}},\"type\":\"barpolar\"}],\"bar\":[{\"error_x\":{\"color\":\"rgb(51,51,51)\"},\"error_y\":{\"color\":\"rgb(51,51,51)\"},\"marker\":{\"line\":{\"color\":\"rgb(237,237,237)\",\"width\":0.5},\"pattern\":{\"fillmode\":\"overlay\",\"size\":10,\"solidity\":0.2}},\"type\":\"bar\"}],\"carpet\":[{\"aaxis\":{\"endlinecolor\":\"rgb(51,51,51)\",\"gridcolor\":\"white\",\"linecolor\":\"white\",\"minorgridcolor\":\"white\",\"startlinecolor\":\"rgb(51,51,51)\"},\"baxis\":{\"endlinecolor\":\"rgb(51,51,51)\",\"gridcolor\":\"white\",\"linecolor\":\"white\",\"minorgridcolor\":\"white\",\"startlinecolor\":\"rgb(51,51,51)\"},\"type\":\"carpet\"}],\"choropleth\":[{\"colorbar\":{\"outlinewidth\":0,\"tickcolor\":\"rgb(237,237,237)\",\"ticklen\":6,\"ticks\":\"inside\"},\"type\":\"choropleth\"}],\"contourcarpet\":[{\"colorbar\":{\"outlinewidth\":0,\"tickcolor\":\"rgb(237,237,237)\",\"ticklen\":6,\"ticks\":\"inside\"},\"type\":\"contourcarpet\"}],\"contour\":[{\"colorbar\":{\"outlinewidth\":0,\"tickcolor\":\"rgb(237,237,237)\",\"ticklen\":6,\"ticks\":\"inside\"},\"colorscale\":[[0,\"rgb(20,44,66)\"],[1,\"rgb(90,179,244)\"]],\"type\":\"contour\"}],\"heatmapgl\":[{\"colorbar\":{\"outlinewidth\":0,\"tickcolor\":\"rgb(237,237,237)\",\"ticklen\":6,\"ticks\":\"inside\"},\"colorscale\":[[0,\"rgb(20,44,66)\"],[1,\"rgb(90,179,244)\"]],\"type\":\"heatmapgl\"}],\"heatmap\":[{\"colorbar\":{\"outlinewidth\":0,\"tickcolor\":\"rgb(237,237,237)\",\"ticklen\":6,\"ticks\":\"inside\"},\"colorscale\":[[0,\"rgb(20,44,66)\"],[1,\"rgb(90,179,244)\"]],\"type\":\"heatmap\"}],\"histogram2dcontour\":[{\"colorbar\":{\"outlinewidth\":0,\"tickcolor\":\"rgb(237,237,237)\",\"ticklen\":6,\"ticks\":\"inside\"},\"colorscale\":[[0,\"rgb(20,44,66)\"],[1,\"rgb(90,179,244)\"]],\"type\":\"histogram2dcontour\"}],\"histogram2d\":[{\"colorbar\":{\"outlinewidth\":0,\"tickcolor\":\"rgb(237,237,237)\",\"ticklen\":6,\"ticks\":\"inside\"},\"colorscale\":[[0,\"rgb(20,44,66)\"],[1,\"rgb(90,179,244)\"]],\"type\":\"histogram2d\"}],\"histogram\":[{\"marker\":{\"pattern\":{\"fillmode\":\"overlay\",\"size\":10,\"solidity\":0.2}},\"type\":\"histogram\"}],\"mesh3d\":[{\"colorbar\":{\"outlinewidth\":0,\"tickcolor\":\"rgb(237,237,237)\",\"ticklen\":6,\"ticks\":\"inside\"},\"type\":\"mesh3d\"}],\"parcoords\":[{\"line\":{\"colorbar\":{\"outlinewidth\":0,\"tickcolor\":\"rgb(237,237,237)\",\"ticklen\":6,\"ticks\":\"inside\"}},\"type\":\"parcoords\"}],\"pie\":[{\"automargin\":true,\"type\":\"pie\"}],\"scatter3d\":[{\"line\":{\"colorbar\":{\"outlinewidth\":0,\"tickcolor\":\"rgb(237,237,237)\",\"ticklen\":6,\"ticks\":\"inside\"}},\"marker\":{\"colorbar\":{\"outlinewidth\":0,\"tickcolor\":\"rgb(237,237,237)\",\"ticklen\":6,\"ticks\":\"inside\"}},\"type\":\"scatter3d\"}],\"scattercarpet\":[{\"marker\":{\"colorbar\":{\"outlinewidth\":0,\"tickcolor\":\"rgb(237,237,237)\",\"ticklen\":6,\"ticks\":\"inside\"}},\"type\":\"scattercarpet\"}],\"scattergeo\":[{\"marker\":{\"colorbar\":{\"outlinewidth\":0,\"tickcolor\":\"rgb(237,237,237)\",\"ticklen\":6,\"ticks\":\"inside\"}},\"type\":\"scattergeo\"}],\"scattergl\":[{\"marker\":{\"colorbar\":{\"outlinewidth\":0,\"tickcolor\":\"rgb(237,237,237)\",\"ticklen\":6,\"ticks\":\"inside\"}},\"type\":\"scattergl\"}],\"scattermapbox\":[{\"marker\":{\"colorbar\":{\"outlinewidth\":0,\"tickcolor\":\"rgb(237,237,237)\",\"ticklen\":6,\"ticks\":\"inside\"}},\"type\":\"scattermapbox\"}],\"scatterpolargl\":[{\"marker\":{\"colorbar\":{\"outlinewidth\":0,\"tickcolor\":\"rgb(237,237,237)\",\"ticklen\":6,\"ticks\":\"inside\"}},\"type\":\"scatterpolargl\"}],\"scatterpolar\":[{\"marker\":{\"colorbar\":{\"outlinewidth\":0,\"tickcolor\":\"rgb(237,237,237)\",\"ticklen\":6,\"ticks\":\"inside\"}},\"type\":\"scatterpolar\"}],\"scatter\":[{\"marker\":{\"colorbar\":{\"outlinewidth\":0,\"tickcolor\":\"rgb(237,237,237)\",\"ticklen\":6,\"ticks\":\"inside\"}},\"type\":\"scatter\"}],\"scatterternary\":[{\"marker\":{\"colorbar\":{\"outlinewidth\":0,\"tickcolor\":\"rgb(237,237,237)\",\"ticklen\":6,\"ticks\":\"inside\"}},\"type\":\"scatterternary\"}],\"surface\":[{\"colorbar\":{\"outlinewidth\":0,\"tickcolor\":\"rgb(237,237,237)\",\"ticklen\":6,\"ticks\":\"inside\"},\"colorscale\":[[0,\"rgb(20,44,66)\"],[1,\"rgb(90,179,244)\"]],\"type\":\"surface\"}],\"table\":[{\"cells\":{\"fill\":{\"color\":\"rgb(237,237,237)\"},\"line\":{\"color\":\"white\"}},\"header\":{\"fill\":{\"color\":\"rgb(217,217,217)\"},\"line\":{\"color\":\"white\"}},\"type\":\"table\"}]},\"layout\":{\"annotationdefaults\":{\"arrowhead\":0,\"arrowwidth\":1},\"autotypenumbers\":\"strict\",\"coloraxis\":{\"colorbar\":{\"outlinewidth\":0,\"tickcolor\":\"rgb(237,237,237)\",\"ticklen\":6,\"ticks\":\"inside\"}},\"colorscale\":{\"sequential\":[[0,\"rgb(20,44,66)\"],[1,\"rgb(90,179,244)\"]],\"sequentialminus\":[[0,\"rgb(20,44,66)\"],[1,\"rgb(90,179,244)\"]]},\"colorway\":[\"#F8766D\",\"#A3A500\",\"#00BF7D\",\"#00B0F6\",\"#E76BF3\"],\"font\":{\"color\":\"rgb(51,51,51)\"},\"geo\":{\"bgcolor\":\"white\",\"lakecolor\":\"white\",\"landcolor\":\"rgb(237,237,237)\",\"showlakes\":true,\"showland\":true,\"subunitcolor\":\"white\"},\"hoverlabel\":{\"align\":\"left\"},\"hovermode\":\"closest\",\"paper_bgcolor\":\"white\",\"plot_bgcolor\":\"rgb(237,237,237)\",\"polar\":{\"angularaxis\":{\"gridcolor\":\"white\",\"linecolor\":\"white\",\"showgrid\":true,\"tickcolor\":\"rgb(51,51,51)\",\"ticks\":\"outside\"},\"bgcolor\":\"rgb(237,237,237)\",\"radialaxis\":{\"gridcolor\":\"white\",\"linecolor\":\"white\",\"showgrid\":true,\"tickcolor\":\"rgb(51,51,51)\",\"ticks\":\"outside\"}},\"scene\":{\"xaxis\":{\"backgroundcolor\":\"rgb(237,237,237)\",\"gridcolor\":\"white\",\"gridwidth\":2,\"linecolor\":\"white\",\"showbackground\":true,\"showgrid\":true,\"tickcolor\":\"rgb(51,51,51)\",\"ticks\":\"outside\",\"zerolinecolor\":\"white\"},\"yaxis\":{\"backgroundcolor\":\"rgb(237,237,237)\",\"gridcolor\":\"white\",\"gridwidth\":2,\"linecolor\":\"white\",\"showbackground\":true,\"showgrid\":true,\"tickcolor\":\"rgb(51,51,51)\",\"ticks\":\"outside\",\"zerolinecolor\":\"white\"},\"zaxis\":{\"backgroundcolor\":\"rgb(237,237,237)\",\"gridcolor\":\"white\",\"gridwidth\":2,\"linecolor\":\"white\",\"showbackground\":true,\"showgrid\":true,\"tickcolor\":\"rgb(51,51,51)\",\"ticks\":\"outside\",\"zerolinecolor\":\"white\"}},\"shapedefaults\":{\"fillcolor\":\"black\",\"line\":{\"width\":0},\"opacity\":0.3},\"ternary\":{\"aaxis\":{\"gridcolor\":\"white\",\"linecolor\":\"white\",\"showgrid\":true,\"tickcolor\":\"rgb(51,51,51)\",\"ticks\":\"outside\"},\"baxis\":{\"gridcolor\":\"white\",\"linecolor\":\"white\",\"showgrid\":true,\"tickcolor\":\"rgb(51,51,51)\",\"ticks\":\"outside\"},\"bgcolor\":\"rgb(237,237,237)\",\"caxis\":{\"gridcolor\":\"white\",\"linecolor\":\"white\",\"showgrid\":true,\"tickcolor\":\"rgb(51,51,51)\",\"ticks\":\"outside\"}},\"xaxis\":{\"automargin\":true,\"gridcolor\":\"white\",\"linecolor\":\"white\",\"showgrid\":true,\"tickcolor\":\"rgb(51,51,51)\",\"ticks\":\"outside\",\"title\":{\"standoff\":15},\"zerolinecolor\":\"white\"},\"yaxis\":{\"automargin\":true,\"gridcolor\":\"white\",\"linecolor\":\"white\",\"showgrid\":true,\"tickcolor\":\"rgb(51,51,51)\",\"ticks\":\"outside\",\"title\":{\"standoff\":15},\"zerolinecolor\":\"white\"}}},\"xaxis\":{\"anchor\":\"y\",\"domain\":[0.0,1.0],\"title\":{\"text\":\"log2 Fold Change\"},\"range\":[-4,6]},\"yaxis\":{\"anchor\":\"x\",\"domain\":[0.0,1.0],\"title\":{\"text\":\"Gene\"}},\"legend\":{\"title\":{\"text\":\"species\"},\"tracegroupgap\":0},\"margin\":{\"t\":60},\"boxmode\":\"group\",\"height\":300,\"width\":1000,\"title\":{\"font\":{\"size\":20}},\"shapes\":[{\"line\":{\"color\":\"grey\",\"dash\":\"dash\",\"width\":1},\"type\":\"line\",\"x0\":0,\"x1\":0,\"xref\":\"x\",\"y0\":0,\"y1\":1,\"yref\":\"y domain\"}]},                        {\"responsive\": true}                    ).then(function(){\n",
              "                            \n",
              "var gd = document.getElementById('14982d78-de5d-42a6-ba96-221a4a1ed305');\n",
              "var x = new MutationObserver(function (mutations, observer) {{\n",
              "        var display = window.getComputedStyle(gd).display;\n",
              "        if (!display || display === 'none') {{\n",
              "            console.log([gd, 'removed!']);\n",
              "            Plotly.purge(gd);\n",
              "            observer.disconnect();\n",
              "        }}\n",
              "}});\n",
              "\n",
              "// Listen for the removal of the full notebook cells\n",
              "var notebookContainer = gd.closest('#notebook-container');\n",
              "if (notebookContainer) {{\n",
              "    x.observe(notebookContainer, {childList: true});\n",
              "}}\n",
              "\n",
              "// Listen for the clearing of the current output cell\n",
              "var outputEl = gd.closest('.output');\n",
              "if (outputEl) {{\n",
              "    x.observe(outputEl, {childList: true});\n",
              "}}\n",
              "\n",
              "                        })                };                            </script>        </div>\n",
              "</body>\n",
              "</html>"
            ]
          },
          "metadata": {}
        }
      ],
      "source": [
        "#@title **RNA-Seq-Meta** { run: \"auto\" }\n",
        "#@markdown This notebook produces interactive strip and boxplots with plotly, to summarise gene expression across ~30 *Anopheles* insecticide resistant v susceptible RNA-Sequencing experiments. \n",
        "#@markdown Currently *An. gambiae* is not split into *gambiae* and *coluzzii* (this will change). You can toggle which species are displayed by clicking the legend. Because *An. funestus* experiments are included,\n",
        "#@markdown only *gambiae* genes with *funestus* orthologs are present.  \n",
        "#@markdown   \n",
        "#@markdown Requesting feedback and ideas for how to explore the data.\n",
        "\n",
        "GeneID = \"AGAP006227\" #@param {type:\"string\"} \n",
        "plot_type = \"strip\" #@param ['strip', 'boxplot']\n",
        "\n",
        "plotly_gene_fcs(gene_id=GeneID, title=\"\", plot_type=plot_type, height=300)\n"
      ]
    },
    {
      "cell_type": "markdown",
      "source": [
        "We can provide a list of genes, and sort by either AGAP identifier, or by the median fold-change. "
      ],
      "metadata": {
        "id": "yqZ2VL2svoDr"
      },
      "id": "yqZ2VL2svoDr"
    },
    {
      "cell_type": "code",
      "execution_count": 9,
      "id": "bMksl8rNPEMS",
      "metadata": {
        "id": "bMksl8rNPEMS",
        "outputId": "68e40abb-49af-4f21-ac10-ce6e1af00ffd",
        "colab": {
          "base_uri": "https://localhost:8080/",
          "height": 317
        }
      },
      "outputs": [
        {
          "output_type": "display_data",
          "data": {
            "text/html": [
              "<html>\n",
              "<head><meta charset=\"utf-8\" /></head>\n",
              "<body>\n",
              "    <div>            <script src=\"https://cdnjs.cloudflare.com/ajax/libs/mathjax/2.7.5/MathJax.js?config=TeX-AMS-MML_SVG\"></script><script type=\"text/javascript\">if (window.MathJax) {MathJax.Hub.Config({SVG: {font: \"STIX-Web\"}});}</script>                <script type=\"text/javascript\">window.PlotlyConfig = {MathJaxConfig: 'local'};</script>\n",
              "        <script src=\"https://cdn.plot.ly/plotly-2.8.3.min.js\"></script>                <div id=\"33ba4581-60cf-47b3-b192-124752781c5a\" class=\"plotly-graph-div\" style=\"height:300px; width:1000px;\"></div>            <script type=\"text/javascript\">                                    window.PLOTLYENV=window.PLOTLYENV || {};                                    if (document.getElementById(\"33ba4581-60cf-47b3-b192-124752781c5a\")) {                    Plotly.newPlot(                        \"33ba4581-60cf-47b3-b192-124752781c5a\",                        [{\"alignmentgroup\":\"True\",\"boxpoints\":\"all\",\"customdata\":[[\"Tiefora\",\"Ngousso\",\"gambiae\",\"Burkina Faso\"],[\"Tiefora\",\"Ngousso\",\"gambiae\",\"Burkina Faso\"],[\"Tiefora\",\"Ngousso\",\"gambiae\",\"Burkina Faso\"],[\"Ban\",\"BanS\",\"gambiae\",\"Burkina Faso\"],[\"Ban\",\"BanS\",\"gambiae\",\"Burkina Faso\"],[\"Ban\",\"BanS\",\"gambiae\",\"Burkina Faso\"],[\"BanRe\",\"BanS\",\"gambiae\",\"Burkina Faso\"],[\"BanRe\",\"BanS\",\"gambiae\",\"Burkina Faso\"],[\"BanRe\",\"BanS\",\"gambiae\",\"Burkina Faso\"],[\"Bak\",\"Kisumu\",\"gambiae\",\"Burkina Faso\"],[\"Bak\",\"Kisumu\",\"gambiae\",\"Burkina Faso\"],[\"Bak\",\"Kisumu\",\"gambiae\",\"Burkina Faso\"],[\"VK7\",\"Kisumu\",\"gambiae\",\"Burkina Faso\"],[\"VK7\",\"Kisumu\",\"gambiae\",\"Burkina Faso\"],[\"VK7\",\"Kisumu\",\"gambiae\",\"Burkina Faso\"],[\"Cameroon\",\"Ngousso\",\"gambiae\",\"Cameroon\"],[\"Cameroon\",\"Ngousso\",\"gambiae\",\"Cameroon\"],[\"Cameroon\",\"Ngousso\",\"gambiae\",\"Cameroon\"],[\"Chad\",\"Ngousso\",\"gambiae\",\"Chad\"],[\"Chad\",\"Ngousso\",\"gambiae\",\"Chad\"],[\"Chad\",\"Ngousso\",\"gambiae\",\"Chad\"],[\"Niger\",\"Ngousso\",\"gambiae\",\"Niger\"],[\"Niger\",\"Ngousso\",\"gambiae\",\"Niger\"],[\"Niger\",\"Ngousso\",\"gambiae\",\"Niger\"],[\"Nigeria\",\"Ngousso\",\"gambiae\",\"Nigeria\"],[\"Nigeria\",\"Ngousso\",\"gambiae\",\"Nigeria\"],[\"Nigeria\",\"Ngousso\",\"gambiae\",\"Nigeria\"],[\"Agboville\",\"Mali\",\"gambiae\",\"Cote d'Ivoire\"],[\"Agboville\",\"Mali\",\"gambiae\",\"Cote d'Ivoire\"],[\"Agboville\",\"Mali\",\"gambiae\",\"Cote d'Ivoire\"],[\"Agboville\",\"Ngousso\",\"gambiae\",\"Cote d'Ivoire\"],[\"Agboville\",\"Ngousso\",\"gambiae\",\"Cote d'Ivoire\"],[\"Agboville\",\"Ngousso\",\"gambiae\",\"Cote d'Ivoire\"],[\"Dabou\",\"Mali\",\"gambiae\",\"Cote d'Ivoire\"],[\"Dabou\",\"Mali\",\"gambiae\",\"Cote d'Ivoire\"],[\"Dabou\",\"Mali\",\"gambiae\",\"Cote d'Ivoire\"],[\"Dabou\",\"Ngousso\",\"gambiae\",\"Cote d'Ivoire\"],[\"Dabou\",\"Ngousso\",\"gambiae\",\"Cote d'Ivoire\"],[\"Dabou\",\"Ngousso\",\"gambiae\",\"Cote d'Ivoire\"],[\"Tiassale\",\"Mali\",\"gambiae\",\"Cote d'Ivoire\"],[\"Tiassale\",\"Mali\",\"gambiae\",\"Cote d'Ivoire\"],[\"Tiassale\",\"Mali\",\"gambiae\",\"Cote d'Ivoire\"],[\"Tiassale\",\"Ngousso\",\"gambiae\",\"Cote d'Ivoire\"],[\"Tiassale\",\"Ngousso\",\"gambiae\",\"Cote d'Ivoire\"],[\"Tiassale\",\"Ngousso\",\"gambiae\",\"Cote d'Ivoire\"],[\"Bouake_gamb_exp\",\"Kisumu\",\"gambiae\",\"Cote d'Ivoire\"],[\"Bouake_gamb_exp\",\"Kisumu\",\"gambiae\",\"Cote d'Ivoire\"],[\"Bouake_gamb_exp\",\"Kisumu\",\"gambiae\",\"Cote d'Ivoire\"],[\"Bouake_gamb_unexp\",\"Kisumu\",\"gambiae\",\"Cote d'Ivoire\"],[\"Bouake_gamb_unexp\",\"Kisumu\",\"gambiae\",\"Cote d'Ivoire\"],[\"Bouake_gamb_unexp\",\"Kisumu\",\"gambiae\",\"Cote d'Ivoire\"],[\"Bouake_colu_exp\",\"Ngousso\",\"gambiae\",\"Cote d'Ivoire\"],[\"Bouake_colu_exp\",\"Ngousso\",\"gambiae\",\"Cote d'Ivoire\"],[\"Bouake_colu_exp\",\"Ngousso\",\"gambiae\",\"Cote d'Ivoire\"],[\"Bouake_colu_unexp\",\"Ngousso\",\"gambiae\",\"Cote d'Ivoire\"],[\"Bouake_colu_unexp\",\"Ngousso\",\"gambiae\",\"Cote d'Ivoire\"],[\"Bouake_colu_unexp\",\"Ngousso\",\"gambiae\",\"Cote d'Ivoire\"],[\"ContTia\",\"Ngousso\",\"gambiae\",\"Cote d'Ivoire\"],[\"ContTia\",\"Ngousso\",\"gambiae\",\"Cote d'Ivoire\"],[\"ContTia\",\"Ngousso\",\"gambiae\",\"Cote d'Ivoire\"],[\"DeltTia\",\"Ngousso\",\"gambiae\",\"Cote d'Ivoire\"],[\"DeltTia\",\"Ngousso\",\"gambiae\",\"Cote d'Ivoire\"],[\"DeltTia\",\"Ngousso\",\"gambiae\",\"Cote d'Ivoire\"],[\"MalaTia\",\"Ngousso\",\"gambiae\",\"Cote d'Ivoire\"],[\"MalaTia\",\"Ngousso\",\"gambiae\",\"Cote d'Ivoire\"],[\"MalaTia\",\"Ngousso\",\"gambiae\",\"Cote d'Ivoire\"],[\"PiriTia\",\"Ngousso\",\"gambiae\",\"Cote d'Ivoire\"],[\"PiriTia\",\"Ngousso\",\"gambiae\",\"Cote d'Ivoire\"],[\"PiriTia\",\"Ngousso\",\"gambiae\",\"Cote d'Ivoire\"],[\"BusiaParental\",\"Kisumu\",\"gambiae\",\"Uganda\"],[\"BusiaParental\",\"Kisumu\",\"gambiae\",\"Uganda\"],[\"BusiaParental\",\"Kisumu\",\"gambiae\",\"Uganda\"],[\"BusiaSurvivors\",\"Kisumu\",\"gambiae\",\"Uganda\"],[\"BusiaSurvivors\",\"Kisumu\",\"gambiae\",\"Uganda\"],[\"BusiaSurvivors\",\"Kisumu\",\"gambiae\",\"Uganda\"]],\"fillcolor\":\"rgba(255,255,255,0)\",\"hoveron\":\"points\",\"hovertemplate\":\"species=%{customdata[2]}<br>log2FC=%{x}<br>Label=%{y}<br>resistant=%{customdata[0]}<br>susceptible=%{customdata[1]}<br>country=%{customdata[3]}<extra></extra>\",\"legendgroup\":\"gambiae\",\"line\":{\"color\":\"rgba(255,255,255,0)\"},\"marker\":{\"color\":\"#F8766D\"},\"name\":\"gambiae\",\"offsetgroup\":\"gambiae\",\"orientation\":\"h\",\"pointpos\":0,\"showlegend\":true,\"x\":[-0.44,-0.46,0.75,-0.51,-1.08,2.07,-0.06,-0.32,0.08,-0.23,0.29,1.56,-0.26,0.05,1.74,-0.12,-0.33,1.81,0.37,-0.05,1.22,0.31,-0.04,0.63,0.25,0.16,1.83,1.7,3.38,0.65,1.08,1.92,3.5,2.3,2.83,1.31,1.69,1.37,4.15,0.67,2.35,0.77,0.06,0.88,3.61,-0.26,2.59,0.47,-0.08,2.59,0.17,-0.64,0.26,2.62,-0.71,0.68,2.44,0.33,1.66,4.07,-0.09,0.04,3.26,0.55,1.58,4.23,0.38,1.14,4.54,0.64,0.8,-1.67,0.84,0.67,-2.75],\"x0\":\" \",\"xaxis\":\"x\",\"y\":[\"AGAP006228 | COEAE2F\",\"AGAP006227\",\"AGAP006222\",\"AGAP006228 | COEAE2F\",\"AGAP006227\",\"AGAP006222\",\"AGAP006228 | COEAE2F\",\"AGAP006227\",\"AGAP006222\",\"AGAP006228 | COEAE2F\",\"AGAP006227\",\"AGAP006222\",\"AGAP006228 | COEAE2F\",\"AGAP006227\",\"AGAP006222\",\"AGAP006228 | COEAE2F\",\"AGAP006227\",\"AGAP006222\",\"AGAP006228 | COEAE2F\",\"AGAP006227\",\"AGAP006222\",\"AGAP006228 | COEAE2F\",\"AGAP006227\",\"AGAP006222\",\"AGAP006228 | COEAE2F\",\"AGAP006227\",\"AGAP006222\",\"AGAP006228 | COEAE2F\",\"AGAP006227\",\"AGAP006222\",\"AGAP006228 | COEAE2F\",\"AGAP006227\",\"AGAP006222\",\"AGAP006228 | COEAE2F\",\"AGAP006227\",\"AGAP006222\",\"AGAP006228 | COEAE2F\",\"AGAP006227\",\"AGAP006222\",\"AGAP006228 | COEAE2F\",\"AGAP006227\",\"AGAP006222\",\"AGAP006228 | COEAE2F\",\"AGAP006227\",\"AGAP006222\",\"AGAP006228 | COEAE2F\",\"AGAP006227\",\"AGAP006222\",\"AGAP006228 | COEAE2F\",\"AGAP006227\",\"AGAP006222\",\"AGAP006228 | COEAE2F\",\"AGAP006227\",\"AGAP006222\",\"AGAP006228 | COEAE2F\",\"AGAP006227\",\"AGAP006222\",\"AGAP006228 | COEAE2F\",\"AGAP006227\",\"AGAP006222\",\"AGAP006228 | COEAE2F\",\"AGAP006227\",\"AGAP006222\",\"AGAP006228 | COEAE2F\",\"AGAP006227\",\"AGAP006222\",\"AGAP006228 | COEAE2F\",\"AGAP006227\",\"AGAP006222\",\"AGAP006228 | COEAE2F\",\"AGAP006227\",\"AGAP006222\",\"AGAP006228 | COEAE2F\",\"AGAP006227\",\"AGAP006222\"],\"y0\":\" \",\"yaxis\":\"y\",\"type\":\"box\"},{\"alignmentgroup\":\"True\",\"boxpoints\":\"all\",\"customdata\":[[\"Gou\",\"Moz\",\"arabiensis\",\"Burkina Faso\"],[\"Gou\",\"Moz\",\"arabiensis\",\"Burkina Faso\"],[\"Gou\",\"Moz\",\"arabiensis\",\"Burkina Faso\"],[\"Asendabo\",\"Moz\",\"arabiensis\",\"Ethiopia\"],[\"Asendabo\",\"Moz\",\"arabiensis\",\"Ethiopia\"],[\"Asendabo\",\"Moz\",\"arabiensis\",\"Ethiopia\"],[\"Chewaka\",\"Moz\",\"arabiensis\",\"Ethiopia\"],[\"Chewaka\",\"Moz\",\"arabiensis\",\"Ethiopia\"],[\"Chewaka\",\"Moz\",\"arabiensis\",\"Ethiopia\"],[\"Tolay\",\"Moz\",\"arabiensis\",\"Ethiopia\"],[\"Tolay\",\"Moz\",\"arabiensis\",\"Ethiopia\"],[\"Tolay\",\"Moz\",\"arabiensis\",\"Ethiopia\"],[\"Ethiopia\",\"Dongola\",\"arabiensis\",\"Ethiopia\"],[\"Ethiopia\",\"Dongola\",\"arabiensis\",\"Ethiopia\"],[\"Ethiopia\",\"Dongola\",\"arabiensis\",\"Ethiopia\"]],\"fillcolor\":\"rgba(255,255,255,0)\",\"hoveron\":\"points\",\"hovertemplate\":\"species=%{customdata[2]}<br>log2FC=%{x}<br>Label=%{y}<br>resistant=%{customdata[0]}<br>susceptible=%{customdata[1]}<br>country=%{customdata[3]}<extra></extra>\",\"legendgroup\":\"arabiensis\",\"line\":{\"color\":\"rgba(255,255,255,0)\"},\"marker\":{\"color\":\"#A3A500\"},\"name\":\"arabiensis\",\"offsetgroup\":\"arabiensis\",\"orientation\":\"h\",\"pointpos\":0,\"showlegend\":true,\"x\":[-0.17,-0.04,1.23,0.04,-0.35,2.16,0.33,-0.02,3.41,0.12,-0.17,2.43,0.14,0.06,1.04],\"x0\":\" \",\"xaxis\":\"x\",\"y\":[\"AGAP006228 | COEAE2F\",\"AGAP006227\",\"AGAP006222\",\"AGAP006228 | COEAE2F\",\"AGAP006227\",\"AGAP006222\",\"AGAP006228 | COEAE2F\",\"AGAP006227\",\"AGAP006222\",\"AGAP006228 | COEAE2F\",\"AGAP006227\",\"AGAP006222\",\"AGAP006228 | COEAE2F\",\"AGAP006227\",\"AGAP006222\"],\"y0\":\" \",\"yaxis\":\"y\",\"type\":\"box\"},{\"alignmentgroup\":\"True\",\"boxpoints\":\"all\",\"customdata\":[[\"Cam_fun\",\"Fang\",\"funestus\",\"Cameroon\"],[\"Cam_fun\",\"Fang\",\"funestus\",\"Cameroon\"],[\"Cam_fun\",\"Fang\",\"funestus\",\"Cameroon\"],[\"Fumoz\",\"Fang\",\"funestus\",\"Mozambique\"],[\"Fumoz\",\"Fang\",\"funestus\",\"Mozambique\"],[\"Fumoz\",\"Fang\",\"funestus\",\"Mozambique\"],[\"Ghana_fun\",\"Fang\",\"funestus\",\"Ghana\"],[\"Ghana_fun\",\"Fang\",\"funestus\",\"Ghana\"],[\"Ghana_fun\",\"Fang\",\"funestus\",\"Ghana\"],[\"Malawi_fun\",\"Fang\",\"funestus\",\"Malawi\"],[\"Malawi_fun\",\"Fang\",\"funestus\",\"Malawi\"],[\"Malawi_fun\",\"Fang\",\"funestus\",\"Malawi\"],[\"Uganda_fun\",\"Fang\",\"funestus\",\"Uganda\"],[\"Uganda_fun\",\"Fang\",\"funestus\",\"Uganda\"],[\"Uganda_fun\",\"Fang\",\"funestus\",\"Uganda\"]],\"fillcolor\":\"rgba(255,255,255,0)\",\"hoveron\":\"points\",\"hovertemplate\":\"species=%{customdata[2]}<br>log2FC=%{x}<br>Label=%{y}<br>resistant=%{customdata[0]}<br>susceptible=%{customdata[1]}<br>country=%{customdata[3]}<extra></extra>\",\"legendgroup\":\"funestus\",\"line\":{\"color\":\"rgba(255,255,255,0)\"},\"marker\":{\"color\":\"#00BF7D\"},\"name\":\"funestus\",\"offsetgroup\":\"funestus\",\"orientation\":\"h\",\"pointpos\":0,\"showlegend\":true,\"x\":[-0.05,-0.37,-0.53,0.02,-0.55,0.14,0.39,0.07,0.74,0.32,-0.32,0.34,0.23,-0.43,0.02],\"x0\":\" \",\"xaxis\":\"x\",\"y\":[\"AGAP006228 | COEAE2F\",\"AGAP006227\",\"AGAP006222\",\"AGAP006228 | COEAE2F\",\"AGAP006227\",\"AGAP006222\",\"AGAP006228 | COEAE2F\",\"AGAP006227\",\"AGAP006222\",\"AGAP006228 | COEAE2F\",\"AGAP006227\",\"AGAP006222\",\"AGAP006228 | COEAE2F\",\"AGAP006227\",\"AGAP006222\"],\"y0\":\" \",\"yaxis\":\"y\",\"type\":\"box\"}],                        {\"template\":{\"data\":{\"barpolar\":[{\"marker\":{\"line\":{\"color\":\"rgb(237,237,237)\",\"width\":0.5},\"pattern\":{\"fillmode\":\"overlay\",\"size\":10,\"solidity\":0.2}},\"type\":\"barpolar\"}],\"bar\":[{\"error_x\":{\"color\":\"rgb(51,51,51)\"},\"error_y\":{\"color\":\"rgb(51,51,51)\"},\"marker\":{\"line\":{\"color\":\"rgb(237,237,237)\",\"width\":0.5},\"pattern\":{\"fillmode\":\"overlay\",\"size\":10,\"solidity\":0.2}},\"type\":\"bar\"}],\"carpet\":[{\"aaxis\":{\"endlinecolor\":\"rgb(51,51,51)\",\"gridcolor\":\"white\",\"linecolor\":\"white\",\"minorgridcolor\":\"white\",\"startlinecolor\":\"rgb(51,51,51)\"},\"baxis\":{\"endlinecolor\":\"rgb(51,51,51)\",\"gridcolor\":\"white\",\"linecolor\":\"white\",\"minorgridcolor\":\"white\",\"startlinecolor\":\"rgb(51,51,51)\"},\"type\":\"carpet\"}],\"choropleth\":[{\"colorbar\":{\"outlinewidth\":0,\"tickcolor\":\"rgb(237,237,237)\",\"ticklen\":6,\"ticks\":\"inside\"},\"type\":\"choropleth\"}],\"contourcarpet\":[{\"colorbar\":{\"outlinewidth\":0,\"tickcolor\":\"rgb(237,237,237)\",\"ticklen\":6,\"ticks\":\"inside\"},\"type\":\"contourcarpet\"}],\"contour\":[{\"colorbar\":{\"outlinewidth\":0,\"tickcolor\":\"rgb(237,237,237)\",\"ticklen\":6,\"ticks\":\"inside\"},\"colorscale\":[[0,\"rgb(20,44,66)\"],[1,\"rgb(90,179,244)\"]],\"type\":\"contour\"}],\"heatmapgl\":[{\"colorbar\":{\"outlinewidth\":0,\"tickcolor\":\"rgb(237,237,237)\",\"ticklen\":6,\"ticks\":\"inside\"},\"colorscale\":[[0,\"rgb(20,44,66)\"],[1,\"rgb(90,179,244)\"]],\"type\":\"heatmapgl\"}],\"heatmap\":[{\"colorbar\":{\"outlinewidth\":0,\"tickcolor\":\"rgb(237,237,237)\",\"ticklen\":6,\"ticks\":\"inside\"},\"colorscale\":[[0,\"rgb(20,44,66)\"],[1,\"rgb(90,179,244)\"]],\"type\":\"heatmap\"}],\"histogram2dcontour\":[{\"colorbar\":{\"outlinewidth\":0,\"tickcolor\":\"rgb(237,237,237)\",\"ticklen\":6,\"ticks\":\"inside\"},\"colorscale\":[[0,\"rgb(20,44,66)\"],[1,\"rgb(90,179,244)\"]],\"type\":\"histogram2dcontour\"}],\"histogram2d\":[{\"colorbar\":{\"outlinewidth\":0,\"tickcolor\":\"rgb(237,237,237)\",\"ticklen\":6,\"ticks\":\"inside\"},\"colorscale\":[[0,\"rgb(20,44,66)\"],[1,\"rgb(90,179,244)\"]],\"type\":\"histogram2d\"}],\"histogram\":[{\"marker\":{\"pattern\":{\"fillmode\":\"overlay\",\"size\":10,\"solidity\":0.2}},\"type\":\"histogram\"}],\"mesh3d\":[{\"colorbar\":{\"outlinewidth\":0,\"tickcolor\":\"rgb(237,237,237)\",\"ticklen\":6,\"ticks\":\"inside\"},\"type\":\"mesh3d\"}],\"parcoords\":[{\"line\":{\"colorbar\":{\"outlinewidth\":0,\"tickcolor\":\"rgb(237,237,237)\",\"ticklen\":6,\"ticks\":\"inside\"}},\"type\":\"parcoords\"}],\"pie\":[{\"automargin\":true,\"type\":\"pie\"}],\"scatter3d\":[{\"line\":{\"colorbar\":{\"outlinewidth\":0,\"tickcolor\":\"rgb(237,237,237)\",\"ticklen\":6,\"ticks\":\"inside\"}},\"marker\":{\"colorbar\":{\"outlinewidth\":0,\"tickcolor\":\"rgb(237,237,237)\",\"ticklen\":6,\"ticks\":\"inside\"}},\"type\":\"scatter3d\"}],\"scattercarpet\":[{\"marker\":{\"colorbar\":{\"outlinewidth\":0,\"tickcolor\":\"rgb(237,237,237)\",\"ticklen\":6,\"ticks\":\"inside\"}},\"type\":\"scattercarpet\"}],\"scattergeo\":[{\"marker\":{\"colorbar\":{\"outlinewidth\":0,\"tickcolor\":\"rgb(237,237,237)\",\"ticklen\":6,\"ticks\":\"inside\"}},\"type\":\"scattergeo\"}],\"scattergl\":[{\"marker\":{\"colorbar\":{\"outlinewidth\":0,\"tickcolor\":\"rgb(237,237,237)\",\"ticklen\":6,\"ticks\":\"inside\"}},\"type\":\"scattergl\"}],\"scattermapbox\":[{\"marker\":{\"colorbar\":{\"outlinewidth\":0,\"tickcolor\":\"rgb(237,237,237)\",\"ticklen\":6,\"ticks\":\"inside\"}},\"type\":\"scattermapbox\"}],\"scatterpolargl\":[{\"marker\":{\"colorbar\":{\"outlinewidth\":0,\"tickcolor\":\"rgb(237,237,237)\",\"ticklen\":6,\"ticks\":\"inside\"}},\"type\":\"scatterpolargl\"}],\"scatterpolar\":[{\"marker\":{\"colorbar\":{\"outlinewidth\":0,\"tickcolor\":\"rgb(237,237,237)\",\"ticklen\":6,\"ticks\":\"inside\"}},\"type\":\"scatterpolar\"}],\"scatter\":[{\"marker\":{\"colorbar\":{\"outlinewidth\":0,\"tickcolor\":\"rgb(237,237,237)\",\"ticklen\":6,\"ticks\":\"inside\"}},\"type\":\"scatter\"}],\"scatterternary\":[{\"marker\":{\"colorbar\":{\"outlinewidth\":0,\"tickcolor\":\"rgb(237,237,237)\",\"ticklen\":6,\"ticks\":\"inside\"}},\"type\":\"scatterternary\"}],\"surface\":[{\"colorbar\":{\"outlinewidth\":0,\"tickcolor\":\"rgb(237,237,237)\",\"ticklen\":6,\"ticks\":\"inside\"},\"colorscale\":[[0,\"rgb(20,44,66)\"],[1,\"rgb(90,179,244)\"]],\"type\":\"surface\"}],\"table\":[{\"cells\":{\"fill\":{\"color\":\"rgb(237,237,237)\"},\"line\":{\"color\":\"white\"}},\"header\":{\"fill\":{\"color\":\"rgb(217,217,217)\"},\"line\":{\"color\":\"white\"}},\"type\":\"table\"}]},\"layout\":{\"annotationdefaults\":{\"arrowhead\":0,\"arrowwidth\":1},\"autotypenumbers\":\"strict\",\"coloraxis\":{\"colorbar\":{\"outlinewidth\":0,\"tickcolor\":\"rgb(237,237,237)\",\"ticklen\":6,\"ticks\":\"inside\"}},\"colorscale\":{\"sequential\":[[0,\"rgb(20,44,66)\"],[1,\"rgb(90,179,244)\"]],\"sequentialminus\":[[0,\"rgb(20,44,66)\"],[1,\"rgb(90,179,244)\"]]},\"colorway\":[\"#F8766D\",\"#A3A500\",\"#00BF7D\",\"#00B0F6\",\"#E76BF3\"],\"font\":{\"color\":\"rgb(51,51,51)\"},\"geo\":{\"bgcolor\":\"white\",\"lakecolor\":\"white\",\"landcolor\":\"rgb(237,237,237)\",\"showlakes\":true,\"showland\":true,\"subunitcolor\":\"white\"},\"hoverlabel\":{\"align\":\"left\"},\"hovermode\":\"closest\",\"paper_bgcolor\":\"white\",\"plot_bgcolor\":\"rgb(237,237,237)\",\"polar\":{\"angularaxis\":{\"gridcolor\":\"white\",\"linecolor\":\"white\",\"showgrid\":true,\"tickcolor\":\"rgb(51,51,51)\",\"ticks\":\"outside\"},\"bgcolor\":\"rgb(237,237,237)\",\"radialaxis\":{\"gridcolor\":\"white\",\"linecolor\":\"white\",\"showgrid\":true,\"tickcolor\":\"rgb(51,51,51)\",\"ticks\":\"outside\"}},\"scene\":{\"xaxis\":{\"backgroundcolor\":\"rgb(237,237,237)\",\"gridcolor\":\"white\",\"gridwidth\":2,\"linecolor\":\"white\",\"showbackground\":true,\"showgrid\":true,\"tickcolor\":\"rgb(51,51,51)\",\"ticks\":\"outside\",\"zerolinecolor\":\"white\"},\"yaxis\":{\"backgroundcolor\":\"rgb(237,237,237)\",\"gridcolor\":\"white\",\"gridwidth\":2,\"linecolor\":\"white\",\"showbackground\":true,\"showgrid\":true,\"tickcolor\":\"rgb(51,51,51)\",\"ticks\":\"outside\",\"zerolinecolor\":\"white\"},\"zaxis\":{\"backgroundcolor\":\"rgb(237,237,237)\",\"gridcolor\":\"white\",\"gridwidth\":2,\"linecolor\":\"white\",\"showbackground\":true,\"showgrid\":true,\"tickcolor\":\"rgb(51,51,51)\",\"ticks\":\"outside\",\"zerolinecolor\":\"white\"}},\"shapedefaults\":{\"fillcolor\":\"black\",\"line\":{\"width\":0},\"opacity\":0.3},\"ternary\":{\"aaxis\":{\"gridcolor\":\"white\",\"linecolor\":\"white\",\"showgrid\":true,\"tickcolor\":\"rgb(51,51,51)\",\"ticks\":\"outside\"},\"baxis\":{\"gridcolor\":\"white\",\"linecolor\":\"white\",\"showgrid\":true,\"tickcolor\":\"rgb(51,51,51)\",\"ticks\":\"outside\"},\"bgcolor\":\"rgb(237,237,237)\",\"caxis\":{\"gridcolor\":\"white\",\"linecolor\":\"white\",\"showgrid\":true,\"tickcolor\":\"rgb(51,51,51)\",\"ticks\":\"outside\"}},\"xaxis\":{\"automargin\":true,\"gridcolor\":\"white\",\"linecolor\":\"white\",\"showgrid\":true,\"tickcolor\":\"rgb(51,51,51)\",\"ticks\":\"outside\",\"title\":{\"standoff\":15},\"zerolinecolor\":\"white\"},\"yaxis\":{\"automargin\":true,\"gridcolor\":\"white\",\"linecolor\":\"white\",\"showgrid\":true,\"tickcolor\":\"rgb(51,51,51)\",\"ticks\":\"outside\",\"title\":{\"standoff\":15},\"zerolinecolor\":\"white\"}}},\"xaxis\":{\"anchor\":\"y\",\"domain\":[0.0,1.0],\"title\":{\"text\":\"log2 Fold Change\"},\"range\":[-4,6]},\"yaxis\":{\"anchor\":\"x\",\"domain\":[0.0,1.0],\"title\":{\"text\":\"Gene\"}},\"legend\":{\"title\":{\"text\":\"species\"},\"tracegroupgap\":0},\"title\":{\"text\":\"Coeae1f\",\"font\":{\"size\":20}},\"boxmode\":\"group\",\"height\":300,\"width\":1000,\"shapes\":[{\"line\":{\"color\":\"grey\",\"dash\":\"dash\",\"width\":1},\"type\":\"line\",\"x0\":0,\"x1\":0,\"xref\":\"x\",\"y0\":0,\"y1\":1,\"yref\":\"y domain\"}]},                        {\"responsive\": true}                    ).then(function(){\n",
              "                            \n",
              "var gd = document.getElementById('33ba4581-60cf-47b3-b192-124752781c5a');\n",
              "var x = new MutationObserver(function (mutations, observer) {{\n",
              "        var display = window.getComputedStyle(gd).display;\n",
              "        if (!display || display === 'none') {{\n",
              "            console.log([gd, 'removed!']);\n",
              "            Plotly.purge(gd);\n",
              "            observer.disconnect();\n",
              "        }}\n",
              "}});\n",
              "\n",
              "// Listen for the removal of the full notebook cells\n",
              "var notebookContainer = gd.closest('#notebook-container');\n",
              "if (notebookContainer) {{\n",
              "    x.observe(notebookContainer, {childList: true});\n",
              "}}\n",
              "\n",
              "// Listen for the clearing of the current output cell\n",
              "var outputEl = gd.closest('.output');\n",
              "if (outputEl) {{\n",
              "    x.observe(outputEl, {childList: true});\n",
              "}}\n",
              "\n",
              "                        })                };                            </script>        </div>\n",
              "</body>\n",
              "</html>"
            ]
          },
          "metadata": {}
        }
      ],
      "source": [
        "plotly_gene_fcs(gene_id=[\"AGAP006222\", \"AGAP006227\", \"AGAP006228\"], sort_by='agap', title=\"Coeae1f\", plot_type='strip', height=300)"
      ]
    },
    {
      "cell_type": "markdown",
      "id": "w3a56NCsEk70",
      "metadata": {
        "id": "w3a56NCsEk70"
      },
      "source": [
        "You can also produce a boxplot, although the hovertext doesnt quite work as expected."
      ]
    },
    {
      "cell_type": "code",
      "execution_count": 10,
      "id": "fr_XvlBp_Pwy",
      "metadata": {
        "id": "fr_XvlBp_Pwy",
        "outputId": "7ce679ea-4eec-483b-a24f-41941ec3849d",
        "colab": {
          "base_uri": "https://localhost:8080/",
          "height": 317
        }
      },
      "outputs": [
        {
          "output_type": "display_data",
          "data": {
            "text/html": [
              "<html>\n",
              "<head><meta charset=\"utf-8\" /></head>\n",
              "<body>\n",
              "    <div>            <script src=\"https://cdnjs.cloudflare.com/ajax/libs/mathjax/2.7.5/MathJax.js?config=TeX-AMS-MML_SVG\"></script><script type=\"text/javascript\">if (window.MathJax) {MathJax.Hub.Config({SVG: {font: \"STIX-Web\"}});}</script>                <script type=\"text/javascript\">window.PlotlyConfig = {MathJaxConfig: 'local'};</script>\n",
              "        <script src=\"https://cdn.plot.ly/plotly-2.8.3.min.js\"></script>                <div id=\"153b3b2a-956e-4d1c-a293-5a3faa9bc316\" class=\"plotly-graph-div\" style=\"height:300px; width:1000px;\"></div>            <script type=\"text/javascript\">                                    window.PLOTLYENV=window.PLOTLYENV || {};                                    if (document.getElementById(\"153b3b2a-956e-4d1c-a293-5a3faa9bc316\")) {                    Plotly.newPlot(                        \"153b3b2a-956e-4d1c-a293-5a3faa9bc316\",                        [{\"alignmentgroup\":\"True\",\"customdata\":[[\"Tiefora\",\"Ngousso\",\"gambiae\",\"Burkina Faso\"],[\"Tiefora\",\"Ngousso\",\"gambiae\",\"Burkina Faso\"],[\"Tiefora\",\"Ngousso\",\"gambiae\",\"Burkina Faso\"],[\"Ban\",\"BanS\",\"gambiae\",\"Burkina Faso\"],[\"Ban\",\"BanS\",\"gambiae\",\"Burkina Faso\"],[\"Ban\",\"BanS\",\"gambiae\",\"Burkina Faso\"],[\"BanRe\",\"BanS\",\"gambiae\",\"Burkina Faso\"],[\"BanRe\",\"BanS\",\"gambiae\",\"Burkina Faso\"],[\"BanRe\",\"BanS\",\"gambiae\",\"Burkina Faso\"],[\"Bak\",\"Kisumu\",\"gambiae\",\"Burkina Faso\"],[\"Bak\",\"Kisumu\",\"gambiae\",\"Burkina Faso\"],[\"Bak\",\"Kisumu\",\"gambiae\",\"Burkina Faso\"],[\"VK7\",\"Kisumu\",\"gambiae\",\"Burkina Faso\"],[\"VK7\",\"Kisumu\",\"gambiae\",\"Burkina Faso\"],[\"VK7\",\"Kisumu\",\"gambiae\",\"Burkina Faso\"],[\"Cameroon\",\"Ngousso\",\"gambiae\",\"Cameroon\"],[\"Cameroon\",\"Ngousso\",\"gambiae\",\"Cameroon\"],[\"Cameroon\",\"Ngousso\",\"gambiae\",\"Cameroon\"],[\"Chad\",\"Ngousso\",\"gambiae\",\"Chad\"],[\"Chad\",\"Ngousso\",\"gambiae\",\"Chad\"],[\"Chad\",\"Ngousso\",\"gambiae\",\"Chad\"],[\"Niger\",\"Ngousso\",\"gambiae\",\"Niger\"],[\"Niger\",\"Ngousso\",\"gambiae\",\"Niger\"],[\"Niger\",\"Ngousso\",\"gambiae\",\"Niger\"],[\"Nigeria\",\"Ngousso\",\"gambiae\",\"Nigeria\"],[\"Nigeria\",\"Ngousso\",\"gambiae\",\"Nigeria\"],[\"Nigeria\",\"Ngousso\",\"gambiae\",\"Nigeria\"],[\"Agboville\",\"Mali\",\"gambiae\",\"Cote d'Ivoire\"],[\"Agboville\",\"Mali\",\"gambiae\",\"Cote d'Ivoire\"],[\"Agboville\",\"Mali\",\"gambiae\",\"Cote d'Ivoire\"],[\"Agboville\",\"Ngousso\",\"gambiae\",\"Cote d'Ivoire\"],[\"Agboville\",\"Ngousso\",\"gambiae\",\"Cote d'Ivoire\"],[\"Agboville\",\"Ngousso\",\"gambiae\",\"Cote d'Ivoire\"],[\"Dabou\",\"Mali\",\"gambiae\",\"Cote d'Ivoire\"],[\"Dabou\",\"Mali\",\"gambiae\",\"Cote d'Ivoire\"],[\"Dabou\",\"Mali\",\"gambiae\",\"Cote d'Ivoire\"],[\"Dabou\",\"Ngousso\",\"gambiae\",\"Cote d'Ivoire\"],[\"Dabou\",\"Ngousso\",\"gambiae\",\"Cote d'Ivoire\"],[\"Dabou\",\"Ngousso\",\"gambiae\",\"Cote d'Ivoire\"],[\"Tiassale\",\"Mali\",\"gambiae\",\"Cote d'Ivoire\"],[\"Tiassale\",\"Mali\",\"gambiae\",\"Cote d'Ivoire\"],[\"Tiassale\",\"Mali\",\"gambiae\",\"Cote d'Ivoire\"],[\"Tiassale\",\"Ngousso\",\"gambiae\",\"Cote d'Ivoire\"],[\"Tiassale\",\"Ngousso\",\"gambiae\",\"Cote d'Ivoire\"],[\"Tiassale\",\"Ngousso\",\"gambiae\",\"Cote d'Ivoire\"],[\"Bouake_gamb_exp\",\"Kisumu\",\"gambiae\",\"Cote d'Ivoire\"],[\"Bouake_gamb_exp\",\"Kisumu\",\"gambiae\",\"Cote d'Ivoire\"],[\"Bouake_gamb_exp\",\"Kisumu\",\"gambiae\",\"Cote d'Ivoire\"],[\"Bouake_gamb_unexp\",\"Kisumu\",\"gambiae\",\"Cote d'Ivoire\"],[\"Bouake_gamb_unexp\",\"Kisumu\",\"gambiae\",\"Cote d'Ivoire\"],[\"Bouake_gamb_unexp\",\"Kisumu\",\"gambiae\",\"Cote d'Ivoire\"],[\"Bouake_colu_exp\",\"Ngousso\",\"gambiae\",\"Cote d'Ivoire\"],[\"Bouake_colu_exp\",\"Ngousso\",\"gambiae\",\"Cote d'Ivoire\"],[\"Bouake_colu_exp\",\"Ngousso\",\"gambiae\",\"Cote d'Ivoire\"],[\"Bouake_colu_unexp\",\"Ngousso\",\"gambiae\",\"Cote d'Ivoire\"],[\"Bouake_colu_unexp\",\"Ngousso\",\"gambiae\",\"Cote d'Ivoire\"],[\"Bouake_colu_unexp\",\"Ngousso\",\"gambiae\",\"Cote d'Ivoire\"],[\"ContTia\",\"Ngousso\",\"gambiae\",\"Cote d'Ivoire\"],[\"ContTia\",\"Ngousso\",\"gambiae\",\"Cote d'Ivoire\"],[\"ContTia\",\"Ngousso\",\"gambiae\",\"Cote d'Ivoire\"],[\"DeltTia\",\"Ngousso\",\"gambiae\",\"Cote d'Ivoire\"],[\"DeltTia\",\"Ngousso\",\"gambiae\",\"Cote d'Ivoire\"],[\"DeltTia\",\"Ngousso\",\"gambiae\",\"Cote d'Ivoire\"],[\"MalaTia\",\"Ngousso\",\"gambiae\",\"Cote d'Ivoire\"],[\"MalaTia\",\"Ngousso\",\"gambiae\",\"Cote d'Ivoire\"],[\"MalaTia\",\"Ngousso\",\"gambiae\",\"Cote d'Ivoire\"],[\"PiriTia\",\"Ngousso\",\"gambiae\",\"Cote d'Ivoire\"],[\"PiriTia\",\"Ngousso\",\"gambiae\",\"Cote d'Ivoire\"],[\"PiriTia\",\"Ngousso\",\"gambiae\",\"Cote d'Ivoire\"],[\"BusiaParental\",\"Kisumu\",\"gambiae\",\"Uganda\"],[\"BusiaParental\",\"Kisumu\",\"gambiae\",\"Uganda\"],[\"BusiaParental\",\"Kisumu\",\"gambiae\",\"Uganda\"],[\"BusiaSurvivors\",\"Kisumu\",\"gambiae\",\"Uganda\"],[\"BusiaSurvivors\",\"Kisumu\",\"gambiae\",\"Uganda\"],[\"BusiaSurvivors\",\"Kisumu\",\"gambiae\",\"Uganda\"]],\"hovertemplate\":\"species=%{customdata[2]}<br>log2FC=%{x}<br>Label=%{y}<br>resistant=%{customdata[0]}<br>susceptible=%{customdata[1]}<br>country=%{customdata[3]}<extra></extra>\",\"legendgroup\":\"gambiae\",\"marker\":{\"color\":\"#F8766D\"},\"name\":\"gambiae\",\"notched\":false,\"offsetgroup\":\"gambiae\",\"orientation\":\"h\",\"showlegend\":true,\"x\":[-0.46,-0.44,0.75,-1.08,-0.51,2.07,-0.32,-0.06,0.08,0.29,-0.23,1.56,0.05,-0.26,1.74,-0.33,-0.12,1.81,-0.05,0.37,1.22,-0.04,0.31,0.63,0.16,0.25,1.83,3.38,1.7,0.65,1.92,1.08,3.5,2.83,2.3,1.31,1.37,1.69,4.15,2.35,0.67,0.77,0.88,0.06,3.61,2.59,-0.26,0.47,2.59,-0.08,0.17,0.26,-0.64,2.62,0.68,-0.71,2.44,1.66,0.33,4.07,0.04,-0.09,3.26,1.58,0.55,4.23,1.14,0.38,4.54,0.8,0.64,-1.67,0.67,0.84,-2.75],\"x0\":\" \",\"xaxis\":\"x\",\"y\":[\"AGAP006227\",\"AGAP006228 | COEAE2F\",\"AGAP006222\",\"AGAP006227\",\"AGAP006228 | COEAE2F\",\"AGAP006222\",\"AGAP006227\",\"AGAP006228 | COEAE2F\",\"AGAP006222\",\"AGAP006227\",\"AGAP006228 | COEAE2F\",\"AGAP006222\",\"AGAP006227\",\"AGAP006228 | COEAE2F\",\"AGAP006222\",\"AGAP006227\",\"AGAP006228 | COEAE2F\",\"AGAP006222\",\"AGAP006227\",\"AGAP006228 | COEAE2F\",\"AGAP006222\",\"AGAP006227\",\"AGAP006228 | COEAE2F\",\"AGAP006222\",\"AGAP006227\",\"AGAP006228 | COEAE2F\",\"AGAP006222\",\"AGAP006227\",\"AGAP006228 | COEAE2F\",\"AGAP006222\",\"AGAP006227\",\"AGAP006228 | COEAE2F\",\"AGAP006222\",\"AGAP006227\",\"AGAP006228 | COEAE2F\",\"AGAP006222\",\"AGAP006227\",\"AGAP006228 | COEAE2F\",\"AGAP006222\",\"AGAP006227\",\"AGAP006228 | COEAE2F\",\"AGAP006222\",\"AGAP006227\",\"AGAP006228 | COEAE2F\",\"AGAP006222\",\"AGAP006227\",\"AGAP006228 | COEAE2F\",\"AGAP006222\",\"AGAP006227\",\"AGAP006228 | COEAE2F\",\"AGAP006222\",\"AGAP006227\",\"AGAP006228 | COEAE2F\",\"AGAP006222\",\"AGAP006227\",\"AGAP006228 | COEAE2F\",\"AGAP006222\",\"AGAP006227\",\"AGAP006228 | COEAE2F\",\"AGAP006222\",\"AGAP006227\",\"AGAP006228 | COEAE2F\",\"AGAP006222\",\"AGAP006227\",\"AGAP006228 | COEAE2F\",\"AGAP006222\",\"AGAP006227\",\"AGAP006228 | COEAE2F\",\"AGAP006222\",\"AGAP006227\",\"AGAP006228 | COEAE2F\",\"AGAP006222\",\"AGAP006227\",\"AGAP006228 | COEAE2F\",\"AGAP006222\"],\"y0\":\" \",\"yaxis\":\"y\",\"type\":\"box\"},{\"alignmentgroup\":\"True\",\"customdata\":[[\"Gou\",\"Moz\",\"arabiensis\",\"Burkina Faso\"],[\"Gou\",\"Moz\",\"arabiensis\",\"Burkina Faso\"],[\"Gou\",\"Moz\",\"arabiensis\",\"Burkina Faso\"],[\"Asendabo\",\"Moz\",\"arabiensis\",\"Ethiopia\"],[\"Asendabo\",\"Moz\",\"arabiensis\",\"Ethiopia\"],[\"Asendabo\",\"Moz\",\"arabiensis\",\"Ethiopia\"],[\"Chewaka\",\"Moz\",\"arabiensis\",\"Ethiopia\"],[\"Chewaka\",\"Moz\",\"arabiensis\",\"Ethiopia\"],[\"Chewaka\",\"Moz\",\"arabiensis\",\"Ethiopia\"],[\"Tolay\",\"Moz\",\"arabiensis\",\"Ethiopia\"],[\"Tolay\",\"Moz\",\"arabiensis\",\"Ethiopia\"],[\"Tolay\",\"Moz\",\"arabiensis\",\"Ethiopia\"],[\"Ethiopia\",\"Dongola\",\"arabiensis\",\"Ethiopia\"],[\"Ethiopia\",\"Dongola\",\"arabiensis\",\"Ethiopia\"],[\"Ethiopia\",\"Dongola\",\"arabiensis\",\"Ethiopia\"]],\"hovertemplate\":\"species=%{customdata[2]}<br>log2FC=%{x}<br>Label=%{y}<br>resistant=%{customdata[0]}<br>susceptible=%{customdata[1]}<br>country=%{customdata[3]}<extra></extra>\",\"legendgroup\":\"arabiensis\",\"marker\":{\"color\":\"#A3A500\"},\"name\":\"arabiensis\",\"notched\":false,\"offsetgroup\":\"arabiensis\",\"orientation\":\"h\",\"showlegend\":true,\"x\":[-0.04,-0.17,1.23,-0.35,0.04,2.16,-0.02,0.33,3.41,-0.17,0.12,2.43,0.06,0.14,1.04],\"x0\":\" \",\"xaxis\":\"x\",\"y\":[\"AGAP006227\",\"AGAP006228 | COEAE2F\",\"AGAP006222\",\"AGAP006227\",\"AGAP006228 | COEAE2F\",\"AGAP006222\",\"AGAP006227\",\"AGAP006228 | COEAE2F\",\"AGAP006222\",\"AGAP006227\",\"AGAP006228 | COEAE2F\",\"AGAP006222\",\"AGAP006227\",\"AGAP006228 | COEAE2F\",\"AGAP006222\"],\"y0\":\" \",\"yaxis\":\"y\",\"type\":\"box\"},{\"alignmentgroup\":\"True\",\"customdata\":[[\"Cam_fun\",\"Fang\",\"funestus\",\"Cameroon\"],[\"Cam_fun\",\"Fang\",\"funestus\",\"Cameroon\"],[\"Cam_fun\",\"Fang\",\"funestus\",\"Cameroon\"],[\"Fumoz\",\"Fang\",\"funestus\",\"Mozambique\"],[\"Fumoz\",\"Fang\",\"funestus\",\"Mozambique\"],[\"Fumoz\",\"Fang\",\"funestus\",\"Mozambique\"],[\"Ghana_fun\",\"Fang\",\"funestus\",\"Ghana\"],[\"Ghana_fun\",\"Fang\",\"funestus\",\"Ghana\"],[\"Ghana_fun\",\"Fang\",\"funestus\",\"Ghana\"],[\"Malawi_fun\",\"Fang\",\"funestus\",\"Malawi\"],[\"Malawi_fun\",\"Fang\",\"funestus\",\"Malawi\"],[\"Malawi_fun\",\"Fang\",\"funestus\",\"Malawi\"],[\"Uganda_fun\",\"Fang\",\"funestus\",\"Uganda\"],[\"Uganda_fun\",\"Fang\",\"funestus\",\"Uganda\"],[\"Uganda_fun\",\"Fang\",\"funestus\",\"Uganda\"]],\"hovertemplate\":\"species=%{customdata[2]}<br>log2FC=%{x}<br>Label=%{y}<br>resistant=%{customdata[0]}<br>susceptible=%{customdata[1]}<br>country=%{customdata[3]}<extra></extra>\",\"legendgroup\":\"funestus\",\"marker\":{\"color\":\"#00BF7D\"},\"name\":\"funestus\",\"notched\":false,\"offsetgroup\":\"funestus\",\"orientation\":\"h\",\"showlegend\":true,\"x\":[-0.37,-0.05,-0.53,-0.55,0.02,0.14,0.07,0.39,0.74,-0.32,0.32,0.34,-0.43,0.23,0.02],\"x0\":\" \",\"xaxis\":\"x\",\"y\":[\"AGAP006227\",\"AGAP006228 | COEAE2F\",\"AGAP006222\",\"AGAP006227\",\"AGAP006228 | COEAE2F\",\"AGAP006222\",\"AGAP006227\",\"AGAP006228 | COEAE2F\",\"AGAP006222\",\"AGAP006227\",\"AGAP006228 | COEAE2F\",\"AGAP006222\",\"AGAP006227\",\"AGAP006228 | COEAE2F\",\"AGAP006222\"],\"y0\":\" \",\"yaxis\":\"y\",\"type\":\"box\"}],                        {\"template\":{\"data\":{\"barpolar\":[{\"marker\":{\"line\":{\"color\":\"rgb(237,237,237)\",\"width\":0.5},\"pattern\":{\"fillmode\":\"overlay\",\"size\":10,\"solidity\":0.2}},\"type\":\"barpolar\"}],\"bar\":[{\"error_x\":{\"color\":\"rgb(51,51,51)\"},\"error_y\":{\"color\":\"rgb(51,51,51)\"},\"marker\":{\"line\":{\"color\":\"rgb(237,237,237)\",\"width\":0.5},\"pattern\":{\"fillmode\":\"overlay\",\"size\":10,\"solidity\":0.2}},\"type\":\"bar\"}],\"carpet\":[{\"aaxis\":{\"endlinecolor\":\"rgb(51,51,51)\",\"gridcolor\":\"white\",\"linecolor\":\"white\",\"minorgridcolor\":\"white\",\"startlinecolor\":\"rgb(51,51,51)\"},\"baxis\":{\"endlinecolor\":\"rgb(51,51,51)\",\"gridcolor\":\"white\",\"linecolor\":\"white\",\"minorgridcolor\":\"white\",\"startlinecolor\":\"rgb(51,51,51)\"},\"type\":\"carpet\"}],\"choropleth\":[{\"colorbar\":{\"outlinewidth\":0,\"tickcolor\":\"rgb(237,237,237)\",\"ticklen\":6,\"ticks\":\"inside\"},\"type\":\"choropleth\"}],\"contourcarpet\":[{\"colorbar\":{\"outlinewidth\":0,\"tickcolor\":\"rgb(237,237,237)\",\"ticklen\":6,\"ticks\":\"inside\"},\"type\":\"contourcarpet\"}],\"contour\":[{\"colorbar\":{\"outlinewidth\":0,\"tickcolor\":\"rgb(237,237,237)\",\"ticklen\":6,\"ticks\":\"inside\"},\"colorscale\":[[0,\"rgb(20,44,66)\"],[1,\"rgb(90,179,244)\"]],\"type\":\"contour\"}],\"heatmapgl\":[{\"colorbar\":{\"outlinewidth\":0,\"tickcolor\":\"rgb(237,237,237)\",\"ticklen\":6,\"ticks\":\"inside\"},\"colorscale\":[[0,\"rgb(20,44,66)\"],[1,\"rgb(90,179,244)\"]],\"type\":\"heatmapgl\"}],\"heatmap\":[{\"colorbar\":{\"outlinewidth\":0,\"tickcolor\":\"rgb(237,237,237)\",\"ticklen\":6,\"ticks\":\"inside\"},\"colorscale\":[[0,\"rgb(20,44,66)\"],[1,\"rgb(90,179,244)\"]],\"type\":\"heatmap\"}],\"histogram2dcontour\":[{\"colorbar\":{\"outlinewidth\":0,\"tickcolor\":\"rgb(237,237,237)\",\"ticklen\":6,\"ticks\":\"inside\"},\"colorscale\":[[0,\"rgb(20,44,66)\"],[1,\"rgb(90,179,244)\"]],\"type\":\"histogram2dcontour\"}],\"histogram2d\":[{\"colorbar\":{\"outlinewidth\":0,\"tickcolor\":\"rgb(237,237,237)\",\"ticklen\":6,\"ticks\":\"inside\"},\"colorscale\":[[0,\"rgb(20,44,66)\"],[1,\"rgb(90,179,244)\"]],\"type\":\"histogram2d\"}],\"histogram\":[{\"marker\":{\"pattern\":{\"fillmode\":\"overlay\",\"size\":10,\"solidity\":0.2}},\"type\":\"histogram\"}],\"mesh3d\":[{\"colorbar\":{\"outlinewidth\":0,\"tickcolor\":\"rgb(237,237,237)\",\"ticklen\":6,\"ticks\":\"inside\"},\"type\":\"mesh3d\"}],\"parcoords\":[{\"line\":{\"colorbar\":{\"outlinewidth\":0,\"tickcolor\":\"rgb(237,237,237)\",\"ticklen\":6,\"ticks\":\"inside\"}},\"type\":\"parcoords\"}],\"pie\":[{\"automargin\":true,\"type\":\"pie\"}],\"scatter3d\":[{\"line\":{\"colorbar\":{\"outlinewidth\":0,\"tickcolor\":\"rgb(237,237,237)\",\"ticklen\":6,\"ticks\":\"inside\"}},\"marker\":{\"colorbar\":{\"outlinewidth\":0,\"tickcolor\":\"rgb(237,237,237)\",\"ticklen\":6,\"ticks\":\"inside\"}},\"type\":\"scatter3d\"}],\"scattercarpet\":[{\"marker\":{\"colorbar\":{\"outlinewidth\":0,\"tickcolor\":\"rgb(237,237,237)\",\"ticklen\":6,\"ticks\":\"inside\"}},\"type\":\"scattercarpet\"}],\"scattergeo\":[{\"marker\":{\"colorbar\":{\"outlinewidth\":0,\"tickcolor\":\"rgb(237,237,237)\",\"ticklen\":6,\"ticks\":\"inside\"}},\"type\":\"scattergeo\"}],\"scattergl\":[{\"marker\":{\"colorbar\":{\"outlinewidth\":0,\"tickcolor\":\"rgb(237,237,237)\",\"ticklen\":6,\"ticks\":\"inside\"}},\"type\":\"scattergl\"}],\"scattermapbox\":[{\"marker\":{\"colorbar\":{\"outlinewidth\":0,\"tickcolor\":\"rgb(237,237,237)\",\"ticklen\":6,\"ticks\":\"inside\"}},\"type\":\"scattermapbox\"}],\"scatterpolargl\":[{\"marker\":{\"colorbar\":{\"outlinewidth\":0,\"tickcolor\":\"rgb(237,237,237)\",\"ticklen\":6,\"ticks\":\"inside\"}},\"type\":\"scatterpolargl\"}],\"scatterpolar\":[{\"marker\":{\"colorbar\":{\"outlinewidth\":0,\"tickcolor\":\"rgb(237,237,237)\",\"ticklen\":6,\"ticks\":\"inside\"}},\"type\":\"scatterpolar\"}],\"scatter\":[{\"marker\":{\"colorbar\":{\"outlinewidth\":0,\"tickcolor\":\"rgb(237,237,237)\",\"ticklen\":6,\"ticks\":\"inside\"}},\"type\":\"scatter\"}],\"scatterternary\":[{\"marker\":{\"colorbar\":{\"outlinewidth\":0,\"tickcolor\":\"rgb(237,237,237)\",\"ticklen\":6,\"ticks\":\"inside\"}},\"type\":\"scatterternary\"}],\"surface\":[{\"colorbar\":{\"outlinewidth\":0,\"tickcolor\":\"rgb(237,237,237)\",\"ticklen\":6,\"ticks\":\"inside\"},\"colorscale\":[[0,\"rgb(20,44,66)\"],[1,\"rgb(90,179,244)\"]],\"type\":\"surface\"}],\"table\":[{\"cells\":{\"fill\":{\"color\":\"rgb(237,237,237)\"},\"line\":{\"color\":\"white\"}},\"header\":{\"fill\":{\"color\":\"rgb(217,217,217)\"},\"line\":{\"color\":\"white\"}},\"type\":\"table\"}]},\"layout\":{\"annotationdefaults\":{\"arrowhead\":0,\"arrowwidth\":1},\"autotypenumbers\":\"strict\",\"coloraxis\":{\"colorbar\":{\"outlinewidth\":0,\"tickcolor\":\"rgb(237,237,237)\",\"ticklen\":6,\"ticks\":\"inside\"}},\"colorscale\":{\"sequential\":[[0,\"rgb(20,44,66)\"],[1,\"rgb(90,179,244)\"]],\"sequentialminus\":[[0,\"rgb(20,44,66)\"],[1,\"rgb(90,179,244)\"]]},\"colorway\":[\"#F8766D\",\"#A3A500\",\"#00BF7D\",\"#00B0F6\",\"#E76BF3\"],\"font\":{\"color\":\"rgb(51,51,51)\"},\"geo\":{\"bgcolor\":\"white\",\"lakecolor\":\"white\",\"landcolor\":\"rgb(237,237,237)\",\"showlakes\":true,\"showland\":true,\"subunitcolor\":\"white\"},\"hoverlabel\":{\"align\":\"left\"},\"hovermode\":\"closest\",\"paper_bgcolor\":\"white\",\"plot_bgcolor\":\"rgb(237,237,237)\",\"polar\":{\"angularaxis\":{\"gridcolor\":\"white\",\"linecolor\":\"white\",\"showgrid\":true,\"tickcolor\":\"rgb(51,51,51)\",\"ticks\":\"outside\"},\"bgcolor\":\"rgb(237,237,237)\",\"radialaxis\":{\"gridcolor\":\"white\",\"linecolor\":\"white\",\"showgrid\":true,\"tickcolor\":\"rgb(51,51,51)\",\"ticks\":\"outside\"}},\"scene\":{\"xaxis\":{\"backgroundcolor\":\"rgb(237,237,237)\",\"gridcolor\":\"white\",\"gridwidth\":2,\"linecolor\":\"white\",\"showbackground\":true,\"showgrid\":true,\"tickcolor\":\"rgb(51,51,51)\",\"ticks\":\"outside\",\"zerolinecolor\":\"white\"},\"yaxis\":{\"backgroundcolor\":\"rgb(237,237,237)\",\"gridcolor\":\"white\",\"gridwidth\":2,\"linecolor\":\"white\",\"showbackground\":true,\"showgrid\":true,\"tickcolor\":\"rgb(51,51,51)\",\"ticks\":\"outside\",\"zerolinecolor\":\"white\"},\"zaxis\":{\"backgroundcolor\":\"rgb(237,237,237)\",\"gridcolor\":\"white\",\"gridwidth\":2,\"linecolor\":\"white\",\"showbackground\":true,\"showgrid\":true,\"tickcolor\":\"rgb(51,51,51)\",\"ticks\":\"outside\",\"zerolinecolor\":\"white\"}},\"shapedefaults\":{\"fillcolor\":\"black\",\"line\":{\"width\":0},\"opacity\":0.3},\"ternary\":{\"aaxis\":{\"gridcolor\":\"white\",\"linecolor\":\"white\",\"showgrid\":true,\"tickcolor\":\"rgb(51,51,51)\",\"ticks\":\"outside\"},\"baxis\":{\"gridcolor\":\"white\",\"linecolor\":\"white\",\"showgrid\":true,\"tickcolor\":\"rgb(51,51,51)\",\"ticks\":\"outside\"},\"bgcolor\":\"rgb(237,237,237)\",\"caxis\":{\"gridcolor\":\"white\",\"linecolor\":\"white\",\"showgrid\":true,\"tickcolor\":\"rgb(51,51,51)\",\"ticks\":\"outside\"}},\"xaxis\":{\"automargin\":true,\"gridcolor\":\"white\",\"linecolor\":\"white\",\"showgrid\":true,\"tickcolor\":\"rgb(51,51,51)\",\"ticks\":\"outside\",\"title\":{\"standoff\":15},\"zerolinecolor\":\"white\"},\"yaxis\":{\"automargin\":true,\"gridcolor\":\"white\",\"linecolor\":\"white\",\"showgrid\":true,\"tickcolor\":\"rgb(51,51,51)\",\"ticks\":\"outside\",\"title\":{\"standoff\":15},\"zerolinecolor\":\"white\"}}},\"xaxis\":{\"anchor\":\"y\",\"domain\":[0.0,1.0],\"title\":{\"text\":\"log2 Fold Change\"},\"range\":[-4,6]},\"yaxis\":{\"anchor\":\"x\",\"domain\":[0.0,1.0],\"title\":{\"text\":\"Gene\"}},\"legend\":{\"title\":{\"text\":\"species\"},\"tracegroupgap\":0},\"title\":{\"text\":\"Coeae1f\",\"font\":{\"size\":20}},\"boxmode\":\"group\",\"height\":300,\"width\":1000,\"shapes\":[{\"line\":{\"color\":\"grey\",\"dash\":\"dash\",\"width\":1},\"type\":\"line\",\"x0\":0,\"x1\":0,\"xref\":\"x\",\"y0\":0,\"y1\":1,\"yref\":\"y domain\"}]},                        {\"responsive\": true}                    ).then(function(){\n",
              "                            \n",
              "var gd = document.getElementById('153b3b2a-956e-4d1c-a293-5a3faa9bc316');\n",
              "var x = new MutationObserver(function (mutations, observer) {{\n",
              "        var display = window.getComputedStyle(gd).display;\n",
              "        if (!display || display === 'none') {{\n",
              "            console.log([gd, 'removed!']);\n",
              "            Plotly.purge(gd);\n",
              "            observer.disconnect();\n",
              "        }}\n",
              "}});\n",
              "\n",
              "// Listen for the removal of the full notebook cells\n",
              "var notebookContainer = gd.closest('#notebook-container');\n",
              "if (notebookContainer) {{\n",
              "    x.observe(notebookContainer, {childList: true});\n",
              "}}\n",
              "\n",
              "// Listen for the clearing of the current output cell\n",
              "var outputEl = gd.closest('.output');\n",
              "if (outputEl) {{\n",
              "    x.observe(outputEl, {childList: true});\n",
              "}}\n",
              "\n",
              "                        })                };                            </script>        </div>\n",
              "</body>\n",
              "</html>"
            ]
          },
          "metadata": {}
        }
      ],
      "source": [
        "plotly_gene_fcs(gene_id=[\"AGAP006222\", \"AGAP006227\", \"AGAP006228\"], sort_by='median', title=\"Coeae1f\", plot_type='boxplot', height=300)"
      ]
    }
  ],
  "metadata": {
    "colab": {
      "provenance": [],
      "include_colab_link": true
    },
    "kernelspec": {
      "display_name": "Python 3 (ipykernel)",
      "language": "python",
      "name": "python3"
    },
    "language_info": {
      "codemirror_mode": {
        "name": "ipython",
        "version": 3
      },
      "file_extension": ".py",
      "mimetype": "text/x-python",
      "name": "python",
      "nbconvert_exporter": "python",
      "pygments_lexer": "ipython3",
      "version": "3.7.13"
    }
  },
  "nbformat": 4,
  "nbformat_minor": 5
}