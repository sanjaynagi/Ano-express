{
  "cells": [
    {
      "cell_type": "markdown",
      "metadata": {
        "colab_type": "text",
        "id": "view-in-github"
      },
      "source": [
        "<a href=\"https://colab.research.google.com/github/sanjaynagi/Ano-express/blob/main/workflow/notebooks/plot-gene-expression.ipynb\" target=\"_parent\"><img src=\"https://colab.research.google.com/assets/colab-badge.svg\" alt=\"Open In Colab\"/></a>"
      ]
    },
    {
      "cell_type": "code",
      "execution_count": null,
      "id": "92Gw-H6qw1Ou",
      "metadata": {
        "id": "92Gw-H6qw1Ou"
      },
      "outputs": [],
      "source": [
        "!pip install anoexpress -q"
      ]
    },
    {
      "cell_type": "markdown",
      "id": "UGVmVYr89T7i",
      "metadata": {
        "id": "UGVmVYr89T7i"
      },
      "source": [
        "![image](https://raw.githubusercontent.com/sanjaynagi/ano-expressir/main/docs/logo.png) \n"
      ]
    },
    {
      "cell_type": "code",
      "execution_count": 1,
      "id": "H68MfuqBOWiH",
      "metadata": {
        "id": "H68MfuqBOWiH"
      },
      "outputs": [],
      "source": [
        "import anoexpress as xpress"
      ]
    },
    {
      "cell_type": "code",
      "execution_count": 2,
      "id": "GdM1MG4woktQ",
      "metadata": {
        "cellView": "form",
        "colab": {
          "base_uri": "https://localhost:8080/",
          "height": 317
        },
        "id": "GdM1MG4woktQ",
        "outputId": "5c361f0f-13a6-4a35-9cf4-63e0e1331db0"
      },
      "outputs": [
        {
          "data": {
            "application/vnd.plotly.v1+json": {
              "config": {
                "plotlyServerURL": "https://plot.ly"
              },
              "data": [
                {
                  "alignmentgroup": "True",
                  "boxpoints": "all",
                  "customdata": [
                    [
                      "Tiefora",
                      "Ngousso",
                      "coluzzii",
                      "Burkina Faso",
                      "rnaseq"
                    ],
                    [
                      "Ban",
                      "BanS",
                      "coluzzii",
                      "Burkina Faso",
                      "rnaseq"
                    ],
                    [
                      "BanRe",
                      "BanS",
                      "coluzzii",
                      "Burkina Faso",
                      "rnaseq"
                    ],
                    [
                      "VK7",
                      "Kisumu",
                      "coluzzii",
                      "Burkina Faso",
                      "rnaseq"
                    ],
                    [
                      "Cameroon",
                      "Ngousso",
                      "coluzzii",
                      "Cameroon",
                      "rnaseq"
                    ],
                    [
                      "Chad",
                      "Ngousso",
                      "coluzzii",
                      "Chad",
                      "rnaseq"
                    ],
                    [
                      "Niger",
                      "Ngousso",
                      "coluzzii",
                      "Niger",
                      "rnaseq"
                    ],
                    [
                      "Nigeria",
                      "Ngousso",
                      "coluzzii",
                      "Nigeria",
                      "rnaseq"
                    ],
                    [
                      "Agboville",
                      "Mali",
                      "coluzzii",
                      "Cote d'Ivoire",
                      "rnaseq"
                    ],
                    [
                      "Agboville",
                      "Ngousso",
                      "coluzzii",
                      "Cote d'Ivoire",
                      "rnaseq"
                    ],
                    [
                      "Dabou",
                      "Mali",
                      "coluzzii",
                      "Cote d'Ivoire",
                      "rnaseq"
                    ],
                    [
                      "Dabou",
                      "Ngousso",
                      "coluzzii",
                      "Cote d'Ivoire",
                      "rnaseq"
                    ],
                    [
                      "Tiassale",
                      "Mali",
                      "coluzzii",
                      "Cote d'Ivoire",
                      "rnaseq"
                    ],
                    [
                      "Tiassale",
                      "Ngousso",
                      "coluzzii",
                      "Cote d'Ivoire",
                      "rnaseq"
                    ],
                    [
                      "Bouake_colu_unexp",
                      "Ngousso",
                      "coluzzii",
                      "Cote d'Ivoire",
                      "rnaseq"
                    ],
                    [
                      "Garre",
                      "Ngousso",
                      "coluzzii",
                      "Cameroon",
                      "microarray"
                    ],
                    [
                      "Messa",
                      "Ngousso",
                      "coluzzii",
                      "Cameroon",
                      "microarray"
                    ],
                    [
                      "Bioko",
                      "Ngousso",
                      "coluzzii",
                      "Equatorial Guinea",
                      "microarray"
                    ],
                    [
                      "Bouake",
                      "Ngousso",
                      "coluzzii",
                      "Cote d'Ivoire",
                      "microarray"
                    ],
                    [
                      "MBe",
                      "Ngousso",
                      "coluzzii",
                      "Cote d'Ivoire",
                      "microarray"
                    ],
                    [
                      "Tiassale",
                      "Ngousso",
                      "coluzzii",
                      "Cote d'Ivoire",
                      "microarray"
                    ],
                    [
                      "VK6",
                      "Ngousso",
                      "coluzzii",
                      "Burkina Faso",
                      "microarray"
                    ],
                    [
                      "Banfora",
                      "Ngousso",
                      "coluzzii",
                      "Burkina Faso",
                      "microarray"
                    ],
                    [
                      "Tengrela",
                      "Mali",
                      "coluzzii",
                      "Burkina Faso",
                      "microarray"
                    ],
                    [
                      "VK72012",
                      "Ngousso",
                      "coluzzii",
                      "Burkina Faso",
                      "microarray"
                    ],
                    [
                      "VK72011",
                      "Mali",
                      "coluzzii",
                      "Burkina Faso",
                      "microarray"
                    ],
                    [
                      "TiassaleMali",
                      "Mali",
                      "coluzzii",
                      "Cote d'Ivoire",
                      "microarray"
                    ],
                    [
                      "TiassaleOkyero",
                      "Okyero",
                      "coluzzii",
                      "Cote d'Ivoire",
                      "microarray"
                    ],
                    [
                      "Tiassale2011",
                      "Ngousso",
                      "coluzzii",
                      "Cote d'Ivoire",
                      "microarray"
                    ],
                    [
                      "KovieOkyero",
                      "Okyero",
                      "coluzzii",
                      "Togo",
                      "microarray"
                    ],
                    [
                      "KovieMalanville",
                      "Malanville",
                      "coluzzii",
                      "Togo",
                      "microarray"
                    ]
                  ],
                  "fillcolor": "rgba(255,255,255,0)",
                  "hoveron": "points",
                  "hovertemplate": "species=%{customdata[2]}<br>log2FC=%{x}<br>Label=%{y}<br>resistant=%{customdata[0]}<br>susceptible=%{customdata[1]}<br>country=%{customdata[3]}<br>technology=%{customdata[4]}<extra></extra>",
                  "legendgroup": "coluzzii",
                  "line": {
                    "color": "rgba(255,255,255,0)"
                  },
                  "marker": {
                    "color": "#A3A500"
                  },
                  "name": "coluzzii",
                  "offsetgroup": "coluzzii",
                  "orientation": "h",
                  "pointpos": 0,
                  "showlegend": true,
                  "type": "box",
                  "x": [
                    4.26,
                    1.36,
                    -0.76,
                    3.9,
                    1.26,
                    1.87,
                    0.41,
                    -0.32,
                    3.82,
                    5.98,
                    4.07,
                    6.22,
                    4.28,
                    6.45,
                    5.19,
                    1.902519995014761,
                    2.487898341893484,
                    0.1657573435083297,
                    1.2758677888456804,
                    0.9197405214858364,
                    2.558740475730341,
                    1.43932086114851,
                    1.6275113657936109,
                    1.0984976541878648,
                    1.4479298059307395,
                    0.6469234912724997,
                    1.0321204024870922,
                    3.205854818252048,
                    4.127985184652435,
                    1.4631052843210215,
                    0.0252108355234158
                  ],
                  "x0": " ",
                  "xaxis": "x",
                  "y": [
                    "AGAP002865 | CYP6P3",
                    "AGAP002865 | CYP6P3",
                    "AGAP002865 | CYP6P3",
                    "AGAP002865 | CYP6P3",
                    "AGAP002865 | CYP6P3",
                    "AGAP002865 | CYP6P3",
                    "AGAP002865 | CYP6P3",
                    "AGAP002865 | CYP6P3",
                    "AGAP002865 | CYP6P3",
                    "AGAP002865 | CYP6P3",
                    "AGAP002865 | CYP6P3",
                    "AGAP002865 | CYP6P3",
                    "AGAP002865 | CYP6P3",
                    "AGAP002865 | CYP6P3",
                    "AGAP002865 | CYP6P3",
                    "AGAP002865 | CYP6P3",
                    "AGAP002865 | CYP6P3",
                    "AGAP002865 | CYP6P3",
                    "AGAP002865 | CYP6P3",
                    "AGAP002865 | CYP6P3",
                    "AGAP002865 | CYP6P3",
                    "AGAP002865 | CYP6P3",
                    "AGAP002865 | CYP6P3",
                    "AGAP002865 | CYP6P3",
                    "AGAP002865 | CYP6P3",
                    "AGAP002865 | CYP6P3",
                    "AGAP002865 | CYP6P3",
                    "AGAP002865 | CYP6P3",
                    "AGAP002865 | CYP6P3",
                    "AGAP002865 | CYP6P3",
                    "AGAP002865 | CYP6P3"
                  ],
                  "y0": " ",
                  "yaxis": "y"
                },
                {
                  "alignmentgroup": "True",
                  "boxpoints": "all",
                  "customdata": [
                    [
                      "Gou",
                      "Moz",
                      "arabiensis",
                      "Burkina Faso",
                      "rnaseq"
                    ],
                    [
                      "Asendabo",
                      "Moz",
                      "arabiensis",
                      "Ethiopia",
                      "rnaseq"
                    ],
                    [
                      "Chewaka",
                      "Moz",
                      "arabiensis",
                      "Ethiopia",
                      "rnaseq"
                    ],
                    [
                      "Tolay",
                      "Moz",
                      "arabiensis",
                      "Ethiopia",
                      "rnaseq"
                    ],
                    [
                      "Ethiopia",
                      "Dongola",
                      "arabiensis",
                      "Ethiopia",
                      "rnaseq"
                    ],
                    [
                      "PembaMoz",
                      "Moz",
                      "arabiensis",
                      "Tanzania",
                      "microarray"
                    ],
                    [
                      "PembaUnguja",
                      "Unguja",
                      "arabiensis",
                      "Tanzania",
                      "microarray"
                    ],
                    [
                      "PembaDar",
                      "Dar",
                      "arabiensis",
                      "Tanzania",
                      "microarray"
                    ],
                    [
                      "WadMedani",
                      "Medani",
                      "arabiensis",
                      "Sudan",
                      "microarray"
                    ],
                    [
                      "JinjaMoz",
                      "Moz",
                      "arabiensis",
                      "Uganda",
                      "microarray"
                    ],
                    [
                      "JinjaDong",
                      "Dong",
                      "arabiensis",
                      "Uganda",
                      "microarray"
                    ],
                    [
                      "DSSBA",
                      "Moz",
                      "arabiensis",
                      "Burkina Faso",
                      "microarray"
                    ],
                    [
                      "Hai",
                      "Ifakara",
                      "arabiensis",
                      "Tanzania",
                      "microarray"
                    ],
                    [
                      "Muheza",
                      "Ifakara",
                      "arabiensis",
                      "Tanzania",
                      "microarray"
                    ],
                    [
                      "Dar",
                      "Ifakara",
                      "arabiensis",
                      "Tanzania",
                      "microarray"
                    ]
                  ],
                  "fillcolor": "rgba(255,255,255,0)",
                  "hoveron": "points",
                  "hovertemplate": "species=%{customdata[2]}<br>log2FC=%{x}<br>Label=%{y}<br>resistant=%{customdata[0]}<br>susceptible=%{customdata[1]}<br>country=%{customdata[3]}<br>technology=%{customdata[4]}<extra></extra>",
                  "legendgroup": "arabiensis",
                  "line": {
                    "color": "rgba(255,255,255,0)"
                  },
                  "marker": {
                    "color": "#00BF7D"
                  },
                  "name": "arabiensis",
                  "offsetgroup": "arabiensis",
                  "orientation": "h",
                  "pointpos": 0,
                  "showlegend": true,
                  "type": "box",
                  "x": [
                    1.07,
                    2.41,
                    4.7,
                    2.85,
                    0.47,
                    -0.0678814539366663,
                    -0.1140083619814819,
                    -2.295171867586068,
                    2.749948679573218,
                    1.4137224756067273,
                    -0.5366425850266472,
                    -0.1979811361013063,
                    0.4202515163161364,
                    0.4160120102936025,
                    2.170398769776128
                  ],
                  "x0": " ",
                  "xaxis": "x",
                  "y": [
                    "AGAP002865 | CYP6P3",
                    "AGAP002865 | CYP6P3",
                    "AGAP002865 | CYP6P3",
                    "AGAP002865 | CYP6P3",
                    "AGAP002865 | CYP6P3",
                    "AGAP002865 | CYP6P3",
                    "AGAP002865 | CYP6P3",
                    "AGAP002865 | CYP6P3",
                    "AGAP002865 | CYP6P3",
                    "AGAP002865 | CYP6P3",
                    "AGAP002865 | CYP6P3",
                    "AGAP002865 | CYP6P3",
                    "AGAP002865 | CYP6P3",
                    "AGAP002865 | CYP6P3",
                    "AGAP002865 | CYP6P3"
                  ],
                  "y0": " ",
                  "yaxis": "y"
                },
                {
                  "alignmentgroup": "True",
                  "boxpoints": "all",
                  "customdata": [
                    [
                      "Bak",
                      "Kisumu",
                      "gambiae",
                      "Burkina Faso",
                      "rnaseq"
                    ],
                    [
                      "Bouake_gamb_unexp",
                      "Kisumu",
                      "gambiae",
                      "Cote d'Ivoire",
                      "rnaseq"
                    ],
                    [
                      "BusiaSurvivors",
                      "Kisumu",
                      "gambiae",
                      "Uganda",
                      "rnaseq"
                    ],
                    [
                      "Nkolondom",
                      "Kisumu",
                      "gambiae",
                      "Cameroon",
                      "microarray"
                    ],
                    [
                      "Kitwe",
                      "Kisumu",
                      "gambiae",
                      "Zambia",
                      "microarray"
                    ],
                    [
                      "Tiefora13",
                      "Kisumu",
                      "gambiae",
                      "Burkina Faso",
                      "microarray"
                    ],
                    [
                      "Tiefora14",
                      "Kisumu",
                      "gambiae",
                      "Burkina Faso",
                      "microarray"
                    ],
                    [
                      "Youande",
                      "Kisumu",
                      "gambiae",
                      "Cameroon",
                      "microarray"
                    ]
                  ],
                  "fillcolor": "rgba(255,255,255,0)",
                  "hoveron": "points",
                  "hovertemplate": "species=%{customdata[2]}<br>log2FC=%{x}<br>Label=%{y}<br>resistant=%{customdata[0]}<br>susceptible=%{customdata[1]}<br>country=%{customdata[3]}<br>technology=%{customdata[4]}<extra></extra>",
                  "legendgroup": "gambiae",
                  "line": {
                    "color": "rgba(255,255,255,0)"
                  },
                  "marker": {
                    "color": "#00B0F6"
                  },
                  "name": "gambiae",
                  "offsetgroup": "gambiae",
                  "orientation": "h",
                  "pointpos": 0,
                  "showlegend": true,
                  "type": "box",
                  "x": [
                    2.03,
                    1,
                    -3.39,
                    0.8885600790392147,
                    1.226598081553263,
                    1.5922918948791742,
                    1.5267095931271764,
                    1.6082099241512062
                  ],
                  "x0": " ",
                  "xaxis": "x",
                  "y": [
                    "AGAP002865 | CYP6P3",
                    "AGAP002865 | CYP6P3",
                    "AGAP002865 | CYP6P3",
                    "AGAP002865 | CYP6P3",
                    "AGAP002865 | CYP6P3",
                    "AGAP002865 | CYP6P3",
                    "AGAP002865 | CYP6P3",
                    "AGAP002865 | CYP6P3"
                  ],
                  "y0": " ",
                  "yaxis": "y"
                },
                {
                  "alignmentgroup": "True",
                  "boxpoints": "all",
                  "customdata": [
                    [
                      "Cam_fun",
                      "Fang",
                      "funestus",
                      "Cameroon",
                      "rnaseq"
                    ],
                    [
                      "Fumoz",
                      "Fang",
                      "funestus",
                      "Mozambique",
                      "rnaseq"
                    ],
                    [
                      "Ghana_fun",
                      "Fang",
                      "funestus",
                      "Ghana",
                      "rnaseq"
                    ],
                    [
                      "Malawi_fun",
                      "Fang",
                      "funestus",
                      "Malawi",
                      "rnaseq"
                    ],
                    [
                      "Uganda_fun",
                      "Fang",
                      "funestus",
                      "Uganda",
                      "rnaseq"
                    ]
                  ],
                  "fillcolor": "rgba(255,255,255,0)",
                  "hoveron": "points",
                  "hovertemplate": "species=%{customdata[2]}<br>log2FC=%{x}<br>Label=%{y}<br>resistant=%{customdata[0]}<br>susceptible=%{customdata[1]}<br>country=%{customdata[3]}<br>technology=%{customdata[4]}<extra></extra>",
                  "legendgroup": "funestus",
                  "line": {
                    "color": "rgba(255,255,255,0)"
                  },
                  "marker": {
                    "color": "#E76BF3"
                  },
                  "name": "funestus",
                  "offsetgroup": "funestus",
                  "orientation": "h",
                  "pointpos": 0,
                  "showlegend": true,
                  "type": "box",
                  "x": [
                    1.46,
                    5.19,
                    3.58,
                    5.44,
                    2.61
                  ],
                  "x0": " ",
                  "xaxis": "x",
                  "y": [
                    "AGAP002865 | CYP6P3",
                    "AGAP002865 | CYP6P3",
                    "AGAP002865 | CYP6P3",
                    "AGAP002865 | CYP6P3",
                    "AGAP002865 | CYP6P3"
                  ],
                  "y0": " ",
                  "yaxis": "y"
                },
                {
                  "alignmentgroup": "True",
                  "boxpoints": "all",
                  "customdata": [
                    [
                      "Tie1",
                      "coluzzii",
                      "Burkina Faso"
                    ],
                    [
                      "Tie2",
                      "coluzzii",
                      "Burkina Faso"
                    ],
                    [
                      "Tie3",
                      "coluzzii",
                      "Burkina Faso"
                    ],
                    [
                      "Ban1",
                      "coluzzii",
                      "Burkina Faso"
                    ],
                    [
                      "Ban2",
                      "coluzzii",
                      "Burkina Faso"
                    ],
                    [
                      "Ban3",
                      "coluzzii",
                      "Burkina Faso"
                    ],
                    [
                      "Ban4",
                      "coluzzii",
                      "Burkina Faso"
                    ],
                    [
                      "VK71",
                      "coluzzii",
                      "Burkina Faso"
                    ],
                    [
                      "VK72",
                      "coluzzii",
                      "Burkina Faso"
                    ],
                    [
                      "VK73",
                      "coluzzii",
                      "Burkina Faso"
                    ],
                    [
                      "VK74",
                      "coluzzii",
                      "Burkina Faso"
                    ],
                    [
                      "BanRe1",
                      "coluzzii",
                      "Burkina Faso"
                    ],
                    [
                      "BanRe2",
                      "coluzzii",
                      "Burkina Faso"
                    ],
                    [
                      "BanRe3",
                      "coluzzii",
                      "Burkina Faso"
                    ],
                    [
                      "BanRe4",
                      "coluzzii",
                      "Burkina Faso"
                    ],
                    [
                      "Chad1",
                      "coluzzii",
                      "Chad"
                    ],
                    [
                      "Chad2",
                      "coluzzii",
                      "Chad"
                    ],
                    [
                      "Chad3",
                      "coluzzii",
                      "Chad"
                    ],
                    [
                      "Chad4",
                      "coluzzii",
                      "Chad"
                    ],
                    [
                      "Chad5",
                      "coluzzii",
                      "Chad"
                    ],
                    [
                      "Chad6",
                      "coluzzii",
                      "Chad"
                    ],
                    [
                      "Nigeria1",
                      "coluzzii",
                      "Nigeria"
                    ],
                    [
                      "Nigeria2",
                      "coluzzii",
                      "Nigeria"
                    ],
                    [
                      "Nigeria3",
                      "coluzzii",
                      "Nigeria"
                    ],
                    [
                      "Nigeria4",
                      "coluzzii",
                      "Nigeria"
                    ],
                    [
                      "Nigeria5",
                      "coluzzii",
                      "Nigeria"
                    ],
                    [
                      "Nigeria6",
                      "coluzzii",
                      "Nigeria"
                    ],
                    [
                      "Cameroon1",
                      "coluzzii",
                      "Cameroon"
                    ],
                    [
                      "Cameroon2",
                      "coluzzii",
                      "Cameroon"
                    ],
                    [
                      "Cameroon3",
                      "coluzzii",
                      "Cameroon"
                    ],
                    [
                      "Cameroon4",
                      "coluzzii",
                      "Cameroon"
                    ],
                    [
                      "Cameroon5",
                      "coluzzii",
                      "Cameroon"
                    ],
                    [
                      "Niger1",
                      "coluzzii",
                      "Niger"
                    ],
                    [
                      "Niger2",
                      "coluzzii",
                      "Niger"
                    ],
                    [
                      "Niger3",
                      "coluzzii",
                      "Niger"
                    ],
                    [
                      "Niger4",
                      "coluzzii",
                      "Niger"
                    ],
                    [
                      "Niger5",
                      "coluzzii",
                      "Niger"
                    ],
                    [
                      "Niger6",
                      "coluzzii",
                      "Niger"
                    ],
                    [
                      "NG_Jess1",
                      "coluzzii",
                      "Cameroon"
                    ],
                    [
                      "NG_Jess2",
                      "coluzzii",
                      "Cameroon"
                    ],
                    [
                      "NG_Jess3",
                      "coluzzii",
                      "Cameroon"
                    ],
                    [
                      "BanS1",
                      "coluzzii",
                      "BanS"
                    ],
                    [
                      "BanS2",
                      "coluzzii",
                      "BanS"
                    ],
                    [
                      "BanS3",
                      "coluzzii",
                      "BanS"
                    ],
                    [
                      "BanS4",
                      "coluzzii",
                      "BanS"
                    ],
                    [
                      "NG_Crete1",
                      "coluzzii",
                      "Cameroon"
                    ],
                    [
                      "NG_Crete2",
                      "coluzzii",
                      "Cameroon"
                    ],
                    [
                      "NG_Crete3",
                      "coluzzii",
                      "Cameroon"
                    ],
                    [
                      "NG_Sul1",
                      "coluzzii",
                      "Cameroon"
                    ],
                    [
                      "NG_Sul2",
                      "coluzzii",
                      "Cameroon"
                    ],
                    [
                      "NG_Sul3",
                      "coluzzii",
                      "Cameroon"
                    ],
                    [
                      "Agboville1",
                      "coluzzii",
                      "Cote d'Ivoire"
                    ],
                    [
                      "Agboville2",
                      "coluzzii",
                      "Cote d'Ivoire"
                    ],
                    [
                      "Agboville3",
                      "coluzzii",
                      "Cote d'Ivoire"
                    ],
                    [
                      "Agboville4",
                      "coluzzii",
                      "Cote d'Ivoire"
                    ],
                    [
                      "Agboville5",
                      "coluzzii",
                      "Cote d'Ivoire"
                    ],
                    [
                      "Agboville6",
                      "coluzzii",
                      "Cote d'Ivoire"
                    ],
                    [
                      "Agboville7",
                      "coluzzii",
                      "Cote d'Ivoire"
                    ],
                    [
                      "Agboville8",
                      "coluzzii",
                      "Cote d'Ivoire"
                    ],
                    [
                      "Agboville9",
                      "coluzzii",
                      "Cote d'Ivoire"
                    ],
                    [
                      "Dabou1",
                      "coluzzii",
                      "Cote d'Ivoire"
                    ],
                    [
                      "Dabou2",
                      "coluzzii",
                      "Cote d'Ivoire"
                    ],
                    [
                      "Dabou3",
                      "coluzzii",
                      "Cote d'Ivoire"
                    ],
                    [
                      "Dabou4",
                      "coluzzii",
                      "Cote d'Ivoire"
                    ],
                    [
                      "Dabou5",
                      "coluzzii",
                      "Cote d'Ivoire"
                    ],
                    [
                      "Dabou6",
                      "coluzzii",
                      "Cote d'Ivoire"
                    ],
                    [
                      "Dabou7",
                      "coluzzii",
                      "Cote d'Ivoire"
                    ],
                    [
                      "Dabou8",
                      "coluzzii",
                      "Cote d'Ivoire"
                    ],
                    [
                      "Dabou9",
                      "coluzzii",
                      "Cote d'Ivoire"
                    ],
                    [
                      "Dabou10",
                      "coluzzii",
                      "Cote d'Ivoire"
                    ],
                    [
                      "Tiassale1",
                      "coluzzii",
                      "Cote d'Ivoire"
                    ],
                    [
                      "Tiassale2",
                      "coluzzii",
                      "Cote d'Ivoire"
                    ],
                    [
                      "Tiassale3",
                      "coluzzii",
                      "Cote d'Ivoire"
                    ],
                    [
                      "Tiassale4",
                      "coluzzii",
                      "Cote d'Ivoire"
                    ],
                    [
                      "Tiassale5",
                      "coluzzii",
                      "Cote d'Ivoire"
                    ],
                    [
                      "Tiassale6",
                      "coluzzii",
                      "Cote d'Ivoire"
                    ],
                    [
                      "Tiassale7",
                      "coluzzii",
                      "Cote d'Ivoire"
                    ],
                    [
                      "Tiassale8",
                      "coluzzii",
                      "Cote d'Ivoire"
                    ],
                    [
                      "Tiassale9",
                      "coluzzii",
                      "Cote d'Ivoire"
                    ],
                    [
                      "Tiassale10",
                      "coluzzii",
                      "Cote d'Ivoire"
                    ],
                    [
                      "Ngousso_Wipf1",
                      "coluzzii",
                      "Cameroon"
                    ],
                    [
                      "Ngousso_Wipf2",
                      "coluzzii",
                      "Cameroon"
                    ],
                    [
                      "Ngousso_Wipf3",
                      "coluzzii",
                      "Cameroon"
                    ],
                    [
                      "Ngousso_Wipf4",
                      "coluzzii",
                      "Cameroon"
                    ],
                    [
                      "Ngousso_Wipf5",
                      "coluzzii",
                      "Cameroon"
                    ],
                    [
                      "Mali1",
                      "coluzzii",
                      "Mali"
                    ],
                    [
                      "Mali2",
                      "coluzzii",
                      "Mali"
                    ],
                    [
                      "Mali3",
                      "coluzzii",
                      "Mali"
                    ],
                    [
                      "Mali4",
                      "coluzzii",
                      "Mali"
                    ],
                    [
                      "Mali5",
                      "coluzzii",
                      "Mali"
                    ],
                    [
                      "Bouake_colu_unexp1",
                      "coluzzii",
                      "Cote d'Ivoire"
                    ],
                    [
                      "Bouake_colu_unexp2",
                      "coluzzii",
                      "Cote d'Ivoire"
                    ],
                    [
                      "Bouake_colu_unexp3",
                      "coluzzii",
                      "Cote d'Ivoire"
                    ],
                    [
                      "Bouake_colu_unexp4",
                      "coluzzii",
                      "Cote d'Ivoire"
                    ],
                    [
                      "Bouake_Ngousso1",
                      "coluzzii",
                      "Cameroon"
                    ],
                    [
                      "Bouake_Ngousso2",
                      "coluzzii",
                      "Cameroon"
                    ],
                    [
                      "Bouake_Ngousso3",
                      "coluzzii",
                      "Cameroon"
                    ],
                    [
                      "Bouake_Ngousso4",
                      "coluzzii",
                      "Cameroon"
                    ]
                  ],
                  "fillcolor": "rgba(255,255,255,0)",
                  "hoveron": "points",
                  "hovertemplate": "species=%{customdata[1]}<br>counts=%{x}<br>GeneID=%{y}<br>sampleID=%{customdata[0]}<br>country=%{customdata[2]}<extra></extra>",
                  "legendgroup": "coluzzii",
                  "line": {
                    "color": "rgba(255,255,255,0)"
                  },
                  "marker": {
                    "color": "#F8766D"
                  },
                  "name": "coluzzii",
                  "offsetgroup": "coluzzii",
                  "orientation": "h",
                  "pointpos": 0,
                  "showlegend": false,
                  "type": "box",
                  "x": [
                    315,
                    246,
                    304,
                    280,
                    609,
                    416,
                    338,
                    1380,
                    1418,
                    1243,
                    792,
                    100,
                    72,
                    79,
                    125,
                    2817,
                    3902,
                    3875,
                    184,
                    458,
                    304,
                    278,
                    177,
                    247,
                    1060,
                    508,
                    260,
                    803,
                    1820,
                    989,
                    1209,
                    1380,
                    572,
                    505,
                    372,
                    898,
                    526,
                    1305,
                    21,
                    15,
                    14,
                    156,
                    197,
                    179,
                    105,
                    21,
                    14,
                    14,
                    516,
                    626,
                    440,
                    1872,
                    4905,
                    11994,
                    5221,
                    11113,
                    1872,
                    5008,
                    6517,
                    6427,
                    4360,
                    7538,
                    7643,
                    4513,
                    4673,
                    4545,
                    6889,
                    4421,
                    23494,
                    4640,
                    12944,
                    15181,
                    5442,
                    6427,
                    6208,
                    5595,
                    3104,
                    14462,
                    6081,
                    8135,
                    91,
                    181,
                    113,
                    61,
                    33,
                    505,
                    867,
                    272,
                    261,
                    284,
                    904,
                    553,
                    461,
                    734,
                    15,
                    13,
                    30,
                    18
                  ],
                  "x0": " ",
                  "xaxis": "x2",
                  "y": [
                    "AGAP002865",
                    "AGAP002865",
                    "AGAP002865",
                    "AGAP002865",
                    "AGAP002865",
                    "AGAP002865",
                    "AGAP002865",
                    "AGAP002865",
                    "AGAP002865",
                    "AGAP002865",
                    "AGAP002865",
                    "AGAP002865",
                    "AGAP002865",
                    "AGAP002865",
                    "AGAP002865",
                    "AGAP002865",
                    "AGAP002865",
                    "AGAP002865",
                    "AGAP002865",
                    "AGAP002865",
                    "AGAP002865",
                    "AGAP002865",
                    "AGAP002865",
                    "AGAP002865",
                    "AGAP002865",
                    "AGAP002865",
                    "AGAP002865",
                    "AGAP002865",
                    "AGAP002865",
                    "AGAP002865",
                    "AGAP002865",
                    "AGAP002865",
                    "AGAP002865",
                    "AGAP002865",
                    "AGAP002865",
                    "AGAP002865",
                    "AGAP002865",
                    "AGAP002865",
                    "AGAP002865",
                    "AGAP002865",
                    "AGAP002865",
                    "AGAP002865",
                    "AGAP002865",
                    "AGAP002865",
                    "AGAP002865",
                    "AGAP002865",
                    "AGAP002865",
                    "AGAP002865",
                    "AGAP002865",
                    "AGAP002865",
                    "AGAP002865",
                    "AGAP002865",
                    "AGAP002865",
                    "AGAP002865",
                    "AGAP002865",
                    "AGAP002865",
                    "AGAP002865",
                    "AGAP002865",
                    "AGAP002865",
                    "AGAP002865",
                    "AGAP002865",
                    "AGAP002865",
                    "AGAP002865",
                    "AGAP002865",
                    "AGAP002865",
                    "AGAP002865",
                    "AGAP002865",
                    "AGAP002865",
                    "AGAP002865",
                    "AGAP002865",
                    "AGAP002865",
                    "AGAP002865",
                    "AGAP002865",
                    "AGAP002865",
                    "AGAP002865",
                    "AGAP002865",
                    "AGAP002865",
                    "AGAP002865",
                    "AGAP002865",
                    "AGAP002865",
                    "AGAP002865",
                    "AGAP002865",
                    "AGAP002865",
                    "AGAP002865",
                    "AGAP002865",
                    "AGAP002865",
                    "AGAP002865",
                    "AGAP002865",
                    "AGAP002865",
                    "AGAP002865",
                    "AGAP002865",
                    "AGAP002865",
                    "AGAP002865",
                    "AGAP002865",
                    "AGAP002865",
                    "AGAP002865",
                    "AGAP002865",
                    "AGAP002865"
                  ],
                  "y0": " ",
                  "yaxis": "y2"
                },
                {
                  "alignmentgroup": "True",
                  "boxpoints": "all",
                  "customdata": [
                    [
                      "Bak1",
                      "gambiae",
                      "Burkina Faso"
                    ],
                    [
                      "Bak2",
                      "gambiae",
                      "Burkina Faso"
                    ],
                    [
                      "Bak3",
                      "gambiae",
                      "Burkina Faso"
                    ],
                    [
                      "Bak4",
                      "gambiae",
                      "Burkina Faso"
                    ],
                    [
                      "Kis1",
                      "gambiae",
                      "Kenya"
                    ],
                    [
                      "Kis2",
                      "gambiae",
                      "Kenya"
                    ],
                    [
                      "Kis3",
                      "gambiae",
                      "Kenya"
                    ],
                    [
                      "Kis4",
                      "gambiae",
                      "Kenya"
                    ],
                    [
                      "Bouake_Kisumu1",
                      "gambiae",
                      "Kenya"
                    ],
                    [
                      "Bouake_Kisumu2",
                      "gambiae",
                      "Kenya"
                    ],
                    [
                      "Bouake_Kisumu3",
                      "gambiae",
                      "Kenya"
                    ],
                    [
                      "Bouake_Kisumu4",
                      "gambiae",
                      "Kenya"
                    ],
                    [
                      "Bouake_gamb_unexp1",
                      "gambiae",
                      "Cote d'Ivoire"
                    ],
                    [
                      "Bouake_gamb_unexp2",
                      "gambiae",
                      "Cote d'Ivoire"
                    ],
                    [
                      "Bouake_gamb_unexp3",
                      "gambiae",
                      "Cote d'Ivoire"
                    ],
                    [
                      "Bouake_gamb_unexp4",
                      "gambiae",
                      "Cote d'Ivoire"
                    ],
                    [
                      "BusiaSurvivors1",
                      "gambiae",
                      "Uganda"
                    ],
                    [
                      "BusiaSurvivors2",
                      "gambiae",
                      "Uganda"
                    ],
                    [
                      "BusiaSurvivors3",
                      "gambiae",
                      "Uganda"
                    ],
                    [
                      "BusiaSurvivors4",
                      "gambiae",
                      "Uganda"
                    ],
                    [
                      "BusiaSurvivors5",
                      "gambiae",
                      "Uganda"
                    ],
                    [
                      "BusiaSurvivors6",
                      "gambiae",
                      "Uganda"
                    ],
                    [
                      "Kisumu1",
                      "gambiae",
                      "Kenya"
                    ],
                    [
                      "Kisumu2",
                      "gambiae",
                      "Kenya"
                    ],
                    [
                      "Kisumu3",
                      "gambiae",
                      "Kenya"
                    ],
                    [
                      "Kisumu4",
                      "gambiae",
                      "Kenya"
                    ]
                  ],
                  "fillcolor": "rgba(255,255,255,0)",
                  "hoveron": "points",
                  "hovertemplate": "species=%{customdata[1]}<br>counts=%{x}<br>GeneID=%{y}<br>sampleID=%{customdata[0]}<br>country=%{customdata[2]}<extra></extra>",
                  "legendgroup": "gambiae",
                  "line": {
                    "color": "rgba(255,255,255,0)"
                  },
                  "marker": {
                    "color": "#A3A500"
                  },
                  "name": "gambiae",
                  "offsetgroup": "gambiae",
                  "orientation": "h",
                  "pointpos": 0,
                  "showlegend": false,
                  "type": "box",
                  "x": [
                    292,
                    335,
                    471,
                    242,
                    68,
                    58,
                    85,
                    117,
                    60,
                    40,
                    21,
                    48,
                    27,
                    69,
                    141,
                    100,
                    117,
                    151,
                    53,
                    93,
                    71,
                    193,
                    609,
                    1574,
                    1097,
                    1409
                  ],
                  "x0": " ",
                  "xaxis": "x2",
                  "y": [
                    "AGAP002865",
                    "AGAP002865",
                    "AGAP002865",
                    "AGAP002865",
                    "AGAP002865",
                    "AGAP002865",
                    "AGAP002865",
                    "AGAP002865",
                    "AGAP002865",
                    "AGAP002865",
                    "AGAP002865",
                    "AGAP002865",
                    "AGAP002865",
                    "AGAP002865",
                    "AGAP002865",
                    "AGAP002865",
                    "AGAP002865",
                    "AGAP002865",
                    "AGAP002865",
                    "AGAP002865",
                    "AGAP002865",
                    "AGAP002865",
                    "AGAP002865",
                    "AGAP002865",
                    "AGAP002865",
                    "AGAP002865"
                  ],
                  "y0": " ",
                  "yaxis": "y2"
                },
                {
                  "alignmentgroup": "True",
                  "boxpoints": "all",
                  "customdata": [
                    [
                      "Asendabo_ara1",
                      "arabiensis",
                      "Ethiopia"
                    ],
                    [
                      "Asendabo_ara2",
                      "arabiensis",
                      "Ethiopia"
                    ],
                    [
                      "Asendabo_ara3",
                      "arabiensis",
                      "Ethiopia"
                    ],
                    [
                      "Asendabo_ara4",
                      "arabiensis",
                      "Ethiopia"
                    ],
                    [
                      "Chewaka_ara1",
                      "arabiensis",
                      "Ethiopia"
                    ],
                    [
                      "Chewaka_ara2",
                      "arabiensis",
                      "Ethiopia"
                    ],
                    [
                      "Chewaka_ara3",
                      "arabiensis",
                      "Ethiopia"
                    ],
                    [
                      "Chewaka_ara4",
                      "arabiensis",
                      "Ethiopia"
                    ],
                    [
                      "Moz_VanLeeuwen1",
                      "arabiensis",
                      "Mozambique"
                    ],
                    [
                      "Moz_VanLeeuwen2",
                      "arabiensis",
                      "Mozambique"
                    ],
                    [
                      "Moz_VanLeeuwen3",
                      "arabiensis",
                      "Mozambique"
                    ],
                    [
                      "Moz_VanLeeuwen4",
                      "arabiensis",
                      "Mozambique"
                    ],
                    [
                      "Tolay1",
                      "arabiensis",
                      "Ethiopia"
                    ],
                    [
                      "Tolay2",
                      "arabiensis",
                      "Ethiopia"
                    ],
                    [
                      "Tolay3",
                      "arabiensis",
                      "Ethiopia"
                    ],
                    [
                      "Tolay4",
                      "arabiensis",
                      "Ethiopia"
                    ],
                    [
                      "Dongola1",
                      "arabiensis",
                      "Sudan"
                    ],
                    [
                      "Dongola2",
                      "arabiensis",
                      "Sudan"
                    ],
                    [
                      "Dongola3",
                      "arabiensis",
                      "Sudan"
                    ],
                    [
                      "Ethiopia1",
                      "arabiensis",
                      "Ethiopia"
                    ],
                    [
                      "Ethiopia2",
                      "arabiensis",
                      "Ethiopia"
                    ],
                    [
                      "Ethiopia3",
                      "arabiensis",
                      "Ethiopia"
                    ],
                    [
                      "Gou1",
                      "arabiensis",
                      "Burkina Faso"
                    ],
                    [
                      "Gou2",
                      "arabiensis",
                      "Burkina Faso"
                    ],
                    [
                      "Gou3",
                      "arabiensis",
                      "Burkina Faso"
                    ],
                    [
                      "Moz_Ranson1",
                      "arabiensis",
                      "Mozambique"
                    ],
                    [
                      "Moz_Ranson2",
                      "arabiensis",
                      "Mozambique"
                    ],
                    [
                      "Moz_Ranson3",
                      "arabiensis",
                      "Mozambique"
                    ]
                  ],
                  "fillcolor": "rgba(255,255,255,0)",
                  "hoveron": "points",
                  "hovertemplate": "species=%{customdata[1]}<br>counts=%{x}<br>GeneID=%{y}<br>sampleID=%{customdata[0]}<br>country=%{customdata[2]}<extra></extra>",
                  "legendgroup": "arabiensis",
                  "line": {
                    "color": "rgba(255,255,255,0)"
                  },
                  "marker": {
                    "color": "#00BF7D"
                  },
                  "name": "arabiensis",
                  "offsetgroup": "arabiensis",
                  "orientation": "h",
                  "pointpos": 0,
                  "showlegend": false,
                  "type": "box",
                  "x": [
                    147,
                    134,
                    228,
                    85,
                    468,
                    676,
                    1574,
                    162,
                    18,
                    18,
                    43,
                    35,
                    171,
                    132,
                    175,
                    340,
                    340,
                    498,
                    278,
                    653,
                    568,
                    294,
                    64,
                    98,
                    70,
                    37,
                    40,
                    34
                  ],
                  "x0": " ",
                  "xaxis": "x2",
                  "y": [
                    "AGAP002865",
                    "AGAP002865",
                    "AGAP002865",
                    "AGAP002865",
                    "AGAP002865",
                    "AGAP002865",
                    "AGAP002865",
                    "AGAP002865",
                    "AGAP002865",
                    "AGAP002865",
                    "AGAP002865",
                    "AGAP002865",
                    "AGAP002865",
                    "AGAP002865",
                    "AGAP002865",
                    "AGAP002865",
                    "AGAP002865",
                    "AGAP002865",
                    "AGAP002865",
                    "AGAP002865",
                    "AGAP002865",
                    "AGAP002865",
                    "AGAP002865",
                    "AGAP002865",
                    "AGAP002865",
                    "AGAP002865",
                    "AGAP002865",
                    "AGAP002865"
                  ],
                  "y0": " ",
                  "yaxis": "y2"
                },
                {
                  "alignmentgroup": "True",
                  "boxpoints": "all",
                  "customdata": [
                    [
                      "Cameroon_fun1",
                      "funestus",
                      "Cameroon"
                    ],
                    [
                      "Cameroon_fun2",
                      "funestus",
                      "Cameroon"
                    ],
                    [
                      "Cameroon_fun3",
                      "funestus",
                      "Cameroon"
                    ],
                    [
                      "Cameroon_fun4",
                      "funestus",
                      "Cameroon"
                    ],
                    [
                      "Cameroon_fun5",
                      "funestus",
                      "Cameroon"
                    ],
                    [
                      "Cameroon_fun6",
                      "funestus",
                      "Cameroon"
                    ],
                    [
                      "Cameroon_fun7",
                      "funestus",
                      "Cameroon"
                    ],
                    [
                      "Cameroon_fun8",
                      "funestus",
                      "Cameroon"
                    ],
                    [
                      "Cameroon_fun9",
                      "funestus",
                      "Cameroon"
                    ],
                    [
                      "Fang1",
                      "funestus",
                      "Angola"
                    ],
                    [
                      "Fang2",
                      "funestus",
                      "Angola"
                    ],
                    [
                      "Fang3",
                      "funestus",
                      "Angola"
                    ],
                    [
                      "Fumoz1",
                      "funestus",
                      "Mozambique"
                    ],
                    [
                      "Fumoz2",
                      "funestus",
                      "Mozambique"
                    ],
                    [
                      "Fumoz3",
                      "funestus",
                      "Mozambique"
                    ],
                    [
                      "Fumoz4",
                      "funestus",
                      "Mozambique"
                    ],
                    [
                      "Fumoz5",
                      "funestus",
                      "Mozambique"
                    ],
                    [
                      "Ghana_fun1",
                      "funestus",
                      "Ghana"
                    ],
                    [
                      "Ghana_fun2",
                      "funestus",
                      "Ghana"
                    ],
                    [
                      "Ghana_fun3",
                      "funestus",
                      "Ghana"
                    ],
                    [
                      "Ghana_fun4",
                      "funestus",
                      "Ghana"
                    ],
                    [
                      "Ghana_fun5",
                      "funestus",
                      "Ghana"
                    ],
                    [
                      "Ghana_fun6",
                      "funestus",
                      "Ghana"
                    ],
                    [
                      "Ghana_fun7",
                      "funestus",
                      "Ghana"
                    ],
                    [
                      "Ghana_fun8",
                      "funestus",
                      "Ghana"
                    ],
                    [
                      "Ghana_fun9",
                      "funestus",
                      "Ghana"
                    ],
                    [
                      "Ghana_fun10",
                      "funestus",
                      "Ghana"
                    ],
                    [
                      "Malawi_fun1",
                      "funestus",
                      "Malawi"
                    ],
                    [
                      "Malawi_fun2",
                      "funestus",
                      "Malawi"
                    ],
                    [
                      "Malawi_fun3",
                      "funestus",
                      "Malawi"
                    ],
                    [
                      "Malawi_fun4",
                      "funestus",
                      "Malawi"
                    ],
                    [
                      "Malawi_fun5",
                      "funestus",
                      "Malawi"
                    ],
                    [
                      "Malawi_fun6",
                      "funestus",
                      "Malawi"
                    ],
                    [
                      "Malawi_fun7",
                      "funestus",
                      "Malawi"
                    ],
                    [
                      "Malawi_fun8",
                      "funestus",
                      "Malawi"
                    ],
                    [
                      "Malawi_fun9",
                      "funestus",
                      "Malawi"
                    ],
                    [
                      "Malawi_fun10",
                      "funestus",
                      "Malawi"
                    ],
                    [
                      "Uganda_fun1",
                      "funestus",
                      "Uganda"
                    ],
                    [
                      "Uganda_fun2",
                      "funestus",
                      "Uganda"
                    ],
                    [
                      "Uganda_fun3",
                      "funestus",
                      "Uganda"
                    ],
                    [
                      "Uganda_fun4",
                      "funestus",
                      "Uganda"
                    ],
                    [
                      "Uganda_fun5",
                      "funestus",
                      "Uganda"
                    ],
                    [
                      "Uganda_fun6",
                      "funestus",
                      "Uganda"
                    ],
                    [
                      "Uganda_fun7",
                      "funestus",
                      "Uganda"
                    ],
                    [
                      "Uganda_fun8",
                      "funestus",
                      "Uganda"
                    ],
                    [
                      "Uganda_fun9",
                      "funestus",
                      "Uganda"
                    ]
                  ],
                  "fillcolor": "rgba(255,255,255,0)",
                  "hoveron": "points",
                  "hovertemplate": "species=%{customdata[1]}<br>counts=%{x}<br>GeneID=%{y}<br>sampleID=%{customdata[0]}<br>country=%{customdata[2]}<extra></extra>",
                  "legendgroup": "funestus",
                  "line": {
                    "color": "rgba(255,255,255,0)"
                  },
                  "marker": {
                    "color": "#00B0F6"
                  },
                  "name": "funestus",
                  "offsetgroup": "funestus",
                  "orientation": "h",
                  "pointpos": 0,
                  "showlegend": false,
                  "type": "box",
                  "x": [
                    375,
                    399,
                    298,
                    495,
                    407,
                    326,
                    228,
                    360,
                    246,
                    153,
                    119,
                    105,
                    147,
                    5873,
                    5673,
                    5873,
                    5367,
                    1698,
                    1438,
                    1418,
                    1663,
                    1618,
                    1287,
                    1314,
                    1885,
                    1652,
                    1261,
                    5833,
                    5185,
                    7434,
                    4068,
                    5673,
                    6123,
                    6039,
                    4673,
                    4705,
                    5293,
                    428,
                    523,
                    512,
                    549,
                    1938,
                    815,
                    750,
                    630,
                    949
                  ],
                  "x0": " ",
                  "xaxis": "x2",
                  "y": [
                    "AGAP002865",
                    "AGAP002865",
                    "AGAP002865",
                    "AGAP002865",
                    "AGAP002865",
                    "AGAP002865",
                    "AGAP002865",
                    "AGAP002865",
                    "AGAP002865",
                    "AGAP002865",
                    "AGAP002865",
                    "AGAP002865",
                    "AGAP002865",
                    "AGAP002865",
                    "AGAP002865",
                    "AGAP002865",
                    "AGAP002865",
                    "AGAP002865",
                    "AGAP002865",
                    "AGAP002865",
                    "AGAP002865",
                    "AGAP002865",
                    "AGAP002865",
                    "AGAP002865",
                    "AGAP002865",
                    "AGAP002865",
                    "AGAP002865",
                    "AGAP002865",
                    "AGAP002865",
                    "AGAP002865",
                    "AGAP002865",
                    "AGAP002865",
                    "AGAP002865",
                    "AGAP002865",
                    "AGAP002865",
                    "AGAP002865",
                    "AGAP002865",
                    "AGAP002865",
                    "AGAP002865",
                    "AGAP002865",
                    "AGAP002865",
                    "AGAP002865",
                    "AGAP002865",
                    "AGAP002865",
                    "AGAP002865",
                    "AGAP002865"
                  ],
                  "y0": " ",
                  "yaxis": "y2"
                }
              ],
              "layout": {
                "boxmode": "group",
                "height": 300,
                "shapes": [
                  {
                    "line": {
                      "color": "grey",
                      "dash": "dash",
                      "width": 1
                    },
                    "type": "line",
                    "x0": 0,
                    "x1": 0,
                    "xref": "x",
                    "y0": 0,
                    "y1": 1,
                    "yref": "y domain"
                  },
                  {
                    "line": {
                      "color": "grey",
                      "dash": "dash",
                      "width": 1
                    },
                    "type": "line",
                    "x0": 0,
                    "x1": 0,
                    "xref": "x2",
                    "y0": 0,
                    "y1": 1,
                    "yref": "y2 domain"
                  }
                ],
                "template": {
                  "data": {
                    "bar": [
                      {
                        "error_x": {
                          "color": "#2a3f5f"
                        },
                        "error_y": {
                          "color": "#2a3f5f"
                        },
                        "marker": {
                          "line": {
                            "color": "#E5ECF6",
                            "width": 0.5
                          },
                          "pattern": {
                            "fillmode": "overlay",
                            "size": 10,
                            "solidity": 0.2
                          }
                        },
                        "type": "bar"
                      }
                    ],
                    "barpolar": [
                      {
                        "marker": {
                          "line": {
                            "color": "#E5ECF6",
                            "width": 0.5
                          },
                          "pattern": {
                            "fillmode": "overlay",
                            "size": 10,
                            "solidity": 0.2
                          }
                        },
                        "type": "barpolar"
                      }
                    ],
                    "carpet": [
                      {
                        "aaxis": {
                          "endlinecolor": "#2a3f5f",
                          "gridcolor": "white",
                          "linecolor": "white",
                          "minorgridcolor": "white",
                          "startlinecolor": "#2a3f5f"
                        },
                        "baxis": {
                          "endlinecolor": "#2a3f5f",
                          "gridcolor": "white",
                          "linecolor": "white",
                          "minorgridcolor": "white",
                          "startlinecolor": "#2a3f5f"
                        },
                        "type": "carpet"
                      }
                    ],
                    "choropleth": [
                      {
                        "colorbar": {
                          "outlinewidth": 0,
                          "ticks": ""
                        },
                        "type": "choropleth"
                      }
                    ],
                    "contour": [
                      {
                        "colorbar": {
                          "outlinewidth": 0,
                          "ticks": ""
                        },
                        "colorscale": [
                          [
                            0,
                            "#0d0887"
                          ],
                          [
                            0.1111111111111111,
                            "#46039f"
                          ],
                          [
                            0.2222222222222222,
                            "#7201a8"
                          ],
                          [
                            0.3333333333333333,
                            "#9c179e"
                          ],
                          [
                            0.4444444444444444,
                            "#bd3786"
                          ],
                          [
                            0.5555555555555556,
                            "#d8576b"
                          ],
                          [
                            0.6666666666666666,
                            "#ed7953"
                          ],
                          [
                            0.7777777777777778,
                            "#fb9f3a"
                          ],
                          [
                            0.8888888888888888,
                            "#fdca26"
                          ],
                          [
                            1,
                            "#f0f921"
                          ]
                        ],
                        "type": "contour"
                      }
                    ],
                    "contourcarpet": [
                      {
                        "colorbar": {
                          "outlinewidth": 0,
                          "ticks": ""
                        },
                        "type": "contourcarpet"
                      }
                    ],
                    "heatmap": [
                      {
                        "colorbar": {
                          "outlinewidth": 0,
                          "ticks": ""
                        },
                        "colorscale": [
                          [
                            0,
                            "#0d0887"
                          ],
                          [
                            0.1111111111111111,
                            "#46039f"
                          ],
                          [
                            0.2222222222222222,
                            "#7201a8"
                          ],
                          [
                            0.3333333333333333,
                            "#9c179e"
                          ],
                          [
                            0.4444444444444444,
                            "#bd3786"
                          ],
                          [
                            0.5555555555555556,
                            "#d8576b"
                          ],
                          [
                            0.6666666666666666,
                            "#ed7953"
                          ],
                          [
                            0.7777777777777778,
                            "#fb9f3a"
                          ],
                          [
                            0.8888888888888888,
                            "#fdca26"
                          ],
                          [
                            1,
                            "#f0f921"
                          ]
                        ],
                        "type": "heatmap"
                      }
                    ],
                    "heatmapgl": [
                      {
                        "colorbar": {
                          "outlinewidth": 0,
                          "ticks": ""
                        },
                        "colorscale": [
                          [
                            0,
                            "#0d0887"
                          ],
                          [
                            0.1111111111111111,
                            "#46039f"
                          ],
                          [
                            0.2222222222222222,
                            "#7201a8"
                          ],
                          [
                            0.3333333333333333,
                            "#9c179e"
                          ],
                          [
                            0.4444444444444444,
                            "#bd3786"
                          ],
                          [
                            0.5555555555555556,
                            "#d8576b"
                          ],
                          [
                            0.6666666666666666,
                            "#ed7953"
                          ],
                          [
                            0.7777777777777778,
                            "#fb9f3a"
                          ],
                          [
                            0.8888888888888888,
                            "#fdca26"
                          ],
                          [
                            1,
                            "#f0f921"
                          ]
                        ],
                        "type": "heatmapgl"
                      }
                    ],
                    "histogram": [
                      {
                        "marker": {
                          "pattern": {
                            "fillmode": "overlay",
                            "size": 10,
                            "solidity": 0.2
                          }
                        },
                        "type": "histogram"
                      }
                    ],
                    "histogram2d": [
                      {
                        "colorbar": {
                          "outlinewidth": 0,
                          "ticks": ""
                        },
                        "colorscale": [
                          [
                            0,
                            "#0d0887"
                          ],
                          [
                            0.1111111111111111,
                            "#46039f"
                          ],
                          [
                            0.2222222222222222,
                            "#7201a8"
                          ],
                          [
                            0.3333333333333333,
                            "#9c179e"
                          ],
                          [
                            0.4444444444444444,
                            "#bd3786"
                          ],
                          [
                            0.5555555555555556,
                            "#d8576b"
                          ],
                          [
                            0.6666666666666666,
                            "#ed7953"
                          ],
                          [
                            0.7777777777777778,
                            "#fb9f3a"
                          ],
                          [
                            0.8888888888888888,
                            "#fdca26"
                          ],
                          [
                            1,
                            "#f0f921"
                          ]
                        ],
                        "type": "histogram2d"
                      }
                    ],
                    "histogram2dcontour": [
                      {
                        "colorbar": {
                          "outlinewidth": 0,
                          "ticks": ""
                        },
                        "colorscale": [
                          [
                            0,
                            "#0d0887"
                          ],
                          [
                            0.1111111111111111,
                            "#46039f"
                          ],
                          [
                            0.2222222222222222,
                            "#7201a8"
                          ],
                          [
                            0.3333333333333333,
                            "#9c179e"
                          ],
                          [
                            0.4444444444444444,
                            "#bd3786"
                          ],
                          [
                            0.5555555555555556,
                            "#d8576b"
                          ],
                          [
                            0.6666666666666666,
                            "#ed7953"
                          ],
                          [
                            0.7777777777777778,
                            "#fb9f3a"
                          ],
                          [
                            0.8888888888888888,
                            "#fdca26"
                          ],
                          [
                            1,
                            "#f0f921"
                          ]
                        ],
                        "type": "histogram2dcontour"
                      }
                    ],
                    "mesh3d": [
                      {
                        "colorbar": {
                          "outlinewidth": 0,
                          "ticks": ""
                        },
                        "type": "mesh3d"
                      }
                    ],
                    "parcoords": [
                      {
                        "line": {
                          "colorbar": {
                            "outlinewidth": 0,
                            "ticks": ""
                          }
                        },
                        "type": "parcoords"
                      }
                    ],
                    "pie": [
                      {
                        "automargin": true,
                        "type": "pie"
                      }
                    ],
                    "scatter": [
                      {
                        "fillpattern": {
                          "fillmode": "overlay",
                          "size": 10,
                          "solidity": 0.2
                        },
                        "type": "scatter"
                      }
                    ],
                    "scatter3d": [
                      {
                        "line": {
                          "colorbar": {
                            "outlinewidth": 0,
                            "ticks": ""
                          }
                        },
                        "marker": {
                          "colorbar": {
                            "outlinewidth": 0,
                            "ticks": ""
                          }
                        },
                        "type": "scatter3d"
                      }
                    ],
                    "scattercarpet": [
                      {
                        "marker": {
                          "colorbar": {
                            "outlinewidth": 0,
                            "ticks": ""
                          }
                        },
                        "type": "scattercarpet"
                      }
                    ],
                    "scattergeo": [
                      {
                        "marker": {
                          "colorbar": {
                            "outlinewidth": 0,
                            "ticks": ""
                          }
                        },
                        "type": "scattergeo"
                      }
                    ],
                    "scattergl": [
                      {
                        "marker": {
                          "colorbar": {
                            "outlinewidth": 0,
                            "ticks": ""
                          }
                        },
                        "type": "scattergl"
                      }
                    ],
                    "scattermapbox": [
                      {
                        "marker": {
                          "colorbar": {
                            "outlinewidth": 0,
                            "ticks": ""
                          }
                        },
                        "type": "scattermapbox"
                      }
                    ],
                    "scatterpolar": [
                      {
                        "marker": {
                          "colorbar": {
                            "outlinewidth": 0,
                            "ticks": ""
                          }
                        },
                        "type": "scatterpolar"
                      }
                    ],
                    "scatterpolargl": [
                      {
                        "marker": {
                          "colorbar": {
                            "outlinewidth": 0,
                            "ticks": ""
                          }
                        },
                        "type": "scatterpolargl"
                      }
                    ],
                    "scatterternary": [
                      {
                        "marker": {
                          "colorbar": {
                            "outlinewidth": 0,
                            "ticks": ""
                          }
                        },
                        "type": "scatterternary"
                      }
                    ],
                    "surface": [
                      {
                        "colorbar": {
                          "outlinewidth": 0,
                          "ticks": ""
                        },
                        "colorscale": [
                          [
                            0,
                            "#0d0887"
                          ],
                          [
                            0.1111111111111111,
                            "#46039f"
                          ],
                          [
                            0.2222222222222222,
                            "#7201a8"
                          ],
                          [
                            0.3333333333333333,
                            "#9c179e"
                          ],
                          [
                            0.4444444444444444,
                            "#bd3786"
                          ],
                          [
                            0.5555555555555556,
                            "#d8576b"
                          ],
                          [
                            0.6666666666666666,
                            "#ed7953"
                          ],
                          [
                            0.7777777777777778,
                            "#fb9f3a"
                          ],
                          [
                            0.8888888888888888,
                            "#fdca26"
                          ],
                          [
                            1,
                            "#f0f921"
                          ]
                        ],
                        "type": "surface"
                      }
                    ],
                    "table": [
                      {
                        "cells": {
                          "fill": {
                            "color": "#EBF0F8"
                          },
                          "line": {
                            "color": "white"
                          }
                        },
                        "header": {
                          "fill": {
                            "color": "#C8D4E3"
                          },
                          "line": {
                            "color": "white"
                          }
                        },
                        "type": "table"
                      }
                    ]
                  },
                  "layout": {
                    "annotationdefaults": {
                      "arrowcolor": "#2a3f5f",
                      "arrowhead": 0,
                      "arrowwidth": 1
                    },
                    "autotypenumbers": "strict",
                    "coloraxis": {
                      "colorbar": {
                        "outlinewidth": 0,
                        "ticks": ""
                      }
                    },
                    "colorscale": {
                      "diverging": [
                        [
                          0,
                          "#8e0152"
                        ],
                        [
                          0.1,
                          "#c51b7d"
                        ],
                        [
                          0.2,
                          "#de77ae"
                        ],
                        [
                          0.3,
                          "#f1b6da"
                        ],
                        [
                          0.4,
                          "#fde0ef"
                        ],
                        [
                          0.5,
                          "#f7f7f7"
                        ],
                        [
                          0.6,
                          "#e6f5d0"
                        ],
                        [
                          0.7,
                          "#b8e186"
                        ],
                        [
                          0.8,
                          "#7fbc41"
                        ],
                        [
                          0.9,
                          "#4d9221"
                        ],
                        [
                          1,
                          "#276419"
                        ]
                      ],
                      "sequential": [
                        [
                          0,
                          "#0d0887"
                        ],
                        [
                          0.1111111111111111,
                          "#46039f"
                        ],
                        [
                          0.2222222222222222,
                          "#7201a8"
                        ],
                        [
                          0.3333333333333333,
                          "#9c179e"
                        ],
                        [
                          0.4444444444444444,
                          "#bd3786"
                        ],
                        [
                          0.5555555555555556,
                          "#d8576b"
                        ],
                        [
                          0.6666666666666666,
                          "#ed7953"
                        ],
                        [
                          0.7777777777777778,
                          "#fb9f3a"
                        ],
                        [
                          0.8888888888888888,
                          "#fdca26"
                        ],
                        [
                          1,
                          "#f0f921"
                        ]
                      ],
                      "sequentialminus": [
                        [
                          0,
                          "#0d0887"
                        ],
                        [
                          0.1111111111111111,
                          "#46039f"
                        ],
                        [
                          0.2222222222222222,
                          "#7201a8"
                        ],
                        [
                          0.3333333333333333,
                          "#9c179e"
                        ],
                        [
                          0.4444444444444444,
                          "#bd3786"
                        ],
                        [
                          0.5555555555555556,
                          "#d8576b"
                        ],
                        [
                          0.6666666666666666,
                          "#ed7953"
                        ],
                        [
                          0.7777777777777778,
                          "#fb9f3a"
                        ],
                        [
                          0.8888888888888888,
                          "#fdca26"
                        ],
                        [
                          1,
                          "#f0f921"
                        ]
                      ]
                    },
                    "colorway": [
                      "#636efa",
                      "#EF553B",
                      "#00cc96",
                      "#ab63fa",
                      "#FFA15A",
                      "#19d3f3",
                      "#FF6692",
                      "#B6E880",
                      "#FF97FF",
                      "#FECB52"
                    ],
                    "font": {
                      "color": "#2a3f5f"
                    },
                    "geo": {
                      "bgcolor": "white",
                      "lakecolor": "white",
                      "landcolor": "#E5ECF6",
                      "showlakes": true,
                      "showland": true,
                      "subunitcolor": "white"
                    },
                    "hoverlabel": {
                      "align": "left"
                    },
                    "hovermode": "closest",
                    "mapbox": {
                      "style": "light"
                    },
                    "paper_bgcolor": "white",
                    "plot_bgcolor": "#E5ECF6",
                    "polar": {
                      "angularaxis": {
                        "gridcolor": "white",
                        "linecolor": "white",
                        "ticks": ""
                      },
                      "bgcolor": "#E5ECF6",
                      "radialaxis": {
                        "gridcolor": "white",
                        "linecolor": "white",
                        "ticks": ""
                      }
                    },
                    "scene": {
                      "xaxis": {
                        "backgroundcolor": "#E5ECF6",
                        "gridcolor": "white",
                        "gridwidth": 2,
                        "linecolor": "white",
                        "showbackground": true,
                        "ticks": "",
                        "zerolinecolor": "white"
                      },
                      "yaxis": {
                        "backgroundcolor": "#E5ECF6",
                        "gridcolor": "white",
                        "gridwidth": 2,
                        "linecolor": "white",
                        "showbackground": true,
                        "ticks": "",
                        "zerolinecolor": "white"
                      },
                      "zaxis": {
                        "backgroundcolor": "#E5ECF6",
                        "gridcolor": "white",
                        "gridwidth": 2,
                        "linecolor": "white",
                        "showbackground": true,
                        "ticks": "",
                        "zerolinecolor": "white"
                      }
                    },
                    "shapedefaults": {
                      "line": {
                        "color": "#2a3f5f"
                      }
                    },
                    "ternary": {
                      "aaxis": {
                        "gridcolor": "white",
                        "linecolor": "white",
                        "ticks": ""
                      },
                      "baxis": {
                        "gridcolor": "white",
                        "linecolor": "white",
                        "ticks": ""
                      },
                      "bgcolor": "#E5ECF6",
                      "caxis": {
                        "gridcolor": "white",
                        "linecolor": "white",
                        "ticks": ""
                      }
                    },
                    "title": {
                      "x": 0.05
                    },
                    "xaxis": {
                      "automargin": true,
                      "gridcolor": "white",
                      "linecolor": "white",
                      "ticks": "",
                      "title": {
                        "standoff": 15
                      },
                      "zerolinecolor": "white",
                      "zerolinewidth": 2
                    },
                    "yaxis": {
                      "automargin": true,
                      "gridcolor": "white",
                      "linecolor": "white",
                      "ticks": "",
                      "title": {
                        "standoff": 15
                      },
                      "zerolinecolor": "white",
                      "zerolinewidth": 2
                    }
                  }
                },
                "title": {
                  "text": "",
                  "x": 0.5
                },
                "width": 1600,
                "xaxis": {
                  "anchor": "y",
                  "domain": [
                    0,
                    0.63
                  ],
                  "title": {
                    "font": {
                      "size": 18
                    },
                    "text": "log2 fold change"
                  }
                },
                "xaxis2": {
                  "anchor": "y2",
                  "domain": [
                    0.65,
                    1
                  ],
                  "title": {
                    "font": {
                      "size": 18
                    },
                    "text": "counts"
                  }
                },
                "yaxis": {
                  "anchor": "x",
                  "domain": [
                    0,
                    1
                  ],
                  "tickfont": {
                    "size": 14
                  },
                  "title": {
                    "font": {
                      "size": 18
                    },
                    "text": "Gene"
                  }
                },
                "yaxis2": {
                  "anchor": "x2",
                  "domain": [
                    0,
                    1
                  ],
                  "showticklabels": false
                }
              }
            }
          },
          "metadata": {},
          "output_type": "display_data"
        }
      ],
      "source": [
        "#@title **Ano-express** { run: \"auto\" }   \n",
        "#@markdown This notebook produces interactive strip and boxplots with plotly, to summarise gene expression across 35 *Anopheles* insecticide resistant v susceptible RNA-Sequencing experiments. There are four different analyses to select\n",
        "#@markdown 'gamb_colu', 'gamb_colu_arab', 'gamb_colu_arab_fun' and 'fun'.  \n",
        "#@markdown each which integrates a different combination of Anopheles species – ‘gamb_colu’ (An. gambiae and An. coluzzii), ‘gamb_colu_arab’ (adding An. arabiensis), ‘gamb_colu_arab_fun’ (adding An. funestus), and finally ‘fun’ (An. funestus alone).  \n",
        "#@markdown As you include more species, there are less genes overall in the dataset, as we can only include genes with one-to-many orthologs between species.\n",
        "#@markdown   \n",
        "#@markdown Requesting feedback and ideas for how to explore the data.\n",
        "\n",
        "analysis = \"gamb_colu_arab_fun\" #@param ['gamb_colu', 'gamb_colu_arab', 'gamb_colu_arab_fun', 'fun']\n",
        "GeneID = \"AGAP002865\" #@param {type:\"string\"} \n",
        "plot_type = \"strip\" #@param ['strip', 'boxplot']\n",
        "include_microarray_data = True #@param {type:'boolean'}\n",
        "\n",
        "xpress.plot_gene_expression(\n",
        "    analysis=analysis,\n",
        "    gene_id=GeneID, \n",
        "    microarray=include_microarray_data,\n",
        "    title=\"\", \n",
        "    plot_type=plot_type, \n",
        "    height=300)"
      ]
    },
    {
      "cell_type": "markdown",
      "id": "yqZ2VL2svoDr",
      "metadata": {
        "id": "yqZ2VL2svoDr"
      },
      "source": [
        "We can provide a list of genes, and sort by either AGAP identifier, or by the median fold-change. "
      ]
    },
    {
      "cell_type": "code",
      "execution_count": 4,
      "id": "4aff322f",
      "metadata": {},
      "outputs": [],
      "source": [
        "microarray=False\n",
        "gene_id = ['AGAP002865', 'AGAP006227', 'AGAP006222', 'AGAP006228']\n",
        "analysis = \"gamb_colu_arab_fun\"\n",
        "sort_by=\"mean\""
      ]
    },
    {
      "cell_type": "code",
      "execution_count": 5,
      "id": "ccb02a09",
      "metadata": {},
      "outputs": [],
      "source": [
        "import numpy as np"
      ]
    },
    {
      "cell_type": "code",
      "execution_count": 22,
      "id": "e9acb379",
      "metadata": {},
      "outputs": [],
      "source": [
        "# load the metadata and subset to the species of interest\n",
        "df_metadata = xpress.metadata(analysis=analysis, microarray=microarray)\n",
        "df_samples = xpress.sample_metadata(analysis=analysis)\n",
        "# load count data, make long format and merge with metadata for hovertext\n",
        "count_data = xpress.data(data_type=\"log2counts\", analysis=analysis, microarray=microarray, gene_id=gene_id, sort_by=sort_by)\n",
        "count_data = count_data.melt(id_vars='GeneID', var_name='sampleID', value_name='log2_counts')\n",
        "count_data = count_data.merge(df_samples, how='left').assign(counts = lambda x: np.round(2**x.log2_counts, 0))"
      ]
    },
    {
      "cell_type": "code",
      "execution_count": 6,
      "id": "eaf0521a",
      "metadata": {},
      "outputs": [],
      "source": [
        "count_data = xpress.data(data_type=\"log2counts\", analysis=analysis, microarray=microarray, gene_id=gene_id, sort_by=sort_by)"
      ]
    },
    {
      "cell_type": "code",
      "execution_count": 7,
      "id": "ab7671f9",
      "metadata": {},
      "outputs": [
        {
          "data": {
            "text/html": [
              "<div>\n",
              "<style scoped>\n",
              "    .dataframe tbody tr th:only-of-type {\n",
              "        vertical-align: middle;\n",
              "    }\n",
              "\n",
              "    .dataframe tbody tr th {\n",
              "        vertical-align: top;\n",
              "    }\n",
              "\n",
              "    .dataframe thead th {\n",
              "        text-align: right;\n",
              "    }\n",
              "</style>\n",
              "<table border=\"1\" class=\"dataframe\">\n",
              "  <thead>\n",
              "    <tr style=\"text-align: right;\">\n",
              "      <th></th>\n",
              "      <th>GeneID</th>\n",
              "      <th>Tie1</th>\n",
              "      <th>Tie2</th>\n",
              "      <th>Tie3</th>\n",
              "      <th>Ban1</th>\n",
              "      <th>Ban2</th>\n",
              "      <th>Ban3</th>\n",
              "      <th>Ban4</th>\n",
              "      <th>Bak1</th>\n",
              "      <th>Bak2</th>\n",
              "      <th>...</th>\n",
              "      <th>Malawi_fun10</th>\n",
              "      <th>Uganda_fun1</th>\n",
              "      <th>Uganda_fun2</th>\n",
              "      <th>Uganda_fun3</th>\n",
              "      <th>Uganda_fun4</th>\n",
              "      <th>Uganda_fun5</th>\n",
              "      <th>Uganda_fun6</th>\n",
              "      <th>Uganda_fun7</th>\n",
              "      <th>Uganda_fun8</th>\n",
              "      <th>Uganda_fun9</th>\n",
              "    </tr>\n",
              "  </thead>\n",
              "  <tbody>\n",
              "    <tr>\n",
              "      <th>1</th>\n",
              "      <td>AGAP006222</td>\n",
              "      <td>6.44</td>\n",
              "      <td>5.45</td>\n",
              "      <td>6.03</td>\n",
              "      <td>7.45</td>\n",
              "      <td>8.50</td>\n",
              "      <td>7.79</td>\n",
              "      <td>7.59</td>\n",
              "      <td>7.64</td>\n",
              "      <td>7.50</td>\n",
              "      <td>...</td>\n",
              "      <td>8.67</td>\n",
              "      <td>6.71</td>\n",
              "      <td>7.54</td>\n",
              "      <td>7.55</td>\n",
              "      <td>6.93</td>\n",
              "      <td>8.92</td>\n",
              "      <td>7.37</td>\n",
              "      <td>8.36</td>\n",
              "      <td>7.99</td>\n",
              "      <td>8.28</td>\n",
              "    </tr>\n",
              "    <tr>\n",
              "      <th>2</th>\n",
              "      <td>AGAP006227</td>\n",
              "      <td>8.25</td>\n",
              "      <td>7.88</td>\n",
              "      <td>7.97</td>\n",
              "      <td>7.31</td>\n",
              "      <td>7.74</td>\n",
              "      <td>7.37</td>\n",
              "      <td>7.70</td>\n",
              "      <td>7.85</td>\n",
              "      <td>7.40</td>\n",
              "      <td>...</td>\n",
              "      <td>7.21</td>\n",
              "      <td>6.25</td>\n",
              "      <td>6.62</td>\n",
              "      <td>6.70</td>\n",
              "      <td>6.64</td>\n",
              "      <td>7.53</td>\n",
              "      <td>6.70</td>\n",
              "      <td>7.18</td>\n",
              "      <td>7.17</td>\n",
              "      <td>7.16</td>\n",
              "    </tr>\n",
              "    <tr>\n",
              "      <th>0</th>\n",
              "      <td>AGAP002865</td>\n",
              "      <td>8.30</td>\n",
              "      <td>7.94</td>\n",
              "      <td>8.25</td>\n",
              "      <td>8.13</td>\n",
              "      <td>9.25</td>\n",
              "      <td>8.70</td>\n",
              "      <td>8.40</td>\n",
              "      <td>8.19</td>\n",
              "      <td>8.39</td>\n",
              "      <td>...</td>\n",
              "      <td>12.37</td>\n",
              "      <td>8.74</td>\n",
              "      <td>9.03</td>\n",
              "      <td>9.00</td>\n",
              "      <td>9.10</td>\n",
              "      <td>10.92</td>\n",
              "      <td>9.67</td>\n",
              "      <td>9.55</td>\n",
              "      <td>9.30</td>\n",
              "      <td>9.89</td>\n",
              "    </tr>\n",
              "    <tr>\n",
              "      <th>3</th>\n",
              "      <td>AGAP006228</td>\n",
              "      <td>9.26</td>\n",
              "      <td>9.34</td>\n",
              "      <td>9.06</td>\n",
              "      <td>8.49</td>\n",
              "      <td>8.81</td>\n",
              "      <td>8.41</td>\n",
              "      <td>8.51</td>\n",
              "      <td>9.02</td>\n",
              "      <td>9.28</td>\n",
              "      <td>...</td>\n",
              "      <td>8.74</td>\n",
              "      <td>7.94</td>\n",
              "      <td>7.98</td>\n",
              "      <td>8.31</td>\n",
              "      <td>8.36</td>\n",
              "      <td>9.01</td>\n",
              "      <td>8.19</td>\n",
              "      <td>8.74</td>\n",
              "      <td>8.69</td>\n",
              "      <td>8.48</td>\n",
              "    </tr>\n",
              "  </tbody>\n",
              "</table>\n",
              "<p>4 rows × 199 columns</p>\n",
              "</div>"
            ],
            "text/plain": [
              "       GeneID  Tie1  Tie2  Tie3  Ban1  Ban2  Ban3  Ban4  Bak1  Bak2  ...  \\\n",
              "1  AGAP006222  6.44  5.45  6.03  7.45  8.50  7.79  7.59  7.64  7.50  ...   \n",
              "2  AGAP006227  8.25  7.88  7.97  7.31  7.74  7.37  7.70  7.85  7.40  ...   \n",
              "0  AGAP002865  8.30  7.94  8.25  8.13  9.25  8.70  8.40  8.19  8.39  ...   \n",
              "3  AGAP006228  9.26  9.34  9.06  8.49  8.81  8.41  8.51  9.02  9.28  ...   \n",
              "\n",
              "   Malawi_fun10  Uganda_fun1  Uganda_fun2  Uganda_fun3  Uganda_fun4  \\\n",
              "1          8.67         6.71         7.54         7.55         6.93   \n",
              "2          7.21         6.25         6.62         6.70         6.64   \n",
              "0         12.37         8.74         9.03         9.00         9.10   \n",
              "3          8.74         7.94         7.98         8.31         8.36   \n",
              "\n",
              "   Uganda_fun5  Uganda_fun6  Uganda_fun7  Uganda_fun8  Uganda_fun9  \n",
              "1         8.92         7.37         8.36         7.99         8.28  \n",
              "2         7.53         6.70         7.18         7.17         7.16  \n",
              "0        10.92         9.67         9.55         9.30         9.89  \n",
              "3         9.01         8.19         8.74         8.69         8.48  \n",
              "\n",
              "[4 rows x 199 columns]"
            ]
          },
          "execution_count": 7,
          "metadata": {},
          "output_type": "execute_result"
        }
      ],
      "source": [
        "count_data"
      ]
    },
    {
      "cell_type": "code",
      "execution_count": 25,
      "id": "565b8464",
      "metadata": {},
      "outputs": [],
      "source": [
        "fc_data = xpress.data(data_type=\"fcs\", analysis=analysis, microarray=microarray, gene_id=gene_id, sort_by=sort_by)"
      ]
    },
    {
      "cell_type": "code",
      "execution_count": 28,
      "id": "f34e90e6",
      "metadata": {},
      "outputs": [
        {
          "data": {
            "text/html": [
              "<div>\n",
              "<style scoped>\n",
              "    .dataframe tbody tr th:only-of-type {\n",
              "        vertical-align: middle;\n",
              "    }\n",
              "\n",
              "    .dataframe tbody tr th {\n",
              "        vertical-align: top;\n",
              "    }\n",
              "\n",
              "    .dataframe thead th {\n",
              "        text-align: right;\n",
              "    }\n",
              "</style>\n",
              "<table border=\"1\" class=\"dataframe\">\n",
              "  <thead>\n",
              "    <tr style=\"text-align: right;\">\n",
              "      <th></th>\n",
              "      <th>Tie1</th>\n",
              "      <th>Tie2</th>\n",
              "      <th>Tie3</th>\n",
              "      <th>Ban1</th>\n",
              "      <th>Ban2</th>\n",
              "      <th>Ban3</th>\n",
              "      <th>Ban4</th>\n",
              "      <th>Bak1</th>\n",
              "      <th>Bak2</th>\n",
              "      <th>Bak3</th>\n",
              "      <th>...</th>\n",
              "      <th>Malawi_fun10</th>\n",
              "      <th>Uganda_fun1</th>\n",
              "      <th>Uganda_fun2</th>\n",
              "      <th>Uganda_fun3</th>\n",
              "      <th>Uganda_fun4</th>\n",
              "      <th>Uganda_fun5</th>\n",
              "      <th>Uganda_fun6</th>\n",
              "      <th>Uganda_fun7</th>\n",
              "      <th>Uganda_fun8</th>\n",
              "      <th>Uganda_fun9</th>\n",
              "    </tr>\n",
              "    <tr>\n",
              "      <th>GeneID</th>\n",
              "      <th></th>\n",
              "      <th></th>\n",
              "      <th></th>\n",
              "      <th></th>\n",
              "      <th></th>\n",
              "      <th></th>\n",
              "      <th></th>\n",
              "      <th></th>\n",
              "      <th></th>\n",
              "      <th></th>\n",
              "      <th></th>\n",
              "      <th></th>\n",
              "      <th></th>\n",
              "      <th></th>\n",
              "      <th></th>\n",
              "      <th></th>\n",
              "      <th></th>\n",
              "      <th></th>\n",
              "      <th></th>\n",
              "      <th></th>\n",
              "      <th></th>\n",
              "    </tr>\n",
              "  </thead>\n",
              "  <tbody>\n",
              "    <tr>\n",
              "      <th>AGAP006228</th>\n",
              "      <td>9.26</td>\n",
              "      <td>9.34</td>\n",
              "      <td>9.06</td>\n",
              "      <td>8.49</td>\n",
              "      <td>8.81</td>\n",
              "      <td>8.41</td>\n",
              "      <td>8.51</td>\n",
              "      <td>9.02</td>\n",
              "      <td>9.28</td>\n",
              "      <td>9.06</td>\n",
              "      <td>...</td>\n",
              "      <td>8.74</td>\n",
              "      <td>7.94</td>\n",
              "      <td>7.98</td>\n",
              "      <td>8.31</td>\n",
              "      <td>8.36</td>\n",
              "      <td>9.01</td>\n",
              "      <td>8.19</td>\n",
              "      <td>8.74</td>\n",
              "      <td>8.69</td>\n",
              "      <td>8.48</td>\n",
              "    </tr>\n",
              "    <tr>\n",
              "      <th>AGAP006227</th>\n",
              "      <td>8.25</td>\n",
              "      <td>7.88</td>\n",
              "      <td>7.97</td>\n",
              "      <td>7.31</td>\n",
              "      <td>7.74</td>\n",
              "      <td>7.37</td>\n",
              "      <td>7.70</td>\n",
              "      <td>7.85</td>\n",
              "      <td>7.40</td>\n",
              "      <td>8.96</td>\n",
              "      <td>...</td>\n",
              "      <td>7.21</td>\n",
              "      <td>6.25</td>\n",
              "      <td>6.62</td>\n",
              "      <td>6.70</td>\n",
              "      <td>6.64</td>\n",
              "      <td>7.53</td>\n",
              "      <td>6.70</td>\n",
              "      <td>7.18</td>\n",
              "      <td>7.17</td>\n",
              "      <td>7.16</td>\n",
              "    </tr>\n",
              "    <tr>\n",
              "      <th>AGAP006222</th>\n",
              "      <td>6.44</td>\n",
              "      <td>5.45</td>\n",
              "      <td>6.03</td>\n",
              "      <td>7.45</td>\n",
              "      <td>8.50</td>\n",
              "      <td>7.79</td>\n",
              "      <td>7.59</td>\n",
              "      <td>7.64</td>\n",
              "      <td>7.50</td>\n",
              "      <td>7.86</td>\n",
              "      <td>...</td>\n",
              "      <td>8.67</td>\n",
              "      <td>6.71</td>\n",
              "      <td>7.54</td>\n",
              "      <td>7.55</td>\n",
              "      <td>6.93</td>\n",
              "      <td>8.92</td>\n",
              "      <td>7.37</td>\n",
              "      <td>8.36</td>\n",
              "      <td>7.99</td>\n",
              "      <td>8.28</td>\n",
              "    </tr>\n",
              "    <tr>\n",
              "      <th>AGAP002865</th>\n",
              "      <td>8.30</td>\n",
              "      <td>7.94</td>\n",
              "      <td>8.25</td>\n",
              "      <td>8.13</td>\n",
              "      <td>9.25</td>\n",
              "      <td>8.70</td>\n",
              "      <td>8.40</td>\n",
              "      <td>8.19</td>\n",
              "      <td>8.39</td>\n",
              "      <td>8.88</td>\n",
              "      <td>...</td>\n",
              "      <td>12.37</td>\n",
              "      <td>8.74</td>\n",
              "      <td>9.03</td>\n",
              "      <td>9.00</td>\n",
              "      <td>9.10</td>\n",
              "      <td>10.92</td>\n",
              "      <td>9.67</td>\n",
              "      <td>9.55</td>\n",
              "      <td>9.30</td>\n",
              "      <td>9.89</td>\n",
              "    </tr>\n",
              "  </tbody>\n",
              "</table>\n",
              "<p>4 rows × 198 columns</p>\n",
              "</div>"
            ],
            "text/plain": [
              "            Tie1  Tie2  Tie3  Ban1  Ban2  Ban3  Ban4  Bak1  Bak2  Bak3  ...  \\\n",
              "GeneID                                                                  ...   \n",
              "AGAP006228  9.26  9.34  9.06  8.49  8.81  8.41  8.51  9.02  9.28  9.06  ...   \n",
              "AGAP006227  8.25  7.88  7.97  7.31  7.74  7.37  7.70  7.85  7.40  8.96  ...   \n",
              "AGAP006222  6.44  5.45  6.03  7.45  8.50  7.79  7.59  7.64  7.50  7.86  ...   \n",
              "AGAP002865  8.30  7.94  8.25  8.13  9.25  8.70  8.40  8.19  8.39  8.88  ...   \n",
              "\n",
              "            Malawi_fun10  Uganda_fun1  Uganda_fun2  Uganda_fun3  Uganda_fun4  \\\n",
              "GeneID                                                                         \n",
              "AGAP006228          8.74         7.94         7.98         8.31         8.36   \n",
              "AGAP006227          7.21         6.25         6.62         6.70         6.64   \n",
              "AGAP006222          8.67         6.71         7.54         7.55         6.93   \n",
              "AGAP002865         12.37         8.74         9.03         9.00         9.10   \n",
              "\n",
              "            Uganda_fun5  Uganda_fun6  Uganda_fun7  Uganda_fun8  Uganda_fun9  \n",
              "GeneID                                                                       \n",
              "AGAP006228         9.01         8.19         8.74         8.69         8.48  \n",
              "AGAP006227         7.53         6.70         7.18         7.17         7.16  \n",
              "AGAP006222         8.92         7.37         8.36         7.99         8.28  \n",
              "AGAP002865        10.92         9.67         9.55         9.30         9.89  \n",
              "\n",
              "[4 rows x 198 columns]"
            ]
          },
          "execution_count": 28,
          "metadata": {},
          "output_type": "execute_result"
        }
      ],
      "source": [
        "count_data.set_index('GeneID').loc[fc_data['GeneID']]"
      ]
    },
    {
      "cell_type": "code",
      "execution_count": 26,
      "id": "1937b07e",
      "metadata": {},
      "outputs": [
        {
          "data": {
            "text/html": [
              "<div>\n",
              "<style scoped>\n",
              "    .dataframe tbody tr th:only-of-type {\n",
              "        vertical-align: middle;\n",
              "    }\n",
              "\n",
              "    .dataframe tbody tr th {\n",
              "        vertical-align: top;\n",
              "    }\n",
              "\n",
              "    .dataframe thead th {\n",
              "        text-align: right;\n",
              "    }\n",
              "</style>\n",
              "<table border=\"1\" class=\"dataframe\">\n",
              "  <thead>\n",
              "    <tr style=\"text-align: right;\">\n",
              "      <th></th>\n",
              "      <th>GeneID</th>\n",
              "      <th>GeneName</th>\n",
              "      <th>Tiefora_v_Ngousso</th>\n",
              "      <th>Gou_v_Moz</th>\n",
              "      <th>Ban_v_BanS</th>\n",
              "      <th>BanRe_v_BanS</th>\n",
              "      <th>Bak_v_Kisumu</th>\n",
              "      <th>VK7_v_Kisumu</th>\n",
              "      <th>Cameroon_v_Ngousso</th>\n",
              "      <th>Chad_v_Ngousso</th>\n",
              "      <th>...</th>\n",
              "      <th>Ghana_fun_v_Fang</th>\n",
              "      <th>Malawi_fun_v_Fang</th>\n",
              "      <th>Uganda_fun_v_Fang</th>\n",
              "      <th>Asendabo_v_Moz</th>\n",
              "      <th>Chewaka_v_Moz</th>\n",
              "      <th>Tolay_v_Moz</th>\n",
              "      <th>Ethiopia_v_Dongola</th>\n",
              "      <th>Bouake_gamb_unexp_v_Kisumu</th>\n",
              "      <th>Bouake_colu_unexp_v_Ngousso</th>\n",
              "      <th>BusiaSurvivors_v_Kisumu</th>\n",
              "    </tr>\n",
              "  </thead>\n",
              "  <tbody>\n",
              "    <tr>\n",
              "      <th>1</th>\n",
              "      <td>AGAP006228</td>\n",
              "      <td>COEAE2F</td>\n",
              "      <td>-0.44</td>\n",
              "      <td>-0.12</td>\n",
              "      <td>-0.41</td>\n",
              "      <td>-0.11</td>\n",
              "      <td>-0.26</td>\n",
              "      <td>-0.30</td>\n",
              "      <td>-0.20</td>\n",
              "      <td>0.24</td>\n",
              "      <td>...</td>\n",
              "      <td>0.36</td>\n",
              "      <td>0.28</td>\n",
              "      <td>0.18</td>\n",
              "      <td>0.10</td>\n",
              "      <td>0.36</td>\n",
              "      <td>0.22</td>\n",
              "      <td>0.18</td>\n",
              "      <td>-0.10</td>\n",
              "      <td>-0.73</td>\n",
              "      <td>0.75</td>\n",
              "    </tr>\n",
              "    <tr>\n",
              "      <th>2</th>\n",
              "      <td>AGAP006227</td>\n",
              "      <td>NaN</td>\n",
              "      <td>-0.46</td>\n",
              "      <td>0.01</td>\n",
              "      <td>-0.98</td>\n",
              "      <td>-0.37</td>\n",
              "      <td>0.26</td>\n",
              "      <td>0.01</td>\n",
              "      <td>-0.41</td>\n",
              "      <td>-0.17</td>\n",
              "      <td>...</td>\n",
              "      <td>0.04</td>\n",
              "      <td>-0.36</td>\n",
              "      <td>-0.48</td>\n",
              "      <td>-0.28</td>\n",
              "      <td>0.01</td>\n",
              "      <td>-0.08</td>\n",
              "      <td>0.11</td>\n",
              "      <td>2.57</td>\n",
              "      <td>0.66</td>\n",
              "      <td>0.59</td>\n",
              "    </tr>\n",
              "    <tr>\n",
              "      <th>3</th>\n",
              "      <td>AGAP006222</td>\n",
              "      <td>NaN</td>\n",
              "      <td>0.75</td>\n",
              "      <td>1.27</td>\n",
              "      <td>2.17</td>\n",
              "      <td>0.03</td>\n",
              "      <td>1.53</td>\n",
              "      <td>1.70</td>\n",
              "      <td>1.73</td>\n",
              "      <td>1.10</td>\n",
              "      <td>...</td>\n",
              "      <td>0.71</td>\n",
              "      <td>0.29</td>\n",
              "      <td>-0.03</td>\n",
              "      <td>2.22</td>\n",
              "      <td>3.44</td>\n",
              "      <td>2.52</td>\n",
              "      <td>1.08</td>\n",
              "      <td>0.15</td>\n",
              "      <td>2.43</td>\n",
              "      <td>-2.83</td>\n",
              "    </tr>\n",
              "    <tr>\n",
              "      <th>0</th>\n",
              "      <td>AGAP002865</td>\n",
              "      <td>CYP6P3</td>\n",
              "      <td>4.26</td>\n",
              "      <td>1.07</td>\n",
              "      <td>1.36</td>\n",
              "      <td>-0.76</td>\n",
              "      <td>2.03</td>\n",
              "      <td>3.90</td>\n",
              "      <td>1.26</td>\n",
              "      <td>1.87</td>\n",
              "      <td>...</td>\n",
              "      <td>3.58</td>\n",
              "      <td>5.44</td>\n",
              "      <td>2.61</td>\n",
              "      <td>2.41</td>\n",
              "      <td>4.70</td>\n",
              "      <td>2.85</td>\n",
              "      <td>0.47</td>\n",
              "      <td>1.00</td>\n",
              "      <td>5.19</td>\n",
              "      <td>-3.39</td>\n",
              "    </tr>\n",
              "  </tbody>\n",
              "</table>\n",
              "<p>4 rows × 30 columns</p>\n",
              "</div>"
            ],
            "text/plain": [
              "       GeneID GeneName  Tiefora_v_Ngousso  Gou_v_Moz  Ban_v_BanS  \\\n",
              "1  AGAP006228  COEAE2F              -0.44      -0.12       -0.41   \n",
              "2  AGAP006227      NaN              -0.46       0.01       -0.98   \n",
              "3  AGAP006222      NaN               0.75       1.27        2.17   \n",
              "0  AGAP002865   CYP6P3               4.26       1.07        1.36   \n",
              "\n",
              "   BanRe_v_BanS  Bak_v_Kisumu  VK7_v_Kisumu  Cameroon_v_Ngousso  \\\n",
              "1         -0.11         -0.26         -0.30               -0.20   \n",
              "2         -0.37          0.26          0.01               -0.41   \n",
              "3          0.03          1.53          1.70                1.73   \n",
              "0         -0.76          2.03          3.90                1.26   \n",
              "\n",
              "   Chad_v_Ngousso  ...  Ghana_fun_v_Fang  Malawi_fun_v_Fang  \\\n",
              "1            0.24  ...              0.36               0.28   \n",
              "2           -0.17  ...              0.04              -0.36   \n",
              "3            1.10  ...              0.71               0.29   \n",
              "0            1.87  ...              3.58               5.44   \n",
              "\n",
              "   Uganda_fun_v_Fang  Asendabo_v_Moz  Chewaka_v_Moz  Tolay_v_Moz  \\\n",
              "1               0.18            0.10           0.36         0.22   \n",
              "2              -0.48           -0.28           0.01        -0.08   \n",
              "3              -0.03            2.22           3.44         2.52   \n",
              "0               2.61            2.41           4.70         2.85   \n",
              "\n",
              "   Ethiopia_v_Dongola  Bouake_gamb_unexp_v_Kisumu  \\\n",
              "1                0.18                       -0.10   \n",
              "2                0.11                        2.57   \n",
              "3                1.08                        0.15   \n",
              "0                0.47                        1.00   \n",
              "\n",
              "   Bouake_colu_unexp_v_Ngousso  BusiaSurvivors_v_Kisumu  \n",
              "1                        -0.73                     0.75  \n",
              "2                         0.66                     0.59  \n",
              "3                         2.43                    -2.83  \n",
              "0                         5.19                    -3.39  \n",
              "\n",
              "[4 rows x 30 columns]"
            ]
          },
          "execution_count": 26,
          "metadata": {},
          "output_type": "execute_result"
        }
      ],
      "source": [
        "fc_data"
      ]
    },
    {
      "cell_type": "code",
      "execution_count": null,
      "id": "b5ecd79d",
      "metadata": {},
      "outputs": [],
      "source": [
        "\n",
        "# load fold change data, make long format and merge with metadata for hovertext\n",
        "fc_data = xpress.data(data_type=\"fcs\", analysis=analysis, microarray=microarray, gene_id=gene_id, sort_by=sort_by).reset_index()\n",
        "count_data = count_data.query(\"GeneID in @fc_data.GeneID\")\n",
        "fc_data.loc[:, 'Label'] = [id_ + \" | \" + name if name != \"\" else id_ for id_, name in zip(fc_data['GeneID'].fillna(\"\"), fc_data['GeneName'].fillna(\"\"))]\n",
        "fc_data = fc_data.drop(columns=['GeneName', 'GeneID']).melt(id_vars='Label', var_name='comparison', value_name='log2FC')\n",
        "fc_data = fc_data.merge(df_metadata, how='left')"
      ]
    },
    {
      "cell_type": "code",
      "execution_count": 5,
      "id": "bMksl8rNPEMS",
      "metadata": {
        "colab": {
          "base_uri": "https://localhost:8080/",
          "height": 317
        },
        "id": "bMksl8rNPEMS",
        "outputId": "25cb0ccf-4e26-4961-99bc-d839debfc7e1"
      },
      "outputs": [
        {
          "data": {
            "application/vnd.plotly.v1+json": {
              "config": {
                "plotlyServerURL": "https://plot.ly"
              },
              "data": [
                {
                  "alignmentgroup": "True",
                  "boxpoints": "all",
                  "customdata": [
                    [
                      "Tiefora",
                      "Ngousso",
                      "coluzzii",
                      "Burkina Faso",
                      "rnaseq"
                    ],
                    [
                      "Tiefora",
                      "Ngousso",
                      "coluzzii",
                      "Burkina Faso",
                      "rnaseq"
                    ],
                    [
                      "Tiefora",
                      "Ngousso",
                      "coluzzii",
                      "Burkina Faso",
                      "rnaseq"
                    ],
                    [
                      "Ban",
                      "BanS",
                      "coluzzii",
                      "Burkina Faso",
                      "rnaseq"
                    ],
                    [
                      "Ban",
                      "BanS",
                      "coluzzii",
                      "Burkina Faso",
                      "rnaseq"
                    ],
                    [
                      "Ban",
                      "BanS",
                      "coluzzii",
                      "Burkina Faso",
                      "rnaseq"
                    ],
                    [
                      "BanRe",
                      "BanS",
                      "coluzzii",
                      "Burkina Faso",
                      "rnaseq"
                    ],
                    [
                      "BanRe",
                      "BanS",
                      "coluzzii",
                      "Burkina Faso",
                      "rnaseq"
                    ],
                    [
                      "BanRe",
                      "BanS",
                      "coluzzii",
                      "Burkina Faso",
                      "rnaseq"
                    ],
                    [
                      "VK7",
                      "Kisumu",
                      "coluzzii",
                      "Burkina Faso",
                      "rnaseq"
                    ],
                    [
                      "VK7",
                      "Kisumu",
                      "coluzzii",
                      "Burkina Faso",
                      "rnaseq"
                    ],
                    [
                      "VK7",
                      "Kisumu",
                      "coluzzii",
                      "Burkina Faso",
                      "rnaseq"
                    ],
                    [
                      "Cameroon",
                      "Ngousso",
                      "coluzzii",
                      "Cameroon",
                      "rnaseq"
                    ],
                    [
                      "Cameroon",
                      "Ngousso",
                      "coluzzii",
                      "Cameroon",
                      "rnaseq"
                    ],
                    [
                      "Cameroon",
                      "Ngousso",
                      "coluzzii",
                      "Cameroon",
                      "rnaseq"
                    ],
                    [
                      "Chad",
                      "Ngousso",
                      "coluzzii",
                      "Chad",
                      "rnaseq"
                    ],
                    [
                      "Chad",
                      "Ngousso",
                      "coluzzii",
                      "Chad",
                      "rnaseq"
                    ],
                    [
                      "Chad",
                      "Ngousso",
                      "coluzzii",
                      "Chad",
                      "rnaseq"
                    ],
                    [
                      "Niger",
                      "Ngousso",
                      "coluzzii",
                      "Niger",
                      "rnaseq"
                    ],
                    [
                      "Niger",
                      "Ngousso",
                      "coluzzii",
                      "Niger",
                      "rnaseq"
                    ],
                    [
                      "Niger",
                      "Ngousso",
                      "coluzzii",
                      "Niger",
                      "rnaseq"
                    ],
                    [
                      "Nigeria",
                      "Ngousso",
                      "coluzzii",
                      "Nigeria",
                      "rnaseq"
                    ],
                    [
                      "Nigeria",
                      "Ngousso",
                      "coluzzii",
                      "Nigeria",
                      "rnaseq"
                    ],
                    [
                      "Nigeria",
                      "Ngousso",
                      "coluzzii",
                      "Nigeria",
                      "rnaseq"
                    ],
                    [
                      "Agboville",
                      "Mali",
                      "coluzzii",
                      "Cote d'Ivoire",
                      "rnaseq"
                    ],
                    [
                      "Agboville",
                      "Mali",
                      "coluzzii",
                      "Cote d'Ivoire",
                      "rnaseq"
                    ],
                    [
                      "Agboville",
                      "Mali",
                      "coluzzii",
                      "Cote d'Ivoire",
                      "rnaseq"
                    ],
                    [
                      "Agboville",
                      "Ngousso",
                      "coluzzii",
                      "Cote d'Ivoire",
                      "rnaseq"
                    ],
                    [
                      "Agboville",
                      "Ngousso",
                      "coluzzii",
                      "Cote d'Ivoire",
                      "rnaseq"
                    ],
                    [
                      "Agboville",
                      "Ngousso",
                      "coluzzii",
                      "Cote d'Ivoire",
                      "rnaseq"
                    ],
                    [
                      "Dabou",
                      "Mali",
                      "coluzzii",
                      "Cote d'Ivoire",
                      "rnaseq"
                    ],
                    [
                      "Dabou",
                      "Mali",
                      "coluzzii",
                      "Cote d'Ivoire",
                      "rnaseq"
                    ],
                    [
                      "Dabou",
                      "Mali",
                      "coluzzii",
                      "Cote d'Ivoire",
                      "rnaseq"
                    ],
                    [
                      "Dabou",
                      "Ngousso",
                      "coluzzii",
                      "Cote d'Ivoire",
                      "rnaseq"
                    ],
                    [
                      "Dabou",
                      "Ngousso",
                      "coluzzii",
                      "Cote d'Ivoire",
                      "rnaseq"
                    ],
                    [
                      "Dabou",
                      "Ngousso",
                      "coluzzii",
                      "Cote d'Ivoire",
                      "rnaseq"
                    ],
                    [
                      "Tiassale",
                      "Mali",
                      "coluzzii",
                      "Cote d'Ivoire",
                      "rnaseq"
                    ],
                    [
                      "Tiassale",
                      "Mali",
                      "coluzzii",
                      "Cote d'Ivoire",
                      "rnaseq"
                    ],
                    [
                      "Tiassale",
                      "Mali",
                      "coluzzii",
                      "Cote d'Ivoire",
                      "rnaseq"
                    ],
                    [
                      "Tiassale",
                      "Ngousso",
                      "coluzzii",
                      "Cote d'Ivoire",
                      "rnaseq"
                    ],
                    [
                      "Tiassale",
                      "Ngousso",
                      "coluzzii",
                      "Cote d'Ivoire",
                      "rnaseq"
                    ],
                    [
                      "Tiassale",
                      "Ngousso",
                      "coluzzii",
                      "Cote d'Ivoire",
                      "rnaseq"
                    ],
                    [
                      "Bouake_colu_unexp",
                      "Ngousso",
                      "coluzzii",
                      "Cote d'Ivoire",
                      "rnaseq"
                    ],
                    [
                      "Bouake_colu_unexp",
                      "Ngousso",
                      "coluzzii",
                      "Cote d'Ivoire",
                      "rnaseq"
                    ],
                    [
                      "Bouake_colu_unexp",
                      "Ngousso",
                      "coluzzii",
                      "Cote d'Ivoire",
                      "rnaseq"
                    ]
                  ],
                  "fillcolor": "rgba(255,255,255,0)",
                  "hoveron": "points",
                  "hovertemplate": "species=%{customdata[2]}<br>log2FC=%{x}<br>Label=%{y}<br>resistant=%{customdata[0]}<br>susceptible=%{customdata[1]}<br>country=%{customdata[3]}<br>technology=%{customdata[4]}<extra></extra>",
                  "legendgroup": "coluzzii",
                  "line": {
                    "color": "rgba(255,255,255,0)"
                  },
                  "marker": {
                    "color": "#F8766D"
                  },
                  "name": "coluzzii",
                  "offsetgroup": "coluzzii",
                  "orientation": "h",
                  "pointpos": 0,
                  "showlegend": true,
                  "type": "box",
                  "x": [
                    -0.44,
                    -0.46,
                    0.75,
                    -0.41,
                    -0.98,
                    2.17,
                    -0.11,
                    -0.37,
                    0.03,
                    -0.3,
                    0.01,
                    1.7,
                    -0.2,
                    -0.41,
                    1.73,
                    0.24,
                    -0.17,
                    1.1,
                    0.21,
                    -0.14,
                    0.53,
                    0.14,
                    0.05,
                    1.73,
                    1.69,
                    3.35,
                    2.21,
                    1.14,
                    1.95,
                    2.75,
                    2.28,
                    2.81,
                    2.47,
                    1.71,
                    1.39,
                    3,
                    0.64,
                    2.32,
                    1.94,
                    0.09,
                    0.91,
                    2.48,
                    -0.73,
                    0.66,
                    2.43
                  ],
                  "x0": " ",
                  "xaxis": "x",
                  "y": [
                    "AGAP006228 | COEAE2F",
                    "AGAP006227",
                    "AGAP006222",
                    "AGAP006228 | COEAE2F",
                    "AGAP006227",
                    "AGAP006222",
                    "AGAP006228 | COEAE2F",
                    "AGAP006227",
                    "AGAP006222",
                    "AGAP006228 | COEAE2F",
                    "AGAP006227",
                    "AGAP006222",
                    "AGAP006228 | COEAE2F",
                    "AGAP006227",
                    "AGAP006222",
                    "AGAP006228 | COEAE2F",
                    "AGAP006227",
                    "AGAP006222",
                    "AGAP006228 | COEAE2F",
                    "AGAP006227",
                    "AGAP006222",
                    "AGAP006228 | COEAE2F",
                    "AGAP006227",
                    "AGAP006222",
                    "AGAP006228 | COEAE2F",
                    "AGAP006227",
                    "AGAP006222",
                    "AGAP006228 | COEAE2F",
                    "AGAP006227",
                    "AGAP006222",
                    "AGAP006228 | COEAE2F",
                    "AGAP006227",
                    "AGAP006222",
                    "AGAP006228 | COEAE2F",
                    "AGAP006227",
                    "AGAP006222",
                    "AGAP006228 | COEAE2F",
                    "AGAP006227",
                    "AGAP006222",
                    "AGAP006228 | COEAE2F",
                    "AGAP006227",
                    "AGAP006222",
                    "AGAP006228 | COEAE2F",
                    "AGAP006227",
                    "AGAP006222"
                  ],
                  "y0": " ",
                  "yaxis": "y"
                },
                {
                  "alignmentgroup": "True",
                  "boxpoints": "all",
                  "customdata": [
                    [
                      "Gou",
                      "Moz",
                      "arabiensis",
                      "Burkina Faso",
                      "rnaseq"
                    ],
                    [
                      "Gou",
                      "Moz",
                      "arabiensis",
                      "Burkina Faso",
                      "rnaseq"
                    ],
                    [
                      "Gou",
                      "Moz",
                      "arabiensis",
                      "Burkina Faso",
                      "rnaseq"
                    ],
                    [
                      "Asendabo",
                      "Moz",
                      "arabiensis",
                      "Ethiopia",
                      "rnaseq"
                    ],
                    [
                      "Asendabo",
                      "Moz",
                      "arabiensis",
                      "Ethiopia",
                      "rnaseq"
                    ],
                    [
                      "Asendabo",
                      "Moz",
                      "arabiensis",
                      "Ethiopia",
                      "rnaseq"
                    ],
                    [
                      "Chewaka",
                      "Moz",
                      "arabiensis",
                      "Ethiopia",
                      "rnaseq"
                    ],
                    [
                      "Chewaka",
                      "Moz",
                      "arabiensis",
                      "Ethiopia",
                      "rnaseq"
                    ],
                    [
                      "Chewaka",
                      "Moz",
                      "arabiensis",
                      "Ethiopia",
                      "rnaseq"
                    ],
                    [
                      "Tolay",
                      "Moz",
                      "arabiensis",
                      "Ethiopia",
                      "rnaseq"
                    ],
                    [
                      "Tolay",
                      "Moz",
                      "arabiensis",
                      "Ethiopia",
                      "rnaseq"
                    ],
                    [
                      "Tolay",
                      "Moz",
                      "arabiensis",
                      "Ethiopia",
                      "rnaseq"
                    ],
                    [
                      "Ethiopia",
                      "Dongola",
                      "arabiensis",
                      "Ethiopia",
                      "rnaseq"
                    ],
                    [
                      "Ethiopia",
                      "Dongola",
                      "arabiensis",
                      "Ethiopia",
                      "rnaseq"
                    ],
                    [
                      "Ethiopia",
                      "Dongola",
                      "arabiensis",
                      "Ethiopia",
                      "rnaseq"
                    ]
                  ],
                  "fillcolor": "rgba(255,255,255,0)",
                  "hoveron": "points",
                  "hovertemplate": "species=%{customdata[2]}<br>log2FC=%{x}<br>Label=%{y}<br>resistant=%{customdata[0]}<br>susceptible=%{customdata[1]}<br>country=%{customdata[3]}<br>technology=%{customdata[4]}<extra></extra>",
                  "legendgroup": "arabiensis",
                  "line": {
                    "color": "rgba(255,255,255,0)"
                  },
                  "marker": {
                    "color": "#A3A500"
                  },
                  "name": "arabiensis",
                  "offsetgroup": "arabiensis",
                  "orientation": "h",
                  "pointpos": 0,
                  "showlegend": true,
                  "type": "box",
                  "x": [
                    -0.12,
                    0.01,
                    1.27,
                    0.1,
                    -0.28,
                    2.22,
                    0.36,
                    0.01,
                    3.44,
                    0.22,
                    -0.08,
                    2.52,
                    0.18,
                    0.11,
                    1.08
                  ],
                  "x0": " ",
                  "xaxis": "x",
                  "y": [
                    "AGAP006228 | COEAE2F",
                    "AGAP006227",
                    "AGAP006222",
                    "AGAP006228 | COEAE2F",
                    "AGAP006227",
                    "AGAP006222",
                    "AGAP006228 | COEAE2F",
                    "AGAP006227",
                    "AGAP006222",
                    "AGAP006228 | COEAE2F",
                    "AGAP006227",
                    "AGAP006222",
                    "AGAP006228 | COEAE2F",
                    "AGAP006227",
                    "AGAP006222"
                  ],
                  "y0": " ",
                  "yaxis": "y"
                },
                {
                  "alignmentgroup": "True",
                  "boxpoints": "all",
                  "customdata": [
                    [
                      "Bak",
                      "Kisumu",
                      "gambiae",
                      "Burkina Faso",
                      "rnaseq"
                    ],
                    [
                      "Bak",
                      "Kisumu",
                      "gambiae",
                      "Burkina Faso",
                      "rnaseq"
                    ],
                    [
                      "Bak",
                      "Kisumu",
                      "gambiae",
                      "Burkina Faso",
                      "rnaseq"
                    ],
                    [
                      "Bouake_gamb_unexp",
                      "Kisumu",
                      "gambiae",
                      "Cote d'Ivoire",
                      "rnaseq"
                    ],
                    [
                      "Bouake_gamb_unexp",
                      "Kisumu",
                      "gambiae",
                      "Cote d'Ivoire",
                      "rnaseq"
                    ],
                    [
                      "Bouake_gamb_unexp",
                      "Kisumu",
                      "gambiae",
                      "Cote d'Ivoire",
                      "rnaseq"
                    ],
                    [
                      "BusiaSurvivors",
                      "Kisumu",
                      "gambiae",
                      "Uganda",
                      "rnaseq"
                    ],
                    [
                      "BusiaSurvivors",
                      "Kisumu",
                      "gambiae",
                      "Uganda",
                      "rnaseq"
                    ],
                    [
                      "BusiaSurvivors",
                      "Kisumu",
                      "gambiae",
                      "Uganda",
                      "rnaseq"
                    ]
                  ],
                  "fillcolor": "rgba(255,255,255,0)",
                  "hoveron": "points",
                  "hovertemplate": "species=%{customdata[2]}<br>log2FC=%{x}<br>Label=%{y}<br>resistant=%{customdata[0]}<br>susceptible=%{customdata[1]}<br>country=%{customdata[3]}<br>technology=%{customdata[4]}<extra></extra>",
                  "legendgroup": "gambiae",
                  "line": {
                    "color": "rgba(255,255,255,0)"
                  },
                  "marker": {
                    "color": "#00BF7D"
                  },
                  "name": "gambiae",
                  "offsetgroup": "gambiae",
                  "orientation": "h",
                  "pointpos": 0,
                  "showlegend": true,
                  "type": "box",
                  "x": [
                    -0.26,
                    0.26,
                    1.53,
                    -0.1,
                    2.57,
                    0.15,
                    0.75,
                    0.59,
                    -2.83
                  ],
                  "x0": " ",
                  "xaxis": "x",
                  "y": [
                    "AGAP006228 | COEAE2F",
                    "AGAP006227",
                    "AGAP006222",
                    "AGAP006228 | COEAE2F",
                    "AGAP006227",
                    "AGAP006222",
                    "AGAP006228 | COEAE2F",
                    "AGAP006227",
                    "AGAP006222"
                  ],
                  "y0": " ",
                  "yaxis": "y"
                },
                {
                  "alignmentgroup": "True",
                  "boxpoints": "all",
                  "customdata": [
                    [
                      "Cam_fun",
                      "Fang",
                      "funestus",
                      "Cameroon",
                      "rnaseq"
                    ],
                    [
                      "Cam_fun",
                      "Fang",
                      "funestus",
                      "Cameroon",
                      "rnaseq"
                    ],
                    [
                      "Cam_fun",
                      "Fang",
                      "funestus",
                      "Cameroon",
                      "rnaseq"
                    ],
                    [
                      "Fumoz",
                      "Fang",
                      "funestus",
                      "Mozambique",
                      "rnaseq"
                    ],
                    [
                      "Fumoz",
                      "Fang",
                      "funestus",
                      "Mozambique",
                      "rnaseq"
                    ],
                    [
                      "Fumoz",
                      "Fang",
                      "funestus",
                      "Mozambique",
                      "rnaseq"
                    ],
                    [
                      "Ghana_fun",
                      "Fang",
                      "funestus",
                      "Ghana",
                      "rnaseq"
                    ],
                    [
                      "Ghana_fun",
                      "Fang",
                      "funestus",
                      "Ghana",
                      "rnaseq"
                    ],
                    [
                      "Ghana_fun",
                      "Fang",
                      "funestus",
                      "Ghana",
                      "rnaseq"
                    ],
                    [
                      "Malawi_fun",
                      "Fang",
                      "funestus",
                      "Malawi",
                      "rnaseq"
                    ],
                    [
                      "Malawi_fun",
                      "Fang",
                      "funestus",
                      "Malawi",
                      "rnaseq"
                    ],
                    [
                      "Malawi_fun",
                      "Fang",
                      "funestus",
                      "Malawi",
                      "rnaseq"
                    ],
                    [
                      "Uganda_fun",
                      "Fang",
                      "funestus",
                      "Uganda",
                      "rnaseq"
                    ],
                    [
                      "Uganda_fun",
                      "Fang",
                      "funestus",
                      "Uganda",
                      "rnaseq"
                    ],
                    [
                      "Uganda_fun",
                      "Fang",
                      "funestus",
                      "Uganda",
                      "rnaseq"
                    ]
                  ],
                  "fillcolor": "rgba(255,255,255,0)",
                  "hoveron": "points",
                  "hovertemplate": "species=%{customdata[2]}<br>log2FC=%{x}<br>Label=%{y}<br>resistant=%{customdata[0]}<br>susceptible=%{customdata[1]}<br>country=%{customdata[3]}<br>technology=%{customdata[4]}<extra></extra>",
                  "legendgroup": "funestus",
                  "line": {
                    "color": "rgba(255,255,255,0)"
                  },
                  "marker": {
                    "color": "#00B0F6"
                  },
                  "name": "funestus",
                  "offsetgroup": "funestus",
                  "orientation": "h",
                  "pointpos": 0,
                  "showlegend": true,
                  "type": "box",
                  "x": [
                    -0.1,
                    -0.43,
                    -0.58,
                    -0.09,
                    -0.65,
                    0.03,
                    0.36,
                    0.04,
                    0.71,
                    0.28,
                    -0.36,
                    0.29,
                    0.18,
                    -0.48,
                    -0.03
                  ],
                  "x0": " ",
                  "xaxis": "x",
                  "y": [
                    "AGAP006228 | COEAE2F",
                    "AGAP006227",
                    "AGAP006222",
                    "AGAP006228 | COEAE2F",
                    "AGAP006227",
                    "AGAP006222",
                    "AGAP006228 | COEAE2F",
                    "AGAP006227",
                    "AGAP006222",
                    "AGAP006228 | COEAE2F",
                    "AGAP006227",
                    "AGAP006222",
                    "AGAP006228 | COEAE2F",
                    "AGAP006227",
                    "AGAP006222"
                  ],
                  "y0": " ",
                  "yaxis": "y"
                },
                {
                  "alignmentgroup": "True",
                  "boxpoints": "all",
                  "customdata": [
                    [
                      "Tie1",
                      "coluzzii",
                      "Burkina Faso"
                    ],
                    [
                      "Tie1",
                      "coluzzii",
                      "Burkina Faso"
                    ],
                    [
                      "Tie1",
                      "coluzzii",
                      "Burkina Faso"
                    ],
                    [
                      "Tie2",
                      "coluzzii",
                      "Burkina Faso"
                    ],
                    [
                      "Tie2",
                      "coluzzii",
                      "Burkina Faso"
                    ],
                    [
                      "Tie2",
                      "coluzzii",
                      "Burkina Faso"
                    ],
                    [
                      "Tie3",
                      "coluzzii",
                      "Burkina Faso"
                    ],
                    [
                      "Tie3",
                      "coluzzii",
                      "Burkina Faso"
                    ],
                    [
                      "Tie3",
                      "coluzzii",
                      "Burkina Faso"
                    ],
                    [
                      "Ban1",
                      "coluzzii",
                      "Burkina Faso"
                    ],
                    [
                      "Ban1",
                      "coluzzii",
                      "Burkina Faso"
                    ],
                    [
                      "Ban1",
                      "coluzzii",
                      "Burkina Faso"
                    ],
                    [
                      "Ban2",
                      "coluzzii",
                      "Burkina Faso"
                    ],
                    [
                      "Ban2",
                      "coluzzii",
                      "Burkina Faso"
                    ],
                    [
                      "Ban2",
                      "coluzzii",
                      "Burkina Faso"
                    ],
                    [
                      "Ban3",
                      "coluzzii",
                      "Burkina Faso"
                    ],
                    [
                      "Ban3",
                      "coluzzii",
                      "Burkina Faso"
                    ],
                    [
                      "Ban3",
                      "coluzzii",
                      "Burkina Faso"
                    ],
                    [
                      "Ban4",
                      "coluzzii",
                      "Burkina Faso"
                    ],
                    [
                      "Ban4",
                      "coluzzii",
                      "Burkina Faso"
                    ],
                    [
                      "Ban4",
                      "coluzzii",
                      "Burkina Faso"
                    ],
                    [
                      "VK71",
                      "coluzzii",
                      "Burkina Faso"
                    ],
                    [
                      "VK71",
                      "coluzzii",
                      "Burkina Faso"
                    ],
                    [
                      "VK71",
                      "coluzzii",
                      "Burkina Faso"
                    ],
                    [
                      "VK72",
                      "coluzzii",
                      "Burkina Faso"
                    ],
                    [
                      "VK72",
                      "coluzzii",
                      "Burkina Faso"
                    ],
                    [
                      "VK72",
                      "coluzzii",
                      "Burkina Faso"
                    ],
                    [
                      "VK73",
                      "coluzzii",
                      "Burkina Faso"
                    ],
                    [
                      "VK73",
                      "coluzzii",
                      "Burkina Faso"
                    ],
                    [
                      "VK73",
                      "coluzzii",
                      "Burkina Faso"
                    ],
                    [
                      "VK74",
                      "coluzzii",
                      "Burkina Faso"
                    ],
                    [
                      "VK74",
                      "coluzzii",
                      "Burkina Faso"
                    ],
                    [
                      "VK74",
                      "coluzzii",
                      "Burkina Faso"
                    ],
                    [
                      "BanRe1",
                      "coluzzii",
                      "Burkina Faso"
                    ],
                    [
                      "BanRe1",
                      "coluzzii",
                      "Burkina Faso"
                    ],
                    [
                      "BanRe1",
                      "coluzzii",
                      "Burkina Faso"
                    ],
                    [
                      "BanRe2",
                      "coluzzii",
                      "Burkina Faso"
                    ],
                    [
                      "BanRe2",
                      "coluzzii",
                      "Burkina Faso"
                    ],
                    [
                      "BanRe2",
                      "coluzzii",
                      "Burkina Faso"
                    ],
                    [
                      "BanRe3",
                      "coluzzii",
                      "Burkina Faso"
                    ],
                    [
                      "BanRe3",
                      "coluzzii",
                      "Burkina Faso"
                    ],
                    [
                      "BanRe3",
                      "coluzzii",
                      "Burkina Faso"
                    ],
                    [
                      "BanRe4",
                      "coluzzii",
                      "Burkina Faso"
                    ],
                    [
                      "BanRe4",
                      "coluzzii",
                      "Burkina Faso"
                    ],
                    [
                      "BanRe4",
                      "coluzzii",
                      "Burkina Faso"
                    ],
                    [
                      "Chad1",
                      "coluzzii",
                      "Chad"
                    ],
                    [
                      "Chad1",
                      "coluzzii",
                      "Chad"
                    ],
                    [
                      "Chad1",
                      "coluzzii",
                      "Chad"
                    ],
                    [
                      "Chad2",
                      "coluzzii",
                      "Chad"
                    ],
                    [
                      "Chad2",
                      "coluzzii",
                      "Chad"
                    ],
                    [
                      "Chad2",
                      "coluzzii",
                      "Chad"
                    ],
                    [
                      "Chad3",
                      "coluzzii",
                      "Chad"
                    ],
                    [
                      "Chad3",
                      "coluzzii",
                      "Chad"
                    ],
                    [
                      "Chad3",
                      "coluzzii",
                      "Chad"
                    ],
                    [
                      "Chad4",
                      "coluzzii",
                      "Chad"
                    ],
                    [
                      "Chad4",
                      "coluzzii",
                      "Chad"
                    ],
                    [
                      "Chad4",
                      "coluzzii",
                      "Chad"
                    ],
                    [
                      "Chad5",
                      "coluzzii",
                      "Chad"
                    ],
                    [
                      "Chad5",
                      "coluzzii",
                      "Chad"
                    ],
                    [
                      "Chad5",
                      "coluzzii",
                      "Chad"
                    ],
                    [
                      "Chad6",
                      "coluzzii",
                      "Chad"
                    ],
                    [
                      "Chad6",
                      "coluzzii",
                      "Chad"
                    ],
                    [
                      "Chad6",
                      "coluzzii",
                      "Chad"
                    ],
                    [
                      "Nigeria1",
                      "coluzzii",
                      "Nigeria"
                    ],
                    [
                      "Nigeria1",
                      "coluzzii",
                      "Nigeria"
                    ],
                    [
                      "Nigeria1",
                      "coluzzii",
                      "Nigeria"
                    ],
                    [
                      "Nigeria2",
                      "coluzzii",
                      "Nigeria"
                    ],
                    [
                      "Nigeria2",
                      "coluzzii",
                      "Nigeria"
                    ],
                    [
                      "Nigeria2",
                      "coluzzii",
                      "Nigeria"
                    ],
                    [
                      "Nigeria3",
                      "coluzzii",
                      "Nigeria"
                    ],
                    [
                      "Nigeria3",
                      "coluzzii",
                      "Nigeria"
                    ],
                    [
                      "Nigeria3",
                      "coluzzii",
                      "Nigeria"
                    ],
                    [
                      "Nigeria4",
                      "coluzzii",
                      "Nigeria"
                    ],
                    [
                      "Nigeria4",
                      "coluzzii",
                      "Nigeria"
                    ],
                    [
                      "Nigeria4",
                      "coluzzii",
                      "Nigeria"
                    ],
                    [
                      "Nigeria5",
                      "coluzzii",
                      "Nigeria"
                    ],
                    [
                      "Nigeria5",
                      "coluzzii",
                      "Nigeria"
                    ],
                    [
                      "Nigeria5",
                      "coluzzii",
                      "Nigeria"
                    ],
                    [
                      "Nigeria6",
                      "coluzzii",
                      "Nigeria"
                    ],
                    [
                      "Nigeria6",
                      "coluzzii",
                      "Nigeria"
                    ],
                    [
                      "Nigeria6",
                      "coluzzii",
                      "Nigeria"
                    ],
                    [
                      "Cameroon1",
                      "coluzzii",
                      "Cameroon"
                    ],
                    [
                      "Cameroon1",
                      "coluzzii",
                      "Cameroon"
                    ],
                    [
                      "Cameroon1",
                      "coluzzii",
                      "Cameroon"
                    ],
                    [
                      "Cameroon2",
                      "coluzzii",
                      "Cameroon"
                    ],
                    [
                      "Cameroon2",
                      "coluzzii",
                      "Cameroon"
                    ],
                    [
                      "Cameroon2",
                      "coluzzii",
                      "Cameroon"
                    ],
                    [
                      "Cameroon3",
                      "coluzzii",
                      "Cameroon"
                    ],
                    [
                      "Cameroon3",
                      "coluzzii",
                      "Cameroon"
                    ],
                    [
                      "Cameroon3",
                      "coluzzii",
                      "Cameroon"
                    ],
                    [
                      "Cameroon4",
                      "coluzzii",
                      "Cameroon"
                    ],
                    [
                      "Cameroon4",
                      "coluzzii",
                      "Cameroon"
                    ],
                    [
                      "Cameroon4",
                      "coluzzii",
                      "Cameroon"
                    ],
                    [
                      "Cameroon5",
                      "coluzzii",
                      "Cameroon"
                    ],
                    [
                      "Cameroon5",
                      "coluzzii",
                      "Cameroon"
                    ],
                    [
                      "Cameroon5",
                      "coluzzii",
                      "Cameroon"
                    ],
                    [
                      "Niger1",
                      "coluzzii",
                      "Niger"
                    ],
                    [
                      "Niger1",
                      "coluzzii",
                      "Niger"
                    ],
                    [
                      "Niger1",
                      "coluzzii",
                      "Niger"
                    ],
                    [
                      "Niger2",
                      "coluzzii",
                      "Niger"
                    ],
                    [
                      "Niger2",
                      "coluzzii",
                      "Niger"
                    ],
                    [
                      "Niger2",
                      "coluzzii",
                      "Niger"
                    ],
                    [
                      "Niger3",
                      "coluzzii",
                      "Niger"
                    ],
                    [
                      "Niger3",
                      "coluzzii",
                      "Niger"
                    ],
                    [
                      "Niger3",
                      "coluzzii",
                      "Niger"
                    ],
                    [
                      "Niger4",
                      "coluzzii",
                      "Niger"
                    ],
                    [
                      "Niger4",
                      "coluzzii",
                      "Niger"
                    ],
                    [
                      "Niger4",
                      "coluzzii",
                      "Niger"
                    ],
                    [
                      "Niger5",
                      "coluzzii",
                      "Niger"
                    ],
                    [
                      "Niger5",
                      "coluzzii",
                      "Niger"
                    ],
                    [
                      "Niger5",
                      "coluzzii",
                      "Niger"
                    ],
                    [
                      "Niger6",
                      "coluzzii",
                      "Niger"
                    ],
                    [
                      "Niger6",
                      "coluzzii",
                      "Niger"
                    ],
                    [
                      "Niger6",
                      "coluzzii",
                      "Niger"
                    ],
                    [
                      "NG_Jess1",
                      "coluzzii",
                      "Cameroon"
                    ],
                    [
                      "NG_Jess1",
                      "coluzzii",
                      "Cameroon"
                    ],
                    [
                      "NG_Jess1",
                      "coluzzii",
                      "Cameroon"
                    ],
                    [
                      "NG_Jess2",
                      "coluzzii",
                      "Cameroon"
                    ],
                    [
                      "NG_Jess2",
                      "coluzzii",
                      "Cameroon"
                    ],
                    [
                      "NG_Jess2",
                      "coluzzii",
                      "Cameroon"
                    ],
                    [
                      "NG_Jess3",
                      "coluzzii",
                      "Cameroon"
                    ],
                    [
                      "NG_Jess3",
                      "coluzzii",
                      "Cameroon"
                    ],
                    [
                      "NG_Jess3",
                      "coluzzii",
                      "Cameroon"
                    ],
                    [
                      "BanS1",
                      "coluzzii",
                      "BanS"
                    ],
                    [
                      "BanS1",
                      "coluzzii",
                      "BanS"
                    ],
                    [
                      "BanS1",
                      "coluzzii",
                      "BanS"
                    ],
                    [
                      "BanS2",
                      "coluzzii",
                      "BanS"
                    ],
                    [
                      "BanS2",
                      "coluzzii",
                      "BanS"
                    ],
                    [
                      "BanS2",
                      "coluzzii",
                      "BanS"
                    ],
                    [
                      "BanS3",
                      "coluzzii",
                      "BanS"
                    ],
                    [
                      "BanS3",
                      "coluzzii",
                      "BanS"
                    ],
                    [
                      "BanS3",
                      "coluzzii",
                      "BanS"
                    ],
                    [
                      "BanS4",
                      "coluzzii",
                      "BanS"
                    ],
                    [
                      "BanS4",
                      "coluzzii",
                      "BanS"
                    ],
                    [
                      "BanS4",
                      "coluzzii",
                      "BanS"
                    ],
                    [
                      "NG_Crete1",
                      "coluzzii",
                      "Cameroon"
                    ],
                    [
                      "NG_Crete1",
                      "coluzzii",
                      "Cameroon"
                    ],
                    [
                      "NG_Crete1",
                      "coluzzii",
                      "Cameroon"
                    ],
                    [
                      "NG_Crete2",
                      "coluzzii",
                      "Cameroon"
                    ],
                    [
                      "NG_Crete2",
                      "coluzzii",
                      "Cameroon"
                    ],
                    [
                      "NG_Crete2",
                      "coluzzii",
                      "Cameroon"
                    ],
                    [
                      "NG_Crete3",
                      "coluzzii",
                      "Cameroon"
                    ],
                    [
                      "NG_Crete3",
                      "coluzzii",
                      "Cameroon"
                    ],
                    [
                      "NG_Crete3",
                      "coluzzii",
                      "Cameroon"
                    ],
                    [
                      "NG_Sul1",
                      "coluzzii",
                      "Cameroon"
                    ],
                    [
                      "NG_Sul1",
                      "coluzzii",
                      "Cameroon"
                    ],
                    [
                      "NG_Sul1",
                      "coluzzii",
                      "Cameroon"
                    ],
                    [
                      "NG_Sul2",
                      "coluzzii",
                      "Cameroon"
                    ],
                    [
                      "NG_Sul2",
                      "coluzzii",
                      "Cameroon"
                    ],
                    [
                      "NG_Sul2",
                      "coluzzii",
                      "Cameroon"
                    ],
                    [
                      "NG_Sul3",
                      "coluzzii",
                      "Cameroon"
                    ],
                    [
                      "NG_Sul3",
                      "coluzzii",
                      "Cameroon"
                    ],
                    [
                      "NG_Sul3",
                      "coluzzii",
                      "Cameroon"
                    ],
                    [
                      "Agboville1",
                      "coluzzii",
                      "Cote d'Ivoire"
                    ],
                    [
                      "Agboville1",
                      "coluzzii",
                      "Cote d'Ivoire"
                    ],
                    [
                      "Agboville1",
                      "coluzzii",
                      "Cote d'Ivoire"
                    ],
                    [
                      "Agboville2",
                      "coluzzii",
                      "Cote d'Ivoire"
                    ],
                    [
                      "Agboville2",
                      "coluzzii",
                      "Cote d'Ivoire"
                    ],
                    [
                      "Agboville2",
                      "coluzzii",
                      "Cote d'Ivoire"
                    ],
                    [
                      "Agboville3",
                      "coluzzii",
                      "Cote d'Ivoire"
                    ],
                    [
                      "Agboville3",
                      "coluzzii",
                      "Cote d'Ivoire"
                    ],
                    [
                      "Agboville3",
                      "coluzzii",
                      "Cote d'Ivoire"
                    ],
                    [
                      "Agboville4",
                      "coluzzii",
                      "Cote d'Ivoire"
                    ],
                    [
                      "Agboville4",
                      "coluzzii",
                      "Cote d'Ivoire"
                    ],
                    [
                      "Agboville4",
                      "coluzzii",
                      "Cote d'Ivoire"
                    ],
                    [
                      "Agboville5",
                      "coluzzii",
                      "Cote d'Ivoire"
                    ],
                    [
                      "Agboville5",
                      "coluzzii",
                      "Cote d'Ivoire"
                    ],
                    [
                      "Agboville5",
                      "coluzzii",
                      "Cote d'Ivoire"
                    ],
                    [
                      "Agboville6",
                      "coluzzii",
                      "Cote d'Ivoire"
                    ],
                    [
                      "Agboville6",
                      "coluzzii",
                      "Cote d'Ivoire"
                    ],
                    [
                      "Agboville6",
                      "coluzzii",
                      "Cote d'Ivoire"
                    ],
                    [
                      "Agboville7",
                      "coluzzii",
                      "Cote d'Ivoire"
                    ],
                    [
                      "Agboville7",
                      "coluzzii",
                      "Cote d'Ivoire"
                    ],
                    [
                      "Agboville7",
                      "coluzzii",
                      "Cote d'Ivoire"
                    ],
                    [
                      "Agboville8",
                      "coluzzii",
                      "Cote d'Ivoire"
                    ],
                    [
                      "Agboville8",
                      "coluzzii",
                      "Cote d'Ivoire"
                    ],
                    [
                      "Agboville8",
                      "coluzzii",
                      "Cote d'Ivoire"
                    ],
                    [
                      "Agboville9",
                      "coluzzii",
                      "Cote d'Ivoire"
                    ],
                    [
                      "Agboville9",
                      "coluzzii",
                      "Cote d'Ivoire"
                    ],
                    [
                      "Agboville9",
                      "coluzzii",
                      "Cote d'Ivoire"
                    ],
                    [
                      "Dabou1",
                      "coluzzii",
                      "Cote d'Ivoire"
                    ],
                    [
                      "Dabou1",
                      "coluzzii",
                      "Cote d'Ivoire"
                    ],
                    [
                      "Dabou1",
                      "coluzzii",
                      "Cote d'Ivoire"
                    ],
                    [
                      "Dabou2",
                      "coluzzii",
                      "Cote d'Ivoire"
                    ],
                    [
                      "Dabou2",
                      "coluzzii",
                      "Cote d'Ivoire"
                    ],
                    [
                      "Dabou2",
                      "coluzzii",
                      "Cote d'Ivoire"
                    ],
                    [
                      "Dabou3",
                      "coluzzii",
                      "Cote d'Ivoire"
                    ],
                    [
                      "Dabou3",
                      "coluzzii",
                      "Cote d'Ivoire"
                    ],
                    [
                      "Dabou3",
                      "coluzzii",
                      "Cote d'Ivoire"
                    ],
                    [
                      "Dabou4",
                      "coluzzii",
                      "Cote d'Ivoire"
                    ],
                    [
                      "Dabou4",
                      "coluzzii",
                      "Cote d'Ivoire"
                    ],
                    [
                      "Dabou4",
                      "coluzzii",
                      "Cote d'Ivoire"
                    ],
                    [
                      "Dabou5",
                      "coluzzii",
                      "Cote d'Ivoire"
                    ],
                    [
                      "Dabou5",
                      "coluzzii",
                      "Cote d'Ivoire"
                    ],
                    [
                      "Dabou5",
                      "coluzzii",
                      "Cote d'Ivoire"
                    ],
                    [
                      "Dabou6",
                      "coluzzii",
                      "Cote d'Ivoire"
                    ],
                    [
                      "Dabou6",
                      "coluzzii",
                      "Cote d'Ivoire"
                    ],
                    [
                      "Dabou6",
                      "coluzzii",
                      "Cote d'Ivoire"
                    ],
                    [
                      "Dabou7",
                      "coluzzii",
                      "Cote d'Ivoire"
                    ],
                    [
                      "Dabou7",
                      "coluzzii",
                      "Cote d'Ivoire"
                    ],
                    [
                      "Dabou7",
                      "coluzzii",
                      "Cote d'Ivoire"
                    ],
                    [
                      "Dabou8",
                      "coluzzii",
                      "Cote d'Ivoire"
                    ],
                    [
                      "Dabou8",
                      "coluzzii",
                      "Cote d'Ivoire"
                    ],
                    [
                      "Dabou8",
                      "coluzzii",
                      "Cote d'Ivoire"
                    ],
                    [
                      "Dabou9",
                      "coluzzii",
                      "Cote d'Ivoire"
                    ],
                    [
                      "Dabou9",
                      "coluzzii",
                      "Cote d'Ivoire"
                    ],
                    [
                      "Dabou9",
                      "coluzzii",
                      "Cote d'Ivoire"
                    ],
                    [
                      "Dabou10",
                      "coluzzii",
                      "Cote d'Ivoire"
                    ],
                    [
                      "Dabou10",
                      "coluzzii",
                      "Cote d'Ivoire"
                    ],
                    [
                      "Dabou10",
                      "coluzzii",
                      "Cote d'Ivoire"
                    ],
                    [
                      "Tiassale1",
                      "coluzzii",
                      "Cote d'Ivoire"
                    ],
                    [
                      "Tiassale1",
                      "coluzzii",
                      "Cote d'Ivoire"
                    ],
                    [
                      "Tiassale1",
                      "coluzzii",
                      "Cote d'Ivoire"
                    ],
                    [
                      "Tiassale2",
                      "coluzzii",
                      "Cote d'Ivoire"
                    ],
                    [
                      "Tiassale2",
                      "coluzzii",
                      "Cote d'Ivoire"
                    ],
                    [
                      "Tiassale2",
                      "coluzzii",
                      "Cote d'Ivoire"
                    ],
                    [
                      "Tiassale3",
                      "coluzzii",
                      "Cote d'Ivoire"
                    ],
                    [
                      "Tiassale3",
                      "coluzzii",
                      "Cote d'Ivoire"
                    ],
                    [
                      "Tiassale3",
                      "coluzzii",
                      "Cote d'Ivoire"
                    ],
                    [
                      "Tiassale4",
                      "coluzzii",
                      "Cote d'Ivoire"
                    ],
                    [
                      "Tiassale4",
                      "coluzzii",
                      "Cote d'Ivoire"
                    ],
                    [
                      "Tiassale4",
                      "coluzzii",
                      "Cote d'Ivoire"
                    ],
                    [
                      "Tiassale5",
                      "coluzzii",
                      "Cote d'Ivoire"
                    ],
                    [
                      "Tiassale5",
                      "coluzzii",
                      "Cote d'Ivoire"
                    ],
                    [
                      "Tiassale5",
                      "coluzzii",
                      "Cote d'Ivoire"
                    ],
                    [
                      "Tiassale6",
                      "coluzzii",
                      "Cote d'Ivoire"
                    ],
                    [
                      "Tiassale6",
                      "coluzzii",
                      "Cote d'Ivoire"
                    ],
                    [
                      "Tiassale6",
                      "coluzzii",
                      "Cote d'Ivoire"
                    ],
                    [
                      "Tiassale7",
                      "coluzzii",
                      "Cote d'Ivoire"
                    ],
                    [
                      "Tiassale7",
                      "coluzzii",
                      "Cote d'Ivoire"
                    ],
                    [
                      "Tiassale7",
                      "coluzzii",
                      "Cote d'Ivoire"
                    ],
                    [
                      "Tiassale8",
                      "coluzzii",
                      "Cote d'Ivoire"
                    ],
                    [
                      "Tiassale8",
                      "coluzzii",
                      "Cote d'Ivoire"
                    ],
                    [
                      "Tiassale8",
                      "coluzzii",
                      "Cote d'Ivoire"
                    ],
                    [
                      "Tiassale9",
                      "coluzzii",
                      "Cote d'Ivoire"
                    ],
                    [
                      "Tiassale9",
                      "coluzzii",
                      "Cote d'Ivoire"
                    ],
                    [
                      "Tiassale9",
                      "coluzzii",
                      "Cote d'Ivoire"
                    ],
                    [
                      "Tiassale10",
                      "coluzzii",
                      "Cote d'Ivoire"
                    ],
                    [
                      "Tiassale10",
                      "coluzzii",
                      "Cote d'Ivoire"
                    ],
                    [
                      "Tiassale10",
                      "coluzzii",
                      "Cote d'Ivoire"
                    ],
                    [
                      "Ngousso_Wipf1",
                      "coluzzii",
                      "Cameroon"
                    ],
                    [
                      "Ngousso_Wipf1",
                      "coluzzii",
                      "Cameroon"
                    ],
                    [
                      "Ngousso_Wipf1",
                      "coluzzii",
                      "Cameroon"
                    ],
                    [
                      "Ngousso_Wipf2",
                      "coluzzii",
                      "Cameroon"
                    ],
                    [
                      "Ngousso_Wipf2",
                      "coluzzii",
                      "Cameroon"
                    ],
                    [
                      "Ngousso_Wipf2",
                      "coluzzii",
                      "Cameroon"
                    ],
                    [
                      "Ngousso_Wipf3",
                      "coluzzii",
                      "Cameroon"
                    ],
                    [
                      "Ngousso_Wipf3",
                      "coluzzii",
                      "Cameroon"
                    ],
                    [
                      "Ngousso_Wipf3",
                      "coluzzii",
                      "Cameroon"
                    ],
                    [
                      "Ngousso_Wipf4",
                      "coluzzii",
                      "Cameroon"
                    ],
                    [
                      "Ngousso_Wipf4",
                      "coluzzii",
                      "Cameroon"
                    ],
                    [
                      "Ngousso_Wipf4",
                      "coluzzii",
                      "Cameroon"
                    ],
                    [
                      "Ngousso_Wipf5",
                      "coluzzii",
                      "Cameroon"
                    ],
                    [
                      "Ngousso_Wipf5",
                      "coluzzii",
                      "Cameroon"
                    ],
                    [
                      "Ngousso_Wipf5",
                      "coluzzii",
                      "Cameroon"
                    ],
                    [
                      "Mali1",
                      "coluzzii",
                      "Mali"
                    ],
                    [
                      "Mali1",
                      "coluzzii",
                      "Mali"
                    ],
                    [
                      "Mali1",
                      "coluzzii",
                      "Mali"
                    ],
                    [
                      "Mali2",
                      "coluzzii",
                      "Mali"
                    ],
                    [
                      "Mali2",
                      "coluzzii",
                      "Mali"
                    ],
                    [
                      "Mali2",
                      "coluzzii",
                      "Mali"
                    ],
                    [
                      "Mali3",
                      "coluzzii",
                      "Mali"
                    ],
                    [
                      "Mali3",
                      "coluzzii",
                      "Mali"
                    ],
                    [
                      "Mali3",
                      "coluzzii",
                      "Mali"
                    ],
                    [
                      "Mali4",
                      "coluzzii",
                      "Mali"
                    ],
                    [
                      "Mali4",
                      "coluzzii",
                      "Mali"
                    ],
                    [
                      "Mali4",
                      "coluzzii",
                      "Mali"
                    ],
                    [
                      "Mali5",
                      "coluzzii",
                      "Mali"
                    ],
                    [
                      "Mali5",
                      "coluzzii",
                      "Mali"
                    ],
                    [
                      "Mali5",
                      "coluzzii",
                      "Mali"
                    ],
                    [
                      "Bouake_colu_unexp1",
                      "coluzzii",
                      "Cote d'Ivoire"
                    ],
                    [
                      "Bouake_colu_unexp1",
                      "coluzzii",
                      "Cote d'Ivoire"
                    ],
                    [
                      "Bouake_colu_unexp1",
                      "coluzzii",
                      "Cote d'Ivoire"
                    ],
                    [
                      "Bouake_colu_unexp2",
                      "coluzzii",
                      "Cote d'Ivoire"
                    ],
                    [
                      "Bouake_colu_unexp2",
                      "coluzzii",
                      "Cote d'Ivoire"
                    ],
                    [
                      "Bouake_colu_unexp2",
                      "coluzzii",
                      "Cote d'Ivoire"
                    ],
                    [
                      "Bouake_colu_unexp3",
                      "coluzzii",
                      "Cote d'Ivoire"
                    ],
                    [
                      "Bouake_colu_unexp3",
                      "coluzzii",
                      "Cote d'Ivoire"
                    ],
                    [
                      "Bouake_colu_unexp3",
                      "coluzzii",
                      "Cote d'Ivoire"
                    ],
                    [
                      "Bouake_colu_unexp4",
                      "coluzzii",
                      "Cote d'Ivoire"
                    ],
                    [
                      "Bouake_colu_unexp4",
                      "coluzzii",
                      "Cote d'Ivoire"
                    ],
                    [
                      "Bouake_colu_unexp4",
                      "coluzzii",
                      "Cote d'Ivoire"
                    ],
                    [
                      "Bouake_Ngousso1",
                      "coluzzii",
                      "Cameroon"
                    ],
                    [
                      "Bouake_Ngousso1",
                      "coluzzii",
                      "Cameroon"
                    ],
                    [
                      "Bouake_Ngousso1",
                      "coluzzii",
                      "Cameroon"
                    ],
                    [
                      "Bouake_Ngousso2",
                      "coluzzii",
                      "Cameroon"
                    ],
                    [
                      "Bouake_Ngousso2",
                      "coluzzii",
                      "Cameroon"
                    ],
                    [
                      "Bouake_Ngousso2",
                      "coluzzii",
                      "Cameroon"
                    ],
                    [
                      "Bouake_Ngousso3",
                      "coluzzii",
                      "Cameroon"
                    ],
                    [
                      "Bouake_Ngousso3",
                      "coluzzii",
                      "Cameroon"
                    ],
                    [
                      "Bouake_Ngousso3",
                      "coluzzii",
                      "Cameroon"
                    ],
                    [
                      "Bouake_Ngousso4",
                      "coluzzii",
                      "Cameroon"
                    ],
                    [
                      "Bouake_Ngousso4",
                      "coluzzii",
                      "Cameroon"
                    ],
                    [
                      "Bouake_Ngousso4",
                      "coluzzii",
                      "Cameroon"
                    ]
                  ],
                  "fillcolor": "rgba(255,255,255,0)",
                  "hoveron": "points",
                  "hovertemplate": "species=%{customdata[1]}<br>counts=%{x}<br>GeneID=%{y}<br>sampleID=%{customdata[0]}<br>country=%{customdata[2]}<extra></extra>",
                  "legendgroup": "coluzzii",
                  "line": {
                    "color": "rgba(255,255,255,0)"
                  },
                  "marker": {
                    "color": "#F8766D"
                  },
                  "name": "coluzzii",
                  "offsetgroup": "coluzzii",
                  "orientation": "h",
                  "pointpos": 0,
                  "showlegend": false,
                  "type": "box",
                  "x": [
                    613,
                    304,
                    87,
                    648,
                    236,
                    44,
                    534,
                    251,
                    65,
                    360,
                    159,
                    175,
                    449,
                    214,
                    362,
                    340,
                    165,
                    221,
                    365,
                    208,
                    193,
                    580,
                    271,
                    215,
                    458,
                    274,
                    224,
                    519,
                    276,
                    218,
                    468,
                    202,
                    168,
                    584,
                    313,
                    64,
                    446,
                    271,
                    47,
                    393,
                    278,
                    42,
                    428,
                    261,
                    64,
                    1261,
                    468,
                    461,
                    1269,
                    530,
                    815,
                    1193,
                    468,
                    803,
                    600,
                    252,
                    161,
                    576,
                    326,
                    560,
                    588,
                    286,
                    258,
                    843,
                    422,
                    326,
                    630,
                    302,
                    292,
                    568,
                    405,
                    419,
                    1090,
                    605,
                    1924,
                    1003,
                    545,
                    1121,
                    996,
                    443,
                    676,
                    584,
                    280,
                    635,
                    765,
                    298,
                    685,
                    644,
                    251,
                    861,
                    695,
                    298,
                    809,
                    635,
                    498,
                    910,
                    1160,
                    512,
                    242,
                    1046,
                    422,
                    296,
                    873,
                    419,
                    207,
                    541,
                    324,
                    516,
                    729,
                    286,
                    261,
                    1003,
                    422,
                    545,
                    803,
                    360,
                    47,
                    776,
                    370,
                    33,
                    873,
                    357,
                    38,
                    556,
                    405,
                    56,
                    385,
                    320,
                    49,
                    508,
                    413,
                    58,
                    541,
                    317,
                    50,
                    815,
                    357,
                    49,
                    776,
                    367,
                    31,
                    867,
                    352,
                    39,
                    832,
                    488,
                    307,
                    787,
                    428,
                    175,
                    699,
                    402,
                    236,
                    2353,
                    434,
                    787,
                    3616,
                    855,
                    1607,
                    1833,
                    617,
                    1675,
                    1144,
                    471,
                    622,
                    1287,
                    12503,
                    1121,
                    867,
                    272,
                    474,
                    1652,
                    832,
                    873,
                    8422,
                    1596,
                    1795,
                    826,
                    3541,
                    1342,
                    4096,
                    1278,
                    1370,
                    3104,
                    719,
                    1607,
                    1144,
                    5113,
                    653,
                    832,
                    388,
                    613,
                    2452,
                    1152,
                    1370,
                    1075,
                    534,
                    1758,
                    7858,
                    755,
                    1160,
                    5914,
                    2504,
                    885,
                    5330,
                    481,
                    1992,
                    4738,
                    3191,
                    2165,
                    1361,
                    644,
                    1003,
                    1552,
                    564,
                    1795,
                    1060,
                    501,
                    949,
                    1003,
                    609,
                    680,
                    1252,
                    4270,
                    446,
                    787,
                    425,
                    258,
                    1438,
                    3259,
                    1060,
                    1010,
                    580,
                    2210,
                    815,
                    217,
                    600,
                    1448,
                    402,
                    410,
                    1144,
                    425,
                    204,
                    885,
                    393,
                    131,
                    1209,
                    776,
                    163,
                    1038,
                    564,
                    100,
                    1128,
                    843,
                    234,
                    826,
                    242,
                    191,
                    714,
                    333,
                    251,
                    843,
                    177,
                    302,
                    750,
                    195,
                    286,
                    704,
                    224,
                    224,
                    413,
                    626,
                    226,
                    461,
                    760,
                    202,
                    498,
                    352,
                    108,
                    508,
                    592,
                    214,
                    820,
                    377,
                    32,
                    744,
                    360,
                    33,
                    719,
                    385,
                    36,
                    771,
                    331,
                    41
                  ],
                  "x0": " ",
                  "xaxis": "x2",
                  "y": [
                    "AGAP006228",
                    "AGAP006227",
                    "AGAP006222",
                    "AGAP006228",
                    "AGAP006227",
                    "AGAP006222",
                    "AGAP006228",
                    "AGAP006227",
                    "AGAP006222",
                    "AGAP006228",
                    "AGAP006227",
                    "AGAP006222",
                    "AGAP006228",
                    "AGAP006227",
                    "AGAP006222",
                    "AGAP006228",
                    "AGAP006227",
                    "AGAP006222",
                    "AGAP006228",
                    "AGAP006227",
                    "AGAP006222",
                    "AGAP006228",
                    "AGAP006227",
                    "AGAP006222",
                    "AGAP006228",
                    "AGAP006227",
                    "AGAP006222",
                    "AGAP006228",
                    "AGAP006227",
                    "AGAP006222",
                    "AGAP006228",
                    "AGAP006227",
                    "AGAP006222",
                    "AGAP006228",
                    "AGAP006227",
                    "AGAP006222",
                    "AGAP006228",
                    "AGAP006227",
                    "AGAP006222",
                    "AGAP006228",
                    "AGAP006227",
                    "AGAP006222",
                    "AGAP006228",
                    "AGAP006227",
                    "AGAP006222",
                    "AGAP006228",
                    "AGAP006227",
                    "AGAP006222",
                    "AGAP006228",
                    "AGAP006227",
                    "AGAP006222",
                    "AGAP006228",
                    "AGAP006227",
                    "AGAP006222",
                    "AGAP006228",
                    "AGAP006227",
                    "AGAP006222",
                    "AGAP006228",
                    "AGAP006227",
                    "AGAP006222",
                    "AGAP006228",
                    "AGAP006227",
                    "AGAP006222",
                    "AGAP006228",
                    "AGAP006227",
                    "AGAP006222",
                    "AGAP006228",
                    "AGAP006227",
                    "AGAP006222",
                    "AGAP006228",
                    "AGAP006227",
                    "AGAP006222",
                    "AGAP006228",
                    "AGAP006227",
                    "AGAP006222",
                    "AGAP006228",
                    "AGAP006227",
                    "AGAP006222",
                    "AGAP006228",
                    "AGAP006227",
                    "AGAP006222",
                    "AGAP006228",
                    "AGAP006227",
                    "AGAP006222",
                    "AGAP006228",
                    "AGAP006227",
                    "AGAP006222",
                    "AGAP006228",
                    "AGAP006227",
                    "AGAP006222",
                    "AGAP006228",
                    "AGAP006227",
                    "AGAP006222",
                    "AGAP006228",
                    "AGAP006227",
                    "AGAP006222",
                    "AGAP006228",
                    "AGAP006227",
                    "AGAP006222",
                    "AGAP006228",
                    "AGAP006227",
                    "AGAP006222",
                    "AGAP006228",
                    "AGAP006227",
                    "AGAP006222",
                    "AGAP006228",
                    "AGAP006227",
                    "AGAP006222",
                    "AGAP006228",
                    "AGAP006227",
                    "AGAP006222",
                    "AGAP006228",
                    "AGAP006227",
                    "AGAP006222",
                    "AGAP006228",
                    "AGAP006227",
                    "AGAP006222",
                    "AGAP006228",
                    "AGAP006227",
                    "AGAP006222",
                    "AGAP006228",
                    "AGAP006227",
                    "AGAP006222",
                    "AGAP006228",
                    "AGAP006227",
                    "AGAP006222",
                    "AGAP006228",
                    "AGAP006227",
                    "AGAP006222",
                    "AGAP006228",
                    "AGAP006227",
                    "AGAP006222",
                    "AGAP006228",
                    "AGAP006227",
                    "AGAP006222",
                    "AGAP006228",
                    "AGAP006227",
                    "AGAP006222",
                    "AGAP006228",
                    "AGAP006227",
                    "AGAP006222",
                    "AGAP006228",
                    "AGAP006227",
                    "AGAP006222",
                    "AGAP006228",
                    "AGAP006227",
                    "AGAP006222",
                    "AGAP006228",
                    "AGAP006227",
                    "AGAP006222",
                    "AGAP006228",
                    "AGAP006227",
                    "AGAP006222",
                    "AGAP006228",
                    "AGAP006227",
                    "AGAP006222",
                    "AGAP006228",
                    "AGAP006227",
                    "AGAP006222",
                    "AGAP006228",
                    "AGAP006227",
                    "AGAP006222",
                    "AGAP006228",
                    "AGAP006227",
                    "AGAP006222",
                    "AGAP006228",
                    "AGAP006227",
                    "AGAP006222",
                    "AGAP006228",
                    "AGAP006227",
                    "AGAP006222",
                    "AGAP006228",
                    "AGAP006227",
                    "AGAP006222",
                    "AGAP006228",
                    "AGAP006227",
                    "AGAP006222",
                    "AGAP006228",
                    "AGAP006227",
                    "AGAP006222",
                    "AGAP006228",
                    "AGAP006227",
                    "AGAP006222",
                    "AGAP006228",
                    "AGAP006227",
                    "AGAP006222",
                    "AGAP006228",
                    "AGAP006227",
                    "AGAP006222",
                    "AGAP006228",
                    "AGAP006227",
                    "AGAP006222",
                    "AGAP006228",
                    "AGAP006227",
                    "AGAP006222",
                    "AGAP006228",
                    "AGAP006227",
                    "AGAP006222",
                    "AGAP006228",
                    "AGAP006227",
                    "AGAP006222",
                    "AGAP006228",
                    "AGAP006227",
                    "AGAP006222",
                    "AGAP006228",
                    "AGAP006227",
                    "AGAP006222",
                    "AGAP006228",
                    "AGAP006227",
                    "AGAP006222",
                    "AGAP006228",
                    "AGAP006227",
                    "AGAP006222",
                    "AGAP006228",
                    "AGAP006227",
                    "AGAP006222",
                    "AGAP006228",
                    "AGAP006227",
                    "AGAP006222",
                    "AGAP006228",
                    "AGAP006227",
                    "AGAP006222",
                    "AGAP006228",
                    "AGAP006227",
                    "AGAP006222",
                    "AGAP006228",
                    "AGAP006227",
                    "AGAP006222",
                    "AGAP006228",
                    "AGAP006227",
                    "AGAP006222",
                    "AGAP006228",
                    "AGAP006227",
                    "AGAP006222",
                    "AGAP006228",
                    "AGAP006227",
                    "AGAP006222",
                    "AGAP006228",
                    "AGAP006227",
                    "AGAP006222",
                    "AGAP006228",
                    "AGAP006227",
                    "AGAP006222",
                    "AGAP006228",
                    "AGAP006227",
                    "AGAP006222",
                    "AGAP006228",
                    "AGAP006227",
                    "AGAP006222",
                    "AGAP006228",
                    "AGAP006227",
                    "AGAP006222",
                    "AGAP006228",
                    "AGAP006227",
                    "AGAP006222",
                    "AGAP006228",
                    "AGAP006227",
                    "AGAP006222",
                    "AGAP006228",
                    "AGAP006227",
                    "AGAP006222",
                    "AGAP006228",
                    "AGAP006227",
                    "AGAP006222",
                    "AGAP006228",
                    "AGAP006227",
                    "AGAP006222",
                    "AGAP006228",
                    "AGAP006227",
                    "AGAP006222",
                    "AGAP006228",
                    "AGAP006227",
                    "AGAP006222",
                    "AGAP006228",
                    "AGAP006227",
                    "AGAP006222",
                    "AGAP006228",
                    "AGAP006227",
                    "AGAP006222",
                    "AGAP006228",
                    "AGAP006227",
                    "AGAP006222",
                    "AGAP006228",
                    "AGAP006227",
                    "AGAP006222",
                    "AGAP006228",
                    "AGAP006227",
                    "AGAP006222",
                    "AGAP006228",
                    "AGAP006227",
                    "AGAP006222",
                    "AGAP006228",
                    "AGAP006227",
                    "AGAP006222"
                  ],
                  "y0": " ",
                  "yaxis": "y2"
                },
                {
                  "alignmentgroup": "True",
                  "boxpoints": "all",
                  "customdata": [
                    [
                      "Bak1",
                      "gambiae",
                      "Burkina Faso"
                    ],
                    [
                      "Bak1",
                      "gambiae",
                      "Burkina Faso"
                    ],
                    [
                      "Bak1",
                      "gambiae",
                      "Burkina Faso"
                    ],
                    [
                      "Bak2",
                      "gambiae",
                      "Burkina Faso"
                    ],
                    [
                      "Bak2",
                      "gambiae",
                      "Burkina Faso"
                    ],
                    [
                      "Bak2",
                      "gambiae",
                      "Burkina Faso"
                    ],
                    [
                      "Bak3",
                      "gambiae",
                      "Burkina Faso"
                    ],
                    [
                      "Bak3",
                      "gambiae",
                      "Burkina Faso"
                    ],
                    [
                      "Bak3",
                      "gambiae",
                      "Burkina Faso"
                    ],
                    [
                      "Bak4",
                      "gambiae",
                      "Burkina Faso"
                    ],
                    [
                      "Bak4",
                      "gambiae",
                      "Burkina Faso"
                    ],
                    [
                      "Bak4",
                      "gambiae",
                      "Burkina Faso"
                    ],
                    [
                      "Kis1",
                      "gambiae",
                      "Kenya"
                    ],
                    [
                      "Kis1",
                      "gambiae",
                      "Kenya"
                    ],
                    [
                      "Kis1",
                      "gambiae",
                      "Kenya"
                    ],
                    [
                      "Kis2",
                      "gambiae",
                      "Kenya"
                    ],
                    [
                      "Kis2",
                      "gambiae",
                      "Kenya"
                    ],
                    [
                      "Kis2",
                      "gambiae",
                      "Kenya"
                    ],
                    [
                      "Kis3",
                      "gambiae",
                      "Kenya"
                    ],
                    [
                      "Kis3",
                      "gambiae",
                      "Kenya"
                    ],
                    [
                      "Kis3",
                      "gambiae",
                      "Kenya"
                    ],
                    [
                      "Kis4",
                      "gambiae",
                      "Kenya"
                    ],
                    [
                      "Kis4",
                      "gambiae",
                      "Kenya"
                    ],
                    [
                      "Kis4",
                      "gambiae",
                      "Kenya"
                    ],
                    [
                      "Bouake_Kisumu1",
                      "gambiae",
                      "Kenya"
                    ],
                    [
                      "Bouake_Kisumu1",
                      "gambiae",
                      "Kenya"
                    ],
                    [
                      "Bouake_Kisumu1",
                      "gambiae",
                      "Kenya"
                    ],
                    [
                      "Bouake_Kisumu2",
                      "gambiae",
                      "Kenya"
                    ],
                    [
                      "Bouake_Kisumu2",
                      "gambiae",
                      "Kenya"
                    ],
                    [
                      "Bouake_Kisumu2",
                      "gambiae",
                      "Kenya"
                    ],
                    [
                      "Bouake_Kisumu3",
                      "gambiae",
                      "Kenya"
                    ],
                    [
                      "Bouake_Kisumu3",
                      "gambiae",
                      "Kenya"
                    ],
                    [
                      "Bouake_Kisumu3",
                      "gambiae",
                      "Kenya"
                    ],
                    [
                      "Bouake_Kisumu4",
                      "gambiae",
                      "Kenya"
                    ],
                    [
                      "Bouake_Kisumu4",
                      "gambiae",
                      "Kenya"
                    ],
                    [
                      "Bouake_Kisumu4",
                      "gambiae",
                      "Kenya"
                    ],
                    [
                      "Bouake_gamb_unexp1",
                      "gambiae",
                      "Cote d'Ivoire"
                    ],
                    [
                      "Bouake_gamb_unexp1",
                      "gambiae",
                      "Cote d'Ivoire"
                    ],
                    [
                      "Bouake_gamb_unexp1",
                      "gambiae",
                      "Cote d'Ivoire"
                    ],
                    [
                      "Bouake_gamb_unexp2",
                      "gambiae",
                      "Cote d'Ivoire"
                    ],
                    [
                      "Bouake_gamb_unexp2",
                      "gambiae",
                      "Cote d'Ivoire"
                    ],
                    [
                      "Bouake_gamb_unexp2",
                      "gambiae",
                      "Cote d'Ivoire"
                    ],
                    [
                      "Bouake_gamb_unexp3",
                      "gambiae",
                      "Cote d'Ivoire"
                    ],
                    [
                      "Bouake_gamb_unexp3",
                      "gambiae",
                      "Cote d'Ivoire"
                    ],
                    [
                      "Bouake_gamb_unexp3",
                      "gambiae",
                      "Cote d'Ivoire"
                    ],
                    [
                      "Bouake_gamb_unexp4",
                      "gambiae",
                      "Cote d'Ivoire"
                    ],
                    [
                      "Bouake_gamb_unexp4",
                      "gambiae",
                      "Cote d'Ivoire"
                    ],
                    [
                      "Bouake_gamb_unexp4",
                      "gambiae",
                      "Cote d'Ivoire"
                    ],
                    [
                      "BusiaSurvivors1",
                      "gambiae",
                      "Uganda"
                    ],
                    [
                      "BusiaSurvivors1",
                      "gambiae",
                      "Uganda"
                    ],
                    [
                      "BusiaSurvivors1",
                      "gambiae",
                      "Uganda"
                    ],
                    [
                      "BusiaSurvivors2",
                      "gambiae",
                      "Uganda"
                    ],
                    [
                      "BusiaSurvivors2",
                      "gambiae",
                      "Uganda"
                    ],
                    [
                      "BusiaSurvivors2",
                      "gambiae",
                      "Uganda"
                    ],
                    [
                      "BusiaSurvivors3",
                      "gambiae",
                      "Uganda"
                    ],
                    [
                      "BusiaSurvivors3",
                      "gambiae",
                      "Uganda"
                    ],
                    [
                      "BusiaSurvivors3",
                      "gambiae",
                      "Uganda"
                    ],
                    [
                      "BusiaSurvivors4",
                      "gambiae",
                      "Uganda"
                    ],
                    [
                      "BusiaSurvivors4",
                      "gambiae",
                      "Uganda"
                    ],
                    [
                      "BusiaSurvivors4",
                      "gambiae",
                      "Uganda"
                    ],
                    [
                      "BusiaSurvivors5",
                      "gambiae",
                      "Uganda"
                    ],
                    [
                      "BusiaSurvivors5",
                      "gambiae",
                      "Uganda"
                    ],
                    [
                      "BusiaSurvivors5",
                      "gambiae",
                      "Uganda"
                    ],
                    [
                      "BusiaSurvivors6",
                      "gambiae",
                      "Uganda"
                    ],
                    [
                      "BusiaSurvivors6",
                      "gambiae",
                      "Uganda"
                    ],
                    [
                      "BusiaSurvivors6",
                      "gambiae",
                      "Uganda"
                    ],
                    [
                      "Kisumu1",
                      "gambiae",
                      "Kenya"
                    ],
                    [
                      "Kisumu1",
                      "gambiae",
                      "Kenya"
                    ],
                    [
                      "Kisumu1",
                      "gambiae",
                      "Kenya"
                    ],
                    [
                      "Kisumu2",
                      "gambiae",
                      "Kenya"
                    ],
                    [
                      "Kisumu2",
                      "gambiae",
                      "Kenya"
                    ],
                    [
                      "Kisumu2",
                      "gambiae",
                      "Kenya"
                    ],
                    [
                      "Kisumu3",
                      "gambiae",
                      "Kenya"
                    ],
                    [
                      "Kisumu3",
                      "gambiae",
                      "Kenya"
                    ],
                    [
                      "Kisumu3",
                      "gambiae",
                      "Kenya"
                    ],
                    [
                      "Kisumu4",
                      "gambiae",
                      "Kenya"
                    ],
                    [
                      "Kisumu4",
                      "gambiae",
                      "Kenya"
                    ],
                    [
                      "Kisumu4",
                      "gambiae",
                      "Kenya"
                    ]
                  ],
                  "fillcolor": "rgba(255,255,255,0)",
                  "hoveron": "points",
                  "hovertemplate": "species=%{customdata[1]}<br>counts=%{x}<br>GeneID=%{y}<br>sampleID=%{customdata[0]}<br>country=%{customdata[2]}<extra></extra>",
                  "legendgroup": "gambiae",
                  "line": {
                    "color": "rgba(255,255,255,0)"
                  },
                  "marker": {
                    "color": "#A3A500"
                  },
                  "name": "gambiae",
                  "offsetgroup": "gambiae",
                  "orientation": "h",
                  "pointpos": 0,
                  "showlegend": false,
                  "type": "box",
                  "x": [
                    519,
                    231,
                    199,
                    622,
                    169,
                    181,
                    534,
                    498,
                    232,
                    428,
                    331,
                    130,
                    724,
                    324,
                    49,
                    657,
                    307,
                    25,
                    564,
                    221,
                    98,
                    541,
                    162,
                    87,
                    676,
                    428,
                    55,
                    861,
                    474,
                    49,
                    588,
                    428,
                    71,
                    714,
                    449,
                    64,
                    765,
                    2180,
                    45,
                    501,
                    2304,
                    55,
                    815,
                    3148,
                    99,
                    600,
                    2998,
                    69,
                    755,
                    434,
                    32,
                    776,
                    560,
                    48,
                    676,
                    298,
                    19,
                    644,
                    315,
                    17,
                    690,
                    367,
                    25,
                    798,
                    362,
                    36,
                    360,
                    242,
                    133,
                    422,
                    254,
                    237,
                    530,
                    302,
                    202,
                    410,
                    242,
                    241
                  ],
                  "x0": " ",
                  "xaxis": "x2",
                  "y": [
                    "AGAP006228",
                    "AGAP006227",
                    "AGAP006222",
                    "AGAP006228",
                    "AGAP006227",
                    "AGAP006222",
                    "AGAP006228",
                    "AGAP006227",
                    "AGAP006222",
                    "AGAP006228",
                    "AGAP006227",
                    "AGAP006222",
                    "AGAP006228",
                    "AGAP006227",
                    "AGAP006222",
                    "AGAP006228",
                    "AGAP006227",
                    "AGAP006222",
                    "AGAP006228",
                    "AGAP006227",
                    "AGAP006222",
                    "AGAP006228",
                    "AGAP006227",
                    "AGAP006222",
                    "AGAP006228",
                    "AGAP006227",
                    "AGAP006222",
                    "AGAP006228",
                    "AGAP006227",
                    "AGAP006222",
                    "AGAP006228",
                    "AGAP006227",
                    "AGAP006222",
                    "AGAP006228",
                    "AGAP006227",
                    "AGAP006222",
                    "AGAP006228",
                    "AGAP006227",
                    "AGAP006222",
                    "AGAP006228",
                    "AGAP006227",
                    "AGAP006222",
                    "AGAP006228",
                    "AGAP006227",
                    "AGAP006222",
                    "AGAP006228",
                    "AGAP006227",
                    "AGAP006222",
                    "AGAP006228",
                    "AGAP006227",
                    "AGAP006222",
                    "AGAP006228",
                    "AGAP006227",
                    "AGAP006222",
                    "AGAP006228",
                    "AGAP006227",
                    "AGAP006222",
                    "AGAP006228",
                    "AGAP006227",
                    "AGAP006222",
                    "AGAP006228",
                    "AGAP006227",
                    "AGAP006222",
                    "AGAP006228",
                    "AGAP006227",
                    "AGAP006222",
                    "AGAP006228",
                    "AGAP006227",
                    "AGAP006222",
                    "AGAP006228",
                    "AGAP006227",
                    "AGAP006222",
                    "AGAP006228",
                    "AGAP006227",
                    "AGAP006222",
                    "AGAP006228",
                    "AGAP006227",
                    "AGAP006222"
                  ],
                  "y0": " ",
                  "yaxis": "y2"
                },
                {
                  "alignmentgroup": "True",
                  "boxpoints": "all",
                  "customdata": [
                    [
                      "Asendabo_ara1",
                      "arabiensis",
                      "Ethiopia"
                    ],
                    [
                      "Asendabo_ara1",
                      "arabiensis",
                      "Ethiopia"
                    ],
                    [
                      "Asendabo_ara1",
                      "arabiensis",
                      "Ethiopia"
                    ],
                    [
                      "Asendabo_ara2",
                      "arabiensis",
                      "Ethiopia"
                    ],
                    [
                      "Asendabo_ara2",
                      "arabiensis",
                      "Ethiopia"
                    ],
                    [
                      "Asendabo_ara2",
                      "arabiensis",
                      "Ethiopia"
                    ],
                    [
                      "Asendabo_ara3",
                      "arabiensis",
                      "Ethiopia"
                    ],
                    [
                      "Asendabo_ara3",
                      "arabiensis",
                      "Ethiopia"
                    ],
                    [
                      "Asendabo_ara3",
                      "arabiensis",
                      "Ethiopia"
                    ],
                    [
                      "Asendabo_ara4",
                      "arabiensis",
                      "Ethiopia"
                    ],
                    [
                      "Asendabo_ara4",
                      "arabiensis",
                      "Ethiopia"
                    ],
                    [
                      "Asendabo_ara4",
                      "arabiensis",
                      "Ethiopia"
                    ],
                    [
                      "Chewaka_ara1",
                      "arabiensis",
                      "Ethiopia"
                    ],
                    [
                      "Chewaka_ara1",
                      "arabiensis",
                      "Ethiopia"
                    ],
                    [
                      "Chewaka_ara1",
                      "arabiensis",
                      "Ethiopia"
                    ],
                    [
                      "Chewaka_ara2",
                      "arabiensis",
                      "Ethiopia"
                    ],
                    [
                      "Chewaka_ara2",
                      "arabiensis",
                      "Ethiopia"
                    ],
                    [
                      "Chewaka_ara2",
                      "arabiensis",
                      "Ethiopia"
                    ],
                    [
                      "Chewaka_ara3",
                      "arabiensis",
                      "Ethiopia"
                    ],
                    [
                      "Chewaka_ara3",
                      "arabiensis",
                      "Ethiopia"
                    ],
                    [
                      "Chewaka_ara3",
                      "arabiensis",
                      "Ethiopia"
                    ],
                    [
                      "Chewaka_ara4",
                      "arabiensis",
                      "Ethiopia"
                    ],
                    [
                      "Chewaka_ara4",
                      "arabiensis",
                      "Ethiopia"
                    ],
                    [
                      "Chewaka_ara4",
                      "arabiensis",
                      "Ethiopia"
                    ],
                    [
                      "Moz_VanLeeuwen1",
                      "arabiensis",
                      "Mozambique"
                    ],
                    [
                      "Moz_VanLeeuwen1",
                      "arabiensis",
                      "Mozambique"
                    ],
                    [
                      "Moz_VanLeeuwen1",
                      "arabiensis",
                      "Mozambique"
                    ],
                    [
                      "Moz_VanLeeuwen2",
                      "arabiensis",
                      "Mozambique"
                    ],
                    [
                      "Moz_VanLeeuwen2",
                      "arabiensis",
                      "Mozambique"
                    ],
                    [
                      "Moz_VanLeeuwen2",
                      "arabiensis",
                      "Mozambique"
                    ],
                    [
                      "Moz_VanLeeuwen3",
                      "arabiensis",
                      "Mozambique"
                    ],
                    [
                      "Moz_VanLeeuwen3",
                      "arabiensis",
                      "Mozambique"
                    ],
                    [
                      "Moz_VanLeeuwen3",
                      "arabiensis",
                      "Mozambique"
                    ],
                    [
                      "Moz_VanLeeuwen4",
                      "arabiensis",
                      "Mozambique"
                    ],
                    [
                      "Moz_VanLeeuwen4",
                      "arabiensis",
                      "Mozambique"
                    ],
                    [
                      "Moz_VanLeeuwen4",
                      "arabiensis",
                      "Mozambique"
                    ],
                    [
                      "Tolay1",
                      "arabiensis",
                      "Ethiopia"
                    ],
                    [
                      "Tolay1",
                      "arabiensis",
                      "Ethiopia"
                    ],
                    [
                      "Tolay1",
                      "arabiensis",
                      "Ethiopia"
                    ],
                    [
                      "Tolay2",
                      "arabiensis",
                      "Ethiopia"
                    ],
                    [
                      "Tolay2",
                      "arabiensis",
                      "Ethiopia"
                    ],
                    [
                      "Tolay2",
                      "arabiensis",
                      "Ethiopia"
                    ],
                    [
                      "Tolay3",
                      "arabiensis",
                      "Ethiopia"
                    ],
                    [
                      "Tolay3",
                      "arabiensis",
                      "Ethiopia"
                    ],
                    [
                      "Tolay3",
                      "arabiensis",
                      "Ethiopia"
                    ],
                    [
                      "Tolay4",
                      "arabiensis",
                      "Ethiopia"
                    ],
                    [
                      "Tolay4",
                      "arabiensis",
                      "Ethiopia"
                    ],
                    [
                      "Tolay4",
                      "arabiensis",
                      "Ethiopia"
                    ],
                    [
                      "Dongola1",
                      "arabiensis",
                      "Sudan"
                    ],
                    [
                      "Dongola1",
                      "arabiensis",
                      "Sudan"
                    ],
                    [
                      "Dongola1",
                      "arabiensis",
                      "Sudan"
                    ],
                    [
                      "Dongola2",
                      "arabiensis",
                      "Sudan"
                    ],
                    [
                      "Dongola2",
                      "arabiensis",
                      "Sudan"
                    ],
                    [
                      "Dongola2",
                      "arabiensis",
                      "Sudan"
                    ],
                    [
                      "Dongola3",
                      "arabiensis",
                      "Sudan"
                    ],
                    [
                      "Dongola3",
                      "arabiensis",
                      "Sudan"
                    ],
                    [
                      "Dongola3",
                      "arabiensis",
                      "Sudan"
                    ],
                    [
                      "Ethiopia1",
                      "arabiensis",
                      "Ethiopia"
                    ],
                    [
                      "Ethiopia1",
                      "arabiensis",
                      "Ethiopia"
                    ],
                    [
                      "Ethiopia1",
                      "arabiensis",
                      "Ethiopia"
                    ],
                    [
                      "Ethiopia2",
                      "arabiensis",
                      "Ethiopia"
                    ],
                    [
                      "Ethiopia2",
                      "arabiensis",
                      "Ethiopia"
                    ],
                    [
                      "Ethiopia2",
                      "arabiensis",
                      "Ethiopia"
                    ],
                    [
                      "Ethiopia3",
                      "arabiensis",
                      "Ethiopia"
                    ],
                    [
                      "Ethiopia3",
                      "arabiensis",
                      "Ethiopia"
                    ],
                    [
                      "Ethiopia3",
                      "arabiensis",
                      "Ethiopia"
                    ],
                    [
                      "Gou1",
                      "arabiensis",
                      "Burkina Faso"
                    ],
                    [
                      "Gou1",
                      "arabiensis",
                      "Burkina Faso"
                    ],
                    [
                      "Gou1",
                      "arabiensis",
                      "Burkina Faso"
                    ],
                    [
                      "Gou2",
                      "arabiensis",
                      "Burkina Faso"
                    ],
                    [
                      "Gou2",
                      "arabiensis",
                      "Burkina Faso"
                    ],
                    [
                      "Gou2",
                      "arabiensis",
                      "Burkina Faso"
                    ],
                    [
                      "Gou3",
                      "arabiensis",
                      "Burkina Faso"
                    ],
                    [
                      "Gou3",
                      "arabiensis",
                      "Burkina Faso"
                    ],
                    [
                      "Gou3",
                      "arabiensis",
                      "Burkina Faso"
                    ],
                    [
                      "Moz_Ranson1",
                      "arabiensis",
                      "Mozambique"
                    ],
                    [
                      "Moz_Ranson1",
                      "arabiensis",
                      "Mozambique"
                    ],
                    [
                      "Moz_Ranson1",
                      "arabiensis",
                      "Mozambique"
                    ],
                    [
                      "Moz_Ranson2",
                      "arabiensis",
                      "Mozambique"
                    ],
                    [
                      "Moz_Ranson2",
                      "arabiensis",
                      "Mozambique"
                    ],
                    [
                      "Moz_Ranson2",
                      "arabiensis",
                      "Mozambique"
                    ],
                    [
                      "Moz_Ranson3",
                      "arabiensis",
                      "Mozambique"
                    ],
                    [
                      "Moz_Ranson3",
                      "arabiensis",
                      "Mozambique"
                    ],
                    [
                      "Moz_Ranson3",
                      "arabiensis",
                      "Mozambique"
                    ]
                  ],
                  "fillcolor": "rgba(255,255,255,0)",
                  "hoveron": "points",
                  "hovertemplate": "species=%{customdata[1]}<br>counts=%{x}<br>GeneID=%{y}<br>sampleID=%{customdata[0]}<br>country=%{customdata[2]}<extra></extra>",
                  "legendgroup": "arabiensis",
                  "line": {
                    "color": "rgba(255,255,255,0)"
                  },
                  "marker": {
                    "color": "#00BF7D"
                  },
                  "name": "arabiensis",
                  "offsetgroup": "arabiensis",
                  "orientation": "h",
                  "pointpos": 0,
                  "showlegend": false,
                  "type": "box",
                  "x": [
                    942,
                    488,
                    221,
                    879,
                    419,
                    223,
                    989,
                    383,
                    286,
                    820,
                    357,
                    165,
                    1193,
                    526,
                    605,
                    1287,
                    588,
                    596,
                    1053,
                    458,
                    592,
                    809,
                    440,
                    296,
                    873,
                    537,
                    37,
                    809,
                    437,
                    45,
                    955,
                    526,
                    73,
                    744,
                    495,
                    41,
                    1152,
                    516,
                    256,
                    996,
                    471,
                    208,
                    1046,
                    545,
                    338,
                    809,
                    405,
                    324,
                    272,
                    223,
                    185,
                    244,
                    189,
                    193,
                    251,
                    177,
                    117,
                    278,
                    231,
                    413,
                    280,
                    187,
                    355,
                    290,
                    202,
                    261,
                    676,
                    309,
                    78,
                    832,
                    324,
                    110,
                    709,
                    309,
                    73,
                    820,
                    388,
                    41,
                    755,
                    249,
                    31,
                    798,
                    282,
                    36
                  ],
                  "x0": " ",
                  "xaxis": "x2",
                  "y": [
                    "AGAP006228",
                    "AGAP006227",
                    "AGAP006222",
                    "AGAP006228",
                    "AGAP006227",
                    "AGAP006222",
                    "AGAP006228",
                    "AGAP006227",
                    "AGAP006222",
                    "AGAP006228",
                    "AGAP006227",
                    "AGAP006222",
                    "AGAP006228",
                    "AGAP006227",
                    "AGAP006222",
                    "AGAP006228",
                    "AGAP006227",
                    "AGAP006222",
                    "AGAP006228",
                    "AGAP006227",
                    "AGAP006222",
                    "AGAP006228",
                    "AGAP006227",
                    "AGAP006222",
                    "AGAP006228",
                    "AGAP006227",
                    "AGAP006222",
                    "AGAP006228",
                    "AGAP006227",
                    "AGAP006222",
                    "AGAP006228",
                    "AGAP006227",
                    "AGAP006222",
                    "AGAP006228",
                    "AGAP006227",
                    "AGAP006222",
                    "AGAP006228",
                    "AGAP006227",
                    "AGAP006222",
                    "AGAP006228",
                    "AGAP006227",
                    "AGAP006222",
                    "AGAP006228",
                    "AGAP006227",
                    "AGAP006222",
                    "AGAP006228",
                    "AGAP006227",
                    "AGAP006222",
                    "AGAP006228",
                    "AGAP006227",
                    "AGAP006222",
                    "AGAP006228",
                    "AGAP006227",
                    "AGAP006222",
                    "AGAP006228",
                    "AGAP006227",
                    "AGAP006222",
                    "AGAP006228",
                    "AGAP006227",
                    "AGAP006222",
                    "AGAP006228",
                    "AGAP006227",
                    "AGAP006222",
                    "AGAP006228",
                    "AGAP006227",
                    "AGAP006222",
                    "AGAP006228",
                    "AGAP006227",
                    "AGAP006222",
                    "AGAP006228",
                    "AGAP006227",
                    "AGAP006222",
                    "AGAP006228",
                    "AGAP006227",
                    "AGAP006222",
                    "AGAP006228",
                    "AGAP006227",
                    "AGAP006222",
                    "AGAP006228",
                    "AGAP006227",
                    "AGAP006222",
                    "AGAP006228",
                    "AGAP006227",
                    "AGAP006222"
                  ],
                  "y0": " ",
                  "yaxis": "y2"
                },
                {
                  "alignmentgroup": "True",
                  "boxpoints": "all",
                  "customdata": [
                    [
                      "Cameroon_fun1",
                      "funestus",
                      "Cameroon"
                    ],
                    [
                      "Cameroon_fun1",
                      "funestus",
                      "Cameroon"
                    ],
                    [
                      "Cameroon_fun1",
                      "funestus",
                      "Cameroon"
                    ],
                    [
                      "Cameroon_fun2",
                      "funestus",
                      "Cameroon"
                    ],
                    [
                      "Cameroon_fun2",
                      "funestus",
                      "Cameroon"
                    ],
                    [
                      "Cameroon_fun2",
                      "funestus",
                      "Cameroon"
                    ],
                    [
                      "Cameroon_fun3",
                      "funestus",
                      "Cameroon"
                    ],
                    [
                      "Cameroon_fun3",
                      "funestus",
                      "Cameroon"
                    ],
                    [
                      "Cameroon_fun3",
                      "funestus",
                      "Cameroon"
                    ],
                    [
                      "Cameroon_fun4",
                      "funestus",
                      "Cameroon"
                    ],
                    [
                      "Cameroon_fun4",
                      "funestus",
                      "Cameroon"
                    ],
                    [
                      "Cameroon_fun4",
                      "funestus",
                      "Cameroon"
                    ],
                    [
                      "Cameroon_fun5",
                      "funestus",
                      "Cameroon"
                    ],
                    [
                      "Cameroon_fun5",
                      "funestus",
                      "Cameroon"
                    ],
                    [
                      "Cameroon_fun5",
                      "funestus",
                      "Cameroon"
                    ],
                    [
                      "Cameroon_fun6",
                      "funestus",
                      "Cameroon"
                    ],
                    [
                      "Cameroon_fun6",
                      "funestus",
                      "Cameroon"
                    ],
                    [
                      "Cameroon_fun6",
                      "funestus",
                      "Cameroon"
                    ],
                    [
                      "Cameroon_fun7",
                      "funestus",
                      "Cameroon"
                    ],
                    [
                      "Cameroon_fun7",
                      "funestus",
                      "Cameroon"
                    ],
                    [
                      "Cameroon_fun7",
                      "funestus",
                      "Cameroon"
                    ],
                    [
                      "Cameroon_fun8",
                      "funestus",
                      "Cameroon"
                    ],
                    [
                      "Cameroon_fun8",
                      "funestus",
                      "Cameroon"
                    ],
                    [
                      "Cameroon_fun8",
                      "funestus",
                      "Cameroon"
                    ],
                    [
                      "Cameroon_fun9",
                      "funestus",
                      "Cameroon"
                    ],
                    [
                      "Cameroon_fun9",
                      "funestus",
                      "Cameroon"
                    ],
                    [
                      "Cameroon_fun9",
                      "funestus",
                      "Cameroon"
                    ],
                    [
                      "Fang1",
                      "funestus",
                      "Angola"
                    ],
                    [
                      "Fang1",
                      "funestus",
                      "Angola"
                    ],
                    [
                      "Fang1",
                      "funestus",
                      "Angola"
                    ],
                    [
                      "Fang2",
                      "funestus",
                      "Angola"
                    ],
                    [
                      "Fang2",
                      "funestus",
                      "Angola"
                    ],
                    [
                      "Fang2",
                      "funestus",
                      "Angola"
                    ],
                    [
                      "Fang3",
                      "funestus",
                      "Angola"
                    ],
                    [
                      "Fang3",
                      "funestus",
                      "Angola"
                    ],
                    [
                      "Fang3",
                      "funestus",
                      "Angola"
                    ],
                    [
                      "Fumoz1",
                      "funestus",
                      "Mozambique"
                    ],
                    [
                      "Fumoz1",
                      "funestus",
                      "Mozambique"
                    ],
                    [
                      "Fumoz1",
                      "funestus",
                      "Mozambique"
                    ],
                    [
                      "Fumoz2",
                      "funestus",
                      "Mozambique"
                    ],
                    [
                      "Fumoz2",
                      "funestus",
                      "Mozambique"
                    ],
                    [
                      "Fumoz2",
                      "funestus",
                      "Mozambique"
                    ],
                    [
                      "Fumoz3",
                      "funestus",
                      "Mozambique"
                    ],
                    [
                      "Fumoz3",
                      "funestus",
                      "Mozambique"
                    ],
                    [
                      "Fumoz3",
                      "funestus",
                      "Mozambique"
                    ],
                    [
                      "Fumoz4",
                      "funestus",
                      "Mozambique"
                    ],
                    [
                      "Fumoz4",
                      "funestus",
                      "Mozambique"
                    ],
                    [
                      "Fumoz4",
                      "funestus",
                      "Mozambique"
                    ],
                    [
                      "Fumoz5",
                      "funestus",
                      "Mozambique"
                    ],
                    [
                      "Fumoz5",
                      "funestus",
                      "Mozambique"
                    ],
                    [
                      "Fumoz5",
                      "funestus",
                      "Mozambique"
                    ],
                    [
                      "Ghana_fun1",
                      "funestus",
                      "Ghana"
                    ],
                    [
                      "Ghana_fun1",
                      "funestus",
                      "Ghana"
                    ],
                    [
                      "Ghana_fun1",
                      "funestus",
                      "Ghana"
                    ],
                    [
                      "Ghana_fun2",
                      "funestus",
                      "Ghana"
                    ],
                    [
                      "Ghana_fun2",
                      "funestus",
                      "Ghana"
                    ],
                    [
                      "Ghana_fun2",
                      "funestus",
                      "Ghana"
                    ],
                    [
                      "Ghana_fun3",
                      "funestus",
                      "Ghana"
                    ],
                    [
                      "Ghana_fun3",
                      "funestus",
                      "Ghana"
                    ],
                    [
                      "Ghana_fun3",
                      "funestus",
                      "Ghana"
                    ],
                    [
                      "Ghana_fun4",
                      "funestus",
                      "Ghana"
                    ],
                    [
                      "Ghana_fun4",
                      "funestus",
                      "Ghana"
                    ],
                    [
                      "Ghana_fun4",
                      "funestus",
                      "Ghana"
                    ],
                    [
                      "Ghana_fun5",
                      "funestus",
                      "Ghana"
                    ],
                    [
                      "Ghana_fun5",
                      "funestus",
                      "Ghana"
                    ],
                    [
                      "Ghana_fun5",
                      "funestus",
                      "Ghana"
                    ],
                    [
                      "Ghana_fun6",
                      "funestus",
                      "Ghana"
                    ],
                    [
                      "Ghana_fun6",
                      "funestus",
                      "Ghana"
                    ],
                    [
                      "Ghana_fun6",
                      "funestus",
                      "Ghana"
                    ],
                    [
                      "Ghana_fun7",
                      "funestus",
                      "Ghana"
                    ],
                    [
                      "Ghana_fun7",
                      "funestus",
                      "Ghana"
                    ],
                    [
                      "Ghana_fun7",
                      "funestus",
                      "Ghana"
                    ],
                    [
                      "Ghana_fun8",
                      "funestus",
                      "Ghana"
                    ],
                    [
                      "Ghana_fun8",
                      "funestus",
                      "Ghana"
                    ],
                    [
                      "Ghana_fun8",
                      "funestus",
                      "Ghana"
                    ],
                    [
                      "Ghana_fun9",
                      "funestus",
                      "Ghana"
                    ],
                    [
                      "Ghana_fun9",
                      "funestus",
                      "Ghana"
                    ],
                    [
                      "Ghana_fun9",
                      "funestus",
                      "Ghana"
                    ],
                    [
                      "Ghana_fun10",
                      "funestus",
                      "Ghana"
                    ],
                    [
                      "Ghana_fun10",
                      "funestus",
                      "Ghana"
                    ],
                    [
                      "Ghana_fun10",
                      "funestus",
                      "Ghana"
                    ],
                    [
                      "Malawi_fun1",
                      "funestus",
                      "Malawi"
                    ],
                    [
                      "Malawi_fun1",
                      "funestus",
                      "Malawi"
                    ],
                    [
                      "Malawi_fun1",
                      "funestus",
                      "Malawi"
                    ],
                    [
                      "Malawi_fun2",
                      "funestus",
                      "Malawi"
                    ],
                    [
                      "Malawi_fun2",
                      "funestus",
                      "Malawi"
                    ],
                    [
                      "Malawi_fun2",
                      "funestus",
                      "Malawi"
                    ],
                    [
                      "Malawi_fun3",
                      "funestus",
                      "Malawi"
                    ],
                    [
                      "Malawi_fun3",
                      "funestus",
                      "Malawi"
                    ],
                    [
                      "Malawi_fun3",
                      "funestus",
                      "Malawi"
                    ],
                    [
                      "Malawi_fun4",
                      "funestus",
                      "Malawi"
                    ],
                    [
                      "Malawi_fun4",
                      "funestus",
                      "Malawi"
                    ],
                    [
                      "Malawi_fun4",
                      "funestus",
                      "Malawi"
                    ],
                    [
                      "Malawi_fun5",
                      "funestus",
                      "Malawi"
                    ],
                    [
                      "Malawi_fun5",
                      "funestus",
                      "Malawi"
                    ],
                    [
                      "Malawi_fun5",
                      "funestus",
                      "Malawi"
                    ],
                    [
                      "Malawi_fun6",
                      "funestus",
                      "Malawi"
                    ],
                    [
                      "Malawi_fun6",
                      "funestus",
                      "Malawi"
                    ],
                    [
                      "Malawi_fun6",
                      "funestus",
                      "Malawi"
                    ],
                    [
                      "Malawi_fun7",
                      "funestus",
                      "Malawi"
                    ],
                    [
                      "Malawi_fun7",
                      "funestus",
                      "Malawi"
                    ],
                    [
                      "Malawi_fun7",
                      "funestus",
                      "Malawi"
                    ],
                    [
                      "Malawi_fun8",
                      "funestus",
                      "Malawi"
                    ],
                    [
                      "Malawi_fun8",
                      "funestus",
                      "Malawi"
                    ],
                    [
                      "Malawi_fun8",
                      "funestus",
                      "Malawi"
                    ],
                    [
                      "Malawi_fun9",
                      "funestus",
                      "Malawi"
                    ],
                    [
                      "Malawi_fun9",
                      "funestus",
                      "Malawi"
                    ],
                    [
                      "Malawi_fun9",
                      "funestus",
                      "Malawi"
                    ],
                    [
                      "Malawi_fun10",
                      "funestus",
                      "Malawi"
                    ],
                    [
                      "Malawi_fun10",
                      "funestus",
                      "Malawi"
                    ],
                    [
                      "Malawi_fun10",
                      "funestus",
                      "Malawi"
                    ],
                    [
                      "Uganda_fun1",
                      "funestus",
                      "Uganda"
                    ],
                    [
                      "Uganda_fun1",
                      "funestus",
                      "Uganda"
                    ],
                    [
                      "Uganda_fun1",
                      "funestus",
                      "Uganda"
                    ],
                    [
                      "Uganda_fun2",
                      "funestus",
                      "Uganda"
                    ],
                    [
                      "Uganda_fun2",
                      "funestus",
                      "Uganda"
                    ],
                    [
                      "Uganda_fun2",
                      "funestus",
                      "Uganda"
                    ],
                    [
                      "Uganda_fun3",
                      "funestus",
                      "Uganda"
                    ],
                    [
                      "Uganda_fun3",
                      "funestus",
                      "Uganda"
                    ],
                    [
                      "Uganda_fun3",
                      "funestus",
                      "Uganda"
                    ],
                    [
                      "Uganda_fun4",
                      "funestus",
                      "Uganda"
                    ],
                    [
                      "Uganda_fun4",
                      "funestus",
                      "Uganda"
                    ],
                    [
                      "Uganda_fun4",
                      "funestus",
                      "Uganda"
                    ],
                    [
                      "Uganda_fun5",
                      "funestus",
                      "Uganda"
                    ],
                    [
                      "Uganda_fun5",
                      "funestus",
                      "Uganda"
                    ],
                    [
                      "Uganda_fun5",
                      "funestus",
                      "Uganda"
                    ],
                    [
                      "Uganda_fun6",
                      "funestus",
                      "Uganda"
                    ],
                    [
                      "Uganda_fun6",
                      "funestus",
                      "Uganda"
                    ],
                    [
                      "Uganda_fun6",
                      "funestus",
                      "Uganda"
                    ],
                    [
                      "Uganda_fun7",
                      "funestus",
                      "Uganda"
                    ],
                    [
                      "Uganda_fun7",
                      "funestus",
                      "Uganda"
                    ],
                    [
                      "Uganda_fun7",
                      "funestus",
                      "Uganda"
                    ],
                    [
                      "Uganda_fun8",
                      "funestus",
                      "Uganda"
                    ],
                    [
                      "Uganda_fun8",
                      "funestus",
                      "Uganda"
                    ],
                    [
                      "Uganda_fun8",
                      "funestus",
                      "Uganda"
                    ],
                    [
                      "Uganda_fun9",
                      "funestus",
                      "Uganda"
                    ],
                    [
                      "Uganda_fun9",
                      "funestus",
                      "Uganda"
                    ],
                    [
                      "Uganda_fun9",
                      "funestus",
                      "Uganda"
                    ]
                  ],
                  "fillcolor": "rgba(255,255,255,0)",
                  "hoveron": "points",
                  "hovertemplate": "species=%{customdata[1]}<br>counts=%{x}<br>GeneID=%{y}<br>sampleID=%{customdata[0]}<br>country=%{customdata[2]}<extra></extra>",
                  "legendgroup": "funestus",
                  "line": {
                    "color": "rgba(255,255,255,0)"
                  },
                  "marker": {
                    "color": "#00B0F6"
                  },
                  "name": "funestus",
                  "offsetgroup": "funestus",
                  "orientation": "h",
                  "pointpos": 0,
                  "showlegend": false,
                  "type": "box",
                  "x": [
                    296,
                    164,
                    181,
                    340,
                    118,
                    175,
                    292,
                    116,
                    153,
                    260,
                    120,
                    137,
                    239,
                    90,
                    148,
                    298,
                    159,
                    175,
                    274,
                    95,
                    129,
                    282,
                    128,
                    184,
                    249,
                    119,
                    140,
                    326,
                    256,
                    333,
                    292,
                    93,
                    150,
                    278,
                    144,
                    223,
                    326,
                    149,
                    231,
                    300,
                    94,
                    284,
                    290,
                    111,
                    236,
                    258,
                    79,
                    226,
                    246,
                    96,
                    232,
                    468,
                    142,
                    405,
                    407,
                    179,
                    481,
                    431,
                    208,
                    416,
                    372,
                    167,
                    481,
                    474,
                    168,
                    380,
                    347,
                    147,
                    320,
                    286,
                    155,
                    365,
                    410,
                    223,
                    385,
                    375,
                    177,
                    383,
                    355,
                    159,
                    320,
                    352,
                    115,
                    194,
                    340,
                    98,
                    214,
                    452,
                    133,
                    347,
                    300,
                    136,
                    217,
                    317,
                    182,
                    247,
                    405,
                    143,
                    272,
                    360,
                    100,
                    212,
                    357,
                    138,
                    428,
                    375,
                    111,
                    388,
                    428,
                    148,
                    407,
                    246,
                    76,
                    105,
                    252,
                    98,
                    186,
                    317,
                    104,
                    187,
                    329,
                    100,
                    122,
                    516,
                    185,
                    484,
                    292,
                    104,
                    165,
                    428,
                    145,
                    329,
                    413,
                    144,
                    254,
                    357,
                    143,
                    311
                  ],
                  "x0": " ",
                  "xaxis": "x2",
                  "y": [
                    "AGAP006228",
                    "AGAP006227",
                    "AGAP006222",
                    "AGAP006228",
                    "AGAP006227",
                    "AGAP006222",
                    "AGAP006228",
                    "AGAP006227",
                    "AGAP006222",
                    "AGAP006228",
                    "AGAP006227",
                    "AGAP006222",
                    "AGAP006228",
                    "AGAP006227",
                    "AGAP006222",
                    "AGAP006228",
                    "AGAP006227",
                    "AGAP006222",
                    "AGAP006228",
                    "AGAP006227",
                    "AGAP006222",
                    "AGAP006228",
                    "AGAP006227",
                    "AGAP006222",
                    "AGAP006228",
                    "AGAP006227",
                    "AGAP006222",
                    "AGAP006228",
                    "AGAP006227",
                    "AGAP006222",
                    "AGAP006228",
                    "AGAP006227",
                    "AGAP006222",
                    "AGAP006228",
                    "AGAP006227",
                    "AGAP006222",
                    "AGAP006228",
                    "AGAP006227",
                    "AGAP006222",
                    "AGAP006228",
                    "AGAP006227",
                    "AGAP006222",
                    "AGAP006228",
                    "AGAP006227",
                    "AGAP006222",
                    "AGAP006228",
                    "AGAP006227",
                    "AGAP006222",
                    "AGAP006228",
                    "AGAP006227",
                    "AGAP006222",
                    "AGAP006228",
                    "AGAP006227",
                    "AGAP006222",
                    "AGAP006228",
                    "AGAP006227",
                    "AGAP006222",
                    "AGAP006228",
                    "AGAP006227",
                    "AGAP006222",
                    "AGAP006228",
                    "AGAP006227",
                    "AGAP006222",
                    "AGAP006228",
                    "AGAP006227",
                    "AGAP006222",
                    "AGAP006228",
                    "AGAP006227",
                    "AGAP006222",
                    "AGAP006228",
                    "AGAP006227",
                    "AGAP006222",
                    "AGAP006228",
                    "AGAP006227",
                    "AGAP006222",
                    "AGAP006228",
                    "AGAP006227",
                    "AGAP006222",
                    "AGAP006228",
                    "AGAP006227",
                    "AGAP006222",
                    "AGAP006228",
                    "AGAP006227",
                    "AGAP006222",
                    "AGAP006228",
                    "AGAP006227",
                    "AGAP006222",
                    "AGAP006228",
                    "AGAP006227",
                    "AGAP006222",
                    "AGAP006228",
                    "AGAP006227",
                    "AGAP006222",
                    "AGAP006228",
                    "AGAP006227",
                    "AGAP006222",
                    "AGAP006228",
                    "AGAP006227",
                    "AGAP006222",
                    "AGAP006228",
                    "AGAP006227",
                    "AGAP006222",
                    "AGAP006228",
                    "AGAP006227",
                    "AGAP006222",
                    "AGAP006228",
                    "AGAP006227",
                    "AGAP006222",
                    "AGAP006228",
                    "AGAP006227",
                    "AGAP006222",
                    "AGAP006228",
                    "AGAP006227",
                    "AGAP006222",
                    "AGAP006228",
                    "AGAP006227",
                    "AGAP006222",
                    "AGAP006228",
                    "AGAP006227",
                    "AGAP006222",
                    "AGAP006228",
                    "AGAP006227",
                    "AGAP006222",
                    "AGAP006228",
                    "AGAP006227",
                    "AGAP006222",
                    "AGAP006228",
                    "AGAP006227",
                    "AGAP006222",
                    "AGAP006228",
                    "AGAP006227",
                    "AGAP006222",
                    "AGAP006228",
                    "AGAP006227",
                    "AGAP006222",
                    "AGAP006228",
                    "AGAP006227",
                    "AGAP006222"
                  ],
                  "y0": " ",
                  "yaxis": "y2"
                }
              ],
              "layout": {
                "boxmode": "group",
                "height": 300,
                "shapes": [
                  {
                    "line": {
                      "color": "grey",
                      "dash": "dash",
                      "width": 1
                    },
                    "type": "line",
                    "x0": 0,
                    "x1": 0,
                    "xref": "x",
                    "y0": 0,
                    "y1": 1,
                    "yref": "y domain"
                  },
                  {
                    "line": {
                      "color": "grey",
                      "dash": "dash",
                      "width": 1
                    },
                    "type": "line",
                    "x0": 0,
                    "x1": 0,
                    "xref": "x2",
                    "y0": 0,
                    "y1": 1,
                    "yref": "y2 domain"
                  }
                ],
                "template": {
                  "data": {
                    "bar": [
                      {
                        "error_x": {
                          "color": "#2a3f5f"
                        },
                        "error_y": {
                          "color": "#2a3f5f"
                        },
                        "marker": {
                          "line": {
                            "color": "#E5ECF6",
                            "width": 0.5
                          },
                          "pattern": {
                            "fillmode": "overlay",
                            "size": 10,
                            "solidity": 0.2
                          }
                        },
                        "type": "bar"
                      }
                    ],
                    "barpolar": [
                      {
                        "marker": {
                          "line": {
                            "color": "#E5ECF6",
                            "width": 0.5
                          },
                          "pattern": {
                            "fillmode": "overlay",
                            "size": 10,
                            "solidity": 0.2
                          }
                        },
                        "type": "barpolar"
                      }
                    ],
                    "carpet": [
                      {
                        "aaxis": {
                          "endlinecolor": "#2a3f5f",
                          "gridcolor": "white",
                          "linecolor": "white",
                          "minorgridcolor": "white",
                          "startlinecolor": "#2a3f5f"
                        },
                        "baxis": {
                          "endlinecolor": "#2a3f5f",
                          "gridcolor": "white",
                          "linecolor": "white",
                          "minorgridcolor": "white",
                          "startlinecolor": "#2a3f5f"
                        },
                        "type": "carpet"
                      }
                    ],
                    "choropleth": [
                      {
                        "colorbar": {
                          "outlinewidth": 0,
                          "ticks": ""
                        },
                        "type": "choropleth"
                      }
                    ],
                    "contour": [
                      {
                        "colorbar": {
                          "outlinewidth": 0,
                          "ticks": ""
                        },
                        "colorscale": [
                          [
                            0,
                            "#0d0887"
                          ],
                          [
                            0.1111111111111111,
                            "#46039f"
                          ],
                          [
                            0.2222222222222222,
                            "#7201a8"
                          ],
                          [
                            0.3333333333333333,
                            "#9c179e"
                          ],
                          [
                            0.4444444444444444,
                            "#bd3786"
                          ],
                          [
                            0.5555555555555556,
                            "#d8576b"
                          ],
                          [
                            0.6666666666666666,
                            "#ed7953"
                          ],
                          [
                            0.7777777777777778,
                            "#fb9f3a"
                          ],
                          [
                            0.8888888888888888,
                            "#fdca26"
                          ],
                          [
                            1,
                            "#f0f921"
                          ]
                        ],
                        "type": "contour"
                      }
                    ],
                    "contourcarpet": [
                      {
                        "colorbar": {
                          "outlinewidth": 0,
                          "ticks": ""
                        },
                        "type": "contourcarpet"
                      }
                    ],
                    "heatmap": [
                      {
                        "colorbar": {
                          "outlinewidth": 0,
                          "ticks": ""
                        },
                        "colorscale": [
                          [
                            0,
                            "#0d0887"
                          ],
                          [
                            0.1111111111111111,
                            "#46039f"
                          ],
                          [
                            0.2222222222222222,
                            "#7201a8"
                          ],
                          [
                            0.3333333333333333,
                            "#9c179e"
                          ],
                          [
                            0.4444444444444444,
                            "#bd3786"
                          ],
                          [
                            0.5555555555555556,
                            "#d8576b"
                          ],
                          [
                            0.6666666666666666,
                            "#ed7953"
                          ],
                          [
                            0.7777777777777778,
                            "#fb9f3a"
                          ],
                          [
                            0.8888888888888888,
                            "#fdca26"
                          ],
                          [
                            1,
                            "#f0f921"
                          ]
                        ],
                        "type": "heatmap"
                      }
                    ],
                    "heatmapgl": [
                      {
                        "colorbar": {
                          "outlinewidth": 0,
                          "ticks": ""
                        },
                        "colorscale": [
                          [
                            0,
                            "#0d0887"
                          ],
                          [
                            0.1111111111111111,
                            "#46039f"
                          ],
                          [
                            0.2222222222222222,
                            "#7201a8"
                          ],
                          [
                            0.3333333333333333,
                            "#9c179e"
                          ],
                          [
                            0.4444444444444444,
                            "#bd3786"
                          ],
                          [
                            0.5555555555555556,
                            "#d8576b"
                          ],
                          [
                            0.6666666666666666,
                            "#ed7953"
                          ],
                          [
                            0.7777777777777778,
                            "#fb9f3a"
                          ],
                          [
                            0.8888888888888888,
                            "#fdca26"
                          ],
                          [
                            1,
                            "#f0f921"
                          ]
                        ],
                        "type": "heatmapgl"
                      }
                    ],
                    "histogram": [
                      {
                        "marker": {
                          "pattern": {
                            "fillmode": "overlay",
                            "size": 10,
                            "solidity": 0.2
                          }
                        },
                        "type": "histogram"
                      }
                    ],
                    "histogram2d": [
                      {
                        "colorbar": {
                          "outlinewidth": 0,
                          "ticks": ""
                        },
                        "colorscale": [
                          [
                            0,
                            "#0d0887"
                          ],
                          [
                            0.1111111111111111,
                            "#46039f"
                          ],
                          [
                            0.2222222222222222,
                            "#7201a8"
                          ],
                          [
                            0.3333333333333333,
                            "#9c179e"
                          ],
                          [
                            0.4444444444444444,
                            "#bd3786"
                          ],
                          [
                            0.5555555555555556,
                            "#d8576b"
                          ],
                          [
                            0.6666666666666666,
                            "#ed7953"
                          ],
                          [
                            0.7777777777777778,
                            "#fb9f3a"
                          ],
                          [
                            0.8888888888888888,
                            "#fdca26"
                          ],
                          [
                            1,
                            "#f0f921"
                          ]
                        ],
                        "type": "histogram2d"
                      }
                    ],
                    "histogram2dcontour": [
                      {
                        "colorbar": {
                          "outlinewidth": 0,
                          "ticks": ""
                        },
                        "colorscale": [
                          [
                            0,
                            "#0d0887"
                          ],
                          [
                            0.1111111111111111,
                            "#46039f"
                          ],
                          [
                            0.2222222222222222,
                            "#7201a8"
                          ],
                          [
                            0.3333333333333333,
                            "#9c179e"
                          ],
                          [
                            0.4444444444444444,
                            "#bd3786"
                          ],
                          [
                            0.5555555555555556,
                            "#d8576b"
                          ],
                          [
                            0.6666666666666666,
                            "#ed7953"
                          ],
                          [
                            0.7777777777777778,
                            "#fb9f3a"
                          ],
                          [
                            0.8888888888888888,
                            "#fdca26"
                          ],
                          [
                            1,
                            "#f0f921"
                          ]
                        ],
                        "type": "histogram2dcontour"
                      }
                    ],
                    "mesh3d": [
                      {
                        "colorbar": {
                          "outlinewidth": 0,
                          "ticks": ""
                        },
                        "type": "mesh3d"
                      }
                    ],
                    "parcoords": [
                      {
                        "line": {
                          "colorbar": {
                            "outlinewidth": 0,
                            "ticks": ""
                          }
                        },
                        "type": "parcoords"
                      }
                    ],
                    "pie": [
                      {
                        "automargin": true,
                        "type": "pie"
                      }
                    ],
                    "scatter": [
                      {
                        "fillpattern": {
                          "fillmode": "overlay",
                          "size": 10,
                          "solidity": 0.2
                        },
                        "type": "scatter"
                      }
                    ],
                    "scatter3d": [
                      {
                        "line": {
                          "colorbar": {
                            "outlinewidth": 0,
                            "ticks": ""
                          }
                        },
                        "marker": {
                          "colorbar": {
                            "outlinewidth": 0,
                            "ticks": ""
                          }
                        },
                        "type": "scatter3d"
                      }
                    ],
                    "scattercarpet": [
                      {
                        "marker": {
                          "colorbar": {
                            "outlinewidth": 0,
                            "ticks": ""
                          }
                        },
                        "type": "scattercarpet"
                      }
                    ],
                    "scattergeo": [
                      {
                        "marker": {
                          "colorbar": {
                            "outlinewidth": 0,
                            "ticks": ""
                          }
                        },
                        "type": "scattergeo"
                      }
                    ],
                    "scattergl": [
                      {
                        "marker": {
                          "colorbar": {
                            "outlinewidth": 0,
                            "ticks": ""
                          }
                        },
                        "type": "scattergl"
                      }
                    ],
                    "scattermapbox": [
                      {
                        "marker": {
                          "colorbar": {
                            "outlinewidth": 0,
                            "ticks": ""
                          }
                        },
                        "type": "scattermapbox"
                      }
                    ],
                    "scatterpolar": [
                      {
                        "marker": {
                          "colorbar": {
                            "outlinewidth": 0,
                            "ticks": ""
                          }
                        },
                        "type": "scatterpolar"
                      }
                    ],
                    "scatterpolargl": [
                      {
                        "marker": {
                          "colorbar": {
                            "outlinewidth": 0,
                            "ticks": ""
                          }
                        },
                        "type": "scatterpolargl"
                      }
                    ],
                    "scatterternary": [
                      {
                        "marker": {
                          "colorbar": {
                            "outlinewidth": 0,
                            "ticks": ""
                          }
                        },
                        "type": "scatterternary"
                      }
                    ],
                    "surface": [
                      {
                        "colorbar": {
                          "outlinewidth": 0,
                          "ticks": ""
                        },
                        "colorscale": [
                          [
                            0,
                            "#0d0887"
                          ],
                          [
                            0.1111111111111111,
                            "#46039f"
                          ],
                          [
                            0.2222222222222222,
                            "#7201a8"
                          ],
                          [
                            0.3333333333333333,
                            "#9c179e"
                          ],
                          [
                            0.4444444444444444,
                            "#bd3786"
                          ],
                          [
                            0.5555555555555556,
                            "#d8576b"
                          ],
                          [
                            0.6666666666666666,
                            "#ed7953"
                          ],
                          [
                            0.7777777777777778,
                            "#fb9f3a"
                          ],
                          [
                            0.8888888888888888,
                            "#fdca26"
                          ],
                          [
                            1,
                            "#f0f921"
                          ]
                        ],
                        "type": "surface"
                      }
                    ],
                    "table": [
                      {
                        "cells": {
                          "fill": {
                            "color": "#EBF0F8"
                          },
                          "line": {
                            "color": "white"
                          }
                        },
                        "header": {
                          "fill": {
                            "color": "#C8D4E3"
                          },
                          "line": {
                            "color": "white"
                          }
                        },
                        "type": "table"
                      }
                    ]
                  },
                  "layout": {
                    "annotationdefaults": {
                      "arrowcolor": "#2a3f5f",
                      "arrowhead": 0,
                      "arrowwidth": 1
                    },
                    "autotypenumbers": "strict",
                    "coloraxis": {
                      "colorbar": {
                        "outlinewidth": 0,
                        "ticks": ""
                      }
                    },
                    "colorscale": {
                      "diverging": [
                        [
                          0,
                          "#8e0152"
                        ],
                        [
                          0.1,
                          "#c51b7d"
                        ],
                        [
                          0.2,
                          "#de77ae"
                        ],
                        [
                          0.3,
                          "#f1b6da"
                        ],
                        [
                          0.4,
                          "#fde0ef"
                        ],
                        [
                          0.5,
                          "#f7f7f7"
                        ],
                        [
                          0.6,
                          "#e6f5d0"
                        ],
                        [
                          0.7,
                          "#b8e186"
                        ],
                        [
                          0.8,
                          "#7fbc41"
                        ],
                        [
                          0.9,
                          "#4d9221"
                        ],
                        [
                          1,
                          "#276419"
                        ]
                      ],
                      "sequential": [
                        [
                          0,
                          "#0d0887"
                        ],
                        [
                          0.1111111111111111,
                          "#46039f"
                        ],
                        [
                          0.2222222222222222,
                          "#7201a8"
                        ],
                        [
                          0.3333333333333333,
                          "#9c179e"
                        ],
                        [
                          0.4444444444444444,
                          "#bd3786"
                        ],
                        [
                          0.5555555555555556,
                          "#d8576b"
                        ],
                        [
                          0.6666666666666666,
                          "#ed7953"
                        ],
                        [
                          0.7777777777777778,
                          "#fb9f3a"
                        ],
                        [
                          0.8888888888888888,
                          "#fdca26"
                        ],
                        [
                          1,
                          "#f0f921"
                        ]
                      ],
                      "sequentialminus": [
                        [
                          0,
                          "#0d0887"
                        ],
                        [
                          0.1111111111111111,
                          "#46039f"
                        ],
                        [
                          0.2222222222222222,
                          "#7201a8"
                        ],
                        [
                          0.3333333333333333,
                          "#9c179e"
                        ],
                        [
                          0.4444444444444444,
                          "#bd3786"
                        ],
                        [
                          0.5555555555555556,
                          "#d8576b"
                        ],
                        [
                          0.6666666666666666,
                          "#ed7953"
                        ],
                        [
                          0.7777777777777778,
                          "#fb9f3a"
                        ],
                        [
                          0.8888888888888888,
                          "#fdca26"
                        ],
                        [
                          1,
                          "#f0f921"
                        ]
                      ]
                    },
                    "colorway": [
                      "#636efa",
                      "#EF553B",
                      "#00cc96",
                      "#ab63fa",
                      "#FFA15A",
                      "#19d3f3",
                      "#FF6692",
                      "#B6E880",
                      "#FF97FF",
                      "#FECB52"
                    ],
                    "font": {
                      "color": "#2a3f5f"
                    },
                    "geo": {
                      "bgcolor": "white",
                      "lakecolor": "white",
                      "landcolor": "#E5ECF6",
                      "showlakes": true,
                      "showland": true,
                      "subunitcolor": "white"
                    },
                    "hoverlabel": {
                      "align": "left"
                    },
                    "hovermode": "closest",
                    "mapbox": {
                      "style": "light"
                    },
                    "paper_bgcolor": "white",
                    "plot_bgcolor": "#E5ECF6",
                    "polar": {
                      "angularaxis": {
                        "gridcolor": "white",
                        "linecolor": "white",
                        "ticks": ""
                      },
                      "bgcolor": "#E5ECF6",
                      "radialaxis": {
                        "gridcolor": "white",
                        "linecolor": "white",
                        "ticks": ""
                      }
                    },
                    "scene": {
                      "xaxis": {
                        "backgroundcolor": "#E5ECF6",
                        "gridcolor": "white",
                        "gridwidth": 2,
                        "linecolor": "white",
                        "showbackground": true,
                        "ticks": "",
                        "zerolinecolor": "white"
                      },
                      "yaxis": {
                        "backgroundcolor": "#E5ECF6",
                        "gridcolor": "white",
                        "gridwidth": 2,
                        "linecolor": "white",
                        "showbackground": true,
                        "ticks": "",
                        "zerolinecolor": "white"
                      },
                      "zaxis": {
                        "backgroundcolor": "#E5ECF6",
                        "gridcolor": "white",
                        "gridwidth": 2,
                        "linecolor": "white",
                        "showbackground": true,
                        "ticks": "",
                        "zerolinecolor": "white"
                      }
                    },
                    "shapedefaults": {
                      "line": {
                        "color": "#2a3f5f"
                      }
                    },
                    "ternary": {
                      "aaxis": {
                        "gridcolor": "white",
                        "linecolor": "white",
                        "ticks": ""
                      },
                      "baxis": {
                        "gridcolor": "white",
                        "linecolor": "white",
                        "ticks": ""
                      },
                      "bgcolor": "#E5ECF6",
                      "caxis": {
                        "gridcolor": "white",
                        "linecolor": "white",
                        "ticks": ""
                      }
                    },
                    "title": {
                      "x": 0.05
                    },
                    "xaxis": {
                      "automargin": true,
                      "gridcolor": "white",
                      "linecolor": "white",
                      "ticks": "",
                      "title": {
                        "standoff": 15
                      },
                      "zerolinecolor": "white",
                      "zerolinewidth": 2
                    },
                    "yaxis": {
                      "automargin": true,
                      "gridcolor": "white",
                      "linecolor": "white",
                      "ticks": "",
                      "title": {
                        "standoff": 15
                      },
                      "zerolinecolor": "white",
                      "zerolinewidth": 2
                    }
                  }
                },
                "title": {
                  "text": "Coeae1f",
                  "x": 0.5
                },
                "width": 1600,
                "xaxis": {
                  "anchor": "y",
                  "domain": [
                    0,
                    0.63
                  ],
                  "title": {
                    "font": {
                      "size": 18
                    },
                    "text": "log2 fold change"
                  }
                },
                "xaxis2": {
                  "anchor": "y2",
                  "domain": [
                    0.65,
                    1
                  ],
                  "title": {
                    "font": {
                      "size": 18
                    },
                    "text": "counts"
                  }
                },
                "yaxis": {
                  "anchor": "x",
                  "domain": [
                    0,
                    1
                  ],
                  "tickfont": {
                    "size": 14
                  },
                  "title": {
                    "font": {
                      "size": 18
                    },
                    "text": "Gene"
                  }
                },
                "yaxis2": {
                  "anchor": "x2",
                  "domain": [
                    0,
                    1
                  ],
                  "showticklabels": false
                }
              }
            }
          },
          "metadata": {},
          "output_type": "display_data"
        }
      ],
      "source": [
        "xpress.plot_gene_expression(\n",
        "    analysis=\"gamb_colu_arab_fun\", \n",
        "    gene_id=[\"AGAP006222\", \"AGAP006227\", \"AGAP006228\"], \n",
        "    microarray=False,\n",
        "    sort_by=None,\n",
        "    title=\"Coeae1f\", \n",
        "    plot_type='strip', \n",
        "    height=300\n",
        ")"
      ]
    },
    {
      "cell_type": "markdown",
      "id": "w3a56NCsEk70",
      "metadata": {
        "id": "w3a56NCsEk70"
      },
      "source": [
        "You can also produce a boxplot, although the hovertext doesnt quite work as expected."
      ]
    },
    {
      "cell_type": "code",
      "execution_count": null,
      "id": "fr_XvlBp_Pwy",
      "metadata": {
        "colab": {
          "base_uri": "https://localhost:8080/",
          "height": 317
        },
        "id": "fr_XvlBp_Pwy",
        "outputId": "43f75274-da95-4c2f-ebbc-1b631efd4cde"
      },
      "outputs": [
        {
          "data": {
            "text/html": [
              "<html>\n",
              "<head><meta charset=\"utf-8\" /></head>\n",
              "<body>\n",
              "    <div>            <script src=\"https://cdnjs.cloudflare.com/ajax/libs/mathjax/2.7.5/MathJax.js?config=TeX-AMS-MML_SVG\"></script><script type=\"text/javascript\">if (window.MathJax) {MathJax.Hub.Config({SVG: {font: \"STIX-Web\"}});}</script>                <script type=\"text/javascript\">window.PlotlyConfig = {MathJaxConfig: 'local'};</script>\n",
              "        <script src=\"https://cdn.plot.ly/plotly-2.8.3.min.js\"></script>                <div id=\"e479d9f1-5f24-44e5-96df-5a3356f0820d\" class=\"plotly-graph-div\" style=\"height:300px; width:1600px;\"></div>            <script type=\"text/javascript\">                                    window.PLOTLYENV=window.PLOTLYENV || {};                                    if (document.getElementById(\"e479d9f1-5f24-44e5-96df-5a3356f0820d\")) {                    Plotly.newPlot(                        \"e479d9f1-5f24-44e5-96df-5a3356f0820d\",                        [{\"alignmentgroup\":\"True\",\"customdata\":[[\"Tiefora\",\"Ngousso\",\"coluzzii\",\"Burkina Faso\",\"rnaseq\"],[\"Tiefora\",\"Ngousso\",\"coluzzii\",\"Burkina Faso\",\"rnaseq\"],[\"Tiefora\",\"Ngousso\",\"coluzzii\",\"Burkina Faso\",\"rnaseq\"],[\"Ban\",\"BanS\",\"coluzzii\",\"Burkina Faso\",\"rnaseq\"],[\"Ban\",\"BanS\",\"coluzzii\",\"Burkina Faso\",\"rnaseq\"],[\"Ban\",\"BanS\",\"coluzzii\",\"Burkina Faso\",\"rnaseq\"],[\"BanRe\",\"BanS\",\"coluzzii\",\"Burkina Faso\",\"rnaseq\"],[\"BanRe\",\"BanS\",\"coluzzii\",\"Burkina Faso\",\"rnaseq\"],[\"BanRe\",\"BanS\",\"coluzzii\",\"Burkina Faso\",\"rnaseq\"],[\"VK7\",\"Kisumu\",\"coluzzii\",\"Burkina Faso\",\"rnaseq\"],[\"VK7\",\"Kisumu\",\"coluzzii\",\"Burkina Faso\",\"rnaseq\"],[\"VK7\",\"Kisumu\",\"coluzzii\",\"Burkina Faso\",\"rnaseq\"],[\"Cameroon\",\"Ngousso\",\"coluzzii\",\"Cameroon\",\"rnaseq\"],[\"Cameroon\",\"Ngousso\",\"coluzzii\",\"Cameroon\",\"rnaseq\"],[\"Cameroon\",\"Ngousso\",\"coluzzii\",\"Cameroon\",\"rnaseq\"],[\"Chad\",\"Ngousso\",\"coluzzii\",\"Chad\",\"rnaseq\"],[\"Chad\",\"Ngousso\",\"coluzzii\",\"Chad\",\"rnaseq\"],[\"Chad\",\"Ngousso\",\"coluzzii\",\"Chad\",\"rnaseq\"],[\"Niger\",\"Ngousso\",\"coluzzii\",\"Niger\",\"rnaseq\"],[\"Niger\",\"Ngousso\",\"coluzzii\",\"Niger\",\"rnaseq\"],[\"Niger\",\"Ngousso\",\"coluzzii\",\"Niger\",\"rnaseq\"],[\"Nigeria\",\"Ngousso\",\"coluzzii\",\"Nigeria\",\"rnaseq\"],[\"Nigeria\",\"Ngousso\",\"coluzzii\",\"Nigeria\",\"rnaseq\"],[\"Nigeria\",\"Ngousso\",\"coluzzii\",\"Nigeria\",\"rnaseq\"],[\"Agboville\",\"Mali\",\"coluzzii\",\"Cote d'Ivoire\",\"rnaseq\"],[\"Agboville\",\"Mali\",\"coluzzii\",\"Cote d'Ivoire\",\"rnaseq\"],[\"Agboville\",\"Mali\",\"coluzzii\",\"Cote d'Ivoire\",\"rnaseq\"],[\"Agboville\",\"Ngousso\",\"coluzzii\",\"Cote d'Ivoire\",\"rnaseq\"],[\"Agboville\",\"Ngousso\",\"coluzzii\",\"Cote d'Ivoire\",\"rnaseq\"],[\"Agboville\",\"Ngousso\",\"coluzzii\",\"Cote d'Ivoire\",\"rnaseq\"],[\"Dabou\",\"Mali\",\"coluzzii\",\"Cote d'Ivoire\",\"rnaseq\"],[\"Dabou\",\"Mali\",\"coluzzii\",\"Cote d'Ivoire\",\"rnaseq\"],[\"Dabou\",\"Mali\",\"coluzzii\",\"Cote d'Ivoire\",\"rnaseq\"],[\"Dabou\",\"Ngousso\",\"coluzzii\",\"Cote d'Ivoire\",\"rnaseq\"],[\"Dabou\",\"Ngousso\",\"coluzzii\",\"Cote d'Ivoire\",\"rnaseq\"],[\"Dabou\",\"Ngousso\",\"coluzzii\",\"Cote d'Ivoire\",\"rnaseq\"],[\"Tiassale\",\"Mali\",\"coluzzii\",\"Cote d'Ivoire\",\"rnaseq\"],[\"Tiassale\",\"Mali\",\"coluzzii\",\"Cote d'Ivoire\",\"rnaseq\"],[\"Tiassale\",\"Mali\",\"coluzzii\",\"Cote d'Ivoire\",\"rnaseq\"],[\"Tiassale\",\"Ngousso\",\"coluzzii\",\"Cote d'Ivoire\",\"rnaseq\"],[\"Tiassale\",\"Ngousso\",\"coluzzii\",\"Cote d'Ivoire\",\"rnaseq\"],[\"Tiassale\",\"Ngousso\",\"coluzzii\",\"Cote d'Ivoire\",\"rnaseq\"],[\"Bouake_colu_unexp\",\"Ngousso\",\"coluzzii\",\"Cote d'Ivoire\",\"rnaseq\"],[\"Bouake_colu_unexp\",\"Ngousso\",\"coluzzii\",\"Cote d'Ivoire\",\"rnaseq\"],[\"Bouake_colu_unexp\",\"Ngousso\",\"coluzzii\",\"Cote d'Ivoire\",\"rnaseq\"]],\"hovertemplate\":\"species=%{customdata[2]}<br>log2FC=%{x}<br>Label=%{y}<br>resistant=%{customdata[0]}<br>susceptible=%{customdata[1]}<br>country=%{customdata[3]}<br>technology=%{customdata[4]}<extra></extra>\",\"legendgroup\":\"coluzzii\",\"marker\":{\"color\":\"#F8766D\"},\"name\":\"coluzzii\",\"notched\":false,\"offsetgroup\":\"coluzzii\",\"orientation\":\"h\",\"showlegend\":true,\"x\":[-0.46,-0.44,0.75,-0.98,-0.41,2.17,-0.37,-0.11,0.03,0.01,-0.3,1.7,-0.41,-0.2,1.73,-0.17,0.24,1.1,-0.14,0.21,0.53,0.05,0.14,1.73,3.35,1.69,2.21,1.95,1.14,2.75,2.81,2.28,2.47,1.39,1.71,3.0,2.32,0.64,1.94,0.91,0.09,2.48,0.66,-0.73,2.43],\"x0\":\" \",\"xaxis\":\"x\",\"y\":[\"AGAP006227\",\"AGAP006228 | COEAE2F\",\"AGAP006222\",\"AGAP006227\",\"AGAP006228 | COEAE2F\",\"AGAP006222\",\"AGAP006227\",\"AGAP006228 | COEAE2F\",\"AGAP006222\",\"AGAP006227\",\"AGAP006228 | COEAE2F\",\"AGAP006222\",\"AGAP006227\",\"AGAP006228 | COEAE2F\",\"AGAP006222\",\"AGAP006227\",\"AGAP006228 | COEAE2F\",\"AGAP006222\",\"AGAP006227\",\"AGAP006228 | COEAE2F\",\"AGAP006222\",\"AGAP006227\",\"AGAP006228 | COEAE2F\",\"AGAP006222\",\"AGAP006227\",\"AGAP006228 | COEAE2F\",\"AGAP006222\",\"AGAP006227\",\"AGAP006228 | COEAE2F\",\"AGAP006222\",\"AGAP006227\",\"AGAP006228 | COEAE2F\",\"AGAP006222\",\"AGAP006227\",\"AGAP006228 | COEAE2F\",\"AGAP006222\",\"AGAP006227\",\"AGAP006228 | COEAE2F\",\"AGAP006222\",\"AGAP006227\",\"AGAP006228 | COEAE2F\",\"AGAP006222\",\"AGAP006227\",\"AGAP006228 | COEAE2F\",\"AGAP006222\"],\"y0\":\" \",\"yaxis\":\"y\",\"type\":\"box\"},{\"alignmentgroup\":\"True\",\"customdata\":[[\"Gou\",\"Moz\",\"arabiensis\",\"Burkina Faso\",\"rnaseq\"],[\"Gou\",\"Moz\",\"arabiensis\",\"Burkina Faso\",\"rnaseq\"],[\"Gou\",\"Moz\",\"arabiensis\",\"Burkina Faso\",\"rnaseq\"],[\"Asendabo\",\"Moz\",\"arabiensis\",\"Ethiopia\",\"rnaseq\"],[\"Asendabo\",\"Moz\",\"arabiensis\",\"Ethiopia\",\"rnaseq\"],[\"Asendabo\",\"Moz\",\"arabiensis\",\"Ethiopia\",\"rnaseq\"],[\"Chewaka\",\"Moz\",\"arabiensis\",\"Ethiopia\",\"rnaseq\"],[\"Chewaka\",\"Moz\",\"arabiensis\",\"Ethiopia\",\"rnaseq\"],[\"Chewaka\",\"Moz\",\"arabiensis\",\"Ethiopia\",\"rnaseq\"],[\"Tolay\",\"Moz\",\"arabiensis\",\"Ethiopia\",\"rnaseq\"],[\"Tolay\",\"Moz\",\"arabiensis\",\"Ethiopia\",\"rnaseq\"],[\"Tolay\",\"Moz\",\"arabiensis\",\"Ethiopia\",\"rnaseq\"],[\"Ethiopia\",\"Dongola\",\"arabiensis\",\"Ethiopia\",\"rnaseq\"],[\"Ethiopia\",\"Dongola\",\"arabiensis\",\"Ethiopia\",\"rnaseq\"],[\"Ethiopia\",\"Dongola\",\"arabiensis\",\"Ethiopia\",\"rnaseq\"]],\"hovertemplate\":\"species=%{customdata[2]}<br>log2FC=%{x}<br>Label=%{y}<br>resistant=%{customdata[0]}<br>susceptible=%{customdata[1]}<br>country=%{customdata[3]}<br>technology=%{customdata[4]}<extra></extra>\",\"legendgroup\":\"arabiensis\",\"marker\":{\"color\":\"#A3A500\"},\"name\":\"arabiensis\",\"notched\":false,\"offsetgroup\":\"arabiensis\",\"orientation\":\"h\",\"showlegend\":true,\"x\":[0.01,-0.12,1.27,-0.28,0.1,2.22,0.01,0.36,3.44,-0.08,0.22,2.52,0.11,0.18,1.08],\"x0\":\" \",\"xaxis\":\"x\",\"y\":[\"AGAP006227\",\"AGAP006228 | COEAE2F\",\"AGAP006222\",\"AGAP006227\",\"AGAP006228 | COEAE2F\",\"AGAP006222\",\"AGAP006227\",\"AGAP006228 | COEAE2F\",\"AGAP006222\",\"AGAP006227\",\"AGAP006228 | COEAE2F\",\"AGAP006222\",\"AGAP006227\",\"AGAP006228 | COEAE2F\",\"AGAP006222\"],\"y0\":\" \",\"yaxis\":\"y\",\"type\":\"box\"},{\"alignmentgroup\":\"True\",\"customdata\":[[\"Bak\",\"Kisumu\",\"gambiae\",\"Burkina Faso\",\"rnaseq\"],[\"Bak\",\"Kisumu\",\"gambiae\",\"Burkina Faso\",\"rnaseq\"],[\"Bak\",\"Kisumu\",\"gambiae\",\"Burkina Faso\",\"rnaseq\"],[\"Bouake_gamb_unexp\",\"Kisumu\",\"gambiae\",\"Cote d'Ivoire\",\"rnaseq\"],[\"Bouake_gamb_unexp\",\"Kisumu\",\"gambiae\",\"Cote d'Ivoire\",\"rnaseq\"],[\"Bouake_gamb_unexp\",\"Kisumu\",\"gambiae\",\"Cote d'Ivoire\",\"rnaseq\"],[\"BusiaSurvivors\",\"Kisumu\",\"gambiae\",\"Uganda\",\"rnaseq\"],[\"BusiaSurvivors\",\"Kisumu\",\"gambiae\",\"Uganda\",\"rnaseq\"],[\"BusiaSurvivors\",\"Kisumu\",\"gambiae\",\"Uganda\",\"rnaseq\"]],\"hovertemplate\":\"species=%{customdata[2]}<br>log2FC=%{x}<br>Label=%{y}<br>resistant=%{customdata[0]}<br>susceptible=%{customdata[1]}<br>country=%{customdata[3]}<br>technology=%{customdata[4]}<extra></extra>\",\"legendgroup\":\"gambiae\",\"marker\":{\"color\":\"#00BF7D\"},\"name\":\"gambiae\",\"notched\":false,\"offsetgroup\":\"gambiae\",\"orientation\":\"h\",\"showlegend\":true,\"x\":[0.26,-0.26,1.53,2.57,-0.1,0.15,0.59,0.75,-2.83],\"x0\":\" \",\"xaxis\":\"x\",\"y\":[\"AGAP006227\",\"AGAP006228 | COEAE2F\",\"AGAP006222\",\"AGAP006227\",\"AGAP006228 | COEAE2F\",\"AGAP006222\",\"AGAP006227\",\"AGAP006228 | COEAE2F\",\"AGAP006222\"],\"y0\":\" \",\"yaxis\":\"y\",\"type\":\"box\"},{\"alignmentgroup\":\"True\",\"customdata\":[[\"Cam_fun\",\"Fang\",\"funestus\",\"Cameroon\",\"rnaseq\"],[\"Cam_fun\",\"Fang\",\"funestus\",\"Cameroon\",\"rnaseq\"],[\"Cam_fun\",\"Fang\",\"funestus\",\"Cameroon\",\"rnaseq\"],[\"Fumoz\",\"Fang\",\"funestus\",\"Mozambique\",\"rnaseq\"],[\"Fumoz\",\"Fang\",\"funestus\",\"Mozambique\",\"rnaseq\"],[\"Fumoz\",\"Fang\",\"funestus\",\"Mozambique\",\"rnaseq\"],[\"Ghana_fun\",\"Fang\",\"funestus\",\"Ghana\",\"rnaseq\"],[\"Ghana_fun\",\"Fang\",\"funestus\",\"Ghana\",\"rnaseq\"],[\"Ghana_fun\",\"Fang\",\"funestus\",\"Ghana\",\"rnaseq\"],[\"Malawi_fun\",\"Fang\",\"funestus\",\"Malawi\",\"rnaseq\"],[\"Malawi_fun\",\"Fang\",\"funestus\",\"Malawi\",\"rnaseq\"],[\"Malawi_fun\",\"Fang\",\"funestus\",\"Malawi\",\"rnaseq\"],[\"Uganda_fun\",\"Fang\",\"funestus\",\"Uganda\",\"rnaseq\"],[\"Uganda_fun\",\"Fang\",\"funestus\",\"Uganda\",\"rnaseq\"],[\"Uganda_fun\",\"Fang\",\"funestus\",\"Uganda\",\"rnaseq\"]],\"hovertemplate\":\"species=%{customdata[2]}<br>log2FC=%{x}<br>Label=%{y}<br>resistant=%{customdata[0]}<br>susceptible=%{customdata[1]}<br>country=%{customdata[3]}<br>technology=%{customdata[4]}<extra></extra>\",\"legendgroup\":\"funestus\",\"marker\":{\"color\":\"#00B0F6\"},\"name\":\"funestus\",\"notched\":false,\"offsetgroup\":\"funestus\",\"orientation\":\"h\",\"showlegend\":true,\"x\":[-0.43,-0.1,-0.58,-0.65,-0.09,0.03,0.04,0.36,0.71,-0.36,0.28,0.29,-0.48,0.18,-0.03],\"x0\":\" \",\"xaxis\":\"x\",\"y\":[\"AGAP006227\",\"AGAP006228 | COEAE2F\",\"AGAP006222\",\"AGAP006227\",\"AGAP006228 | COEAE2F\",\"AGAP006222\",\"AGAP006227\",\"AGAP006228 | COEAE2F\",\"AGAP006222\",\"AGAP006227\",\"AGAP006228 | COEAE2F\",\"AGAP006222\",\"AGAP006227\",\"AGAP006228 | COEAE2F\",\"AGAP006222\"],\"y0\":\" \",\"yaxis\":\"y\",\"type\":\"box\"},{\"alignmentgroup\":\"True\",\"customdata\":[[\"Tie1\",\"coluzzii\",\"Burkina Faso\"],[\"Tie1\",\"coluzzii\",\"Burkina Faso\"],[\"Tie1\",\"coluzzii\",\"Burkina Faso\"],[\"Tie2\",\"coluzzii\",\"Burkina Faso\"],[\"Tie2\",\"coluzzii\",\"Burkina Faso\"],[\"Tie2\",\"coluzzii\",\"Burkina Faso\"],[\"Tie3\",\"coluzzii\",\"Burkina Faso\"],[\"Tie3\",\"coluzzii\",\"Burkina Faso\"],[\"Tie3\",\"coluzzii\",\"Burkina Faso\"],[\"Ban1\",\"coluzzii\",\"Burkina Faso\"],[\"Ban1\",\"coluzzii\",\"Burkina Faso\"],[\"Ban1\",\"coluzzii\",\"Burkina Faso\"],[\"Ban2\",\"coluzzii\",\"Burkina Faso\"],[\"Ban2\",\"coluzzii\",\"Burkina Faso\"],[\"Ban2\",\"coluzzii\",\"Burkina Faso\"],[\"Ban3\",\"coluzzii\",\"Burkina Faso\"],[\"Ban3\",\"coluzzii\",\"Burkina Faso\"],[\"Ban3\",\"coluzzii\",\"Burkina Faso\"],[\"Ban4\",\"coluzzii\",\"Burkina Faso\"],[\"Ban4\",\"coluzzii\",\"Burkina Faso\"],[\"Ban4\",\"coluzzii\",\"Burkina Faso\"],[\"VK71\",\"coluzzii\",\"Burkina Faso\"],[\"VK71\",\"coluzzii\",\"Burkina Faso\"],[\"VK71\",\"coluzzii\",\"Burkina Faso\"],[\"VK72\",\"coluzzii\",\"Burkina Faso\"],[\"VK72\",\"coluzzii\",\"Burkina Faso\"],[\"VK72\",\"coluzzii\",\"Burkina Faso\"],[\"VK73\",\"coluzzii\",\"Burkina Faso\"],[\"VK73\",\"coluzzii\",\"Burkina Faso\"],[\"VK73\",\"coluzzii\",\"Burkina Faso\"],[\"VK74\",\"coluzzii\",\"Burkina Faso\"],[\"VK74\",\"coluzzii\",\"Burkina Faso\"],[\"VK74\",\"coluzzii\",\"Burkina Faso\"],[\"BanRe1\",\"coluzzii\",\"Burkina Faso\"],[\"BanRe1\",\"coluzzii\",\"Burkina Faso\"],[\"BanRe1\",\"coluzzii\",\"Burkina Faso\"],[\"BanRe2\",\"coluzzii\",\"Burkina Faso\"],[\"BanRe2\",\"coluzzii\",\"Burkina Faso\"],[\"BanRe2\",\"coluzzii\",\"Burkina Faso\"],[\"BanRe3\",\"coluzzii\",\"Burkina Faso\"],[\"BanRe3\",\"coluzzii\",\"Burkina Faso\"],[\"BanRe3\",\"coluzzii\",\"Burkina Faso\"],[\"BanRe4\",\"coluzzii\",\"Burkina Faso\"],[\"BanRe4\",\"coluzzii\",\"Burkina Faso\"],[\"BanRe4\",\"coluzzii\",\"Burkina Faso\"],[\"Chad1\",\"coluzzii\",\"Chad\"],[\"Chad1\",\"coluzzii\",\"Chad\"],[\"Chad1\",\"coluzzii\",\"Chad\"],[\"Chad2\",\"coluzzii\",\"Chad\"],[\"Chad2\",\"coluzzii\",\"Chad\"],[\"Chad2\",\"coluzzii\",\"Chad\"],[\"Chad3\",\"coluzzii\",\"Chad\"],[\"Chad3\",\"coluzzii\",\"Chad\"],[\"Chad3\",\"coluzzii\",\"Chad\"],[\"Chad4\",\"coluzzii\",\"Chad\"],[\"Chad4\",\"coluzzii\",\"Chad\"],[\"Chad4\",\"coluzzii\",\"Chad\"],[\"Chad5\",\"coluzzii\",\"Chad\"],[\"Chad5\",\"coluzzii\",\"Chad\"],[\"Chad5\",\"coluzzii\",\"Chad\"],[\"Chad6\",\"coluzzii\",\"Chad\"],[\"Chad6\",\"coluzzii\",\"Chad\"],[\"Chad6\",\"coluzzii\",\"Chad\"],[\"Nigeria1\",\"coluzzii\",\"Nigeria\"],[\"Nigeria1\",\"coluzzii\",\"Nigeria\"],[\"Nigeria1\",\"coluzzii\",\"Nigeria\"],[\"Nigeria2\",\"coluzzii\",\"Nigeria\"],[\"Nigeria2\",\"coluzzii\",\"Nigeria\"],[\"Nigeria2\",\"coluzzii\",\"Nigeria\"],[\"Nigeria3\",\"coluzzii\",\"Nigeria\"],[\"Nigeria3\",\"coluzzii\",\"Nigeria\"],[\"Nigeria3\",\"coluzzii\",\"Nigeria\"],[\"Nigeria4\",\"coluzzii\",\"Nigeria\"],[\"Nigeria4\",\"coluzzii\",\"Nigeria\"],[\"Nigeria4\",\"coluzzii\",\"Nigeria\"],[\"Nigeria5\",\"coluzzii\",\"Nigeria\"],[\"Nigeria5\",\"coluzzii\",\"Nigeria\"],[\"Nigeria5\",\"coluzzii\",\"Nigeria\"],[\"Nigeria6\",\"coluzzii\",\"Nigeria\"],[\"Nigeria6\",\"coluzzii\",\"Nigeria\"],[\"Nigeria6\",\"coluzzii\",\"Nigeria\"],[\"Cameroon1\",\"coluzzii\",\"Cameroon\"],[\"Cameroon1\",\"coluzzii\",\"Cameroon\"],[\"Cameroon1\",\"coluzzii\",\"Cameroon\"],[\"Cameroon2\",\"coluzzii\",\"Cameroon\"],[\"Cameroon2\",\"coluzzii\",\"Cameroon\"],[\"Cameroon2\",\"coluzzii\",\"Cameroon\"],[\"Cameroon3\",\"coluzzii\",\"Cameroon\"],[\"Cameroon3\",\"coluzzii\",\"Cameroon\"],[\"Cameroon3\",\"coluzzii\",\"Cameroon\"],[\"Cameroon4\",\"coluzzii\",\"Cameroon\"],[\"Cameroon4\",\"coluzzii\",\"Cameroon\"],[\"Cameroon4\",\"coluzzii\",\"Cameroon\"],[\"Cameroon5\",\"coluzzii\",\"Cameroon\"],[\"Cameroon5\",\"coluzzii\",\"Cameroon\"],[\"Cameroon5\",\"coluzzii\",\"Cameroon\"],[\"Niger1\",\"coluzzii\",\"Niger\"],[\"Niger1\",\"coluzzii\",\"Niger\"],[\"Niger1\",\"coluzzii\",\"Niger\"],[\"Niger2\",\"coluzzii\",\"Niger\"],[\"Niger2\",\"coluzzii\",\"Niger\"],[\"Niger2\",\"coluzzii\",\"Niger\"],[\"Niger3\",\"coluzzii\",\"Niger\"],[\"Niger3\",\"coluzzii\",\"Niger\"],[\"Niger3\",\"coluzzii\",\"Niger\"],[\"Niger4\",\"coluzzii\",\"Niger\"],[\"Niger4\",\"coluzzii\",\"Niger\"],[\"Niger4\",\"coluzzii\",\"Niger\"],[\"Niger5\",\"coluzzii\",\"Niger\"],[\"Niger5\",\"coluzzii\",\"Niger\"],[\"Niger5\",\"coluzzii\",\"Niger\"],[\"Niger6\",\"coluzzii\",\"Niger\"],[\"Niger6\",\"coluzzii\",\"Niger\"],[\"Niger6\",\"coluzzii\",\"Niger\"],[\"NG_Jess1\",\"coluzzii\",\"Cameroon\"],[\"NG_Jess1\",\"coluzzii\",\"Cameroon\"],[\"NG_Jess1\",\"coluzzii\",\"Cameroon\"],[\"NG_Jess2\",\"coluzzii\",\"Cameroon\"],[\"NG_Jess2\",\"coluzzii\",\"Cameroon\"],[\"NG_Jess2\",\"coluzzii\",\"Cameroon\"],[\"NG_Jess3\",\"coluzzii\",\"Cameroon\"],[\"NG_Jess3\",\"coluzzii\",\"Cameroon\"],[\"NG_Jess3\",\"coluzzii\",\"Cameroon\"],[\"BanS1\",\"coluzzii\",\"BanS\"],[\"BanS1\",\"coluzzii\",\"BanS\"],[\"BanS1\",\"coluzzii\",\"BanS\"],[\"BanS2\",\"coluzzii\",\"BanS\"],[\"BanS2\",\"coluzzii\",\"BanS\"],[\"BanS2\",\"coluzzii\",\"BanS\"],[\"BanS3\",\"coluzzii\",\"BanS\"],[\"BanS3\",\"coluzzii\",\"BanS\"],[\"BanS3\",\"coluzzii\",\"BanS\"],[\"BanS4\",\"coluzzii\",\"BanS\"],[\"BanS4\",\"coluzzii\",\"BanS\"],[\"BanS4\",\"coluzzii\",\"BanS\"],[\"NG_Crete1\",\"coluzzii\",\"Cameroon\"],[\"NG_Crete1\",\"coluzzii\",\"Cameroon\"],[\"NG_Crete1\",\"coluzzii\",\"Cameroon\"],[\"NG_Crete2\",\"coluzzii\",\"Cameroon\"],[\"NG_Crete2\",\"coluzzii\",\"Cameroon\"],[\"NG_Crete2\",\"coluzzii\",\"Cameroon\"],[\"NG_Crete3\",\"coluzzii\",\"Cameroon\"],[\"NG_Crete3\",\"coluzzii\",\"Cameroon\"],[\"NG_Crete3\",\"coluzzii\",\"Cameroon\"],[\"NG_Sul1\",\"coluzzii\",\"Cameroon\"],[\"NG_Sul1\",\"coluzzii\",\"Cameroon\"],[\"NG_Sul1\",\"coluzzii\",\"Cameroon\"],[\"NG_Sul2\",\"coluzzii\",\"Cameroon\"],[\"NG_Sul2\",\"coluzzii\",\"Cameroon\"],[\"NG_Sul2\",\"coluzzii\",\"Cameroon\"],[\"NG_Sul3\",\"coluzzii\",\"Cameroon\"],[\"NG_Sul3\",\"coluzzii\",\"Cameroon\"],[\"NG_Sul3\",\"coluzzii\",\"Cameroon\"],[\"Agboville1\",\"coluzzii\",\"Cote d'Ivoire\"],[\"Agboville1\",\"coluzzii\",\"Cote d'Ivoire\"],[\"Agboville1\",\"coluzzii\",\"Cote d'Ivoire\"],[\"Agboville2\",\"coluzzii\",\"Cote d'Ivoire\"],[\"Agboville2\",\"coluzzii\",\"Cote d'Ivoire\"],[\"Agboville2\",\"coluzzii\",\"Cote d'Ivoire\"],[\"Agboville3\",\"coluzzii\",\"Cote d'Ivoire\"],[\"Agboville3\",\"coluzzii\",\"Cote d'Ivoire\"],[\"Agboville3\",\"coluzzii\",\"Cote d'Ivoire\"],[\"Agboville4\",\"coluzzii\",\"Cote d'Ivoire\"],[\"Agboville4\",\"coluzzii\",\"Cote d'Ivoire\"],[\"Agboville4\",\"coluzzii\",\"Cote d'Ivoire\"],[\"Agboville5\",\"coluzzii\",\"Cote d'Ivoire\"],[\"Agboville5\",\"coluzzii\",\"Cote d'Ivoire\"],[\"Agboville5\",\"coluzzii\",\"Cote d'Ivoire\"],[\"Agboville6\",\"coluzzii\",\"Cote d'Ivoire\"],[\"Agboville6\",\"coluzzii\",\"Cote d'Ivoire\"],[\"Agboville6\",\"coluzzii\",\"Cote d'Ivoire\"],[\"Agboville7\",\"coluzzii\",\"Cote d'Ivoire\"],[\"Agboville7\",\"coluzzii\",\"Cote d'Ivoire\"],[\"Agboville7\",\"coluzzii\",\"Cote d'Ivoire\"],[\"Agboville8\",\"coluzzii\",\"Cote d'Ivoire\"],[\"Agboville8\",\"coluzzii\",\"Cote d'Ivoire\"],[\"Agboville8\",\"coluzzii\",\"Cote d'Ivoire\"],[\"Agboville9\",\"coluzzii\",\"Cote d'Ivoire\"],[\"Agboville9\",\"coluzzii\",\"Cote d'Ivoire\"],[\"Agboville9\",\"coluzzii\",\"Cote d'Ivoire\"],[\"Dabou1\",\"coluzzii\",\"Cote d'Ivoire\"],[\"Dabou1\",\"coluzzii\",\"Cote d'Ivoire\"],[\"Dabou1\",\"coluzzii\",\"Cote d'Ivoire\"],[\"Dabou2\",\"coluzzii\",\"Cote d'Ivoire\"],[\"Dabou2\",\"coluzzii\",\"Cote d'Ivoire\"],[\"Dabou2\",\"coluzzii\",\"Cote d'Ivoire\"],[\"Dabou3\",\"coluzzii\",\"Cote d'Ivoire\"],[\"Dabou3\",\"coluzzii\",\"Cote d'Ivoire\"],[\"Dabou3\",\"coluzzii\",\"Cote d'Ivoire\"],[\"Dabou4\",\"coluzzii\",\"Cote d'Ivoire\"],[\"Dabou4\",\"coluzzii\",\"Cote d'Ivoire\"],[\"Dabou4\",\"coluzzii\",\"Cote d'Ivoire\"],[\"Dabou5\",\"coluzzii\",\"Cote d'Ivoire\"],[\"Dabou5\",\"coluzzii\",\"Cote d'Ivoire\"],[\"Dabou5\",\"coluzzii\",\"Cote d'Ivoire\"],[\"Dabou6\",\"coluzzii\",\"Cote d'Ivoire\"],[\"Dabou6\",\"coluzzii\",\"Cote d'Ivoire\"],[\"Dabou6\",\"coluzzii\",\"Cote d'Ivoire\"],[\"Dabou7\",\"coluzzii\",\"Cote d'Ivoire\"],[\"Dabou7\",\"coluzzii\",\"Cote d'Ivoire\"],[\"Dabou7\",\"coluzzii\",\"Cote d'Ivoire\"],[\"Dabou8\",\"coluzzii\",\"Cote d'Ivoire\"],[\"Dabou8\",\"coluzzii\",\"Cote d'Ivoire\"],[\"Dabou8\",\"coluzzii\",\"Cote d'Ivoire\"],[\"Dabou9\",\"coluzzii\",\"Cote d'Ivoire\"],[\"Dabou9\",\"coluzzii\",\"Cote d'Ivoire\"],[\"Dabou9\",\"coluzzii\",\"Cote d'Ivoire\"],[\"Dabou10\",\"coluzzii\",\"Cote d'Ivoire\"],[\"Dabou10\",\"coluzzii\",\"Cote d'Ivoire\"],[\"Dabou10\",\"coluzzii\",\"Cote d'Ivoire\"],[\"Tiassale1\",\"coluzzii\",\"Cote d'Ivoire\"],[\"Tiassale1\",\"coluzzii\",\"Cote d'Ivoire\"],[\"Tiassale1\",\"coluzzii\",\"Cote d'Ivoire\"],[\"Tiassale2\",\"coluzzii\",\"Cote d'Ivoire\"],[\"Tiassale2\",\"coluzzii\",\"Cote d'Ivoire\"],[\"Tiassale2\",\"coluzzii\",\"Cote d'Ivoire\"],[\"Tiassale3\",\"coluzzii\",\"Cote d'Ivoire\"],[\"Tiassale3\",\"coluzzii\",\"Cote d'Ivoire\"],[\"Tiassale3\",\"coluzzii\",\"Cote d'Ivoire\"],[\"Tiassale4\",\"coluzzii\",\"Cote d'Ivoire\"],[\"Tiassale4\",\"coluzzii\",\"Cote d'Ivoire\"],[\"Tiassale4\",\"coluzzii\",\"Cote d'Ivoire\"],[\"Tiassale5\",\"coluzzii\",\"Cote d'Ivoire\"],[\"Tiassale5\",\"coluzzii\",\"Cote d'Ivoire\"],[\"Tiassale5\",\"coluzzii\",\"Cote d'Ivoire\"],[\"Tiassale6\",\"coluzzii\",\"Cote d'Ivoire\"],[\"Tiassale6\",\"coluzzii\",\"Cote d'Ivoire\"],[\"Tiassale6\",\"coluzzii\",\"Cote d'Ivoire\"],[\"Tiassale7\",\"coluzzii\",\"Cote d'Ivoire\"],[\"Tiassale7\",\"coluzzii\",\"Cote d'Ivoire\"],[\"Tiassale7\",\"coluzzii\",\"Cote d'Ivoire\"],[\"Tiassale8\",\"coluzzii\",\"Cote d'Ivoire\"],[\"Tiassale8\",\"coluzzii\",\"Cote d'Ivoire\"],[\"Tiassale8\",\"coluzzii\",\"Cote d'Ivoire\"],[\"Tiassale9\",\"coluzzii\",\"Cote d'Ivoire\"],[\"Tiassale9\",\"coluzzii\",\"Cote d'Ivoire\"],[\"Tiassale9\",\"coluzzii\",\"Cote d'Ivoire\"],[\"Tiassale10\",\"coluzzii\",\"Cote d'Ivoire\"],[\"Tiassale10\",\"coluzzii\",\"Cote d'Ivoire\"],[\"Tiassale10\",\"coluzzii\",\"Cote d'Ivoire\"],[\"Ngousso_Wipf1\",\"coluzzii\",\"Cameroon\"],[\"Ngousso_Wipf1\",\"coluzzii\",\"Cameroon\"],[\"Ngousso_Wipf1\",\"coluzzii\",\"Cameroon\"],[\"Ngousso_Wipf2\",\"coluzzii\",\"Cameroon\"],[\"Ngousso_Wipf2\",\"coluzzii\",\"Cameroon\"],[\"Ngousso_Wipf2\",\"coluzzii\",\"Cameroon\"],[\"Ngousso_Wipf3\",\"coluzzii\",\"Cameroon\"],[\"Ngousso_Wipf3\",\"coluzzii\",\"Cameroon\"],[\"Ngousso_Wipf3\",\"coluzzii\",\"Cameroon\"],[\"Ngousso_Wipf4\",\"coluzzii\",\"Cameroon\"],[\"Ngousso_Wipf4\",\"coluzzii\",\"Cameroon\"],[\"Ngousso_Wipf4\",\"coluzzii\",\"Cameroon\"],[\"Ngousso_Wipf5\",\"coluzzii\",\"Cameroon\"],[\"Ngousso_Wipf5\",\"coluzzii\",\"Cameroon\"],[\"Ngousso_Wipf5\",\"coluzzii\",\"Cameroon\"],[\"Mali1\",\"coluzzii\",\"Mali\"],[\"Mali1\",\"coluzzii\",\"Mali\"],[\"Mali1\",\"coluzzii\",\"Mali\"],[\"Mali2\",\"coluzzii\",\"Mali\"],[\"Mali2\",\"coluzzii\",\"Mali\"],[\"Mali2\",\"coluzzii\",\"Mali\"],[\"Mali3\",\"coluzzii\",\"Mali\"],[\"Mali3\",\"coluzzii\",\"Mali\"],[\"Mali3\",\"coluzzii\",\"Mali\"],[\"Mali4\",\"coluzzii\",\"Mali\"],[\"Mali4\",\"coluzzii\",\"Mali\"],[\"Mali4\",\"coluzzii\",\"Mali\"],[\"Mali5\",\"coluzzii\",\"Mali\"],[\"Mali5\",\"coluzzii\",\"Mali\"],[\"Mali5\",\"coluzzii\",\"Mali\"],[\"Bouake_colu_unexp1\",\"coluzzii\",\"Cote d'Ivoire\"],[\"Bouake_colu_unexp1\",\"coluzzii\",\"Cote d'Ivoire\"],[\"Bouake_colu_unexp1\",\"coluzzii\",\"Cote d'Ivoire\"],[\"Bouake_colu_unexp2\",\"coluzzii\",\"Cote d'Ivoire\"],[\"Bouake_colu_unexp2\",\"coluzzii\",\"Cote d'Ivoire\"],[\"Bouake_colu_unexp2\",\"coluzzii\",\"Cote d'Ivoire\"],[\"Bouake_colu_unexp3\",\"coluzzii\",\"Cote d'Ivoire\"],[\"Bouake_colu_unexp3\",\"coluzzii\",\"Cote d'Ivoire\"],[\"Bouake_colu_unexp3\",\"coluzzii\",\"Cote d'Ivoire\"],[\"Bouake_colu_unexp4\",\"coluzzii\",\"Cote d'Ivoire\"],[\"Bouake_colu_unexp4\",\"coluzzii\",\"Cote d'Ivoire\"],[\"Bouake_colu_unexp4\",\"coluzzii\",\"Cote d'Ivoire\"],[\"Bouake_Ngousso1\",\"coluzzii\",\"Cameroon\"],[\"Bouake_Ngousso1\",\"coluzzii\",\"Cameroon\"],[\"Bouake_Ngousso1\",\"coluzzii\",\"Cameroon\"],[\"Bouake_Ngousso2\",\"coluzzii\",\"Cameroon\"],[\"Bouake_Ngousso2\",\"coluzzii\",\"Cameroon\"],[\"Bouake_Ngousso2\",\"coluzzii\",\"Cameroon\"],[\"Bouake_Ngousso3\",\"coluzzii\",\"Cameroon\"],[\"Bouake_Ngousso3\",\"coluzzii\",\"Cameroon\"],[\"Bouake_Ngousso3\",\"coluzzii\",\"Cameroon\"],[\"Bouake_Ngousso4\",\"coluzzii\",\"Cameroon\"],[\"Bouake_Ngousso4\",\"coluzzii\",\"Cameroon\"],[\"Bouake_Ngousso4\",\"coluzzii\",\"Cameroon\"]],\"hovertemplate\":\"species=%{customdata[1]}<br>counts=%{x}<br>GeneID=%{y}<br>sampleID=%{customdata[0]}<br>country=%{customdata[2]}<extra></extra>\",\"legendgroup\":\"coluzzii\",\"marker\":{\"color\":\"#F8766D\"},\"name\":\"coluzzii\",\"notched\":false,\"offsetgroup\":\"coluzzii\",\"orientation\":\"h\",\"showlegend\":false,\"x\":[304.0,613.0,87.0,236.0,648.0,44.0,251.0,534.0,65.0,159.0,360.0,175.0,214.0,449.0,362.0,165.0,340.0,221.0,208.0,365.0,193.0,271.0,580.0,215.0,274.0,458.0,224.0,276.0,519.0,218.0,202.0,468.0,168.0,313.0,584.0,64.0,271.0,446.0,47.0,278.0,393.0,42.0,261.0,428.0,64.0,468.0,1261.0,461.0,530.0,1269.0,815.0,468.0,1193.0,803.0,252.0,600.0,161.0,326.0,576.0,560.0,286.0,588.0,258.0,422.0,843.0,326.0,302.0,630.0,292.0,405.0,568.0,419.0,605.0,1090.0,1924.0,545.0,1003.0,1121.0,443.0,996.0,676.0,280.0,584.0,635.0,298.0,765.0,685.0,251.0,644.0,861.0,298.0,695.0,809.0,498.0,635.0,910.0,512.0,1160.0,242.0,422.0,1046.0,296.0,419.0,873.0,207.0,324.0,541.0,516.0,286.0,729.0,261.0,422.0,1003.0,545.0,360.0,803.0,47.0,370.0,776.0,33.0,357.0,873.0,38.0,405.0,556.0,56.0,320.0,385.0,49.0,413.0,508.0,58.0,317.0,541.0,50.0,357.0,815.0,49.0,367.0,776.0,31.0,352.0,867.0,39.0,488.0,832.0,307.0,428.0,787.0,175.0,402.0,699.0,236.0,434.0,2353.0,787.0,855.0,3616.0,1607.0,617.0,1833.0,1675.0,471.0,1144.0,622.0,12503.0,1287.0,1121.0,272.0,867.0,474.0,832.0,1652.0,873.0,1596.0,8422.0,1795.0,3541.0,826.0,1342.0,1278.0,4096.0,1370.0,719.0,3104.0,1607.0,5113.0,1144.0,653.0,388.0,832.0,613.0,1152.0,2452.0,1370.0,534.0,1075.0,1758.0,755.0,7858.0,1160.0,2504.0,5914.0,885.0,481.0,5330.0,1992.0,3191.0,4738.0,2165.0,644.0,1361.0,1003.0,564.0,1552.0,1795.0,501.0,1060.0,949.0,609.0,1003.0,680.0,4270.0,1252.0,446.0,425.0,787.0,258.0,3259.0,1438.0,1060.0,580.0,1010.0,2210.0,217.0,815.0,600.0,402.0,1448.0,410.0,425.0,1144.0,204.0,393.0,885.0,131.0,776.0,1209.0,163.0,564.0,1038.0,100.0,843.0,1128.0,234.0,242.0,826.0,191.0,333.0,714.0,251.0,177.0,843.0,302.0,195.0,750.0,286.0,224.0,704.0,224.0,626.0,413.0,226.0,760.0,461.0,202.0,352.0,498.0,108.0,592.0,508.0,214.0,377.0,820.0,32.0,360.0,744.0,33.0,385.0,719.0,36.0,331.0,771.0,41.0],\"x0\":\" \",\"xaxis\":\"x2\",\"y\":[\"AGAP006227\",\"AGAP006228\",\"AGAP006222\",\"AGAP006227\",\"AGAP006228\",\"AGAP006222\",\"AGAP006227\",\"AGAP006228\",\"AGAP006222\",\"AGAP006227\",\"AGAP006228\",\"AGAP006222\",\"AGAP006227\",\"AGAP006228\",\"AGAP006222\",\"AGAP006227\",\"AGAP006228\",\"AGAP006222\",\"AGAP006227\",\"AGAP006228\",\"AGAP006222\",\"AGAP006227\",\"AGAP006228\",\"AGAP006222\",\"AGAP006227\",\"AGAP006228\",\"AGAP006222\",\"AGAP006227\",\"AGAP006228\",\"AGAP006222\",\"AGAP006227\",\"AGAP006228\",\"AGAP006222\",\"AGAP006227\",\"AGAP006228\",\"AGAP006222\",\"AGAP006227\",\"AGAP006228\",\"AGAP006222\",\"AGAP006227\",\"AGAP006228\",\"AGAP006222\",\"AGAP006227\",\"AGAP006228\",\"AGAP006222\",\"AGAP006227\",\"AGAP006228\",\"AGAP006222\",\"AGAP006227\",\"AGAP006228\",\"AGAP006222\",\"AGAP006227\",\"AGAP006228\",\"AGAP006222\",\"AGAP006227\",\"AGAP006228\",\"AGAP006222\",\"AGAP006227\",\"AGAP006228\",\"AGAP006222\",\"AGAP006227\",\"AGAP006228\",\"AGAP006222\",\"AGAP006227\",\"AGAP006228\",\"AGAP006222\",\"AGAP006227\",\"AGAP006228\",\"AGAP006222\",\"AGAP006227\",\"AGAP006228\",\"AGAP006222\",\"AGAP006227\",\"AGAP006228\",\"AGAP006222\",\"AGAP006227\",\"AGAP006228\",\"AGAP006222\",\"AGAP006227\",\"AGAP006228\",\"AGAP006222\",\"AGAP006227\",\"AGAP006228\",\"AGAP006222\",\"AGAP006227\",\"AGAP006228\",\"AGAP006222\",\"AGAP006227\",\"AGAP006228\",\"AGAP006222\",\"AGAP006227\",\"AGAP006228\",\"AGAP006222\",\"AGAP006227\",\"AGAP006228\",\"AGAP006222\",\"AGAP006227\",\"AGAP006228\",\"AGAP006222\",\"AGAP006227\",\"AGAP006228\",\"AGAP006222\",\"AGAP006227\",\"AGAP006228\",\"AGAP006222\",\"AGAP006227\",\"AGAP006228\",\"AGAP006222\",\"AGAP006227\",\"AGAP006228\",\"AGAP006222\",\"AGAP006227\",\"AGAP006228\",\"AGAP006222\",\"AGAP006227\",\"AGAP006228\",\"AGAP006222\",\"AGAP006227\",\"AGAP006228\",\"AGAP006222\",\"AGAP006227\",\"AGAP006228\",\"AGAP006222\",\"AGAP006227\",\"AGAP006228\",\"AGAP006222\",\"AGAP006227\",\"AGAP006228\",\"AGAP006222\",\"AGAP006227\",\"AGAP006228\",\"AGAP006222\",\"AGAP006227\",\"AGAP006228\",\"AGAP006222\",\"AGAP006227\",\"AGAP006228\",\"AGAP006222\",\"AGAP006227\",\"AGAP006228\",\"AGAP006222\",\"AGAP006227\",\"AGAP006228\",\"AGAP006222\",\"AGAP006227\",\"AGAP006228\",\"AGAP006222\",\"AGAP006227\",\"AGAP006228\",\"AGAP006222\",\"AGAP006227\",\"AGAP006228\",\"AGAP006222\",\"AGAP006227\",\"AGAP006228\",\"AGAP006222\",\"AGAP006227\",\"AGAP006228\",\"AGAP006222\",\"AGAP006227\",\"AGAP006228\",\"AGAP006222\",\"AGAP006227\",\"AGAP006228\",\"AGAP006222\",\"AGAP006227\",\"AGAP006228\",\"AGAP006222\",\"AGAP006227\",\"AGAP006228\",\"AGAP006222\",\"AGAP006227\",\"AGAP006228\",\"AGAP006222\",\"AGAP006227\",\"AGAP006228\",\"AGAP006222\",\"AGAP006227\",\"AGAP006228\",\"AGAP006222\",\"AGAP006227\",\"AGAP006228\",\"AGAP006222\",\"AGAP006227\",\"AGAP006228\",\"AGAP006222\",\"AGAP006227\",\"AGAP006228\",\"AGAP006222\",\"AGAP006227\",\"AGAP006228\",\"AGAP006222\",\"AGAP006227\",\"AGAP006228\",\"AGAP006222\",\"AGAP006227\",\"AGAP006228\",\"AGAP006222\",\"AGAP006227\",\"AGAP006228\",\"AGAP006222\",\"AGAP006227\",\"AGAP006228\",\"AGAP006222\",\"AGAP006227\",\"AGAP006228\",\"AGAP006222\",\"AGAP006227\",\"AGAP006228\",\"AGAP006222\",\"AGAP006227\",\"AGAP006228\",\"AGAP006222\",\"AGAP006227\",\"AGAP006228\",\"AGAP006222\",\"AGAP006227\",\"AGAP006228\",\"AGAP006222\",\"AGAP006227\",\"AGAP006228\",\"AGAP006222\",\"AGAP006227\",\"AGAP006228\",\"AGAP006222\",\"AGAP006227\",\"AGAP006228\",\"AGAP006222\",\"AGAP006227\",\"AGAP006228\",\"AGAP006222\",\"AGAP006227\",\"AGAP006228\",\"AGAP006222\",\"AGAP006227\",\"AGAP006228\",\"AGAP006222\",\"AGAP006227\",\"AGAP006228\",\"AGAP006222\",\"AGAP006227\",\"AGAP006228\",\"AGAP006222\",\"AGAP006227\",\"AGAP006228\",\"AGAP006222\",\"AGAP006227\",\"AGAP006228\",\"AGAP006222\",\"AGAP006227\",\"AGAP006228\",\"AGAP006222\",\"AGAP006227\",\"AGAP006228\",\"AGAP006222\",\"AGAP006227\",\"AGAP006228\",\"AGAP006222\",\"AGAP006227\",\"AGAP006228\",\"AGAP006222\",\"AGAP006227\",\"AGAP006228\",\"AGAP006222\",\"AGAP006227\",\"AGAP006228\",\"AGAP006222\",\"AGAP006227\",\"AGAP006228\",\"AGAP006222\",\"AGAP006227\",\"AGAP006228\",\"AGAP006222\",\"AGAP006227\",\"AGAP006228\",\"AGAP006222\",\"AGAP006227\",\"AGAP006228\",\"AGAP006222\",\"AGAP006227\",\"AGAP006228\",\"AGAP006222\",\"AGAP006227\",\"AGAP006228\",\"AGAP006222\",\"AGAP006227\",\"AGAP006228\",\"AGAP006222\",\"AGAP006227\",\"AGAP006228\",\"AGAP006222\",\"AGAP006227\",\"AGAP006228\",\"AGAP006222\"],\"y0\":\" \",\"yaxis\":\"y2\",\"type\":\"box\"},{\"alignmentgroup\":\"True\",\"customdata\":[[\"Bak1\",\"gambiae\",\"Burkina Faso\"],[\"Bak1\",\"gambiae\",\"Burkina Faso\"],[\"Bak1\",\"gambiae\",\"Burkina Faso\"],[\"Bak2\",\"gambiae\",\"Burkina Faso\"],[\"Bak2\",\"gambiae\",\"Burkina Faso\"],[\"Bak2\",\"gambiae\",\"Burkina Faso\"],[\"Bak3\",\"gambiae\",\"Burkina Faso\"],[\"Bak3\",\"gambiae\",\"Burkina Faso\"],[\"Bak3\",\"gambiae\",\"Burkina Faso\"],[\"Bak4\",\"gambiae\",\"Burkina Faso\"],[\"Bak4\",\"gambiae\",\"Burkina Faso\"],[\"Bak4\",\"gambiae\",\"Burkina Faso\"],[\"Kis1\",\"gambiae\",\"Kenya\"],[\"Kis1\",\"gambiae\",\"Kenya\"],[\"Kis1\",\"gambiae\",\"Kenya\"],[\"Kis2\",\"gambiae\",\"Kenya\"],[\"Kis2\",\"gambiae\",\"Kenya\"],[\"Kis2\",\"gambiae\",\"Kenya\"],[\"Kis3\",\"gambiae\",\"Kenya\"],[\"Kis3\",\"gambiae\",\"Kenya\"],[\"Kis3\",\"gambiae\",\"Kenya\"],[\"Kis4\",\"gambiae\",\"Kenya\"],[\"Kis4\",\"gambiae\",\"Kenya\"],[\"Kis4\",\"gambiae\",\"Kenya\"],[\"Bouake_Kisumu1\",\"gambiae\",\"Kenya\"],[\"Bouake_Kisumu1\",\"gambiae\",\"Kenya\"],[\"Bouake_Kisumu1\",\"gambiae\",\"Kenya\"],[\"Bouake_Kisumu2\",\"gambiae\",\"Kenya\"],[\"Bouake_Kisumu2\",\"gambiae\",\"Kenya\"],[\"Bouake_Kisumu2\",\"gambiae\",\"Kenya\"],[\"Bouake_Kisumu3\",\"gambiae\",\"Kenya\"],[\"Bouake_Kisumu3\",\"gambiae\",\"Kenya\"],[\"Bouake_Kisumu3\",\"gambiae\",\"Kenya\"],[\"Bouake_Kisumu4\",\"gambiae\",\"Kenya\"],[\"Bouake_Kisumu4\",\"gambiae\",\"Kenya\"],[\"Bouake_Kisumu4\",\"gambiae\",\"Kenya\"],[\"Bouake_gamb_unexp1\",\"gambiae\",\"Cote d'Ivoire\"],[\"Bouake_gamb_unexp1\",\"gambiae\",\"Cote d'Ivoire\"],[\"Bouake_gamb_unexp1\",\"gambiae\",\"Cote d'Ivoire\"],[\"Bouake_gamb_unexp2\",\"gambiae\",\"Cote d'Ivoire\"],[\"Bouake_gamb_unexp2\",\"gambiae\",\"Cote d'Ivoire\"],[\"Bouake_gamb_unexp2\",\"gambiae\",\"Cote d'Ivoire\"],[\"Bouake_gamb_unexp3\",\"gambiae\",\"Cote d'Ivoire\"],[\"Bouake_gamb_unexp3\",\"gambiae\",\"Cote d'Ivoire\"],[\"Bouake_gamb_unexp3\",\"gambiae\",\"Cote d'Ivoire\"],[\"Bouake_gamb_unexp4\",\"gambiae\",\"Cote d'Ivoire\"],[\"Bouake_gamb_unexp4\",\"gambiae\",\"Cote d'Ivoire\"],[\"Bouake_gamb_unexp4\",\"gambiae\",\"Cote d'Ivoire\"],[\"BusiaSurvivors1\",\"gambiae\",\"Uganda\"],[\"BusiaSurvivors1\",\"gambiae\",\"Uganda\"],[\"BusiaSurvivors1\",\"gambiae\",\"Uganda\"],[\"BusiaSurvivors2\",\"gambiae\",\"Uganda\"],[\"BusiaSurvivors2\",\"gambiae\",\"Uganda\"],[\"BusiaSurvivors2\",\"gambiae\",\"Uganda\"],[\"BusiaSurvivors3\",\"gambiae\",\"Uganda\"],[\"BusiaSurvivors3\",\"gambiae\",\"Uganda\"],[\"BusiaSurvivors3\",\"gambiae\",\"Uganda\"],[\"BusiaSurvivors4\",\"gambiae\",\"Uganda\"],[\"BusiaSurvivors4\",\"gambiae\",\"Uganda\"],[\"BusiaSurvivors4\",\"gambiae\",\"Uganda\"],[\"BusiaSurvivors5\",\"gambiae\",\"Uganda\"],[\"BusiaSurvivors5\",\"gambiae\",\"Uganda\"],[\"BusiaSurvivors5\",\"gambiae\",\"Uganda\"],[\"BusiaSurvivors6\",\"gambiae\",\"Uganda\"],[\"BusiaSurvivors6\",\"gambiae\",\"Uganda\"],[\"BusiaSurvivors6\",\"gambiae\",\"Uganda\"],[\"Kisumu1\",\"gambiae\",\"Kenya\"],[\"Kisumu1\",\"gambiae\",\"Kenya\"],[\"Kisumu1\",\"gambiae\",\"Kenya\"],[\"Kisumu2\",\"gambiae\",\"Kenya\"],[\"Kisumu2\",\"gambiae\",\"Kenya\"],[\"Kisumu2\",\"gambiae\",\"Kenya\"],[\"Kisumu3\",\"gambiae\",\"Kenya\"],[\"Kisumu3\",\"gambiae\",\"Kenya\"],[\"Kisumu3\",\"gambiae\",\"Kenya\"],[\"Kisumu4\",\"gambiae\",\"Kenya\"],[\"Kisumu4\",\"gambiae\",\"Kenya\"],[\"Kisumu4\",\"gambiae\",\"Kenya\"]],\"hovertemplate\":\"species=%{customdata[1]}<br>counts=%{x}<br>GeneID=%{y}<br>sampleID=%{customdata[0]}<br>country=%{customdata[2]}<extra></extra>\",\"legendgroup\":\"gambiae\",\"marker\":{\"color\":\"#A3A500\"},\"name\":\"gambiae\",\"notched\":false,\"offsetgroup\":\"gambiae\",\"orientation\":\"h\",\"showlegend\":false,\"x\":[231.0,519.0,199.0,169.0,622.0,181.0,498.0,534.0,232.0,331.0,428.0,130.0,324.0,724.0,49.0,307.0,657.0,25.0,221.0,564.0,98.0,162.0,541.0,87.0,428.0,676.0,55.0,474.0,861.0,49.0,428.0,588.0,71.0,449.0,714.0,64.0,2180.0,765.0,45.0,2304.0,501.0,55.0,3148.0,815.0,99.0,2998.0,600.0,69.0,434.0,755.0,32.0,560.0,776.0,48.0,298.0,676.0,19.0,315.0,644.0,17.0,367.0,690.0,25.0,362.0,798.0,36.0,242.0,360.0,133.0,254.0,422.0,237.0,302.0,530.0,202.0,242.0,410.0,241.0],\"x0\":\" \",\"xaxis\":\"x2\",\"y\":[\"AGAP006227\",\"AGAP006228\",\"AGAP006222\",\"AGAP006227\",\"AGAP006228\",\"AGAP006222\",\"AGAP006227\",\"AGAP006228\",\"AGAP006222\",\"AGAP006227\",\"AGAP006228\",\"AGAP006222\",\"AGAP006227\",\"AGAP006228\",\"AGAP006222\",\"AGAP006227\",\"AGAP006228\",\"AGAP006222\",\"AGAP006227\",\"AGAP006228\",\"AGAP006222\",\"AGAP006227\",\"AGAP006228\",\"AGAP006222\",\"AGAP006227\",\"AGAP006228\",\"AGAP006222\",\"AGAP006227\",\"AGAP006228\",\"AGAP006222\",\"AGAP006227\",\"AGAP006228\",\"AGAP006222\",\"AGAP006227\",\"AGAP006228\",\"AGAP006222\",\"AGAP006227\",\"AGAP006228\",\"AGAP006222\",\"AGAP006227\",\"AGAP006228\",\"AGAP006222\",\"AGAP006227\",\"AGAP006228\",\"AGAP006222\",\"AGAP006227\",\"AGAP006228\",\"AGAP006222\",\"AGAP006227\",\"AGAP006228\",\"AGAP006222\",\"AGAP006227\",\"AGAP006228\",\"AGAP006222\",\"AGAP006227\",\"AGAP006228\",\"AGAP006222\",\"AGAP006227\",\"AGAP006228\",\"AGAP006222\",\"AGAP006227\",\"AGAP006228\",\"AGAP006222\",\"AGAP006227\",\"AGAP006228\",\"AGAP006222\",\"AGAP006227\",\"AGAP006228\",\"AGAP006222\",\"AGAP006227\",\"AGAP006228\",\"AGAP006222\",\"AGAP006227\",\"AGAP006228\",\"AGAP006222\",\"AGAP006227\",\"AGAP006228\",\"AGAP006222\"],\"y0\":\" \",\"yaxis\":\"y2\",\"type\":\"box\"},{\"alignmentgroup\":\"True\",\"customdata\":[[\"Asendabo_ara1\",\"arabiensis\",\"Ethiopia\"],[\"Asendabo_ara1\",\"arabiensis\",\"Ethiopia\"],[\"Asendabo_ara1\",\"arabiensis\",\"Ethiopia\"],[\"Asendabo_ara2\",\"arabiensis\",\"Ethiopia\"],[\"Asendabo_ara2\",\"arabiensis\",\"Ethiopia\"],[\"Asendabo_ara2\",\"arabiensis\",\"Ethiopia\"],[\"Asendabo_ara3\",\"arabiensis\",\"Ethiopia\"],[\"Asendabo_ara3\",\"arabiensis\",\"Ethiopia\"],[\"Asendabo_ara3\",\"arabiensis\",\"Ethiopia\"],[\"Asendabo_ara4\",\"arabiensis\",\"Ethiopia\"],[\"Asendabo_ara4\",\"arabiensis\",\"Ethiopia\"],[\"Asendabo_ara4\",\"arabiensis\",\"Ethiopia\"],[\"Chewaka_ara1\",\"arabiensis\",\"Ethiopia\"],[\"Chewaka_ara1\",\"arabiensis\",\"Ethiopia\"],[\"Chewaka_ara1\",\"arabiensis\",\"Ethiopia\"],[\"Chewaka_ara2\",\"arabiensis\",\"Ethiopia\"],[\"Chewaka_ara2\",\"arabiensis\",\"Ethiopia\"],[\"Chewaka_ara2\",\"arabiensis\",\"Ethiopia\"],[\"Chewaka_ara3\",\"arabiensis\",\"Ethiopia\"],[\"Chewaka_ara3\",\"arabiensis\",\"Ethiopia\"],[\"Chewaka_ara3\",\"arabiensis\",\"Ethiopia\"],[\"Chewaka_ara4\",\"arabiensis\",\"Ethiopia\"],[\"Chewaka_ara4\",\"arabiensis\",\"Ethiopia\"],[\"Chewaka_ara4\",\"arabiensis\",\"Ethiopia\"],[\"Moz_VanLeeuwen1\",\"arabiensis\",\"Mozambique\"],[\"Moz_VanLeeuwen1\",\"arabiensis\",\"Mozambique\"],[\"Moz_VanLeeuwen1\",\"arabiensis\",\"Mozambique\"],[\"Moz_VanLeeuwen2\",\"arabiensis\",\"Mozambique\"],[\"Moz_VanLeeuwen2\",\"arabiensis\",\"Mozambique\"],[\"Moz_VanLeeuwen2\",\"arabiensis\",\"Mozambique\"],[\"Moz_VanLeeuwen3\",\"arabiensis\",\"Mozambique\"],[\"Moz_VanLeeuwen3\",\"arabiensis\",\"Mozambique\"],[\"Moz_VanLeeuwen3\",\"arabiensis\",\"Mozambique\"],[\"Moz_VanLeeuwen4\",\"arabiensis\",\"Mozambique\"],[\"Moz_VanLeeuwen4\",\"arabiensis\",\"Mozambique\"],[\"Moz_VanLeeuwen4\",\"arabiensis\",\"Mozambique\"],[\"Tolay1\",\"arabiensis\",\"Ethiopia\"],[\"Tolay1\",\"arabiensis\",\"Ethiopia\"],[\"Tolay1\",\"arabiensis\",\"Ethiopia\"],[\"Tolay2\",\"arabiensis\",\"Ethiopia\"],[\"Tolay2\",\"arabiensis\",\"Ethiopia\"],[\"Tolay2\",\"arabiensis\",\"Ethiopia\"],[\"Tolay3\",\"arabiensis\",\"Ethiopia\"],[\"Tolay3\",\"arabiensis\",\"Ethiopia\"],[\"Tolay3\",\"arabiensis\",\"Ethiopia\"],[\"Tolay4\",\"arabiensis\",\"Ethiopia\"],[\"Tolay4\",\"arabiensis\",\"Ethiopia\"],[\"Tolay4\",\"arabiensis\",\"Ethiopia\"],[\"Dongola1\",\"arabiensis\",\"Sudan\"],[\"Dongola1\",\"arabiensis\",\"Sudan\"],[\"Dongola1\",\"arabiensis\",\"Sudan\"],[\"Dongola2\",\"arabiensis\",\"Sudan\"],[\"Dongola2\",\"arabiensis\",\"Sudan\"],[\"Dongola2\",\"arabiensis\",\"Sudan\"],[\"Dongola3\",\"arabiensis\",\"Sudan\"],[\"Dongola3\",\"arabiensis\",\"Sudan\"],[\"Dongola3\",\"arabiensis\",\"Sudan\"],[\"Ethiopia1\",\"arabiensis\",\"Ethiopia\"],[\"Ethiopia1\",\"arabiensis\",\"Ethiopia\"],[\"Ethiopia1\",\"arabiensis\",\"Ethiopia\"],[\"Ethiopia2\",\"arabiensis\",\"Ethiopia\"],[\"Ethiopia2\",\"arabiensis\",\"Ethiopia\"],[\"Ethiopia2\",\"arabiensis\",\"Ethiopia\"],[\"Ethiopia3\",\"arabiensis\",\"Ethiopia\"],[\"Ethiopia3\",\"arabiensis\",\"Ethiopia\"],[\"Ethiopia3\",\"arabiensis\",\"Ethiopia\"],[\"Gou1\",\"arabiensis\",\"Burkina Faso\"],[\"Gou1\",\"arabiensis\",\"Burkina Faso\"],[\"Gou1\",\"arabiensis\",\"Burkina Faso\"],[\"Gou2\",\"arabiensis\",\"Burkina Faso\"],[\"Gou2\",\"arabiensis\",\"Burkina Faso\"],[\"Gou2\",\"arabiensis\",\"Burkina Faso\"],[\"Gou3\",\"arabiensis\",\"Burkina Faso\"],[\"Gou3\",\"arabiensis\",\"Burkina Faso\"],[\"Gou3\",\"arabiensis\",\"Burkina Faso\"],[\"Moz_Ranson1\",\"arabiensis\",\"Mozambique\"],[\"Moz_Ranson1\",\"arabiensis\",\"Mozambique\"],[\"Moz_Ranson1\",\"arabiensis\",\"Mozambique\"],[\"Moz_Ranson2\",\"arabiensis\",\"Mozambique\"],[\"Moz_Ranson2\",\"arabiensis\",\"Mozambique\"],[\"Moz_Ranson2\",\"arabiensis\",\"Mozambique\"],[\"Moz_Ranson3\",\"arabiensis\",\"Mozambique\"],[\"Moz_Ranson3\",\"arabiensis\",\"Mozambique\"],[\"Moz_Ranson3\",\"arabiensis\",\"Mozambique\"]],\"hovertemplate\":\"species=%{customdata[1]}<br>counts=%{x}<br>GeneID=%{y}<br>sampleID=%{customdata[0]}<br>country=%{customdata[2]}<extra></extra>\",\"legendgroup\":\"arabiensis\",\"marker\":{\"color\":\"#00BF7D\"},\"name\":\"arabiensis\",\"notched\":false,\"offsetgroup\":\"arabiensis\",\"orientation\":\"h\",\"showlegend\":false,\"x\":[488.0,942.0,221.0,419.0,879.0,223.0,383.0,989.0,286.0,357.0,820.0,165.0,526.0,1193.0,605.0,588.0,1287.0,596.0,458.0,1053.0,592.0,440.0,809.0,296.0,537.0,873.0,37.0,437.0,809.0,45.0,526.0,955.0,73.0,495.0,744.0,41.0,516.0,1152.0,256.0,471.0,996.0,208.0,545.0,1046.0,338.0,405.0,809.0,324.0,223.0,272.0,185.0,189.0,244.0,193.0,177.0,251.0,117.0,231.0,278.0,413.0,187.0,280.0,355.0,202.0,290.0,261.0,309.0,676.0,78.0,324.0,832.0,110.0,309.0,709.0,73.0,388.0,820.0,41.0,249.0,755.0,31.0,282.0,798.0,36.0],\"x0\":\" \",\"xaxis\":\"x2\",\"y\":[\"AGAP006227\",\"AGAP006228\",\"AGAP006222\",\"AGAP006227\",\"AGAP006228\",\"AGAP006222\",\"AGAP006227\",\"AGAP006228\",\"AGAP006222\",\"AGAP006227\",\"AGAP006228\",\"AGAP006222\",\"AGAP006227\",\"AGAP006228\",\"AGAP006222\",\"AGAP006227\",\"AGAP006228\",\"AGAP006222\",\"AGAP006227\",\"AGAP006228\",\"AGAP006222\",\"AGAP006227\",\"AGAP006228\",\"AGAP006222\",\"AGAP006227\",\"AGAP006228\",\"AGAP006222\",\"AGAP006227\",\"AGAP006228\",\"AGAP006222\",\"AGAP006227\",\"AGAP006228\",\"AGAP006222\",\"AGAP006227\",\"AGAP006228\",\"AGAP006222\",\"AGAP006227\",\"AGAP006228\",\"AGAP006222\",\"AGAP006227\",\"AGAP006228\",\"AGAP006222\",\"AGAP006227\",\"AGAP006228\",\"AGAP006222\",\"AGAP006227\",\"AGAP006228\",\"AGAP006222\",\"AGAP006227\",\"AGAP006228\",\"AGAP006222\",\"AGAP006227\",\"AGAP006228\",\"AGAP006222\",\"AGAP006227\",\"AGAP006228\",\"AGAP006222\",\"AGAP006227\",\"AGAP006228\",\"AGAP006222\",\"AGAP006227\",\"AGAP006228\",\"AGAP006222\",\"AGAP006227\",\"AGAP006228\",\"AGAP006222\",\"AGAP006227\",\"AGAP006228\",\"AGAP006222\",\"AGAP006227\",\"AGAP006228\",\"AGAP006222\",\"AGAP006227\",\"AGAP006228\",\"AGAP006222\",\"AGAP006227\",\"AGAP006228\",\"AGAP006222\",\"AGAP006227\",\"AGAP006228\",\"AGAP006222\",\"AGAP006227\",\"AGAP006228\",\"AGAP006222\"],\"y0\":\" \",\"yaxis\":\"y2\",\"type\":\"box\"},{\"alignmentgroup\":\"True\",\"customdata\":[[\"Cameroon_fun1\",\"funestus\",\"Cameroon\"],[\"Cameroon_fun1\",\"funestus\",\"Cameroon\"],[\"Cameroon_fun1\",\"funestus\",\"Cameroon\"],[\"Cameroon_fun2\",\"funestus\",\"Cameroon\"],[\"Cameroon_fun2\",\"funestus\",\"Cameroon\"],[\"Cameroon_fun2\",\"funestus\",\"Cameroon\"],[\"Cameroon_fun3\",\"funestus\",\"Cameroon\"],[\"Cameroon_fun3\",\"funestus\",\"Cameroon\"],[\"Cameroon_fun3\",\"funestus\",\"Cameroon\"],[\"Cameroon_fun4\",\"funestus\",\"Cameroon\"],[\"Cameroon_fun4\",\"funestus\",\"Cameroon\"],[\"Cameroon_fun4\",\"funestus\",\"Cameroon\"],[\"Cameroon_fun5\",\"funestus\",\"Cameroon\"],[\"Cameroon_fun5\",\"funestus\",\"Cameroon\"],[\"Cameroon_fun5\",\"funestus\",\"Cameroon\"],[\"Cameroon_fun6\",\"funestus\",\"Cameroon\"],[\"Cameroon_fun6\",\"funestus\",\"Cameroon\"],[\"Cameroon_fun6\",\"funestus\",\"Cameroon\"],[\"Cameroon_fun7\",\"funestus\",\"Cameroon\"],[\"Cameroon_fun7\",\"funestus\",\"Cameroon\"],[\"Cameroon_fun7\",\"funestus\",\"Cameroon\"],[\"Cameroon_fun8\",\"funestus\",\"Cameroon\"],[\"Cameroon_fun8\",\"funestus\",\"Cameroon\"],[\"Cameroon_fun8\",\"funestus\",\"Cameroon\"],[\"Cameroon_fun9\",\"funestus\",\"Cameroon\"],[\"Cameroon_fun9\",\"funestus\",\"Cameroon\"],[\"Cameroon_fun9\",\"funestus\",\"Cameroon\"],[\"Fang1\",\"funestus\",\"Angola\"],[\"Fang1\",\"funestus\",\"Angola\"],[\"Fang1\",\"funestus\",\"Angola\"],[\"Fang2\",\"funestus\",\"Angola\"],[\"Fang2\",\"funestus\",\"Angola\"],[\"Fang2\",\"funestus\",\"Angola\"],[\"Fang3\",\"funestus\",\"Angola\"],[\"Fang3\",\"funestus\",\"Angola\"],[\"Fang3\",\"funestus\",\"Angola\"],[\"Fumoz1\",\"funestus\",\"Mozambique\"],[\"Fumoz1\",\"funestus\",\"Mozambique\"],[\"Fumoz1\",\"funestus\",\"Mozambique\"],[\"Fumoz2\",\"funestus\",\"Mozambique\"],[\"Fumoz2\",\"funestus\",\"Mozambique\"],[\"Fumoz2\",\"funestus\",\"Mozambique\"],[\"Fumoz3\",\"funestus\",\"Mozambique\"],[\"Fumoz3\",\"funestus\",\"Mozambique\"],[\"Fumoz3\",\"funestus\",\"Mozambique\"],[\"Fumoz4\",\"funestus\",\"Mozambique\"],[\"Fumoz4\",\"funestus\",\"Mozambique\"],[\"Fumoz4\",\"funestus\",\"Mozambique\"],[\"Fumoz5\",\"funestus\",\"Mozambique\"],[\"Fumoz5\",\"funestus\",\"Mozambique\"],[\"Fumoz5\",\"funestus\",\"Mozambique\"],[\"Ghana_fun1\",\"funestus\",\"Ghana\"],[\"Ghana_fun1\",\"funestus\",\"Ghana\"],[\"Ghana_fun1\",\"funestus\",\"Ghana\"],[\"Ghana_fun2\",\"funestus\",\"Ghana\"],[\"Ghana_fun2\",\"funestus\",\"Ghana\"],[\"Ghana_fun2\",\"funestus\",\"Ghana\"],[\"Ghana_fun3\",\"funestus\",\"Ghana\"],[\"Ghana_fun3\",\"funestus\",\"Ghana\"],[\"Ghana_fun3\",\"funestus\",\"Ghana\"],[\"Ghana_fun4\",\"funestus\",\"Ghana\"],[\"Ghana_fun4\",\"funestus\",\"Ghana\"],[\"Ghana_fun4\",\"funestus\",\"Ghana\"],[\"Ghana_fun5\",\"funestus\",\"Ghana\"],[\"Ghana_fun5\",\"funestus\",\"Ghana\"],[\"Ghana_fun5\",\"funestus\",\"Ghana\"],[\"Ghana_fun6\",\"funestus\",\"Ghana\"],[\"Ghana_fun6\",\"funestus\",\"Ghana\"],[\"Ghana_fun6\",\"funestus\",\"Ghana\"],[\"Ghana_fun7\",\"funestus\",\"Ghana\"],[\"Ghana_fun7\",\"funestus\",\"Ghana\"],[\"Ghana_fun7\",\"funestus\",\"Ghana\"],[\"Ghana_fun8\",\"funestus\",\"Ghana\"],[\"Ghana_fun8\",\"funestus\",\"Ghana\"],[\"Ghana_fun8\",\"funestus\",\"Ghana\"],[\"Ghana_fun9\",\"funestus\",\"Ghana\"],[\"Ghana_fun9\",\"funestus\",\"Ghana\"],[\"Ghana_fun9\",\"funestus\",\"Ghana\"],[\"Ghana_fun10\",\"funestus\",\"Ghana\"],[\"Ghana_fun10\",\"funestus\",\"Ghana\"],[\"Ghana_fun10\",\"funestus\",\"Ghana\"],[\"Malawi_fun1\",\"funestus\",\"Malawi\"],[\"Malawi_fun1\",\"funestus\",\"Malawi\"],[\"Malawi_fun1\",\"funestus\",\"Malawi\"],[\"Malawi_fun2\",\"funestus\",\"Malawi\"],[\"Malawi_fun2\",\"funestus\",\"Malawi\"],[\"Malawi_fun2\",\"funestus\",\"Malawi\"],[\"Malawi_fun3\",\"funestus\",\"Malawi\"],[\"Malawi_fun3\",\"funestus\",\"Malawi\"],[\"Malawi_fun3\",\"funestus\",\"Malawi\"],[\"Malawi_fun4\",\"funestus\",\"Malawi\"],[\"Malawi_fun4\",\"funestus\",\"Malawi\"],[\"Malawi_fun4\",\"funestus\",\"Malawi\"],[\"Malawi_fun5\",\"funestus\",\"Malawi\"],[\"Malawi_fun5\",\"funestus\",\"Malawi\"],[\"Malawi_fun5\",\"funestus\",\"Malawi\"],[\"Malawi_fun6\",\"funestus\",\"Malawi\"],[\"Malawi_fun6\",\"funestus\",\"Malawi\"],[\"Malawi_fun6\",\"funestus\",\"Malawi\"],[\"Malawi_fun7\",\"funestus\",\"Malawi\"],[\"Malawi_fun7\",\"funestus\",\"Malawi\"],[\"Malawi_fun7\",\"funestus\",\"Malawi\"],[\"Malawi_fun8\",\"funestus\",\"Malawi\"],[\"Malawi_fun8\",\"funestus\",\"Malawi\"],[\"Malawi_fun8\",\"funestus\",\"Malawi\"],[\"Malawi_fun9\",\"funestus\",\"Malawi\"],[\"Malawi_fun9\",\"funestus\",\"Malawi\"],[\"Malawi_fun9\",\"funestus\",\"Malawi\"],[\"Malawi_fun10\",\"funestus\",\"Malawi\"],[\"Malawi_fun10\",\"funestus\",\"Malawi\"],[\"Malawi_fun10\",\"funestus\",\"Malawi\"],[\"Uganda_fun1\",\"funestus\",\"Uganda\"],[\"Uganda_fun1\",\"funestus\",\"Uganda\"],[\"Uganda_fun1\",\"funestus\",\"Uganda\"],[\"Uganda_fun2\",\"funestus\",\"Uganda\"],[\"Uganda_fun2\",\"funestus\",\"Uganda\"],[\"Uganda_fun2\",\"funestus\",\"Uganda\"],[\"Uganda_fun3\",\"funestus\",\"Uganda\"],[\"Uganda_fun3\",\"funestus\",\"Uganda\"],[\"Uganda_fun3\",\"funestus\",\"Uganda\"],[\"Uganda_fun4\",\"funestus\",\"Uganda\"],[\"Uganda_fun4\",\"funestus\",\"Uganda\"],[\"Uganda_fun4\",\"funestus\",\"Uganda\"],[\"Uganda_fun5\",\"funestus\",\"Uganda\"],[\"Uganda_fun5\",\"funestus\",\"Uganda\"],[\"Uganda_fun5\",\"funestus\",\"Uganda\"],[\"Uganda_fun6\",\"funestus\",\"Uganda\"],[\"Uganda_fun6\",\"funestus\",\"Uganda\"],[\"Uganda_fun6\",\"funestus\",\"Uganda\"],[\"Uganda_fun7\",\"funestus\",\"Uganda\"],[\"Uganda_fun7\",\"funestus\",\"Uganda\"],[\"Uganda_fun7\",\"funestus\",\"Uganda\"],[\"Uganda_fun8\",\"funestus\",\"Uganda\"],[\"Uganda_fun8\",\"funestus\",\"Uganda\"],[\"Uganda_fun8\",\"funestus\",\"Uganda\"],[\"Uganda_fun9\",\"funestus\",\"Uganda\"],[\"Uganda_fun9\",\"funestus\",\"Uganda\"],[\"Uganda_fun9\",\"funestus\",\"Uganda\"]],\"hovertemplate\":\"species=%{customdata[1]}<br>counts=%{x}<br>GeneID=%{y}<br>sampleID=%{customdata[0]}<br>country=%{customdata[2]}<extra></extra>\",\"legendgroup\":\"funestus\",\"marker\":{\"color\":\"#00B0F6\"},\"name\":\"funestus\",\"notched\":false,\"offsetgroup\":\"funestus\",\"orientation\":\"h\",\"showlegend\":false,\"x\":[164.0,296.0,181.0,118.0,340.0,175.0,116.0,292.0,153.0,120.0,260.0,137.0,90.0,239.0,148.0,159.0,298.0,175.0,95.0,274.0,129.0,128.0,282.0,184.0,119.0,249.0,140.0,256.0,326.0,333.0,93.0,292.0,150.0,144.0,278.0,223.0,149.0,326.0,231.0,94.0,300.0,284.0,111.0,290.0,236.0,79.0,258.0,226.0,96.0,246.0,232.0,142.0,468.0,405.0,179.0,407.0,481.0,208.0,431.0,416.0,167.0,372.0,481.0,168.0,474.0,380.0,147.0,347.0,320.0,155.0,286.0,365.0,223.0,410.0,385.0,177.0,375.0,383.0,159.0,355.0,320.0,115.0,352.0,194.0,98.0,340.0,214.0,133.0,452.0,347.0,136.0,300.0,217.0,182.0,317.0,247.0,143.0,405.0,272.0,100.0,360.0,212.0,138.0,357.0,428.0,111.0,375.0,388.0,148.0,428.0,407.0,76.0,246.0,105.0,98.0,252.0,186.0,104.0,317.0,187.0,100.0,329.0,122.0,185.0,516.0,484.0,104.0,292.0,165.0,145.0,428.0,329.0,144.0,413.0,254.0,143.0,357.0,311.0],\"x0\":\" \",\"xaxis\":\"x2\",\"y\":[\"AGAP006227\",\"AGAP006228\",\"AGAP006222\",\"AGAP006227\",\"AGAP006228\",\"AGAP006222\",\"AGAP006227\",\"AGAP006228\",\"AGAP006222\",\"AGAP006227\",\"AGAP006228\",\"AGAP006222\",\"AGAP006227\",\"AGAP006228\",\"AGAP006222\",\"AGAP006227\",\"AGAP006228\",\"AGAP006222\",\"AGAP006227\",\"AGAP006228\",\"AGAP006222\",\"AGAP006227\",\"AGAP006228\",\"AGAP006222\",\"AGAP006227\",\"AGAP006228\",\"AGAP006222\",\"AGAP006227\",\"AGAP006228\",\"AGAP006222\",\"AGAP006227\",\"AGAP006228\",\"AGAP006222\",\"AGAP006227\",\"AGAP006228\",\"AGAP006222\",\"AGAP006227\",\"AGAP006228\",\"AGAP006222\",\"AGAP006227\",\"AGAP006228\",\"AGAP006222\",\"AGAP006227\",\"AGAP006228\",\"AGAP006222\",\"AGAP006227\",\"AGAP006228\",\"AGAP006222\",\"AGAP006227\",\"AGAP006228\",\"AGAP006222\",\"AGAP006227\",\"AGAP006228\",\"AGAP006222\",\"AGAP006227\",\"AGAP006228\",\"AGAP006222\",\"AGAP006227\",\"AGAP006228\",\"AGAP006222\",\"AGAP006227\",\"AGAP006228\",\"AGAP006222\",\"AGAP006227\",\"AGAP006228\",\"AGAP006222\",\"AGAP006227\",\"AGAP006228\",\"AGAP006222\",\"AGAP006227\",\"AGAP006228\",\"AGAP006222\",\"AGAP006227\",\"AGAP006228\",\"AGAP006222\",\"AGAP006227\",\"AGAP006228\",\"AGAP006222\",\"AGAP006227\",\"AGAP006228\",\"AGAP006222\",\"AGAP006227\",\"AGAP006228\",\"AGAP006222\",\"AGAP006227\",\"AGAP006228\",\"AGAP006222\",\"AGAP006227\",\"AGAP006228\",\"AGAP006222\",\"AGAP006227\",\"AGAP006228\",\"AGAP006222\",\"AGAP006227\",\"AGAP006228\",\"AGAP006222\",\"AGAP006227\",\"AGAP006228\",\"AGAP006222\",\"AGAP006227\",\"AGAP006228\",\"AGAP006222\",\"AGAP006227\",\"AGAP006228\",\"AGAP006222\",\"AGAP006227\",\"AGAP006228\",\"AGAP006222\",\"AGAP006227\",\"AGAP006228\",\"AGAP006222\",\"AGAP006227\",\"AGAP006228\",\"AGAP006222\",\"AGAP006227\",\"AGAP006228\",\"AGAP006222\",\"AGAP006227\",\"AGAP006228\",\"AGAP006222\",\"AGAP006227\",\"AGAP006228\",\"AGAP006222\",\"AGAP006227\",\"AGAP006228\",\"AGAP006222\",\"AGAP006227\",\"AGAP006228\",\"AGAP006222\",\"AGAP006227\",\"AGAP006228\",\"AGAP006222\",\"AGAP006227\",\"AGAP006228\",\"AGAP006222\",\"AGAP006227\",\"AGAP006228\",\"AGAP006222\"],\"y0\":\" \",\"yaxis\":\"y2\",\"type\":\"box\"}],                        {\"template\":{\"data\":{\"bar\":[{\"error_x\":{\"color\":\"#2a3f5f\"},\"error_y\":{\"color\":\"#2a3f5f\"},\"marker\":{\"line\":{\"color\":\"#E5ECF6\",\"width\":0.5},\"pattern\":{\"fillmode\":\"overlay\",\"size\":10,\"solidity\":0.2}},\"type\":\"bar\"}],\"barpolar\":[{\"marker\":{\"line\":{\"color\":\"#E5ECF6\",\"width\":0.5},\"pattern\":{\"fillmode\":\"overlay\",\"size\":10,\"solidity\":0.2}},\"type\":\"barpolar\"}],\"carpet\":[{\"aaxis\":{\"endlinecolor\":\"#2a3f5f\",\"gridcolor\":\"white\",\"linecolor\":\"white\",\"minorgridcolor\":\"white\",\"startlinecolor\":\"#2a3f5f\"},\"baxis\":{\"endlinecolor\":\"#2a3f5f\",\"gridcolor\":\"white\",\"linecolor\":\"white\",\"minorgridcolor\":\"white\",\"startlinecolor\":\"#2a3f5f\"},\"type\":\"carpet\"}],\"choropleth\":[{\"colorbar\":{\"outlinewidth\":0,\"ticks\":\"\"},\"type\":\"choropleth\"}],\"contour\":[{\"colorbar\":{\"outlinewidth\":0,\"ticks\":\"\"},\"colorscale\":[[0.0,\"#0d0887\"],[0.1111111111111111,\"#46039f\"],[0.2222222222222222,\"#7201a8\"],[0.3333333333333333,\"#9c179e\"],[0.4444444444444444,\"#bd3786\"],[0.5555555555555556,\"#d8576b\"],[0.6666666666666666,\"#ed7953\"],[0.7777777777777778,\"#fb9f3a\"],[0.8888888888888888,\"#fdca26\"],[1.0,\"#f0f921\"]],\"type\":\"contour\"}],\"contourcarpet\":[{\"colorbar\":{\"outlinewidth\":0,\"ticks\":\"\"},\"type\":\"contourcarpet\"}],\"heatmap\":[{\"colorbar\":{\"outlinewidth\":0,\"ticks\":\"\"},\"colorscale\":[[0.0,\"#0d0887\"],[0.1111111111111111,\"#46039f\"],[0.2222222222222222,\"#7201a8\"],[0.3333333333333333,\"#9c179e\"],[0.4444444444444444,\"#bd3786\"],[0.5555555555555556,\"#d8576b\"],[0.6666666666666666,\"#ed7953\"],[0.7777777777777778,\"#fb9f3a\"],[0.8888888888888888,\"#fdca26\"],[1.0,\"#f0f921\"]],\"type\":\"heatmap\"}],\"heatmapgl\":[{\"colorbar\":{\"outlinewidth\":0,\"ticks\":\"\"},\"colorscale\":[[0.0,\"#0d0887\"],[0.1111111111111111,\"#46039f\"],[0.2222222222222222,\"#7201a8\"],[0.3333333333333333,\"#9c179e\"],[0.4444444444444444,\"#bd3786\"],[0.5555555555555556,\"#d8576b\"],[0.6666666666666666,\"#ed7953\"],[0.7777777777777778,\"#fb9f3a\"],[0.8888888888888888,\"#fdca26\"],[1.0,\"#f0f921\"]],\"type\":\"heatmapgl\"}],\"histogram\":[{\"marker\":{\"pattern\":{\"fillmode\":\"overlay\",\"size\":10,\"solidity\":0.2}},\"type\":\"histogram\"}],\"histogram2d\":[{\"colorbar\":{\"outlinewidth\":0,\"ticks\":\"\"},\"colorscale\":[[0.0,\"#0d0887\"],[0.1111111111111111,\"#46039f\"],[0.2222222222222222,\"#7201a8\"],[0.3333333333333333,\"#9c179e\"],[0.4444444444444444,\"#bd3786\"],[0.5555555555555556,\"#d8576b\"],[0.6666666666666666,\"#ed7953\"],[0.7777777777777778,\"#fb9f3a\"],[0.8888888888888888,\"#fdca26\"],[1.0,\"#f0f921\"]],\"type\":\"histogram2d\"}],\"histogram2dcontour\":[{\"colorbar\":{\"outlinewidth\":0,\"ticks\":\"\"},\"colorscale\":[[0.0,\"#0d0887\"],[0.1111111111111111,\"#46039f\"],[0.2222222222222222,\"#7201a8\"],[0.3333333333333333,\"#9c179e\"],[0.4444444444444444,\"#bd3786\"],[0.5555555555555556,\"#d8576b\"],[0.6666666666666666,\"#ed7953\"],[0.7777777777777778,\"#fb9f3a\"],[0.8888888888888888,\"#fdca26\"],[1.0,\"#f0f921\"]],\"type\":\"histogram2dcontour\"}],\"mesh3d\":[{\"colorbar\":{\"outlinewidth\":0,\"ticks\":\"\"},\"type\":\"mesh3d\"}],\"parcoords\":[{\"line\":{\"colorbar\":{\"outlinewidth\":0,\"ticks\":\"\"}},\"type\":\"parcoords\"}],\"pie\":[{\"automargin\":true,\"type\":\"pie\"}],\"scatter\":[{\"marker\":{\"colorbar\":{\"outlinewidth\":0,\"ticks\":\"\"}},\"type\":\"scatter\"}],\"scatter3d\":[{\"line\":{\"colorbar\":{\"outlinewidth\":0,\"ticks\":\"\"}},\"marker\":{\"colorbar\":{\"outlinewidth\":0,\"ticks\":\"\"}},\"type\":\"scatter3d\"}],\"scattercarpet\":[{\"marker\":{\"colorbar\":{\"outlinewidth\":0,\"ticks\":\"\"}},\"type\":\"scattercarpet\"}],\"scattergeo\":[{\"marker\":{\"colorbar\":{\"outlinewidth\":0,\"ticks\":\"\"}},\"type\":\"scattergeo\"}],\"scattergl\":[{\"marker\":{\"colorbar\":{\"outlinewidth\":0,\"ticks\":\"\"}},\"type\":\"scattergl\"}],\"scattermapbox\":[{\"marker\":{\"colorbar\":{\"outlinewidth\":0,\"ticks\":\"\"}},\"type\":\"scattermapbox\"}],\"scatterpolar\":[{\"marker\":{\"colorbar\":{\"outlinewidth\":0,\"ticks\":\"\"}},\"type\":\"scatterpolar\"}],\"scatterpolargl\":[{\"marker\":{\"colorbar\":{\"outlinewidth\":0,\"ticks\":\"\"}},\"type\":\"scatterpolargl\"}],\"scatterternary\":[{\"marker\":{\"colorbar\":{\"outlinewidth\":0,\"ticks\":\"\"}},\"type\":\"scatterternary\"}],\"surface\":[{\"colorbar\":{\"outlinewidth\":0,\"ticks\":\"\"},\"colorscale\":[[0.0,\"#0d0887\"],[0.1111111111111111,\"#46039f\"],[0.2222222222222222,\"#7201a8\"],[0.3333333333333333,\"#9c179e\"],[0.4444444444444444,\"#bd3786\"],[0.5555555555555556,\"#d8576b\"],[0.6666666666666666,\"#ed7953\"],[0.7777777777777778,\"#fb9f3a\"],[0.8888888888888888,\"#fdca26\"],[1.0,\"#f0f921\"]],\"type\":\"surface\"}],\"table\":[{\"cells\":{\"fill\":{\"color\":\"#EBF0F8\"},\"line\":{\"color\":\"white\"}},\"header\":{\"fill\":{\"color\":\"#C8D4E3\"},\"line\":{\"color\":\"white\"}},\"type\":\"table\"}]},\"layout\":{\"annotationdefaults\":{\"arrowcolor\":\"#2a3f5f\",\"arrowhead\":0,\"arrowwidth\":1},\"autotypenumbers\":\"strict\",\"coloraxis\":{\"colorbar\":{\"outlinewidth\":0,\"ticks\":\"\"}},\"colorscale\":{\"diverging\":[[0,\"#8e0152\"],[0.1,\"#c51b7d\"],[0.2,\"#de77ae\"],[0.3,\"#f1b6da\"],[0.4,\"#fde0ef\"],[0.5,\"#f7f7f7\"],[0.6,\"#e6f5d0\"],[0.7,\"#b8e186\"],[0.8,\"#7fbc41\"],[0.9,\"#4d9221\"],[1,\"#276419\"]],\"sequential\":[[0.0,\"#0d0887\"],[0.1111111111111111,\"#46039f\"],[0.2222222222222222,\"#7201a8\"],[0.3333333333333333,\"#9c179e\"],[0.4444444444444444,\"#bd3786\"],[0.5555555555555556,\"#d8576b\"],[0.6666666666666666,\"#ed7953\"],[0.7777777777777778,\"#fb9f3a\"],[0.8888888888888888,\"#fdca26\"],[1.0,\"#f0f921\"]],\"sequentialminus\":[[0.0,\"#0d0887\"],[0.1111111111111111,\"#46039f\"],[0.2222222222222222,\"#7201a8\"],[0.3333333333333333,\"#9c179e\"],[0.4444444444444444,\"#bd3786\"],[0.5555555555555556,\"#d8576b\"],[0.6666666666666666,\"#ed7953\"],[0.7777777777777778,\"#fb9f3a\"],[0.8888888888888888,\"#fdca26\"],[1.0,\"#f0f921\"]]},\"colorway\":[\"#636efa\",\"#EF553B\",\"#00cc96\",\"#ab63fa\",\"#FFA15A\",\"#19d3f3\",\"#FF6692\",\"#B6E880\",\"#FF97FF\",\"#FECB52\"],\"font\":{\"color\":\"#2a3f5f\"},\"geo\":{\"bgcolor\":\"white\",\"lakecolor\":\"white\",\"landcolor\":\"#E5ECF6\",\"showlakes\":true,\"showland\":true,\"subunitcolor\":\"white\"},\"hoverlabel\":{\"align\":\"left\"},\"hovermode\":\"closest\",\"mapbox\":{\"style\":\"light\"},\"paper_bgcolor\":\"white\",\"plot_bgcolor\":\"#E5ECF6\",\"polar\":{\"angularaxis\":{\"gridcolor\":\"white\",\"linecolor\":\"white\",\"ticks\":\"\"},\"bgcolor\":\"#E5ECF6\",\"radialaxis\":{\"gridcolor\":\"white\",\"linecolor\":\"white\",\"ticks\":\"\"}},\"scene\":{\"xaxis\":{\"backgroundcolor\":\"#E5ECF6\",\"gridcolor\":\"white\",\"gridwidth\":2,\"linecolor\":\"white\",\"showbackground\":true,\"ticks\":\"\",\"zerolinecolor\":\"white\"},\"yaxis\":{\"backgroundcolor\":\"#E5ECF6\",\"gridcolor\":\"white\",\"gridwidth\":2,\"linecolor\":\"white\",\"showbackground\":true,\"ticks\":\"\",\"zerolinecolor\":\"white\"},\"zaxis\":{\"backgroundcolor\":\"#E5ECF6\",\"gridcolor\":\"white\",\"gridwidth\":2,\"linecolor\":\"white\",\"showbackground\":true,\"ticks\":\"\",\"zerolinecolor\":\"white\"}},\"shapedefaults\":{\"line\":{\"color\":\"#2a3f5f\"}},\"ternary\":{\"aaxis\":{\"gridcolor\":\"white\",\"linecolor\":\"white\",\"ticks\":\"\"},\"baxis\":{\"gridcolor\":\"white\",\"linecolor\":\"white\",\"ticks\":\"\"},\"bgcolor\":\"#E5ECF6\",\"caxis\":{\"gridcolor\":\"white\",\"linecolor\":\"white\",\"ticks\":\"\"}},\"title\":{\"x\":0.05},\"xaxis\":{\"automargin\":true,\"gridcolor\":\"white\",\"linecolor\":\"white\",\"ticks\":\"\",\"title\":{\"standoff\":15},\"zerolinecolor\":\"white\",\"zerolinewidth\":2},\"yaxis\":{\"automargin\":true,\"gridcolor\":\"white\",\"linecolor\":\"white\",\"ticks\":\"\",\"title\":{\"standoff\":15},\"zerolinecolor\":\"white\",\"zerolinewidth\":2}}},\"xaxis\":{\"anchor\":\"y\",\"domain\":[0.0,0.63],\"title\":{\"font\":{\"size\":18},\"text\":\"log2 fold change\"}},\"yaxis\":{\"anchor\":\"x\",\"domain\":[0.0,1.0],\"title\":{\"font\":{\"size\":18},\"text\":\"Gene\"},\"tickfont\":{\"size\":14}},\"xaxis2\":{\"anchor\":\"y2\",\"domain\":[0.65,1.0],\"title\":{\"font\":{\"size\":18},\"text\":\"counts\"}},\"yaxis2\":{\"anchor\":\"x2\",\"domain\":[0.0,1.0],\"showticklabels\":false},\"boxmode\":\"group\",\"title\":{\"text\":\"\",\"x\":0.5},\"width\":1600,\"height\":300,\"shapes\":[{\"line\":{\"color\":\"grey\",\"dash\":\"dash\",\"width\":1},\"type\":\"line\",\"x0\":0,\"x1\":0,\"xref\":\"x\",\"y0\":0,\"y1\":1,\"yref\":\"y domain\"},{\"line\":{\"color\":\"grey\",\"dash\":\"dash\",\"width\":1},\"type\":\"line\",\"x0\":0,\"x1\":0,\"xref\":\"x2\",\"y0\":0,\"y1\":1,\"yref\":\"y2 domain\"}]},                        {\"responsive\": true}                    ).then(function(){\n",
              "                            \n",
              "var gd = document.getElementById('e479d9f1-5f24-44e5-96df-5a3356f0820d');\n",
              "var x = new MutationObserver(function (mutations, observer) {{\n",
              "        var display = window.getComputedStyle(gd).display;\n",
              "        if (!display || display === 'none') {{\n",
              "            console.log([gd, 'removed!']);\n",
              "            Plotly.purge(gd);\n",
              "            observer.disconnect();\n",
              "        }}\n",
              "}});\n",
              "\n",
              "// Listen for the removal of the full notebook cells\n",
              "var notebookContainer = gd.closest('#notebook-container');\n",
              "if (notebookContainer) {{\n",
              "    x.observe(notebookContainer, {childList: true});\n",
              "}}\n",
              "\n",
              "// Listen for the clearing of the current output cell\n",
              "var outputEl = gd.closest('.output');\n",
              "if (outputEl) {{\n",
              "    x.observe(outputEl, {childList: true});\n",
              "}}\n",
              "\n",
              "                        })                };                            </script>        </div>\n",
              "</body>\n",
              "</html>"
            ]
          },
          "metadata": {},
          "output_type": "display_data"
        }
      ],
      "source": [
        "xpress.plot_gene_expression(\n",
        "    analysis='gamb_colu_arab_fun', \n",
        "    gene_id=[\"AGAP006222\", \"AGAP006227\", \"AGAP006228\"], \n",
        "    sort_by='median', \n",
        "    plot_type='boxplot', \n",
        "    height=300\n",
        "    )"
      ]
    }
  ],
  "metadata": {
    "colab": {
      "include_colab_link": true,
      "provenance": []
    },
    "kernelspec": {
      "display_name": "Python 3 (ipykernel)",
      "language": "python",
      "name": "python3"
    },
    "language_info": {
      "codemirror_mode": {
        "name": "ipython",
        "version": 3
      },
      "file_extension": ".py",
      "mimetype": "text/x-python",
      "name": "python",
      "nbconvert_exporter": "python",
      "pygments_lexer": "ipython3",
      "version": "3.7.13"
    },
    "vscode": {
      "interpreter": {
        "hash": "ce681de973941d5edd9bd94c9a2926b7fe65e17e578a68317f38265a230b8ca7"
      }
    }
  },
  "nbformat": 4,
  "nbformat_minor": 5
}
