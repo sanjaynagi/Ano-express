{
 "cells": [
  {
   "cell_type": "markdown",
   "id": "8af2c9f0",
   "metadata": {
    "colab_type": "text",
    "id": "view-in-github"
   },
   "source": [
    "<a href=\"https://colab.research.google.com/github/sanjaynagi/AnoExpress/blob/main/workflow/notebooks/plot-gene-expression.ipynb\" target=\"_parent\"><img src=\"https://colab.research.google.com/assets/colab-badge.svg\" alt=\"Open In Colab\"/></a>"
   ]
  },
  {
   "cell_type": "code",
   "execution_count": null,
   "id": "92Gw-H6qw1Ou",
   "metadata": {
    "id": "92Gw-H6qw1Ou"
   },
   "outputs": [],
   "source": [
    "!pip install anoexpress -q"
   ]
  },
  {
   "cell_type": "markdown",
   "id": "UGVmVYr89T7i",
   "metadata": {
    "id": "UGVmVYr89T7i"
   },
   "source": [
    "![image](https://raw.githubusercontent.com/sanjaynagi/AnoExpressir/main/docs/logo.png) \n"
   ]
  },
  {
   "cell_type": "code",
   "execution_count": null,
   "id": "H68MfuqBOWiH",
   "metadata": {
    "id": "H68MfuqBOWiH"
   },
   "outputs": [],
   "source": [
    "import anoexpress as xpress"
   ]
  },
  {
   "cell_type": "code",
   "execution_count": null,
   "id": "GdM1MG4woktQ",
   "metadata": {
    "cellView": "form",
    "id": "GdM1MG4woktQ"
   },
   "outputs": [],
   "source": [
    "#@title **AnoExpress** { run: \"auto\" }   \n",
    "#@markdown This notebook produces interactive strip and boxplots with plotly, to summarise gene expression across 35 *Anopheles* insecticide resistant v susceptible RNA-Sequencing experiments. There are four different analyses to select\n",
    "#@markdown 'gamb_colu', 'gamb_colu_arab', 'gamb_colu_arab_fun' and 'fun'.  \n",
    "#@markdown each which integrates a different combination of Anopheles species – ‘gamb_colu’ (An. gambiae and An. coluzzii), ‘gamb_colu_arab’ (adding An. arabiensis), ‘gamb_colu_arab_fun’ (adding An. funestus), and finally ‘fun’ (An. funestus alone).  \n",
    "#@markdown As you include more species, there are less genes overall in the dataset, as we can only include genes with one-to-many orthologs between species.\n",
    "\n",
    "analysis = \"gamb_colu_arab_fun\" #@param ['gamb_colu', 'gamb_colu_arab', 'gamb_colu_arab_fun', 'fun']\n",
    "GeneID = \"AGAP002865\" #@param {type:\"string\"} \n",
    "plot_type = \"strip\" #@param ['strip', 'boxplot']\n",
    "include_microarray_data = True #@param {type:'boolean'}\n",
    "\n",
    "xpress.plot_gene_expression(\n",
    "    analysis=analysis,\n",
    "    gene_id=GeneID, \n",
    "    microarray=include_microarray_data,\n",
    "    title=\"\", \n",
    "    plot_type=plot_type, \n",
    "    height=300)"
   ]
  },
  {
   "attachments": {},
   "cell_type": "markdown",
   "id": "yqZ2VL2svoDr",
   "metadata": {
    "id": "yqZ2VL2svoDr"
   },
   "source": [
    "We can provide a list of genes, and sort by either AGAP identifier, or by the median fold-change. We can also filter out values that are not significant based on a `pvalue_filter` parameter. "
   ]
  },
  {
   "cell_type": "code",
   "execution_count": null,
   "id": "bMksl8rNPEMS",
   "metadata": {
    "id": "bMksl8rNPEMS"
   },
   "outputs": [],
   "source": [
    "xpress.plot_gene_expression(\n",
    "    analysis=\"gamb_colu_arab_fun\", \n",
    "    gene_id=[\"AGAP006222\", \"AGAP006227\", \"AGAP006228\"], \n",
    "    microarray=False,\n",
    "    sort_by=None,\n",
    "    pvalue_filter=0.05,\n",
    "    title=\"Coeae1f\", \n",
    "    plot_type='strip', \n",
    "    height=300\n",
    ")"
   ]
  },
  {
   "cell_type": "markdown",
   "id": "w3a56NCsEk70",
   "metadata": {
    "id": "w3a56NCsEk70"
   },
   "source": [
    "You can also produce a boxplot, although the hovertext doesnt quite work as expected."
   ]
  },
  {
   "cell_type": "code",
   "execution_count": null,
   "id": "fr_XvlBp_Pwy",
   "metadata": {
    "id": "fr_XvlBp_Pwy"
   },
   "outputs": [],
   "source": [
    "xpress.plot_gene_expression(\n",
    "    analysis='gamb_colu_arab_fun', \n",
    "    gene_id=[\"AGAP006222\", \"AGAP006227\", \"AGAP006228\"], \n",
    "    sort_by='median', \n",
    "    plot_type='boxplot', \n",
    "    height=300\n",
    "    )"
   ]
  }
 ],
 "metadata": {
  "colab": {
   "include_colab_link": true,
   "provenance": []
  },
  "kernelspec": {
   "display_name": "Python 3 (ipykernel)",
   "language": "python",
   "name": "python3"
  },
  "language_info": {
   "codemirror_mode": {
    "name": "ipython",
    "version": 3
   },
   "file_extension": ".py",
   "mimetype": "text/x-python",
   "name": "python",
   "nbconvert_exporter": "python",
   "pygments_lexer": "ipython3",
   "version": "3.10.10"
  },
  "vscode": {
   "interpreter": {
    "hash": "ce681de973941d5edd9bd94c9a2926b7fe65e17e578a68317f38265a230b8ca7"
   }
  }
 },
 "nbformat": 4,
 "nbformat_minor": 5
}
