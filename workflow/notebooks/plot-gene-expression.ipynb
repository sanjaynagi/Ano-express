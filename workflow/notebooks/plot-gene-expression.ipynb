{
  "cells": [
    {
      "cell_type": "markdown",
      "metadata": {
        "id": "view-in-github",
        "colab_type": "text"
      },
      "source": [
        "<a href=\"https://colab.research.google.com/github/sanjaynagi/rna-seq-meta/blob/main/workflow/notebooks/plot-gene-expression.ipynb\" target=\"_parent\"><img src=\"https://colab.research.google.com/assets/colab-badge.svg\" alt=\"Open In Colab\"/></a>"
      ]
    },
    {
      "cell_type": "code",
      "execution_count": null,
      "id": "H68MfuqBOWiH",
      "metadata": {
        "id": "H68MfuqBOWiH"
      },
      "outputs": [],
      "source": [
        "! git clone https://github.com/sanjaynagi/rna-seq-meta.git\n",
        "\n",
        "import pandas as pd\n",
        "import numpy as np\n",
        "import plotly.express as px\n",
        "\n",
        "def plotly_gene_fcs(gene_id, title, plot_type='strip', sort_by='agap', width=1000, height=None):\n",
        "  \"\"\"Plot fold changes of provided AGAP gene IDs from RNA-Seq \n",
        "  meta-analysis dataset\n",
        "\n",
        "  Parameters\n",
        "  ----------\n",
        "  gene_id : str or list\n",
        "      An AGAP identifier or list of AGAP identifiers\n",
        "  title : str\n",
        "      Plot title\n",
        "  plot_type : {\"strip\", \"boxplot\"}\n",
        "      valid options are 'strip' or 'boxplot' \n",
        "  sort_by : {\"median\", \"mean\", \"agap\"}\n",
        "      sort by median/mean of fold changes (descending), or by AGAP\n",
        "      identifier\n",
        "  width : int\n",
        "      Width in pixels of the plotly figure\n",
        "  height: int, optional\n",
        "      Height in pixels of the plotly figure. Defaults to automatic sizing\n",
        "  \"\"\"\n",
        "  # load metadata\n",
        "  metadata = pd.read_csv(meta_path, sep=\"\\t\")  \n",
        "  # load fold change data and remove gene description column\n",
        "  fc_data = pd.read_csv(fc_path, sep=\"\\t\")\n",
        "  #pval_data = pd.read_csv(\"rna-seq-meta/results/pval_data.tsv\", sep=\"\\t\")\n",
        "  fc_data = fc_data.iloc[:, :-1]\n",
        "\n",
        "  fam_fc_data = fc_data.query(\"GeneID in @gene_ids\").copy()\n",
        "\n",
        "  if sort_by == 'median':\n",
        "    sort_idxs = np.argsort(fam_fc_data.set_index(['GeneID', 'GeneName']).apply(np.nanmedian, axis=1)).values[::-1]\n",
        "  elif sort_by == 'mean':\n",
        "    sort_idxs = np.argsort(fam_fc_data.set_index(['GeneID', 'GeneName']).apply(np.nanmean, axis=1)).values[::-1]\n",
        "  elif sort_by == 'agap':\n",
        "    sort_idxs = np.argsort(fam_fc_data['GeneID'].values)[::-1] \n",
        "  fam_fc_data = fam_fc_data.iloc[sort_idxs, :]\n",
        "    \n",
        "  fam_fc_data.loc[:, 'Label'] = [id_ + \" | \" + name if name != \"\" else id_ for id_, name in zip(fam_fc_data['GeneID'].fillna(\"\"), fam_fc_data['GeneName'].fillna(\"\"))]\n",
        "  fam_fc_data =fam_fc_data.drop(columns=['GeneName', 'GeneID']).melt(id_vars='Label', var_name='comparison', value_name='log2FC')\n",
        "  fam_fc_data.loc[:, 'comparison'] = fam_fc_data['comparison'].str.replace(\"_log2FoldChange\", \"\")\n",
        "  fam_fc_data = fam_fc_data.merge(metadata, how='left')\n",
        "  fam_fc_data.loc[:, 'log2FC'] *= -1 # invert the FCs (currently > 0 log2FC = overexpression in susceptible)\n",
        "\n",
        "  if not height:\n",
        "    height = np.min([fam_fc_data.shape[0]*12, 2500])\n",
        "  \n",
        "  my_plot = px.strip if plot_type == 'strip' else px.box\n",
        "  fig = my_plot(\n",
        "      fam_fc_data, \n",
        "      y='Label', \n",
        "      x='log2FC', \n",
        "      color='species',\n",
        "      title=title, \n",
        "      hover_data=['resistant', 'susceptible', 'species', 'country'],\n",
        "      width=width, \n",
        "      height=height,\n",
        "      template='ggplot2'\n",
        "  )\n",
        "  fig.update_layout(titlefont=dict(size=20), xaxis_range=[-4,6],     xaxis_title=\"log2 Fold Change\", yaxis_title=\"Gene\")\n",
        "  fig.add_vline(0,  line_width=1, line_dash=\"dash\", line_color=\"grey\")\n",
        "  fig.show()"
      ]
    },
    {
      "cell_type": "code",
      "execution_count": null,
      "id": "GdM1MG4woktQ",
      "metadata": {
        "cellView": "form",
        "id": "GdM1MG4woktQ"
      },
      "outputs": [],
      "source": [
        "#@title **RNA-Seq-Meta** { run: \"auto\" }\n",
        "#@markdown This notebook produces interactive strip and boxplots with plotly, to summarise gene expression across ~30 *Anopheles* insecticide resistant v susceptible RNA-Sequencing experiments. \n",
        "#@markdown Currently *An. gambiae* is not split into *gambiae* and *coluzzii* (this will change). You can toggle which species are displayed by clicking the legend. Because *An. funestus* experiments are included,\n",
        "#@markdown only *gambiae* genes with *funestus* orthologs are present.  \n",
        "#@markdown   \n",
        "#@markdown Requesting feedback and ideas for how to explore the data.\n",
        "\n",
        "GeneID = \"AGAP006227\" #@param {type:\"string\"} \n",
        "plot_type = \"strip\" #@param ['strip', 'boxplot']\n",
        "\n",
        "plotly_gene_fcs(gene_id=GeneID, title=\"\", plot_type=plot_type, height=300)\n"
      ]
    },
    {
      "cell_type": "markdown",
      "source": [
        "We can provide a list of genes, and sort by either AGAP identifier, or by the median fold-change. "
      ],
      "metadata": {
        "id": "yqZ2VL2svoDr"
      },
      "id": "yqZ2VL2svoDr"
    },
    {
      "cell_type": "code",
      "execution_count": null,
      "id": "bMksl8rNPEMS",
      "metadata": {
        "id": "bMksl8rNPEMS"
      },
      "outputs": [],
      "source": [
        "plotly_gene_fcs(gene_id=[\"AGAP006222\", \"AGAP006227\", \"AGAP006228\"], sort_by='agap', title=\"Coeae1f\", plot_type='strip', height=300)"
      ]
    },
    {
      "cell_type": "markdown",
      "id": "w3a56NCsEk70",
      "metadata": {
        "id": "w3a56NCsEk70"
      },
      "source": [
        "You can also produce a boxplot, although the hovertext doesnt quite work as expected."
      ]
    },
    {
      "cell_type": "code",
      "execution_count": null,
      "id": "fr_XvlBp_Pwy",
      "metadata": {
        "id": "fr_XvlBp_Pwy"
      },
      "outputs": [],
      "source": [
        "plotly_gene_fcs(gene_id=[\"AGAP006222\", \"AGAP006227\", \"AGAP006228\"], sort_by='median', title=\"Coeae1f\", plot_type='boxplot', height=300)"
      ]
    }
  ],
  "metadata": {
    "colab": {
      "provenance": [],
      "include_colab_link": true
    },
    "kernelspec": {
      "display_name": "Python 3 (ipykernel)",
      "language": "python",
      "name": "python3"
    },
    "language_info": {
      "codemirror_mode": {
        "name": "ipython",
        "version": 3
      },
      "file_extension": ".py",
      "mimetype": "text/x-python",
      "name": "python",
      "nbconvert_exporter": "python",
      "pygments_lexer": "ipython3",
      "version": "3.7.13"
    }
  },
  "nbformat": 4,
  "nbformat_minor": 5
}