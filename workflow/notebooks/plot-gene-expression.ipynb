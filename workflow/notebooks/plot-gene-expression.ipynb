{
  "cells": [
    {
      "cell_type": "markdown",
      "metadata": {
        "id": "view-in-github",
        "colab_type": "text"
      },
      "source": [
        "<a href=\"https://colab.research.google.com/github/sanjaynagi/rna-seq-meta/blob/main/workflow/notebooks/plot-gene-expression.ipynb\" target=\"_parent\"><img src=\"https://colab.research.google.com/assets/colab-badge.svg\" alt=\"Open In Colab\"/></a>"
      ]
    },
    {
      "cell_type": "code",
      "execution_count": 29,
      "id": "H68MfuqBOWiH",
      "metadata": {
        "colab": {
          "base_uri": "https://localhost:8080/"
        },
        "id": "H68MfuqBOWiH",
        "outputId": "580fc7fc-964d-44fc-8e8b-3d49b8bd93be"
      },
      "outputs": [
        {
          "output_type": "stream",
          "name": "stdout",
          "text": [
            "fatal: destination path 'rna-seq-meta' already exists and is not an empty directory.\n"
          ]
        }
      ],
      "source": [
        "! git clone https://github.com/sanjaynagi/rna-seq-meta.git\n",
        "\n",
        "import pandas as pd\n",
        "import numpy as np\n",
        "import plotly.express as px\n",
        "\n",
        "def plotly_gene_fcs(gene_ids, title, plot_type='strip', sort_by='median', fc_path=\"rna-seq-meta/results/fc_data.tsv.gz\", meta_path=\"rna-seq-meta/config/comparison_metadata.tsv\", width=1000, height=None):\n",
        "  \"\"\"\n",
        "  plots fold changes of provided AGAP gene IDs\n",
        "  \"\"\"\n",
        "  # load metadata\n",
        "  metadata = pd.read_csv(meta_path, sep=\"\\t\")  \n",
        "  # load fold change data and remove gene description column\n",
        "  fc_data = pd.read_csv(fc_path, sep=\"\\t\")\n",
        "  #pval_data = pd.read_csv(\"rna-seq-meta/results/pval_data.tsv\", sep=\"\\t\")\n",
        "  fc_data = fc_data.iloc[:, :-1]\n",
        "\n",
        "  fam_fc_data = fc_data.query(\"GeneID in @gene_ids\").copy()\n",
        "\n",
        "  if sort_by == 'median':\n",
        "    sort_idxs = np.argsort(fam_fc_data.set_index(['GeneID', 'GeneName']).apply(np.nanmedian, axis=1)).values[::-1]\n",
        "  elif sort_by == 'mean':\n",
        "    sort_idxs = np.argsort(fam_fc_data.set_index(['GeneID', 'GeneName']).apply(np.nanmean, axis=1)).values[::-1]\n",
        "  elif sort_by == 'agap':\n",
        "    sort_idxs = np.argsort(fam_fc_data['GeneID'].values)[::-1] \n",
        "  fam_fc_data = fam_fc_data.iloc[sort_idxs, :]\n",
        "    \n",
        "  fam_fc_data.loc[:, 'Label'] = [id_ + \" | \" + name if name != \"\" else id_ for id_, name in zip(fam_fc_data['GeneID'].fillna(\"\"), fam_fc_data['GeneName'].fillna(\"\"))]\n",
        "  fam_fc_data =fam_fc_data.drop(columns=['GeneName', 'GeneID']).melt(id_vars='Label', var_name='comparison', value_name='log2FC')\n",
        "  fam_fc_data.loc[:, 'comparison'] = fam_fc_data['comparison'].str.replace(\"_log2FoldChange\", \"\")\n",
        "  fam_fc_data = fam_fc_data.merge(metadata, how='left')\n",
        "  fam_fc_data.loc[:, 'log2FC'] *= -1 # invert the FCs (currently > 0 log2FC = overexpression in susceptible)\n",
        "\n",
        "  if not height:\n",
        "    height = np.min([fam_fc_data.shape[0]*12, 2500])\n",
        "  \n",
        "  my_plot = px.strip if plot_type == 'strip' else px.box\n",
        "  fig = my_plot(\n",
        "      fam_fc_data, \n",
        "      y='Label', \n",
        "      x='log2FC', \n",
        "      color='species',\n",
        "      title=title, \n",
        "      hover_data=['resistant', 'susceptible', 'species', 'country'],\n",
        "      width=width, \n",
        "      height=height,\n",
        "      template='ggplot2'\n",
        "  )\n",
        "  fig.update_layout(titlefont=dict(size=20), xaxis_range=[-4,6],     xaxis_title=\"log2 Fold Change\", yaxis_title=\"Gene\")\n",
        "  fig.add_vline(0,  line_width=1, line_dash=\"dash\", line_color=\"grey\")\n",
        "  fig.show()"
      ]
    },
    {
      "cell_type": "code",
      "execution_count": null,
      "id": "GdM1MG4woktQ",
      "metadata": {
        "cellView": "form",
        "colab": {
          "base_uri": "https://localhost:8080/",
          "height": 317
        },
        "id": "GdM1MG4woktQ",
        "outputId": "10302f84-4a83-4e58-c46c-1dbc88df52f5"
      },
      "outputs": [
        {
          "data": {
            "text/html": [
              "<html>\n",
              "<head><meta charset=\"utf-8\" /></head>\n",
              "<body>\n",
              "    <div>            <script src=\"https://cdnjs.cloudflare.com/ajax/libs/mathjax/2.7.5/MathJax.js?config=TeX-AMS-MML_SVG\"></script><script type=\"text/javascript\">if (window.MathJax) {MathJax.Hub.Config({SVG: {font: \"STIX-Web\"}});}</script>                <script type=\"text/javascript\">window.PlotlyConfig = {MathJaxConfig: 'local'};</script>\n",
              "        <script src=\"https://cdn.plot.ly/plotly-2.8.3.min.js\"></script>                <div id=\"04124f97-d624-4fe9-b9ac-d1992dcee940\" class=\"plotly-graph-div\" style=\"height:300px; width:1000px;\"></div>            <script type=\"text/javascript\">                                    window.PLOTLYENV=window.PLOTLYENV || {};                                    if (document.getElementById(\"04124f97-d624-4fe9-b9ac-d1992dcee940\")) {                    Plotly.newPlot(                        \"04124f97-d624-4fe9-b9ac-d1992dcee940\",                        [{\"alignmentgroup\":\"True\",\"boxpoints\":\"all\",\"customdata\":[[\"Tiefora\",\"Ngousso\",\"gambiae\",\"Burkina Faso\"],[\"Ban\",\"BanS\",\"gambiae\",\"Burkina Faso\"],[\"BanRe\",\"BanS\",\"gambiae\",\"Burkina Faso\"],[\"Bak\",\"Kisumu\",\"gambiae\",\"Burkina Faso\"],[\"VK7\",\"Kisumu\",\"gambiae\",\"Burkina Faso\"],[\"Cameroon\",\"Ngousso\",\"gambiae\",\"Cameroon\"],[\"Chad\",\"Ngousso\",\"gambiae\",\"Chad\"],[\"Niger\",\"Ngousso\",\"gambiae\",\"Niger\"],[\"Nigeria\",\"Ngousso\",\"gambiae\",\"Nigeria\"],[\"Agboville\",\"Mali\",\"gambiae\",\"Cote d'Ivoire\"],[\"Agboville\",\"Ngousso\",\"gambiae\",\"Cote d'Ivoire\"],[\"Dabou\",\"Mali\",\"gambiae\",\"Cote d'Ivoire\"],[\"Dabou\",\"Ngousso\",\"gambiae\",\"Cote d'Ivoire\"],[\"Tiassale\",\"Mali\",\"gambiae\",\"Cote d'Ivoire\"],[\"Tiassale\",\"Ngousso\",\"gambiae\",\"Cote d'Ivoire\"],[\"Bouake_gamb_exp\",\"Kisumu\",\"gambiae\",\"Cote d'Ivoire\"],[\"Bouake_gamb_unexp\",\"Kisumu\",\"gambiae\",\"Cote d'Ivoire\"],[\"Bouake_colu_exp\",\"Ngousso\",\"gambiae\",\"Cote d'Ivoire\"],[\"Bouake_colu_unexp\",\"Ngousso\",\"gambiae\",\"Cote d'Ivoire\"],[\"ContTia\",\"Ngousso\",\"gambiae\",\"Cote d'Ivoire\"],[\"DeltTia\",\"Ngousso\",\"gambiae\",\"Cote d'Ivoire\"],[\"MalaTia\",\"Ngousso\",\"gambiae\",\"Cote d'Ivoire\"],[\"PiriTia\",\"Ngousso\",\"gambiae\",\"Cote d'Ivoire\"],[\"BusiaParental\",\"Kisumu\",\"gambiae\",\"Uganda\"],[\"BusiaSurvivors\",\"Kisumu\",\"gambiae\",\"Uganda\"]],\"fillcolor\":\"rgba(255,255,255,0)\",\"hoveron\":\"points\",\"hovertemplate\":\"species=%{customdata[2]}<br>log2FC=%{x}<br>Label=%{y}<br>resistant=%{customdata[0]}<br>susceptible=%{customdata[1]}<br>country=%{customdata[3]}<extra></extra>\",\"legendgroup\":\"gambiae\",\"line\":{\"color\":\"rgba(255,255,255,0)\"},\"marker\":{\"color\":\"#F8766D\"},\"name\":\"gambiae\",\"offsetgroup\":\"gambiae\",\"orientation\":\"h\",\"pointpos\":0,\"showlegend\":true,\"x\":[-0.46,-1.08,-0.32,0.29,0.05,-0.33,-0.05,-0.04,0.16,3.38,1.92,2.83,1.37,2.35,0.88,2.59,2.59,0.26,0.68,1.66,0.04,1.58,1.14,0.8,0.67],\"x0\":\" \",\"xaxis\":\"x\",\"y\":[\"AGAP006227\",\"AGAP006227\",\"AGAP006227\",\"AGAP006227\",\"AGAP006227\",\"AGAP006227\",\"AGAP006227\",\"AGAP006227\",\"AGAP006227\",\"AGAP006227\",\"AGAP006227\",\"AGAP006227\",\"AGAP006227\",\"AGAP006227\",\"AGAP006227\",\"AGAP006227\",\"AGAP006227\",\"AGAP006227\",\"AGAP006227\",\"AGAP006227\",\"AGAP006227\",\"AGAP006227\",\"AGAP006227\",\"AGAP006227\",\"AGAP006227\"],\"y0\":\" \",\"yaxis\":\"y\",\"type\":\"box\"},{\"alignmentgroup\":\"True\",\"boxpoints\":\"all\",\"customdata\":[[\"Gou\",\"Moz\",\"arabiensis\",\"Burkina Faso\"],[\"Asendabo\",\"Moz\",\"arabiensis\",\"Ethiopia\"],[\"Chewaka\",\"Moz\",\"arabiensis\",\"Ethiopia\"],[\"Tolay\",\"Moz\",\"arabiensis\",\"Ethiopia\"],[\"Ethiopia\",\"Dongola\",\"arabiensis\",\"Ethiopia\"]],\"fillcolor\":\"rgba(255,255,255,0)\",\"hoveron\":\"points\",\"hovertemplate\":\"species=%{customdata[2]}<br>log2FC=%{x}<br>Label=%{y}<br>resistant=%{customdata[0]}<br>susceptible=%{customdata[1]}<br>country=%{customdata[3]}<extra></extra>\",\"legendgroup\":\"arabiensis\",\"line\":{\"color\":\"rgba(255,255,255,0)\"},\"marker\":{\"color\":\"#A3A500\"},\"name\":\"arabiensis\",\"offsetgroup\":\"arabiensis\",\"orientation\":\"h\",\"pointpos\":0,\"showlegend\":true,\"x\":[-0.04,-0.35,-0.02,-0.17,0.06],\"x0\":\" \",\"xaxis\":\"x\",\"y\":[\"AGAP006227\",\"AGAP006227\",\"AGAP006227\",\"AGAP006227\",\"AGAP006227\"],\"y0\":\" \",\"yaxis\":\"y\",\"type\":\"box\"},{\"alignmentgroup\":\"True\",\"boxpoints\":\"all\",\"customdata\":[[\"Cam_fun\",\"Fang\",\"funestus\",\"Cameroon\"],[\"Fumoz\",\"Fang\",\"funestus\",\"Mozambique\"],[\"Ghana_fun\",\"Fang\",\"funestus\",\"Ghana\"],[\"Malawi_fun\",\"Fang\",\"funestus\",\"Malawi\"],[\"Uganda_fun\",\"Fang\",\"funestus\",\"Uganda\"]],\"fillcolor\":\"rgba(255,255,255,0)\",\"hoveron\":\"points\",\"hovertemplate\":\"species=%{customdata[2]}<br>log2FC=%{x}<br>Label=%{y}<br>resistant=%{customdata[0]}<br>susceptible=%{customdata[1]}<br>country=%{customdata[3]}<extra></extra>\",\"legendgroup\":\"funestus\",\"line\":{\"color\":\"rgba(255,255,255,0)\"},\"marker\":{\"color\":\"#00BF7D\"},\"name\":\"funestus\",\"offsetgroup\":\"funestus\",\"orientation\":\"h\",\"pointpos\":0,\"showlegend\":true,\"x\":[-0.37,-0.55,0.07,-0.32,-0.43],\"x0\":\" \",\"xaxis\":\"x\",\"y\":[\"AGAP006227\",\"AGAP006227\",\"AGAP006227\",\"AGAP006227\",\"AGAP006227\"],\"y0\":\" \",\"yaxis\":\"y\",\"type\":\"box\"}],                        {\"template\":{\"data\":{\"barpolar\":[{\"marker\":{\"line\":{\"color\":\"rgb(237,237,237)\",\"width\":0.5},\"pattern\":{\"fillmode\":\"overlay\",\"size\":10,\"solidity\":0.2}},\"type\":\"barpolar\"}],\"bar\":[{\"error_x\":{\"color\":\"rgb(51,51,51)\"},\"error_y\":{\"color\":\"rgb(51,51,51)\"},\"marker\":{\"line\":{\"color\":\"rgb(237,237,237)\",\"width\":0.5},\"pattern\":{\"fillmode\":\"overlay\",\"size\":10,\"solidity\":0.2}},\"type\":\"bar\"}],\"carpet\":[{\"aaxis\":{\"endlinecolor\":\"rgb(51,51,51)\",\"gridcolor\":\"white\",\"linecolor\":\"white\",\"minorgridcolor\":\"white\",\"startlinecolor\":\"rgb(51,51,51)\"},\"baxis\":{\"endlinecolor\":\"rgb(51,51,51)\",\"gridcolor\":\"white\",\"linecolor\":\"white\",\"minorgridcolor\":\"white\",\"startlinecolor\":\"rgb(51,51,51)\"},\"type\":\"carpet\"}],\"choropleth\":[{\"colorbar\":{\"outlinewidth\":0,\"tickcolor\":\"rgb(237,237,237)\",\"ticklen\":6,\"ticks\":\"inside\"},\"type\":\"choropleth\"}],\"contourcarpet\":[{\"colorbar\":{\"outlinewidth\":0,\"tickcolor\":\"rgb(237,237,237)\",\"ticklen\":6,\"ticks\":\"inside\"},\"type\":\"contourcarpet\"}],\"contour\":[{\"colorbar\":{\"outlinewidth\":0,\"tickcolor\":\"rgb(237,237,237)\",\"ticklen\":6,\"ticks\":\"inside\"},\"colorscale\":[[0,\"rgb(20,44,66)\"],[1,\"rgb(90,179,244)\"]],\"type\":\"contour\"}],\"heatmapgl\":[{\"colorbar\":{\"outlinewidth\":0,\"tickcolor\":\"rgb(237,237,237)\",\"ticklen\":6,\"ticks\":\"inside\"},\"colorscale\":[[0,\"rgb(20,44,66)\"],[1,\"rgb(90,179,244)\"]],\"type\":\"heatmapgl\"}],\"heatmap\":[{\"colorbar\":{\"outlinewidth\":0,\"tickcolor\":\"rgb(237,237,237)\",\"ticklen\":6,\"ticks\":\"inside\"},\"colorscale\":[[0,\"rgb(20,44,66)\"],[1,\"rgb(90,179,244)\"]],\"type\":\"heatmap\"}],\"histogram2dcontour\":[{\"colorbar\":{\"outlinewidth\":0,\"tickcolor\":\"rgb(237,237,237)\",\"ticklen\":6,\"ticks\":\"inside\"},\"colorscale\":[[0,\"rgb(20,44,66)\"],[1,\"rgb(90,179,244)\"]],\"type\":\"histogram2dcontour\"}],\"histogram2d\":[{\"colorbar\":{\"outlinewidth\":0,\"tickcolor\":\"rgb(237,237,237)\",\"ticklen\":6,\"ticks\":\"inside\"},\"colorscale\":[[0,\"rgb(20,44,66)\"],[1,\"rgb(90,179,244)\"]],\"type\":\"histogram2d\"}],\"histogram\":[{\"marker\":{\"pattern\":{\"fillmode\":\"overlay\",\"size\":10,\"solidity\":0.2}},\"type\":\"histogram\"}],\"mesh3d\":[{\"colorbar\":{\"outlinewidth\":0,\"tickcolor\":\"rgb(237,237,237)\",\"ticklen\":6,\"ticks\":\"inside\"},\"type\":\"mesh3d\"}],\"parcoords\":[{\"line\":{\"colorbar\":{\"outlinewidth\":0,\"tickcolor\":\"rgb(237,237,237)\",\"ticklen\":6,\"ticks\":\"inside\"}},\"type\":\"parcoords\"}],\"pie\":[{\"automargin\":true,\"type\":\"pie\"}],\"scatter3d\":[{\"line\":{\"colorbar\":{\"outlinewidth\":0,\"tickcolor\":\"rgb(237,237,237)\",\"ticklen\":6,\"ticks\":\"inside\"}},\"marker\":{\"colorbar\":{\"outlinewidth\":0,\"tickcolor\":\"rgb(237,237,237)\",\"ticklen\":6,\"ticks\":\"inside\"}},\"type\":\"scatter3d\"}],\"scattercarpet\":[{\"marker\":{\"colorbar\":{\"outlinewidth\":0,\"tickcolor\":\"rgb(237,237,237)\",\"ticklen\":6,\"ticks\":\"inside\"}},\"type\":\"scattercarpet\"}],\"scattergeo\":[{\"marker\":{\"colorbar\":{\"outlinewidth\":0,\"tickcolor\":\"rgb(237,237,237)\",\"ticklen\":6,\"ticks\":\"inside\"}},\"type\":\"scattergeo\"}],\"scattergl\":[{\"marker\":{\"colorbar\":{\"outlinewidth\":0,\"tickcolor\":\"rgb(237,237,237)\",\"ticklen\":6,\"ticks\":\"inside\"}},\"type\":\"scattergl\"}],\"scattermapbox\":[{\"marker\":{\"colorbar\":{\"outlinewidth\":0,\"tickcolor\":\"rgb(237,237,237)\",\"ticklen\":6,\"ticks\":\"inside\"}},\"type\":\"scattermapbox\"}],\"scatterpolargl\":[{\"marker\":{\"colorbar\":{\"outlinewidth\":0,\"tickcolor\":\"rgb(237,237,237)\",\"ticklen\":6,\"ticks\":\"inside\"}},\"type\":\"scatterpolargl\"}],\"scatterpolar\":[{\"marker\":{\"colorbar\":{\"outlinewidth\":0,\"tickcolor\":\"rgb(237,237,237)\",\"ticklen\":6,\"ticks\":\"inside\"}},\"type\":\"scatterpolar\"}],\"scatter\":[{\"marker\":{\"colorbar\":{\"outlinewidth\":0,\"tickcolor\":\"rgb(237,237,237)\",\"ticklen\":6,\"ticks\":\"inside\"}},\"type\":\"scatter\"}],\"scatterternary\":[{\"marker\":{\"colorbar\":{\"outlinewidth\":0,\"tickcolor\":\"rgb(237,237,237)\",\"ticklen\":6,\"ticks\":\"inside\"}},\"type\":\"scatterternary\"}],\"surface\":[{\"colorbar\":{\"outlinewidth\":0,\"tickcolor\":\"rgb(237,237,237)\",\"ticklen\":6,\"ticks\":\"inside\"},\"colorscale\":[[0,\"rgb(20,44,66)\"],[1,\"rgb(90,179,244)\"]],\"type\":\"surface\"}],\"table\":[{\"cells\":{\"fill\":{\"color\":\"rgb(237,237,237)\"},\"line\":{\"color\":\"white\"}},\"header\":{\"fill\":{\"color\":\"rgb(217,217,217)\"},\"line\":{\"color\":\"white\"}},\"type\":\"table\"}]},\"layout\":{\"annotationdefaults\":{\"arrowhead\":0,\"arrowwidth\":1},\"autotypenumbers\":\"strict\",\"coloraxis\":{\"colorbar\":{\"outlinewidth\":0,\"tickcolor\":\"rgb(237,237,237)\",\"ticklen\":6,\"ticks\":\"inside\"}},\"colorscale\":{\"sequential\":[[0,\"rgb(20,44,66)\"],[1,\"rgb(90,179,244)\"]],\"sequentialminus\":[[0,\"rgb(20,44,66)\"],[1,\"rgb(90,179,244)\"]]},\"colorway\":[\"#F8766D\",\"#A3A500\",\"#00BF7D\",\"#00B0F6\",\"#E76BF3\"],\"font\":{\"color\":\"rgb(51,51,51)\"},\"geo\":{\"bgcolor\":\"white\",\"lakecolor\":\"white\",\"landcolor\":\"rgb(237,237,237)\",\"showlakes\":true,\"showland\":true,\"subunitcolor\":\"white\"},\"hoverlabel\":{\"align\":\"left\"},\"hovermode\":\"closest\",\"paper_bgcolor\":\"white\",\"plot_bgcolor\":\"rgb(237,237,237)\",\"polar\":{\"angularaxis\":{\"gridcolor\":\"white\",\"linecolor\":\"white\",\"showgrid\":true,\"tickcolor\":\"rgb(51,51,51)\",\"ticks\":\"outside\"},\"bgcolor\":\"rgb(237,237,237)\",\"radialaxis\":{\"gridcolor\":\"white\",\"linecolor\":\"white\",\"showgrid\":true,\"tickcolor\":\"rgb(51,51,51)\",\"ticks\":\"outside\"}},\"scene\":{\"xaxis\":{\"backgroundcolor\":\"rgb(237,237,237)\",\"gridcolor\":\"white\",\"gridwidth\":2,\"linecolor\":\"white\",\"showbackground\":true,\"showgrid\":true,\"tickcolor\":\"rgb(51,51,51)\",\"ticks\":\"outside\",\"zerolinecolor\":\"white\"},\"yaxis\":{\"backgroundcolor\":\"rgb(237,237,237)\",\"gridcolor\":\"white\",\"gridwidth\":2,\"linecolor\":\"white\",\"showbackground\":true,\"showgrid\":true,\"tickcolor\":\"rgb(51,51,51)\",\"ticks\":\"outside\",\"zerolinecolor\":\"white\"},\"zaxis\":{\"backgroundcolor\":\"rgb(237,237,237)\",\"gridcolor\":\"white\",\"gridwidth\":2,\"linecolor\":\"white\",\"showbackground\":true,\"showgrid\":true,\"tickcolor\":\"rgb(51,51,51)\",\"ticks\":\"outside\",\"zerolinecolor\":\"white\"}},\"shapedefaults\":{\"fillcolor\":\"black\",\"line\":{\"width\":0},\"opacity\":0.3},\"ternary\":{\"aaxis\":{\"gridcolor\":\"white\",\"linecolor\":\"white\",\"showgrid\":true,\"tickcolor\":\"rgb(51,51,51)\",\"ticks\":\"outside\"},\"baxis\":{\"gridcolor\":\"white\",\"linecolor\":\"white\",\"showgrid\":true,\"tickcolor\":\"rgb(51,51,51)\",\"ticks\":\"outside\"},\"bgcolor\":\"rgb(237,237,237)\",\"caxis\":{\"gridcolor\":\"white\",\"linecolor\":\"white\",\"showgrid\":true,\"tickcolor\":\"rgb(51,51,51)\",\"ticks\":\"outside\"}},\"xaxis\":{\"automargin\":true,\"gridcolor\":\"white\",\"linecolor\":\"white\",\"showgrid\":true,\"tickcolor\":\"rgb(51,51,51)\",\"ticks\":\"outside\",\"title\":{\"standoff\":15},\"zerolinecolor\":\"white\"},\"yaxis\":{\"automargin\":true,\"gridcolor\":\"white\",\"linecolor\":\"white\",\"showgrid\":true,\"tickcolor\":\"rgb(51,51,51)\",\"ticks\":\"outside\",\"title\":{\"standoff\":15},\"zerolinecolor\":\"white\"}}},\"xaxis\":{\"anchor\":\"y\",\"domain\":[0.0,1.0],\"title\":{\"text\":\"log2 Fold Change\"},\"range\":[-4,6]},\"yaxis\":{\"anchor\":\"x\",\"domain\":[0.0,1.0],\"title\":{\"text\":\"Gene\"}},\"legend\":{\"title\":{\"text\":\"species\"},\"tracegroupgap\":0},\"margin\":{\"t\":60},\"boxmode\":\"group\",\"height\":300,\"width\":1000,\"title\":{\"font\":{\"size\":20,\"color\":\"black\",\"family\":\"Arial, sans-serif\"}},\"shapes\":[{\"line\":{\"color\":\"grey\",\"dash\":\"dash\",\"width\":1},\"type\":\"line\",\"x0\":0,\"x1\":0,\"xref\":\"x\",\"y0\":0,\"y1\":1,\"yref\":\"y domain\"}]},                        {\"responsive\": true}                    ).then(function(){\n",
              "                            \n",
              "var gd = document.getElementById('04124f97-d624-4fe9-b9ac-d1992dcee940');\n",
              "var x = new MutationObserver(function (mutations, observer) {{\n",
              "        var display = window.getComputedStyle(gd).display;\n",
              "        if (!display || display === 'none') {{\n",
              "            console.log([gd, 'removed!']);\n",
              "            Plotly.purge(gd);\n",
              "            observer.disconnect();\n",
              "        }}\n",
              "}});\n",
              "\n",
              "// Listen for the removal of the full notebook cells\n",
              "var notebookContainer = gd.closest('#notebook-container');\n",
              "if (notebookContainer) {{\n",
              "    x.observe(notebookContainer, {childList: true});\n",
              "}}\n",
              "\n",
              "// Listen for the clearing of the current output cell\n",
              "var outputEl = gd.closest('.output');\n",
              "if (outputEl) {{\n",
              "    x.observe(outputEl, {childList: true});\n",
              "}}\n",
              "\n",
              "                        })                };                            </script>        </div>\n",
              "</body>\n",
              "</html>"
            ]
          },
          "metadata": {},
          "output_type": "display_data"
        }
      ],
      "source": [
        "#@title **RNA-Seq-Meta** { run: \"auto\" }\n",
        "GeneID = \"AGAP006227\" #@param {type:\"string\"} \n",
        "plot_type = \"strip\" #@param ['strip', 'boxplot']\n",
        "\n",
        "plotly_gene_fcs(gene_ids=GeneID, title=\"\", plot_type=plot_type, height=300)\n"
      ]
    },
    {
      "cell_type": "markdown",
      "id": "V0HIEAiSTZNJ",
      "metadata": {
        "id": "V0HIEAiSTZNJ"
      },
      "source": [
        "This notebook produces interactive strip and boxplots with plotly, to summarise gene expression across *An. gambiae* RNA-Sequencing experiments. Still in development. \n",
        "  \n",
        "Currently *An. gambiae* is not split into *gambiae* and *coluzzii*. You can toggle which species are displayed by clicking the legend. Because *An. funestus* *italicised text* are included, only genes with orthologs are present.\n",
        "\n",
        "Requesting feedback and ideas."
      ]
    },
    {
      "cell_type": "code",
      "execution_count": 30,
      "id": "bMksl8rNPEMS",
      "metadata": {
        "colab": {
          "base_uri": "https://localhost:8080/",
          "height": 317
        },
        "id": "bMksl8rNPEMS",
        "outputId": "1eed07b3-0dfc-4154-e73a-11375a5e3556"
      },
      "outputs": [
        {
          "output_type": "display_data",
          "data": {
            "text/html": [
              "<html>\n",
              "<head><meta charset=\"utf-8\" /></head>\n",
              "<body>\n",
              "    <div>            <script src=\"https://cdnjs.cloudflare.com/ajax/libs/mathjax/2.7.5/MathJax.js?config=TeX-AMS-MML_SVG\"></script><script type=\"text/javascript\">if (window.MathJax) {MathJax.Hub.Config({SVG: {font: \"STIX-Web\"}});}</script>                <script type=\"text/javascript\">window.PlotlyConfig = {MathJaxConfig: 'local'};</script>\n",
              "        <script src=\"https://cdn.plot.ly/plotly-2.8.3.min.js\"></script>                <div id=\"cbd80f7c-d05b-478c-b9ed-3e9b7e9127d8\" class=\"plotly-graph-div\" style=\"height:300px; width:1000px;\"></div>            <script type=\"text/javascript\">                                    window.PLOTLYENV=window.PLOTLYENV || {};                                    if (document.getElementById(\"cbd80f7c-d05b-478c-b9ed-3e9b7e9127d8\")) {                    Plotly.newPlot(                        \"cbd80f7c-d05b-478c-b9ed-3e9b7e9127d8\",                        [{\"alignmentgroup\":\"True\",\"boxpoints\":\"all\",\"customdata\":[[\"Tiefora\",\"Ngousso\",\"gambiae\",\"Burkina Faso\"],[\"Tiefora\",\"Ngousso\",\"gambiae\",\"Burkina Faso\"],[\"Tiefora\",\"Ngousso\",\"gambiae\",\"Burkina Faso\"],[\"Ban\",\"BanS\",\"gambiae\",\"Burkina Faso\"],[\"Ban\",\"BanS\",\"gambiae\",\"Burkina Faso\"],[\"Ban\",\"BanS\",\"gambiae\",\"Burkina Faso\"],[\"BanRe\",\"BanS\",\"gambiae\",\"Burkina Faso\"],[\"BanRe\",\"BanS\",\"gambiae\",\"Burkina Faso\"],[\"BanRe\",\"BanS\",\"gambiae\",\"Burkina Faso\"],[\"Bak\",\"Kisumu\",\"gambiae\",\"Burkina Faso\"],[\"Bak\",\"Kisumu\",\"gambiae\",\"Burkina Faso\"],[\"Bak\",\"Kisumu\",\"gambiae\",\"Burkina Faso\"],[\"VK7\",\"Kisumu\",\"gambiae\",\"Burkina Faso\"],[\"VK7\",\"Kisumu\",\"gambiae\",\"Burkina Faso\"],[\"VK7\",\"Kisumu\",\"gambiae\",\"Burkina Faso\"],[\"Cameroon\",\"Ngousso\",\"gambiae\",\"Cameroon\"],[\"Cameroon\",\"Ngousso\",\"gambiae\",\"Cameroon\"],[\"Cameroon\",\"Ngousso\",\"gambiae\",\"Cameroon\"],[\"Chad\",\"Ngousso\",\"gambiae\",\"Chad\"],[\"Chad\",\"Ngousso\",\"gambiae\",\"Chad\"],[\"Chad\",\"Ngousso\",\"gambiae\",\"Chad\"],[\"Niger\",\"Ngousso\",\"gambiae\",\"Niger\"],[\"Niger\",\"Ngousso\",\"gambiae\",\"Niger\"],[\"Niger\",\"Ngousso\",\"gambiae\",\"Niger\"],[\"Nigeria\",\"Ngousso\",\"gambiae\",\"Nigeria\"],[\"Nigeria\",\"Ngousso\",\"gambiae\",\"Nigeria\"],[\"Nigeria\",\"Ngousso\",\"gambiae\",\"Nigeria\"],[\"Agboville\",\"Mali\",\"gambiae\",\"Cote d'Ivoire\"],[\"Agboville\",\"Mali\",\"gambiae\",\"Cote d'Ivoire\"],[\"Agboville\",\"Mali\",\"gambiae\",\"Cote d'Ivoire\"],[\"Agboville\",\"Ngousso\",\"gambiae\",\"Cote d'Ivoire\"],[\"Agboville\",\"Ngousso\",\"gambiae\",\"Cote d'Ivoire\"],[\"Agboville\",\"Ngousso\",\"gambiae\",\"Cote d'Ivoire\"],[\"Dabou\",\"Mali\",\"gambiae\",\"Cote d'Ivoire\"],[\"Dabou\",\"Mali\",\"gambiae\",\"Cote d'Ivoire\"],[\"Dabou\",\"Mali\",\"gambiae\",\"Cote d'Ivoire\"],[\"Dabou\",\"Ngousso\",\"gambiae\",\"Cote d'Ivoire\"],[\"Dabou\",\"Ngousso\",\"gambiae\",\"Cote d'Ivoire\"],[\"Dabou\",\"Ngousso\",\"gambiae\",\"Cote d'Ivoire\"],[\"Tiassale\",\"Mali\",\"gambiae\",\"Cote d'Ivoire\"],[\"Tiassale\",\"Mali\",\"gambiae\",\"Cote d'Ivoire\"],[\"Tiassale\",\"Mali\",\"gambiae\",\"Cote d'Ivoire\"],[\"Tiassale\",\"Ngousso\",\"gambiae\",\"Cote d'Ivoire\"],[\"Tiassale\",\"Ngousso\",\"gambiae\",\"Cote d'Ivoire\"],[\"Tiassale\",\"Ngousso\",\"gambiae\",\"Cote d'Ivoire\"],[\"Bouake_gamb_exp\",\"Kisumu\",\"gambiae\",\"Cote d'Ivoire\"],[\"Bouake_gamb_exp\",\"Kisumu\",\"gambiae\",\"Cote d'Ivoire\"],[\"Bouake_gamb_exp\",\"Kisumu\",\"gambiae\",\"Cote d'Ivoire\"],[\"Bouake_gamb_unexp\",\"Kisumu\",\"gambiae\",\"Cote d'Ivoire\"],[\"Bouake_gamb_unexp\",\"Kisumu\",\"gambiae\",\"Cote d'Ivoire\"],[\"Bouake_gamb_unexp\",\"Kisumu\",\"gambiae\",\"Cote d'Ivoire\"],[\"Bouake_colu_exp\",\"Ngousso\",\"gambiae\",\"Cote d'Ivoire\"],[\"Bouake_colu_exp\",\"Ngousso\",\"gambiae\",\"Cote d'Ivoire\"],[\"Bouake_colu_exp\",\"Ngousso\",\"gambiae\",\"Cote d'Ivoire\"],[\"Bouake_colu_unexp\",\"Ngousso\",\"gambiae\",\"Cote d'Ivoire\"],[\"Bouake_colu_unexp\",\"Ngousso\",\"gambiae\",\"Cote d'Ivoire\"],[\"Bouake_colu_unexp\",\"Ngousso\",\"gambiae\",\"Cote d'Ivoire\"],[\"ContTia\",\"Ngousso\",\"gambiae\",\"Cote d'Ivoire\"],[\"ContTia\",\"Ngousso\",\"gambiae\",\"Cote d'Ivoire\"],[\"ContTia\",\"Ngousso\",\"gambiae\",\"Cote d'Ivoire\"],[\"DeltTia\",\"Ngousso\",\"gambiae\",\"Cote d'Ivoire\"],[\"DeltTia\",\"Ngousso\",\"gambiae\",\"Cote d'Ivoire\"],[\"DeltTia\",\"Ngousso\",\"gambiae\",\"Cote d'Ivoire\"],[\"MalaTia\",\"Ngousso\",\"gambiae\",\"Cote d'Ivoire\"],[\"MalaTia\",\"Ngousso\",\"gambiae\",\"Cote d'Ivoire\"],[\"MalaTia\",\"Ngousso\",\"gambiae\",\"Cote d'Ivoire\"],[\"PiriTia\",\"Ngousso\",\"gambiae\",\"Cote d'Ivoire\"],[\"PiriTia\",\"Ngousso\",\"gambiae\",\"Cote d'Ivoire\"],[\"PiriTia\",\"Ngousso\",\"gambiae\",\"Cote d'Ivoire\"],[\"BusiaParental\",\"Kisumu\",\"gambiae\",\"Uganda\"],[\"BusiaParental\",\"Kisumu\",\"gambiae\",\"Uganda\"],[\"BusiaParental\",\"Kisumu\",\"gambiae\",\"Uganda\"],[\"BusiaSurvivors\",\"Kisumu\",\"gambiae\",\"Uganda\"],[\"BusiaSurvivors\",\"Kisumu\",\"gambiae\",\"Uganda\"],[\"BusiaSurvivors\",\"Kisumu\",\"gambiae\",\"Uganda\"]],\"fillcolor\":\"rgba(255,255,255,0)\",\"hoveron\":\"points\",\"hovertemplate\":\"species=%{customdata[2]}<br>log2FC=%{x}<br>Label=%{y}<br>resistant=%{customdata[0]}<br>susceptible=%{customdata[1]}<br>country=%{customdata[3]}<extra></extra>\",\"legendgroup\":\"gambiae\",\"line\":{\"color\":\"rgba(255,255,255,0)\"},\"marker\":{\"color\":\"#F8766D\"},\"name\":\"gambiae\",\"offsetgroup\":\"gambiae\",\"orientation\":\"h\",\"pointpos\":0,\"showlegend\":true,\"x\":[-0.44,-0.46,0.75,-0.51,-1.08,2.07,-0.06,-0.32,0.08,-0.23,0.29,1.56,-0.26,0.05,1.74,-0.12,-0.33,1.81,0.37,-0.05,1.22,0.31,-0.04,0.63,0.25,0.16,1.83,1.7,3.38,0.65,1.08,1.92,3.5,2.3,2.83,1.31,1.69,1.37,4.15,0.67,2.35,0.77,0.06,0.88,3.61,-0.26,2.59,0.47,-0.08,2.59,0.17,-0.64,0.26,2.62,-0.71,0.68,2.44,0.33,1.66,4.07,-0.09,0.04,3.26,0.55,1.58,4.23,0.38,1.14,4.54,0.64,0.8,-1.67,0.84,0.67,-2.75],\"x0\":\" \",\"xaxis\":\"x\",\"y\":[\"AGAP006228 | COEAE2F\",\"AGAP006227\",\"AGAP006222\",\"AGAP006228 | COEAE2F\",\"AGAP006227\",\"AGAP006222\",\"AGAP006228 | COEAE2F\",\"AGAP006227\",\"AGAP006222\",\"AGAP006228 | COEAE2F\",\"AGAP006227\",\"AGAP006222\",\"AGAP006228 | COEAE2F\",\"AGAP006227\",\"AGAP006222\",\"AGAP006228 | COEAE2F\",\"AGAP006227\",\"AGAP006222\",\"AGAP006228 | COEAE2F\",\"AGAP006227\",\"AGAP006222\",\"AGAP006228 | COEAE2F\",\"AGAP006227\",\"AGAP006222\",\"AGAP006228 | COEAE2F\",\"AGAP006227\",\"AGAP006222\",\"AGAP006228 | COEAE2F\",\"AGAP006227\",\"AGAP006222\",\"AGAP006228 | COEAE2F\",\"AGAP006227\",\"AGAP006222\",\"AGAP006228 | COEAE2F\",\"AGAP006227\",\"AGAP006222\",\"AGAP006228 | COEAE2F\",\"AGAP006227\",\"AGAP006222\",\"AGAP006228 | COEAE2F\",\"AGAP006227\",\"AGAP006222\",\"AGAP006228 | COEAE2F\",\"AGAP006227\",\"AGAP006222\",\"AGAP006228 | COEAE2F\",\"AGAP006227\",\"AGAP006222\",\"AGAP006228 | COEAE2F\",\"AGAP006227\",\"AGAP006222\",\"AGAP006228 | COEAE2F\",\"AGAP006227\",\"AGAP006222\",\"AGAP006228 | COEAE2F\",\"AGAP006227\",\"AGAP006222\",\"AGAP006228 | COEAE2F\",\"AGAP006227\",\"AGAP006222\",\"AGAP006228 | COEAE2F\",\"AGAP006227\",\"AGAP006222\",\"AGAP006228 | COEAE2F\",\"AGAP006227\",\"AGAP006222\",\"AGAP006228 | COEAE2F\",\"AGAP006227\",\"AGAP006222\",\"AGAP006228 | COEAE2F\",\"AGAP006227\",\"AGAP006222\",\"AGAP006228 | COEAE2F\",\"AGAP006227\",\"AGAP006222\"],\"y0\":\" \",\"yaxis\":\"y\",\"type\":\"box\"},{\"alignmentgroup\":\"True\",\"boxpoints\":\"all\",\"customdata\":[[\"Gou\",\"Moz\",\"arabiensis\",\"Burkina Faso\"],[\"Gou\",\"Moz\",\"arabiensis\",\"Burkina Faso\"],[\"Gou\",\"Moz\",\"arabiensis\",\"Burkina Faso\"],[\"Asendabo\",\"Moz\",\"arabiensis\",\"Ethiopia\"],[\"Asendabo\",\"Moz\",\"arabiensis\",\"Ethiopia\"],[\"Asendabo\",\"Moz\",\"arabiensis\",\"Ethiopia\"],[\"Chewaka\",\"Moz\",\"arabiensis\",\"Ethiopia\"],[\"Chewaka\",\"Moz\",\"arabiensis\",\"Ethiopia\"],[\"Chewaka\",\"Moz\",\"arabiensis\",\"Ethiopia\"],[\"Tolay\",\"Moz\",\"arabiensis\",\"Ethiopia\"],[\"Tolay\",\"Moz\",\"arabiensis\",\"Ethiopia\"],[\"Tolay\",\"Moz\",\"arabiensis\",\"Ethiopia\"],[\"Ethiopia\",\"Dongola\",\"arabiensis\",\"Ethiopia\"],[\"Ethiopia\",\"Dongola\",\"arabiensis\",\"Ethiopia\"],[\"Ethiopia\",\"Dongola\",\"arabiensis\",\"Ethiopia\"]],\"fillcolor\":\"rgba(255,255,255,0)\",\"hoveron\":\"points\",\"hovertemplate\":\"species=%{customdata[2]}<br>log2FC=%{x}<br>Label=%{y}<br>resistant=%{customdata[0]}<br>susceptible=%{customdata[1]}<br>country=%{customdata[3]}<extra></extra>\",\"legendgroup\":\"arabiensis\",\"line\":{\"color\":\"rgba(255,255,255,0)\"},\"marker\":{\"color\":\"#A3A500\"},\"name\":\"arabiensis\",\"offsetgroup\":\"arabiensis\",\"orientation\":\"h\",\"pointpos\":0,\"showlegend\":true,\"x\":[-0.17,-0.04,1.23,0.04,-0.35,2.16,0.33,-0.02,3.41,0.12,-0.17,2.43,0.14,0.06,1.04],\"x0\":\" \",\"xaxis\":\"x\",\"y\":[\"AGAP006228 | COEAE2F\",\"AGAP006227\",\"AGAP006222\",\"AGAP006228 | COEAE2F\",\"AGAP006227\",\"AGAP006222\",\"AGAP006228 | COEAE2F\",\"AGAP006227\",\"AGAP006222\",\"AGAP006228 | COEAE2F\",\"AGAP006227\",\"AGAP006222\",\"AGAP006228 | COEAE2F\",\"AGAP006227\",\"AGAP006222\"],\"y0\":\" \",\"yaxis\":\"y\",\"type\":\"box\"},{\"alignmentgroup\":\"True\",\"boxpoints\":\"all\",\"customdata\":[[\"Cam_fun\",\"Fang\",\"funestus\",\"Cameroon\"],[\"Cam_fun\",\"Fang\",\"funestus\",\"Cameroon\"],[\"Cam_fun\",\"Fang\",\"funestus\",\"Cameroon\"],[\"Fumoz\",\"Fang\",\"funestus\",\"Mozambique\"],[\"Fumoz\",\"Fang\",\"funestus\",\"Mozambique\"],[\"Fumoz\",\"Fang\",\"funestus\",\"Mozambique\"],[\"Ghana_fun\",\"Fang\",\"funestus\",\"Ghana\"],[\"Ghana_fun\",\"Fang\",\"funestus\",\"Ghana\"],[\"Ghana_fun\",\"Fang\",\"funestus\",\"Ghana\"],[\"Malawi_fun\",\"Fang\",\"funestus\",\"Malawi\"],[\"Malawi_fun\",\"Fang\",\"funestus\",\"Malawi\"],[\"Malawi_fun\",\"Fang\",\"funestus\",\"Malawi\"],[\"Uganda_fun\",\"Fang\",\"funestus\",\"Uganda\"],[\"Uganda_fun\",\"Fang\",\"funestus\",\"Uganda\"],[\"Uganda_fun\",\"Fang\",\"funestus\",\"Uganda\"]],\"fillcolor\":\"rgba(255,255,255,0)\",\"hoveron\":\"points\",\"hovertemplate\":\"species=%{customdata[2]}<br>log2FC=%{x}<br>Label=%{y}<br>resistant=%{customdata[0]}<br>susceptible=%{customdata[1]}<br>country=%{customdata[3]}<extra></extra>\",\"legendgroup\":\"funestus\",\"line\":{\"color\":\"rgba(255,255,255,0)\"},\"marker\":{\"color\":\"#00BF7D\"},\"name\":\"funestus\",\"offsetgroup\":\"funestus\",\"orientation\":\"h\",\"pointpos\":0,\"showlegend\":true,\"x\":[-0.05,-0.37,-0.53,0.02,-0.55,0.14,0.39,0.07,0.74,0.32,-0.32,0.34,0.23,-0.43,0.02],\"x0\":\" \",\"xaxis\":\"x\",\"y\":[\"AGAP006228 | COEAE2F\",\"AGAP006227\",\"AGAP006222\",\"AGAP006228 | COEAE2F\",\"AGAP006227\",\"AGAP006222\",\"AGAP006228 | COEAE2F\",\"AGAP006227\",\"AGAP006222\",\"AGAP006228 | COEAE2F\",\"AGAP006227\",\"AGAP006222\",\"AGAP006228 | COEAE2F\",\"AGAP006227\",\"AGAP006222\"],\"y0\":\" \",\"yaxis\":\"y\",\"type\":\"box\"}],                        {\"template\":{\"data\":{\"barpolar\":[{\"marker\":{\"line\":{\"color\":\"rgb(237,237,237)\",\"width\":0.5},\"pattern\":{\"fillmode\":\"overlay\",\"size\":10,\"solidity\":0.2}},\"type\":\"barpolar\"}],\"bar\":[{\"error_x\":{\"color\":\"rgb(51,51,51)\"},\"error_y\":{\"color\":\"rgb(51,51,51)\"},\"marker\":{\"line\":{\"color\":\"rgb(237,237,237)\",\"width\":0.5},\"pattern\":{\"fillmode\":\"overlay\",\"size\":10,\"solidity\":0.2}},\"type\":\"bar\"}],\"carpet\":[{\"aaxis\":{\"endlinecolor\":\"rgb(51,51,51)\",\"gridcolor\":\"white\",\"linecolor\":\"white\",\"minorgridcolor\":\"white\",\"startlinecolor\":\"rgb(51,51,51)\"},\"baxis\":{\"endlinecolor\":\"rgb(51,51,51)\",\"gridcolor\":\"white\",\"linecolor\":\"white\",\"minorgridcolor\":\"white\",\"startlinecolor\":\"rgb(51,51,51)\"},\"type\":\"carpet\"}],\"choropleth\":[{\"colorbar\":{\"outlinewidth\":0,\"tickcolor\":\"rgb(237,237,237)\",\"ticklen\":6,\"ticks\":\"inside\"},\"type\":\"choropleth\"}],\"contourcarpet\":[{\"colorbar\":{\"outlinewidth\":0,\"tickcolor\":\"rgb(237,237,237)\",\"ticklen\":6,\"ticks\":\"inside\"},\"type\":\"contourcarpet\"}],\"contour\":[{\"colorbar\":{\"outlinewidth\":0,\"tickcolor\":\"rgb(237,237,237)\",\"ticklen\":6,\"ticks\":\"inside\"},\"colorscale\":[[0,\"rgb(20,44,66)\"],[1,\"rgb(90,179,244)\"]],\"type\":\"contour\"}],\"heatmapgl\":[{\"colorbar\":{\"outlinewidth\":0,\"tickcolor\":\"rgb(237,237,237)\",\"ticklen\":6,\"ticks\":\"inside\"},\"colorscale\":[[0,\"rgb(20,44,66)\"],[1,\"rgb(90,179,244)\"]],\"type\":\"heatmapgl\"}],\"heatmap\":[{\"colorbar\":{\"outlinewidth\":0,\"tickcolor\":\"rgb(237,237,237)\",\"ticklen\":6,\"ticks\":\"inside\"},\"colorscale\":[[0,\"rgb(20,44,66)\"],[1,\"rgb(90,179,244)\"]],\"type\":\"heatmap\"}],\"histogram2dcontour\":[{\"colorbar\":{\"outlinewidth\":0,\"tickcolor\":\"rgb(237,237,237)\",\"ticklen\":6,\"ticks\":\"inside\"},\"colorscale\":[[0,\"rgb(20,44,66)\"],[1,\"rgb(90,179,244)\"]],\"type\":\"histogram2dcontour\"}],\"histogram2d\":[{\"colorbar\":{\"outlinewidth\":0,\"tickcolor\":\"rgb(237,237,237)\",\"ticklen\":6,\"ticks\":\"inside\"},\"colorscale\":[[0,\"rgb(20,44,66)\"],[1,\"rgb(90,179,244)\"]],\"type\":\"histogram2d\"}],\"histogram\":[{\"marker\":{\"pattern\":{\"fillmode\":\"overlay\",\"size\":10,\"solidity\":0.2}},\"type\":\"histogram\"}],\"mesh3d\":[{\"colorbar\":{\"outlinewidth\":0,\"tickcolor\":\"rgb(237,237,237)\",\"ticklen\":6,\"ticks\":\"inside\"},\"type\":\"mesh3d\"}],\"parcoords\":[{\"line\":{\"colorbar\":{\"outlinewidth\":0,\"tickcolor\":\"rgb(237,237,237)\",\"ticklen\":6,\"ticks\":\"inside\"}},\"type\":\"parcoords\"}],\"pie\":[{\"automargin\":true,\"type\":\"pie\"}],\"scatter3d\":[{\"line\":{\"colorbar\":{\"outlinewidth\":0,\"tickcolor\":\"rgb(237,237,237)\",\"ticklen\":6,\"ticks\":\"inside\"}},\"marker\":{\"colorbar\":{\"outlinewidth\":0,\"tickcolor\":\"rgb(237,237,237)\",\"ticklen\":6,\"ticks\":\"inside\"}},\"type\":\"scatter3d\"}],\"scattercarpet\":[{\"marker\":{\"colorbar\":{\"outlinewidth\":0,\"tickcolor\":\"rgb(237,237,237)\",\"ticklen\":6,\"ticks\":\"inside\"}},\"type\":\"scattercarpet\"}],\"scattergeo\":[{\"marker\":{\"colorbar\":{\"outlinewidth\":0,\"tickcolor\":\"rgb(237,237,237)\",\"ticklen\":6,\"ticks\":\"inside\"}},\"type\":\"scattergeo\"}],\"scattergl\":[{\"marker\":{\"colorbar\":{\"outlinewidth\":0,\"tickcolor\":\"rgb(237,237,237)\",\"ticklen\":6,\"ticks\":\"inside\"}},\"type\":\"scattergl\"}],\"scattermapbox\":[{\"marker\":{\"colorbar\":{\"outlinewidth\":0,\"tickcolor\":\"rgb(237,237,237)\",\"ticklen\":6,\"ticks\":\"inside\"}},\"type\":\"scattermapbox\"}],\"scatterpolargl\":[{\"marker\":{\"colorbar\":{\"outlinewidth\":0,\"tickcolor\":\"rgb(237,237,237)\",\"ticklen\":6,\"ticks\":\"inside\"}},\"type\":\"scatterpolargl\"}],\"scatterpolar\":[{\"marker\":{\"colorbar\":{\"outlinewidth\":0,\"tickcolor\":\"rgb(237,237,237)\",\"ticklen\":6,\"ticks\":\"inside\"}},\"type\":\"scatterpolar\"}],\"scatter\":[{\"marker\":{\"colorbar\":{\"outlinewidth\":0,\"tickcolor\":\"rgb(237,237,237)\",\"ticklen\":6,\"ticks\":\"inside\"}},\"type\":\"scatter\"}],\"scatterternary\":[{\"marker\":{\"colorbar\":{\"outlinewidth\":0,\"tickcolor\":\"rgb(237,237,237)\",\"ticklen\":6,\"ticks\":\"inside\"}},\"type\":\"scatterternary\"}],\"surface\":[{\"colorbar\":{\"outlinewidth\":0,\"tickcolor\":\"rgb(237,237,237)\",\"ticklen\":6,\"ticks\":\"inside\"},\"colorscale\":[[0,\"rgb(20,44,66)\"],[1,\"rgb(90,179,244)\"]],\"type\":\"surface\"}],\"table\":[{\"cells\":{\"fill\":{\"color\":\"rgb(237,237,237)\"},\"line\":{\"color\":\"white\"}},\"header\":{\"fill\":{\"color\":\"rgb(217,217,217)\"},\"line\":{\"color\":\"white\"}},\"type\":\"table\"}]},\"layout\":{\"annotationdefaults\":{\"arrowhead\":0,\"arrowwidth\":1},\"autotypenumbers\":\"strict\",\"coloraxis\":{\"colorbar\":{\"outlinewidth\":0,\"tickcolor\":\"rgb(237,237,237)\",\"ticklen\":6,\"ticks\":\"inside\"}},\"colorscale\":{\"sequential\":[[0,\"rgb(20,44,66)\"],[1,\"rgb(90,179,244)\"]],\"sequentialminus\":[[0,\"rgb(20,44,66)\"],[1,\"rgb(90,179,244)\"]]},\"colorway\":[\"#F8766D\",\"#A3A500\",\"#00BF7D\",\"#00B0F6\",\"#E76BF3\"],\"font\":{\"color\":\"rgb(51,51,51)\"},\"geo\":{\"bgcolor\":\"white\",\"lakecolor\":\"white\",\"landcolor\":\"rgb(237,237,237)\",\"showlakes\":true,\"showland\":true,\"subunitcolor\":\"white\"},\"hoverlabel\":{\"align\":\"left\"},\"hovermode\":\"closest\",\"paper_bgcolor\":\"white\",\"plot_bgcolor\":\"rgb(237,237,237)\",\"polar\":{\"angularaxis\":{\"gridcolor\":\"white\",\"linecolor\":\"white\",\"showgrid\":true,\"tickcolor\":\"rgb(51,51,51)\",\"ticks\":\"outside\"},\"bgcolor\":\"rgb(237,237,237)\",\"radialaxis\":{\"gridcolor\":\"white\",\"linecolor\":\"white\",\"showgrid\":true,\"tickcolor\":\"rgb(51,51,51)\",\"ticks\":\"outside\"}},\"scene\":{\"xaxis\":{\"backgroundcolor\":\"rgb(237,237,237)\",\"gridcolor\":\"white\",\"gridwidth\":2,\"linecolor\":\"white\",\"showbackground\":true,\"showgrid\":true,\"tickcolor\":\"rgb(51,51,51)\",\"ticks\":\"outside\",\"zerolinecolor\":\"white\"},\"yaxis\":{\"backgroundcolor\":\"rgb(237,237,237)\",\"gridcolor\":\"white\",\"gridwidth\":2,\"linecolor\":\"white\",\"showbackground\":true,\"showgrid\":true,\"tickcolor\":\"rgb(51,51,51)\",\"ticks\":\"outside\",\"zerolinecolor\":\"white\"},\"zaxis\":{\"backgroundcolor\":\"rgb(237,237,237)\",\"gridcolor\":\"white\",\"gridwidth\":2,\"linecolor\":\"white\",\"showbackground\":true,\"showgrid\":true,\"tickcolor\":\"rgb(51,51,51)\",\"ticks\":\"outside\",\"zerolinecolor\":\"white\"}},\"shapedefaults\":{\"fillcolor\":\"black\",\"line\":{\"width\":0},\"opacity\":0.3},\"ternary\":{\"aaxis\":{\"gridcolor\":\"white\",\"linecolor\":\"white\",\"showgrid\":true,\"tickcolor\":\"rgb(51,51,51)\",\"ticks\":\"outside\"},\"baxis\":{\"gridcolor\":\"white\",\"linecolor\":\"white\",\"showgrid\":true,\"tickcolor\":\"rgb(51,51,51)\",\"ticks\":\"outside\"},\"bgcolor\":\"rgb(237,237,237)\",\"caxis\":{\"gridcolor\":\"white\",\"linecolor\":\"white\",\"showgrid\":true,\"tickcolor\":\"rgb(51,51,51)\",\"ticks\":\"outside\"}},\"xaxis\":{\"automargin\":true,\"gridcolor\":\"white\",\"linecolor\":\"white\",\"showgrid\":true,\"tickcolor\":\"rgb(51,51,51)\",\"ticks\":\"outside\",\"title\":{\"standoff\":15},\"zerolinecolor\":\"white\"},\"yaxis\":{\"automargin\":true,\"gridcolor\":\"white\",\"linecolor\":\"white\",\"showgrid\":true,\"tickcolor\":\"rgb(51,51,51)\",\"ticks\":\"outside\",\"title\":{\"standoff\":15},\"zerolinecolor\":\"white\"}}},\"xaxis\":{\"anchor\":\"y\",\"domain\":[0.0,1.0],\"title\":{\"text\":\"log2 Fold Change\"},\"range\":[-4,6]},\"yaxis\":{\"anchor\":\"x\",\"domain\":[0.0,1.0],\"title\":{\"text\":\"Gene\"}},\"legend\":{\"title\":{\"text\":\"species\"},\"tracegroupgap\":0},\"title\":{\"text\":\"Coeae1f\",\"font\":{\"size\":20}},\"boxmode\":\"group\",\"height\":300,\"width\":1000,\"shapes\":[{\"line\":{\"color\":\"grey\",\"dash\":\"dash\",\"width\":1},\"type\":\"line\",\"x0\":0,\"x1\":0,\"xref\":\"x\",\"y0\":0,\"y1\":1,\"yref\":\"y domain\"}]},                        {\"responsive\": true}                    ).then(function(){\n",
              "                            \n",
              "var gd = document.getElementById('cbd80f7c-d05b-478c-b9ed-3e9b7e9127d8');\n",
              "var x = new MutationObserver(function (mutations, observer) {{\n",
              "        var display = window.getComputedStyle(gd).display;\n",
              "        if (!display || display === 'none') {{\n",
              "            console.log([gd, 'removed!']);\n",
              "            Plotly.purge(gd);\n",
              "            observer.disconnect();\n",
              "        }}\n",
              "}});\n",
              "\n",
              "// Listen for the removal of the full notebook cells\n",
              "var notebookContainer = gd.closest('#notebook-container');\n",
              "if (notebookContainer) {{\n",
              "    x.observe(notebookContainer, {childList: true});\n",
              "}}\n",
              "\n",
              "// Listen for the clearing of the current output cell\n",
              "var outputEl = gd.closest('.output');\n",
              "if (outputEl) {{\n",
              "    x.observe(outputEl, {childList: true});\n",
              "}}\n",
              "\n",
              "                        })                };                            </script>        </div>\n",
              "</body>\n",
              "</html>"
            ]
          },
          "metadata": {}
        }
      ],
      "source": [
        "plotly_gene_fcs(gene_ids=[\"AGAP006222\", \"AGAP006227\", \"AGAP006228\"], sort_by='agap', title=\"Coeae1f\", plot_type='strip', height=300)"
      ]
    },
    {
      "cell_type": "markdown",
      "id": "w3a56NCsEk70",
      "metadata": {
        "id": "w3a56NCsEk70"
      },
      "source": [
        "You can also produce a boxplot, although the hovertext is doesnt work properly."
      ]
    },
    {
      "cell_type": "code",
      "execution_count": null,
      "id": "fr_XvlBp_Pwy",
      "metadata": {
        "colab": {
          "base_uri": "https://localhost:8080/",
          "height": 317
        },
        "id": "fr_XvlBp_Pwy",
        "outputId": "cee1d44b-3012-40a9-9447-87f057dc0e19"
      },
      "outputs": [
        {
          "data": {
            "text/html": [
              "<html>\n",
              "<head><meta charset=\"utf-8\" /></head>\n",
              "<body>\n",
              "    <div>            <script src=\"https://cdnjs.cloudflare.com/ajax/libs/mathjax/2.7.5/MathJax.js?config=TeX-AMS-MML_SVG\"></script><script type=\"text/javascript\">if (window.MathJax) {MathJax.Hub.Config({SVG: {font: \"STIX-Web\"}});}</script>                <script type=\"text/javascript\">window.PlotlyConfig = {MathJaxConfig: 'local'};</script>\n",
              "        <script src=\"https://cdn.plot.ly/plotly-2.8.3.min.js\"></script>                <div id=\"68162119-174d-48d3-9d8d-ee9748c7c350\" class=\"plotly-graph-div\" style=\"height:300px; width:1000px;\"></div>            <script type=\"text/javascript\">                                    window.PLOTLYENV=window.PLOTLYENV || {};                                    if (document.getElementById(\"68162119-174d-48d3-9d8d-ee9748c7c350\")) {                    Plotly.newPlot(                        \"68162119-174d-48d3-9d8d-ee9748c7c350\",                        [{\"alignmentgroup\":\"True\",\"customdata\":[[\"Tiefora\",\"Ngousso\",\"gambiae\",\"Burkina Faso\"],[\"Tiefora\",\"Ngousso\",\"gambiae\",\"Burkina Faso\"],[\"Ban\",\"BanS\",\"gambiae\",\"Burkina Faso\"],[\"Ban\",\"BanS\",\"gambiae\",\"Burkina Faso\"],[\"BanRe\",\"BanS\",\"gambiae\",\"Burkina Faso\"],[\"BanRe\",\"BanS\",\"gambiae\",\"Burkina Faso\"],[\"Bak\",\"Kisumu\",\"gambiae\",\"Burkina Faso\"],[\"Bak\",\"Kisumu\",\"gambiae\",\"Burkina Faso\"],[\"VK7\",\"Kisumu\",\"gambiae\",\"Burkina Faso\"],[\"VK7\",\"Kisumu\",\"gambiae\",\"Burkina Faso\"],[\"Cameroon\",\"Ngousso\",\"gambiae\",\"Cameroon\"],[\"Cameroon\",\"Ngousso\",\"gambiae\",\"Cameroon\"],[\"Chad\",\"Ngousso\",\"gambiae\",\"Chad\"],[\"Chad\",\"Ngousso\",\"gambiae\",\"Chad\"],[\"Niger\",\"Ngousso\",\"gambiae\",\"Niger\"],[\"Niger\",\"Ngousso\",\"gambiae\",\"Niger\"],[\"Nigeria\",\"Ngousso\",\"gambiae\",\"Nigeria\"],[\"Nigeria\",\"Ngousso\",\"gambiae\",\"Nigeria\"],[\"Agboville\",\"Mali\",\"gambiae\",\"Cote d'Ivoire\"],[\"Agboville\",\"Mali\",\"gambiae\",\"Cote d'Ivoire\"],[\"Agboville\",\"Ngousso\",\"gambiae\",\"Cote d'Ivoire\"],[\"Agboville\",\"Ngousso\",\"gambiae\",\"Cote d'Ivoire\"],[\"Dabou\",\"Mali\",\"gambiae\",\"Cote d'Ivoire\"],[\"Dabou\",\"Mali\",\"gambiae\",\"Cote d'Ivoire\"],[\"Dabou\",\"Ngousso\",\"gambiae\",\"Cote d'Ivoire\"],[\"Dabou\",\"Ngousso\",\"gambiae\",\"Cote d'Ivoire\"],[\"Tiassale\",\"Mali\",\"gambiae\",\"Cote d'Ivoire\"],[\"Tiassale\",\"Mali\",\"gambiae\",\"Cote d'Ivoire\"],[\"Tiassale\",\"Ngousso\",\"gambiae\",\"Cote d'Ivoire\"],[\"Tiassale\",\"Ngousso\",\"gambiae\",\"Cote d'Ivoire\"],[\"Bouake_gamb_exp\",\"Kisumu\",\"gambiae\",\"Cote d'Ivoire\"],[\"Bouake_gamb_exp\",\"Kisumu\",\"gambiae\",\"Cote d'Ivoire\"],[\"Bouake_gamb_unexp\",\"Kisumu\",\"gambiae\",\"Cote d'Ivoire\"],[\"Bouake_gamb_unexp\",\"Kisumu\",\"gambiae\",\"Cote d'Ivoire\"],[\"Bouake_colu_exp\",\"Ngousso\",\"gambiae\",\"Cote d'Ivoire\"],[\"Bouake_colu_exp\",\"Ngousso\",\"gambiae\",\"Cote d'Ivoire\"],[\"Bouake_colu_unexp\",\"Ngousso\",\"gambiae\",\"Cote d'Ivoire\"],[\"Bouake_colu_unexp\",\"Ngousso\",\"gambiae\",\"Cote d'Ivoire\"],[\"ContTia\",\"Ngousso\",\"gambiae\",\"Cote d'Ivoire\"],[\"ContTia\",\"Ngousso\",\"gambiae\",\"Cote d'Ivoire\"],[\"DeltTia\",\"Ngousso\",\"gambiae\",\"Cote d'Ivoire\"],[\"DeltTia\",\"Ngousso\",\"gambiae\",\"Cote d'Ivoire\"],[\"MalaTia\",\"Ngousso\",\"gambiae\",\"Cote d'Ivoire\"],[\"MalaTia\",\"Ngousso\",\"gambiae\",\"Cote d'Ivoire\"],[\"PiriTia\",\"Ngousso\",\"gambiae\",\"Cote d'Ivoire\"],[\"PiriTia\",\"Ngousso\",\"gambiae\",\"Cote d'Ivoire\"],[\"BusiaParental\",\"Kisumu\",\"gambiae\",\"Uganda\"],[\"BusiaParental\",\"Kisumu\",\"gambiae\",\"Uganda\"],[\"BusiaSurvivors\",\"Kisumu\",\"gambiae\",\"Uganda\"],[\"BusiaSurvivors\",\"Kisumu\",\"gambiae\",\"Uganda\"]],\"hovertemplate\":\"species=%{customdata[2]}<br>log2FC=%{x}<br>Label=%{y}<br>resistant=%{customdata[0]}<br>susceptible=%{customdata[1]}<br>country=%{customdata[3]}<extra></extra>\",\"legendgroup\":\"gambiae\",\"marker\":{\"color\":\"#F8766D\"},\"name\":\"gambiae\",\"notched\":false,\"offsetgroup\":\"gambiae\",\"orientation\":\"h\",\"showlegend\":true,\"x\":[-0.44,-0.46,-0.51,-1.08,-0.06,-0.32,-0.23,0.29,-0.26,0.05,-0.12,-0.33,0.37,-0.05,0.31,-0.04,0.25,0.16,1.7,3.38,1.08,1.92,2.3,2.83,1.69,1.37,0.67,2.35,0.06,0.88,-0.26,2.59,-0.08,2.59,-0.64,0.26,-0.71,0.68,0.33,1.66,-0.09,0.04,0.55,1.58,0.38,1.14,0.64,0.8,0.84,0.67],\"x0\":\" \",\"xaxis\":\"x\",\"y\":[\"AGAP006228 | COEAE2F\",\"AGAP006227\",\"AGAP006228 | COEAE2F\",\"AGAP006227\",\"AGAP006228 | COEAE2F\",\"AGAP006227\",\"AGAP006228 | COEAE2F\",\"AGAP006227\",\"AGAP006228 | COEAE2F\",\"AGAP006227\",\"AGAP006228 | COEAE2F\",\"AGAP006227\",\"AGAP006228 | COEAE2F\",\"AGAP006227\",\"AGAP006228 | COEAE2F\",\"AGAP006227\",\"AGAP006228 | COEAE2F\",\"AGAP006227\",\"AGAP006228 | COEAE2F\",\"AGAP006227\",\"AGAP006228 | COEAE2F\",\"AGAP006227\",\"AGAP006228 | COEAE2F\",\"AGAP006227\",\"AGAP006228 | COEAE2F\",\"AGAP006227\",\"AGAP006228 | COEAE2F\",\"AGAP006227\",\"AGAP006228 | COEAE2F\",\"AGAP006227\",\"AGAP006228 | COEAE2F\",\"AGAP006227\",\"AGAP006228 | COEAE2F\",\"AGAP006227\",\"AGAP006228 | COEAE2F\",\"AGAP006227\",\"AGAP006228 | COEAE2F\",\"AGAP006227\",\"AGAP006228 | COEAE2F\",\"AGAP006227\",\"AGAP006228 | COEAE2F\",\"AGAP006227\",\"AGAP006228 | COEAE2F\",\"AGAP006227\",\"AGAP006228 | COEAE2F\",\"AGAP006227\",\"AGAP006228 | COEAE2F\",\"AGAP006227\",\"AGAP006228 | COEAE2F\",\"AGAP006227\"],\"y0\":\" \",\"yaxis\":\"y\",\"type\":\"box\"},{\"alignmentgroup\":\"True\",\"customdata\":[[\"Gou\",\"Moz\",\"arabiensis\",\"Burkina Faso\"],[\"Gou\",\"Moz\",\"arabiensis\",\"Burkina Faso\"],[\"Asendabo\",\"Moz\",\"arabiensis\",\"Ethiopia\"],[\"Asendabo\",\"Moz\",\"arabiensis\",\"Ethiopia\"],[\"Chewaka\",\"Moz\",\"arabiensis\",\"Ethiopia\"],[\"Chewaka\",\"Moz\",\"arabiensis\",\"Ethiopia\"],[\"Tolay\",\"Moz\",\"arabiensis\",\"Ethiopia\"],[\"Tolay\",\"Moz\",\"arabiensis\",\"Ethiopia\"],[\"Ethiopia\",\"Dongola\",\"arabiensis\",\"Ethiopia\"],[\"Ethiopia\",\"Dongola\",\"arabiensis\",\"Ethiopia\"]],\"hovertemplate\":\"species=%{customdata[2]}<br>log2FC=%{x}<br>Label=%{y}<br>resistant=%{customdata[0]}<br>susceptible=%{customdata[1]}<br>country=%{customdata[3]}<extra></extra>\",\"legendgroup\":\"arabiensis\",\"marker\":{\"color\":\"#A3A500\"},\"name\":\"arabiensis\",\"notched\":false,\"offsetgroup\":\"arabiensis\",\"orientation\":\"h\",\"showlegend\":true,\"x\":[-0.17,-0.04,0.04,-0.35,0.33,-0.02,0.12,-0.17,0.14,0.06],\"x0\":\" \",\"xaxis\":\"x\",\"y\":[\"AGAP006228 | COEAE2F\",\"AGAP006227\",\"AGAP006228 | COEAE2F\",\"AGAP006227\",\"AGAP006228 | COEAE2F\",\"AGAP006227\",\"AGAP006228 | COEAE2F\",\"AGAP006227\",\"AGAP006228 | COEAE2F\",\"AGAP006227\"],\"y0\":\" \",\"yaxis\":\"y\",\"type\":\"box\"},{\"alignmentgroup\":\"True\",\"customdata\":[[\"Cam_fun\",\"Fang\",\"funestus\",\"Cameroon\"],[\"Cam_fun\",\"Fang\",\"funestus\",\"Cameroon\"],[\"Fumoz\",\"Fang\",\"funestus\",\"Mozambique\"],[\"Fumoz\",\"Fang\",\"funestus\",\"Mozambique\"],[\"Ghana_fun\",\"Fang\",\"funestus\",\"Ghana\"],[\"Ghana_fun\",\"Fang\",\"funestus\",\"Ghana\"],[\"Malawi_fun\",\"Fang\",\"funestus\",\"Malawi\"],[\"Malawi_fun\",\"Fang\",\"funestus\",\"Malawi\"],[\"Uganda_fun\",\"Fang\",\"funestus\",\"Uganda\"],[\"Uganda_fun\",\"Fang\",\"funestus\",\"Uganda\"]],\"hovertemplate\":\"species=%{customdata[2]}<br>log2FC=%{x}<br>Label=%{y}<br>resistant=%{customdata[0]}<br>susceptible=%{customdata[1]}<br>country=%{customdata[3]}<extra></extra>\",\"legendgroup\":\"funestus\",\"marker\":{\"color\":\"#00BF7D\"},\"name\":\"funestus\",\"notched\":false,\"offsetgroup\":\"funestus\",\"orientation\":\"h\",\"showlegend\":true,\"x\":[-0.05,-0.37,0.02,-0.55,0.39,0.07,0.32,-0.32,0.23,-0.43],\"x0\":\" \",\"xaxis\":\"x\",\"y\":[\"AGAP006228 | COEAE2F\",\"AGAP006227\",\"AGAP006228 | COEAE2F\",\"AGAP006227\",\"AGAP006228 | COEAE2F\",\"AGAP006227\",\"AGAP006228 | COEAE2F\",\"AGAP006227\",\"AGAP006228 | COEAE2F\",\"AGAP006227\"],\"y0\":\" \",\"yaxis\":\"y\",\"type\":\"box\"}],                        {\"template\":{\"data\":{\"barpolar\":[{\"marker\":{\"line\":{\"color\":\"rgb(237,237,237)\",\"width\":0.5},\"pattern\":{\"fillmode\":\"overlay\",\"size\":10,\"solidity\":0.2}},\"type\":\"barpolar\"}],\"bar\":[{\"error_x\":{\"color\":\"rgb(51,51,51)\"},\"error_y\":{\"color\":\"rgb(51,51,51)\"},\"marker\":{\"line\":{\"color\":\"rgb(237,237,237)\",\"width\":0.5},\"pattern\":{\"fillmode\":\"overlay\",\"size\":10,\"solidity\":0.2}},\"type\":\"bar\"}],\"carpet\":[{\"aaxis\":{\"endlinecolor\":\"rgb(51,51,51)\",\"gridcolor\":\"white\",\"linecolor\":\"white\",\"minorgridcolor\":\"white\",\"startlinecolor\":\"rgb(51,51,51)\"},\"baxis\":{\"endlinecolor\":\"rgb(51,51,51)\",\"gridcolor\":\"white\",\"linecolor\":\"white\",\"minorgridcolor\":\"white\",\"startlinecolor\":\"rgb(51,51,51)\"},\"type\":\"carpet\"}],\"choropleth\":[{\"colorbar\":{\"outlinewidth\":0,\"tickcolor\":\"rgb(237,237,237)\",\"ticklen\":6,\"ticks\":\"inside\"},\"type\":\"choropleth\"}],\"contourcarpet\":[{\"colorbar\":{\"outlinewidth\":0,\"tickcolor\":\"rgb(237,237,237)\",\"ticklen\":6,\"ticks\":\"inside\"},\"type\":\"contourcarpet\"}],\"contour\":[{\"colorbar\":{\"outlinewidth\":0,\"tickcolor\":\"rgb(237,237,237)\",\"ticklen\":6,\"ticks\":\"inside\"},\"colorscale\":[[0,\"rgb(20,44,66)\"],[1,\"rgb(90,179,244)\"]],\"type\":\"contour\"}],\"heatmapgl\":[{\"colorbar\":{\"outlinewidth\":0,\"tickcolor\":\"rgb(237,237,237)\",\"ticklen\":6,\"ticks\":\"inside\"},\"colorscale\":[[0,\"rgb(20,44,66)\"],[1,\"rgb(90,179,244)\"]],\"type\":\"heatmapgl\"}],\"heatmap\":[{\"colorbar\":{\"outlinewidth\":0,\"tickcolor\":\"rgb(237,237,237)\",\"ticklen\":6,\"ticks\":\"inside\"},\"colorscale\":[[0,\"rgb(20,44,66)\"],[1,\"rgb(90,179,244)\"]],\"type\":\"heatmap\"}],\"histogram2dcontour\":[{\"colorbar\":{\"outlinewidth\":0,\"tickcolor\":\"rgb(237,237,237)\",\"ticklen\":6,\"ticks\":\"inside\"},\"colorscale\":[[0,\"rgb(20,44,66)\"],[1,\"rgb(90,179,244)\"]],\"type\":\"histogram2dcontour\"}],\"histogram2d\":[{\"colorbar\":{\"outlinewidth\":0,\"tickcolor\":\"rgb(237,237,237)\",\"ticklen\":6,\"ticks\":\"inside\"},\"colorscale\":[[0,\"rgb(20,44,66)\"],[1,\"rgb(90,179,244)\"]],\"type\":\"histogram2d\"}],\"histogram\":[{\"marker\":{\"pattern\":{\"fillmode\":\"overlay\",\"size\":10,\"solidity\":0.2}},\"type\":\"histogram\"}],\"mesh3d\":[{\"colorbar\":{\"outlinewidth\":0,\"tickcolor\":\"rgb(237,237,237)\",\"ticklen\":6,\"ticks\":\"inside\"},\"type\":\"mesh3d\"}],\"parcoords\":[{\"line\":{\"colorbar\":{\"outlinewidth\":0,\"tickcolor\":\"rgb(237,237,237)\",\"ticklen\":6,\"ticks\":\"inside\"}},\"type\":\"parcoords\"}],\"pie\":[{\"automargin\":true,\"type\":\"pie\"}],\"scatter3d\":[{\"line\":{\"colorbar\":{\"outlinewidth\":0,\"tickcolor\":\"rgb(237,237,237)\",\"ticklen\":6,\"ticks\":\"inside\"}},\"marker\":{\"colorbar\":{\"outlinewidth\":0,\"tickcolor\":\"rgb(237,237,237)\",\"ticklen\":6,\"ticks\":\"inside\"}},\"type\":\"scatter3d\"}],\"scattercarpet\":[{\"marker\":{\"colorbar\":{\"outlinewidth\":0,\"tickcolor\":\"rgb(237,237,237)\",\"ticklen\":6,\"ticks\":\"inside\"}},\"type\":\"scattercarpet\"}],\"scattergeo\":[{\"marker\":{\"colorbar\":{\"outlinewidth\":0,\"tickcolor\":\"rgb(237,237,237)\",\"ticklen\":6,\"ticks\":\"inside\"}},\"type\":\"scattergeo\"}],\"scattergl\":[{\"marker\":{\"colorbar\":{\"outlinewidth\":0,\"tickcolor\":\"rgb(237,237,237)\",\"ticklen\":6,\"ticks\":\"inside\"}},\"type\":\"scattergl\"}],\"scattermapbox\":[{\"marker\":{\"colorbar\":{\"outlinewidth\":0,\"tickcolor\":\"rgb(237,237,237)\",\"ticklen\":6,\"ticks\":\"inside\"}},\"type\":\"scattermapbox\"}],\"scatterpolargl\":[{\"marker\":{\"colorbar\":{\"outlinewidth\":0,\"tickcolor\":\"rgb(237,237,237)\",\"ticklen\":6,\"ticks\":\"inside\"}},\"type\":\"scatterpolargl\"}],\"scatterpolar\":[{\"marker\":{\"colorbar\":{\"outlinewidth\":0,\"tickcolor\":\"rgb(237,237,237)\",\"ticklen\":6,\"ticks\":\"inside\"}},\"type\":\"scatterpolar\"}],\"scatter\":[{\"marker\":{\"colorbar\":{\"outlinewidth\":0,\"tickcolor\":\"rgb(237,237,237)\",\"ticklen\":6,\"ticks\":\"inside\"}},\"type\":\"scatter\"}],\"scatterternary\":[{\"marker\":{\"colorbar\":{\"outlinewidth\":0,\"tickcolor\":\"rgb(237,237,237)\",\"ticklen\":6,\"ticks\":\"inside\"}},\"type\":\"scatterternary\"}],\"surface\":[{\"colorbar\":{\"outlinewidth\":0,\"tickcolor\":\"rgb(237,237,237)\",\"ticklen\":6,\"ticks\":\"inside\"},\"colorscale\":[[0,\"rgb(20,44,66)\"],[1,\"rgb(90,179,244)\"]],\"type\":\"surface\"}],\"table\":[{\"cells\":{\"fill\":{\"color\":\"rgb(237,237,237)\"},\"line\":{\"color\":\"white\"}},\"header\":{\"fill\":{\"color\":\"rgb(217,217,217)\"},\"line\":{\"color\":\"white\"}},\"type\":\"table\"}]},\"layout\":{\"annotationdefaults\":{\"arrowhead\":0,\"arrowwidth\":1},\"autotypenumbers\":\"strict\",\"coloraxis\":{\"colorbar\":{\"outlinewidth\":0,\"tickcolor\":\"rgb(237,237,237)\",\"ticklen\":6,\"ticks\":\"inside\"}},\"colorscale\":{\"sequential\":[[0,\"rgb(20,44,66)\"],[1,\"rgb(90,179,244)\"]],\"sequentialminus\":[[0,\"rgb(20,44,66)\"],[1,\"rgb(90,179,244)\"]]},\"colorway\":[\"#F8766D\",\"#A3A500\",\"#00BF7D\",\"#00B0F6\",\"#E76BF3\"],\"font\":{\"color\":\"rgb(51,51,51)\"},\"geo\":{\"bgcolor\":\"white\",\"lakecolor\":\"white\",\"landcolor\":\"rgb(237,237,237)\",\"showlakes\":true,\"showland\":true,\"subunitcolor\":\"white\"},\"hoverlabel\":{\"align\":\"left\"},\"hovermode\":\"closest\",\"paper_bgcolor\":\"white\",\"plot_bgcolor\":\"rgb(237,237,237)\",\"polar\":{\"angularaxis\":{\"gridcolor\":\"white\",\"linecolor\":\"white\",\"showgrid\":true,\"tickcolor\":\"rgb(51,51,51)\",\"ticks\":\"outside\"},\"bgcolor\":\"rgb(237,237,237)\",\"radialaxis\":{\"gridcolor\":\"white\",\"linecolor\":\"white\",\"showgrid\":true,\"tickcolor\":\"rgb(51,51,51)\",\"ticks\":\"outside\"}},\"scene\":{\"xaxis\":{\"backgroundcolor\":\"rgb(237,237,237)\",\"gridcolor\":\"white\",\"gridwidth\":2,\"linecolor\":\"white\",\"showbackground\":true,\"showgrid\":true,\"tickcolor\":\"rgb(51,51,51)\",\"ticks\":\"outside\",\"zerolinecolor\":\"white\"},\"yaxis\":{\"backgroundcolor\":\"rgb(237,237,237)\",\"gridcolor\":\"white\",\"gridwidth\":2,\"linecolor\":\"white\",\"showbackground\":true,\"showgrid\":true,\"tickcolor\":\"rgb(51,51,51)\",\"ticks\":\"outside\",\"zerolinecolor\":\"white\"},\"zaxis\":{\"backgroundcolor\":\"rgb(237,237,237)\",\"gridcolor\":\"white\",\"gridwidth\":2,\"linecolor\":\"white\",\"showbackground\":true,\"showgrid\":true,\"tickcolor\":\"rgb(51,51,51)\",\"ticks\":\"outside\",\"zerolinecolor\":\"white\"}},\"shapedefaults\":{\"fillcolor\":\"black\",\"line\":{\"width\":0},\"opacity\":0.3},\"ternary\":{\"aaxis\":{\"gridcolor\":\"white\",\"linecolor\":\"white\",\"showgrid\":true,\"tickcolor\":\"rgb(51,51,51)\",\"ticks\":\"outside\"},\"baxis\":{\"gridcolor\":\"white\",\"linecolor\":\"white\",\"showgrid\":true,\"tickcolor\":\"rgb(51,51,51)\",\"ticks\":\"outside\"},\"bgcolor\":\"rgb(237,237,237)\",\"caxis\":{\"gridcolor\":\"white\",\"linecolor\":\"white\",\"showgrid\":true,\"tickcolor\":\"rgb(51,51,51)\",\"ticks\":\"outside\"}},\"xaxis\":{\"automargin\":true,\"gridcolor\":\"white\",\"linecolor\":\"white\",\"showgrid\":true,\"tickcolor\":\"rgb(51,51,51)\",\"ticks\":\"outside\",\"title\":{\"standoff\":15},\"zerolinecolor\":\"white\"},\"yaxis\":{\"automargin\":true,\"gridcolor\":\"white\",\"linecolor\":\"white\",\"showgrid\":true,\"tickcolor\":\"rgb(51,51,51)\",\"ticks\":\"outside\",\"title\":{\"standoff\":15},\"zerolinecolor\":\"white\"}}},\"xaxis\":{\"anchor\":\"y\",\"domain\":[0.0,1.0],\"title\":{\"text\":\"log2 Fold Change\"},\"range\":[-4,6]},\"yaxis\":{\"anchor\":\"x\",\"domain\":[0.0,1.0],\"title\":{\"text\":\"Gene\"}},\"legend\":{\"title\":{\"text\":\"species\"},\"tracegroupgap\":0},\"title\":{\"text\":\"Coeae1f\",\"font\":{\"size\":20,\"color\":\"black\",\"family\":\"Arial, sans-serif\"}},\"boxmode\":\"group\",\"height\":300,\"width\":1000,\"shapes\":[{\"line\":{\"color\":\"grey\",\"dash\":\"dash\",\"width\":1},\"type\":\"line\",\"x0\":0,\"x1\":0,\"xref\":\"x\",\"y0\":0,\"y1\":1,\"yref\":\"y domain\"}]},                        {\"responsive\": true}                    ).then(function(){\n",
              "                            \n",
              "var gd = document.getElementById('68162119-174d-48d3-9d8d-ee9748c7c350');\n",
              "var x = new MutationObserver(function (mutations, observer) {{\n",
              "        var display = window.getComputedStyle(gd).display;\n",
              "        if (!display || display === 'none') {{\n",
              "            console.log([gd, 'removed!']);\n",
              "            Plotly.purge(gd);\n",
              "            observer.disconnect();\n",
              "        }}\n",
              "}});\n",
              "\n",
              "// Listen for the removal of the full notebook cells\n",
              "var notebookContainer = gd.closest('#notebook-container');\n",
              "if (notebookContainer) {{\n",
              "    x.observe(notebookContainer, {childList: true});\n",
              "}}\n",
              "\n",
              "// Listen for the clearing of the current output cell\n",
              "var outputEl = gd.closest('.output');\n",
              "if (outputEl) {{\n",
              "    x.observe(outputEl, {childList: true});\n",
              "}}\n",
              "\n",
              "                        })                };                            </script>        </div>\n",
              "</body>\n",
              "</html>"
            ]
          },
          "metadata": {},
          "output_type": "display_data"
        }
      ],
      "source": [
        "plotly_gene_fcs(gene_ids=[\"AGAP006227\", \"AGAP006228\"], title=\"Coeae1f\", plot_type='boxplot', height=300)"
      ]
    },
    {
      "cell_type": "code",
      "source": [
        "ls"
      ],
      "metadata": {
        "id": "Aw-JE9XNB8fU",
        "outputId": "60b0fdc2-429e-4495-df42-82e76e2bba43",
        "colab": {
          "base_uri": "https://localhost:8080/"
        }
      },
      "id": "Aw-JE9XNB8fU",
      "execution_count": 3,
      "outputs": [
        {
          "output_type": "stream",
          "name": "stdout",
          "text": [
            "\u001b[0m\u001b[01;34mrna-seq-meta\u001b[0m/  \u001b[01;34msample_data\u001b[0m/\n"
          ]
        }
      ]
    },
    {
      "cell_type": "code",
      "source": [
        "gene_ids = ['AGAP006227', 'AGAP006228', 'AGAP004707']"
      ],
      "metadata": {
        "id": "HK9Tp3IRB_K8"
      },
      "id": "HK9Tp3IRB_K8",
      "execution_count": 12,
      "outputs": []
    },
    {
      "cell_type": "code",
      "source": [
        "# load metadata\n",
        "metadata = pd.read_csv(\"rna-seq-meta/config/sample_metadata.tsv\", sep=\"\\t\")  \n",
        "# load fold change data and remove gene description column\n",
        "fc_data = pd.read_csv(\"rna-seq-meta/results/fc_data.tsv.gz\", sep=\"\\t\")\n",
        "#pval_data = pd.read_csv(\"rna-seq-meta/results/pval_data.tsv\", sep=\"\\t\")\n",
        "fc_data = fc_data.iloc[:, :-1]\n",
        "\n",
        "fam_fc_data = fc_data.query(\"GeneID in @gene_ids\").copy()"
      ],
      "metadata": {
        "id": "wqGjhyarBmd2"
      },
      "id": "wqGjhyarBmd2",
      "execution_count": 13,
      "outputs": []
    },
    {
      "cell_type": "code",
      "source": [
        "\n",
        "np.argsort(fam_fc_data['GeneID'].values)"
      ],
      "metadata": {
        "id": "yqDhtCAtD8-C",
        "outputId": "624d38cd-3b8b-489e-c984-b8984be02bb0",
        "colab": {
          "base_uri": "https://localhost:8080/"
        }
      },
      "id": "yqDhtCAtD8-C",
      "execution_count": 24,
      "outputs": [
        {
          "output_type": "execute_result",
          "data": {
            "text/plain": [
              "array([1, 0])"
            ]
          },
          "metadata": {},
          "execution_count": 24
        }
      ]
    },
    {
      "cell_type": "code",
      "source": [
        "sort_idxs = np.argsort(fam_fc_data.set_index(['GeneID', 'GeneName']).apply(np.nanmedian, axis=1)).values[::-1]\n",
        "fam_fc_data.iloc[sort_idxs, :]"
      ],
      "metadata": {
        "id": "_yj-3ojZCLJ0",
        "outputId": "af28d3a6-3e83-4ca7-f5d1-effbc7ac85b0",
        "colab": {
          "base_uri": "https://localhost:8080/",
          "height": 205
        }
      },
      "id": "_yj-3ojZCLJ0",
      "execution_count": 19,
      "outputs": [
        {
          "output_type": "execute_result",
          "data": {
            "text/plain": [
              "          GeneID  Tiefora_v_Ngousso_log2FoldChange  Gou_v_Moz_log2FoldChange  \\\n",
              "2178  AGAP006227                              0.46                      0.04   \n",
              "1921  AGAP006228                              0.44                      0.17   \n",
              "\n",
              "      Ban_v_BanS_log2FoldChange  BanRe_v_BanS_log2FoldChange  \\\n",
              "2178                       1.08                         0.32   \n",
              "1921                       0.51                         0.06   \n",
              "\n",
              "      Bak_v_Kisumu_log2FoldChange  VK7_v_Kisumu_log2FoldChange  \\\n",
              "2178                        -0.29                        -0.05   \n",
              "1921                         0.23                         0.26   \n",
              "\n",
              "      Cameroon_v_Ngousso_log2FoldChange  Chad_v_Ngousso_log2FoldChange  \\\n",
              "2178                               0.33                           0.05   \n",
              "1921                               0.12                          -0.37   \n",
              "\n",
              "      Niger_v_Ngousso_log2FoldChange  ...  \\\n",
              "2178                            0.04  ...   \n",
              "1921                           -0.31  ...   \n",
              "\n",
              "      Bouake_gamb_unexp_v_Kisumu_log2FoldChange  \\\n",
              "2178                                      -2.59   \n",
              "1921                                       0.08   \n",
              "\n",
              "      Bouake_colu_exp_v_Ngousso_log2FoldChange  \\\n",
              "2178                                     -0.26   \n",
              "1921                                      0.64   \n",
              "\n",
              "      Bouake_colu_unexp_v_Ngousso_log2FoldChange  \\\n",
              "2178                                       -0.68   \n",
              "1921                                        0.71   \n",
              "\n",
              "      ContTia_v_Ngousso_log2FoldChange  DeltTia_v_Ngousso_log2FoldChange  \\\n",
              "2178                             -1.66                             -0.04   \n",
              "1921                             -0.33                              0.09   \n",
              "\n",
              "      MalaTia_v_Ngousso_log2FoldChange  PiriTia_v_Ngousso_log2FoldChange  \\\n",
              "2178                             -1.58                             -1.14   \n",
              "1921                             -0.55                             -0.38   \n",
              "\n",
              "      BusiaParental_v_Kisumu_log2FoldChange  \\\n",
              "2178                                  -0.80   \n",
              "1921                                  -0.64   \n",
              "\n",
              "      BusiaSurvivors_v_Kisumu_log2FoldChange  GeneName  \n",
              "2178                                   -0.67       NaN  \n",
              "1921                                   -0.84   COEAE2F  \n",
              "\n",
              "[2 rows x 37 columns]"
            ],
            "text/html": [
              "\n",
              "  <div id=\"df-7e28ec49-16de-4c89-9bbd-f2d4f251c4f1\">\n",
              "    <div class=\"colab-df-container\">\n",
              "      <div>\n",
              "<style scoped>\n",
              "    .dataframe tbody tr th:only-of-type {\n",
              "        vertical-align: middle;\n",
              "    }\n",
              "\n",
              "    .dataframe tbody tr th {\n",
              "        vertical-align: top;\n",
              "    }\n",
              "\n",
              "    .dataframe thead th {\n",
              "        text-align: right;\n",
              "    }\n",
              "</style>\n",
              "<table border=\"1\" class=\"dataframe\">\n",
              "  <thead>\n",
              "    <tr style=\"text-align: right;\">\n",
              "      <th></th>\n",
              "      <th>GeneID</th>\n",
              "      <th>Tiefora_v_Ngousso_log2FoldChange</th>\n",
              "      <th>Gou_v_Moz_log2FoldChange</th>\n",
              "      <th>Ban_v_BanS_log2FoldChange</th>\n",
              "      <th>BanRe_v_BanS_log2FoldChange</th>\n",
              "      <th>Bak_v_Kisumu_log2FoldChange</th>\n",
              "      <th>VK7_v_Kisumu_log2FoldChange</th>\n",
              "      <th>Cameroon_v_Ngousso_log2FoldChange</th>\n",
              "      <th>Chad_v_Ngousso_log2FoldChange</th>\n",
              "      <th>Niger_v_Ngousso_log2FoldChange</th>\n",
              "      <th>...</th>\n",
              "      <th>Bouake_gamb_unexp_v_Kisumu_log2FoldChange</th>\n",
              "      <th>Bouake_colu_exp_v_Ngousso_log2FoldChange</th>\n",
              "      <th>Bouake_colu_unexp_v_Ngousso_log2FoldChange</th>\n",
              "      <th>ContTia_v_Ngousso_log2FoldChange</th>\n",
              "      <th>DeltTia_v_Ngousso_log2FoldChange</th>\n",
              "      <th>MalaTia_v_Ngousso_log2FoldChange</th>\n",
              "      <th>PiriTia_v_Ngousso_log2FoldChange</th>\n",
              "      <th>BusiaParental_v_Kisumu_log2FoldChange</th>\n",
              "      <th>BusiaSurvivors_v_Kisumu_log2FoldChange</th>\n",
              "      <th>GeneName</th>\n",
              "    </tr>\n",
              "  </thead>\n",
              "  <tbody>\n",
              "    <tr>\n",
              "      <th>2178</th>\n",
              "      <td>AGAP006227</td>\n",
              "      <td>0.46</td>\n",
              "      <td>0.04</td>\n",
              "      <td>1.08</td>\n",
              "      <td>0.32</td>\n",
              "      <td>-0.29</td>\n",
              "      <td>-0.05</td>\n",
              "      <td>0.33</td>\n",
              "      <td>0.05</td>\n",
              "      <td>0.04</td>\n",
              "      <td>...</td>\n",
              "      <td>-2.59</td>\n",
              "      <td>-0.26</td>\n",
              "      <td>-0.68</td>\n",
              "      <td>-1.66</td>\n",
              "      <td>-0.04</td>\n",
              "      <td>-1.58</td>\n",
              "      <td>-1.14</td>\n",
              "      <td>-0.80</td>\n",
              "      <td>-0.67</td>\n",
              "      <td>NaN</td>\n",
              "    </tr>\n",
              "    <tr>\n",
              "      <th>1921</th>\n",
              "      <td>AGAP006228</td>\n",
              "      <td>0.44</td>\n",
              "      <td>0.17</td>\n",
              "      <td>0.51</td>\n",
              "      <td>0.06</td>\n",
              "      <td>0.23</td>\n",
              "      <td>0.26</td>\n",
              "      <td>0.12</td>\n",
              "      <td>-0.37</td>\n",
              "      <td>-0.31</td>\n",
              "      <td>...</td>\n",
              "      <td>0.08</td>\n",
              "      <td>0.64</td>\n",
              "      <td>0.71</td>\n",
              "      <td>-0.33</td>\n",
              "      <td>0.09</td>\n",
              "      <td>-0.55</td>\n",
              "      <td>-0.38</td>\n",
              "      <td>-0.64</td>\n",
              "      <td>-0.84</td>\n",
              "      <td>COEAE2F</td>\n",
              "    </tr>\n",
              "  </tbody>\n",
              "</table>\n",
              "<p>2 rows × 37 columns</p>\n",
              "</div>\n",
              "      <button class=\"colab-df-convert\" onclick=\"convertToInteractive('df-7e28ec49-16de-4c89-9bbd-f2d4f251c4f1')\"\n",
              "              title=\"Convert this dataframe to an interactive table.\"\n",
              "              style=\"display:none;\">\n",
              "        \n",
              "  <svg xmlns=\"http://www.w3.org/2000/svg\" height=\"24px\"viewBox=\"0 0 24 24\"\n",
              "       width=\"24px\">\n",
              "    <path d=\"M0 0h24v24H0V0z\" fill=\"none\"/>\n",
              "    <path d=\"M18.56 5.44l.94 2.06.94-2.06 2.06-.94-2.06-.94-.94-2.06-.94 2.06-2.06.94zm-11 1L8.5 8.5l.94-2.06 2.06-.94-2.06-.94L8.5 2.5l-.94 2.06-2.06.94zm10 10l.94 2.06.94-2.06 2.06-.94-2.06-.94-.94-2.06-.94 2.06-2.06.94z\"/><path d=\"M17.41 7.96l-1.37-1.37c-.4-.4-.92-.59-1.43-.59-.52 0-1.04.2-1.43.59L10.3 9.45l-7.72 7.72c-.78.78-.78 2.05 0 2.83L4 21.41c.39.39.9.59 1.41.59.51 0 1.02-.2 1.41-.59l7.78-7.78 2.81-2.81c.8-.78.8-2.07 0-2.86zM5.41 20L4 18.59l7.72-7.72 1.47 1.35L5.41 20z\"/>\n",
              "  </svg>\n",
              "      </button>\n",
              "      \n",
              "  <style>\n",
              "    .colab-df-container {\n",
              "      display:flex;\n",
              "      flex-wrap:wrap;\n",
              "      gap: 12px;\n",
              "    }\n",
              "\n",
              "    .colab-df-convert {\n",
              "      background-color: #E8F0FE;\n",
              "      border: none;\n",
              "      border-radius: 50%;\n",
              "      cursor: pointer;\n",
              "      display: none;\n",
              "      fill: #1967D2;\n",
              "      height: 32px;\n",
              "      padding: 0 0 0 0;\n",
              "      width: 32px;\n",
              "    }\n",
              "\n",
              "    .colab-df-convert:hover {\n",
              "      background-color: #E2EBFA;\n",
              "      box-shadow: 0px 1px 2px rgba(60, 64, 67, 0.3), 0px 1px 3px 1px rgba(60, 64, 67, 0.15);\n",
              "      fill: #174EA6;\n",
              "    }\n",
              "\n",
              "    [theme=dark] .colab-df-convert {\n",
              "      background-color: #3B4455;\n",
              "      fill: #D2E3FC;\n",
              "    }\n",
              "\n",
              "    [theme=dark] .colab-df-convert:hover {\n",
              "      background-color: #434B5C;\n",
              "      box-shadow: 0px 1px 3px 1px rgba(0, 0, 0, 0.15);\n",
              "      filter: drop-shadow(0px 1px 2px rgba(0, 0, 0, 0.3));\n",
              "      fill: #FFFFFF;\n",
              "    }\n",
              "  </style>\n",
              "\n",
              "      <script>\n",
              "        const buttonEl =\n",
              "          document.querySelector('#df-7e28ec49-16de-4c89-9bbd-f2d4f251c4f1 button.colab-df-convert');\n",
              "        buttonEl.style.display =\n",
              "          google.colab.kernel.accessAllowed ? 'block' : 'none';\n",
              "\n",
              "        async function convertToInteractive(key) {\n",
              "          const element = document.querySelector('#df-7e28ec49-16de-4c89-9bbd-f2d4f251c4f1');\n",
              "          const dataTable =\n",
              "            await google.colab.kernel.invokeFunction('convertToInteractive',\n",
              "                                                     [key], {});\n",
              "          if (!dataTable) return;\n",
              "\n",
              "          const docLinkHtml = 'Like what you see? Visit the ' +\n",
              "            '<a target=\"_blank\" href=https://colab.research.google.com/notebooks/data_table.ipynb>data table notebook</a>'\n",
              "            + ' to learn more about interactive tables.';\n",
              "          element.innerHTML = '';\n",
              "          dataTable['output_type'] = 'display_data';\n",
              "          await google.colab.output.renderOutput(dataTable, element);\n",
              "          const docLink = document.createElement('div');\n",
              "          docLink.innerHTML = docLinkHtml;\n",
              "          element.appendChild(docLink);\n",
              "        }\n",
              "      </script>\n",
              "    </div>\n",
              "  </div>\n",
              "  "
            ]
          },
          "metadata": {},
          "execution_count": 19
        }
      ]
    },
    {
      "cell_type": "code",
      "source": [
        "  fc_medians = fc_data.apply(np.nanmedian, axis=1).to_frame().rename(columns={0:'median log2 Fold Change'})\n",
        "  fc_medians.sort_values('median log2 Fold Change', ascending=False)"
      ],
      "metadata": {
        "id": "TXdu8FnUBlvV"
      },
      "id": "TXdu8FnUBlvV",
      "execution_count": null,
      "outputs": []
    }
  ],
  "metadata": {
    "colab": {
      "provenance": [],
      "include_colab_link": true
    },
    "kernelspec": {
      "display_name": "Python 3 (ipykernel)",
      "language": "python",
      "name": "python3"
    },
    "language_info": {
      "codemirror_mode": {
        "name": "ipython",
        "version": 3
      },
      "file_extension": ".py",
      "mimetype": "text/x-python",
      "name": "python",
      "nbconvert_exporter": "python",
      "pygments_lexer": "ipython3",
      "version": "3.7.13"
    }
  },
  "nbformat": 4,
  "nbformat_minor": 5
}