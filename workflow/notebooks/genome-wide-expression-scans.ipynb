{
 "cells": [
  {
   "cell_type": "code",
   "execution_count": null,
   "id": "f0ee0179",
   "metadata": {},
   "outputs": [],
   "source": [
    "import anoexpress as xpress"
   ]
  },
  {
   "attachments": {},
   "cell_type": "markdown",
   "id": "1886b971",
   "metadata": {},
   "source": [
    "### Genome-wide expression scans (GWES)\n",
    "\n",
    "In this notebook, we run genome-wide expression scans, plotting fold-changes for each gene on a contig with a moving average."
   ]
  },
  {
   "cell_type": "code",
   "execution_count": null,
   "id": "448d2ff7",
   "metadata": {
    "scrolled": false
   },
   "outputs": [],
   "source": [
    "xpress.plot_contig_expression(\n",
    "    contig='3RL',\n",
    "    analysis='gamb_colu', \n",
    "    microarray=False,\n",
    "    y_range=(-8,10), \n",
    "    size=10,\n",
    "    step=5,\n",
    "    height=400, \n",
    "    width=600)"
   ]
  }
 ],
 "metadata": {
  "kernelspec": {
   "display_name": "Python 3 (ipykernel)",
   "language": "python",
   "name": "python3"
  },
  "language_info": {
   "codemirror_mode": {
    "name": "ipython",
    "version": 3
   },
   "file_extension": ".py",
   "mimetype": "text/x-python",
   "name": "python",
   "nbconvert_exporter": "python",
   "pygments_lexer": "ipython3",
   "version": "3.10.10"
  }
 },
 "nbformat": 4,
 "nbformat_minor": 5
}
